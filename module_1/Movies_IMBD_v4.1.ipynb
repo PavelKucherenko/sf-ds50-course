{
 "cells": [
  {
   "cell_type": "code",
   "execution_count": 2,
   "metadata": {
    "_cell_guid": "b1076dfc-b9ad-4769-8c92-a6c4dae69d19",
    "_uuid": "8f2839f25d086af736a60e9eeb907d3b93b6e0e5",
    "colab": {},
    "colab_type": "code",
    "id": "U2D2gTdJVp90"
   },
   "outputs": [],
   "source": [
    "import pandas as pd\n",
    "import re\n",
    "import itertools\n",
    "import time"
   ]
  },
  {
   "cell_type": "code",
   "execution_count": 3,
   "metadata": {
    "_cell_guid": "79c7e3d0-c299-4dcb-8224-4455121ee9b0",
    "_uuid": "d629ff2d2480ee46fbb7e2d37f6b5fab8052498a",
    "colab": {},
    "colab_type": "code",
    "id": "oyGfxL3eVp9-"
   },
   "outputs": [
    {
     "data": {
      "text/plain": "        imdb_id     budget    revenue  \\\n790   tt1210166   50000000  110206216   \n142   tt1872181  200000000  705717432   \n1677  tt0884328   18000000   57096190   \n1615  tt0368933   40000000   95149435   \n1406  tt0365485   10000000   17297244   \n\n                                original_title  \\\n790                                  Moneyball   \n142                   The Amazing Spider-Man 2   \n1677                                  The Mist   \n1615  The Princess Diaries 2: Royal Engagement   \n1406                               The Matador   \n\n                                                   cast         director  \\\n790   Brad Pitt|Jonah Hill|Robin Wright|Philip Seymo...   Bennett Miller   \n142   Andrew Garfield|Emma Stone|Jamie Foxx|Dane DeH...        Marc Webb   \n1677  Thomas Jane|Marcia Gay Harden|Laurie Holden|To...   Frank Darabont   \n1615  Anne Hathaway|Julie Andrews|HÃ©ctor Elizondo|J...   Garry Marshall   \n1406  Pierce Brosnan|Greg Kinnear|Hope Davis|Portia ...  Richard Shepard   \n\n                                                tagline  \\\n790                          What are you really worth?   \n142                                    No more secrets.   \n1677  Belief divides them, mystery surrounds them, b...   \n1615  It can take a lifetime to find true love; she'...   \n1406         A hitman and a salesman walk into a bar...   \n\n                                               overview  runtime  \\\n790   The story of Oakland Athletics general manager...      133   \n142   For Peter Parker, life is busy. Between taking...      142   \n1677  After a violent storm, a dense cloud of mist e...      126   \n1615  Mia Thermopolis is now a college graduate and ...      113   \n1406  The life of Danny Wright, a salesman forever o...       96   \n\n                                  genres  \\\n790                                Drama   \n142             Action|Adventure|Fantasy   \n1677     Science Fiction|Horror|Thriller   \n1615         Comedy|Drama|Family|Romance   \n1406  Action|Comedy|Crime|Drama|Thriller   \n\n                                   production_companies release_date  \\\n790           Columbia Pictures|Scott Rudin Productions    9/22/2011   \n142   Columbia Pictures|Marvel Enterprises|Avi Arad ...    4/16/2014   \n1677              Darkwoods Productions|Dimension Films   11/21/2007   \n1615                               Walt Disney Pictures     8/6/2004   \n1406                                      Miramax Films    5/12/2005   \n\n      vote_average  release_year  \n790            6.9          2011  \n142            6.6          2014  \n1677           6.6          2007  \n1615           5.9          2004  \n1406           6.0          2005  ",
      "text/html": "<div>\n<style scoped>\n    .dataframe tbody tr th:only-of-type {\n        vertical-align: middle;\n    }\n\n    .dataframe tbody tr th {\n        vertical-align: top;\n    }\n\n    .dataframe thead th {\n        text-align: right;\n    }\n</style>\n<table border=\"1\" class=\"dataframe\">\n  <thead>\n    <tr style=\"text-align: right;\">\n      <th></th>\n      <th>imdb_id</th>\n      <th>budget</th>\n      <th>revenue</th>\n      <th>original_title</th>\n      <th>cast</th>\n      <th>director</th>\n      <th>tagline</th>\n      <th>overview</th>\n      <th>runtime</th>\n      <th>genres</th>\n      <th>production_companies</th>\n      <th>release_date</th>\n      <th>vote_average</th>\n      <th>release_year</th>\n    </tr>\n  </thead>\n  <tbody>\n    <tr>\n      <th>790</th>\n      <td>tt1210166</td>\n      <td>50000000</td>\n      <td>110206216</td>\n      <td>Moneyball</td>\n      <td>Brad Pitt|Jonah Hill|Robin Wright|Philip Seymo...</td>\n      <td>Bennett Miller</td>\n      <td>What are you really worth?</td>\n      <td>The story of Oakland Athletics general manager...</td>\n      <td>133</td>\n      <td>Drama</td>\n      <td>Columbia Pictures|Scott Rudin Productions</td>\n      <td>9/22/2011</td>\n      <td>6.9</td>\n      <td>2011</td>\n    </tr>\n    <tr>\n      <th>142</th>\n      <td>tt1872181</td>\n      <td>200000000</td>\n      <td>705717432</td>\n      <td>The Amazing Spider-Man 2</td>\n      <td>Andrew Garfield|Emma Stone|Jamie Foxx|Dane DeH...</td>\n      <td>Marc Webb</td>\n      <td>No more secrets.</td>\n      <td>For Peter Parker, life is busy. Between taking...</td>\n      <td>142</td>\n      <td>Action|Adventure|Fantasy</td>\n      <td>Columbia Pictures|Marvel Enterprises|Avi Arad ...</td>\n      <td>4/16/2014</td>\n      <td>6.6</td>\n      <td>2014</td>\n    </tr>\n    <tr>\n      <th>1677</th>\n      <td>tt0884328</td>\n      <td>18000000</td>\n      <td>57096190</td>\n      <td>The Mist</td>\n      <td>Thomas Jane|Marcia Gay Harden|Laurie Holden|To...</td>\n      <td>Frank Darabont</td>\n      <td>Belief divides them, mystery surrounds them, b...</td>\n      <td>After a violent storm, a dense cloud of mist e...</td>\n      <td>126</td>\n      <td>Science Fiction|Horror|Thriller</td>\n      <td>Darkwoods Productions|Dimension Films</td>\n      <td>11/21/2007</td>\n      <td>6.6</td>\n      <td>2007</td>\n    </tr>\n    <tr>\n      <th>1615</th>\n      <td>tt0368933</td>\n      <td>40000000</td>\n      <td>95149435</td>\n      <td>The Princess Diaries 2: Royal Engagement</td>\n      <td>Anne Hathaway|Julie Andrews|HÃ©ctor Elizondo|J...</td>\n      <td>Garry Marshall</td>\n      <td>It can take a lifetime to find true love; she'...</td>\n      <td>Mia Thermopolis is now a college graduate and ...</td>\n      <td>113</td>\n      <td>Comedy|Drama|Family|Romance</td>\n      <td>Walt Disney Pictures</td>\n      <td>8/6/2004</td>\n      <td>5.9</td>\n      <td>2004</td>\n    </tr>\n    <tr>\n      <th>1406</th>\n      <td>tt0365485</td>\n      <td>10000000</td>\n      <td>17297244</td>\n      <td>The Matador</td>\n      <td>Pierce Brosnan|Greg Kinnear|Hope Davis|Portia ...</td>\n      <td>Richard Shepard</td>\n      <td>A hitman and a salesman walk into a bar...</td>\n      <td>The life of Danny Wright, a salesman forever o...</td>\n      <td>96</td>\n      <td>Action|Comedy|Crime|Drama|Thriller</td>\n      <td>Miramax Films</td>\n      <td>5/12/2005</td>\n      <td>6.0</td>\n      <td>2005</td>\n    </tr>\n  </tbody>\n</table>\n</div>"
     },
     "execution_count": 3,
     "metadata": {},
     "output_type": "execute_result"
    }
   ],
   "source": [
    "movies = pd.read_csv('../Data/movie_bd_v5.csv')\n",
    "movies.sample(5)"
   ]
  },
  {
   "cell_type": "code",
   "execution_count": 4,
   "metadata": {
    "colab": {},
    "colab_type": "code",
    "id": "CoYUnagMVp-C"
   },
   "outputs": [
    {
     "data": {
      "text/plain": "             budget       revenue      runtime  vote_average  release_year\ncount  1.889000e+03  1.889000e+03  1889.000000   1889.000000   1889.000000\nmean   5.431083e+07  1.553653e+08   109.658549      6.140762   2007.860773\nstd    4.858721e+07  2.146698e+08    18.017041      0.764763      4.468841\nmin    5.000000e+06  2.033165e+06    63.000000      3.300000   2000.000000\n25%    2.000000e+07  3.456058e+07    97.000000      5.600000   2004.000000\n50%    3.800000e+07  8.361541e+07   107.000000      6.100000   2008.000000\n75%    7.200000e+07  1.782626e+08   120.000000      6.600000   2012.000000\nmax    3.800000e+08  2.781506e+09   214.000000      8.100000   2015.000000",
      "text/html": "<div>\n<style scoped>\n    .dataframe tbody tr th:only-of-type {\n        vertical-align: middle;\n    }\n\n    .dataframe tbody tr th {\n        vertical-align: top;\n    }\n\n    .dataframe thead th {\n        text-align: right;\n    }\n</style>\n<table border=\"1\" class=\"dataframe\">\n  <thead>\n    <tr style=\"text-align: right;\">\n      <th></th>\n      <th>budget</th>\n      <th>revenue</th>\n      <th>runtime</th>\n      <th>vote_average</th>\n      <th>release_year</th>\n    </tr>\n  </thead>\n  <tbody>\n    <tr>\n      <th>count</th>\n      <td>1.889000e+03</td>\n      <td>1.889000e+03</td>\n      <td>1889.000000</td>\n      <td>1889.000000</td>\n      <td>1889.000000</td>\n    </tr>\n    <tr>\n      <th>mean</th>\n      <td>5.431083e+07</td>\n      <td>1.553653e+08</td>\n      <td>109.658549</td>\n      <td>6.140762</td>\n      <td>2007.860773</td>\n    </tr>\n    <tr>\n      <th>std</th>\n      <td>4.858721e+07</td>\n      <td>2.146698e+08</td>\n      <td>18.017041</td>\n      <td>0.764763</td>\n      <td>4.468841</td>\n    </tr>\n    <tr>\n      <th>min</th>\n      <td>5.000000e+06</td>\n      <td>2.033165e+06</td>\n      <td>63.000000</td>\n      <td>3.300000</td>\n      <td>2000.000000</td>\n    </tr>\n    <tr>\n      <th>25%</th>\n      <td>2.000000e+07</td>\n      <td>3.456058e+07</td>\n      <td>97.000000</td>\n      <td>5.600000</td>\n      <td>2004.000000</td>\n    </tr>\n    <tr>\n      <th>50%</th>\n      <td>3.800000e+07</td>\n      <td>8.361541e+07</td>\n      <td>107.000000</td>\n      <td>6.100000</td>\n      <td>2008.000000</td>\n    </tr>\n    <tr>\n      <th>75%</th>\n      <td>7.200000e+07</td>\n      <td>1.782626e+08</td>\n      <td>120.000000</td>\n      <td>6.600000</td>\n      <td>2012.000000</td>\n    </tr>\n    <tr>\n      <th>max</th>\n      <td>3.800000e+08</td>\n      <td>2.781506e+09</td>\n      <td>214.000000</td>\n      <td>8.100000</td>\n      <td>2015.000000</td>\n    </tr>\n  </tbody>\n</table>\n</div>"
     },
     "execution_count": 4,
     "metadata": {},
     "output_type": "execute_result"
    }
   ],
   "source": [
    "movies.describe()"
   ]
  },
  {
   "cell_type": "markdown",
   "metadata": {
    "colab_type": "text",
    "id": "DTIt7ezGVp-G"
   },
   "source": [
    "# Предобработка"
   ]
  },
  {
   "cell_type": "code",
   "execution_count": 5,
   "metadata": {
    "colab": {},
    "colab_type": "code",
    "id": "jNb40DwKVp-H"
   },
   "outputs": [
    {
     "name": "stdout",
     "output_type": "stream",
     "text": [
      "Preprocessing: 'profit' column was successfully added to movies db.\n"
     ]
    }
   ],
   "source": [
    "answers = {} # создадим словарь для ответов\n",
    "\n",
    "# Prepare extended movies db for further using\n",
    "# add profit column\n",
    "movies_ext = movies.copy()\n",
    "movies_ext['profit'] = movies_ext.revenue - movies_ext.budget\n",
    "\n",
    "# and move it after 'revenue' (before 'original_title') column\n",
    "cols = movies_ext.columns.tolist()\n",
    "cols.insert(cols.index('original_title'), cols.pop())\n",
    "movies_ext = movies_ext[cols]\n",
    "print(f'Preprocessing: \\'profit\\' column was successfully added to movies db.')\n",
    "\n",
    "# === Functions ===\n",
    "def separated_text_to_list(s, sep='|'):\n",
    "    return s.split(sep)\n",
    "\n",
    "def extract_month(date_str):\n",
    "    return int(separated_text_to_list(date_str, sep='/')[0])\n",
    "\n",
    "def count_words(text):\n",
    "    return len(re.findall(r'\\w+', text))"
   ]
  },
  {
   "cell_type": "code",
   "execution_count": 5,
   "outputs": [],
   "source": [],
   "metadata": {
    "collapsed": false,
    "pycharm": {
     "name": "#%%\n"
    }
   }
  },
  {
   "cell_type": "markdown",
   "metadata": {
    "colab_type": "text",
    "id": "YxZaH-nPVp-L"
   },
   "source": [
    "# 1. У какого фильма из списка самый большой бюджет?"
   ]
  },
  {
   "cell_type": "code",
   "execution_count": 6,
   "metadata": {
    "colab": {},
    "colab_type": "code",
    "id": "uVnXAY5RVp-O"
   },
   "outputs": [],
   "source": [
    "# +\n",
    "answers['1'] = 'Pirates of the Caribbean: On Stranger Tides'"
   ]
  },
  {
   "cell_type": "code",
   "execution_count": 7,
   "metadata": {
    "colab": {},
    "colab_type": "code",
    "id": "dZwb3m28Vp-S"
   },
   "outputs": [
    {
     "data": {
      "text/plain": "       imdb_id     budget     revenue  \\\n723  tt1298650  380000000  1021683000   \n\n                                  original_title  \\\n723  Pirates of the Caribbean: On Stranger Tides   \n\n                                                  cast      director  \\\n723  Johnny Depp|PenÃ©lope Cruz|Geoffrey Rush|Ian M...  Rob Marshall   \n\n                         tagline  \\\n723  Live Forever Or Die Trying.   \n\n                                              overview  runtime  \\\n723  Captain Jack Sparrow crosses paths with a woma...      136   \n\n                       genres  \\\n723  Adventure|Action|Fantasy   \n\n                                  production_companies release_date  \\\n723  Walt Disney Pictures|Jerry Bruckheimer Films|M...    5/11/2011   \n\n     vote_average  release_year  \n723           6.3          2011  ",
      "text/html": "<div>\n<style scoped>\n    .dataframe tbody tr th:only-of-type {\n        vertical-align: middle;\n    }\n\n    .dataframe tbody tr th {\n        vertical-align: top;\n    }\n\n    .dataframe thead th {\n        text-align: right;\n    }\n</style>\n<table border=\"1\" class=\"dataframe\">\n  <thead>\n    <tr style=\"text-align: right;\">\n      <th></th>\n      <th>imdb_id</th>\n      <th>budget</th>\n      <th>revenue</th>\n      <th>original_title</th>\n      <th>cast</th>\n      <th>director</th>\n      <th>tagline</th>\n      <th>overview</th>\n      <th>runtime</th>\n      <th>genres</th>\n      <th>production_companies</th>\n      <th>release_date</th>\n      <th>vote_average</th>\n      <th>release_year</th>\n    </tr>\n  </thead>\n  <tbody>\n    <tr>\n      <th>723</th>\n      <td>tt1298650</td>\n      <td>380000000</td>\n      <td>1021683000</td>\n      <td>Pirates of the Caribbean: On Stranger Tides</td>\n      <td>Johnny Depp|PenÃ©lope Cruz|Geoffrey Rush|Ian M...</td>\n      <td>Rob Marshall</td>\n      <td>Live Forever Or Die Trying.</td>\n      <td>Captain Jack Sparrow crosses paths with a woma...</td>\n      <td>136</td>\n      <td>Adventure|Action|Fantasy</td>\n      <td>Walt Disney Pictures|Jerry Bruckheimer Films|M...</td>\n      <td>5/11/2011</td>\n      <td>6.3</td>\n      <td>2011</td>\n    </tr>\n  </tbody>\n</table>\n</div>"
     },
     "execution_count": 7,
     "metadata": {},
     "output_type": "execute_result"
    }
   ],
   "source": [
    "movies[movies.budget == movies.budget.max()]"
   ]
  },
  {
   "cell_type": "markdown",
   "metadata": {
    "colab_type": "text",
    "id": "FNRbbI3vVp-c"
   },
   "source": [
    "# 2. Какой из фильмов самый длительный (в минутах)?"
   ]
  },
  {
   "cell_type": "code",
   "execution_count": 8,
   "metadata": {
    "colab": {},
    "colab_type": "code",
    "id": "vHAoEXNTVp-d"
   },
   "outputs": [],
   "source": [
    "# +\n",
    "answers['2'] = 'Gods and Generals'"
   ]
  },
  {
   "cell_type": "code",
   "execution_count": 9,
   "metadata": {
    "colab": {},
    "colab_type": "code",
    "id": "ot-VX2XrVp-g"
   },
   "outputs": [
    {
     "data": {
      "text/plain": "        imdb_id    budget   revenue     original_title  \\\n1157  tt0279111  56000000  12923936  Gods and Generals   \n\n                                                   cast           director  \\\n1157  Stephen Lang|Jeff Daniels|Robert Duvall|Kevin ...  Ronald F. Maxwell   \n\n                                  tagline  \\\n1157  The nations heart was touched by...   \n\n                                               overview  runtime  \\\n1157  The film centers mostly around the personal an...      214   \n\n                 genres                production_companies release_date  \\\n1157  Drama|History|War  Turner Pictures|Antietam Filmworks    2/21/2003   \n\n      vote_average  release_year  \n1157           5.8          2003  ",
      "text/html": "<div>\n<style scoped>\n    .dataframe tbody tr th:only-of-type {\n        vertical-align: middle;\n    }\n\n    .dataframe tbody tr th {\n        vertical-align: top;\n    }\n\n    .dataframe thead th {\n        text-align: right;\n    }\n</style>\n<table border=\"1\" class=\"dataframe\">\n  <thead>\n    <tr style=\"text-align: right;\">\n      <th></th>\n      <th>imdb_id</th>\n      <th>budget</th>\n      <th>revenue</th>\n      <th>original_title</th>\n      <th>cast</th>\n      <th>director</th>\n      <th>tagline</th>\n      <th>overview</th>\n      <th>runtime</th>\n      <th>genres</th>\n      <th>production_companies</th>\n      <th>release_date</th>\n      <th>vote_average</th>\n      <th>release_year</th>\n    </tr>\n  </thead>\n  <tbody>\n    <tr>\n      <th>1157</th>\n      <td>tt0279111</td>\n      <td>56000000</td>\n      <td>12923936</td>\n      <td>Gods and Generals</td>\n      <td>Stephen Lang|Jeff Daniels|Robert Duvall|Kevin ...</td>\n      <td>Ronald F. Maxwell</td>\n      <td>The nations heart was touched by...</td>\n      <td>The film centers mostly around the personal an...</td>\n      <td>214</td>\n      <td>Drama|History|War</td>\n      <td>Turner Pictures|Antietam Filmworks</td>\n      <td>2/21/2003</td>\n      <td>5.8</td>\n      <td>2003</td>\n    </tr>\n  </tbody>\n</table>\n</div>"
     },
     "execution_count": 9,
     "metadata": {},
     "output_type": "execute_result"
    }
   ],
   "source": [
    "movies[movies.runtime == movies.runtime.max()]"
   ]
  },
  {
   "cell_type": "markdown",
   "metadata": {
    "colab_type": "text",
    "id": "bapLlpW8Vp-k"
   },
   "source": [
    "# 3. Какой из фильмов самый короткий (в минутах)?"
   ]
  },
  {
   "cell_type": "code",
   "execution_count": 10,
   "outputs": [],
   "source": [
    "# +\n",
    "answers['3'] = 'Winnie the Pooh'"
   ],
   "metadata": {
    "collapsed": false,
    "pycharm": {
     "name": "#%%\n"
    }
   }
  },
  {
   "cell_type": "code",
   "execution_count": 11,
   "metadata": {
    "colab": {},
    "colab_type": "code",
    "id": "YBxaSHuAVp-l"
   },
   "outputs": [
    {
     "data": {
      "text/plain": "       imdb_id    budget   revenue   original_title  \\\n768  tt1449283  30000000  14460000  Winnie the Pooh   \n\n                                                  cast  \\\n768  Jim Cummings|Travis Oates|Jim Cummings|Bud Luc...   \n\n                      director   tagline  \\\n768  Stephen Anderson|Don Hall  Oh Pooh.   \n\n                                              overview  runtime  \\\n768  During an ordinary day in Hundred Acre Wood, W...       63   \n\n               genres                               production_companies  \\\n768  Animation|Family  Walt Disney Pictures|Walt Disney Animation Stu...   \n\n    release_date  vote_average  release_year  \n768    4/13/2011           6.8          2011  ",
      "text/html": "<div>\n<style scoped>\n    .dataframe tbody tr th:only-of-type {\n        vertical-align: middle;\n    }\n\n    .dataframe tbody tr th {\n        vertical-align: top;\n    }\n\n    .dataframe thead th {\n        text-align: right;\n    }\n</style>\n<table border=\"1\" class=\"dataframe\">\n  <thead>\n    <tr style=\"text-align: right;\">\n      <th></th>\n      <th>imdb_id</th>\n      <th>budget</th>\n      <th>revenue</th>\n      <th>original_title</th>\n      <th>cast</th>\n      <th>director</th>\n      <th>tagline</th>\n      <th>overview</th>\n      <th>runtime</th>\n      <th>genres</th>\n      <th>production_companies</th>\n      <th>release_date</th>\n      <th>vote_average</th>\n      <th>release_year</th>\n    </tr>\n  </thead>\n  <tbody>\n    <tr>\n      <th>768</th>\n      <td>tt1449283</td>\n      <td>30000000</td>\n      <td>14460000</td>\n      <td>Winnie the Pooh</td>\n      <td>Jim Cummings|Travis Oates|Jim Cummings|Bud Luc...</td>\n      <td>Stephen Anderson|Don Hall</td>\n      <td>Oh Pooh.</td>\n      <td>During an ordinary day in Hundred Acre Wood, W...</td>\n      <td>63</td>\n      <td>Animation|Family</td>\n      <td>Walt Disney Pictures|Walt Disney Animation Stu...</td>\n      <td>4/13/2011</td>\n      <td>6.8</td>\n      <td>2011</td>\n    </tr>\n  </tbody>\n</table>\n</div>"
     },
     "execution_count": 11,
     "metadata": {},
     "output_type": "execute_result"
    }
   ],
   "source": [
    "movies[movies.runtime == movies.runtime.min()]"
   ]
  },
  {
   "cell_type": "markdown",
   "metadata": {
    "colab_type": "text",
    "id": "TfQbxbfNVp-p"
   },
   "source": [
    "# 4. Какова средняя длительность фильмов?"
   ]
  },
  {
   "cell_type": "code",
   "execution_count": 12,
   "outputs": [],
   "source": [
    "# +\n",
    "answers['4'] = '110'"
   ],
   "metadata": {
    "collapsed": false,
    "pycharm": {
     "name": "#%%\n"
    }
   }
  },
  {
   "cell_type": "code",
   "execution_count": 13,
   "metadata": {
    "colab": {},
    "colab_type": "code",
    "id": "5K6dKZYVVp-q"
   },
   "outputs": [
    {
     "name": "stdout",
     "output_type": "stream",
     "text": [
      "runtime_mean=109.6585494970884 (110)\n"
     ]
    }
   ],
   "source": [
    "runtime_mean = movies.runtime.mean()\n",
    "print(f'runtime_mean={runtime_mean} ({round(runtime_mean)})')"
   ]
  },
  {
   "cell_type": "markdown",
   "metadata": {
    "colab_type": "text",
    "id": "r5TvbnT_Vp-u"
   },
   "source": [
    "# 5. Каково медианное значение длительности фильмов?"
   ]
  },
  {
   "cell_type": "code",
   "execution_count": 14,
   "outputs": [],
   "source": [
    "# +\n",
    "answers['5'] = '107'"
   ],
   "metadata": {
    "collapsed": false,
    "pycharm": {
     "name": "#%%\n"
    }
   }
  },
  {
   "cell_type": "code",
   "execution_count": 15,
   "metadata": {
    "colab": {},
    "colab_type": "code",
    "id": "iBROplKnVp-v"
   },
   "outputs": [
    {
     "data": {
      "text/plain": "107.0"
     },
     "execution_count": 15,
     "metadata": {},
     "output_type": "execute_result"
    }
   ],
   "source": [
    "movies.runtime.median()"
   ]
  },
  {
   "cell_type": "markdown",
   "metadata": {
    "colab_type": "text",
    "id": "39P-deDSVp-y"
   },
   "source": [
    "# 6. Какой самый прибыльный фильм?\n",
    "#### Внимание! Здесь и далее под «прибылью» или «убытками» понимается разность между сборами и бюджетом фильма. (прибыль = сборы - бюджет) в нашем датасете это будет (profit = revenue - budget) "
   ]
  },
  {
   "cell_type": "code",
   "execution_count": 16,
   "outputs": [],
   "source": [
    "# +\n",
    "answers['6'] = 'Avatar'"
   ],
   "metadata": {
    "collapsed": false,
    "pycharm": {
     "name": "#%%\n"
    }
   }
  },
  {
   "cell_type": "code",
   "execution_count": 17,
   "outputs": [
    {
     "data": {
      "text/plain": "       imdb_id     budget     revenue      profit original_title  \\\n239  tt0499549  237000000  2781505847  2544505847         Avatar   \n\n                                                  cast       director  \\\n239  Sam Worthington|Zoe Saldana|Sigourney Weaver|S...  James Cameron   \n\n                         tagline  \\\n239  Enter the World of Pandora.   \n\n                                              overview  runtime  \\\n239  In the 22nd century, a paraplegic Marine is di...      162   \n\n                                       genres  \\\n239  Action|Adventure|Fantasy|Science Fiction   \n\n                                  production_companies release_date  \\\n239  Ingenious Film Partners|Twentieth Century Fox ...   12/10/2009   \n\n     vote_average  release_year  \n239           7.1          2009  ",
      "text/html": "<div>\n<style scoped>\n    .dataframe tbody tr th:only-of-type {\n        vertical-align: middle;\n    }\n\n    .dataframe tbody tr th {\n        vertical-align: top;\n    }\n\n    .dataframe thead th {\n        text-align: right;\n    }\n</style>\n<table border=\"1\" class=\"dataframe\">\n  <thead>\n    <tr style=\"text-align: right;\">\n      <th></th>\n      <th>imdb_id</th>\n      <th>budget</th>\n      <th>revenue</th>\n      <th>profit</th>\n      <th>original_title</th>\n      <th>cast</th>\n      <th>director</th>\n      <th>tagline</th>\n      <th>overview</th>\n      <th>runtime</th>\n      <th>genres</th>\n      <th>production_companies</th>\n      <th>release_date</th>\n      <th>vote_average</th>\n      <th>release_year</th>\n    </tr>\n  </thead>\n  <tbody>\n    <tr>\n      <th>239</th>\n      <td>tt0499549</td>\n      <td>237000000</td>\n      <td>2781505847</td>\n      <td>2544505847</td>\n      <td>Avatar</td>\n      <td>Sam Worthington|Zoe Saldana|Sigourney Weaver|S...</td>\n      <td>James Cameron</td>\n      <td>Enter the World of Pandora.</td>\n      <td>In the 22nd century, a paraplegic Marine is di...</td>\n      <td>162</td>\n      <td>Action|Adventure|Fantasy|Science Fiction</td>\n      <td>Ingenious Film Partners|Twentieth Century Fox ...</td>\n      <td>12/10/2009</td>\n      <td>7.1</td>\n      <td>2009</td>\n    </tr>\n  </tbody>\n</table>\n</div>"
     },
     "execution_count": 17,
     "metadata": {},
     "output_type": "execute_result"
    }
   ],
   "source": [
    "movies_ext[movies_ext.profit == movies_ext.profit.max()]"
   ],
   "metadata": {
    "collapsed": false,
    "pycharm": {
     "name": "#%%\n"
    }
   }
  },
  {
   "cell_type": "markdown",
   "metadata": {
    "colab_type": "text",
    "id": "M99JmIX4Vp-2"
   },
   "source": [
    "# 7. Какой фильм самый убыточный? "
   ]
  },
  {
   "cell_type": "code",
   "execution_count": 18,
   "metadata": {
    "colab": {},
    "colab_type": "code",
    "id": "w-D2m4XPVp-3"
   },
   "outputs": [],
   "source": [
    "# +\n",
    "answers['7'] = 'The Lone Ranger'"
   ]
  },
  {
   "cell_type": "code",
   "execution_count": 19,
   "outputs": [
    {
     "data": {
      "text/plain": "        imdb_id     budget   revenue     profit   original_title  \\\n1245  tt1210819  255000000  89289910 -165710090  The Lone Ranger   \n\n                                                   cast        director  \\\n1245  Johnny Depp|Armie Hammer|William Fichtner|Hele...  Gore Verbinski   \n\n                      tagline  \\\n1245  Never Take Off the Mask   \n\n                                               overview  runtime  \\\n1245  The Texas Rangers chase down a gang of outlaws...      149   \n\n                        genres  \\\n1245  Action|Adventure|Western   \n\n                                   production_companies release_date  \\\n1245  Walt Disney Pictures|Jerry Bruckheimer Films|I...     7/3/2013   \n\n      vote_average  release_year  \n1245           6.0          2013  ",
      "text/html": "<div>\n<style scoped>\n    .dataframe tbody tr th:only-of-type {\n        vertical-align: middle;\n    }\n\n    .dataframe tbody tr th {\n        vertical-align: top;\n    }\n\n    .dataframe thead th {\n        text-align: right;\n    }\n</style>\n<table border=\"1\" class=\"dataframe\">\n  <thead>\n    <tr style=\"text-align: right;\">\n      <th></th>\n      <th>imdb_id</th>\n      <th>budget</th>\n      <th>revenue</th>\n      <th>profit</th>\n      <th>original_title</th>\n      <th>cast</th>\n      <th>director</th>\n      <th>tagline</th>\n      <th>overview</th>\n      <th>runtime</th>\n      <th>genres</th>\n      <th>production_companies</th>\n      <th>release_date</th>\n      <th>vote_average</th>\n      <th>release_year</th>\n    </tr>\n  </thead>\n  <tbody>\n    <tr>\n      <th>1245</th>\n      <td>tt1210819</td>\n      <td>255000000</td>\n      <td>89289910</td>\n      <td>-165710090</td>\n      <td>The Lone Ranger</td>\n      <td>Johnny Depp|Armie Hammer|William Fichtner|Hele...</td>\n      <td>Gore Verbinski</td>\n      <td>Never Take Off the Mask</td>\n      <td>The Texas Rangers chase down a gang of outlaws...</td>\n      <td>149</td>\n      <td>Action|Adventure|Western</td>\n      <td>Walt Disney Pictures|Jerry Bruckheimer Films|I...</td>\n      <td>7/3/2013</td>\n      <td>6.0</td>\n      <td>2013</td>\n    </tr>\n  </tbody>\n</table>\n</div>"
     },
     "execution_count": 19,
     "metadata": {},
     "output_type": "execute_result"
    }
   ],
   "source": [
    "movies_ext[movies_ext.profit == movies_ext.profit.min()]"
   ],
   "metadata": {
    "collapsed": false,
    "pycharm": {
     "name": "#%%\n"
    }
   }
  },
  {
   "cell_type": "markdown",
   "metadata": {
    "colab_type": "text",
    "id": "wEOM5ERVVp-6"
   },
   "source": [
    "# 8. У скольких фильмов из датасета объем сборов оказался выше бюджета?"
   ]
  },
  {
   "cell_type": "code",
   "execution_count": 20,
   "outputs": [],
   "source": [
    "# +\n",
    "answers['8'] = '1478'"
   ],
   "metadata": {
    "collapsed": false,
    "pycharm": {
     "name": "#%%\n"
    }
   }
  },
  {
   "cell_type": "code",
   "execution_count": 21,
   "metadata": {
    "colab": {},
    "colab_type": "code",
    "id": "y00_7HD6Vp-7"
   },
   "outputs": [
    {
     "data": {
      "text/plain": "1478"
     },
     "execution_count": 21,
     "metadata": {},
     "output_type": "execute_result"
    }
   ],
   "source": [
    "len(movies[movies.revenue > movies.budget].index)"
   ]
  },
  {
   "cell_type": "markdown",
   "source": [
    "ВАРИАНТ 2"
   ],
   "metadata": {
    "collapsed": false,
    "pycharm": {
     "name": "#%% md\n"
    }
   }
  },
  {
   "cell_type": "code",
   "execution_count": 22,
   "outputs": [
    {
     "data": {
      "text/plain": "1478"
     },
     "execution_count": 22,
     "metadata": {},
     "output_type": "execute_result"
    }
   ],
   "source": [
    "len(movies_ext[movies_ext.profit > 0].index)"
   ],
   "metadata": {
    "collapsed": false,
    "pycharm": {
     "name": "#%%\n"
    }
   }
  },
  {
   "cell_type": "markdown",
   "metadata": {
    "colab_type": "text",
    "id": "xhpspA9KVp_A"
   },
   "source": [
    "# 9. Какой фильм оказался самым кассовым в 2008 году?"
   ]
  },
  {
   "cell_type": "code",
   "execution_count": 23,
   "outputs": [],
   "source": [
    "# +\n",
    "answers['9'] = 'The Dark Knight'"
   ],
   "metadata": {
    "collapsed": false,
    "pycharm": {
     "name": "#%%\n"
    }
   }
  },
  {
   "cell_type": "code",
   "execution_count": 24,
   "metadata": {
    "colab": {},
    "colab_type": "code",
    "id": "MoUyQr9RVp_B"
   },
   "outputs": [
    {
     "data": {
      "text/plain": "imdb_id                                                         tt0468569\nbudget                                                          185000000\nrevenue                                                        1001921825\noriginal_title                                            The Dark Knight\ncast                    Christian Bale|Michael Caine|Heath Ledger|Aaro...\ndirector                                                Christopher Nolan\ntagline                                                   Why So Serious?\noverview                Batman raises the stakes in his war on crime. ...\nruntime                                                               152\ngenres                                        Drama|Action|Crime|Thriller\nproduction_companies    DC Comics|Legendary Pictures|Warner Bros.|Syncopy\nrelease_date                                                    7/16/2008\nvote_average                                                          8.1\nrelease_year                                                         2008\nName: 599, dtype: object"
     },
     "execution_count": 24,
     "metadata": {},
     "output_type": "execute_result"
    }
   ],
   "source": [
    "movies_2008 = movies[movies.release_year == 2008]\n",
    "movies_2008.iloc[movies_2008['revenue'].argmax()]"
   ]
  },
  {
   "cell_type": "markdown",
   "source": [
    "ВАРИАНТ 2"
   ],
   "metadata": {
    "collapsed": false
   }
  },
  {
   "cell_type": "code",
   "execution_count": 25,
   "outputs": [
    {
     "data": {
      "text/plain": "       imdb_id     budget     revenue  \\\n599  tt0468569  185000000  1001921825   \n603  tt0367882  185000000   786636033   \n606  tt0441773  130000000   631744560   \n621  tt0448157  150000000   624029371   \n607  tt0795421   52000000   609841637   \n..         ...        ...         ...   \n708  tt0486674   25000000     6673422   \n673  tt0800241   15000000     5926410   \n702  tt0844286   20000000     5530764   \n711  tt0805570   15000000     3533227   \n712  tt0490181    8000000     2033165   \n\n                                        original_title  \\\n599                                    The Dark Knight   \n603  Indiana Jones and the Kingdom of the Crystal S...   \n606                                      Kung Fu Panda   \n621                                            Hancock   \n607                                         Mamma Mia!   \n..                                                 ...   \n708                                 What Just Happened   \n673                                      Transsiberian   \n702                                 The Brothers Bloom   \n711                            The Midnight Meat Train   \n712                                  Mutant Chronicles   \n\n                                                  cast  \\\n599  Christian Bale|Michael Caine|Heath Ledger|Aaro...   \n603  Harrison Ford|Cate Blanchett|Shia LaBeouf|Ray ...   \n606  Jack Black|Dustin Hoffman|Angelina Jolie|Jacki...   \n621  Will Smith|Charlize Theron|Jason Bateman|Jae H...   \n607  Meryl Streep|Pierce Brosnan|Amanda Seyfried|Co...   \n..                                                 ...   \n708  Bruce Willis|Robert De Niro|Sean Penn|Robin Wr...   \n673  Woody Harrelson|Emily Mortimer|Kate Mara|Eduar...   \n702  Rachel Weisz|Adrien Brody|Mark Ruffalo|Rinko K...   \n711  Bradley Cooper|Vinnie Jones|Brooke Shields|Les...   \n712  Ron Perlman|Thomas Jane|Devon Aoki|Sean Pertwe...   \n\n                        director  \\\n599            Christopher Nolan   \n603             Steven Spielberg   \n606  Mark Osborne|John Stevenson   \n621                   Peter Berg   \n607               Phyllida Lloyd   \n..                           ...   \n708               Barry Levinson   \n673                Brad Anderson   \n702                 Rian Johnson   \n711             RyÃ»hei Kitamura   \n712                 Simon Hunter   \n\n                                              tagline  \\\n599                                   Why So Serious?   \n603                     The adventure continues . . .   \n606                          Prepare for awesomeness.   \n621            Bad Behavior. Bad Attitude. Real Hero.   \n607    Take a trip down the aisle you'll never forget   \n..                                                ...   \n708                                    Admit nothing.   \n673                       You can't escape your lies.   \n702     They'd never let the truth come between them.   \n711         The most terrifying ride you'll ever take   \n712  Welcome to the 23rd century.  The new dark ages.   \n\n                                              overview  runtime  \\\n599  Batman raises the stakes in his war on crime. ...      152   \n603  Set during the Cold War, the Soviets â€“ led b...      122   \n606  When the Valley of Peace is threatened, lazy P...       90   \n621  Hancock is a down-and-out superhero who's forc...       92   \n607  Set on an idyllic Greek island, the plot serve...      108   \n..                                                 ...      ...   \n708  During the course of an ordinary week in Holly...      104   \n673  A Trans-Siberian train journey from China to M...      111   \n702  The Brothers Bloom are the best con men in the...      114   \n711  The photographer Leon lives with his girlfrien...       98   \n712  It's the year 2707. Earth's natural resources ...      111   \n\n                                      genres  \\\n599              Drama|Action|Crime|Thriller   \n603                         Adventure|Action   \n606                         Animation|Family   \n621                           Fantasy|Action   \n607                           Comedy|Romance   \n..                                       ...   \n708                             Comedy|Drama   \n673                   Thriller|Crime|Mystery   \n702           Adventure|Comedy|Drama|Romance   \n711      Mystery|Drama|Crime|Thriller|Horror   \n712  Action|Adventure|Horror|Science Fiction   \n\n                                  production_companies release_date  \\\n599  DC Comics|Legendary Pictures|Warner Bros.|Syncopy    7/16/2008   \n603                       Lucasfilm|Paramount Pictures    5/21/2008   \n606                               DreamWorks Animation     6/4/2008   \n621  Columbia Pictures|Weed Road Pictures|Forward P...     7/1/2008   \n607  Universal Pictures|Internationale Filmprodukti...    6/30/2008   \n..                                                 ...          ...   \n708  2929 Productions|Linson Entertainment|Art Lins...   10/17/2008   \n673  Lietuvos Kinostudija|Scout Productions|Telecin...    1/18/2008   \n702  The Weinstein Company|Summit Entertainment|End...     9/9/2008   \n711  Lions Gate Films|Lakeshore Entertainment|Green...     8/7/2008   \n712  Isle of Man Film|Edward R. Pressman Film|Parad...     8/7/2008   \n\n     vote_average  release_year  \n599           8.1          2008  \n603           5.6          2008  \n606           6.8          2008  \n621           6.0          2008  \n607           6.2          2008  \n..            ...           ...  \n708           5.1          2008  \n673           6.3          2008  \n702           6.8          2008  \n711           5.7          2008  \n712           5.1          2008  \n\n[121 rows x 14 columns]",
      "text/html": "<div>\n<style scoped>\n    .dataframe tbody tr th:only-of-type {\n        vertical-align: middle;\n    }\n\n    .dataframe tbody tr th {\n        vertical-align: top;\n    }\n\n    .dataframe thead th {\n        text-align: right;\n    }\n</style>\n<table border=\"1\" class=\"dataframe\">\n  <thead>\n    <tr style=\"text-align: right;\">\n      <th></th>\n      <th>imdb_id</th>\n      <th>budget</th>\n      <th>revenue</th>\n      <th>original_title</th>\n      <th>cast</th>\n      <th>director</th>\n      <th>tagline</th>\n      <th>overview</th>\n      <th>runtime</th>\n      <th>genres</th>\n      <th>production_companies</th>\n      <th>release_date</th>\n      <th>vote_average</th>\n      <th>release_year</th>\n    </tr>\n  </thead>\n  <tbody>\n    <tr>\n      <th>599</th>\n      <td>tt0468569</td>\n      <td>185000000</td>\n      <td>1001921825</td>\n      <td>The Dark Knight</td>\n      <td>Christian Bale|Michael Caine|Heath Ledger|Aaro...</td>\n      <td>Christopher Nolan</td>\n      <td>Why So Serious?</td>\n      <td>Batman raises the stakes in his war on crime. ...</td>\n      <td>152</td>\n      <td>Drama|Action|Crime|Thriller</td>\n      <td>DC Comics|Legendary Pictures|Warner Bros.|Syncopy</td>\n      <td>7/16/2008</td>\n      <td>8.1</td>\n      <td>2008</td>\n    </tr>\n    <tr>\n      <th>603</th>\n      <td>tt0367882</td>\n      <td>185000000</td>\n      <td>786636033</td>\n      <td>Indiana Jones and the Kingdom of the Crystal S...</td>\n      <td>Harrison Ford|Cate Blanchett|Shia LaBeouf|Ray ...</td>\n      <td>Steven Spielberg</td>\n      <td>The adventure continues . . .</td>\n      <td>Set during the Cold War, the Soviets â€“ led b...</td>\n      <td>122</td>\n      <td>Adventure|Action</td>\n      <td>Lucasfilm|Paramount Pictures</td>\n      <td>5/21/2008</td>\n      <td>5.6</td>\n      <td>2008</td>\n    </tr>\n    <tr>\n      <th>606</th>\n      <td>tt0441773</td>\n      <td>130000000</td>\n      <td>631744560</td>\n      <td>Kung Fu Panda</td>\n      <td>Jack Black|Dustin Hoffman|Angelina Jolie|Jacki...</td>\n      <td>Mark Osborne|John Stevenson</td>\n      <td>Prepare for awesomeness.</td>\n      <td>When the Valley of Peace is threatened, lazy P...</td>\n      <td>90</td>\n      <td>Animation|Family</td>\n      <td>DreamWorks Animation</td>\n      <td>6/4/2008</td>\n      <td>6.8</td>\n      <td>2008</td>\n    </tr>\n    <tr>\n      <th>621</th>\n      <td>tt0448157</td>\n      <td>150000000</td>\n      <td>624029371</td>\n      <td>Hancock</td>\n      <td>Will Smith|Charlize Theron|Jason Bateman|Jae H...</td>\n      <td>Peter Berg</td>\n      <td>Bad Behavior. Bad Attitude. Real Hero.</td>\n      <td>Hancock is a down-and-out superhero who's forc...</td>\n      <td>92</td>\n      <td>Fantasy|Action</td>\n      <td>Columbia Pictures|Weed Road Pictures|Forward P...</td>\n      <td>7/1/2008</td>\n      <td>6.0</td>\n      <td>2008</td>\n    </tr>\n    <tr>\n      <th>607</th>\n      <td>tt0795421</td>\n      <td>52000000</td>\n      <td>609841637</td>\n      <td>Mamma Mia!</td>\n      <td>Meryl Streep|Pierce Brosnan|Amanda Seyfried|Co...</td>\n      <td>Phyllida Lloyd</td>\n      <td>Take a trip down the aisle you'll never forget</td>\n      <td>Set on an idyllic Greek island, the plot serve...</td>\n      <td>108</td>\n      <td>Comedy|Romance</td>\n      <td>Universal Pictures|Internationale Filmprodukti...</td>\n      <td>6/30/2008</td>\n      <td>6.2</td>\n      <td>2008</td>\n    </tr>\n    <tr>\n      <th>...</th>\n      <td>...</td>\n      <td>...</td>\n      <td>...</td>\n      <td>...</td>\n      <td>...</td>\n      <td>...</td>\n      <td>...</td>\n      <td>...</td>\n      <td>...</td>\n      <td>...</td>\n      <td>...</td>\n      <td>...</td>\n      <td>...</td>\n      <td>...</td>\n    </tr>\n    <tr>\n      <th>708</th>\n      <td>tt0486674</td>\n      <td>25000000</td>\n      <td>6673422</td>\n      <td>What Just Happened</td>\n      <td>Bruce Willis|Robert De Niro|Sean Penn|Robin Wr...</td>\n      <td>Barry Levinson</td>\n      <td>Admit nothing.</td>\n      <td>During the course of an ordinary week in Holly...</td>\n      <td>104</td>\n      <td>Comedy|Drama</td>\n      <td>2929 Productions|Linson Entertainment|Art Lins...</td>\n      <td>10/17/2008</td>\n      <td>5.1</td>\n      <td>2008</td>\n    </tr>\n    <tr>\n      <th>673</th>\n      <td>tt0800241</td>\n      <td>15000000</td>\n      <td>5926410</td>\n      <td>Transsiberian</td>\n      <td>Woody Harrelson|Emily Mortimer|Kate Mara|Eduar...</td>\n      <td>Brad Anderson</td>\n      <td>You can't escape your lies.</td>\n      <td>A Trans-Siberian train journey from China to M...</td>\n      <td>111</td>\n      <td>Thriller|Crime|Mystery</td>\n      <td>Lietuvos Kinostudija|Scout Productions|Telecin...</td>\n      <td>1/18/2008</td>\n      <td>6.3</td>\n      <td>2008</td>\n    </tr>\n    <tr>\n      <th>702</th>\n      <td>tt0844286</td>\n      <td>20000000</td>\n      <td>5530764</td>\n      <td>The Brothers Bloom</td>\n      <td>Rachel Weisz|Adrien Brody|Mark Ruffalo|Rinko K...</td>\n      <td>Rian Johnson</td>\n      <td>They'd never let the truth come between them.</td>\n      <td>The Brothers Bloom are the best con men in the...</td>\n      <td>114</td>\n      <td>Adventure|Comedy|Drama|Romance</td>\n      <td>The Weinstein Company|Summit Entertainment|End...</td>\n      <td>9/9/2008</td>\n      <td>6.8</td>\n      <td>2008</td>\n    </tr>\n    <tr>\n      <th>711</th>\n      <td>tt0805570</td>\n      <td>15000000</td>\n      <td>3533227</td>\n      <td>The Midnight Meat Train</td>\n      <td>Bradley Cooper|Vinnie Jones|Brooke Shields|Les...</td>\n      <td>RyÃ»hei Kitamura</td>\n      <td>The most terrifying ride you'll ever take</td>\n      <td>The photographer Leon lives with his girlfrien...</td>\n      <td>98</td>\n      <td>Mystery|Drama|Crime|Thriller|Horror</td>\n      <td>Lions Gate Films|Lakeshore Entertainment|Green...</td>\n      <td>8/7/2008</td>\n      <td>5.7</td>\n      <td>2008</td>\n    </tr>\n    <tr>\n      <th>712</th>\n      <td>tt0490181</td>\n      <td>8000000</td>\n      <td>2033165</td>\n      <td>Mutant Chronicles</td>\n      <td>Ron Perlman|Thomas Jane|Devon Aoki|Sean Pertwe...</td>\n      <td>Simon Hunter</td>\n      <td>Welcome to the 23rd century.  The new dark ages.</td>\n      <td>It's the year 2707. Earth's natural resources ...</td>\n      <td>111</td>\n      <td>Action|Adventure|Horror|Science Fiction</td>\n      <td>Isle of Man Film|Edward R. Pressman Film|Parad...</td>\n      <td>8/7/2008</td>\n      <td>5.1</td>\n      <td>2008</td>\n    </tr>\n  </tbody>\n</table>\n<p>121 rows × 14 columns</p>\n</div>"
     },
     "execution_count": 25,
     "metadata": {},
     "output_type": "execute_result"
    }
   ],
   "source": [
    "movies[movies.release_year == 2008].sort_values(by='revenue', ascending=False)"
   ],
   "metadata": {
    "collapsed": false,
    "pycharm": {
     "name": "#%%\n"
    }
   }
  },
  {
   "cell_type": "markdown",
   "metadata": {
    "colab_type": "text",
    "id": "Zi4hDKidVp_F"
   },
   "source": [
    "# 10. Самый убыточный фильм за период с 2012 по 2014 г. (включительно)?"
   ]
  },
  {
   "cell_type": "code",
   "execution_count": 26,
   "outputs": [],
   "source": [
    "# +\n",
    "answers['10'] = 'The Lone Ranger'"
   ],
   "metadata": {
    "collapsed": false,
    "pycharm": {
     "name": "#%%\n"
    }
   }
  },
  {
   "cell_type": "code",
   "execution_count": 27,
   "metadata": {
    "colab": {},
    "colab_type": "code",
    "id": "XqyRmufJVp_F"
   },
   "outputs": [
    {
     "data": {
      "text/plain": "imdb_id                                                         tt1210819\nbudget                                                          255000000\nrevenue                                                          89289910\nprofit                                                         -165710090\noriginal_title                                            The Lone Ranger\ncast                    Johnny Depp|Armie Hammer|William Fichtner|Hele...\ndirector                                                   Gore Verbinski\ntagline                                           Never Take Off the Mask\noverview                The Texas Rangers chase down a gang of outlaws...\nruntime                                                               149\ngenres                                           Action|Adventure|Western\nproduction_companies    Walt Disney Pictures|Jerry Bruckheimer Films|I...\nrelease_date                                                     7/3/2013\nvote_average                                                            6\nrelease_year                                                         2013\nName: 1245, dtype: object"
     },
     "execution_count": 27,
     "metadata": {},
     "output_type": "execute_result"
    }
   ],
   "source": [
    "movies_2012_2014 = movies_ext[(movies_ext.release_year >= 2012) & (movies_ext.release_year <= 2014)]\n",
    "movies_2012_2014.iloc[movies_2012_2014['profit'].argmin()]"
   ]
  },
  {
   "cell_type": "markdown",
   "source": [
    "ВАРИАНТ 2"
   ],
   "metadata": {
    "collapsed": false
   }
  },
  {
   "cell_type": "code",
   "execution_count": 28,
   "outputs": [
    {
     "data": {
      "text/plain": "        imdb_id     budget     revenue      profit  \\\n1245  tt1210819  255000000    89289910  -165710090   \n1214  tt0790736  130000000    61648500   -68351500   \n1007  tt1374992   60000000     8106475   -51893525   \n1302  tt0884726   70000000    18662027   -51337973   \n1235  tt1308729   55000000     9489829   -45510171   \n...         ...        ...         ...         ...   \n1189  tt1690953   76000000   970761885   894761885   \n974   tt1074638  200000000  1108561013   908561013   \n1180  tt1300854  200000000  1215439994  1015439994   \n1177  tt2294629  150000000  1274219009  1124219009   \n970   tt0848228  220000000  1519557910  1299557910   \n\n                       original_title  \\\n1245                  The Lone Ranger   \n1214                         R.I.P.D.   \n1007                      Upside Down   \n1302  Legends of Oz: Dorothy's Return   \n1235               Bullet to the Head   \n...                               ...   \n1189                  Despicable Me 2   \n974                           Skyfall   \n1180                       Iron Man 3   \n1177                           Frozen   \n970                      The Avengers   \n\n                                                   cast  \\\n1245  Johnny Depp|Armie Hammer|William Fichtner|Hele...   \n1214  Jeff Bridges|Ryan Reynolds|Kevin Bacon|Stephan...   \n1007  Kirsten Dunst|Jim Sturgess|Timothy Spall|James...   \n1302  Lea Michele|Dan Aykroyd|Patrick Stewart|Hugh D...   \n1235  Sylvester Stallone|Sung Kang|Sarah Shahi|Adewa...   \n...                                                 ...   \n1189  Steve Carell|Kristen Wiig|Benjamin Bratt|Miran...   \n974   Daniel Craig|Judi Dench|Javier Bardem|Ralph Fi...   \n1180  Robert Downey Jr.|Gwyneth Paltrow|Guy Pearce|D...   \n1177  Kristen Bell|Idina Menzel|Jonathan Groff|Josh ...   \n970   Robert Downey Jr.|Chris Evans|Mark Ruffalo|Chr...   \n\n                        director  \\\n1245              Gore Verbinski   \n1214            Robert Schwentke   \n1007          Juan Diego Solanas   \n1302              Dan St. Pierre   \n1235                 Walter Hill   \n...                          ...   \n1189  Pierre Coffin|Chris Renaud   \n974                   Sam Mendes   \n1180                 Shane Black   \n1177     Chris Buck|Jennifer Lee   \n970                  Joss Whedon   \n\n                                                tagline  \\\n1245                            Never Take Off the Mask   \n1214                    To protect and serve the living   \n1007                            Two worlds. One future.   \n1302                           There's trouble in OZ...   \n1235                            Revenge Never Gets Old.   \n...                                                 ...   \n1189                                        Back 2 Work   \n974                                 Think on your sins.   \n1180                Unleash the power behind the armor.   \n1177  Only the act of true love will thaw a frozen h...   \n970                             Some assembly required.   \n\n                                               overview  runtime  \\\n1245  The Texas Rangers chase down a gang of outlaws...      149   \n1214  A recently slain cop joins a team of undead po...       96   \n1007  In an alternate universe where twinned worlds ...      104   \n1302  Dorothy wakes up in post-tornado Kansas, only ...       88   \n1235  After watching their respective partners die, ...       92   \n...                                                 ...      ...   \n1189  Gru is recruited by the Anti-Villain League to...       98   \n974   When Bond's latest assignment goes gravely wro...      143   \n1180  When Tony Stark's world is torn apart by a for...      130   \n1177  Young princess Anna of Arendelle dreams about ...      102   \n970   When an unexpected enemy emerges and threatens...      143   \n\n                                     genres  \\\n1245               Action|Adventure|Western   \n1214            Fantasy|Action|Comedy|Crime   \n1007  Romance|Science Fiction|Drama|Fantasy   \n1302                 Animation|Music|Family   \n1235                  Action|Crime|Thriller   \n...                                     ...   \n1189                Animation|Comedy|Family   \n974               Action|Adventure|Thriller   \n1180       Action|Adventure|Science Fiction   \n1177             Animation|Adventure|Family   \n970        Science Fiction|Action|Adventure   \n\n                                   production_companies release_date  \\\n1245  Walt Disney Pictures|Jerry Bruckheimer Films|I...     7/3/2013   \n1214  Universal Pictures|Original Film|Dark Horse En...    7/18/2013   \n1007  Onyx Films|Studio 37|Jouror Productions|France...    9/27/2012   \n1302   Prana Animation Studios|Summertime Entertainment    6/13/2013   \n1235  Dark Castle Entertainment|After Dark Films|IM ...    1/31/2013   \n...                                                 ...          ...   \n1189      Universal Pictures|Illumination Entertainment    6/25/2013   \n974                                   Columbia Pictures   10/25/2012   \n1180                                     Marvel Studios    4/18/2013   \n1177  Walt Disney Pictures|Walt Disney Animation Stu...   11/27/2013   \n970                                      Marvel Studios    4/25/2012   \n\n      vote_average  release_year  \n1245           6.0          2013  \n1214           5.3          2013  \n1007           6.1          2012  \n1302           6.1          2013  \n1235           5.2          2013  \n...            ...           ...  \n1189           7.0          2013  \n974            6.8          2012  \n1180           6.9          2013  \n1177           7.5          2013  \n970            7.3          2012  \n\n[367 rows x 15 columns]",
      "text/html": "<div>\n<style scoped>\n    .dataframe tbody tr th:only-of-type {\n        vertical-align: middle;\n    }\n\n    .dataframe tbody tr th {\n        vertical-align: top;\n    }\n\n    .dataframe thead th {\n        text-align: right;\n    }\n</style>\n<table border=\"1\" class=\"dataframe\">\n  <thead>\n    <tr style=\"text-align: right;\">\n      <th></th>\n      <th>imdb_id</th>\n      <th>budget</th>\n      <th>revenue</th>\n      <th>profit</th>\n      <th>original_title</th>\n      <th>cast</th>\n      <th>director</th>\n      <th>tagline</th>\n      <th>overview</th>\n      <th>runtime</th>\n      <th>genres</th>\n      <th>production_companies</th>\n      <th>release_date</th>\n      <th>vote_average</th>\n      <th>release_year</th>\n    </tr>\n  </thead>\n  <tbody>\n    <tr>\n      <th>1245</th>\n      <td>tt1210819</td>\n      <td>255000000</td>\n      <td>89289910</td>\n      <td>-165710090</td>\n      <td>The Lone Ranger</td>\n      <td>Johnny Depp|Armie Hammer|William Fichtner|Hele...</td>\n      <td>Gore Verbinski</td>\n      <td>Never Take Off the Mask</td>\n      <td>The Texas Rangers chase down a gang of outlaws...</td>\n      <td>149</td>\n      <td>Action|Adventure|Western</td>\n      <td>Walt Disney Pictures|Jerry Bruckheimer Films|I...</td>\n      <td>7/3/2013</td>\n      <td>6.0</td>\n      <td>2013</td>\n    </tr>\n    <tr>\n      <th>1214</th>\n      <td>tt0790736</td>\n      <td>130000000</td>\n      <td>61648500</td>\n      <td>-68351500</td>\n      <td>R.I.P.D.</td>\n      <td>Jeff Bridges|Ryan Reynolds|Kevin Bacon|Stephan...</td>\n      <td>Robert Schwentke</td>\n      <td>To protect and serve the living</td>\n      <td>A recently slain cop joins a team of undead po...</td>\n      <td>96</td>\n      <td>Fantasy|Action|Comedy|Crime</td>\n      <td>Universal Pictures|Original Film|Dark Horse En...</td>\n      <td>7/18/2013</td>\n      <td>5.3</td>\n      <td>2013</td>\n    </tr>\n    <tr>\n      <th>1007</th>\n      <td>tt1374992</td>\n      <td>60000000</td>\n      <td>8106475</td>\n      <td>-51893525</td>\n      <td>Upside Down</td>\n      <td>Kirsten Dunst|Jim Sturgess|Timothy Spall|James...</td>\n      <td>Juan Diego Solanas</td>\n      <td>Two worlds. One future.</td>\n      <td>In an alternate universe where twinned worlds ...</td>\n      <td>104</td>\n      <td>Romance|Science Fiction|Drama|Fantasy</td>\n      <td>Onyx Films|Studio 37|Jouror Productions|France...</td>\n      <td>9/27/2012</td>\n      <td>6.1</td>\n      <td>2012</td>\n    </tr>\n    <tr>\n      <th>1302</th>\n      <td>tt0884726</td>\n      <td>70000000</td>\n      <td>18662027</td>\n      <td>-51337973</td>\n      <td>Legends of Oz: Dorothy's Return</td>\n      <td>Lea Michele|Dan Aykroyd|Patrick Stewart|Hugh D...</td>\n      <td>Dan St. Pierre</td>\n      <td>There's trouble in OZ...</td>\n      <td>Dorothy wakes up in post-tornado Kansas, only ...</td>\n      <td>88</td>\n      <td>Animation|Music|Family</td>\n      <td>Prana Animation Studios|Summertime Entertainment</td>\n      <td>6/13/2013</td>\n      <td>6.1</td>\n      <td>2013</td>\n    </tr>\n    <tr>\n      <th>1235</th>\n      <td>tt1308729</td>\n      <td>55000000</td>\n      <td>9489829</td>\n      <td>-45510171</td>\n      <td>Bullet to the Head</td>\n      <td>Sylvester Stallone|Sung Kang|Sarah Shahi|Adewa...</td>\n      <td>Walter Hill</td>\n      <td>Revenge Never Gets Old.</td>\n      <td>After watching their respective partners die, ...</td>\n      <td>92</td>\n      <td>Action|Crime|Thriller</td>\n      <td>Dark Castle Entertainment|After Dark Films|IM ...</td>\n      <td>1/31/2013</td>\n      <td>5.2</td>\n      <td>2013</td>\n    </tr>\n    <tr>\n      <th>...</th>\n      <td>...</td>\n      <td>...</td>\n      <td>...</td>\n      <td>...</td>\n      <td>...</td>\n      <td>...</td>\n      <td>...</td>\n      <td>...</td>\n      <td>...</td>\n      <td>...</td>\n      <td>...</td>\n      <td>...</td>\n      <td>...</td>\n      <td>...</td>\n      <td>...</td>\n    </tr>\n    <tr>\n      <th>1189</th>\n      <td>tt1690953</td>\n      <td>76000000</td>\n      <td>970761885</td>\n      <td>894761885</td>\n      <td>Despicable Me 2</td>\n      <td>Steve Carell|Kristen Wiig|Benjamin Bratt|Miran...</td>\n      <td>Pierre Coffin|Chris Renaud</td>\n      <td>Back 2 Work</td>\n      <td>Gru is recruited by the Anti-Villain League to...</td>\n      <td>98</td>\n      <td>Animation|Comedy|Family</td>\n      <td>Universal Pictures|Illumination Entertainment</td>\n      <td>6/25/2013</td>\n      <td>7.0</td>\n      <td>2013</td>\n    </tr>\n    <tr>\n      <th>974</th>\n      <td>tt1074638</td>\n      <td>200000000</td>\n      <td>1108561013</td>\n      <td>908561013</td>\n      <td>Skyfall</td>\n      <td>Daniel Craig|Judi Dench|Javier Bardem|Ralph Fi...</td>\n      <td>Sam Mendes</td>\n      <td>Think on your sins.</td>\n      <td>When Bond's latest assignment goes gravely wro...</td>\n      <td>143</td>\n      <td>Action|Adventure|Thriller</td>\n      <td>Columbia Pictures</td>\n      <td>10/25/2012</td>\n      <td>6.8</td>\n      <td>2012</td>\n    </tr>\n    <tr>\n      <th>1180</th>\n      <td>tt1300854</td>\n      <td>200000000</td>\n      <td>1215439994</td>\n      <td>1015439994</td>\n      <td>Iron Man 3</td>\n      <td>Robert Downey Jr.|Gwyneth Paltrow|Guy Pearce|D...</td>\n      <td>Shane Black</td>\n      <td>Unleash the power behind the armor.</td>\n      <td>When Tony Stark's world is torn apart by a for...</td>\n      <td>130</td>\n      <td>Action|Adventure|Science Fiction</td>\n      <td>Marvel Studios</td>\n      <td>4/18/2013</td>\n      <td>6.9</td>\n      <td>2013</td>\n    </tr>\n    <tr>\n      <th>1177</th>\n      <td>tt2294629</td>\n      <td>150000000</td>\n      <td>1274219009</td>\n      <td>1124219009</td>\n      <td>Frozen</td>\n      <td>Kristen Bell|Idina Menzel|Jonathan Groff|Josh ...</td>\n      <td>Chris Buck|Jennifer Lee</td>\n      <td>Only the act of true love will thaw a frozen h...</td>\n      <td>Young princess Anna of Arendelle dreams about ...</td>\n      <td>102</td>\n      <td>Animation|Adventure|Family</td>\n      <td>Walt Disney Pictures|Walt Disney Animation Stu...</td>\n      <td>11/27/2013</td>\n      <td>7.5</td>\n      <td>2013</td>\n    </tr>\n    <tr>\n      <th>970</th>\n      <td>tt0848228</td>\n      <td>220000000</td>\n      <td>1519557910</td>\n      <td>1299557910</td>\n      <td>The Avengers</td>\n      <td>Robert Downey Jr.|Chris Evans|Mark Ruffalo|Chr...</td>\n      <td>Joss Whedon</td>\n      <td>Some assembly required.</td>\n      <td>When an unexpected enemy emerges and threatens...</td>\n      <td>143</td>\n      <td>Science Fiction|Action|Adventure</td>\n      <td>Marvel Studios</td>\n      <td>4/25/2012</td>\n      <td>7.3</td>\n      <td>2012</td>\n    </tr>\n  </tbody>\n</table>\n<p>367 rows × 15 columns</p>\n</div>"
     },
     "execution_count": 28,
     "metadata": {},
     "output_type": "execute_result"
    }
   ],
   "source": [
    "movies_ext[(movies_ext.release_year >= 2012) & (movies_ext.release_year <= 2014)].sort_values(by='profit')"
   ],
   "metadata": {
    "collapsed": false,
    "pycharm": {
     "name": "#%%\n"
    }
   }
  },
  {
   "cell_type": "markdown",
   "metadata": {
    "colab_type": "text",
    "id": "EA7Sa9dkVp_I"
   },
   "source": [
    "# 11. Какого жанра фильмов больше всего?"
   ]
  },
  {
   "cell_type": "code",
   "execution_count": 29,
   "outputs": [],
   "source": [
    "# +\n",
    "answers['11'] = 'Drama'"
   ],
   "metadata": {
    "collapsed": false,
    "pycharm": {
     "name": "#%%\n"
    }
   }
  },
  {
   "cell_type": "code",
   "execution_count": 30,
   "metadata": {
    "colab": {},
    "colab_type": "code",
    "id": "zsJAwJ8QVp_J"
   },
   "outputs": [
    {
     "data": {
      "text/plain": "Drama              782\nComedy             683\nThriller           596\nAction             582\nAdventure          415\nCrime              315\nRomance            308\nFamily             260\nScience Fiction    248\nFantasy            222\nHorror             176\nMystery            168\nAnimation          139\nMusic               64\nHistory             62\nWar                 58\nWestern             19\nDocumentary          8\nForeign              2\nName: genres, dtype: int64"
     },
     "execution_count": 30,
     "metadata": {},
     "output_type": "execute_result"
    }
   ],
   "source": [
    "genres_col = movies['genres'].apply(separated_text_to_list)\n",
    "genres_col.explode().value_counts()"
   ]
  },
  {
   "cell_type": "markdown",
   "metadata": {
    "colab_type": "text",
    "id": "T9_bPWpkVp_Q"
   },
   "source": [
    "# 12. Фильмы какого жанра чаще всего становятся прибыльными?"
   ]
  },
  {
   "cell_type": "code",
   "execution_count": 31,
   "outputs": [],
   "source": [
    "# +\n",
    "answers['12'] = 'Drama'"
   ],
   "metadata": {
    "collapsed": false,
    "pycharm": {
     "name": "#%%\n"
    }
   }
  },
  {
   "cell_type": "code",
   "execution_count": 32,
   "metadata": {
    "colab": {},
    "colab_type": "code",
    "id": "Tmt8MaK1Vp_R"
   },
   "outputs": [
    {
     "data": {
      "text/plain": "Drama              560\nComedy             551\nThriller           446\nAction             444\nAdventure          337\nRomance            242\nCrime              231\nFamily             226\nScience Fiction    195\nFantasy            188\nHorror             150\nAnimation          120\nMystery            119\nMusic               47\nHistory             46\nWar                 41\nWestern             12\nDocumentary          7\nName: genres, dtype: int64"
     },
     "execution_count": 32,
     "metadata": {},
     "output_type": "execute_result"
    }
   ],
   "source": [
    "movies_genres = movies_ext.copy()       # movies_ext contains 'profit' column\n",
    "movies_genres['genres'] = movies_genres['genres'].apply(separated_text_to_list)\n",
    "movies_genres[movies_genres.profit > 0].explode('genres')['genres'].value_counts()"
   ]
  },
  {
   "cell_type": "markdown",
   "metadata": {
    "colab_type": "text",
    "id": "0F23bgsDVp_U"
   },
   "source": [
    "# 13. У какого режиссера самые большие суммарные кассовые сборы?"
   ]
  },
  {
   "cell_type": "code",
   "execution_count": 33,
   "outputs": [],
   "source": [
    "# +\n",
    "answers['13'] = 'Peter Jackson'"
   ],
   "metadata": {
    "collapsed": false,
    "pycharm": {
     "name": "#%%\n"
    }
   }
  },
  {
   "cell_type": "code",
   "execution_count": 34,
   "metadata": {
    "colab": {},
    "colab_type": "code",
    "id": "K6Z3J8ygVp_X"
   },
   "outputs": [
    {
     "data": {
      "text/plain": "        imdb_id    budget     revenue  \\\n1081  tt0167260  94000000  1118888979   \n\n                                     original_title  \\\n1081  The Lord of the Rings: The Return of the King   \n\n                                                   cast       director  \\\n1081  Elijah Wood|Ian McKellen|Viggo Mortensen|Liv T...  Peter Jackson   \n\n                              tagline  \\\n1081  The eye of the enemy is moving.   \n\n                                               overview  runtime  \\\n1081  Aragorn is revealed as the heir to the ancient...      201   \n\n                        genres           production_companies release_date  \\\n1081  Adventure|Fantasy|Action  WingNut Films|New Line Cinema    12/1/2003   \n\n      vote_average  release_year  director_revenue  \n1081           7.9          2003        6490593685  ",
      "text/html": "<div>\n<style scoped>\n    .dataframe tbody tr th:only-of-type {\n        vertical-align: middle;\n    }\n\n    .dataframe tbody tr th {\n        vertical-align: top;\n    }\n\n    .dataframe thead th {\n        text-align: right;\n    }\n</style>\n<table border=\"1\" class=\"dataframe\">\n  <thead>\n    <tr style=\"text-align: right;\">\n      <th></th>\n      <th>imdb_id</th>\n      <th>budget</th>\n      <th>revenue</th>\n      <th>original_title</th>\n      <th>cast</th>\n      <th>director</th>\n      <th>tagline</th>\n      <th>overview</th>\n      <th>runtime</th>\n      <th>genres</th>\n      <th>production_companies</th>\n      <th>release_date</th>\n      <th>vote_average</th>\n      <th>release_year</th>\n      <th>director_revenue</th>\n    </tr>\n  </thead>\n  <tbody>\n    <tr>\n      <th>1081</th>\n      <td>tt0167260</td>\n      <td>94000000</td>\n      <td>1118888979</td>\n      <td>The Lord of the Rings: The Return of the King</td>\n      <td>Elijah Wood|Ian McKellen|Viggo Mortensen|Liv T...</td>\n      <td>Peter Jackson</td>\n      <td>The eye of the enemy is moving.</td>\n      <td>Aragorn is revealed as the heir to the ancient...</td>\n      <td>201</td>\n      <td>Adventure|Fantasy|Action</td>\n      <td>WingNut Films|New Line Cinema</td>\n      <td>12/1/2003</td>\n      <td>7.9</td>\n      <td>2003</td>\n      <td>6490593685</td>\n    </tr>\n  </tbody>\n</table>\n</div>"
     },
     "execution_count": 34,
     "metadata": {},
     "output_type": "execute_result"
    }
   ],
   "source": [
    "movies_director = movies.copy()\n",
    "movies_director['director_revenue'] = movies_director.groupby('director')['revenue'].transform(sum)\n",
    "movies_director.sort_values(by='director_revenue').tail(1)"
   ]
  },
  {
   "cell_type": "markdown",
   "metadata": {
    "colab_type": "text",
    "id": "PsYC9FgRVp_a"
   },
   "source": [
    "# 14. Какой режисер снял больше всего фильмов в стиле Action?"
   ]
  },
  {
   "cell_type": "code",
   "execution_count": 35,
   "outputs": [],
   "source": [
    "# +\n",
    "answers['14'] = 'Robert Rodriguez'"
   ],
   "metadata": {
    "collapsed": false,
    "pycharm": {
     "name": "#%%\n"
    }
   }
  },
  {
   "cell_type": "code",
   "execution_count": 36,
   "metadata": {
    "colab": {},
    "colab_type": "code",
    "id": "wd2M-wHeVp_b"
   },
   "outputs": [
    {
     "data": {
      "text/plain": "Robert Rodriguez        9\nMichael Bay             7\nPaul W.S. Anderson      7\nAntoine Fuqua           6\nRidley Scott            6\n                       ..\nLuis Mandoki            1\nNicolas Winding Refn    1\nJoel Coen               1\nTony Bill               1\nPeter Farrelly          1\nName: director, Length: 364, dtype: int64"
     },
     "execution_count": 36,
     "metadata": {},
     "output_type": "execute_result"
    }
   ],
   "source": [
    "movies_director = movies_ext.copy()       # movies_ext contains 'profit' column\n",
    "movies_director['director'] = movies_director['director'].apply(separated_text_to_list)\n",
    "movies_director = movies_director.explode('director')\n",
    "movies_director[movies_director.genres.str.contains('Action')]['director'].value_counts()"
   ]
  },
  {
   "cell_type": "markdown",
   "metadata": {
    "colab_type": "text",
    "id": "PQ0KciD7Vp_f"
   },
   "source": [
    "# 15. Фильмы с каким актером принесли самые высокие кассовые сборы в 2012 году?"
   ]
  },
  {
   "cell_type": "code",
   "execution_count": 37,
   "outputs": [],
   "source": [
    "# +\n",
    "answers['15'] = 'Chris Hemsworth'"
   ],
   "metadata": {
    "collapsed": false,
    "pycharm": {
     "name": "#%%\n"
    }
   }
  },
  {
   "cell_type": "code",
   "execution_count": 38,
   "metadata": {
    "colab": {},
    "colab_type": "code",
    "id": "aga62oeKVp_g"
   },
   "outputs": [
    {
     "data": {
      "text/plain": "       imdb_id     budget     revenue original_title                cast  \\\n970  tt0848228  220000000  1519557910   The Avengers   Robert Downey Jr.   \n970  tt0848228  220000000  1519557910   The Avengers         Chris Evans   \n970  tt0848228  220000000  1519557910   The Avengers        Mark Ruffalo   \n970  tt0848228  220000000  1519557910   The Avengers     Chris Hemsworth   \n970  tt0848228  220000000  1519557910   The Avengers  Scarlett Johansson   \n\n        director                  tagline  \\\n970  Joss Whedon  Some assembly required.   \n970  Joss Whedon  Some assembly required.   \n970  Joss Whedon  Some assembly required.   \n970  Joss Whedon  Some assembly required.   \n970  Joss Whedon  Some assembly required.   \n\n                                              overview  runtime  \\\n970  When an unexpected enemy emerges and threatens...      143   \n970  When an unexpected enemy emerges and threatens...      143   \n970  When an unexpected enemy emerges and threatens...      143   \n970  When an unexpected enemy emerges and threatens...      143   \n970  When an unexpected enemy emerges and threatens...      143   \n\n                               genres production_companies release_date  \\\n970  Science Fiction|Action|Adventure       Marvel Studios    4/25/2012   \n970  Science Fiction|Action|Adventure       Marvel Studios    4/25/2012   \n970  Science Fiction|Action|Adventure       Marvel Studios    4/25/2012   \n970  Science Fiction|Action|Adventure       Marvel Studios    4/25/2012   \n970  Science Fiction|Action|Adventure       Marvel Studios    4/25/2012   \n\n     vote_average  release_year  \n970           7.3          2012  \n970           7.3          2012  \n970           7.3          2012  \n970           7.3          2012  \n970           7.3          2012  ",
      "text/html": "<div>\n<style scoped>\n    .dataframe tbody tr th:only-of-type {\n        vertical-align: middle;\n    }\n\n    .dataframe tbody tr th {\n        vertical-align: top;\n    }\n\n    .dataframe thead th {\n        text-align: right;\n    }\n</style>\n<table border=\"1\" class=\"dataframe\">\n  <thead>\n    <tr style=\"text-align: right;\">\n      <th></th>\n      <th>imdb_id</th>\n      <th>budget</th>\n      <th>revenue</th>\n      <th>original_title</th>\n      <th>cast</th>\n      <th>director</th>\n      <th>tagline</th>\n      <th>overview</th>\n      <th>runtime</th>\n      <th>genres</th>\n      <th>production_companies</th>\n      <th>release_date</th>\n      <th>vote_average</th>\n      <th>release_year</th>\n    </tr>\n  </thead>\n  <tbody>\n    <tr>\n      <th>970</th>\n      <td>tt0848228</td>\n      <td>220000000</td>\n      <td>1519557910</td>\n      <td>The Avengers</td>\n      <td>Robert Downey Jr.</td>\n      <td>Joss Whedon</td>\n      <td>Some assembly required.</td>\n      <td>When an unexpected enemy emerges and threatens...</td>\n      <td>143</td>\n      <td>Science Fiction|Action|Adventure</td>\n      <td>Marvel Studios</td>\n      <td>4/25/2012</td>\n      <td>7.3</td>\n      <td>2012</td>\n    </tr>\n    <tr>\n      <th>970</th>\n      <td>tt0848228</td>\n      <td>220000000</td>\n      <td>1519557910</td>\n      <td>The Avengers</td>\n      <td>Chris Evans</td>\n      <td>Joss Whedon</td>\n      <td>Some assembly required.</td>\n      <td>When an unexpected enemy emerges and threatens...</td>\n      <td>143</td>\n      <td>Science Fiction|Action|Adventure</td>\n      <td>Marvel Studios</td>\n      <td>4/25/2012</td>\n      <td>7.3</td>\n      <td>2012</td>\n    </tr>\n    <tr>\n      <th>970</th>\n      <td>tt0848228</td>\n      <td>220000000</td>\n      <td>1519557910</td>\n      <td>The Avengers</td>\n      <td>Mark Ruffalo</td>\n      <td>Joss Whedon</td>\n      <td>Some assembly required.</td>\n      <td>When an unexpected enemy emerges and threatens...</td>\n      <td>143</td>\n      <td>Science Fiction|Action|Adventure</td>\n      <td>Marvel Studios</td>\n      <td>4/25/2012</td>\n      <td>7.3</td>\n      <td>2012</td>\n    </tr>\n    <tr>\n      <th>970</th>\n      <td>tt0848228</td>\n      <td>220000000</td>\n      <td>1519557910</td>\n      <td>The Avengers</td>\n      <td>Chris Hemsworth</td>\n      <td>Joss Whedon</td>\n      <td>Some assembly required.</td>\n      <td>When an unexpected enemy emerges and threatens...</td>\n      <td>143</td>\n      <td>Science Fiction|Action|Adventure</td>\n      <td>Marvel Studios</td>\n      <td>4/25/2012</td>\n      <td>7.3</td>\n      <td>2012</td>\n    </tr>\n    <tr>\n      <th>970</th>\n      <td>tt0848228</td>\n      <td>220000000</td>\n      <td>1519557910</td>\n      <td>The Avengers</td>\n      <td>Scarlett Johansson</td>\n      <td>Joss Whedon</td>\n      <td>Some assembly required.</td>\n      <td>When an unexpected enemy emerges and threatens...</td>\n      <td>143</td>\n      <td>Science Fiction|Action|Adventure</td>\n      <td>Marvel Studios</td>\n      <td>4/25/2012</td>\n      <td>7.3</td>\n      <td>2012</td>\n    </tr>\n  </tbody>\n</table>\n</div>"
     },
     "execution_count": 38,
     "metadata": {},
     "output_type": "execute_result"
    }
   ],
   "source": [
    "movies_cast = movies.copy()\n",
    "movies_cast = movies_cast[movies_cast.release_year == 2012]\n",
    "movies_cast['cast'] = movies_cast['cast'].apply(separated_text_to_list)\n",
    "movies_cast = movies_cast.explode('cast')\n",
    "movies_cast[movies_cast.revenue == movies_cast.revenue.max()]"
   ]
  },
  {
   "cell_type": "markdown",
   "metadata": {
    "colab_type": "text",
    "id": "mWHyyL7QVp_j"
   },
   "source": [
    "# 16. Какой актер снялся в большем количестве высокобюджетных фильмов?"
   ]
  },
  {
   "cell_type": "code",
   "execution_count": 39,
   "outputs": [],
   "source": [
    "# +\n",
    "answers['16'] = 'Matt Damon'"
   ],
   "metadata": {
    "collapsed": false,
    "pycharm": {
     "name": "#%%\n"
    }
   }
  },
  {
   "cell_type": "code",
   "execution_count": 40,
   "metadata": {
    "colab": {},
    "colab_type": "code",
    "id": "qQtmHKTFVp_k"
   },
   "outputs": [
    {
     "data": {
      "text/plain": "Matt Damon               18\nAdam Sandler             17\nAngelina Jolie           16\nSamuel L. Jackson        15\nTom Cruise               15\n                         ..\nJason Biggs               1\nSvetlana Khodchenkova     1\nJames Karen               1\nCraig Ferguson            1\nEllen Page                1\nName: cast, Length: 1505, dtype: int64"
     },
     "execution_count": 40,
     "metadata": {},
     "output_type": "execute_result"
    }
   ],
   "source": [
    "movies_cast = movies.copy()\n",
    "movies_cast['cast'] = movies_cast['cast'].apply(separated_text_to_list)\n",
    "movies_cast[movies_cast.budget > movies_cast.budget.mean()].explode('cast')['cast'].value_counts()"
   ]
  },
  {
   "cell_type": "markdown",
   "metadata": {
    "colab_type": "text",
    "id": "NIh6AaW5Vp_n"
   },
   "source": [
    "# 17. В фильмах какого жанра больше всего снимался Nicolas Cage? "
   ]
  },
  {
   "cell_type": "code",
   "execution_count": 41,
   "outputs": [],
   "source": [
    "# +\n",
    "answers['17'] = 'Action'"
   ],
   "metadata": {
    "collapsed": false,
    "pycharm": {
     "name": "#%%\n"
    }
   }
  },
  {
   "cell_type": "code",
   "execution_count": 42,
   "metadata": {
    "colab": {},
    "colab_type": "code",
    "id": "H74SJDIBVp_n"
   },
   "outputs": [
    {
     "data": {
      "text/plain": "Action             17\nThriller           15\nDrama              12\nCrime              10\nFantasy             8\nAdventure           7\nComedy              6\nScience Fiction     4\nMystery             3\nFamily              3\nAnimation           3\nHistory             2\nWar                 1\nHorror              1\nRomance             1\nName: genres, dtype: int64"
     },
     "execution_count": 42,
     "metadata": {},
     "output_type": "execute_result"
    }
   ],
   "source": [
    "movies_genres = movies_ext.copy()       # movies_ext contains 'profit' column\n",
    "movies_genres['genres'] = movies_genres['genres'].apply(separated_text_to_list)\n",
    "movies_genres = movies_genres.explode('genres')\n",
    "movies_genres[movies_genres.cast.str.contains('Nicolas Cage')]['genres'].value_counts()"
   ]
  },
  {
   "cell_type": "markdown",
   "metadata": {
    "colab_type": "text",
    "id": "RqOmPRfWVp_q"
   },
   "source": [
    "# 18. Самый убыточный фильм от Paramount Pictures"
   ]
  },
  {
   "cell_type": "code",
   "execution_count": 43,
   "outputs": [],
   "source": [
    "# +\n",
    "answers['18'] = 'K-19: The Widowmaker'"
   ],
   "metadata": {
    "collapsed": false,
    "pycharm": {
     "name": "#%%\n"
    }
   }
  },
  {
   "cell_type": "code",
   "execution_count": 44,
   "metadata": {
    "colab": {},
    "colab_type": "code",
    "id": "9E_B0Y96Vp_r"
   },
   "outputs": [
    {
     "data": {
      "text/plain": "       imdb_id     budget   revenue    profit        original_title  \\\n925  tt0267626  100000000  35168966 -64831034  K-19: The Widowmaker   \n\n                                                  cast         director  \\\n925  Harrison Ford|Liam Neeson|Peter Sarsgaard|Joss...  Kathryn Bigelow   \n\n                      tagline  \\\n925  Fate has found its hero.   \n\n                                              overview  runtime  \\\n925  When Russia's first nuclear submarine malfunct...      138   \n\n                     genres  \\\n925  Thriller|Drama|History   \n\n                                  production_companies release_date  \\\n925  Paramount Pictures|Intermedia Films|National G...    7/19/2002   \n\n     vote_average  release_year  \n925           6.0          2002  ",
      "text/html": "<div>\n<style scoped>\n    .dataframe tbody tr th:only-of-type {\n        vertical-align: middle;\n    }\n\n    .dataframe tbody tr th {\n        vertical-align: top;\n    }\n\n    .dataframe thead th {\n        text-align: right;\n    }\n</style>\n<table border=\"1\" class=\"dataframe\">\n  <thead>\n    <tr style=\"text-align: right;\">\n      <th></th>\n      <th>imdb_id</th>\n      <th>budget</th>\n      <th>revenue</th>\n      <th>profit</th>\n      <th>original_title</th>\n      <th>cast</th>\n      <th>director</th>\n      <th>tagline</th>\n      <th>overview</th>\n      <th>runtime</th>\n      <th>genres</th>\n      <th>production_companies</th>\n      <th>release_date</th>\n      <th>vote_average</th>\n      <th>release_year</th>\n    </tr>\n  </thead>\n  <tbody>\n    <tr>\n      <th>925</th>\n      <td>tt0267626</td>\n      <td>100000000</td>\n      <td>35168966</td>\n      <td>-64831034</td>\n      <td>K-19: The Widowmaker</td>\n      <td>Harrison Ford|Liam Neeson|Peter Sarsgaard|Joss...</td>\n      <td>Kathryn Bigelow</td>\n      <td>Fate has found its hero.</td>\n      <td>When Russia's first nuclear submarine malfunct...</td>\n      <td>138</td>\n      <td>Thriller|Drama|History</td>\n      <td>Paramount Pictures|Intermedia Films|National G...</td>\n      <td>7/19/2002</td>\n      <td>6.0</td>\n      <td>2002</td>\n    </tr>\n  </tbody>\n</table>\n</div>"
     },
     "execution_count": 44,
     "metadata": {},
     "output_type": "execute_result"
    }
   ],
   "source": [
    "movies_prod_comp = movies_ext[movies_ext['production_companies'].str.contains('Paramount Pictures')]\n",
    "movies_prod_comp[movies_prod_comp.profit == movies_prod_comp.profit.min()]"
   ]
  },
  {
   "cell_type": "markdown",
   "metadata": {
    "colab_type": "text",
    "id": "vS8Ur6ddVp_u"
   },
   "source": [
    "# 19. Какой год стал самым успешным по суммарным кассовым сборам?"
   ]
  },
  {
   "cell_type": "code",
   "execution_count": 45,
   "outputs": [],
   "source": [
    "# +\n",
    "answers['19'] = '2015'"
   ],
   "metadata": {
    "collapsed": false,
    "pycharm": {
     "name": "#%%\n"
    }
   }
  },
  {
   "cell_type": "code",
   "execution_count": 46,
   "metadata": {
    "colab": {},
    "colab_type": "code",
    "id": "Dnbt4GdIVp_v"
   },
   "outputs": [
    {
     "data": {
      "text/plain": "                  budget      revenue  runtime  vote_average\nrelease_year                                                \n2015          6780630004  25449202382    13355         755.2\n2014          7008050000  23405862953    13444         774.5\n2013          7970620000  23213799791    15039         846.9\n2012          7002000000  23079001687    12145         682.1\n2011          7946550531  22676791872    15355         868.5\n2010          7540000000  21071204961    13592         762.1\n2009          6838046652  20261791024    14187         800.2\n2008          6588900000  18252781990    12979         731.1\n2007          6596495000  18162406801    14305         809.3\n2004          6029250000  15663430720    12014         671.3\n2005          6327500000  15309425558    13387         733.5\n2006          6083965000  14775042320    13952         775.4\n2003          5117300000  14346123312    10623         574.4\n2002          5134000000  14136361487    11528         653.1\n2001          5067150000  13017764865    11284         619.8\n2000          4562700000  10664099805     9956         542.5",
      "text/html": "<div>\n<style scoped>\n    .dataframe tbody tr th:only-of-type {\n        vertical-align: middle;\n    }\n\n    .dataframe tbody tr th {\n        vertical-align: top;\n    }\n\n    .dataframe thead th {\n        text-align: right;\n    }\n</style>\n<table border=\"1\" class=\"dataframe\">\n  <thead>\n    <tr style=\"text-align: right;\">\n      <th></th>\n      <th>budget</th>\n      <th>revenue</th>\n      <th>runtime</th>\n      <th>vote_average</th>\n    </tr>\n    <tr>\n      <th>release_year</th>\n      <th></th>\n      <th></th>\n      <th></th>\n      <th></th>\n    </tr>\n  </thead>\n  <tbody>\n    <tr>\n      <th>2015</th>\n      <td>6780630004</td>\n      <td>25449202382</td>\n      <td>13355</td>\n      <td>755.2</td>\n    </tr>\n    <tr>\n      <th>2014</th>\n      <td>7008050000</td>\n      <td>23405862953</td>\n      <td>13444</td>\n      <td>774.5</td>\n    </tr>\n    <tr>\n      <th>2013</th>\n      <td>7970620000</td>\n      <td>23213799791</td>\n      <td>15039</td>\n      <td>846.9</td>\n    </tr>\n    <tr>\n      <th>2012</th>\n      <td>7002000000</td>\n      <td>23079001687</td>\n      <td>12145</td>\n      <td>682.1</td>\n    </tr>\n    <tr>\n      <th>2011</th>\n      <td>7946550531</td>\n      <td>22676791872</td>\n      <td>15355</td>\n      <td>868.5</td>\n    </tr>\n    <tr>\n      <th>2010</th>\n      <td>7540000000</td>\n      <td>21071204961</td>\n      <td>13592</td>\n      <td>762.1</td>\n    </tr>\n    <tr>\n      <th>2009</th>\n      <td>6838046652</td>\n      <td>20261791024</td>\n      <td>14187</td>\n      <td>800.2</td>\n    </tr>\n    <tr>\n      <th>2008</th>\n      <td>6588900000</td>\n      <td>18252781990</td>\n      <td>12979</td>\n      <td>731.1</td>\n    </tr>\n    <tr>\n      <th>2007</th>\n      <td>6596495000</td>\n      <td>18162406801</td>\n      <td>14305</td>\n      <td>809.3</td>\n    </tr>\n    <tr>\n      <th>2004</th>\n      <td>6029250000</td>\n      <td>15663430720</td>\n      <td>12014</td>\n      <td>671.3</td>\n    </tr>\n    <tr>\n      <th>2005</th>\n      <td>6327500000</td>\n      <td>15309425558</td>\n      <td>13387</td>\n      <td>733.5</td>\n    </tr>\n    <tr>\n      <th>2006</th>\n      <td>6083965000</td>\n      <td>14775042320</td>\n      <td>13952</td>\n      <td>775.4</td>\n    </tr>\n    <tr>\n      <th>2003</th>\n      <td>5117300000</td>\n      <td>14346123312</td>\n      <td>10623</td>\n      <td>574.4</td>\n    </tr>\n    <tr>\n      <th>2002</th>\n      <td>5134000000</td>\n      <td>14136361487</td>\n      <td>11528</td>\n      <td>653.1</td>\n    </tr>\n    <tr>\n      <th>2001</th>\n      <td>5067150000</td>\n      <td>13017764865</td>\n      <td>11284</td>\n      <td>619.8</td>\n    </tr>\n    <tr>\n      <th>2000</th>\n      <td>4562700000</td>\n      <td>10664099805</td>\n      <td>9956</td>\n      <td>542.5</td>\n    </tr>\n  </tbody>\n</table>\n</div>"
     },
     "execution_count": 46,
     "metadata": {},
     "output_type": "execute_result"
    }
   ],
   "source": [
    "grouped_df = movies.groupby('release_year').sum()\n",
    "grouped_df.sort_values('revenue', ascending=False)"
   ]
  },
  {
   "cell_type": "markdown",
   "metadata": {
    "colab_type": "text",
    "id": "JAzJh4QAVp_z"
   },
   "source": [
    "# 20. Какой самый прибыльный год для студии Warner Bros?"
   ]
  },
  {
   "cell_type": "code",
   "execution_count": 47,
   "outputs": [],
   "source": [
    "# +\n",
    "answers['20'] = '2014'"
   ],
   "metadata": {
    "collapsed": false,
    "pycharm": {
     "name": "#%%\n"
    }
   }
  },
  {
   "cell_type": "code",
   "execution_count": 48,
   "metadata": {
    "colab": {},
    "colab_type": "code",
    "id": "wgVu02DEVp_0"
   },
   "outputs": [
    {
     "data": {
      "text/plain": "                  budget     revenue      profit  runtime  vote_average\nrelease_year                                                           \n2014           947600000  3243064519  2295464519     1576          88.9\n2007           982000000  3183675217  2201675217     1721          95.4\n2008           916000000  3050595031  2134595031     1366          72.0\n2010          1034000000  3008712985  1974712985     1421          79.6\n2011           974000000  2845393682  1871393682     1248          68.3\n2003           890000000  2745493377  1855493377     1085          56.7\n2009           915500000  2737954136  1822454136     1305          67.9\n2013           963500000  2599953400  1636453400     1100          59.9\n2004          1100000000  2731933725  1631933725     1624          78.7\n2005           861000000  2412980298  1551980298     1193          63.0\n2001           923000000  2266545668  1343545668     1571          83.6\n2012           611500000  1869520056  1258020056      579          30.0\n2002           680000000  1702709901  1022709901     1281          70.6\n2015           820800003  1691168351   870368348     1358          75.9\n2006           901000000  1521170743   620170743     1504          81.0\n2000           572900000  1025531386   452631386     1333          68.0",
      "text/html": "<div>\n<style scoped>\n    .dataframe tbody tr th:only-of-type {\n        vertical-align: middle;\n    }\n\n    .dataframe tbody tr th {\n        vertical-align: top;\n    }\n\n    .dataframe thead th {\n        text-align: right;\n    }\n</style>\n<table border=\"1\" class=\"dataframe\">\n  <thead>\n    <tr style=\"text-align: right;\">\n      <th></th>\n      <th>budget</th>\n      <th>revenue</th>\n      <th>profit</th>\n      <th>runtime</th>\n      <th>vote_average</th>\n    </tr>\n    <tr>\n      <th>release_year</th>\n      <th></th>\n      <th></th>\n      <th></th>\n      <th></th>\n      <th></th>\n    </tr>\n  </thead>\n  <tbody>\n    <tr>\n      <th>2014</th>\n      <td>947600000</td>\n      <td>3243064519</td>\n      <td>2295464519</td>\n      <td>1576</td>\n      <td>88.9</td>\n    </tr>\n    <tr>\n      <th>2007</th>\n      <td>982000000</td>\n      <td>3183675217</td>\n      <td>2201675217</td>\n      <td>1721</td>\n      <td>95.4</td>\n    </tr>\n    <tr>\n      <th>2008</th>\n      <td>916000000</td>\n      <td>3050595031</td>\n      <td>2134595031</td>\n      <td>1366</td>\n      <td>72.0</td>\n    </tr>\n    <tr>\n      <th>2010</th>\n      <td>1034000000</td>\n      <td>3008712985</td>\n      <td>1974712985</td>\n      <td>1421</td>\n      <td>79.6</td>\n    </tr>\n    <tr>\n      <th>2011</th>\n      <td>974000000</td>\n      <td>2845393682</td>\n      <td>1871393682</td>\n      <td>1248</td>\n      <td>68.3</td>\n    </tr>\n    <tr>\n      <th>2003</th>\n      <td>890000000</td>\n      <td>2745493377</td>\n      <td>1855493377</td>\n      <td>1085</td>\n      <td>56.7</td>\n    </tr>\n    <tr>\n      <th>2009</th>\n      <td>915500000</td>\n      <td>2737954136</td>\n      <td>1822454136</td>\n      <td>1305</td>\n      <td>67.9</td>\n    </tr>\n    <tr>\n      <th>2013</th>\n      <td>963500000</td>\n      <td>2599953400</td>\n      <td>1636453400</td>\n      <td>1100</td>\n      <td>59.9</td>\n    </tr>\n    <tr>\n      <th>2004</th>\n      <td>1100000000</td>\n      <td>2731933725</td>\n      <td>1631933725</td>\n      <td>1624</td>\n      <td>78.7</td>\n    </tr>\n    <tr>\n      <th>2005</th>\n      <td>861000000</td>\n      <td>2412980298</td>\n      <td>1551980298</td>\n      <td>1193</td>\n      <td>63.0</td>\n    </tr>\n    <tr>\n      <th>2001</th>\n      <td>923000000</td>\n      <td>2266545668</td>\n      <td>1343545668</td>\n      <td>1571</td>\n      <td>83.6</td>\n    </tr>\n    <tr>\n      <th>2012</th>\n      <td>611500000</td>\n      <td>1869520056</td>\n      <td>1258020056</td>\n      <td>579</td>\n      <td>30.0</td>\n    </tr>\n    <tr>\n      <th>2002</th>\n      <td>680000000</td>\n      <td>1702709901</td>\n      <td>1022709901</td>\n      <td>1281</td>\n      <td>70.6</td>\n    </tr>\n    <tr>\n      <th>2015</th>\n      <td>820800003</td>\n      <td>1691168351</td>\n      <td>870368348</td>\n      <td>1358</td>\n      <td>75.9</td>\n    </tr>\n    <tr>\n      <th>2006</th>\n      <td>901000000</td>\n      <td>1521170743</td>\n      <td>620170743</td>\n      <td>1504</td>\n      <td>81.0</td>\n    </tr>\n    <tr>\n      <th>2000</th>\n      <td>572900000</td>\n      <td>1025531386</td>\n      <td>452631386</td>\n      <td>1333</td>\n      <td>68.0</td>\n    </tr>\n  </tbody>\n</table>\n</div>"
     },
     "execution_count": 48,
     "metadata": {},
     "output_type": "execute_result"
    }
   ],
   "source": [
    "movies_prod_comp = movies_ext[movies_ext['production_companies'].str.contains('Warner Bros')]\n",
    "grouped_df = movies_prod_comp.groupby('release_year').sum()\n",
    "grouped_df.sort_values('profit', ascending=False)"
   ]
  },
  {
   "cell_type": "markdown",
   "metadata": {
    "colab_type": "text",
    "id": "8Im1S2HRVp_4"
   },
   "source": [
    "# 21. В каком месяце за все годы суммарно вышло больше всего фильмов?"
   ]
  },
  {
   "cell_type": "code",
   "execution_count": 49,
   "outputs": [],
   "source": [
    "# +\n",
    "answers['21'] = 'Сентябрь'"
   ],
   "metadata": {
    "collapsed": false,
    "pycharm": {
     "name": "#%%\n"
    }
   }
  },
  {
   "cell_type": "code",
   "execution_count": 50,
   "metadata": {
    "colab": {},
    "colab_type": "code",
    "id": "lev6TH7gVp_4"
   },
   "outputs": [
    {
     "data": {
      "text/plain": "'September'"
     },
     "execution_count": 50,
     "metadata": {},
     "output_type": "execute_result"
    }
   ],
   "source": [
    "import calendar\n",
    "\n",
    "movies_month = movies.copy()\n",
    "movies_month['release_month'] = movies_month['release_date'].apply(extract_month)\n",
    "month_idx = movies_month['release_month'].value_counts().index[0]\n",
    "calendar.month_name[month_idx]"
   ]
  },
  {
   "cell_type": "markdown",
   "metadata": {
    "colab_type": "text",
    "id": "uAJsZ_NeVp_7"
   },
   "source": [
    "# 22. Сколько суммарно вышло фильмов летом? (за июнь, июль, август)"
   ]
  },
  {
   "cell_type": "code",
   "execution_count": 51,
   "outputs": [],
   "source": [
    "# +\n",
    "answers['22'] = '450'"
   ],
   "metadata": {
    "collapsed": false,
    "pycharm": {
     "name": "#%%\n"
    }
   }
  },
  {
   "cell_type": "code",
   "execution_count": 52,
   "metadata": {
    "colab": {},
    "colab_type": "code",
    "id": "Aa-hEREoVp_8"
   },
   "outputs": [
    {
     "data": {
      "text/plain": "450"
     },
     "execution_count": 52,
     "metadata": {},
     "output_type": "execute_result"
    }
   ],
   "source": [
    "summer_months = [6, 7, 8]\n",
    "\n",
    "movies_month = movies.copy()\n",
    "movies_month['release_month'] = movies_month['release_date'].apply(extract_month)\n",
    "len(movies_month[movies_month.release_month.isin(summer_months)].index)"
   ]
  },
  {
   "cell_type": "markdown",
   "metadata": {
    "colab_type": "text",
    "id": "G94ppOY1VqAA"
   },
   "source": [
    "# 23. Для какого режиссера зима – самое продуктивное время года? "
   ]
  },
  {
   "cell_type": "code",
   "execution_count": 53,
   "outputs": [],
   "source": [
    "# +\n",
    "answers['23'] = 'Peter Jackson'"
   ],
   "metadata": {
    "collapsed": false,
    "pycharm": {
     "name": "#%%\n"
    }
   }
  },
  {
   "cell_type": "code",
   "execution_count": 54,
   "metadata": {
    "colab": {},
    "colab_type": "code",
    "id": "RhNTsamuVqAB"
   },
   "outputs": [
    {
     "data": {
      "text/plain": "Peter Jackson        7\nClint Eastwood       6\nSteven Soderbergh    6\nShawn Levy           4\nAdam Shankman        4\n                    ..\nSergey Bodrov        1\nEric Bress           1\nCory Edwards         1\nBill Condon          1\nPete Travis          1\nName: director, Length: 358, dtype: int64"
     },
     "execution_count": 54,
     "metadata": {},
     "output_type": "execute_result"
    }
   ],
   "source": [
    "winter_months = [12, 1, 2]\n",
    "\n",
    "# get only \"winter movies\"\n",
    "movies_new = movies.copy()\n",
    "movies_new['release_month'] = movies_new['release_date'].apply(extract_month)\n",
    "movies_new = movies_new[movies_month.release_month.isin(winter_months)]\n",
    "\n",
    "# solve for director\n",
    "movies_new['director'] = movies_new['director'].apply(separated_text_to_list)\n",
    "movies_new.explode('director')['director'].value_counts()"
   ]
  },
  {
   "cell_type": "markdown",
   "metadata": {
    "colab_type": "text",
    "id": "RBo0JVjVVqAF"
   },
   "source": [
    "# 24. Какая студия дает самые длинные названия своим фильмам по количеству символов?"
   ]
  },
  {
   "cell_type": "code",
   "execution_count": 55,
   "outputs": [],
   "source": [
    "# +\n",
    "answers['24'] = 'Four By Two Productions'"
   ],
   "metadata": {
    "collapsed": false,
    "pycharm": {
     "name": "#%%\n"
    }
   }
  },
  {
   "cell_type": "code",
   "execution_count": 56,
   "metadata": {
    "colab": {},
    "colab_type": "code",
    "id": "QRGS8L0iVqAG"
   },
   "outputs": [
    {
     "data": {
      "text/plain": "                             budget      revenue  runtime  vote_average  \\\nproduction_companies                                                      \nFour By Two Productions  18000000.0  261572744.0     82.0           6.4   \n\n                         release_year  title_len  \nproduction_companies                              \nFour By Two Productions        2006.0       83.0  ",
      "text/html": "<div>\n<style scoped>\n    .dataframe tbody tr th:only-of-type {\n        vertical-align: middle;\n    }\n\n    .dataframe tbody tr th {\n        vertical-align: top;\n    }\n\n    .dataframe thead th {\n        text-align: right;\n    }\n</style>\n<table border=\"1\" class=\"dataframe\">\n  <thead>\n    <tr style=\"text-align: right;\">\n      <th></th>\n      <th>budget</th>\n      <th>revenue</th>\n      <th>runtime</th>\n      <th>vote_average</th>\n      <th>release_year</th>\n      <th>title_len</th>\n    </tr>\n    <tr>\n      <th>production_companies</th>\n      <th></th>\n      <th></th>\n      <th></th>\n      <th></th>\n      <th></th>\n      <th></th>\n    </tr>\n  </thead>\n  <tbody>\n    <tr>\n      <th>Four By Two Productions</th>\n      <td>18000000.0</td>\n      <td>261572744.0</td>\n      <td>82.0</td>\n      <td>6.4</td>\n      <td>2006.0</td>\n      <td>83.0</td>\n    </tr>\n  </tbody>\n</table>\n</div>"
     },
     "execution_count": 56,
     "metadata": {},
     "output_type": "execute_result"
    }
   ],
   "source": [
    "movies_new = movies.copy()\n",
    "movies_new['title_len'] = movies_new['original_title'].apply(lambda s: len(s))\n",
    "movies_new['production_companies'] = movies_new['production_companies'].apply(separated_text_to_list)\n",
    "\n",
    "movies_new = movies_new.explode('production_companies')\n",
    "grouped_df = movies_new.groupby('production_companies').mean()\n",
    "grouped_df[grouped_df.title_len == grouped_df.title_len.max()]"
   ]
  },
  {
   "cell_type": "markdown",
   "metadata": {
    "colab_type": "text",
    "id": "9G0hbvR7VqAK"
   },
   "source": [
    "# 25. Описания фильмов какой студии в среднем самые длинные по количеству слов?"
   ]
  },
  {
   "cell_type": "code",
   "execution_count": 57,
   "outputs": [],
   "source": [
    "# +\n",
    "answers['25'] = 'Midnight Picture Show'"
   ],
   "metadata": {
    "collapsed": false,
    "pycharm": {
     "name": "#%%\n"
    }
   }
  },
  {
   "cell_type": "code",
   "execution_count": 58,
   "metadata": {
    "colab": {},
    "colab_type": "code",
    "id": "Ge2GsLNxVqAK"
   },
   "outputs": [
    {
     "data": {
      "text/plain": "                           budget    revenue  runtime  vote_average  \\\nproduction_companies                                                  \nMidnight Picture Show  15000000.0  3533227.0     98.0           5.7   \n\n                       release_year  overview_len  \nproduction_companies                               \nMidnight Picture Show        2008.0         176.0  ",
      "text/html": "<div>\n<style scoped>\n    .dataframe tbody tr th:only-of-type {\n        vertical-align: middle;\n    }\n\n    .dataframe tbody tr th {\n        vertical-align: top;\n    }\n\n    .dataframe thead th {\n        text-align: right;\n    }\n</style>\n<table border=\"1\" class=\"dataframe\">\n  <thead>\n    <tr style=\"text-align: right;\">\n      <th></th>\n      <th>budget</th>\n      <th>revenue</th>\n      <th>runtime</th>\n      <th>vote_average</th>\n      <th>release_year</th>\n      <th>overview_len</th>\n    </tr>\n    <tr>\n      <th>production_companies</th>\n      <th></th>\n      <th></th>\n      <th></th>\n      <th></th>\n      <th></th>\n      <th></th>\n    </tr>\n  </thead>\n  <tbody>\n    <tr>\n      <th>Midnight Picture Show</th>\n      <td>15000000.0</td>\n      <td>3533227.0</td>\n      <td>98.0</td>\n      <td>5.7</td>\n      <td>2008.0</td>\n      <td>176.0</td>\n    </tr>\n  </tbody>\n</table>\n</div>"
     },
     "execution_count": 58,
     "metadata": {},
     "output_type": "execute_result"
    }
   ],
   "source": [
    "movies_new = movies.copy()\n",
    "movies_new['overview_len'] = movies_new['overview'].apply(count_words)\n",
    "movies_new['production_companies'] = movies_new['production_companies'].apply(separated_text_to_list)\n",
    "\n",
    "movies_new = movies_new.explode('production_companies')\n",
    "grouped_df = movies_new.groupby('production_companies').mean()\n",
    "grouped_df[grouped_df.overview_len == grouped_df.overview_len.max()]"
   ]
  },
  {
   "cell_type": "markdown",
   "metadata": {
    "colab_type": "text",
    "id": "FJ1AFt90VqAP"
   },
   "source": [
    "# 26. Какие фильмы входят в 1 процент лучших по рейтингу? \n",
    "по vote_average"
   ]
  },
  {
   "cell_type": "code",
   "execution_count": 59,
   "outputs": [],
   "source": [
    "# +\n",
    "answers['26'] = 'Inside Out, The Dark Knight, 12 Years a Slave верно'"
   ],
   "metadata": {
    "collapsed": false,
    "pycharm": {
     "name": "#%%\n"
    }
   }
  },
  {
   "cell_type": "code",
   "execution_count": 60,
   "metadata": {
    "colab": {},
    "colab_type": "code",
    "id": "8qmJVq4CVqAQ"
   },
   "outputs": [
    {
     "data": {
      "text/plain": "                                     original_title  vote_average\n155                        The Theory of Everything           7.8\n863           The Lord of the Rings: The Two Towers           7.8\n1688                            There Will Be Blood           7.8\n283                                      Mr. Nobody           7.8\n1191                               12 Years a Slave           7.9\n872                                     The Pianist           7.9\n128                                       Gone Girl           7.9\n1800                                        Memento           7.9\n119                         Guardians of the Galaxy           7.9\n370                                       Inception           7.9\n1183                        The Wolf of Wall Street           7.9\n138                        The Grand Budapest Hotel           7.9\n1081  The Lord of the Rings: The Return of the King           7.9\n34                                             Room           8.0\n118                                    Interstellar           8.0\n9                                        Inside Out           8.0\n125                              The Imitation Game           8.0\n599                                 The Dark Knight           8.1",
      "text/html": "<div>\n<style scoped>\n    .dataframe tbody tr th:only-of-type {\n        vertical-align: middle;\n    }\n\n    .dataframe tbody tr th {\n        vertical-align: top;\n    }\n\n    .dataframe thead th {\n        text-align: right;\n    }\n</style>\n<table border=\"1\" class=\"dataframe\">\n  <thead>\n    <tr style=\"text-align: right;\">\n      <th></th>\n      <th>original_title</th>\n      <th>vote_average</th>\n    </tr>\n  </thead>\n  <tbody>\n    <tr>\n      <th>155</th>\n      <td>The Theory of Everything</td>\n      <td>7.8</td>\n    </tr>\n    <tr>\n      <th>863</th>\n      <td>The Lord of the Rings: The Two Towers</td>\n      <td>7.8</td>\n    </tr>\n    <tr>\n      <th>1688</th>\n      <td>There Will Be Blood</td>\n      <td>7.8</td>\n    </tr>\n    <tr>\n      <th>283</th>\n      <td>Mr. Nobody</td>\n      <td>7.8</td>\n    </tr>\n    <tr>\n      <th>1191</th>\n      <td>12 Years a Slave</td>\n      <td>7.9</td>\n    </tr>\n    <tr>\n      <th>872</th>\n      <td>The Pianist</td>\n      <td>7.9</td>\n    </tr>\n    <tr>\n      <th>128</th>\n      <td>Gone Girl</td>\n      <td>7.9</td>\n    </tr>\n    <tr>\n      <th>1800</th>\n      <td>Memento</td>\n      <td>7.9</td>\n    </tr>\n    <tr>\n      <th>119</th>\n      <td>Guardians of the Galaxy</td>\n      <td>7.9</td>\n    </tr>\n    <tr>\n      <th>370</th>\n      <td>Inception</td>\n      <td>7.9</td>\n    </tr>\n    <tr>\n      <th>1183</th>\n      <td>The Wolf of Wall Street</td>\n      <td>7.9</td>\n    </tr>\n    <tr>\n      <th>138</th>\n      <td>The Grand Budapest Hotel</td>\n      <td>7.9</td>\n    </tr>\n    <tr>\n      <th>1081</th>\n      <td>The Lord of the Rings: The Return of the King</td>\n      <td>7.9</td>\n    </tr>\n    <tr>\n      <th>34</th>\n      <td>Room</td>\n      <td>8.0</td>\n    </tr>\n    <tr>\n      <th>118</th>\n      <td>Interstellar</td>\n      <td>8.0</td>\n    </tr>\n    <tr>\n      <th>9</th>\n      <td>Inside Out</td>\n      <td>8.0</td>\n    </tr>\n    <tr>\n      <th>125</th>\n      <td>The Imitation Game</td>\n      <td>8.0</td>\n    </tr>\n    <tr>\n      <th>599</th>\n      <td>The Dark Knight</td>\n      <td>8.1</td>\n    </tr>\n  </tbody>\n</table>\n</div>"
     },
     "execution_count": 60,
     "metadata": {},
     "output_type": "execute_result"
    }
   ],
   "source": [
    "movies[['original_title','vote_average']].sort_values(by='vote_average').tail(int(len(movies.index)/100))"
   ]
  },
  {
   "cell_type": "markdown",
   "source": [
    "ВАРИАНТ 2"
   ],
   "metadata": {
    "collapsed": false
   }
  },
  {
   "cell_type": "code",
   "execution_count": 61,
   "outputs": [
    {
     "data": {
      "text/plain": "                                     original_title  vote_average\n9                                        Inside Out           8.0\n34                                             Room           8.0\n118                                    Interstellar           8.0\n119                         Guardians of the Galaxy           7.9\n125                              The Imitation Game           8.0\n128                                       Gone Girl           7.9\n138                        The Grand Budapest Hotel           7.9\n370                                       Inception           7.9\n599                                 The Dark Knight           8.1\n872                                     The Pianist           7.9\n1081  The Lord of the Rings: The Return of the King           7.9\n1183                        The Wolf of Wall Street           7.9\n1191                               12 Years a Slave           7.9\n1800                                        Memento           7.9",
      "text/html": "<div>\n<style scoped>\n    .dataframe tbody tr th:only-of-type {\n        vertical-align: middle;\n    }\n\n    .dataframe tbody tr th {\n        vertical-align: top;\n    }\n\n    .dataframe thead th {\n        text-align: right;\n    }\n</style>\n<table border=\"1\" class=\"dataframe\">\n  <thead>\n    <tr style=\"text-align: right;\">\n      <th></th>\n      <th>original_title</th>\n      <th>vote_average</th>\n    </tr>\n  </thead>\n  <tbody>\n    <tr>\n      <th>9</th>\n      <td>Inside Out</td>\n      <td>8.0</td>\n    </tr>\n    <tr>\n      <th>34</th>\n      <td>Room</td>\n      <td>8.0</td>\n    </tr>\n    <tr>\n      <th>118</th>\n      <td>Interstellar</td>\n      <td>8.0</td>\n    </tr>\n    <tr>\n      <th>119</th>\n      <td>Guardians of the Galaxy</td>\n      <td>7.9</td>\n    </tr>\n    <tr>\n      <th>125</th>\n      <td>The Imitation Game</td>\n      <td>8.0</td>\n    </tr>\n    <tr>\n      <th>128</th>\n      <td>Gone Girl</td>\n      <td>7.9</td>\n    </tr>\n    <tr>\n      <th>138</th>\n      <td>The Grand Budapest Hotel</td>\n      <td>7.9</td>\n    </tr>\n    <tr>\n      <th>370</th>\n      <td>Inception</td>\n      <td>7.9</td>\n    </tr>\n    <tr>\n      <th>599</th>\n      <td>The Dark Knight</td>\n      <td>8.1</td>\n    </tr>\n    <tr>\n      <th>872</th>\n      <td>The Pianist</td>\n      <td>7.9</td>\n    </tr>\n    <tr>\n      <th>1081</th>\n      <td>The Lord of the Rings: The Return of the King</td>\n      <td>7.9</td>\n    </tr>\n    <tr>\n      <th>1183</th>\n      <td>The Wolf of Wall Street</td>\n      <td>7.9</td>\n    </tr>\n    <tr>\n      <th>1191</th>\n      <td>12 Years a Slave</td>\n      <td>7.9</td>\n    </tr>\n    <tr>\n      <th>1800</th>\n      <td>Memento</td>\n      <td>7.9</td>\n    </tr>\n  </tbody>\n</table>\n</div>"
     },
     "execution_count": 61,
     "metadata": {},
     "output_type": "execute_result"
    }
   ],
   "source": [
    "# NB! This 2nd solution via quantile works a bit tricky on this db.\n",
    "# There are more (for >=) or less (for >) rows selected than exactly 10% of movies\n",
    "movies[['original_title','vote_average']][movies.vote_average > movies.vote_average.quantile(0.99)]"
   ],
   "metadata": {
    "collapsed": false,
    "pycharm": {
     "name": "#%%\n"
    }
   }
  },
  {
   "cell_type": "markdown",
   "metadata": {
    "colab_type": "text",
    "id": "MdXsUXbCVqAV"
   },
   "source": [
    "# 27. Какие актеры чаще всего снимаются в одном фильме вместе?"
   ]
  },
  {
   "cell_type": "code",
   "execution_count": 62,
   "outputs": [],
   "source": [
    "# +\n",
    "answers['27'] = 'Daniel Radcliffe, Rupert Grint'"
   ],
   "metadata": {
    "collapsed": false,
    "pycharm": {
     "name": "#%%\n"
    }
   }
  },
  {
   "cell_type": "code",
   "source": [
    "cast_column = movies['cast'].apply(separated_text_to_list)\n",
    "\n",
    "total_rows = len(movies.index)\n",
    "proceed_actors = []\n",
    "top_pair = None\n",
    "num_common_movies_max = 0\n",
    "\n",
    "start = time.time()\n",
    "\n",
    "for index, cast in cast_column.iteritems():\n",
    "    for actor_pair in itertools.combinations(cast, 2):\n",
    "        actor_pair_set = set(actor_pair)\n",
    "\n",
    "        # if current pair was not proceed yet\n",
    "        if actor_pair_set not in proceed_actors:\n",
    "            # common_movies = movies[movies.cast.str.contains(fr'(?=.*{actor_pair[0]})(?=.*{actor_pair[1]})', regex=True)]\n",
    "            common_movies = movies[movies.cast.str.contains(actor_pair[0])\n",
    "                                 & movies.cast.str.contains(actor_pair[1])]\n",
    "            num_common_movies_cur = len(common_movies.index)\n",
    "\n",
    "            if num_common_movies_cur > num_common_movies_max:\n",
    "                num_common_movies_max = num_common_movies_cur\n",
    "                top_pair = actor_pair\n",
    "\n",
    "            # add actor pair to already proceed actors\n",
    "            proceed_actors.append(actor_pair_set)\n",
    "\n",
    "    # just out some progress\n",
    "    print(f'{index/(total_rows-1):.2%} done', end=\"\\r\", flush=True)\n",
    "\n",
    "end = time.time()\n",
    "print()\n",
    "print(f'top_pair={top_pair} num_common_movies_max={num_common_movies_max}, time={end-start}')"
   ],
   "metadata": {
    "collapsed": false,
    "pycharm": {
     "name": "#%%\n"
    }
   },
   "execution_count": 63,
   "outputs": [
    {
     "name": "stdout",
     "output_type": "stream",
     "text": [
      "100.00% done\r\n",
      "top_pair=('Daniel Radcliffe', 'Rupert Grint') num_common_movies_max=8, time=40.15754771232605\n"
     ]
    }
   ]
  },
  {
   "cell_type": "code",
   "execution_count": 64,
   "outputs": [
    {
     "data": {
      "text/plain": "\"Chris Pratt|Bryce Dallas Howard|Irrfan Khan|Vincent D'Onofrio|Nick Robinson\""
     },
     "execution_count": 64,
     "metadata": {},
     "output_type": "execute_result"
    }
   ],
   "source": [
    "movies.cast[0]\n",
    "# movies.cast.str.contains(fr'(?=.*{actor_pair[0]})(?=.*{actor_pair[1]})|', regex=True)"
   ],
   "metadata": {
    "collapsed": false,
    "pycharm": {
     "name": "#%%\n"
    }
   }
  },
  {
   "cell_type": "code",
   "execution_count": 65,
   "outputs": [
    {
     "data": {
      "text/plain": "0        True\n1       False\n2       False\n3       False\n4       False\n        ...  \n1884    False\n1885    False\n1886    False\n1887    False\n1888    False\nName: cast, Length: 1889, dtype: bool"
     },
     "execution_count": 65,
     "metadata": {},
     "output_type": "execute_result"
    }
   ],
   "source": [
    "movies.cast.str.contains(f'(?=.*Chris)(?=.*Dallas)', regex=True)"
   ],
   "metadata": {
    "collapsed": false,
    "pycharm": {
     "name": "#%%\n"
    }
   }
  },
  {
   "cell_type": "markdown",
   "source": [
    "ВАРИАНТ 2"
   ],
   "metadata": {
    "collapsed": false,
    "pycharm": {
     "name": "#%% md\n"
    }
   }
  },
  {
   "cell_type": "code",
   "execution_count": 66,
   "outputs": [
    {
     "name": "stdout",
     "output_type": "stream",
     "text": [
      "100.00% done\r\n",
      "top_pair=('Daniel Radcliffe', 'Rupert Grint') num_common_movies_max=8, time=228.58824396133423\n"
     ]
    }
   ],
   "source": [
    "# NB! Much more slower via one invocation with regex in str.contains..\n",
    "\n",
    "cast_column = movies['cast'].apply(separated_text_to_list)\n",
    "\n",
    "total_rows = len(movies.index)\n",
    "proceed_actors = []\n",
    "top_pair = None\n",
    "num_common_movies_max = 0\n",
    "\n",
    "start = time.time()\n",
    "\n",
    "for index, cast in cast_column.iteritems():\n",
    "    for actor_pair in itertools.combinations(cast, 2):\n",
    "        actor_pair_set = set(actor_pair)\n",
    "\n",
    "        # if current pair was not proceed yet\n",
    "        if actor_pair_set not in proceed_actors:\n",
    "            common_movies = movies[movies.cast.str.contains(fr'(?=.*{actor_pair[0]})(?=.*{actor_pair[1]})', regex=True)]\n",
    "            num_common_movies_cur = len(common_movies.index)\n",
    "\n",
    "            if num_common_movies_cur > num_common_movies_max:\n",
    "                num_common_movies_max = num_common_movies_cur\n",
    "                top_pair = actor_pair\n",
    "\n",
    "            # add actor pair to already proceed actors\n",
    "            proceed_actors.append(actor_pair_set)\n",
    "\n",
    "    # just out some progress\n",
    "    print(f'{index/(total_rows-1):.2%} done', end=\"\\r\", flush=True)\n",
    "\n",
    "end = time.time()\n",
    "print()\n",
    "print(f'top_pair={top_pair} num_common_movies_max={num_common_movies_max}, time={end-start}')"
   ],
   "metadata": {
    "collapsed": false,
    "pycharm": {
     "name": "#%%\n"
    }
   }
  },
  {
   "cell_type": "markdown",
   "source": [
    "# Submission"
   ],
   "metadata": {
    "collapsed": false
   }
  },
  {
   "cell_type": "code",
   "execution_count": 67,
   "metadata": {
    "colab": {},
    "colab_type": "code",
    "id": "IfcaRO9-VqAX",
    "outputId": "0f132912-32bb-4196-c98c-abfbc4ad5a5f"
   },
   "outputs": [
    {
     "data": {
      "text/plain": "{'1': 'Pirates of the Caribbean: On Stranger Tides',\n '2': 'Gods and Generals',\n '3': 'Winnie the Pooh',\n '4': '110',\n '5': '107',\n '6': 'Avatar',\n '7': 'The Lone Ranger',\n '8': '1478',\n '9': 'The Dark Knight',\n '10': 'The Lone Ranger',\n '11': 'Drama',\n '12': 'Drama',\n '13': 'Peter Jackson',\n '14': 'Robert Rodriguez',\n '15': 'Chris Hemsworth',\n '16': 'Matt Damon',\n '17': 'Action',\n '18': 'K-19: The Widowmaker',\n '19': '2015',\n '20': '2014',\n '21': 'Сентябрь',\n '22': '450',\n '23': 'Peter Jackson',\n '24': 'Four By Two Productions',\n '25': 'Midnight Picture Show',\n '26': 'Inside Out, The Dark Knight, 12 Years a Slave верно',\n '27': 'Daniel Radcliffe, Rupert Grint'}"
     },
     "execution_count": 67,
     "metadata": {},
     "output_type": "execute_result"
    }
   ],
   "source": [
    "# в конце можно посмотреть свои ответы к каждому вопросу\n",
    "answers"
   ]
  },
  {
   "cell_type": "code",
   "execution_count": 68,
   "metadata": {
    "colab": {},
    "colab_type": "code",
    "id": "SiRmHPl8VqAd",
    "pycharm": {
     "name": "#%%\n"
    }
   },
   "outputs": [
    {
     "data": {
      "text/plain": "27"
     },
     "execution_count": 68,
     "metadata": {},
     "output_type": "execute_result"
    }
   ],
   "source": [
    "# и убедиться что ни чего не пропустил)\n",
    "len(answers)"
   ]
  }
 ],
 "metadata": {
  "colab": {
   "name": "Copy of [SF-DST] Movies IMBD v4.1 TEMPLATE.ipynb",
   "provenance": []
  },
  "kernelspec": {
   "display_name": "Python 3",
   "language": "python",
   "name": "python3"
  },
  "language_info": {
   "codemirror_mode": {
    "name": "ipython",
    "version": 3
   },
   "file_extension": ".py",
   "mimetype": "text/x-python",
   "name": "python",
   "nbconvert_exporter": "python",
   "pygments_lexer": "ipython3",
   "version": "3.7.4"
  }
 },
 "nbformat": 4,
 "nbformat_minor": 1
}