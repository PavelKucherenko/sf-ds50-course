{
 "cells": [
  {
   "cell_type": "markdown",
   "source": [
    "# Import"
   ],
   "metadata": {
    "collapsed": false
   }
  },
  {
   "cell_type": "code",
   "execution_count": 69,
   "outputs": [],
   "source": [
    "import pandas as pd\n",
    "from pandas_profiling import ProfileReport\n",
    "import numpy as np\n",
    "import matplotlib.pyplot as plt\n",
    "%matplotlib inline\n",
    "from IPython.display import display\n",
    "import seaborn as sb\n",
    "\n",
    "from sklearn.model_selection import train_test_split\n",
    "from sklearn.preprocessing import LabelEncoder\n",
    "from sklearn.feature_selection import mutual_info_classif\n",
    "from sklearn.feature_selection import f_classif\n",
    "from sklearn.preprocessing import StandardScaler\n",
    "from sklearn.linear_model import LogisticRegression\n",
    "from sklearn.metrics import accuracy_score, precision_score, recall_score, f1_score\n",
    "from sklearn.metrics import plot_confusion_matrix\n",
    "from sklearn.metrics import roc_curve, roc_auc_score\n",
    "from sklearn.model_selection import GridSearchCV\n",
    "\n",
    "from sklearn.model_selection import StratifiedKFold\n",
    "\n",
    "from xgboost import XGBClassifier\n",
    "from sklearn.model_selection import RandomizedSearchCV"
   ],
   "metadata": {
    "collapsed": false,
    "pycharm": {
     "name": "#%%\n"
    }
   }
  },
  {
   "cell_type": "markdown",
   "source": [
    "# Functions"
   ],
   "metadata": {
    "collapsed": false
   }
  },
  {
   "cell_type": "code",
   "execution_count": 75,
   "outputs": [],
   "source": [
    "def fillna_mode(df, col):\n",
    "    \"\"\"\n",
    "    Function fills NaN values in column of df with MODE value.\n",
    "    :param col: Column to replace NaN with mode\n",
    "    :param df: Dataframe with specified column\n",
    "    \"\"\"\n",
    "    df.fillna({col : df[col].mode().iloc[0]}, inplace=True)\n",
    "\n",
    "def fillna_group_mode(df, grp_col, col):\n",
    "    \"\"\"\n",
    "    Function fills NaN values in column of df with MODE value computed for categories in group column.\n",
    "    :param df: Dataframe with specified column\n",
    "    :param grp_col: Column with categories to group by\n",
    "    :param col: Column to replace NaN with mode\n",
    "    \"\"\"\n",
    "\n",
    "    col_mode = df.groupby(grp_col)[col].agg(lambda x: pd.Series.mode(x)[0])\n",
    "    df[col] = df[[grp_col, col]].apply(lambda elms: col_mode[elms[0]] if pd.isna(elms[1]) else elms[1], axis=1)\n",
    "\n",
    "def show_boxplot(df, qual_col, y_col, showfliers=True):\n",
    "    \"\"\"\n",
    "    Show boxplots for every qualitative value in specified column\n",
    "    :param showfliers: parameter for show/hide outliers\n",
    "    :param df: DataFrame\n",
    "    :param qual_col: Column with qualitative values\n",
    "    :param y_col: y variable for boxplot\n",
    "    \"\"\"\n",
    "    n_unique = df[qual_col].nunique()\n",
    "    fig, ax = plt.subplots(figsize = (1.5*n_unique, 10))\n",
    "    sb.boxplot(x=qual_col, y=y_col, data=df, ax=ax, showfliers=showfliers, medianprops={'color':'red'})\n",
    "    plt.xticks(rotation=45)\n",
    "    ax.set_title(f'Boxplot for {col}')\n",
    "    plt.show()\n",
    "\n",
    "def show_clf_metrics(y_true, y_pred):\n",
    "    print('precision_score=',precision_score(y_true, y_pred))\n",
    "    print('recall_score=',   recall_score(y_true, y_pred))\n",
    "    print('accuracy_score=', accuracy_score(y_true, y_pred))\n",
    "    print('f1_score=',       f1_score(y_true, y_pred))\n",
    "\n",
    "def preproc_data(df_in):\n",
    "    \"\"\"\n",
    "    All-in-one function which contains code presented in the cells below.\n",
    "    We can choose how to get preprocessed data in \"Model training->Define preprocessed data\" section.\n",
    "    So after section \"Data loading\" you should choose a way for data preprocessing -\n",
    "    via cells run in a chain or via this function\n",
    "    \"\"\"\n",
    "\n",
    "    df_out = df_in.copy()\n",
    "\n",
    "    # define columns with different kinds of features\n",
    "    bin_text_cols = ['sex', 'car', 'car_type', 'foreign_passport']\n",
    "    bin_cols = bin_text_cols + ['good_work']\n",
    "\n",
    "    cat_text_cols = ['education']\n",
    "    cat_cols = cat_text_cols + ['home_address', 'work_address', 'sna', 'first_time']\n",
    "    qual_cols = bin_cols + cat_cols\n",
    "\n",
    "    num_cols = ['age','decline_app_cnt','score_bki','income','bki_request_cnt','region_rating']\n",
    "\n",
    "    # replace education NaN values with car_type's mode\n",
    "    fillna_group_mode(df_out, 'car_type', 'education')\n",
    "\n",
    "    # # some distribution are skewed to the left, let's use log function for them\n",
    "    # for col in ['decline_app_cnt', 'income', 'bki_request_cnt']:\n",
    "    #     df_train[col] = np.log(df_train[col]+1)\n",
    "\n",
    "    # === Feature engineering ===\n",
    "\n",
    "    # Add dummy columns for all categorical features\n",
    "    df_out = pd.get_dummies(df_out, prefix=cat_cols, columns=cat_cols)\n",
    "\n",
    "    # encode text binary features\n",
    "    for col in bin_text_cols:\n",
    "        df_out[col] = LabelEncoder().fit_transform(df_out[col])\n",
    "\n",
    "    # all numeric features list for further appending\n",
    "    all_num_cols = num_cols\n",
    "\n",
    "    # date column\n",
    "    df_out['app_date'] = pd.to_datetime(df_out['app_date'])\n",
    "\n",
    "    # number of clients with same date of application\n",
    "    clients_in_date = df_out.groupby('app_date')['client_id'].count()\n",
    "    df_out['clients_in_date'] = df_out['app_date'].apply(lambda x: clients_in_date[x])\n",
    "    all_num_cols.append('clients_in_date')\n",
    "\n",
    "    # days from the first date\n",
    "    first_date = df_out['app_date'].min()\n",
    "    df_out['app_delay'] = df_out['app_date'].apply(lambda x: (x - first_date).days)\n",
    "    all_num_cols.append('app_delay')\n",
    "\n",
    "    # mean income by age\n",
    "    mean_income_age = df_out.groupby('age')['income'].mean()\n",
    "    df_out['mean_income_age'] = df_out['age'].apply(lambda x: mean_income_age[x])\n",
    "    all_num_cols.append('mean_income_age')\n",
    "\n",
    "    # max income by age\n",
    "    max_income_age = df_out.groupby('age')['income'].max()\n",
    "    df_out['max_income_age'] = df_out['age'].apply(lambda x: max_income_age[x])\n",
    "    all_num_cols.append('max_income_age')\n",
    "\n",
    "    # mean income by region\n",
    "    mean_income_reg = df_out.groupby('region_rating')['income'].mean()\n",
    "    df_out['mean_income_region'] = df_out['region_rating'].apply(lambda x: mean_income_reg[x])\n",
    "    all_num_cols.append('mean_income_region')\n",
    "\n",
    "    # max income by region\n",
    "    max_income_reg = df_out.groupby('region_rating')['income'].max()\n",
    "    df_out['max_income_region'] = df_out['region_rating'].apply(lambda x: max_income_reg[x])\n",
    "    all_num_cols.append('max_income_region')\n",
    "\n",
    "    # mean declines by age\n",
    "    mean_declines_age = df_out.groupby('age')['decline_app_cnt'].mean()\n",
    "    df_out['mean_declines_age'] = df_out['age'].apply(lambda x: mean_declines_age[x])\n",
    "    all_num_cols.append('mean_declines_age')\n",
    "\n",
    "    # scale all numeric feature via StandardScaler\n",
    "    scaled_features = StandardScaler().fit_transform(df_out[all_num_cols].values)\n",
    "    df_out[all_num_cols] = pd.DataFrame(scaled_features, index=df_out.index, columns=all_num_cols)\n",
    "\n",
    "    # drop unneseccary columns\n",
    "    df_out.drop(['client_id','app_date'], axis=1, inplace=True)\n",
    "\n",
    "    return df_out"
   ],
   "metadata": {
    "collapsed": false,
    "pycharm": {
     "name": "#%%\n"
    }
   }
  },
  {
   "cell_type": "markdown",
   "source": [
    "# Init"
   ],
   "metadata": {
    "collapsed": false
   }
  },
  {
   "cell_type": "code",
   "execution_count": 76,
   "outputs": [],
   "source": [
    "sb.set_style(\"darkgrid\")\n",
    "\n",
    "# fix random seed\n",
    "SEED = 42\n",
    "\n",
    "# fix requirements\n",
    "!pip freeze > requirements.txt"
   ],
   "metadata": {
    "collapsed": false,
    "pycharm": {
     "name": "#%%\n"
    }
   }
  },
  {
   "cell_type": "markdown",
   "source": [
    "# Data loading\n"
   ],
   "metadata": {
    "collapsed": false
   }
  },
  {
   "cell_type": "code",
   "execution_count": 77,
   "outputs": [
    {
     "name": "stdout",
     "output_type": "stream",
     "text": [
      "<class 'pandas.core.frame.DataFrame'>\n",
      "RangeIndex: 73799 entries, 0 to 73798\n",
      "Data columns (total 19 columns):\n",
      " #   Column            Non-Null Count  Dtype  \n",
      "---  ------            --------------  -----  \n",
      " 0   client_id         73799 non-null  int64  \n",
      " 1   app_date          73799 non-null  object \n",
      " 2   education         73492 non-null  object \n",
      " 3   sex               73799 non-null  object \n",
      " 4   age               73799 non-null  int64  \n",
      " 5   car               73799 non-null  object \n",
      " 6   car_type          73799 non-null  object \n",
      " 7   decline_app_cnt   73799 non-null  int64  \n",
      " 8   good_work         73799 non-null  int64  \n",
      " 9   score_bki         73799 non-null  float64\n",
      " 10  bki_request_cnt   73799 non-null  int64  \n",
      " 11  region_rating     73799 non-null  int64  \n",
      " 12  home_address      73799 non-null  int64  \n",
      " 13  work_address      73799 non-null  int64  \n",
      " 14  income            73799 non-null  int64  \n",
      " 15  sna               73799 non-null  int64  \n",
      " 16  first_time        73799 non-null  int64  \n",
      " 17  foreign_passport  73799 non-null  object \n",
      " 18  default           73799 non-null  int64  \n",
      "dtypes: float64(1), int64(12), object(6)\n",
      "memory usage: 10.7+ MB\n",
      "<class 'pandas.core.frame.DataFrame'>\n",
      "RangeIndex: 36349 entries, 0 to 36348\n",
      "Data columns (total 18 columns):\n",
      " #   Column            Non-Null Count  Dtype  \n",
      "---  ------            --------------  -----  \n",
      " 0   client_id         36349 non-null  int64  \n",
      " 1   app_date          36349 non-null  object \n",
      " 2   education         36178 non-null  object \n",
      " 3   sex               36349 non-null  object \n",
      " 4   age               36349 non-null  int64  \n",
      " 5   car               36349 non-null  object \n",
      " 6   car_type          36349 non-null  object \n",
      " 7   decline_app_cnt   36349 non-null  int64  \n",
      " 8   good_work         36349 non-null  int64  \n",
      " 9   score_bki         36349 non-null  float64\n",
      " 10  bki_request_cnt   36349 non-null  int64  \n",
      " 11  region_rating     36349 non-null  int64  \n",
      " 12  home_address      36349 non-null  int64  \n",
      " 13  work_address      36349 non-null  int64  \n",
      " 14  income            36349 non-null  int64  \n",
      " 15  sna               36349 non-null  int64  \n",
      " 16  first_time        36349 non-null  int64  \n",
      " 17  foreign_passport  36349 non-null  object \n",
      "dtypes: float64(1), int64(11), object(6)\n",
      "memory usage: 5.0+ MB\n"
     ]
    },
    {
     "data": {
      "text/plain": "           client_id           age  decline_app_cnt     good_work  \\\ncount   73799.000000  73799.000000     73799.000000  73799.000000   \nmean    55137.965094     39.280641         0.275749      0.164894   \nstd     31841.921168     11.520378         0.804272      0.371087   \nmin         1.000000     21.000000         0.000000      0.000000   \n25%     27440.500000     30.000000         0.000000      0.000000   \n50%     55274.000000     37.000000         0.000000      0.000000   \n75%     82758.500000     48.000000         0.000000      0.000000   \nmax    110147.000000     72.000000        33.000000      1.000000   \n\n          score_bki  bki_request_cnt  region_rating  home_address  \\\ncount  73799.000000     73799.000000   73799.000000  73799.000000   \nmean      -1.904724         2.000339      56.725701      1.575509   \nstd        0.498231         2.252073      13.055717      0.527631   \nmin       -3.624586         0.000000      20.000000      1.000000   \n25%       -2.259534         0.000000      50.000000      1.000000   \n50%       -1.920823         1.000000      50.000000      2.000000   \n75%       -1.569831         3.000000      60.000000      2.000000   \nmax        0.199773        53.000000      80.000000      3.000000   \n\n       work_address          income           sna    first_time       default  \ncount  73799.000000    73799.000000  73799.000000  73799.000000  73799.000000  \nmean       2.496280    41099.775417      1.733330      2.765458      0.126994  \nstd        0.689818    46166.322400      1.123622      1.009463      0.332968  \nmin        1.000000     1000.000000      1.000000      1.000000      0.000000  \n25%        2.000000    20000.000000      1.000000      2.000000      0.000000  \n50%        3.000000    30000.000000      1.000000      3.000000      0.000000  \n75%        3.000000    48000.000000      2.000000      4.000000      0.000000  \nmax        3.000000  1000000.000000      4.000000      4.000000      1.000000  ",
      "text/html": "<div>\n<style scoped>\n    .dataframe tbody tr th:only-of-type {\n        vertical-align: middle;\n    }\n\n    .dataframe tbody tr th {\n        vertical-align: top;\n    }\n\n    .dataframe thead th {\n        text-align: right;\n    }\n</style>\n<table border=\"1\" class=\"dataframe\">\n  <thead>\n    <tr style=\"text-align: right;\">\n      <th></th>\n      <th>client_id</th>\n      <th>age</th>\n      <th>decline_app_cnt</th>\n      <th>good_work</th>\n      <th>score_bki</th>\n      <th>bki_request_cnt</th>\n      <th>region_rating</th>\n      <th>home_address</th>\n      <th>work_address</th>\n      <th>income</th>\n      <th>sna</th>\n      <th>first_time</th>\n      <th>default</th>\n    </tr>\n  </thead>\n  <tbody>\n    <tr>\n      <th>count</th>\n      <td>73799.000000</td>\n      <td>73799.000000</td>\n      <td>73799.000000</td>\n      <td>73799.000000</td>\n      <td>73799.000000</td>\n      <td>73799.000000</td>\n      <td>73799.000000</td>\n      <td>73799.000000</td>\n      <td>73799.000000</td>\n      <td>73799.000000</td>\n      <td>73799.000000</td>\n      <td>73799.000000</td>\n      <td>73799.000000</td>\n    </tr>\n    <tr>\n      <th>mean</th>\n      <td>55137.965094</td>\n      <td>39.280641</td>\n      <td>0.275749</td>\n      <td>0.164894</td>\n      <td>-1.904724</td>\n      <td>2.000339</td>\n      <td>56.725701</td>\n      <td>1.575509</td>\n      <td>2.496280</td>\n      <td>41099.775417</td>\n      <td>1.733330</td>\n      <td>2.765458</td>\n      <td>0.126994</td>\n    </tr>\n    <tr>\n      <th>std</th>\n      <td>31841.921168</td>\n      <td>11.520378</td>\n      <td>0.804272</td>\n      <td>0.371087</td>\n      <td>0.498231</td>\n      <td>2.252073</td>\n      <td>13.055717</td>\n      <td>0.527631</td>\n      <td>0.689818</td>\n      <td>46166.322400</td>\n      <td>1.123622</td>\n      <td>1.009463</td>\n      <td>0.332968</td>\n    </tr>\n    <tr>\n      <th>min</th>\n      <td>1.000000</td>\n      <td>21.000000</td>\n      <td>0.000000</td>\n      <td>0.000000</td>\n      <td>-3.624586</td>\n      <td>0.000000</td>\n      <td>20.000000</td>\n      <td>1.000000</td>\n      <td>1.000000</td>\n      <td>1000.000000</td>\n      <td>1.000000</td>\n      <td>1.000000</td>\n      <td>0.000000</td>\n    </tr>\n    <tr>\n      <th>25%</th>\n      <td>27440.500000</td>\n      <td>30.000000</td>\n      <td>0.000000</td>\n      <td>0.000000</td>\n      <td>-2.259534</td>\n      <td>0.000000</td>\n      <td>50.000000</td>\n      <td>1.000000</td>\n      <td>2.000000</td>\n      <td>20000.000000</td>\n      <td>1.000000</td>\n      <td>2.000000</td>\n      <td>0.000000</td>\n    </tr>\n    <tr>\n      <th>50%</th>\n      <td>55274.000000</td>\n      <td>37.000000</td>\n      <td>0.000000</td>\n      <td>0.000000</td>\n      <td>-1.920823</td>\n      <td>1.000000</td>\n      <td>50.000000</td>\n      <td>2.000000</td>\n      <td>3.000000</td>\n      <td>30000.000000</td>\n      <td>1.000000</td>\n      <td>3.000000</td>\n      <td>0.000000</td>\n    </tr>\n    <tr>\n      <th>75%</th>\n      <td>82758.500000</td>\n      <td>48.000000</td>\n      <td>0.000000</td>\n      <td>0.000000</td>\n      <td>-1.569831</td>\n      <td>3.000000</td>\n      <td>60.000000</td>\n      <td>2.000000</td>\n      <td>3.000000</td>\n      <td>48000.000000</td>\n      <td>2.000000</td>\n      <td>4.000000</td>\n      <td>0.000000</td>\n    </tr>\n    <tr>\n      <th>max</th>\n      <td>110147.000000</td>\n      <td>72.000000</td>\n      <td>33.000000</td>\n      <td>1.000000</td>\n      <td>0.199773</td>\n      <td>53.000000</td>\n      <td>80.000000</td>\n      <td>3.000000</td>\n      <td>3.000000</td>\n      <td>1000000.000000</td>\n      <td>4.000000</td>\n      <td>4.000000</td>\n      <td>1.000000</td>\n    </tr>\n  </tbody>\n</table>\n</div>"
     },
     "metadata": {},
     "output_type": "display_data"
    },
    {
     "data": {
      "text/plain": "           client_id           age  decline_app_cnt     good_work  \\\ncount   36349.000000  36349.000000     36349.000000  36349.000000   \nmean    54945.647473     39.186002         0.268040      0.166772   \nstd     31706.052195     11.513258         0.788478      0.372777   \nmin         4.000000     21.000000         0.000000      0.000000   \n25%     27744.000000     30.000000         0.000000      0.000000   \n50%     54657.000000     37.000000         0.000000      0.000000   \n75%     82322.000000     48.000000         0.000000      0.000000   \nmax    110148.000000     71.000000        30.000000      1.000000   \n\n          score_bki  bki_request_cnt  region_rating  home_address  \\\ncount  36349.000000     36349.000000   36349.000000  36349.000000   \nmean      -1.904152         2.014471      56.802938      1.573798   \nstd        0.501764         2.296789      13.086646      0.527428   \nmin       -3.574197         0.000000      20.000000      1.000000   \n25%       -2.261909         0.000000      50.000000      1.000000   \n50%       -1.920823         1.000000      50.000000      2.000000   \n75%       -1.563957         3.000000      60.000000      2.000000   \nmax        0.188820        47.000000      80.000000      3.000000   \n\n       work_address          income           sna    first_time  \ncount  36349.000000    36349.000000  36349.000000  36349.000000  \nmean       2.501087    40835.755729      1.728053      2.765798  \nstd        0.683227    43802.180951      1.120686      1.011560  \nmin        1.000000     1000.000000      1.000000      1.000000  \n25%        2.000000    20000.000000      1.000000      2.000000  \n50%        3.000000    30000.000000      1.000000      3.000000  \n75%        3.000000    48000.000000      2.000000      4.000000  \nmax        3.000000  1000000.000000      4.000000      4.000000  ",
      "text/html": "<div>\n<style scoped>\n    .dataframe tbody tr th:only-of-type {\n        vertical-align: middle;\n    }\n\n    .dataframe tbody tr th {\n        vertical-align: top;\n    }\n\n    .dataframe thead th {\n        text-align: right;\n    }\n</style>\n<table border=\"1\" class=\"dataframe\">\n  <thead>\n    <tr style=\"text-align: right;\">\n      <th></th>\n      <th>client_id</th>\n      <th>age</th>\n      <th>decline_app_cnt</th>\n      <th>good_work</th>\n      <th>score_bki</th>\n      <th>bki_request_cnt</th>\n      <th>region_rating</th>\n      <th>home_address</th>\n      <th>work_address</th>\n      <th>income</th>\n      <th>sna</th>\n      <th>first_time</th>\n    </tr>\n  </thead>\n  <tbody>\n    <tr>\n      <th>count</th>\n      <td>36349.000000</td>\n      <td>36349.000000</td>\n      <td>36349.000000</td>\n      <td>36349.000000</td>\n      <td>36349.000000</td>\n      <td>36349.000000</td>\n      <td>36349.000000</td>\n      <td>36349.000000</td>\n      <td>36349.000000</td>\n      <td>36349.000000</td>\n      <td>36349.000000</td>\n      <td>36349.000000</td>\n    </tr>\n    <tr>\n      <th>mean</th>\n      <td>54945.647473</td>\n      <td>39.186002</td>\n      <td>0.268040</td>\n      <td>0.166772</td>\n      <td>-1.904152</td>\n      <td>2.014471</td>\n      <td>56.802938</td>\n      <td>1.573798</td>\n      <td>2.501087</td>\n      <td>40835.755729</td>\n      <td>1.728053</td>\n      <td>2.765798</td>\n    </tr>\n    <tr>\n      <th>std</th>\n      <td>31706.052195</td>\n      <td>11.513258</td>\n      <td>0.788478</td>\n      <td>0.372777</td>\n      <td>0.501764</td>\n      <td>2.296789</td>\n      <td>13.086646</td>\n      <td>0.527428</td>\n      <td>0.683227</td>\n      <td>43802.180951</td>\n      <td>1.120686</td>\n      <td>1.011560</td>\n    </tr>\n    <tr>\n      <th>min</th>\n      <td>4.000000</td>\n      <td>21.000000</td>\n      <td>0.000000</td>\n      <td>0.000000</td>\n      <td>-3.574197</td>\n      <td>0.000000</td>\n      <td>20.000000</td>\n      <td>1.000000</td>\n      <td>1.000000</td>\n      <td>1000.000000</td>\n      <td>1.000000</td>\n      <td>1.000000</td>\n    </tr>\n    <tr>\n      <th>25%</th>\n      <td>27744.000000</td>\n      <td>30.000000</td>\n      <td>0.000000</td>\n      <td>0.000000</td>\n      <td>-2.261909</td>\n      <td>0.000000</td>\n      <td>50.000000</td>\n      <td>1.000000</td>\n      <td>2.000000</td>\n      <td>20000.000000</td>\n      <td>1.000000</td>\n      <td>2.000000</td>\n    </tr>\n    <tr>\n      <th>50%</th>\n      <td>54657.000000</td>\n      <td>37.000000</td>\n      <td>0.000000</td>\n      <td>0.000000</td>\n      <td>-1.920823</td>\n      <td>1.000000</td>\n      <td>50.000000</td>\n      <td>2.000000</td>\n      <td>3.000000</td>\n      <td>30000.000000</td>\n      <td>1.000000</td>\n      <td>3.000000</td>\n    </tr>\n    <tr>\n      <th>75%</th>\n      <td>82322.000000</td>\n      <td>48.000000</td>\n      <td>0.000000</td>\n      <td>0.000000</td>\n      <td>-1.563957</td>\n      <td>3.000000</td>\n      <td>60.000000</td>\n      <td>2.000000</td>\n      <td>3.000000</td>\n      <td>48000.000000</td>\n      <td>2.000000</td>\n      <td>4.000000</td>\n    </tr>\n    <tr>\n      <th>max</th>\n      <td>110148.000000</td>\n      <td>71.000000</td>\n      <td>30.000000</td>\n      <td>1.000000</td>\n      <td>0.188820</td>\n      <td>47.000000</td>\n      <td>80.000000</td>\n      <td>3.000000</td>\n      <td>3.000000</td>\n      <td>1000000.000000</td>\n      <td>4.000000</td>\n      <td>4.000000</td>\n    </tr>\n  </tbody>\n</table>\n</div>"
     },
     "metadata": {},
     "output_type": "display_data"
    }
   ],
   "source": [
    "DATA_DIR = './Data'\n",
    "\n",
    "# all data available for training\n",
    "train_data = pd.read_csv(DATA_DIR + '/train.csv')\n",
    "train_data.info()\n",
    "display(train_data.describe())\n",
    "\n",
    "# test data\n",
    "test_data = pd.read_csv(DATA_DIR + '/test.csv')\n",
    "test_data.info()\n",
    "display(test_data.describe())"
   ],
   "metadata": {
    "collapsed": false,
    "pycharm": {
     "name": "#%%\n"
    }
   }
  },
  {
   "cell_type": "markdown",
   "source": [
    "# EDA"
   ],
   "metadata": {
    "collapsed": false
   }
  },
  {
   "cell_type": "code",
   "execution_count": 8,
   "outputs": [
    {
     "ename": "TypeError",
     "evalue": "concat() got an unexpected keyword argument 'join_axes'",
     "output_type": "error",
     "traceback": [
      "\u001B[1;31m---------------------------------------------------------------------------\u001B[0m",
      "\u001B[1;31mTypeError\u001B[0m                                 Traceback (most recent call last)",
      "\u001B[1;32m<ipython-input-8-687cbb0ac571>\u001B[0m in \u001B[0;36m<module>\u001B[1;34m\u001B[0m\n\u001B[0;32m      1\u001B[0m \u001B[1;31m# let's try pandas profiling tool\u001B[0m\u001B[1;33m\u001B[0m\u001B[1;33m\u001B[0m\u001B[1;33m\u001B[0m\u001B[0m\n\u001B[1;32m----> 2\u001B[1;33m \u001B[0mprofiling\u001B[0m \u001B[1;33m=\u001B[0m \u001B[0mProfileReport\u001B[0m\u001B[1;33m(\u001B[0m\u001B[0mtrain_data\u001B[0m\u001B[1;33m)\u001B[0m\u001B[1;33m\u001B[0m\u001B[1;33m\u001B[0m\u001B[0m\n\u001B[0m\u001B[0;32m      3\u001B[0m \u001B[0mprofiling\u001B[0m\u001B[1;33m.\u001B[0m\u001B[0mto_file\u001B[0m\u001B[1;33m(\u001B[0m\u001B[0moutputfile\u001B[0m\u001B[1;33m=\u001B[0m\u001B[1;34m'Reports/profiling.html'\u001B[0m\u001B[1;33m)\u001B[0m\u001B[1;33m\u001B[0m\u001B[1;33m\u001B[0m\u001B[0m\n\u001B[0;32m      4\u001B[0m \u001B[1;33m\u001B[0m\u001B[0m\n",
      "\u001B[1;32mC:\\ProgramData\\Anaconda3\\envs\\TestProject\\lib\\site-packages\\pandas_profiling\\__init__.py\u001B[0m in \u001B[0;36m__init__\u001B[1;34m(self, df, **kwargs)\u001B[0m\n\u001B[0;32m     64\u001B[0m         \u001B[0msample\u001B[0m \u001B[1;33m=\u001B[0m \u001B[0mkwargs\u001B[0m\u001B[1;33m.\u001B[0m\u001B[0mget\u001B[0m\u001B[1;33m(\u001B[0m\u001B[1;34m'sample'\u001B[0m\u001B[1;33m,\u001B[0m \u001B[0mdf\u001B[0m\u001B[1;33m.\u001B[0m\u001B[0mhead\u001B[0m\u001B[1;33m(\u001B[0m\u001B[1;33m)\u001B[0m\u001B[1;33m)\u001B[0m\u001B[1;33m\u001B[0m\u001B[1;33m\u001B[0m\u001B[0m\n\u001B[0;32m     65\u001B[0m \u001B[1;33m\u001B[0m\u001B[0m\n\u001B[1;32m---> 66\u001B[1;33m         \u001B[0mdescription_set\u001B[0m \u001B[1;33m=\u001B[0m \u001B[0mdescribe\u001B[0m\u001B[1;33m(\u001B[0m\u001B[0mdf\u001B[0m\u001B[1;33m,\u001B[0m \u001B[1;33m**\u001B[0m\u001B[0mkwargs\u001B[0m\u001B[1;33m)\u001B[0m\u001B[1;33m\u001B[0m\u001B[1;33m\u001B[0m\u001B[0m\n\u001B[0m\u001B[0;32m     67\u001B[0m \u001B[1;33m\u001B[0m\u001B[0m\n\u001B[0;32m     68\u001B[0m         self.html = to_html(sample,\n",
      "\u001B[1;32mC:\\ProgramData\\Anaconda3\\envs\\TestProject\\lib\\site-packages\\pandas_profiling\\describe.py\u001B[0m in \u001B[0;36mdescribe\u001B[1;34m(df, bins, check_correlation, correlation_threshold, correlation_overrides, check_recoded, pool_size, **kwargs)\u001B[0m\n\u001B[0;32m    390\u001B[0m             \u001B[1;32mif\u001B[0m \u001B[0mname\u001B[0m \u001B[1;32mnot\u001B[0m \u001B[1;32min\u001B[0m \u001B[0mnames\u001B[0m\u001B[1;33m:\u001B[0m\u001B[1;33m\u001B[0m\u001B[1;33m\u001B[0m\u001B[0m\n\u001B[0;32m    391\u001B[0m                 \u001B[0mnames\u001B[0m\u001B[1;33m.\u001B[0m\u001B[0mappend\u001B[0m\u001B[1;33m(\u001B[0m\u001B[0mname\u001B[0m\u001B[1;33m)\u001B[0m\u001B[1;33m\u001B[0m\u001B[1;33m\u001B[0m\u001B[0m\n\u001B[1;32m--> 392\u001B[1;33m     \u001B[0mvariable_stats\u001B[0m \u001B[1;33m=\u001B[0m \u001B[0mpd\u001B[0m\u001B[1;33m.\u001B[0m\u001B[0mconcat\u001B[0m\u001B[1;33m(\u001B[0m\u001B[0mldesc\u001B[0m\u001B[1;33m,\u001B[0m \u001B[0mjoin_axes\u001B[0m\u001B[1;33m=\u001B[0m\u001B[0mpd\u001B[0m\u001B[1;33m.\u001B[0m\u001B[0mIndex\u001B[0m\u001B[1;33m(\u001B[0m\u001B[1;33m[\u001B[0m\u001B[0mnames\u001B[0m\u001B[1;33m]\u001B[0m\u001B[1;33m)\u001B[0m\u001B[1;33m,\u001B[0m \u001B[0maxis\u001B[0m\u001B[1;33m=\u001B[0m\u001B[1;36m1\u001B[0m\u001B[1;33m)\u001B[0m\u001B[1;33m\u001B[0m\u001B[1;33m\u001B[0m\u001B[0m\n\u001B[0m\u001B[0;32m    393\u001B[0m     \u001B[0mvariable_stats\u001B[0m\u001B[1;33m.\u001B[0m\u001B[0mcolumns\u001B[0m\u001B[1;33m.\u001B[0m\u001B[0mnames\u001B[0m \u001B[1;33m=\u001B[0m \u001B[0mdf\u001B[0m\u001B[1;33m.\u001B[0m\u001B[0mcolumns\u001B[0m\u001B[1;33m.\u001B[0m\u001B[0mnames\u001B[0m\u001B[1;33m\u001B[0m\u001B[1;33m\u001B[0m\u001B[0m\n\u001B[0;32m    394\u001B[0m \u001B[1;33m\u001B[0m\u001B[0m\n",
      "\u001B[1;31mTypeError\u001B[0m: concat() got an unexpected keyword argument 'join_axes'"
     ]
    }
   ],
   "source": [
    "# let's try pandas profiling tool\n",
    "profiling = ProfileReport(train_data)\n",
    "profiling.to_file(outputfile='Reports/profiling.html')"
   ],
   "metadata": {
    "collapsed": false,
    "pycharm": {
     "name": "#%%\n"
    }
   }
  },
  {
   "cell_type": "code",
   "execution_count": 9,
   "outputs": [
    {
     "data": {
      "text/plain": "<AxesSubplot:xlabel='default', ylabel='count'>"
     },
     "execution_count": 9,
     "metadata": {},
     "output_type": "execute_result"
    },
    {
     "data": {
      "text/plain": "<Figure size 800x550 with 1 Axes>",
      "image/png": "[encoded data removed]"
     },
     "metadata": {},
     "output_type": "display_data"
    }
   ],
   "source": [
    "# check class balance for target variable\n",
    "sb.countplot(x='default', data=train_data)"
   ],
   "metadata": {
    "collapsed": false,
    "pycharm": {
     "name": "#%%\n"
    }
   }
  },
  {
   "cell_type": "code",
   "execution_count": 78,
   "outputs": [
    {
     "name": "stdout",
     "output_type": "stream",
     "text": [
      "<class 'pandas.core.frame.DataFrame'>\n",
      "Int64Index: 59039 entries, 19791 to 70504\n",
      "Data columns (total 19 columns):\n",
      " #   Column            Non-Null Count  Dtype  \n",
      "---  ------            --------------  -----  \n",
      " 0   client_id         59039 non-null  int64  \n",
      " 1   app_date          59039 non-null  object \n",
      " 2   education         58794 non-null  object \n",
      " 3   sex               59039 non-null  object \n",
      " 4   age               59039 non-null  int64  \n",
      " 5   car               59039 non-null  object \n",
      " 6   car_type          59039 non-null  object \n",
      " 7   decline_app_cnt   59039 non-null  int64  \n",
      " 8   good_work         59039 non-null  int64  \n",
      " 9   score_bki         59039 non-null  float64\n",
      " 10  bki_request_cnt   59039 non-null  int64  \n",
      " 11  region_rating     59039 non-null  int64  \n",
      " 12  home_address      59039 non-null  int64  \n",
      " 13  work_address      59039 non-null  int64  \n",
      " 14  income            59039 non-null  int64  \n",
      " 15  sna               59039 non-null  int64  \n",
      " 16  first_time        59039 non-null  int64  \n",
      " 17  foreign_passport  59039 non-null  object \n",
      " 18  default           59039 non-null  int64  \n",
      "dtypes: float64(1), int64(12), object(6)\n",
      "memory usage: 9.0+ MB\n",
      "<class 'pandas.core.frame.DataFrame'>\n",
      "Int64Index: 14760 entries, 60889 to 24785\n",
      "Data columns (total 19 columns):\n",
      " #   Column            Non-Null Count  Dtype  \n",
      "---  ------            --------------  -----  \n",
      " 0   client_id         14760 non-null  int64  \n",
      " 1   app_date          14760 non-null  object \n",
      " 2   education         14698 non-null  object \n",
      " 3   sex               14760 non-null  object \n",
      " 4   age               14760 non-null  int64  \n",
      " 5   car               14760 non-null  object \n",
      " 6   car_type          14760 non-null  object \n",
      " 7   decline_app_cnt   14760 non-null  int64  \n",
      " 8   good_work         14760 non-null  int64  \n",
      " 9   score_bki         14760 non-null  float64\n",
      " 10  bki_request_cnt   14760 non-null  int64  \n",
      " 11  region_rating     14760 non-null  int64  \n",
      " 12  home_address      14760 non-null  int64  \n",
      " 13  work_address      14760 non-null  int64  \n",
      " 14  income            14760 non-null  int64  \n",
      " 15  sna               14760 non-null  int64  \n",
      " 16  first_time        14760 non-null  int64  \n",
      " 17  foreign_passport  14760 non-null  object \n",
      " 18  default           14760 non-null  int64  \n",
      "dtypes: float64(1), int64(12), object(6)\n",
      "memory usage: 2.3+ MB\n"
     ]
    },
    {
     "data": {
      "text/plain": "<Figure size 432x288 with 1 Axes>",
      "image/png": "[encoded data removed]"
     },
     "metadata": {},
     "output_type": "display_data"
    },
    {
     "data": {
      "text/plain": "<Figure size 432x288 with 1 Axes>",
      "image/png": "[encoded data removed]"
     },
     "metadata": {},
     "output_type": "display_data"
    }
   ],
   "source": [
    "# we have unbalanced data, so split train data to train and validation datasets considering stratification\n",
    "# and process them seperately to minimize validation data influence on train data \n",
    "df_train, df_val = train_test_split(train_data, test_size=0.2, random_state=SEED, stratify=train_data['default'])\n",
    "\n",
    "df_train.info()\n",
    "sb.countplot(x=df_train['default'])\n",
    "plt.gca().set_title('Countplot for df_train \\'default\\' column')\n",
    "\n",
    "df_val.info()\n",
    "plt.figure()\n",
    "sb.countplot(x=df_val['default'])\n",
    "plt.gca().set_title('Countplot for df_val \\'default\\' column');\n",
    "\n",
    "# make copy of our origin data for further analysis\n",
    "df_train_orig = df_train.copy()\n",
    "df_val_orig = df_val.copy()"
   ],
   "metadata": {
    "collapsed": false,
    "pycharm": {
     "name": "#%%\n"
    }
   }
  },
  {
   "cell_type": "code",
   "execution_count": 19,
   "outputs": [],
   "source": [
    "# define columns with different kinds of features\n",
    "bin_text_cols = ['sex', 'car', 'car_type', 'foreign_passport']\n",
    "bin_cols = bin_text_cols + ['good_work']\n",
    "\n",
    "cat_text_cols = ['education']\n",
    "cat_cols = cat_text_cols + ['home_address', 'work_address', 'sna', 'first_time']\n",
    "qual_cols = bin_cols + cat_cols\n",
    "\n",
    "num_cols = ['age','decline_app_cnt','score_bki','income','bki_request_cnt','region_rating']"
   ],
   "metadata": {
    "collapsed": false,
    "pycharm": {
     "name": "#%%\n"
    }
   }
  },
  {
   "cell_type": "code",
   "execution_count": null,
   "outputs": [],
   "source": [
    "# we have some missing values in education column\n",
    "# to define our strategy for their substitution let's see what column is the best for 'education' grouping\n",
    "# to replace missing values via group mode (not the mode computed over all dataset) There might be some benefits (in theory..:-/)\n",
    "\n",
    "# temp dataset for analysis without missing values in 'education'\n",
    "df_train_no_miss = df_train.dropna()\n",
    "\n",
    "# for analysis we already need numbers, not text\n",
    "# so encode qualitative columns text with numbers\n",
    "for col in bin_text_cols + cat_text_cols:\n",
    "    df_train_no_miss[col] = LabelEncoder().fit_transform(df_train_no_miss[col])\n",
    "\n",
    "df_train_no_miss.head(10)"
   ],
   "metadata": {
    "collapsed": false,
    "pycharm": {
     "name": "#%%\n"
    }
   }
  },
  {
   "cell_type": "code",
   "execution_count": null,
   "outputs": [],
   "source": [
    "# get feature importance among qualitative columns for 'education'\n",
    "edu_mutual_info = pd.Series(mutual_info_classif(df_train_no_miss[set(qual_cols)-{'education'}], df_train_no_miss['education'],\n",
    "                                                discrete_features =True), index = set(qual_cols)-{'education'})\n",
    "edu_mutual_info.sort_values(inplace = True)\n",
    "edu_mutual_info.plot(kind = 'barh')"
   ],
   "metadata": {
    "collapsed": false,
    "pycharm": {
     "name": "#%%\n"
    }
   }
  },
  {
   "cell_type": "code",
   "execution_count": 17,
   "outputs": [
    {
     "data": {
      "text/plain": "<AxesSubplot:title={'center':\"Countplot for df_val 'default' column\"}, xlabel='car_type', ylabel='count'>"
     },
     "execution_count": 17,
     "metadata": {},
     "output_type": "execute_result"
    }
   ],
   "source": [
    "sb.countplot(x=\"car_type\", hue=\"education\", data=df_train)"
   ],
   "metadata": {
    "collapsed": false,
    "pycharm": {
     "name": "#%%\n"
    }
   }
  },
  {
   "cell_type": "code",
   "execution_count": null,
   "outputs": [],
   "source": [
    "pd.crosstab(df_train.car_type, df_train.education, normalize='index')"
   ],
   "metadata": {
    "collapsed": false,
    "pycharm": {
     "name": "#%%\n"
    }
   }
  },
  {
   "cell_type": "code",
   "execution_count": null,
   "outputs": [],
   "source": [
    "# we see that indeed mode of education depends on car_type\n",
    "# so replace education NaN values with car_type's mode\n",
    "fillna_group_mode(df_train, 'car_type', 'education')\n",
    "\n",
    "df_train.info()\n",
    "df_train['education'].value_counts()"
   ],
   "metadata": {
    "collapsed": false,
    "pycharm": {
     "name": "#%%\n"
    }
   }
  },
  {
   "cell_type": "markdown",
   "source": [
    "## Numerical data analysis"
   ],
   "metadata": {
    "collapsed": false
   }
  },
  {
   "cell_type": "code",
   "execution_count": 21,
   "outputs": [],
   "source": [
    "for col in num_cols:\n",
    "    sb.displot(df_train[col])"
   ],
   "metadata": {
    "collapsed": false,
    "pycharm": {
     "name": "#%%\n"
    }
   }
  },
  {
   "cell_type": "code",
   "execution_count": null,
   "outputs": [],
   "source": [
    "# some distribution are skewed to the left, let's use log function for them\n",
    "for col in ['decline_app_cnt', 'income', 'bki_request_cnt']:\n",
    "    df_train[col] = np.log(df_train[col]+1)\n",
    "    sb.displot(df_train[col])"
   ],
   "metadata": {
    "collapsed": false,
    "pycharm": {
     "name": "#%%\n"
    }
   }
  },
  {
   "cell_type": "markdown",
   "source": [
    "Looks better but will compare no log/with log results later"
   ],
   "metadata": {
    "collapsed": false
   }
  },
  {
   "cell_type": "code",
   "execution_count": null,
   "outputs": [],
   "source": [
    "# calculate the correlation matrix\n",
    "corr = df_train.dropna().corr()\n",
    "display(corr)\n",
    "\n",
    "# plot the heatmap\n",
    "sb.heatmap(abs(corr), xticklabels=corr.columns, yticklabels=corr.columns)"
   ],
   "metadata": {
    "collapsed": false,
    "pycharm": {
     "name": "#%%\n"
    }
   }
  },
  {
   "cell_type": "markdown",
   "source": [
    "Home address and work addres are exprectedly correlated, but there is no extreme multicollinearity that could be dangerous for logistic regression."
   ],
   "metadata": {
    "collapsed": false
   }
  },
  {
   "cell_type": "code",
   "execution_count": null,
   "outputs": [],
   "source": [
    "for col in num_cols:\n",
    "    show_boxplot(df_train, 'default', col)"
   ],
   "metadata": {
    "collapsed": false,
    "pycharm": {
     "name": "#%%\n"
    }
   }
  },
  {
   "cell_type": "code",
   "execution_count": null,
   "outputs": [],
   "source": [
    "sb.countplot(x=\"good_work\", hue=\"default\", data=df_train)"
   ],
   "metadata": {
    "collapsed": false,
    "pycharm": {
     "name": "#%%\n"
    }
   }
  },
  {
   "cell_type": "code",
   "execution_count": null,
   "outputs": [],
   "source": [
    "sb.histplot(data=df_train, x=\"age\", hue=\"default\")\n",
    "\n",
    "plt.figure()\n",
    "sb.histplot(data=df_train, x=\"region_rating\", hue=\"default\")"
   ],
   "metadata": {
    "collapsed": false,
    "pycharm": {
     "name": "#%%\n"
    }
   }
  },
  {
   "cell_type": "markdown",
   "source": [
    "### Intermediate conclusions:\n",
    "- those who older are generally more reliable debitor\n",
    "- decline_app_cnt, bki_request and score_bki could be rather informative features for default predictions (positive \"correlation\" with default)\n",
    "- income is generally lower for default clients\n",
    "- region matters\n",
    "\n",
    "There are also some \"boxplot outliers\", but taking into account context there is no strong evidence to consider they really are"
   ],
   "metadata": {
    "collapsed": false
   }
  },
  {
   "cell_type": "markdown",
   "source": [
    "## Features encoding"
   ],
   "metadata": {
    "collapsed": false
   }
  },
  {
   "cell_type": "code",
   "execution_count": null,
   "outputs": [],
   "source": [
    "df_train_enc = df_train.copy()\n",
    "\n",
    "# encode text binary and categorical features\n",
    "for col in bin_text_cols + cat_text_cols:\n",
    "    df_train_enc[col] = LabelEncoder().fit_transform(df_train_enc[col])\n",
    "\n",
    "df_train_enc.head(10)"
   ],
   "metadata": {
    "collapsed": false,
    "pycharm": {
     "name": "#%%\n"
    }
   }
  },
  {
   "cell_type": "markdown",
   "source": [
    "## Numeric and qulitative feature importance"
   ],
   "metadata": {
    "collapsed": false
   }
  },
  {
   "cell_type": "code",
   "execution_count": null,
   "outputs": [],
   "source": [
    "plt.figure()\n",
    "imp_num = pd.Series(f_classif(df_train[num_cols], df_train['default'])[0], index = num_cols)\n",
    "imp_num.sort_values(inplace = True)\n",
    "imp_num.plot(kind = 'barh')\n",
    "\n",
    "\n",
    "plt.figure()\n",
    "imp_cat = pd.Series(mutual_info_classif(df_train_enc[bin_cols + cat_cols], df_train_enc['default'],\n",
    "                                        discrete_features =True), index = bin_cols + cat_cols)\n",
    "imp_cat.sort_values(inplace = True)\n",
    "imp_cat.plot(kind = 'barh')"
   ],
   "metadata": {
    "collapsed": false,
    "pycharm": {
     "name": "#%%\n"
    }
   }
  },
  {
   "cell_type": "code",
   "execution_count": null,
   "outputs": [],
   "source": [
    "# surprisingly it seems that good work indeed has virtually no influence on default..\n",
    "pd.crosstab(df_train.good_work, df_train.default, normalize='index')"
   ],
   "metadata": {
    "collapsed": false,
    "pycharm": {
     "name": "#%%\n"
    }
   }
  },
  {
   "cell_type": "markdown",
   "source": [
    "# Feature engineering"
   ],
   "metadata": {
    "collapsed": false
   }
  },
  {
   "cell_type": "code",
   "execution_count": null,
   "outputs": [],
   "source": [
    "# Add dummy columns for all categorical features\n",
    "df_train = pd.get_dummies(df_train, prefix=cat_cols, columns=cat_cols)\n",
    "\n",
    "# encode text binary features\n",
    "for col in bin_text_cols:\n",
    "    df_train[col] = LabelEncoder().fit_transform(df_train[col])\n",
    "\n",
    "df_train"
   ],
   "metadata": {
    "collapsed": false,
    "pycharm": {
     "name": "#%%\n"
    }
   }
  },
  {
   "cell_type": "code",
   "execution_count": null,
   "outputs": [],
   "source": [
    "# check decline_app_cnt dependence on age\n",
    "train_data.groupby('age')['decline_app_cnt'].mean().plot()"
   ],
   "metadata": {
    "collapsed": false,
    "pycharm": {
     "name": "#%%\n"
    }
   }
  },
  {
   "cell_type": "code",
   "execution_count": null,
   "outputs": [],
   "source": [
    "# all numeric features list for further appending\n",
    "all_num_cols = num_cols\n",
    "\n",
    "# date column\n",
    "df_train['app_date'] = pd.to_datetime(df_train['app_date'])\n",
    "df_train.info()\n",
    "\n",
    "df_train['app_date'].hist(bins=100)\n",
    "plt.xticks(rotation='vertical')\n",
    "\n",
    "# number of clients with same date of application\n",
    "clients_in_date = df_train.groupby('app_date')['client_id'].count()\n",
    "df_train['clients_in_date'] = df_train['app_date'].apply(lambda x: clients_in_date[x])\n",
    "all_num_cols.append('clients_in_date')\n",
    "\n",
    "# days from the first date\n",
    "first_date = df_train['app_date'].min()\n",
    "df_train['app_delay'] = df_train['app_date'].apply(lambda x: (x - first_date).days)\n",
    "all_num_cols.append('app_delay')\n",
    "\n",
    "# mean income by age\n",
    "mean_income_age = df_train.groupby('age')['income'].mean()\n",
    "df_train['mean_income_age'] = df_train['age'].apply(lambda x: mean_income_age[x])\n",
    "all_num_cols.append('mean_income_age')\n",
    "\n",
    "# max income by age\n",
    "max_income_age = df_train.groupby('age')['income'].max()\n",
    "df_train['max_income_age'] = df_train['age'].apply(lambda x: max_income_age[x])\n",
    "all_num_cols.append('max_income_age')\n",
    "\n",
    "# mean income by region\n",
    "mean_income_reg = df_train.groupby('region_rating')['income'].mean()\n",
    "df_train['mean_income_region'] = df_train['region_rating'].apply(lambda x: mean_income_reg[x])\n",
    "all_num_cols.append('mean_income_region')\n",
    "\n",
    "# max income by region\n",
    "max_income_reg = df_train.groupby('region_rating')['income'].max()\n",
    "df_train['max_income_region'] = df_train['region_rating'].apply(lambda x: max_income_reg[x])\n",
    "all_num_cols.append('max_income_region')\n",
    "\n",
    "# mean declines by age\n",
    "mean_declines_age = df_train.groupby('age')['decline_app_cnt'].mean()\n",
    "df_train['mean_declines_age'] = df_train['age'].apply(lambda x: mean_declines_age[x])\n",
    "all_num_cols.append('mean_declines_age')\n",
    "\n",
    "df_train"
   ],
   "metadata": {
    "collapsed": false,
    "pycharm": {
     "name": "#%%\n"
    }
   }
  },
  {
   "cell_type": "markdown",
   "source": [
    "# Scaling"
   ],
   "metadata": {
    "collapsed": false
   }
  },
  {
   "cell_type": "code",
   "execution_count": null,
   "outputs": [],
   "source": [
    "# scale all numeric feature via StandardScaler\n",
    "scaled_features = StandardScaler().fit_transform(df_train[all_num_cols].values)\n",
    "df_train[all_num_cols] = pd.DataFrame(scaled_features, index=df_train.index, columns=all_num_cols)\n",
    "df_train"
   ],
   "metadata": {
    "collapsed": false,
    "pycharm": {
     "name": "#%%\n"
    }
   }
  },
  {
   "cell_type": "markdown",
   "source": [
    "# Preprocessing for training"
   ],
   "metadata": {
    "collapsed": false
   }
  },
  {
   "cell_type": "code",
   "execution_count": null,
   "outputs": [],
   "source": [
    "# drop unneseccary columns\n",
    "df_train.drop(['client_id','app_date'], axis=1, inplace=True)"
   ],
   "metadata": {
    "collapsed": false,
    "pycharm": {
     "name": "#%%\n"
    }
   }
  },
  {
   "cell_type": "markdown",
   "source": [
    "### Define preprocessed data (no need to use all-in-one preproc_data() function if df_train is already preprocessed in cells above)"
   ],
   "metadata": {
    "collapsed": false
   }
  },
  {
   "cell_type": "code",
   "execution_count": 79,
   "outputs": [
    {
     "name": "stdout",
     "output_type": "stream",
     "text": [
      "<class 'pandas.core.frame.DataFrame'>\n",
      "Int64Index: 59039 entries, 19791 to 70504\n",
      "Data columns (total 38 columns):\n",
      " #   Column              Non-Null Count  Dtype  \n",
      "---  ------              --------------  -----  \n",
      " 0   sex                 59039 non-null  int32  \n",
      " 1   age                 59039 non-null  float64\n",
      " 2   car                 59039 non-null  int32  \n",
      " 3   car_type            59039 non-null  int32  \n",
      " 4   decline_app_cnt     59039 non-null  float64\n",
      " 5   good_work           59039 non-null  int64  \n",
      " 6   score_bki           59039 non-null  float64\n",
      " 7   bki_request_cnt     59039 non-null  float64\n",
      " 8   region_rating       59039 non-null  float64\n",
      " 9   income              59039 non-null  float64\n",
      " 10  foreign_passport    59039 non-null  int32  \n",
      " 11  default             59039 non-null  int64  \n",
      " 12  education_ACD       59039 non-null  uint8  \n",
      " 13  education_GRD       59039 non-null  uint8  \n",
      " 14  education_PGR       59039 non-null  uint8  \n",
      " 15  education_SCH       59039 non-null  uint8  \n",
      " 16  education_UGR       59039 non-null  uint8  \n",
      " 17  home_address_1      59039 non-null  uint8  \n",
      " 18  home_address_2      59039 non-null  uint8  \n",
      " 19  home_address_3      59039 non-null  uint8  \n",
      " 20  work_address_1      59039 non-null  uint8  \n",
      " 21  work_address_2      59039 non-null  uint8  \n",
      " 22  work_address_3      59039 non-null  uint8  \n",
      " 23  sna_1               59039 non-null  uint8  \n",
      " 24  sna_2               59039 non-null  uint8  \n",
      " 25  sna_3               59039 non-null  uint8  \n",
      " 26  sna_4               59039 non-null  uint8  \n",
      " 27  first_time_1        59039 non-null  uint8  \n",
      " 28  first_time_2        59039 non-null  uint8  \n",
      " 29  first_time_3        59039 non-null  uint8  \n",
      " 30  first_time_4        59039 non-null  uint8  \n",
      " 31  clients_in_date     59039 non-null  float64\n",
      " 32  app_delay           59039 non-null  float64\n",
      " 33  mean_income_age     59039 non-null  float64\n",
      " 34  max_income_age      59039 non-null  float64\n",
      " 35  mean_income_region  59039 non-null  float64\n",
      " 36  max_income_region   59039 non-null  float64\n",
      " 37  mean_declines_age   59039 non-null  float64\n",
      "dtypes: float64(13), int32(4), int64(2), uint8(19)\n",
      "memory usage: 11.2 MB\n",
      "<class 'pandas.core.frame.DataFrame'>\n",
      "Int64Index: 14760 entries, 60889 to 24785\n",
      "Data columns (total 38 columns):\n",
      " #   Column              Non-Null Count  Dtype  \n",
      "---  ------              --------------  -----  \n",
      " 0   sex                 14760 non-null  int32  \n",
      " 1   age                 14760 non-null  float64\n",
      " 2   car                 14760 non-null  int32  \n",
      " 3   car_type            14760 non-null  int32  \n",
      " 4   decline_app_cnt     14760 non-null  float64\n",
      " 5   good_work           14760 non-null  int64  \n",
      " 6   score_bki           14760 non-null  float64\n",
      " 7   bki_request_cnt     14760 non-null  float64\n",
      " 8   region_rating       14760 non-null  float64\n",
      " 9   income              14760 non-null  float64\n",
      " 10  foreign_passport    14760 non-null  int32  \n",
      " 11  default             14760 non-null  int64  \n",
      " 12  education_ACD       14760 non-null  uint8  \n",
      " 13  education_GRD       14760 non-null  uint8  \n",
      " 14  education_PGR       14760 non-null  uint8  \n",
      " 15  education_SCH       14760 non-null  uint8  \n",
      " 16  education_UGR       14760 non-null  uint8  \n",
      " 17  home_address_1      14760 non-null  uint8  \n",
      " 18  home_address_2      14760 non-null  uint8  \n",
      " 19  home_address_3      14760 non-null  uint8  \n",
      " 20  work_address_1      14760 non-null  uint8  \n",
      " 21  work_address_2      14760 non-null  uint8  \n",
      " 22  work_address_3      14760 non-null  uint8  \n",
      " 23  sna_1               14760 non-null  uint8  \n",
      " 24  sna_2               14760 non-null  uint8  \n",
      " 25  sna_3               14760 non-null  uint8  \n",
      " 26  sna_4               14760 non-null  uint8  \n",
      " 27  first_time_1        14760 non-null  uint8  \n",
      " 28  first_time_2        14760 non-null  uint8  \n",
      " 29  first_time_3        14760 non-null  uint8  \n",
      " 30  first_time_4        14760 non-null  uint8  \n",
      " 31  clients_in_date     14760 non-null  float64\n",
      " 32  app_delay           14760 non-null  float64\n",
      " 33  mean_income_age     14760 non-null  float64\n",
      " 34  max_income_age      14760 non-null  float64\n",
      " 35  mean_income_region  14760 non-null  float64\n",
      " 36  max_income_region   14760 non-null  float64\n",
      " 37  mean_declines_age   14760 non-null  float64\n",
      "dtypes: float64(13), int32(4), int64(2), uint8(19)\n",
      "memory usage: 2.8 MB\n"
     ]
    },
    {
     "data": {
      "text/plain": "       sex       age  car  car_type  decline_app_cnt  good_work  score_bki  \\\n19791    0  0.842954    0         0        -0.340320          1   1.744689   \n49335    0 -1.327282    0         0        -0.340320          0   0.854127   \n41747    1 -1.327282    0         0        -0.340320          0  -0.952944   \n62167    0 -0.459188    0         0        -0.340320          0  -1.814219   \n63663    0  1.624239    0         0         0.892477          0  -1.515579   \n...    ...       ...  ...       ...              ...        ...        ...   \n32943    0 -1.414091    0         0         0.892477          1   1.867239   \n22747    0  0.582526    1         0        -0.340320          0   0.260967   \n19710    1  1.277001    0         0        -0.340320          0   0.178073   \n13023    1 -0.545997    0         0         0.892477          0  -0.485557   \n70504    0 -0.719616    0         0        -0.340320          1  -0.401081   \n\n       bki_request_cnt  region_rating    income  ...  first_time_2  \\\n19791         0.445309      -0.516709  0.406796  ...             0   \n49335        -0.886130      -0.516709 -0.455227  ...             0   \n41747        -0.442317       1.783778  0.083538  ...             1   \n62167        -0.442317      -0.516709 -0.239721  ...             1   \n63663        -0.886130      -1.283538 -0.239721  ...             0   \n...                ...            ...       ...  ...           ...   \n32943         0.001496      -0.516709 -0.562980  ...             0   \n22747        -0.442317      -1.283538 -0.390575  ...             0   \n19710         0.001496      -1.283538 -0.498328  ...             0   \n13023         0.889121      -0.516709 -0.239721  ...             0   \n70504         1.332934       1.783778 -0.024215  ...             1   \n\n       first_time_3  first_time_4  clients_in_date  app_delay  \\\n19791             1             0         1.106612   0.251588   \n49335             1             0        -0.490633   0.407326   \n41747             0             0        -0.247915  -0.527105   \n62167             0             0        -0.114811   1.435200   \n63663             1             0         0.605515   0.563065   \n...             ...           ...              ...        ...   \n32943             1             0         0.245352   0.749951   \n22747             0             0         1.427627   0.500769   \n19710             1             0         0.738619  -0.963172   \n13023             0             0        -0.247915  -0.527105   \n70504             0             0        -0.913433   1.248314   \n\n       mean_income_age  max_income_age  mean_income_region  max_income_region  \\\n19791         0.458036        0.066985           -0.594895           0.081019   \n49335        -1.148992       -1.337207           -0.594895           0.081019   \n41747        -1.148992       -1.337207            1.944831           0.081019   \n62167         0.293828       -0.334213           -0.594895           0.081019   \n63663        -1.597335       -1.136608           -0.717500           0.081019   \n...                ...             ...                 ...                ...   \n32943        -1.455321       -2.019243           -0.594895           0.081019   \n22747         0.991923        0.869380           -0.717500           0.081019   \n19710        -0.152754       -0.735410           -0.717500           0.081019   \n13023         0.758373       -0.936009           -0.594895           0.081019   \n70504         0.575250        0.869380            1.944831           0.081019   \n\n       mean_declines_age  \n19791          -0.635411  \n49335           1.562949  \n41747           1.562949  \n62167          -0.315049  \n63663          -0.884710  \n...                  ...  \n32943           2.278833  \n22747          -0.523497  \n19710          -0.753932  \n13023           0.354919  \n70504           0.141806  \n\n[59039 rows x 38 columns]",
      "text/html": "<div>\n<style scoped>\n    .dataframe tbody tr th:only-of-type {\n        vertical-align: middle;\n    }\n\n    .dataframe tbody tr th {\n        vertical-align: top;\n    }\n\n    .dataframe thead th {\n        text-align: right;\n    }\n</style>\n<table border=\"1\" class=\"dataframe\">\n  <thead>\n    <tr style=\"text-align: right;\">\n      <th></th>\n      <th>sex</th>\n      <th>age</th>\n      <th>car</th>\n      <th>car_type</th>\n      <th>decline_app_cnt</th>\n      <th>good_work</th>\n      <th>score_bki</th>\n      <th>bki_request_cnt</th>\n      <th>region_rating</th>\n      <th>income</th>\n      <th>...</th>\n      <th>first_time_2</th>\n      <th>first_time_3</th>\n      <th>first_time_4</th>\n      <th>clients_in_date</th>\n      <th>app_delay</th>\n      <th>mean_income_age</th>\n      <th>max_income_age</th>\n      <th>mean_income_region</th>\n      <th>max_income_region</th>\n      <th>mean_declines_age</th>\n    </tr>\n  </thead>\n  <tbody>\n    <tr>\n      <th>19791</th>\n      <td>0</td>\n      <td>0.842954</td>\n      <td>0</td>\n      <td>0</td>\n      <td>-0.340320</td>\n      <td>1</td>\n      <td>1.744689</td>\n      <td>0.445309</td>\n      <td>-0.516709</td>\n      <td>0.406796</td>\n      <td>...</td>\n      <td>0</td>\n      <td>1</td>\n      <td>0</td>\n      <td>1.106612</td>\n      <td>0.251588</td>\n      <td>0.458036</td>\n      <td>0.066985</td>\n      <td>-0.594895</td>\n      <td>0.081019</td>\n      <td>-0.635411</td>\n    </tr>\n    <tr>\n      <th>49335</th>\n      <td>0</td>\n      <td>-1.327282</td>\n      <td>0</td>\n      <td>0</td>\n      <td>-0.340320</td>\n      <td>0</td>\n      <td>0.854127</td>\n      <td>-0.886130</td>\n      <td>-0.516709</td>\n      <td>-0.455227</td>\n      <td>...</td>\n      <td>0</td>\n      <td>1</td>\n      <td>0</td>\n      <td>-0.490633</td>\n      <td>0.407326</td>\n      <td>-1.148992</td>\n      <td>-1.337207</td>\n      <td>-0.594895</td>\n      <td>0.081019</td>\n      <td>1.562949</td>\n    </tr>\n    <tr>\n      <th>41747</th>\n      <td>1</td>\n      <td>-1.327282</td>\n      <td>0</td>\n      <td>0</td>\n      <td>-0.340320</td>\n      <td>0</td>\n      <td>-0.952944</td>\n      <td>-0.442317</td>\n      <td>1.783778</td>\n      <td>0.083538</td>\n      <td>...</td>\n      <td>1</td>\n      <td>0</td>\n      <td>0</td>\n      <td>-0.247915</td>\n      <td>-0.527105</td>\n      <td>-1.148992</td>\n      <td>-1.337207</td>\n      <td>1.944831</td>\n      <td>0.081019</td>\n      <td>1.562949</td>\n    </tr>\n    <tr>\n      <th>62167</th>\n      <td>0</td>\n      <td>-0.459188</td>\n      <td>0</td>\n      <td>0</td>\n      <td>-0.340320</td>\n      <td>0</td>\n      <td>-1.814219</td>\n      <td>-0.442317</td>\n      <td>-0.516709</td>\n      <td>-0.239721</td>\n      <td>...</td>\n      <td>1</td>\n      <td>0</td>\n      <td>0</td>\n      <td>-0.114811</td>\n      <td>1.435200</td>\n      <td>0.293828</td>\n      <td>-0.334213</td>\n      <td>-0.594895</td>\n      <td>0.081019</td>\n      <td>-0.315049</td>\n    </tr>\n    <tr>\n      <th>63663</th>\n      <td>0</td>\n      <td>1.624239</td>\n      <td>0</td>\n      <td>0</td>\n      <td>0.892477</td>\n      <td>0</td>\n      <td>-1.515579</td>\n      <td>-0.886130</td>\n      <td>-1.283538</td>\n      <td>-0.239721</td>\n      <td>...</td>\n      <td>0</td>\n      <td>1</td>\n      <td>0</td>\n      <td>0.605515</td>\n      <td>0.563065</td>\n      <td>-1.597335</td>\n      <td>-1.136608</td>\n      <td>-0.717500</td>\n      <td>0.081019</td>\n      <td>-0.884710</td>\n    </tr>\n    <tr>\n      <th>...</th>\n      <td>...</td>\n      <td>...</td>\n      <td>...</td>\n      <td>...</td>\n      <td>...</td>\n      <td>...</td>\n      <td>...</td>\n      <td>...</td>\n      <td>...</td>\n      <td>...</td>\n      <td>...</td>\n      <td>...</td>\n      <td>...</td>\n      <td>...</td>\n      <td>...</td>\n      <td>...</td>\n      <td>...</td>\n      <td>...</td>\n      <td>...</td>\n      <td>...</td>\n      <td>...</td>\n    </tr>\n    <tr>\n      <th>32943</th>\n      <td>0</td>\n      <td>-1.414091</td>\n      <td>0</td>\n      <td>0</td>\n      <td>0.892477</td>\n      <td>1</td>\n      <td>1.867239</td>\n      <td>0.001496</td>\n      <td>-0.516709</td>\n      <td>-0.562980</td>\n      <td>...</td>\n      <td>0</td>\n      <td>1</td>\n      <td>0</td>\n      <td>0.245352</td>\n      <td>0.749951</td>\n      <td>-1.455321</td>\n      <td>-2.019243</td>\n      <td>-0.594895</td>\n      <td>0.081019</td>\n      <td>2.278833</td>\n    </tr>\n    <tr>\n      <th>22747</th>\n      <td>0</td>\n      <td>0.582526</td>\n      <td>1</td>\n      <td>0</td>\n      <td>-0.340320</td>\n      <td>0</td>\n      <td>0.260967</td>\n      <td>-0.442317</td>\n      <td>-1.283538</td>\n      <td>-0.390575</td>\n      <td>...</td>\n      <td>0</td>\n      <td>0</td>\n      <td>0</td>\n      <td>1.427627</td>\n      <td>0.500769</td>\n      <td>0.991923</td>\n      <td>0.869380</td>\n      <td>-0.717500</td>\n      <td>0.081019</td>\n      <td>-0.523497</td>\n    </tr>\n    <tr>\n      <th>19710</th>\n      <td>1</td>\n      <td>1.277001</td>\n      <td>0</td>\n      <td>0</td>\n      <td>-0.340320</td>\n      <td>0</td>\n      <td>0.178073</td>\n      <td>0.001496</td>\n      <td>-1.283538</td>\n      <td>-0.498328</td>\n      <td>...</td>\n      <td>0</td>\n      <td>1</td>\n      <td>0</td>\n      <td>0.738619</td>\n      <td>-0.963172</td>\n      <td>-0.152754</td>\n      <td>-0.735410</td>\n      <td>-0.717500</td>\n      <td>0.081019</td>\n      <td>-0.753932</td>\n    </tr>\n    <tr>\n      <th>13023</th>\n      <td>1</td>\n      <td>-0.545997</td>\n      <td>0</td>\n      <td>0</td>\n      <td>0.892477</td>\n      <td>0</td>\n      <td>-0.485557</td>\n      <td>0.889121</td>\n      <td>-0.516709</td>\n      <td>-0.239721</td>\n      <td>...</td>\n      <td>0</td>\n      <td>0</td>\n      <td>0</td>\n      <td>-0.247915</td>\n      <td>-0.527105</td>\n      <td>0.758373</td>\n      <td>-0.936009</td>\n      <td>-0.594895</td>\n      <td>0.081019</td>\n      <td>0.354919</td>\n    </tr>\n    <tr>\n      <th>70504</th>\n      <td>0</td>\n      <td>-0.719616</td>\n      <td>0</td>\n      <td>0</td>\n      <td>-0.340320</td>\n      <td>1</td>\n      <td>-0.401081</td>\n      <td>1.332934</td>\n      <td>1.783778</td>\n      <td>-0.024215</td>\n      <td>...</td>\n      <td>1</td>\n      <td>0</td>\n      <td>0</td>\n      <td>-0.913433</td>\n      <td>1.248314</td>\n      <td>0.575250</td>\n      <td>0.869380</td>\n      <td>1.944831</td>\n      <td>0.081019</td>\n      <td>0.141806</td>\n    </tr>\n  </tbody>\n</table>\n<p>59039 rows × 38 columns</p>\n</div>"
     },
     "metadata": {},
     "output_type": "display_data"
    },
    {
     "data": {
      "text/plain": "       sex       age  car  car_type  decline_app_cnt  good_work  score_bki  \\\n60889    1  0.065537    1         1         -0.35374          0  -0.184022   \n46372    1  0.239096    1         1         -0.35374          1  -1.247441   \n42779    1 -0.108021    1         1         -0.35374          0   0.126356   \n40843    1 -0.455139    0         0         -0.35374          0   1.324130   \n7022     0  1.714344    0         0         -0.35374          0  -0.439125   \n...    ...       ...  ...       ...              ...        ...        ...   \n9297     1  2.235020    1         0         -0.35374          1   0.303302   \n49128    0 -0.715477    0         0         -0.35374          0   0.589462   \n9380     0 -0.194801    0         0         -0.35374          0  -0.749145   \n7799     0  1.540785    0         0         -0.35374          0  -0.129511   \n24785    1  1.020110    1         1         -0.35374          0   0.760871   \n\n       bki_request_cnt  region_rating    income  ...  first_time_2  \\\n60889        -0.896666       1.778462  0.420187  ...             0   \n46372         0.883160       1.778462  2.410995  ...             0   \n42779         0.438204       1.778462  0.088386  ...             0   \n40843        -0.006753       1.015976  0.420187  ...             0   \n7022         -0.451709      -0.508996 -0.537612  ...             0   \n...                ...            ...       ...  ...           ...   \n9297         -0.006753      -0.508996 -0.066455  ...             0   \n49128        -0.896666       1.778462 -0.132815  ...             0   \n9380         -0.451709      -0.508996 -0.354016  ...             0   \n7799         -0.006753      -0.508996 -0.630517  ...             0   \n24785        -0.896666      -1.271482  0.751989  ...             0   \n\n       first_time_3  first_time_4  clients_in_date  app_delay  \\\n60889             0             1         0.070732   1.414181   \n46372             0             1         0.283843   1.165609   \n42779             0             1        -0.020602  -0.419035   \n40843             0             1         0.588288   0.761680   \n7022              1             0         0.923178   0.047037   \n...             ...           ...              ...        ...   \n9297              1             0         1.440734   0.419894   \n49128             0             1        -2.364827  -1.786179   \n9380              0             0        -0.568602   0.202394   \n7799              0             1         0.679622   1.320966   \n24785             1             0         0.496955  -1.413322   \n\n       mean_income_age  max_income_age  mean_income_region  max_income_region  \\\n60889         0.190484       -0.411495            1.875006          -1.298540   \n46372         0.586638       -0.288503            1.875006          -1.298540   \n42779         1.451953        1.433391            1.875006          -1.298540   \n40843         1.102892        2.253341            1.531960          -1.298540   \n7022         -2.092239       -1.149450           -0.561834           0.494253   \n...                ...             ...                 ...                ...   \n9297         -2.131510       -1.026457           -0.561834           0.494253   \n49128         0.723468        1.433391            1.875006          -1.298540   \n9380          0.831190       -0.206508           -0.561834           0.494253   \n7799         -0.090216        1.023417           -0.561834           0.494253   \n24785         0.344378        0.941422           -0.751901           0.494253   \n\n       mean_declines_age  \n60889          -0.837091  \n46372           0.031893  \n42779          -0.024722  \n40843          -0.636549  \n7022           -0.717519  \n...                  ...  \n9297           -0.936720  \n49128           0.086971  \n9380           -0.130687  \n7799           -1.518421  \n24785          -0.681473  \n\n[14760 rows x 38 columns]",
      "text/html": "<div>\n<style scoped>\n    .dataframe tbody tr th:only-of-type {\n        vertical-align: middle;\n    }\n\n    .dataframe tbody tr th {\n        vertical-align: top;\n    }\n\n    .dataframe thead th {\n        text-align: right;\n    }\n</style>\n<table border=\"1\" class=\"dataframe\">\n  <thead>\n    <tr style=\"text-align: right;\">\n      <th></th>\n      <th>sex</th>\n      <th>age</th>\n      <th>car</th>\n      <th>car_type</th>\n      <th>decline_app_cnt</th>\n      <th>good_work</th>\n      <th>score_bki</th>\n      <th>bki_request_cnt</th>\n      <th>region_rating</th>\n      <th>income</th>\n      <th>...</th>\n      <th>first_time_2</th>\n      <th>first_time_3</th>\n      <th>first_time_4</th>\n      <th>clients_in_date</th>\n      <th>app_delay</th>\n      <th>mean_income_age</th>\n      <th>max_income_age</th>\n      <th>mean_income_region</th>\n      <th>max_income_region</th>\n      <th>mean_declines_age</th>\n    </tr>\n  </thead>\n  <tbody>\n    <tr>\n      <th>60889</th>\n      <td>1</td>\n      <td>0.065537</td>\n      <td>1</td>\n      <td>1</td>\n      <td>-0.35374</td>\n      <td>0</td>\n      <td>-0.184022</td>\n      <td>-0.896666</td>\n      <td>1.778462</td>\n      <td>0.420187</td>\n      <td>...</td>\n      <td>0</td>\n      <td>0</td>\n      <td>1</td>\n      <td>0.070732</td>\n      <td>1.414181</td>\n      <td>0.190484</td>\n      <td>-0.411495</td>\n      <td>1.875006</td>\n      <td>-1.298540</td>\n      <td>-0.837091</td>\n    </tr>\n    <tr>\n      <th>46372</th>\n      <td>1</td>\n      <td>0.239096</td>\n      <td>1</td>\n      <td>1</td>\n      <td>-0.35374</td>\n      <td>1</td>\n      <td>-1.247441</td>\n      <td>0.883160</td>\n      <td>1.778462</td>\n      <td>2.410995</td>\n      <td>...</td>\n      <td>0</td>\n      <td>0</td>\n      <td>1</td>\n      <td>0.283843</td>\n      <td>1.165609</td>\n      <td>0.586638</td>\n      <td>-0.288503</td>\n      <td>1.875006</td>\n      <td>-1.298540</td>\n      <td>0.031893</td>\n    </tr>\n    <tr>\n      <th>42779</th>\n      <td>1</td>\n      <td>-0.108021</td>\n      <td>1</td>\n      <td>1</td>\n      <td>-0.35374</td>\n      <td>0</td>\n      <td>0.126356</td>\n      <td>0.438204</td>\n      <td>1.778462</td>\n      <td>0.088386</td>\n      <td>...</td>\n      <td>0</td>\n      <td>0</td>\n      <td>1</td>\n      <td>-0.020602</td>\n      <td>-0.419035</td>\n      <td>1.451953</td>\n      <td>1.433391</td>\n      <td>1.875006</td>\n      <td>-1.298540</td>\n      <td>-0.024722</td>\n    </tr>\n    <tr>\n      <th>40843</th>\n      <td>1</td>\n      <td>-0.455139</td>\n      <td>0</td>\n      <td>0</td>\n      <td>-0.35374</td>\n      <td>0</td>\n      <td>1.324130</td>\n      <td>-0.006753</td>\n      <td>1.015976</td>\n      <td>0.420187</td>\n      <td>...</td>\n      <td>0</td>\n      <td>0</td>\n      <td>1</td>\n      <td>0.588288</td>\n      <td>0.761680</td>\n      <td>1.102892</td>\n      <td>2.253341</td>\n      <td>1.531960</td>\n      <td>-1.298540</td>\n      <td>-0.636549</td>\n    </tr>\n    <tr>\n      <th>7022</th>\n      <td>0</td>\n      <td>1.714344</td>\n      <td>0</td>\n      <td>0</td>\n      <td>-0.35374</td>\n      <td>0</td>\n      <td>-0.439125</td>\n      <td>-0.451709</td>\n      <td>-0.508996</td>\n      <td>-0.537612</td>\n      <td>...</td>\n      <td>0</td>\n      <td>1</td>\n      <td>0</td>\n      <td>0.923178</td>\n      <td>0.047037</td>\n      <td>-2.092239</td>\n      <td>-1.149450</td>\n      <td>-0.561834</td>\n      <td>0.494253</td>\n      <td>-0.717519</td>\n    </tr>\n    <tr>\n      <th>...</th>\n      <td>...</td>\n      <td>...</td>\n      <td>...</td>\n      <td>...</td>\n      <td>...</td>\n      <td>...</td>\n      <td>...</td>\n      <td>...</td>\n      <td>...</td>\n      <td>...</td>\n      <td>...</td>\n      <td>...</td>\n      <td>...</td>\n      <td>...</td>\n      <td>...</td>\n      <td>...</td>\n      <td>...</td>\n      <td>...</td>\n      <td>...</td>\n      <td>...</td>\n      <td>...</td>\n    </tr>\n    <tr>\n      <th>9297</th>\n      <td>1</td>\n      <td>2.235020</td>\n      <td>1</td>\n      <td>0</td>\n      <td>-0.35374</td>\n      <td>1</td>\n      <td>0.303302</td>\n      <td>-0.006753</td>\n      <td>-0.508996</td>\n      <td>-0.066455</td>\n      <td>...</td>\n      <td>0</td>\n      <td>1</td>\n      <td>0</td>\n      <td>1.440734</td>\n      <td>0.419894</td>\n      <td>-2.131510</td>\n      <td>-1.026457</td>\n      <td>-0.561834</td>\n      <td>0.494253</td>\n      <td>-0.936720</td>\n    </tr>\n    <tr>\n      <th>49128</th>\n      <td>0</td>\n      <td>-0.715477</td>\n      <td>0</td>\n      <td>0</td>\n      <td>-0.35374</td>\n      <td>0</td>\n      <td>0.589462</td>\n      <td>-0.896666</td>\n      <td>1.778462</td>\n      <td>-0.132815</td>\n      <td>...</td>\n      <td>0</td>\n      <td>0</td>\n      <td>1</td>\n      <td>-2.364827</td>\n      <td>-1.786179</td>\n      <td>0.723468</td>\n      <td>1.433391</td>\n      <td>1.875006</td>\n      <td>-1.298540</td>\n      <td>0.086971</td>\n    </tr>\n    <tr>\n      <th>9380</th>\n      <td>0</td>\n      <td>-0.194801</td>\n      <td>0</td>\n      <td>0</td>\n      <td>-0.35374</td>\n      <td>0</td>\n      <td>-0.749145</td>\n      <td>-0.451709</td>\n      <td>-0.508996</td>\n      <td>-0.354016</td>\n      <td>...</td>\n      <td>0</td>\n      <td>0</td>\n      <td>0</td>\n      <td>-0.568602</td>\n      <td>0.202394</td>\n      <td>0.831190</td>\n      <td>-0.206508</td>\n      <td>-0.561834</td>\n      <td>0.494253</td>\n      <td>-0.130687</td>\n    </tr>\n    <tr>\n      <th>7799</th>\n      <td>0</td>\n      <td>1.540785</td>\n      <td>0</td>\n      <td>0</td>\n      <td>-0.35374</td>\n      <td>0</td>\n      <td>-0.129511</td>\n      <td>-0.006753</td>\n      <td>-0.508996</td>\n      <td>-0.630517</td>\n      <td>...</td>\n      <td>0</td>\n      <td>0</td>\n      <td>1</td>\n      <td>0.679622</td>\n      <td>1.320966</td>\n      <td>-0.090216</td>\n      <td>1.023417</td>\n      <td>-0.561834</td>\n      <td>0.494253</td>\n      <td>-1.518421</td>\n    </tr>\n    <tr>\n      <th>24785</th>\n      <td>1</td>\n      <td>1.020110</td>\n      <td>1</td>\n      <td>1</td>\n      <td>-0.35374</td>\n      <td>0</td>\n      <td>0.760871</td>\n      <td>-0.896666</td>\n      <td>-1.271482</td>\n      <td>0.751989</td>\n      <td>...</td>\n      <td>0</td>\n      <td>1</td>\n      <td>0</td>\n      <td>0.496955</td>\n      <td>-1.413322</td>\n      <td>0.344378</td>\n      <td>0.941422</td>\n      <td>-0.751901</td>\n      <td>0.494253</td>\n      <td>-0.681473</td>\n    </tr>\n  </tbody>\n</table>\n<p>14760 rows × 38 columns</p>\n</div>"
     },
     "metadata": {},
     "output_type": "display_data"
    }
   ],
   "source": [
    "df_train = preproc_data(df_train_orig)\n",
    "df_train.info()\n",
    "display(df_train)\n",
    "\n",
    "df_val = preproc_data(df_val_orig)\n",
    "df_val.info()\n",
    "display(df_val)"
   ],
   "metadata": {
    "collapsed": false,
    "pycharm": {
     "name": "#%%\n"
    }
   }
  },
  {
   "cell_type": "markdown",
   "source": [
    "# Model training"
   ],
   "metadata": {
    "collapsed": false
   }
  },
  {
   "cell_type": "code",
   "execution_count": 80,
   "outputs": [],
   "source": [
    "X_train = df_train.drop(['default'], axis = 1).values\n",
    "y_train = df_train['default'].values\n",
    "\n",
    "X_val = df_val.drop(['default'], axis = 1).values\n",
    "y_val = df_val['default'].values"
   ],
   "metadata": {
    "collapsed": false,
    "pycharm": {
     "name": "#%%\n"
    }
   }
  },
  {
   "cell_type": "code",
   "execution_count": 81,
   "outputs": [
    {
     "name": "stdout",
     "output_type": "stream",
     "text": [
      "precision_score= 0.46511627906976744\n",
      "recall_score= 0.032017075773746\n",
      "accuracy_score= 0.8724254742547426\n",
      "f1_score= 0.059910134797803286\n"
     ]
    },
    {
     "data": {
      "text/plain": "<sklearn.metrics._plot.confusion_matrix.ConfusionMatrixDisplay at 0x1d8c0f65888>"
     },
     "execution_count": 81,
     "metadata": {},
     "output_type": "execute_result"
    },
    {
     "data": {
      "text/plain": "<Figure size 432x288 with 2 Axes>",
      "image/png": "[encoded data removed]"
     },
     "metadata": {},
     "output_type": "display_data"
    }
   ],
   "source": [
    "clf = LogisticRegression(max_iter=1000)\n",
    "clf.fit(X_train, y_train)\n",
    "\n",
    "y_pred = clf.predict(X_val)\n",
    "\n",
    "show_clf_metrics(y_val, y_pred)\n",
    "plot_confusion_matrix(clf, X_val, y_val)"
   ],
   "metadata": {
    "collapsed": false,
    "pycharm": {
     "name": "#%%\n"
    }
   }
  },
  {
   "cell_type": "code",
   "execution_count": 82,
   "outputs": [
    {
     "data": {
      "text/plain": "<Figure size 432x288 with 1 Axes>",
      "image/png": "[encoded data removed]"
     },
     "metadata": {},
     "output_type": "display_data"
    },
    {
     "data": {
      "text/plain": "<matplotlib.collections.PathCollection at 0x1d8bde0bc48>"
     },
     "execution_count": 82,
     "metadata": {},
     "output_type": "execute_result"
    },
    {
     "data": {
      "text/plain": "<Figure size 432x288 with 1 Axes>",
      "image/png": "[encoded data removed]"
     },
     "metadata": {},
     "output_type": "display_data"
    }
   ],
   "source": [
    "probs = clf.predict_proba(X_val)[:,1]\n",
    "\n",
    "fpr, tpr, threshold = roc_curve(y_val, probs)\n",
    "roc_auc = roc_auc_score(y_val, probs)\n",
    "\n",
    "plt.figure()\n",
    "plt.plot([0, 1], label='Baseline', linestyle='--')\n",
    "# plt.plot(fpr, tpr, label = 'Regression')\n",
    "plt.title('Logistic Regression ROC AUC = %0.9f' % roc_auc)\n",
    "plt.ylabel('True Positive Rate')\n",
    "plt.xlabel('False Positive Rate')\n",
    "plt.legend(loc = 'lower right')\n",
    "\n",
    "# idxs = np.where((0.0 < threshold) & (threshold < 0.3))\n",
    "# print(idxs)\n",
    "# plt.plot(fpr[idxs], tpr[idxs], marker='o', markersize=5, linestyle='', c=colors)\n",
    "\n",
    "colors = plt.cm.jet(threshold)\n",
    "\n",
    "plt.scatter(fpr, tpr, marker='o', s=20, c=colors)\n",
    "\n",
    "plt.show()\n",
    "\n",
    "plt.figure()\n",
    "plt.scatter(range(0,len(threshold)), threshold, marker='o', s=20, c=colors)"
   ],
   "metadata": {
    "collapsed": false,
    "pycharm": {
     "name": "#%%\n"
    }
   }
  },
  {
   "cell_type": "markdown",
   "source": [
    "Experiments with hyperparameters"
   ],
   "metadata": {
    "collapsed": false
   }
  },
  {
   "cell_type": "code",
   "execution_count": 83,
   "outputs": [
    {
     "name": "stdout",
     "output_type": "stream",
     "text": [
      "Fitting 5 folds for each of 10 candidates, totalling 50 fits\n",
      "Best Penalty: l2\n",
      "Best C: 0.1\n",
      "Best score: 0.7319499711214363\n"
     ]
    }
   ],
   "source": [
    "# regularization parameters\n",
    "penalty = ['l1', 'l2']\n",
    "C = np.logspace(-2, 2, 5)\n",
    "\n",
    "hyperparameters = dict(C=C, penalty=penalty)\n",
    "\n",
    "skf = StratifiedKFold(n_splits=5, shuffle = True, random_state = SEED)\n",
    "cv = skf.split(X_train, y_train)\n",
    "\n",
    "clf = LogisticRegression(max_iter=1000, solver='liblinear')\n",
    "clf.fit(X_train, y_train)\n",
    "\n",
    "clf = GridSearchCV(clf, hyperparameters, cv=cv, scoring='roc_auc', verbose=10, n_jobs=-1)\n",
    "\n",
    "grid_search_model = clf.fit(X_train, y_train)\n",
    "\n",
    "# View best hyperparameters\n",
    "print('Best Penalty:',  grid_search_model.best_estimator_.get_params()['penalty'])\n",
    "print('Best C:',        grid_search_model.best_estimator_.get_params()['C'])\n",
    "print('Best score:',    grid_search_model.best_score_)"
   ],
   "metadata": {
    "collapsed": false,
    "pycharm": {
     "name": "#%%\n"
    }
   }
  },
  {
   "cell_type": "code",
   "execution_count": 21,
   "outputs": [
    {
     "name": "stdout",
     "output_type": "stream",
     "text": [
      "roc_auc for best grid_search_model: 0.7397101517933058\n"
     ]
    }
   ],
   "source": [
    "# check grid search best_estimator_ on validation set\n",
    "probs = grid_search_model.best_estimator_.predict_proba(X_val)[:,1]\n",
    "\n",
    "roc_auc = roc_auc_score(y_val, probs)\n",
    "print('roc_auc for best grid_search_model:', roc_auc)"
   ],
   "metadata": {
    "collapsed": false,
    "pycharm": {
     "name": "#%%\n"
    }
   }
  },
  {
   "cell_type": "markdown",
   "source": [
    "Grid search estimator has a bit higher roc_auc score on validation set"
   ],
   "metadata": {
    "collapsed": false
   }
  },
  {
   "cell_type": "markdown",
   "source": [
    "## Using more powerfull model\n",
    "### XGBoost with RandomizedSearchCV"
   ],
   "metadata": {
    "collapsed": false
   }
  },
  {
   "cell_type": "code",
   "execution_count": 84,
   "outputs": [
    {
     "name": "stdout",
     "output_type": "stream",
     "text": [
      "Fitting 5 folds for each of 5 candidates, totalling 25 fits\n",
      "[02:53:55] WARNING: ..\\src\\learner.cc:541: \n",
      "Parameters: { silent } might not be used.\n",
      "\n",
      "  This may not be accurate due to some parameters are only used in language bindings but\n",
      "  passed down to XGBoost core.  Or some parameters are not used but slip through this\n",
      "  verification. Please open an issue if you find above cases.\n",
      "\n",
      "\n",
      "[02:53:55] WARNING: ..\\src\\learner.cc:1061: Starting in XGBoost 1.3.0, the default evaluation metric used with the objective 'binary:logistic' was changed from 'error' to 'logloss'. Explicitly set eval_metric if you'd like to restore the old behavior.\n",
      "Random search model results: {'mean_fit_time': array([44.6622025 , 30.74061928, 33.17570996, 31.69048119, 28.07853708]), 'std_fit_time': array([0.24264104, 0.36251084, 0.80054778, 2.62269945, 6.57746228]), 'mean_score_time': array([0.03590431, 0.02972074, 0.02912216, 0.02732706, 0.02912216]), 'std_score_time': array([0.00244295, 0.00193405, 0.00171565, 0.0020534 , 0.00586332]), 'param_subsample': masked_array(data=[0.8, 1.0, 0.8, 0.6, 0.6],\n",
      "             mask=[False, False, False, False, False],\n",
      "       fill_value='?',\n",
      "            dtype=object), 'param_min_child_weight': masked_array(data=[10, 1, 10, 10, 10],\n",
      "             mask=[False, False, False, False, False],\n",
      "       fill_value='?',\n",
      "            dtype=object), 'param_max_depth': masked_array(data=[4, 3, 3, 3, 4],\n",
      "             mask=[False, False, False, False, False],\n",
      "       fill_value='?',\n",
      "            dtype=object), 'param_gamma': masked_array(data=[1.5, 2, 5, 1, 1],\n",
      "             mask=[False, False, False, False, False],\n",
      "       fill_value='?',\n",
      "            dtype=object), 'param_colsample_bytree': masked_array(data=[0.6, 0.8, 1.0, 0.6, 0.6],\n",
      "             mask=[False, False, False, False, False],\n",
      "       fill_value='?',\n",
      "            dtype=object), 'params': [{'subsample': 0.8, 'min_child_weight': 10, 'max_depth': 4, 'gamma': 1.5, 'colsample_bytree': 0.6}, {'subsample': 1.0, 'min_child_weight': 1, 'max_depth': 3, 'gamma': 2, 'colsample_bytree': 0.8}, {'subsample': 0.8, 'min_child_weight': 10, 'max_depth': 3, 'gamma': 5, 'colsample_bytree': 1.0}, {'subsample': 0.6, 'min_child_weight': 10, 'max_depth': 3, 'gamma': 1, 'colsample_bytree': 0.6}, {'subsample': 0.6, 'min_child_weight': 10, 'max_depth': 4, 'gamma': 1, 'colsample_bytree': 0.6}], 'split0_test_score': array([0.72724773, 0.72824082, 0.7292079 , 0.72904056, 0.72603484]), 'split1_test_score': array([0.73899654, 0.73828321, 0.7391375 , 0.74135044, 0.73983974]), 'split2_test_score': array([0.73480222, 0.73489652, 0.73565503, 0.73569444, 0.73465431]), 'split3_test_score': array([0.74777991, 0.74667443, 0.74717637, 0.74833476, 0.74659058]), 'split4_test_score': array([0.72662224, 0.72560937, 0.72702119, 0.72716483, 0.72617924]), 'mean_test_score': array([0.73508973, 0.73474087, 0.7356396 , 0.73631701, 0.73465974]), 'std_test_score': array([0.0078687 , 0.00749156, 0.00722463, 0.00783401, 0.00794336]), 'rank_test_score': array([3, 4, 2, 1, 5])}\n",
      "roc_auc for best random_search_model: 0.7408747027334854\n"
     ]
    },
    {
     "name": "stderr",
     "output_type": "stream",
     "text": [
      "C:\\ProgramData\\Anaconda3\\envs\\TestProject\\lib\\site-packages\\xgboost\\sklearn.py:888: UserWarning: The use of label encoder in XGBClassifier is deprecated and will be removed in a future release. To remove this warning, do the following: 1) Pass option use_label_encoder=False when constructing XGBClassifier object; and 2) Encode your labels (y) as integers starting with 0, i.e. 0, 1, 2, ..., [num_class - 1].\n",
      "  warnings.warn(label_encoder_deprecation_msg, UserWarning)\n"
     ]
    }
   ],
   "source": [
    "# try more powerfull model\n",
    "skf = StratifiedKFold(n_splits=5, shuffle = True, random_state = SEED)\n",
    "cv = skf.split(X_train, y_train)\n",
    "\n",
    "xgb = XGBClassifier(learning_rate=0.025, n_estimators=700, objective='binary:logistic', silent=True, nthread=-1)\n",
    "\n",
    "rnd_search_params = {\n",
    "                    'min_child_weight': [1, 5, 10],\n",
    "                    'gamma': [0.5, 1, 1.5, 2, 5],\n",
    "                    'subsample': [0.6, 0.8, 1.0],\n",
    "                    'colsample_bytree': [0.6, 0.8, 1.0],\n",
    "                    'max_depth': [3, 4, 5]\n",
    "                    }\n",
    "random_search_model = RandomizedSearchCV(xgb, param_distributions=rnd_search_params, n_iter=5, scoring='roc_auc', \n",
    "                                    n_jobs=-1, cv=cv, verbose=3, random_state=SEED)\n",
    "\n",
    "random_search_model.fit(X_train, y_train)\n",
    "\n",
    "print('Random search model results:', random_search_model.cv_results_)\n",
    "\n",
    "# check random_search best_estimator_ on validation set\n",
    "probs = random_search_model.best_estimator_.predict_proba(X_val)[:,1]\n",
    "\n",
    "roc_auc = roc_auc_score(y_val, probs)\n",
    "print('roc_auc for best random_search_model:', roc_auc)"
   ],
   "metadata": {
    "collapsed": false,
    "pycharm": {
     "name": "#%%\n"
    }
   }
  },
  {
   "cell_type": "code",
   "execution_count": 45,
   "outputs": [
    {
     "data": {
      "text/plain": "(59039, 37)"
     },
     "execution_count": 45,
     "metadata": {},
     "output_type": "execute_result"
    }
   ],
   "source": [
    "X_train.shape"
   ],
   "metadata": {
    "collapsed": false,
    "pycharm": {
     "name": "#%%\n"
    }
   }
  },
  {
   "cell_type": "code",
   "execution_count": 48,
   "outputs": [
    {
     "name": "stdout",
     "output_type": "stream",
     "text": [
      "X_train_all.shape= (73799, 37)\n",
      "y_train_all.shape= (73799, 1)\n"
     ]
    }
   ],
   "source": [
    "# we have best results on validation set for this model\n",
    "# so train it on all data and predict for test set\n",
    "X_train_all = np.vstack((X_train, X_val))\n",
    "y_train_all = np.vstack((y_train[:,np.newaxis], y_val[:,np.newaxis]))\n",
    "\n",
    "print('X_train_all.shape=', X_train_all.shape)\n",
    "print('y_train_all.shape=', y_train_all.shape)"
   ],
   "metadata": {
    "collapsed": false,
    "pycharm": {
     "name": "#%%\n"
    }
   }
  },
  {
   "cell_type": "code",
   "execution_count": 50,
   "outputs": [
    {
     "name": "stdout",
     "output_type": "stream",
     "text": [
      "Fitting 5 folds for each of 5 candidates, totalling 25 fits\n",
      "[02:30:12] WARNING: ..\\src\\learner.cc:541: \n",
      "Parameters: { silent } might not be used.\n",
      "\n",
      "  This may not be accurate due to some parameters are only used in language bindings but\n",
      "  passed down to XGBoost core.  Or some parameters are not used but slip through this\n",
      "  verification. Please open an issue if you find above cases.\n",
      "\n",
      "\n",
      "[02:30:12] WARNING: ..\\src\\learner.cc:1061: Starting in XGBoost 1.3.0, the default evaluation metric used with the objective 'binary:logistic' was changed from 'error' to 'logloss'. Explicitly set eval_metric if you'd like to restore the old behavior.\n",
      "Final model results: {'mean_fit_time': array([40.73948913, 27.85293894, 29.62819381, 28.66935744, 25.35302267]), 'std_fit_time': array([0.26870086, 0.23791428, 0.63895969, 2.3485606 , 5.77387177]), 'mean_score_time': array([0.04428201, 0.0375    , 0.03590417, 0.03131628, 0.03530588]), 'std_score_time': array([0.00755864, 0.00272022, 0.0038367 , 0.00299869, 0.00669308]), 'param_subsample': masked_array(data=[0.8, 1.0, 0.8, 0.6, 0.6],\n",
      "             mask=[False, False, False, False, False],\n",
      "       fill_value='?',\n",
      "            dtype=object), 'param_min_child_weight': masked_array(data=[10, 1, 10, 10, 10],\n",
      "             mask=[False, False, False, False, False],\n",
      "       fill_value='?',\n",
      "            dtype=object), 'param_max_depth': masked_array(data=[4, 3, 3, 3, 4],\n",
      "             mask=[False, False, False, False, False],\n",
      "       fill_value='?',\n",
      "            dtype=object), 'param_gamma': masked_array(data=[1.5, 2, 5, 1, 1],\n",
      "             mask=[False, False, False, False, False],\n",
      "       fill_value='?',\n",
      "            dtype=object), 'param_colsample_bytree': masked_array(data=[0.6, 0.8, 1.0, 0.6, 0.6],\n",
      "             mask=[False, False, False, False, False],\n",
      "       fill_value='?',\n",
      "            dtype=object), 'params': [{'subsample': 0.8, 'min_child_weight': 10, 'max_depth': 4, 'gamma': 1.5, 'colsample_bytree': 0.6}, {'subsample': 1.0, 'min_child_weight': 1, 'max_depth': 3, 'gamma': 2, 'colsample_bytree': 0.8}, {'subsample': 0.8, 'min_child_weight': 10, 'max_depth': 3, 'gamma': 5, 'colsample_bytree': 1.0}, {'subsample': 0.6, 'min_child_weight': 10, 'max_depth': 3, 'gamma': 1, 'colsample_bytree': 0.6}, {'subsample': 0.6, 'min_child_weight': 10, 'max_depth': 4, 'gamma': 1, 'colsample_bytree': 0.6}], 'split0_test_score': array([0.74165384, 0.7414077 , 0.74145476, 0.74233522, 0.74248173]), 'split1_test_score': array([0.73640918, 0.7357281 , 0.73671386, 0.73688027, 0.73654838]), 'split2_test_score': array([0.74299948, 0.7420864 , 0.74291829, 0.74320379, 0.74375066]), 'split3_test_score': array([0.73023588, 0.72829318, 0.72985404, 0.73040333, 0.7306992 ]), 'split4_test_score': array([0.73671327, 0.73617136, 0.73702559, 0.73786453, 0.73719182]), 'mean_test_score': array([0.73760233, 0.73673735, 0.73759331, 0.73813743, 0.73813436]), 'std_test_score': array([0.00451714, 0.0049612 , 0.00456636, 0.00457735, 0.00467178]), 'rank_test_score': array([3, 5, 4, 1, 2])}\n",
      "roc_auc for final model on validation set (NB! included in train set): 0.7595792824723033\n"
     ]
    },
    {
     "name": "stderr",
     "output_type": "stream",
     "text": [
      "C:\\ProgramData\\Anaconda3\\envs\\TestProject\\lib\\site-packages\\xgboost\\sklearn.py:888: UserWarning: The use of label encoder in XGBClassifier is deprecated and will be removed in a future release. To remove this warning, do the following: 1) Pass option use_label_encoder=False when constructing XGBClassifier object; and 2) Encode your labels (y) as integers starting with 0, i.e. 0, 1, 2, ..., [num_class - 1].\n",
      "  warnings.warn(label_encoder_deprecation_msg, UserWarning)\n",
      "C:\\ProgramData\\Anaconda3\\envs\\TestProject\\lib\\site-packages\\sklearn\\utils\\validation.py:63: DataConversionWarning: A column-vector y was passed when a 1d array was expected. Please change the shape of y to (n_samples, ), for example using ravel().\n",
      "  return f(*args, **kwargs)\n"
     ]
    }
   ],
   "source": [
    "skf = StratifiedKFold(n_splits=5, shuffle = True, random_state = SEED)\n",
    "cv_all = skf.split(X_train_all, y_train_all)\n",
    "\n",
    "final_model = RandomizedSearchCV(xgb, param_distributions=rnd_search_params, n_iter=5, scoring='roc_auc', \n",
    "                                    n_jobs=-1, cv=cv_all, verbose=3, random_state=SEED)\n",
    "final_model.fit(X_train_all, y_train_all)\n",
    "\n",
    "print('Final model results:', final_model.cv_results_)\n",
    "\n",
    "# check one more time on validation set\n",
    "probs = final_model.best_estimator_.predict_proba(X_val)\n",
    "\n",
    "roc_auc = roc_auc_score(y_val, probs[:,1])\n",
    "print('roc_auc for final model on validation set (NB! included in train set):', roc_auc)"
   ],
   "metadata": {
    "collapsed": false,
    "pycharm": {
     "name": "#%%\n"
    }
   }
  },
  {
   "cell_type": "markdown",
   "source": [
    "# Submission"
   ],
   "metadata": {
    "collapsed": false
   }
  },
  {
   "cell_type": "code",
   "execution_count": 85,
   "outputs": [
    {
     "data": {
      "text/plain": "       client_id   default\n0          74835  0.031493\n1          17527  0.243730\n2          75683  0.066114\n3          26883  0.077412\n4          28862  0.019687\n...          ...       ...\n36344      83775  0.396786\n36345     106254  0.022831\n36346      81852  0.262898\n36347       1971  0.261885\n36348      69044  0.239931\n\n[36349 rows x 2 columns]",
      "text/html": "<div>\n<style scoped>\n    .dataframe tbody tr th:only-of-type {\n        vertical-align: middle;\n    }\n\n    .dataframe tbody tr th {\n        vertical-align: top;\n    }\n\n    .dataframe thead th {\n        text-align: right;\n    }\n</style>\n<table border=\"1\" class=\"dataframe\">\n  <thead>\n    <tr style=\"text-align: right;\">\n      <th></th>\n      <th>client_id</th>\n      <th>default</th>\n    </tr>\n  </thead>\n  <tbody>\n    <tr>\n      <th>0</th>\n      <td>74835</td>\n      <td>0.031493</td>\n    </tr>\n    <tr>\n      <th>1</th>\n      <td>17527</td>\n      <td>0.243730</td>\n    </tr>\n    <tr>\n      <th>2</th>\n      <td>75683</td>\n      <td>0.066114</td>\n    </tr>\n    <tr>\n      <th>3</th>\n      <td>26883</td>\n      <td>0.077412</td>\n    </tr>\n    <tr>\n      <th>4</th>\n      <td>28862</td>\n      <td>0.019687</td>\n    </tr>\n    <tr>\n      <th>...</th>\n      <td>...</td>\n      <td>...</td>\n    </tr>\n    <tr>\n      <th>36344</th>\n      <td>83775</td>\n      <td>0.396786</td>\n    </tr>\n    <tr>\n      <th>36345</th>\n      <td>106254</td>\n      <td>0.022831</td>\n    </tr>\n    <tr>\n      <th>36346</th>\n      <td>81852</td>\n      <td>0.262898</td>\n    </tr>\n    <tr>\n      <th>36347</th>\n      <td>1971</td>\n      <td>0.261885</td>\n    </tr>\n    <tr>\n      <th>36348</th>\n      <td>69044</td>\n      <td>0.239931</td>\n    </tr>\n  </tbody>\n</table>\n<p>36349 rows × 2 columns</p>\n</div>"
     },
     "execution_count": 85,
     "metadata": {},
     "output_type": "execute_result"
    }
   ],
   "source": [
    "df_test = preproc_data(test_data)\n",
    "\n",
    "X_test = df_test.values\n",
    "probs_test = final_model.best_estimator_.predict_proba(X_test)\n",
    "\n",
    "df_sub = pd.DataFrame(data={'client_id': test_data['client_id'], 'default': probs_test})\n",
    "df_sub"
   ],
   "metadata": {
    "collapsed": false,
    "pycharm": {
     "name": "#%%\n"
    }
   }
  },
  {
   "cell_type": "code",
   "execution_count": 88,
   "outputs": [],
   "source": [
    "df_sub.to_csv('submission.csv', index=False)"
   ],
   "metadata": {
    "collapsed": false,
    "pycharm": {
     "name": "#%%\n"
    }
   }
  },
  {
   "cell_type": "code",
   "execution_count": null,
   "outputs": [],
   "source": [],
   "metadata": {
    "collapsed": false,
    "pycharm": {
     "name": "#%%\n"
    }
   }
  }
 ],
 "metadata": {
  "kernelspec": {
   "display_name": "Python 3",
   "language": "python",
   "name": "python3"
  },
  "language_info": {
   "codemirror_mode": {
    "name": "ipython",
    "version": 2
   },
   "file_extension": ".py",
   "mimetype": "text/x-python",
   "name": "python",
   "nbconvert_exporter": "python",
   "pygments_lexer": "ipython2",
   "version": "2.7.6"
  }
 },
 "nbformat": 4,
 "nbformat_minor": 0
}