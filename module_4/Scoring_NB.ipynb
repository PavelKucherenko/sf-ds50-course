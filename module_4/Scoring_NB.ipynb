{
 "cells": [
  {
   "cell_type": "markdown",
   "source": [
    "# Import"
   ],
   "metadata": {
    "collapsed": false
   }
  },
  {
   "cell_type": "code",
   "execution_count": 31,
   "outputs": [],
   "source": [
    "import pandas as pd\n",
    "from pandas_profiling import ProfileReport\n",
    "import numpy as np\n",
    "import matplotlib.pyplot as plt\n",
    "%matplotlib inline\n",
    "from IPython.display import display\n",
    "import seaborn as sb\n",
    "\n",
    "from sklearn.model_selection import train_test_split\n",
    "from sklearn.preprocessing import LabelEncoder\n",
    "from sklearn.feature_selection import mutual_info_classif\n",
    "from sklearn.feature_selection import f_classif\n",
    "from sklearn.preprocessing import StandardScaler\n",
    "from sklearn.linear_model import LogisticRegression\n",
    "from sklearn.metrics import accuracy_score, precision_score, recall_score, f1_score\n",
    "from sklearn.metrics import plot_confusion_matrix\n",
    "from sklearn.metrics import roc_curve, roc_auc_score\n",
    "from sklearn.model_selection import GridSearchCV\n",
    "\n",
    "from sklearn.model_selection import StratifiedKFold\n",
    "\n",
    "from xgboost import XGBClassifier\n",
    "from sklearn.model_selection import RandomizedSearchCV\n",
    "\n",
    "import multiprocessing"
   ],
   "metadata": {
    "collapsed": false,
    "pycharm": {
     "name": "#%%\n"
    }
   }
  },
  {
   "cell_type": "markdown",
   "source": [
    "# Functions"
   ],
   "metadata": {
    "collapsed": false
   }
  },
  {
   "cell_type": "code",
   "execution_count": 21,
   "outputs": [],
   "source": [
    "def fillna_mode(df, col):\n",
    "    \"\"\"\n",
    "    Function fills NaN values in column of df with MODE value.\n",
    "    :param col: Column to replace NaN with mode\n",
    "    :param df: Dataframe with specified column\n",
    "    \"\"\"\n",
    "    df.fillna({col : df[col].mode().iloc[0]}, inplace=True)\n",
    "\n",
    "def fillna_group_mode(df, grp_col, col):\n",
    "    \"\"\"\n",
    "    Function fills NaN values in column of df with MODE value computed for categories in group column.\n",
    "    :param df: Dataframe with specified column\n",
    "    :param grp_col: Column with categories to group by\n",
    "    :param col: Column to replace NaN with mode\n",
    "    \"\"\"\n",
    "\n",
    "    col_mode = df.groupby(grp_col)[col].agg(lambda x: pd.Series.mode(x)[0])\n",
    "    df[col] = df[[grp_col, col]].apply(lambda elms: col_mode[elms[0]] if pd.isna(elms[1]) else elms[1], axis=1)\n",
    "\n",
    "def show_boxplot(df, qual_col, y_col, showfliers=True):\n",
    "    \"\"\"\n",
    "    Show boxplots for every qualitative value in specified column\n",
    "    :param showfliers: parameter for show/hide outliers\n",
    "    :param df: DataFrame\n",
    "    :param qual_col: Column with qualitative values\n",
    "    :param y_col: y variable for boxplot\n",
    "    \"\"\"\n",
    "    n_unique = df[qual_col].nunique()\n",
    "    fig, ax = plt.subplots(figsize = (1.5*n_unique, 10))\n",
    "    sb.boxplot(x=qual_col, y=y_col, data=df, ax=ax, showfliers=showfliers, medianprops={'color':'red'})\n",
    "    plt.xticks(rotation=45)\n",
    "    ax.set_title(f'Boxplot for {col}')\n",
    "    plt.show()\n",
    "\n",
    "def show_clf_metrics(y_true, y_pred):\n",
    "    print('precision_score=',precision_score(y_true, y_pred))\n",
    "    print('recall_score=',   recall_score(y_true, y_pred))\n",
    "    print('accuracy_score=', accuracy_score(y_true, y_pred))\n",
    "    print('f1_score=',       f1_score(y_true, y_pred))\n",
    "\n",
    "def preproc_data(df_in):\n",
    "    \"\"\"\n",
    "    All-in-one function which contains code presented in the cells below.\n",
    "    We can choose how to get preprocessed data in \"Model training->Define preprocessed data\" section.\n",
    "    So after section \"Data loading\" you should choose a way for data preprocessing -\n",
    "    via cells run in a chain or via this function\n",
    "    \"\"\"\n",
    "\n",
    "    df_out = df_in.copy()\n",
    "\n",
    "    # define columns with different kinds of features\n",
    "    bin_text_cols = ['sex', 'car', 'car_type', 'foreign_passport']\n",
    "    bin_cols = bin_text_cols + ['good_work']\n",
    "\n",
    "    cat_text_cols = ['education']\n",
    "    cat_cols = cat_text_cols + ['home_address', 'work_address', 'sna', 'first_time']\n",
    "    qual_cols = bin_cols + cat_cols\n",
    "\n",
    "    num_cols = ['age','decline_app_cnt','score_bki','income','bki_request_cnt','region_rating']\n",
    "\n",
    "    # replace education NaN values with car_type's mode\n",
    "    fillna_group_mode(df_out, 'car_type', 'education')\n",
    "\n",
    "    # some distribution are skewed to the left, let's use log function for them\n",
    "    for col in ['decline_app_cnt', 'income', 'bki_request_cnt']:\n",
    "        if (df_out[col] <= 0).any():\n",
    "            df_out[col] = df_out[col] + abs(df_out[col].min()) + 1\n",
    "        df_out[col] = np.log(df_out[col])\n",
    "\n",
    "    # === Feature engineering ===\n",
    "\n",
    "    # all numeric features list for further appending\n",
    "    all_num_cols = num_cols\n",
    "\n",
    "    # date column\n",
    "    df_out['app_date'] = pd.to_datetime(df_out['app_date'])\n",
    "\n",
    "    # number of clients with same date of application\n",
    "    clients_in_date = df_out.groupby('app_date')['client_id'].count()\n",
    "    df_out['clients_in_date'] = df_out['app_date'].apply(lambda x: clients_in_date[x])\n",
    "    all_num_cols.append('clients_in_date')\n",
    "\n",
    "    # days from the first date\n",
    "    first_date = df_out['app_date'].min()\n",
    "    df_out['app_delay'] = df_out['app_date'].apply(lambda x: (x - first_date).days)\n",
    "    all_num_cols.append('app_delay')\n",
    "\n",
    "    # mean income by age\n",
    "    mean_income_age = df_out.groupby('age')['income'].mean()\n",
    "    df_out['mean_income_age'] = df_out['age'].apply(lambda x: mean_income_age[x])\n",
    "    all_num_cols.append('mean_income_age')\n",
    "\n",
    "    # max income by age\n",
    "    max_income_age = df_out.groupby('age')['income'].max()\n",
    "    df_out['max_income_age'] = df_out['age'].apply(lambda x: max_income_age[x])\n",
    "    all_num_cols.append('max_income_age')\n",
    "\n",
    "    # mean income by region\n",
    "    mean_income_reg = df_out.groupby('region_rating')['income'].mean()\n",
    "    df_out['mean_income_region'] = df_out['region_rating'].apply(lambda x: mean_income_reg[x])\n",
    "    all_num_cols.append('mean_income_region')\n",
    "\n",
    "    # max income by region\n",
    "    max_income_reg = df_out.groupby('region_rating')['income'].max()\n",
    "    df_out['max_income_region'] = df_out['region_rating'].apply(lambda x: max_income_reg[x])\n",
    "    all_num_cols.append('max_income_region')\n",
    "\n",
    "    # mean declines by age\n",
    "    mean_declines_age = df_out.groupby('age')['decline_app_cnt'].mean()\n",
    "    df_out['mean_declines_age'] = df_out['age'].apply(lambda x: mean_declines_age[x])\n",
    "    all_num_cols.append('mean_declines_age')\n",
    "\n",
    "    # # relative income for home_address\n",
    "    # mean_income_home = df_out.groupby('home_address')['income'].mean()\n",
    "    # df_out['rel_income_home'] = df_out[['home_address', 'income']]\\\n",
    "    #                                 .apply(lambda elms: elms[1]/mean_income_home[elms[0]], axis=1)\n",
    "    # all_num_cols.append('rel_income_home')\n",
    "\n",
    "    # Add dummy columns for all categorical features\n",
    "    df_out = pd.get_dummies(df_out, prefix=cat_cols, columns=cat_cols)\n",
    "\n",
    "    # encode text binary features\n",
    "    for col in bin_text_cols:\n",
    "        df_out[col] = LabelEncoder().fit_transform(df_out[col])\n",
    "\n",
    "    # scale all numeric feature via StandardScaler\n",
    "    scaled_features = StandardScaler().fit_transform(df_out[all_num_cols].values)\n",
    "    df_out[all_num_cols] = pd.DataFrame(scaled_features, index=df_out.index, columns=all_num_cols)\n",
    "\n",
    "    # drop unneseccary columns\n",
    "    df_out.drop(['client_id','app_date'], axis=1, inplace=True)\n",
    "\n",
    "    return df_out"
   ],
   "metadata": {
    "collapsed": false,
    "pycharm": {
     "name": "#%%\n"
    }
   }
  },
  {
   "cell_type": "markdown",
   "source": [
    "# Init"
   ],
   "metadata": {
    "collapsed": false
   }
  },
  {
   "cell_type": "code",
   "execution_count": null,
   "outputs": [],
   "source": [
    "sb.set_style(\"darkgrid\")\n",
    "\n",
    "# fix random seed\n",
    "SEED = 42\n",
    "\n",
    "# number of threads for computations\n",
    "N_THREADS = max(1, multiprocessing.cpu_count() - 1)\n",
    "\n",
    "# fix requirements\n",
    "!pip freeze > requirements.txt"
   ],
   "metadata": {
    "collapsed": false,
    "pycharm": {
     "name": "#%%\n"
    }
   }
  },
  {
   "cell_type": "markdown",
   "source": [
    "# Data"
   ],
   "metadata": {
    "collapsed": false
   }
  },
  {
   "cell_type": "markdown",
   "source": [
    "## Data loading"
   ],
   "metadata": {
    "collapsed": false,
    "pycharm": {
     "name": "#%% md\n"
    }
   }
  },
  {
   "cell_type": "code",
   "source": [
    "DATA_DIR = './Data'\n",
    "\n",
    "# all data available for training\n",
    "train_data = pd.read_csv(DATA_DIR + '/train.csv')\n",
    "train_data.info()\n",
    "display(train_data.describe())\n",
    "\n",
    "# test data\n",
    "test_data = pd.read_csv(DATA_DIR + '/test.csv')\n",
    "test_data.info()\n",
    "display(test_data.describe())"
   ],
   "metadata": {
    "collapsed": false,
    "pycharm": {
     "name": "#%%\n"
    }
   },
   "execution_count": 4,
   "outputs": [
    {
     "name": "stdout",
     "output_type": "stream",
     "text": [
      "<class 'pandas.core.frame.DataFrame'>\n",
      "RangeIndex: 73799 entries, 0 to 73798\n",
      "Data columns (total 19 columns):\n",
      " #   Column            Non-Null Count  Dtype  \n",
      "---  ------            --------------  -----  \n",
      " 0   client_id         73799 non-null  int64  \n",
      " 1   app_date          73799 non-null  object \n",
      " 2   education         73492 non-null  object \n",
      " 3   sex               73799 non-null  object \n",
      " 4   age               73799 non-null  int64  \n",
      " 5   car               73799 non-null  object \n",
      " 6   car_type          73799 non-null  object \n",
      " 7   decline_app_cnt   73799 non-null  int64  \n",
      " 8   good_work         73799 non-null  int64  \n",
      " 9   score_bki         73799 non-null  float64\n",
      " 10  bki_request_cnt   73799 non-null  int64  \n",
      " 11  region_rating     73799 non-null  int64  \n",
      " 12  home_address      73799 non-null  int64  \n",
      " 13  work_address      73799 non-null  int64  \n",
      " 14  income            73799 non-null  int64  \n",
      " 15  sna               73799 non-null  int64  \n",
      " 16  first_time        73799 non-null  int64  \n",
      " 17  foreign_passport  73799 non-null  object \n",
      " 18  default           73799 non-null  int64  \n",
      "dtypes: float64(1), int64(12), object(6)\n",
      "memory usage: 10.7+ MB\n",
      "<class 'pandas.core.frame.DataFrame'>\n",
      "RangeIndex: 36349 entries, 0 to 36348\n",
      "Data columns (total 18 columns):\n",
      " #   Column            Non-Null Count  Dtype  \n",
      "---  ------            --------------  -----  \n",
      " 0   client_id         36349 non-null  int64  \n",
      " 1   app_date          36349 non-null  object \n",
      " 2   education         36178 non-null  object \n",
      " 3   sex               36349 non-null  object \n",
      " 4   age               36349 non-null  int64  \n",
      " 5   car               36349 non-null  object \n",
      " 6   car_type          36349 non-null  object \n",
      " 7   decline_app_cnt   36349 non-null  int64  \n",
      " 8   good_work         36349 non-null  int64  \n",
      " 9   score_bki         36349 non-null  float64\n",
      " 10  bki_request_cnt   36349 non-null  int64  \n",
      " 11  region_rating     36349 non-null  int64  \n",
      " 12  home_address      36349 non-null  int64  \n",
      " 13  work_address      36349 non-null  int64  \n",
      " 14  income            36349 non-null  int64  \n",
      " 15  sna               36349 non-null  int64  \n",
      " 16  first_time        36349 non-null  int64  \n",
      " 17  foreign_passport  36349 non-null  object \n",
      "dtypes: float64(1), int64(11), object(6)\n",
      "memory usage: 5.0+ MB\n"
     ]
    },
    {
     "data": {
      "text/plain": "           client_id           age  decline_app_cnt     good_work  \\\ncount   73799.000000  73799.000000     73799.000000  73799.000000   \nmean    55137.965094     39.280641         0.275749      0.164894   \nstd     31841.921168     11.520378         0.804272      0.371087   \nmin         1.000000     21.000000         0.000000      0.000000   \n25%     27440.500000     30.000000         0.000000      0.000000   \n50%     55274.000000     37.000000         0.000000      0.000000   \n75%     82758.500000     48.000000         0.000000      0.000000   \nmax    110147.000000     72.000000        33.000000      1.000000   \n\n          score_bki  bki_request_cnt  region_rating  home_address  \\\ncount  73799.000000     73799.000000   73799.000000  73799.000000   \nmean      -1.904724         2.000339      56.725701      1.575509   \nstd        0.498231         2.252073      13.055717      0.527631   \nmin       -3.624586         0.000000      20.000000      1.000000   \n25%       -2.259534         0.000000      50.000000      1.000000   \n50%       -1.920823         1.000000      50.000000      2.000000   \n75%       -1.569831         3.000000      60.000000      2.000000   \nmax        0.199773        53.000000      80.000000      3.000000   \n\n       work_address          income           sna    first_time       default  \ncount  73799.000000    73799.000000  73799.000000  73799.000000  73799.000000  \nmean       2.496280    41099.775417      1.733330      2.765458      0.126994  \nstd        0.689818    46166.322400      1.123622      1.009463      0.332968  \nmin        1.000000     1000.000000      1.000000      1.000000      0.000000  \n25%        2.000000    20000.000000      1.000000      2.000000      0.000000  \n50%        3.000000    30000.000000      1.000000      3.000000      0.000000  \n75%        3.000000    48000.000000      2.000000      4.000000      0.000000  \nmax        3.000000  1000000.000000      4.000000      4.000000      1.000000  ",
      "text/html": "<div>\n<style scoped>\n    .dataframe tbody tr th:only-of-type {\n        vertical-align: middle;\n    }\n\n    .dataframe tbody tr th {\n        vertical-align: top;\n    }\n\n    .dataframe thead th {\n        text-align: right;\n    }\n</style>\n<table border=\"1\" class=\"dataframe\">\n  <thead>\n    <tr style=\"text-align: right;\">\n      <th></th>\n      <th>client_id</th>\n      <th>age</th>\n      <th>decline_app_cnt</th>\n      <th>good_work</th>\n      <th>score_bki</th>\n      <th>bki_request_cnt</th>\n      <th>region_rating</th>\n      <th>home_address</th>\n      <th>work_address</th>\n      <th>income</th>\n      <th>sna</th>\n      <th>first_time</th>\n      <th>default</th>\n    </tr>\n  </thead>\n  <tbody>\n    <tr>\n      <th>count</th>\n      <td>73799.000000</td>\n      <td>73799.000000</td>\n      <td>73799.000000</td>\n      <td>73799.000000</td>\n      <td>73799.000000</td>\n      <td>73799.000000</td>\n      <td>73799.000000</td>\n      <td>73799.000000</td>\n      <td>73799.000000</td>\n      <td>73799.000000</td>\n      <td>73799.000000</td>\n      <td>73799.000000</td>\n      <td>73799.000000</td>\n    </tr>\n    <tr>\n      <th>mean</th>\n      <td>55137.965094</td>\n      <td>39.280641</td>\n      <td>0.275749</td>\n      <td>0.164894</td>\n      <td>-1.904724</td>\n      <td>2.000339</td>\n      <td>56.725701</td>\n      <td>1.575509</td>\n      <td>2.496280</td>\n      <td>41099.775417</td>\n      <td>1.733330</td>\n      <td>2.765458</td>\n      <td>0.126994</td>\n    </tr>\n    <tr>\n      <th>std</th>\n      <td>31841.921168</td>\n      <td>11.520378</td>\n      <td>0.804272</td>\n      <td>0.371087</td>\n      <td>0.498231</td>\n      <td>2.252073</td>\n      <td>13.055717</td>\n      <td>0.527631</td>\n      <td>0.689818</td>\n      <td>46166.322400</td>\n      <td>1.123622</td>\n      <td>1.009463</td>\n      <td>0.332968</td>\n    </tr>\n    <tr>\n      <th>min</th>\n      <td>1.000000</td>\n      <td>21.000000</td>\n      <td>0.000000</td>\n      <td>0.000000</td>\n      <td>-3.624586</td>\n      <td>0.000000</td>\n      <td>20.000000</td>\n      <td>1.000000</td>\n      <td>1.000000</td>\n      <td>1000.000000</td>\n      <td>1.000000</td>\n      <td>1.000000</td>\n      <td>0.000000</td>\n    </tr>\n    <tr>\n      <th>25%</th>\n      <td>27440.500000</td>\n      <td>30.000000</td>\n      <td>0.000000</td>\n      <td>0.000000</td>\n      <td>-2.259534</td>\n      <td>0.000000</td>\n      <td>50.000000</td>\n      <td>1.000000</td>\n      <td>2.000000</td>\n      <td>20000.000000</td>\n      <td>1.000000</td>\n      <td>2.000000</td>\n      <td>0.000000</td>\n    </tr>\n    <tr>\n      <th>50%</th>\n      <td>55274.000000</td>\n      <td>37.000000</td>\n      <td>0.000000</td>\n      <td>0.000000</td>\n      <td>-1.920823</td>\n      <td>1.000000</td>\n      <td>50.000000</td>\n      <td>2.000000</td>\n      <td>3.000000</td>\n      <td>30000.000000</td>\n      <td>1.000000</td>\n      <td>3.000000</td>\n      <td>0.000000</td>\n    </tr>\n    <tr>\n      <th>75%</th>\n      <td>82758.500000</td>\n      <td>48.000000</td>\n      <td>0.000000</td>\n      <td>0.000000</td>\n      <td>-1.569831</td>\n      <td>3.000000</td>\n      <td>60.000000</td>\n      <td>2.000000</td>\n      <td>3.000000</td>\n      <td>48000.000000</td>\n      <td>2.000000</td>\n      <td>4.000000</td>\n      <td>0.000000</td>\n    </tr>\n    <tr>\n      <th>max</th>\n      <td>110147.000000</td>\n      <td>72.000000</td>\n      <td>33.000000</td>\n      <td>1.000000</td>\n      <td>0.199773</td>\n      <td>53.000000</td>\n      <td>80.000000</td>\n      <td>3.000000</td>\n      <td>3.000000</td>\n      <td>1000000.000000</td>\n      <td>4.000000</td>\n      <td>4.000000</td>\n      <td>1.000000</td>\n    </tr>\n  </tbody>\n</table>\n</div>"
     },
     "metadata": {},
     "output_type": "display_data"
    },
    {
     "data": {
      "text/plain": "           client_id           age  decline_app_cnt     good_work  \\\ncount   36349.000000  36349.000000     36349.000000  36349.000000   \nmean    54945.647473     39.186002         0.268040      0.166772   \nstd     31706.052195     11.513258         0.788478      0.372777   \nmin         4.000000     21.000000         0.000000      0.000000   \n25%     27744.000000     30.000000         0.000000      0.000000   \n50%     54657.000000     37.000000         0.000000      0.000000   \n75%     82322.000000     48.000000         0.000000      0.000000   \nmax    110148.000000     71.000000        30.000000      1.000000   \n\n          score_bki  bki_request_cnt  region_rating  home_address  \\\ncount  36349.000000     36349.000000   36349.000000  36349.000000   \nmean      -1.904152         2.014471      56.802938      1.573798   \nstd        0.501764         2.296789      13.086646      0.527428   \nmin       -3.574197         0.000000      20.000000      1.000000   \n25%       -2.261909         0.000000      50.000000      1.000000   \n50%       -1.920823         1.000000      50.000000      2.000000   \n75%       -1.563957         3.000000      60.000000      2.000000   \nmax        0.188820        47.000000      80.000000      3.000000   \n\n       work_address          income           sna    first_time  \ncount  36349.000000    36349.000000  36349.000000  36349.000000  \nmean       2.501087    40835.755729      1.728053      2.765798  \nstd        0.683227    43802.180951      1.120686      1.011560  \nmin        1.000000     1000.000000      1.000000      1.000000  \n25%        2.000000    20000.000000      1.000000      2.000000  \n50%        3.000000    30000.000000      1.000000      3.000000  \n75%        3.000000    48000.000000      2.000000      4.000000  \nmax        3.000000  1000000.000000      4.000000      4.000000  ",
      "text/html": "<div>\n<style scoped>\n    .dataframe tbody tr th:only-of-type {\n        vertical-align: middle;\n    }\n\n    .dataframe tbody tr th {\n        vertical-align: top;\n    }\n\n    .dataframe thead th {\n        text-align: right;\n    }\n</style>\n<table border=\"1\" class=\"dataframe\">\n  <thead>\n    <tr style=\"text-align: right;\">\n      <th></th>\n      <th>client_id</th>\n      <th>age</th>\n      <th>decline_app_cnt</th>\n      <th>good_work</th>\n      <th>score_bki</th>\n      <th>bki_request_cnt</th>\n      <th>region_rating</th>\n      <th>home_address</th>\n      <th>work_address</th>\n      <th>income</th>\n      <th>sna</th>\n      <th>first_time</th>\n    </tr>\n  </thead>\n  <tbody>\n    <tr>\n      <th>count</th>\n      <td>36349.000000</td>\n      <td>36349.000000</td>\n      <td>36349.000000</td>\n      <td>36349.000000</td>\n      <td>36349.000000</td>\n      <td>36349.000000</td>\n      <td>36349.000000</td>\n      <td>36349.000000</td>\n      <td>36349.000000</td>\n      <td>36349.000000</td>\n      <td>36349.000000</td>\n      <td>36349.000000</td>\n    </tr>\n    <tr>\n      <th>mean</th>\n      <td>54945.647473</td>\n      <td>39.186002</td>\n      <td>0.268040</td>\n      <td>0.166772</td>\n      <td>-1.904152</td>\n      <td>2.014471</td>\n      <td>56.802938</td>\n      <td>1.573798</td>\n      <td>2.501087</td>\n      <td>40835.755729</td>\n      <td>1.728053</td>\n      <td>2.765798</td>\n    </tr>\n    <tr>\n      <th>std</th>\n      <td>31706.052195</td>\n      <td>11.513258</td>\n      <td>0.788478</td>\n      <td>0.372777</td>\n      <td>0.501764</td>\n      <td>2.296789</td>\n      <td>13.086646</td>\n      <td>0.527428</td>\n      <td>0.683227</td>\n      <td>43802.180951</td>\n      <td>1.120686</td>\n      <td>1.011560</td>\n    </tr>\n    <tr>\n      <th>min</th>\n      <td>4.000000</td>\n      <td>21.000000</td>\n      <td>0.000000</td>\n      <td>0.000000</td>\n      <td>-3.574197</td>\n      <td>0.000000</td>\n      <td>20.000000</td>\n      <td>1.000000</td>\n      <td>1.000000</td>\n      <td>1000.000000</td>\n      <td>1.000000</td>\n      <td>1.000000</td>\n    </tr>\n    <tr>\n      <th>25%</th>\n      <td>27744.000000</td>\n      <td>30.000000</td>\n      <td>0.000000</td>\n      <td>0.000000</td>\n      <td>-2.261909</td>\n      <td>0.000000</td>\n      <td>50.000000</td>\n      <td>1.000000</td>\n      <td>2.000000</td>\n      <td>20000.000000</td>\n      <td>1.000000</td>\n      <td>2.000000</td>\n    </tr>\n    <tr>\n      <th>50%</th>\n      <td>54657.000000</td>\n      <td>37.000000</td>\n      <td>0.000000</td>\n      <td>0.000000</td>\n      <td>-1.920823</td>\n      <td>1.000000</td>\n      <td>50.000000</td>\n      <td>2.000000</td>\n      <td>3.000000</td>\n      <td>30000.000000</td>\n      <td>1.000000</td>\n      <td>3.000000</td>\n    </tr>\n    <tr>\n      <th>75%</th>\n      <td>82322.000000</td>\n      <td>48.000000</td>\n      <td>0.000000</td>\n      <td>0.000000</td>\n      <td>-1.563957</td>\n      <td>3.000000</td>\n      <td>60.000000</td>\n      <td>2.000000</td>\n      <td>3.000000</td>\n      <td>48000.000000</td>\n      <td>2.000000</td>\n      <td>4.000000</td>\n    </tr>\n    <tr>\n      <th>max</th>\n      <td>110148.000000</td>\n      <td>71.000000</td>\n      <td>30.000000</td>\n      <td>1.000000</td>\n      <td>0.188820</td>\n      <td>47.000000</td>\n      <td>80.000000</td>\n      <td>3.000000</td>\n      <td>3.000000</td>\n      <td>1000000.000000</td>\n      <td>4.000000</td>\n      <td>4.000000</td>\n    </tr>\n  </tbody>\n</table>\n</div>"
     },
     "metadata": {},
     "output_type": "display_data"
    }
   ]
  },
  {
   "cell_type": "markdown",
   "source": [
    "## EDA for data splitting"
   ],
   "metadata": {
    "collapsed": false,
    "pycharm": {
     "name": "#%% md\n"
    }
   }
  },
  {
   "cell_type": "code",
   "execution_count": 9,
   "outputs": [
    {
     "data": {
      "text/plain": "<AxesSubplot:xlabel='default', ylabel='count'>"
     },
     "execution_count": 9,
     "metadata": {},
     "output_type": "execute_result"
    },
    {
     "data": {
      "text/plain": "<Figure size 800x550 with 1 Axes>",
      "image/png": "[encoded data removed]"
     },
     "metadata": {},
     "output_type": "display_data"
    }
   ],
   "source": [
    "# let's try pandas profiling tool\n",
    "profiling = ProfileReport(train_data)\n",
    "profiling.to_file(output_file='Reports/profiling.html')"
   ],
   "metadata": {
    "collapsed": false,
    "pycharm": {
     "name": "#%%\n"
    }
   }
  },
  {
   "cell_type": "code",
   "execution_count": 5,
   "outputs": [
    {
     "data": {
      "text/plain": "<AxesSubplot:xlabel='default', ylabel='count'>"
     },
     "execution_count": 5,
     "metadata": {},
     "output_type": "execute_result"
    },
    {
     "data": {
      "text/plain": "<Figure size 432x288 with 1 Axes>",
      "image/png": "[encoded data removed]"
     },
     "metadata": {},
     "output_type": "display_data"
    }
   ],
   "source": [
    "# check class balance for target variable\n",
    "sb.countplot(x='default', data=train_data)"
   ],
   "metadata": {
    "collapsed": false,
    "pycharm": {
     "name": "#%%\n"
    }
   }
  },
  {
   "cell_type": "markdown",
   "source": [
    "## Data splitting"
   ],
   "metadata": {
    "collapsed": false,
    "pycharm": {
     "name": "#%% md\n"
    }
   }
  },
  {
   "cell_type": "code",
   "execution_count": 6,
   "outputs": [
    {
     "name": "stdout",
     "output_type": "stream",
     "text": [
      "<class 'pandas.core.frame.DataFrame'>\n",
      "Int64Index: 59039 entries, 19791 to 70504\n",
      "Data columns (total 19 columns):\n",
      " #   Column            Non-Null Count  Dtype  \n",
      "---  ------            --------------  -----  \n",
      " 0   client_id         59039 non-null  int64  \n",
      " 1   app_date          59039 non-null  object \n",
      " 2   education         58794 non-null  object \n",
      " 3   sex               59039 non-null  object \n",
      " 4   age               59039 non-null  int64  \n",
      " 5   car               59039 non-null  object \n",
      " 6   car_type          59039 non-null  object \n",
      " 7   decline_app_cnt   59039 non-null  int64  \n",
      " 8   good_work         59039 non-null  int64  \n",
      " 9   score_bki         59039 non-null  float64\n",
      " 10  bki_request_cnt   59039 non-null  int64  \n",
      " 11  region_rating     59039 non-null  int64  \n",
      " 12  home_address      59039 non-null  int64  \n",
      " 13  work_address      59039 non-null  int64  \n",
      " 14  income            59039 non-null  int64  \n",
      " 15  sna               59039 non-null  int64  \n",
      " 16  first_time        59039 non-null  int64  \n",
      " 17  foreign_passport  59039 non-null  object \n",
      " 18  default           59039 non-null  int64  \n",
      "dtypes: float64(1), int64(12), object(6)\n",
      "memory usage: 9.0+ MB\n",
      "<class 'pandas.core.frame.DataFrame'>\n",
      "Int64Index: 14760 entries, 60889 to 24785\n",
      "Data columns (total 19 columns):\n",
      " #   Column            Non-Null Count  Dtype  \n",
      "---  ------            --------------  -----  \n",
      " 0   client_id         14760 non-null  int64  \n",
      " 1   app_date          14760 non-null  object \n",
      " 2   education         14698 non-null  object \n",
      " 3   sex               14760 non-null  object \n",
      " 4   age               14760 non-null  int64  \n",
      " 5   car               14760 non-null  object \n",
      " 6   car_type          14760 non-null  object \n",
      " 7   decline_app_cnt   14760 non-null  int64  \n",
      " 8   good_work         14760 non-null  int64  \n",
      " 9   score_bki         14760 non-null  float64\n",
      " 10  bki_request_cnt   14760 non-null  int64  \n",
      " 11  region_rating     14760 non-null  int64  \n",
      " 12  home_address      14760 non-null  int64  \n",
      " 13  work_address      14760 non-null  int64  \n",
      " 14  income            14760 non-null  int64  \n",
      " 15  sna               14760 non-null  int64  \n",
      " 16  first_time        14760 non-null  int64  \n",
      " 17  foreign_passport  14760 non-null  object \n",
      " 18  default           14760 non-null  int64  \n",
      "dtypes: float64(1), int64(12), object(6)\n",
      "memory usage: 2.3+ MB\n"
     ]
    },
    {
     "data": {
      "text/plain": "<Figure size 432x288 with 1 Axes>",
      "image/png": "[encoded data removed]"
     },
     "metadata": {},
     "output_type": "display_data"
    },
    {
     "data": {
      "text/plain": "<Figure size 432x288 with 1 Axes>",
      "image/png": "[encoded data removed]"
     },
     "metadata": {},
     "output_type": "display_data"
    }
   ],
   "source": [
    "# we have unbalanced data, so split train data to train and validation datasets considering stratification\n",
    "# and process them seperately to minimize validation data influence on train data\n",
    "df_train, df_val = train_test_split(train_data, test_size=0.2, random_state=SEED, stratify=train_data['default'])\n",
    "\n",
    "df_train.info()\n",
    "sb.countplot(x=df_train['default'])\n",
    "plt.gca().set_title('Countplot for df_train \\'default\\' column')\n",
    "\n",
    "df_val.info()\n",
    "plt.figure()\n",
    "sb.countplot(x=df_val['default'])\n",
    "plt.gca().set_title('Countplot for df_val \\'default\\' column');\n",
    "\n",
    "# make copy of our origin data for further analysis\n",
    "df_train_orig = df_train.copy()\n",
    "df_val_orig = df_val.copy()"
   ],
   "metadata": {
    "collapsed": false,
    "pycharm": {
     "name": "#%%\n"
    }
   }
  },
  {
   "cell_type": "markdown",
   "source": [
    "# EDA"
   ],
   "metadata": {
    "collapsed": false,
    "pycharm": {
     "name": "#%% md\n"
    }
   }
  },
  {
   "cell_type": "code",
   "execution_count": 17,
   "outputs": [
    {
     "data": {
      "text/plain": "<AxesSubplot:title={'center':\"Countplot for df_val 'default' column\"}, xlabel='car_type', ylabel='count'>"
     },
     "execution_count": 17,
     "metadata": {},
     "output_type": "execute_result"
    }
   ],
   "source": [
    "# define columns with different kinds of features\n",
    "bin_text_cols = ['sex', 'car', 'car_type', 'foreign_passport']\n",
    "bin_cols = bin_text_cols + ['good_work']\n",
    "\n",
    "cat_text_cols = ['education']\n",
    "cat_cols = cat_text_cols + ['home_address', 'work_address', 'sna', 'first_time']\n",
    "qual_cols = bin_cols + cat_cols\n",
    "\n",
    "num_cols = ['age','decline_app_cnt','score_bki','income','bki_request_cnt','region_rating']"
   ],
   "metadata": {
    "collapsed": false,
    "pycharm": {
     "name": "#%%\n"
    }
   }
  },
  {
   "cell_type": "code",
   "execution_count": null,
   "outputs": [],
   "source": [
    "# we have some missing values in education column\n",
    "# to define our strategy for their substitution let's see what column is the best for 'education' grouping\n",
    "# to replace missing values via group mode (not the mode computed over all dataset) There might be some benefits (in theory..:-/)\n",
    "\n",
    "# temp dataset for analysis without missing values in 'education'\n",
    "df_train_no_miss = df_train.dropna()\n",
    "\n",
    "# for analysis we already need numbers, not text\n",
    "# so encode qualitative columns text with numbers\n",
    "for col in bin_text_cols + cat_text_cols:\n",
    "    df_train_no_miss[col] = LabelEncoder().fit_transform(df_train_no_miss[col])\n",
    "\n",
    "df_train_no_miss.head(10)"
   ],
   "metadata": {
    "collapsed": false,
    "pycharm": {
     "name": "#%%\n"
    }
   }
  },
  {
   "cell_type": "code",
   "execution_count": null,
   "outputs": [],
   "source": [
    "# get feature importance among qualitative columns for 'education'\n",
    "edu_mutual_info = pd.Series(mutual_info_classif(df_train_no_miss[set(qual_cols)-{'education'}], df_train_no_miss['education'],\n",
    "                                                discrete_features =True), index = set(qual_cols)-{'education'})\n",
    "edu_mutual_info.sort_values(inplace = True)\n",
    "edu_mutual_info.plot(kind = 'barh')"
   ],
   "metadata": {
    "collapsed": false,
    "pycharm": {
     "name": "#%%\n"
    }
   }
  },
  {
   "cell_type": "code",
   "source": [
    "sb.countplot(x=\"car_type\", hue=\"education\", data=df_train)"
   ],
   "metadata": {
    "collapsed": false,
    "pycharm": {
     "name": "#%%\n"
    }
   },
   "execution_count": null,
   "outputs": []
  },
  {
   "cell_type": "code",
   "execution_count": 21,
   "outputs": [],
   "source": [
    "pd.crosstab(df_train.car_type, df_train.education, normalize='index')"
   ],
   "metadata": {
    "collapsed": false,
    "pycharm": {
     "name": "#%%\n"
    }
   }
  },
  {
   "cell_type": "code",
   "execution_count": null,
   "outputs": [],
   "source": [
    "# we see that indeed mode of education depends on car_type\n",
    "# so replace education NaN values with car_type's mode\n",
    "fillna_group_mode(df_train, 'car_type', 'education')\n",
    "\n",
    "df_train.info()\n",
    "df_train['education'].value_counts()"
   ],
   "metadata": {
    "collapsed": false,
    "pycharm": {
     "name": "#%%\n"
    }
   }
  },
  {
   "cell_type": "code",
   "source": [
    "# education influence on default\n",
    "sb.countplot(x=\"education\", hue=\"default\", data=df_train)\n",
    "plt.figure()\n",
    "sb.histplot(x=\"income\", hue='education', data=df_train)\n",
    "show_boxplot(df_train, 'education', 'income')"
   ],
   "metadata": {
    "collapsed": false,
    "pycharm": {
     "name": "#%%\n"
    }
   },
   "execution_count": null,
   "outputs": []
  },
  {
   "cell_type": "markdown",
   "source": [
    "## Numerical data analysis"
   ],
   "metadata": {
    "collapsed": false,
    "pycharm": {
     "name": "#%% md\n"
    }
   }
  },
  {
   "cell_type": "code",
   "source": [
    "for col in num_cols:\n",
    "    sb.displot(df_train[col])"
   ],
   "metadata": {
    "collapsed": false,
    "pycharm": {
     "name": "#%%\n"
    }
   },
   "execution_count": null,
   "outputs": []
  },
  {
   "cell_type": "code",
   "execution_count": null,
   "outputs": [],
   "source": [
    "# some distribution are skewed to the left, let's use log function for them\n",
    "for col in ['decline_app_cnt', 'income', 'bki_request_cnt']:\n",
    "    if (df_train[col] <= 0).any():\n",
    "        df_train[col] = df_train[col] + abs(df_train[col].min()) + 1\n",
    "    df_train[col] = np.log(df_train[col])\n",
    "\n",
    "    sb.displot(df_train[col])"
   ],
   "metadata": {
    "collapsed": false,
    "pycharm": {
     "name": "#%%\n"
    }
   }
  },
  {
   "cell_type": "code",
   "execution_count": null,
   "outputs": [],
   "source": [
    "plt.figure(figsize=(7,7))\n",
    "for reg in sorted(train_data['region_rating'].unique()):\n",
    "    train_data['score_bki'][train_data['region_rating'] == reg].hist(bins=100, alpha=0.5, label=reg)\n",
    "    var = (train_data['score_bki'][train_data['region_rating'] == reg]).var()\n",
    "    print(f'score_bki variance for reg_rating {reg} ={var}')\n",
    "\n",
    "plt.gca().legend(fontsize = 10)"
   ],
   "metadata": {
    "collapsed": false,
    "pycharm": {
     "name": "#%%\n"
    }
   }
  },
  {
   "cell_type": "markdown",
   "source": [
    "Looks better and further comparison shows that AUC score is a bit better WITH log then without,\n",
    "so keep this preprocessing procedure"
   ],
   "metadata": {
    "collapsed": false,
    "pycharm": {
     "name": "#%% md\n"
    }
   }
  },
  {
   "cell_type": "code",
   "source": [
    "# calculate the correlation matrix\n",
    "corr = df_train.corr()\n",
    "display(corr)\n",
    "\n",
    "# plot the heatmap\n",
    "sb.heatmap(abs(corr), xticklabels=corr.columns, yticklabels=corr.columns)"
   ],
   "metadata": {
    "collapsed": false,
    "pycharm": {
     "name": "#%%\n"
    }
   },
   "execution_count": null,
   "outputs": []
  },
  {
   "cell_type": "markdown",
   "source": [
    "Home address and work addres are exprectedly correlated, but there is no extreme multicollinearity that could be dangerous for logistic regression."
   ],
   "metadata": {
    "collapsed": false
   }
  },
  {
   "cell_type": "code",
   "execution_count": null,
   "outputs": [],
   "source": [
    "for col in num_cols:\n",
    "    show_boxplot(df_train, 'default', col)"
   ],
   "metadata": {
    "collapsed": false,
    "pycharm": {
     "name": "#%%\n"
    }
   }
  },
  {
   "cell_type": "code",
   "source": [
    "sb.countplot(x=\"good_work\", hue=\"default\", data=df_train)"
   ],
   "metadata": {
    "collapsed": false,
    "pycharm": {
     "name": "#%%\n"
    }
   },
   "execution_count": null,
   "outputs": []
  },
  {
   "cell_type": "code",
   "execution_count": null,
   "outputs": [],
   "source": [
    "sb.histplot(data=df_train, x='income', hue='default', bins=50)\n",
    "\n",
    "plt.figure()\n",
    "sb.histplot(data=df_train, x=\"region_rating\", hue=\"default\")\n",
    "\n",
    "plt.figure()\n",
    "sb.histplot(data=df_train, x=\"age\", hue=\"default\")"
   ],
   "metadata": {
    "collapsed": false,
    "pycharm": {
     "name": "#%%\n"
    }
   }
  },
  {
   "cell_type": "markdown",
   "source": [
    "### Intermediate conclusions:\n",
    "- those who older are generally more reliable debitor\n",
    "- decline_app_cnt, bki_request and score_bki could be rather informative features for default predictions (positive \"correlation\" with default)\n",
    "- income is generally lower for default clients\n",
    "- region matters\n",
    "\n",
    "There are also some \"boxplot outliers\", but taking into account context there is no strong evidence to consider they really are"
   ],
   "metadata": {
    "collapsed": false,
    "pycharm": {
     "name": "#%% md\n"
    }
   }
  },
  {
   "cell_type": "markdown",
   "source": [
    "## Features encoding"
   ],
   "metadata": {
    "collapsed": false
   }
  },
  {
   "cell_type": "code",
   "execution_count": null,
   "outputs": [],
   "source": [
    "df_train_enc = df_train.copy()\n",
    "\n",
    "# encode text binary and categorical features\n",
    "for col in bin_text_cols + cat_text_cols:\n",
    "    df_train_enc[col] = LabelEncoder().fit_transform(df_train_enc[col])\n",
    "\n",
    "df_train_enc.head(10)"
   ],
   "metadata": {
    "collapsed": false,
    "pycharm": {
     "name": "#%%\n"
    }
   }
  },
  {
   "cell_type": "markdown",
   "source": [
    "## Numeric and qulitative feature importance"
   ],
   "metadata": {
    "collapsed": false,
    "pycharm": {
     "name": "#%% md\n"
    }
   }
  },
  {
   "cell_type": "code",
   "execution_count": null,
   "outputs": [],
   "source": [
    "plt.figure()\n",
    "imp_num = pd.Series(f_classif(df_train[num_cols], df_train['default'])[0], index = num_cols)\n",
    "imp_num.sort_values(inplace = True)\n",
    "imp_num.plot(kind = 'barh')\n",
    "\n",
    "\n",
    "plt.figure()\n",
    "imp_cat = pd.Series(mutual_info_classif(df_train_enc[bin_cols + cat_cols], df_train_enc['default'],\n",
    "                                        discrete_features =True), index = bin_cols + cat_cols)\n",
    "imp_cat.sort_values(inplace = True)\n",
    "imp_cat.plot(kind = 'barh')"
   ],
   "metadata": {
    "collapsed": false,
    "pycharm": {
     "name": "#%%\n"
    }
   }
  },
  {
   "cell_type": "code",
   "source": [
    "# surprisingly it seems that good work indeed has virtually no influence on default..\n",
    "pd.crosstab(df_train.good_work, df_train.default, normalize='index')"
   ],
   "metadata": {
    "collapsed": false,
    "pycharm": {
     "name": "#%%\n"
    }
   },
   "execution_count": null,
   "outputs": []
  },
  {
   "cell_type": "markdown",
   "source": [
    "# Feature engineering"
   ],
   "metadata": {
    "collapsed": false,
    "pycharm": {
     "name": "#%% md\n"
    }
   }
  },
  {
   "cell_type": "code",
   "source": [
    "# check decline_app_cnt dependence on age\n",
    "train_data.groupby('age')['decline_app_cnt'].mean().plot()"
   ],
   "metadata": {
    "collapsed": false,
    "pycharm": {
     "name": "#%%\n"
    }
   },
   "execution_count": null,
   "outputs": []
  },
  {
   "cell_type": "code",
   "execution_count": null,
   "outputs": [],
   "source": [
    "# all numeric features list for further appending\n",
    "all_num_cols = num_cols\n",
    "\n",
    "# date column\n",
    "df_train['app_date'] = pd.to_datetime(df_train['app_date'])\n",
    "df_train.info()\n",
    "\n",
    "df_train['app_date'].hist(bins=100)\n",
    "plt.xticks(rotation='vertical')\n",
    "\n",
    "# number of clients with same date of application\n",
    "clients_in_date = df_train.groupby('app_date')['client_id'].count()\n",
    "df_train['clients_in_date'] = df_train['app_date'].apply(lambda x: clients_in_date[x])\n",
    "all_num_cols.append('clients_in_date')\n",
    "\n",
    "# days from the first date\n",
    "first_date = df_train['app_date'].min()\n",
    "df_train['app_delay'] = df_train['app_date'].apply(lambda x: (x - first_date).days)\n",
    "all_num_cols.append('app_delay')\n",
    "\n",
    "# mean income by age\n",
    "mean_income_age = df_train.groupby('age')['income'].mean()\n",
    "df_train['mean_income_age'] = df_train['age'].apply(lambda x: mean_income_age[x])\n",
    "all_num_cols.append('mean_income_age')\n",
    "\n",
    "# max income by age\n",
    "max_income_age = df_train.groupby('age')['income'].max()\n",
    "df_train['max_income_age'] = df_train['age'].apply(lambda x: max_income_age[x])\n",
    "all_num_cols.append('max_income_age')\n",
    "\n",
    "# mean income by region\n",
    "mean_income_reg = df_train.groupby('region_rating')['income'].mean()\n",
    "df_train['mean_income_region'] = df_train['region_rating'].apply(lambda x: mean_income_reg[x])\n",
    "all_num_cols.append('mean_income_region')\n",
    "\n",
    "# max income by region\n",
    "max_income_reg = df_train.groupby('region_rating')['income'].max()\n",
    "df_train['max_income_region'] = df_train['region_rating'].apply(lambda x: max_income_reg[x])\n",
    "all_num_cols.append('max_income_region')\n",
    "\n",
    "# relative income for home_address\n",
    "mean_income_home = df_train.groupby('home_address')['income'].mean()\n",
    "df_train['rel_income_home'] = df_train['home_address'].apply(lambda x: x/mean_income_home[x])\n",
    "all_num_cols.append('rel_income_home')\n",
    "\n",
    "# mean declines by age\n",
    "mean_declines_age = df_train.groupby('age')['decline_app_cnt'].mean()\n",
    "df_train['mean_declines_age'] = df_train['age'].apply(lambda x: mean_declines_age[x])\n",
    "all_num_cols.append('mean_declines_age')\n",
    "\n",
    "# relative income for home_address\n",
    "mean_income_home = df_train.groupby('home_address')['income'].mean()\n",
    "df_train['rel_income_home'] = df_train[['home_address', 'income']]\\\n",
    "                                .apply(lambda elms: elms[1]/mean_income_home[elms[0]], axis=1)\n",
    "all_num_cols.append('rel_income_home')\n",
    "\n",
    "df_train"
   ],
   "metadata": {
    "collapsed": false,
    "pycharm": {
     "name": "#%%\n"
    }
   }
  },
  {
   "cell_type": "code",
   "source": [
    "# Add dummy columns for all categorical features\n",
    "df_train = pd.get_dummies(df_train, prefix=cat_cols, columns=cat_cols)\n",
    "\n",
    "# encode text binary features\n",
    "for col in bin_text_cols:\n",
    "    df_train[col] = LabelEncoder().fit_transform(df_train[col])\n",
    "\n",
    "df_train"
   ],
   "metadata": {
    "collapsed": false,
    "pycharm": {
     "name": "#%%\n"
    }
   },
   "execution_count": null,
   "outputs": []
  },
  {
   "cell_type": "markdown",
   "source": [
    "# Scaling"
   ],
   "metadata": {
    "collapsed": false,
    "pycharm": {
     "name": "#%% md\n"
    }
   }
  },
  {
   "cell_type": "code",
   "source": [
    "# scale all numeric feature via StandardScaler\n",
    "scaled_features = StandardScaler().fit_transform(df_train[all_num_cols].values)\n",
    "df_train[all_num_cols] = pd.DataFrame(scaled_features, index=df_train.index, columns=all_num_cols)\n",
    "df_train"
   ],
   "metadata": {
    "collapsed": false,
    "pycharm": {
     "name": "#%%\n"
    }
   },
   "execution_count": null,
   "outputs": []
  },
  {
   "cell_type": "markdown",
   "source": [
    "# Preprocessing for training"
   ],
   "metadata": {
    "collapsed": false,
    "pycharm": {
     "name": "#%% md\n"
    }
   }
  },
  {
   "cell_type": "code",
   "execution_count": 81,
   "outputs": [
    {
     "name": "stdout",
     "output_type": "stream",
     "text": [
      "precision_score= 0.46511627906976744\n",
      "recall_score= 0.032017075773746\n",
      "accuracy_score= 0.8724254742547426\n",
      "f1_score= 0.059910134797803286\n"
     ]
    },
    {
     "data": {
      "text/plain": "<sklearn.metrics._plot.confusion_matrix.ConfusionMatrixDisplay at 0x1d8c0f65888>"
     },
     "execution_count": 81,
     "metadata": {},
     "output_type": "execute_result"
    },
    {
     "data": {
      "text/plain": "<Figure size 432x288 with 2 Axes>",
      "image/png": "[encoded data removed]"
     },
     "metadata": {},
     "output_type": "display_data"
    }
   ],
   "source": [
    "# drop unneseccary columns\n",
    "df_train.drop(['client_id','app_date'], axis=1, inplace=True)"
   ],
   "metadata": {
    "collapsed": false,
    "pycharm": {
     "name": "#%%\n"
    }
   }
  },
  {
   "cell_type": "markdown",
   "source": [
    "### Define preprocessed data (no need to use all-in-one preproc_data() function if df_train is already preprocessed in cells above)"
   ],
   "metadata": {
    "collapsed": false,
    "pycharm": {
     "name": "#%% md\n"
    }
   }
  },
  {
   "cell_type": "code",
   "execution_count": 22,
   "outputs": [
    {
     "name": "stdout",
     "output_type": "stream",
     "text": [
      "<class 'pandas.core.frame.DataFrame'>\n",
      "Int64Index: 59039 entries, 19791 to 70504\n",
      "Data columns (total 38 columns):\n",
      " #   Column              Non-Null Count  Dtype  \n",
      "---  ------              --------------  -----  \n",
      " 0   sex                 59039 non-null  int32  \n",
      " 1   age                 59039 non-null  float64\n",
      " 2   car                 59039 non-null  int32  \n",
      " 3   car_type            59039 non-null  int32  \n",
      " 4   decline_app_cnt     59039 non-null  float64\n",
      " 5   good_work           59039 non-null  int64  \n",
      " 6   score_bki           59039 non-null  float64\n",
      " 7   bki_request_cnt     59039 non-null  float64\n",
      " 8   region_rating       59039 non-null  float64\n",
      " 9   income              59039 non-null  float64\n",
      " 10  foreign_passport    59039 non-null  int32  \n",
      " 11  default             59039 non-null  int64  \n",
      " 12  clients_in_date     59039 non-null  float64\n",
      " 13  app_delay           59039 non-null  float64\n",
      " 14  mean_income_age     59039 non-null  float64\n",
      " 15  max_income_age      59039 non-null  float64\n",
      " 16  mean_income_region  59039 non-null  float64\n",
      " 17  max_income_region   59039 non-null  float64\n",
      " 18  mean_declines_age   59039 non-null  float64\n",
      " 19  education_ACD       59039 non-null  uint8  \n",
      " 20  education_GRD       59039 non-null  uint8  \n",
      " 21  education_PGR       59039 non-null  uint8  \n",
      " 22  education_SCH       59039 non-null  uint8  \n",
      " 23  education_UGR       59039 non-null  uint8  \n",
      " 24  home_address_1      59039 non-null  uint8  \n",
      " 25  home_address_2      59039 non-null  uint8  \n",
      " 26  home_address_3      59039 non-null  uint8  \n",
      " 27  work_address_1      59039 non-null  uint8  \n",
      " 28  work_address_2      59039 non-null  uint8  \n",
      " 29  work_address_3      59039 non-null  uint8  \n",
      " 30  sna_1               59039 non-null  uint8  \n",
      " 31  sna_2               59039 non-null  uint8  \n",
      " 32  sna_3               59039 non-null  uint8  \n",
      " 33  sna_4               59039 non-null  uint8  \n",
      " 34  first_time_1        59039 non-null  uint8  \n",
      " 35  first_time_2        59039 non-null  uint8  \n",
      " 36  first_time_3        59039 non-null  uint8  \n",
      " 37  first_time_4        59039 non-null  uint8  \n",
      "dtypes: float64(13), int32(4), int64(2), uint8(19)\n",
      "memory usage: 11.2 MB\n",
      "                sex           age           car      car_type  \\\n",
      "count  59039.000000  5.903900e+04  59039.000000  59039.000000   \n",
      "mean       0.436864  9.748465e-17      0.324226      0.190501   \n",
      "std        0.496002  1.000008e+00      0.468089      0.392700   \n",
      "min        0.000000 -1.587710e+00      0.000000      0.000000   \n",
      "25%        0.000000 -8.064253e-01      0.000000      0.000000   \n",
      "50%        0.000000 -1.987593e-01      0.000000      0.000000   \n",
      "75%        1.000000  7.561444e-01      1.000000      0.000000   \n",
      "max        1.000000  2.839571e+00      1.000000      1.000000   \n",
      "\n",
      "       decline_app_cnt     good_work     score_bki  bki_request_cnt  \\\n",
      "count     5.903900e+04  59039.000000  5.903900e+04     5.903900e+04   \n",
      "mean      4.513178e-17      0.165060  1.076243e-16     1.805271e-16   \n",
      "std       1.000008e+00      0.371238  1.000008e+00     1.000008e+00   \n",
      "min      -4.194265e-01      0.000000 -3.400006e+00    -1.333396e+00   \n",
      "25%      -4.194265e-01      0.000000 -7.127776e-01    -1.333396e+00   \n",
      "50%      -4.194265e-01      0.000000 -3.290703e-02    -2.792432e-01   \n",
      "75%      -4.194265e-01      0.000000  6.704783e-01     7.749102e-01   \n",
      "max       9.288539e+00      1.000000  4.224447e+00     4.733137e+00   \n",
      "\n",
      "       region_rating        income  ...  work_address_2  work_address_3  \\\n",
      "count   5.903900e+04  5.903900e+04  ...    59039.000000    59039.000000   \n",
      "mean   -6.378625e-17  2.180166e-15  ...        0.278426        0.607378   \n",
      "std     1.000008e+00  1.000008e+00  ...        0.448228        0.488338   \n",
      "min    -2.817197e+00 -4.910360e+00  ...        0.000000        0.000000   \n",
      "25%    -5.167092e-01 -6.298108e-01  ...        0.000000        0.000000   \n",
      "50%    -5.167092e-01 -5.044885e-02  ...        0.000000        1.000000   \n",
      "75%     2.501199e-01  5.910482e-01  ...        1.000000        1.000000   \n",
      "max     1.783778e+00  4.960010e+00  ...        1.000000        1.000000   \n",
      "\n",
      "              sna_1         sna_2         sna_3         sna_4  first_time_1  \\\n",
      "count  59039.000000  59039.000000  59039.000000  59039.000000  59039.000000   \n",
      "mean       0.640068      0.144108      0.055523      0.160301      0.166636   \n",
      "std        0.479984      0.351202      0.228999      0.366888      0.372653   \n",
      "min        0.000000      0.000000      0.000000      0.000000      0.000000   \n",
      "25%        0.000000      0.000000      0.000000      0.000000      0.000000   \n",
      "50%        1.000000      0.000000      0.000000      0.000000      0.000000   \n",
      "75%        1.000000      0.000000      0.000000      0.000000      0.000000   \n",
      "max        1.000000      1.000000      1.000000      1.000000      1.000000   \n",
      "\n",
      "       first_time_2  first_time_3  first_time_4  \n",
      "count  59039.000000  59039.000000  59039.000000  \n",
      "mean       0.155914      0.424618      0.252833  \n",
      "std        0.362777      0.494289      0.434640  \n",
      "min        0.000000      0.000000      0.000000  \n",
      "25%        0.000000      0.000000      0.000000  \n",
      "50%        0.000000      0.000000      0.000000  \n",
      "75%        0.000000      1.000000      1.000000  \n",
      "max        1.000000      1.000000      1.000000  \n",
      "\n",
      "[8 rows x 38 columns]\n",
      "<class 'pandas.core.frame.DataFrame'>\n",
      "Int64Index: 14760 entries, 60889 to 24785\n",
      "Data columns (total 38 columns):\n",
      " #   Column              Non-Null Count  Dtype  \n",
      "---  ------              --------------  -----  \n",
      " 0   sex                 14760 non-null  int32  \n",
      " 1   age                 14760 non-null  float64\n",
      " 2   car                 14760 non-null  int32  \n",
      " 3   car_type            14760 non-null  int32  \n",
      " 4   decline_app_cnt     14760 non-null  float64\n",
      " 5   good_work           14760 non-null  int64  \n",
      " 6   score_bki           14760 non-null  float64\n",
      " 7   bki_request_cnt     14760 non-null  float64\n",
      " 8   region_rating       14760 non-null  float64\n",
      " 9   income              14760 non-null  float64\n",
      " 10  foreign_passport    14760 non-null  int32  \n",
      " 11  default             14760 non-null  int64  \n",
      " 12  clients_in_date     14760 non-null  float64\n",
      " 13  app_delay           14760 non-null  float64\n",
      " 14  mean_income_age     14760 non-null  float64\n",
      " 15  max_income_age      14760 non-null  float64\n",
      " 16  mean_income_region  14760 non-null  float64\n",
      " 17  max_income_region   14760 non-null  float64\n",
      " 18  mean_declines_age   14760 non-null  float64\n",
      " 19  education_ACD       14760 non-null  uint8  \n",
      " 20  education_GRD       14760 non-null  uint8  \n",
      " 21  education_PGR       14760 non-null  uint8  \n",
      " 22  education_SCH       14760 non-null  uint8  \n",
      " 23  education_UGR       14760 non-null  uint8  \n",
      " 24  home_address_1      14760 non-null  uint8  \n",
      " 25  home_address_2      14760 non-null  uint8  \n",
      " 26  home_address_3      14760 non-null  uint8  \n",
      " 27  work_address_1      14760 non-null  uint8  \n",
      " 28  work_address_2      14760 non-null  uint8  \n",
      " 29  work_address_3      14760 non-null  uint8  \n",
      " 30  sna_1               14760 non-null  uint8  \n",
      " 31  sna_2               14760 non-null  uint8  \n",
      " 32  sna_3               14760 non-null  uint8  \n",
      " 33  sna_4               14760 non-null  uint8  \n",
      " 34  first_time_1        14760 non-null  uint8  \n",
      " 35  first_time_2        14760 non-null  uint8  \n",
      " 36  first_time_3        14760 non-null  uint8  \n",
      " 37  first_time_4        14760 non-null  uint8  \n",
      "dtypes: float64(13), int32(4), int64(2), uint8(19)\n",
      "memory usage: 2.8 MB\n",
      "                sex           age           car      car_type  \\\n",
      "count  14760.000000  1.476000e+04  14760.000000  14760.000000   \n",
      "mean       0.436653 -1.925590e-18      0.326897      0.187060   \n",
      "std        0.495988  1.000034e+00      0.469095      0.389973   \n",
      "min        0.000000 -1.583270e+00      0.000000      0.000000   \n",
      "25%        0.000000 -8.022559e-01      0.000000      0.000000   \n",
      "50%        0.000000 -1.948007e-01      0.000000      0.000000   \n",
      "75%        1.000000  7.597717e-01      1.000000      0.000000   \n",
      "max        1.000000  2.842475e+00      1.000000      1.000000   \n",
      "\n",
      "       decline_app_cnt     good_work     score_bki  bki_request_cnt  \\\n",
      "count     1.476000e+04  14760.000000  1.476000e+04     1.476000e+04   \n",
      "mean     -5.776770e-17      0.164228 -3.598446e-16    -2.021870e-17   \n",
      "std       1.000034e+00      0.370495  1.000034e+00     1.000034e+00   \n",
      "min      -4.223662e-01      0.000000 -3.446150e+00    -1.339540e+00   \n",
      "25%      -4.223662e-01      0.000000 -7.097489e-01    -1.339540e+00   \n",
      "50%      -4.223662e-01      0.000000 -2.994076e-02    -2.880456e-01   \n",
      "75%      -4.223662e-01      0.000000  6.781325e-01     7.634491e-01   \n",
      "max       6.444624e+00      1.000000  4.189655e+00     4.330453e+00   \n",
      "\n",
      "       region_rating        income  ...  work_address_2  work_address_3  \\\n",
      "count   1.476000e+04  1.476000e+04  ...    14760.000000    14760.000000   \n",
      "mean    9.146553e-17 -1.266075e-15  ...        0.275610        0.616531   \n",
      "std     1.000034e+00  1.000034e+00  ...        0.446836        0.486247   \n",
      "min    -2.796454e+00 -4.998271e+00  ...        0.000000        0.000000   \n",
      "25%    -5.089956e-01 -6.511171e-01  ...        0.000000        0.000000   \n",
      "50%    -5.089956e-01 -6.274032e-02  ...        0.000000        1.000000   \n",
      "75%     2.534904e-01  6.492103e-01  ...        1.000000        1.000000   \n",
      "max     1.778462e+00  5.025681e+00  ...        1.000000        1.000000   \n",
      "\n",
      "              sna_1         sna_2         sna_3         sna_4  first_time_1  \\\n",
      "count  14760.000000  14760.000000  14760.000000  14760.000000  14760.000000   \n",
      "mean       0.644444      0.143496      0.057249      0.154810      0.162669   \n",
      "std        0.478698      0.350590      0.232326      0.361736      0.369076   \n",
      "min        0.000000      0.000000      0.000000      0.000000      0.000000   \n",
      "25%        0.000000      0.000000      0.000000      0.000000      0.000000   \n",
      "50%        1.000000      0.000000      0.000000      0.000000      0.000000   \n",
      "75%        1.000000      0.000000      0.000000      0.000000      0.000000   \n",
      "max        1.000000      1.000000      1.000000      1.000000      1.000000   \n",
      "\n",
      "       first_time_2  first_time_3  first_time_4  \n",
      "count  14760.000000  14760.000000  14760.000000  \n",
      "mean       0.160095      0.419106      0.258130  \n",
      "std        0.366706      0.493429      0.437621  \n",
      "min        0.000000      0.000000      0.000000  \n",
      "25%        0.000000      0.000000      0.000000  \n",
      "50%        0.000000      0.000000      0.000000  \n",
      "75%        0.000000      1.000000      1.000000  \n",
      "max        1.000000      1.000000      1.000000  \n",
      "\n",
      "[8 rows x 38 columns]\n"
     ]
    }
   ],
   "source": [
    "df_train = preproc_data(df_train_orig)\n",
    "df_train.info()\n",
    "print(df_train.describe())\n",
    "\n",
    "df_val = preproc_data(df_val_orig)\n",
    "df_val.info()\n",
    "print(df_val.describe())"
   ],
   "metadata": {
    "collapsed": false,
    "pycharm": {
     "name": "#%%\n"
    }
   }
  },
  {
   "cell_type": "markdown",
   "source": [
    "# Model training"
   ],
   "metadata": {
    "collapsed": false
   }
  },
  {
   "cell_type": "code",
   "execution_count": 23,
   "outputs": [],
   "source": [
    "X_train = df_train.drop(['default'], axis = 1).values\n",
    "y_train = df_train['default'].values\n",
    "\n",
    "X_val = df_val.drop(['default'], axis = 1).values\n",
    "y_val = df_val['default'].values"
   ],
   "metadata": {
    "collapsed": false,
    "pycharm": {
     "name": "#%%\n"
    }
   }
  },
  {
   "cell_type": "code",
   "execution_count": 24,
   "outputs": [
    {
     "name": "stdout",
     "output_type": "stream",
     "text": [
      "precision_score= 0.47761194029850745\n",
      "recall_score= 0.03415154749199573\n",
      "accuracy_score= 0.8726287262872628\n",
      "f1_score= 0.06374501992031874\n"
     ]
    },
    {
     "data": {
      "text/plain": "<sklearn.metrics._plot.confusion_matrix.ConfusionMatrixDisplay at 0x18d03fbacc8>"
     },
     "execution_count": 24,
     "metadata": {},
     "output_type": "execute_result"
    },
    {
     "data": {
      "text/plain": "<Figure size 432x288 with 2 Axes>",
      "image/png": "[encoded data removed]"
     },
     "metadata": {},
     "output_type": "display_data"
    }
   ],
   "source": [
    "clf = LogisticRegression(max_iter=1000, random_state=SEED)\n",
    "clf.fit(X_train, y_train)\n",
    "\n",
    "y_pred = clf.predict(X_val)\n",
    "\n",
    "show_clf_metrics(y_val, y_pred)\n",
    "plot_confusion_matrix(clf, X_val, y_val)"
   ],
   "metadata": {
    "collapsed": false,
    "pycharm": {
     "name": "#%%\n"
    }
   }
  },
  {
   "cell_type": "code",
   "execution_count": 25,
   "outputs": [
    {
     "data": {
      "text/plain": "<Figure size 432x288 with 1 Axes>",
      "image/png": "[encoded data removed]"
     },
     "metadata": {},
     "output_type": "display_data"
    },
    {
     "data": {
      "text/plain": "<matplotlib.collections.PathCollection at 0x18d048e0488>"
     },
     "execution_count": 25,
     "metadata": {},
     "output_type": "execute_result"
    },
    {
     "data": {
      "text/plain": "<Figure size 432x288 with 1 Axes>",
      "image/png": "[encoded data removed]"
     },
     "metadata": {},
     "output_type": "display_data"
    }
   ],
   "source": [
    "probs = clf.predict_proba(X_val)[:,1]\n",
    "\n",
    "fpr, tpr, threshold = roc_curve(y_val, probs)\n",
    "roc_auc = roc_auc_score(y_val, probs)\n",
    "\n",
    "plt.figure()\n",
    "plt.plot([0, 1], label='Baseline', linestyle='--')\n",
    "# plt.plot(fpr, tpr, label = 'Regression')\n",
    "plt.title('Logistic Regression ROC AUC = %0.9f' % roc_auc)\n",
    "plt.ylabel('True Positive Rate')\n",
    "plt.xlabel('False Positive Rate')\n",
    "plt.legend(loc = 'lower right')\n",
    "\n",
    "# idxs = np.where((0.0 < threshold) & (threshold < 0.3))\n",
    "# print(idxs)\n",
    "# plt.plot(fpr[idxs], tpr[idxs], marker='o', markersize=5, linestyle='', c=colors)\n",
    "\n",
    "# color map for threshold values on ROC curve\n",
    "colors = plt.cm.jet(threshold)\n",
    "\n",
    "plt.scatter(fpr, tpr, marker='o', s=20, c=colors)\n",
    "\n",
    "plt.show()\n",
    "\n",
    "plt.figure()\n",
    "plt.scatter(range(0,len(threshold)), threshold, marker='o', s=20, c=colors)"
   ],
   "metadata": {
    "collapsed": false,
    "pycharm": {
     "name": "#%%\n"
    }
   }
  },
  {
   "cell_type": "code",
   "execution_count": 11,
   "outputs": [
    {
     "data": {
      "text/plain": "<AxesSubplot:>"
     },
     "execution_count": 11,
     "metadata": {},
     "output_type": "execute_result"
    },
    {
     "data": {
      "text/plain": "<Figure size 1080x1080 with 1 Axes>",
      "image/png": "[encoded data removed]"
     },
     "metadata": {},
     "output_type": "display_data"
    }
   ],
   "source": [
    "\n",
    "# let's see on features' importance for logreg clossifier (it's coefficients)\n",
    "plt.figure(figsize=(15,15))\n",
    "logreg_feat_importance = pd.Series(data=clf.coef_[0], index=set(df_train.columns) - {'default'})\n",
    "logreg_feat_importance.sort_values(inplace=True, key=lambda x: abs(x))\n",
    "logreg_feat_importance.plot(kind='barh')"
   ],
   "metadata": {
    "collapsed": false,
    "pycharm": {
     "name": "#%%\n"
    }
   }
  },
  {
   "cell_type": "markdown",
   "source": [
    "Experiments with hyperparameters"
   ],
   "metadata": {
    "collapsed": false
   }
  },
  {
   "cell_type": "code",
   "execution_count": 35,
   "outputs": [
    {
     "name": "stdout",
     "output_type": "stream",
     "text": [
      "Grid for C:  [1.00000000e-02 2.51188643e-02 6.30957344e-02 1.58489319e-01\n",
      " 3.98107171e-01 1.00000000e+00 2.51188643e+00 6.30957344e+00\n",
      " 1.58489319e+01 3.98107171e+01 1.00000000e+02]\n",
      "Fitting 5 folds for each of 11 candidates, totalling 55 fits\n",
      "Best Penalty: l2\n",
      "Best C: 0.025118864315095794\n",
      "Best score: 0.7336524855515674\n"
     ]
    }
   ],
   "source": [
    "# regularization parameters\n",
    "penalty = ['l1', 'l2']\n",
    "C = np.logspace(-2, 2, 11)\n",
    "print('Grid for C: ', C)\n",
    "\n",
    "hyperparameters = dict(C=C, penalty=penalty)\n",
    "\n",
    "skf = StratifiedKFold(n_splits=5, shuffle = True, random_state = SEED)\n",
    "cv = skf.split(X_train, y_train)\n",
    "\n",
    "clf = LogisticRegression(max_iter=1000, solver='liblinear')\n",
    "clf.fit(X_train, y_train)\n",
    "\n",
    "clf = GridSearchCV(clf, hyperparameters, cv=cv, scoring='roc_auc', verbose=10, n_jobs=N_THREADS)\n",
    "\n",
    "grid_search_model = clf.fit(X_train, y_train)\n",
    "\n",
    "# View best hyperparameters\n",
    "print('Best Penalty:',  grid_search_model.best_estimator_.get_params()['penalty'])\n",
    "print('Best C:',        grid_search_model.best_estimator_.get_params()['C'])\n",
    "print('Best score:',    grid_search_model.best_score_)"
   ],
   "metadata": {
    "collapsed": false,
    "pycharm": {
     "name": "#%%\n"
    }
   }
  },
  {
   "cell_type": "code",
   "execution_count": 36,
   "outputs": [
    {
     "name": "stdout",
     "output_type": "stream",
     "text": [
      "roc_auc for best grid_search_model: 0.7377355666826954\n"
     ]
    }
   ],
   "source": [
    "# check grid search best_estimator_ on validation set\n",
    "probs = grid_search_model.best_estimator_.predict_proba(X_val)[:,1]\n",
    "\n",
    "roc_auc = roc_auc_score(y_val, probs)\n",
    "print('roc_auc for best grid_search_model:', roc_auc)"
   ],
   "metadata": {
    "collapsed": false,
    "pycharm": {
     "name": "#%%\n"
    }
   }
  },
  {
   "cell_type": "markdown",
   "source": [
    "Grid search estimator has approximately same roc_auc score on validation set"
   ],
   "metadata": {
    "collapsed": false
   }
  },
  {
   "cell_type": "markdown",
   "source": [
    "## Using more powerfull model\n",
    "### XGBoost with RandomizedSearchCV"
   ],
   "metadata": {
    "collapsed": false
   }
  },
  {
   "cell_type": "code",
   "execution_count": 44,
   "outputs": [
    {
     "name": "stdout",
     "output_type": "stream",
     "text": [
      "Fitting 7 folds for each of 7 candidates, totalling 49 fits\n",
      "[00:21:43] WARNING: ..\\src\\learner.cc:541: \n",
      "Parameters: { silent } might not be used.\n",
      "\n",
      "  This may not be accurate due to some parameters are only used in language bindings but\n",
      "  passed down to XGBoost core.  Or some parameters are not used but slip through this\n",
      "  verification. Please open an issue if you find above cases.\n",
      "\n",
      "\n",
      "[00:21:43] WARNING: ..\\src\\learner.cc:1061: Starting in XGBoost 1.3.0, the default evaluation metric used with the objective 'binary:logistic' was changed from 'error' to 'logloss'. Explicitly set eval_metric if you'd like to restore the old behavior.\n",
      "Random search model results: {'mean_fit_time': array([58.37516505, 43.75147094, 53.45467009, 46.96402182, 55.58753971,\n",
      "       64.66356206, 32.20063179]), 'std_fit_time': array([1.23637095, 3.51060603, 1.01547004, 3.27433902, 1.59921961,\n",
      "       3.34395022, 4.28663423]), 'mean_score_time': array([0.04089083, 0.03006247, 0.03034769, 0.02764031, 0.03433674,\n",
      "       0.04046341, 0.02707056]), 'std_score_time': array([0.00527738, 0.00258034, 0.00319212, 0.00138122, 0.00271069,\n",
      "       0.00237567, 0.00486942]), 'param_subsample': masked_array(data=[0.8, 1.0, 0.8, 0.6, 0.6, 1.0, 1.0],\n",
      "             mask=[False, False, False, False, False, False, False],\n",
      "       fill_value='?',\n",
      "            dtype=object), 'param_min_child_weight': masked_array(data=[10, 1, 10, 10, 10, 5, 1],\n",
      "             mask=[False, False, False, False, False, False, False],\n",
      "       fill_value='?',\n",
      "            dtype=object), 'param_max_depth': masked_array(data=[4, 3, 3, 3, 4, 5, 3],\n",
      "             mask=[False, False, False, False, False, False, False],\n",
      "       fill_value='?',\n",
      "            dtype=object), 'param_gamma': masked_array(data=[1.5, 2, 5, 1, 1, 1.5, 0.5],\n",
      "             mask=[False, False, False, False, False, False, False],\n",
      "       fill_value='?',\n",
      "            dtype=object), 'param_colsample_bytree': masked_array(data=[0.6, 0.8, 1.0, 0.6, 0.6, 0.6, 0.8],\n",
      "             mask=[False, False, False, False, False, False, False],\n",
      "       fill_value='?',\n",
      "            dtype=object), 'params': [{'subsample': 0.8, 'min_child_weight': 10, 'max_depth': 4, 'gamma': 1.5, 'colsample_bytree': 0.6}, {'subsample': 1.0, 'min_child_weight': 1, 'max_depth': 3, 'gamma': 2, 'colsample_bytree': 0.8}, {'subsample': 0.8, 'min_child_weight': 10, 'max_depth': 3, 'gamma': 5, 'colsample_bytree': 1.0}, {'subsample': 0.6, 'min_child_weight': 10, 'max_depth': 3, 'gamma': 1, 'colsample_bytree': 0.6}, {'subsample': 0.6, 'min_child_weight': 10, 'max_depth': 4, 'gamma': 1, 'colsample_bytree': 0.6}, {'subsample': 1.0, 'min_child_weight': 5, 'max_depth': 5, 'gamma': 1.5, 'colsample_bytree': 0.6}, {'subsample': 1.0, 'min_child_weight': 1, 'max_depth': 3, 'gamma': 0.5, 'colsample_bytree': 0.8}], 'split0_test_score': array([0.72990938, 0.72934154, 0.73014541, 0.73196199, 0.73130122,\n",
      "       0.72777284, 0.72958517]), 'split1_test_score': array([0.74344487, 0.74194464, 0.74410708, 0.74329543, 0.7418664 ,\n",
      "       0.74195802, 0.74201686]), 'split2_test_score': array([0.72628999, 0.72463803, 0.72706772, 0.72787043, 0.72640336,\n",
      "       0.7224366 , 0.72457989]), 'split3_test_score': array([0.74450786, 0.74200132, 0.74459168, 0.74462199, 0.74435987,\n",
      "       0.74105037, 0.7420088 ]), 'split4_test_score': array([0.74460348, 0.74413713, 0.74492076, 0.74501542, 0.7445733 ,\n",
      "       0.74275781, 0.74417581]), 'split5_test_score': array([0.73251912, 0.73187143, 0.73282372, 0.73248685, 0.73191595,\n",
      "       0.73147908, 0.73185685]), 'split6_test_score': array([0.73251177, 0.7322986 , 0.73312115, 0.73375153, 0.73254074,\n",
      "       0.73142671, 0.73235046]), 'mean_test_score': array([0.73625521, 0.7351761 , 0.7366825 , 0.73700052, 0.73613726,\n",
      "       0.73412592, 0.73522483]), 'std_test_score': array([0.00714181, 0.00693841, 0.00705387, 0.00656425, 0.00676643,\n",
      "       0.00732016, 0.0069385 ]), 'rank_test_score': array([3, 6, 2, 1, 4, 7, 5])}\n",
      "roc_auc for best random_search_model: 0.7411159199024828\n"
     ]
    },
    {
     "name": "stderr",
     "output_type": "stream",
     "text": [
      "C:\\ProgramData\\Anaconda3\\envs\\TestProject\\lib\\site-packages\\xgboost\\sklearn.py:888: UserWarning: The use of label encoder in XGBClassifier is deprecated and will be removed in a future release. To remove this warning, do the following: 1) Pass option use_label_encoder=False when constructing XGBClassifier object; and 2) Encode your labels (y) as integers starting with 0, i.e. 0, 1, 2, ..., [num_class - 1].\n",
      "  warnings.warn(label_encoder_deprecation_msg, UserWarning)\n"
     ]
    }
   ],
   "source": [
    "# try more powerfull model\n",
    "skf = StratifiedKFold(n_splits=7, shuffle = True, random_state = SEED)\n",
    "cv = skf.split(X_train, y_train)\n",
    "\n",
    "xgb = XGBClassifier(learning_rate=0.015, n_estimators=1000, objective='binary:logistic', silent=True, nthread=N_THREADS)\n",
    "\n",
    "rnd_search_params = {\n",
    "                    'min_child_weight': [1, 5, 10],\n",
    "                    'gamma': [0.5, 1, 1.5, 2, 5],\n",
    "                    'subsample': [0.6, 0.8, 1.0],\n",
    "                    'colsample_bytree': [0.6, 0.8, 1.0],\n",
    "                    'max_depth': [3, 4, 5]\n",
    "                    }\n",
    "random_search_model = RandomizedSearchCV(xgb, param_distributions=rnd_search_params, n_iter=7, scoring='roc_auc',\n",
    "                                    n_jobs=N_THREADS, cv=cv, verbose=5, random_state=SEED)\n",
    "\n",
    "random_search_model.fit(X_train, y_train)\n",
    "\n",
    "print('Random search model results:', random_search_model.cv_results_)\n",
    "\n",
    "# check random_search best_estimator_ on validation set\n",
    "probs = random_search_model.best_estimator_.predict_proba(X_val)[:,1]\n",
    "\n",
    "roc_auc = roc_auc_score(y_val, probs)\n",
    "print('roc_auc for best random_search_model:', roc_auc)"
   ],
   "metadata": {
    "collapsed": false,
    "pycharm": {
     "name": "#%%\n"
    }
   }
  },
  {
   "cell_type": "code",
   "execution_count": 38,
   "outputs": [
    {
     "data": {
      "text/plain": "(59039, 37)"
     },
     "execution_count": 38,
     "metadata": {},
     "output_type": "execute_result"
    }
   ],
   "source": [
    "X_train.shape"
   ],
   "metadata": {
    "collapsed": false,
    "pycharm": {
     "name": "#%%\n"
    }
   }
  },
  {
   "cell_type": "code",
   "execution_count": 39,
   "outputs": [
    {
     "name": "stdout",
     "output_type": "stream",
     "text": [
      "X_train_all.shape= (73799, 37)\n",
      "y_train_all.shape= (73799, 1)\n"
     ]
    }
   ],
   "source": [
    "# we have best results on validation set for this model\n",
    "# so train it on all data and predict for test set\n",
    "X_train_all = np.vstack((X_train, X_val))\n",
    "y_train_all = np.vstack((y_train[:,np.newaxis], y_val[:,np.newaxis]))\n",
    "\n",
    "print('X_train_all.shape=', X_train_all.shape)\n",
    "print('y_train_all.shape=', y_train_all.shape)"
   ],
   "metadata": {
    "collapsed": false,
    "pycharm": {
     "name": "#%%\n"
    }
   }
  },
  {
   "cell_type": "code",
   "execution_count": 45,
   "outputs": [
    {
     "name": "stdout",
     "output_type": "stream",
     "text": [
      "Fitting 7 folds for each of 7 candidates, totalling 49 fits\n",
      "[00:28:18] WARNING: ..\\src\\learner.cc:541: \n",
      "Parameters: { silent } might not be used.\n",
      "\n",
      "  This may not be accurate due to some parameters are only used in language bindings but\n",
      "  passed down to XGBoost core.  Or some parameters are not used but slip through this\n",
      "  verification. Please open an issue if you find above cases.\n",
      "\n",
      "\n",
      "[00:28:18] WARNING: ..\\src\\learner.cc:1061: Starting in XGBoost 1.3.0, the default evaluation metric used with the objective 'binary:logistic' was changed from 'error' to 'logloss'. Explicitly set eval_metric if you'd like to restore the old behavior.\n",
      "Final model results: {'mean_fit_time': array([72.83642656, 54.31750604, 66.39778335, 59.60124677, 70.48358672,\n",
      "       81.12968785, 39.73292412]), 'std_fit_time': array([1.65899832, 4.84129739, 1.61763032, 4.32618734, 1.99477617,\n",
      "       4.41984983, 5.63340397]), 'mean_score_time': array([0.0443102 , 0.03647396, 0.03732892, 0.03376688, 0.04245796,\n",
      "       0.05100645, 0.03105971]), 'std_score_time': array([0.00212266, 0.00508143, 0.00265812, 0.00163695, 0.00175669,\n",
      "       0.00396884, 0.00294085]), 'param_subsample': masked_array(data=[0.8, 1.0, 0.8, 0.6, 0.6, 1.0, 1.0],\n",
      "             mask=[False, False, False, False, False, False, False],\n",
      "       fill_value='?',\n",
      "            dtype=object), 'param_min_child_weight': masked_array(data=[10, 1, 10, 10, 10, 5, 1],\n",
      "             mask=[False, False, False, False, False, False, False],\n",
      "       fill_value='?',\n",
      "            dtype=object), 'param_max_depth': masked_array(data=[4, 3, 3, 3, 4, 5, 3],\n",
      "             mask=[False, False, False, False, False, False, False],\n",
      "       fill_value='?',\n",
      "            dtype=object), 'param_gamma': masked_array(data=[1.5, 2, 5, 1, 1, 1.5, 0.5],\n",
      "             mask=[False, False, False, False, False, False, False],\n",
      "       fill_value='?',\n",
      "            dtype=object), 'param_colsample_bytree': masked_array(data=[0.6, 0.8, 1.0, 0.6, 0.6, 0.6, 0.8],\n",
      "             mask=[False, False, False, False, False, False, False],\n",
      "       fill_value='?',\n",
      "            dtype=object), 'params': [{'subsample': 0.8, 'min_child_weight': 10, 'max_depth': 4, 'gamma': 1.5, 'colsample_bytree': 0.6}, {'subsample': 1.0, 'min_child_weight': 1, 'max_depth': 3, 'gamma': 2, 'colsample_bytree': 0.8}, {'subsample': 0.8, 'min_child_weight': 10, 'max_depth': 3, 'gamma': 5, 'colsample_bytree': 1.0}, {'subsample': 0.6, 'min_child_weight': 10, 'max_depth': 3, 'gamma': 1, 'colsample_bytree': 0.6}, {'subsample': 0.6, 'min_child_weight': 10, 'max_depth': 4, 'gamma': 1, 'colsample_bytree': 0.6}, {'subsample': 1.0, 'min_child_weight': 5, 'max_depth': 5, 'gamma': 1.5, 'colsample_bytree': 0.6}, {'subsample': 1.0, 'min_child_weight': 1, 'max_depth': 3, 'gamma': 0.5, 'colsample_bytree': 0.8}], 'split0_test_score': array([0.73716058, 0.73770756, 0.73733848, 0.73745934, 0.7372358 ,\n",
      "       0.73614891, 0.73763664]), 'split1_test_score': array([0.74268149, 0.74237205, 0.74406434, 0.74377053, 0.74313284,\n",
      "       0.74083106, 0.7423282 ]), 'split2_test_score': array([0.73833097, 0.73741654, 0.73923042, 0.73872191, 0.738854  ,\n",
      "       0.73720277, 0.73722679]), 'split3_test_score': array([0.74276279, 0.74032177, 0.74129596, 0.74262522, 0.74308878,\n",
      "       0.73992892, 0.74035045]), 'split4_test_score': array([0.73168191, 0.73050889, 0.73151671, 0.73137004, 0.73107509,\n",
      "       0.72899751, 0.73022364]), 'split5_test_score': array([0.7346109 , 0.73435889, 0.73479677, 0.7351401 , 0.73475207,\n",
      "       0.73362413, 0.73422572]), 'split6_test_score': array([0.73252751, 0.73310198, 0.7337569 , 0.7343809 , 0.73314657,\n",
      "       0.73046175, 0.73306351]), 'mean_test_score': array([0.73710802, 0.7365411 , 0.73742851, 0.73763829, 0.73732645,\n",
      "       0.73531358, 0.73643642]), 'std_test_score': array([0.004161  , 0.00384332, 0.00409882, 0.00413733, 0.00434969,\n",
      "       0.00417985, 0.00390897]), 'rank_test_score': array([4, 5, 2, 1, 3, 7, 6])}\n",
      "roc_auc for final model on validation set (NB! included in train set): 0.7593724154563846\n"
     ]
    },
    {
     "name": "stderr",
     "output_type": "stream",
     "text": [
      "C:\\ProgramData\\Anaconda3\\envs\\TestProject\\lib\\site-packages\\xgboost\\sklearn.py:888: UserWarning: The use of label encoder in XGBClassifier is deprecated and will be removed in a future release. To remove this warning, do the following: 1) Pass option use_label_encoder=False when constructing XGBClassifier object; and 2) Encode your labels (y) as integers starting with 0, i.e. 0, 1, 2, ..., [num_class - 1].\n",
      "  warnings.warn(label_encoder_deprecation_msg, UserWarning)\n",
      "C:\\ProgramData\\Anaconda3\\envs\\TestProject\\lib\\site-packages\\sklearn\\utils\\validation.py:63: DataConversionWarning: A column-vector y was passed when a 1d array was expected. Please change the shape of y to (n_samples, ), for example using ravel().\n",
      "  return f(*args, **kwargs)\n"
     ]
    }
   ],
   "source": [
    "skf = StratifiedKFold(n_splits=7, shuffle = True, random_state = SEED)\n",
    "cv_all = skf.split(X_train_all, y_train_all)\n",
    "\n",
    "final_model = RandomizedSearchCV(xgb, param_distributions=rnd_search_params, n_iter=7, scoring='roc_auc',\n",
    "                                    n_jobs=N_THREADS, cv=cv_all, verbose=3, random_state=SEED)\n",
    "final_model.fit(X_train_all, y_train_all)\n",
    "\n",
    "print('Final model results:', final_model.cv_results_)\n",
    "\n",
    "# check one more time on validation set\n",
    "probs = final_model.best_estimator_.predict_proba(X_val)[:,1]\n",
    "\n",
    "roc_auc = roc_auc_score(y_val, probs)\n",
    "print('roc_auc for final model on validation set (NB! included in train set):', roc_auc)"
   ],
   "metadata": {
    "collapsed": false,
    "pycharm": {
     "name": "#%%\n"
    }
   }
  },
  {
   "cell_type": "markdown",
   "source": [
    "# Submission"
   ],
   "metadata": {
    "collapsed": false
   }
  },
  {
   "cell_type": "code",
   "execution_count": 46,
   "outputs": [
    {
     "data": {
      "text/plain": "       client_id   default\n0          74835  0.032496\n1          17527  0.228950\n2          75683  0.078709\n3          26883  0.079937\n4          28862  0.018901\n...          ...       ...\n36344      83775  0.393159\n36345     106254  0.024551\n36346      81852  0.288321\n36347       1971  0.292554\n36348      69044  0.247040\n\n[36349 rows x 2 columns]",
      "text/html": "<div>\n<style scoped>\n    .dataframe tbody tr th:only-of-type {\n        vertical-align: middle;\n    }\n\n    .dataframe tbody tr th {\n        vertical-align: top;\n    }\n\n    .dataframe thead th {\n        text-align: right;\n    }\n</style>\n<table border=\"1\" class=\"dataframe\">\n  <thead>\n    <tr style=\"text-align: right;\">\n      <th></th>\n      <th>client_id</th>\n      <th>default</th>\n    </tr>\n  </thead>\n  <tbody>\n    <tr>\n      <th>0</th>\n      <td>74835</td>\n      <td>0.032496</td>\n    </tr>\n    <tr>\n      <th>1</th>\n      <td>17527</td>\n      <td>0.228950</td>\n    </tr>\n    <tr>\n      <th>2</th>\n      <td>75683</td>\n      <td>0.078709</td>\n    </tr>\n    <tr>\n      <th>3</th>\n      <td>26883</td>\n      <td>0.079937</td>\n    </tr>\n    <tr>\n      <th>4</th>\n      <td>28862</td>\n      <td>0.018901</td>\n    </tr>\n    <tr>\n      <th>...</th>\n      <td>...</td>\n      <td>...</td>\n    </tr>\n    <tr>\n      <th>36344</th>\n      <td>83775</td>\n      <td>0.393159</td>\n    </tr>\n    <tr>\n      <th>36345</th>\n      <td>106254</td>\n      <td>0.024551</td>\n    </tr>\n    <tr>\n      <th>36346</th>\n      <td>81852</td>\n      <td>0.288321</td>\n    </tr>\n    <tr>\n      <th>36347</th>\n      <td>1971</td>\n      <td>0.292554</td>\n    </tr>\n    <tr>\n      <th>36348</th>\n      <td>69044</td>\n      <td>0.247040</td>\n    </tr>\n  </tbody>\n</table>\n<p>36349 rows × 2 columns</p>\n</div>"
     },
     "execution_count": 46,
     "metadata": {},
     "output_type": "execute_result"
    }
   ],
   "source": [
    "df_test = preproc_data(test_data)\n",
    "\n",
    "X_test = df_test.values\n",
    "probs_test = final_model.best_estimator_.predict_proba(X_test)[:,1]\n",
    "\n",
    "df_sub = pd.DataFrame(data={'client_id': test_data['client_id'], 'default': probs_test})\n",
    "df_sub"
   ],
   "metadata": {
    "collapsed": false,
    "pycharm": {
     "name": "#%%\n"
    }
   }
  },
  {
   "cell_type": "code",
   "execution_count": 47,
   "outputs": [],
   "source": [
    "df_sub.to_csv('submission_3.csv', index=False)"
   ],
   "metadata": {
    "collapsed": false,
    "pycharm": {
     "name": "#%%\n"
    }
   }
  },
  {
   "cell_type": "code",
   "execution_count": null,
   "outputs": [],
   "source": [],
   "metadata": {
    "collapsed": false,
    "pycharm": {
     "name": "#%%\n"
    }
   }
  }
 ],
 "metadata": {
  "kernelspec": {
   "display_name": "Python 3",
   "language": "python",
   "name": "python3"
  },
  "language_info": {
   "codemirror_mode": {
    "name": "ipython",
    "version": 2
   },
   "file_extension": ".py",
   "mimetype": "text/x-python",
   "name": "python",
   "nbconvert_exporter": "python",
   "pygments_lexer": "ipython2",
   "version": "2.7.6"
  }
 },
 "nbformat": 4,
 "nbformat_minor": 0
}