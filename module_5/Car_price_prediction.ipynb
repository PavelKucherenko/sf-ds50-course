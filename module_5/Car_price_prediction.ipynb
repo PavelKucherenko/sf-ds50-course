{
 "cells": [
  {
   "cell_type": "markdown",
   "metadata": {
    "collapsed": true,
    "pycharm": {
     "name": "#%% md\n"
    }
   },
   "source": [
    "# Car price prediction project (module 5)"
   ]
  },
  {
   "cell_type": "markdown",
   "source": [
    "## Import"
   ],
   "metadata": {
    "collapsed": false,
    "pycharm": {
     "name": "#%% md\n"
    }
   }
  },
  {
   "cell_type": "code",
   "execution_count": 509,
   "outputs": [
    {
     "name": "stdout",
     "output_type": "stream",
     "text": [
      "Import is completed.\n"
     ]
    }
   ],
   "source": [
    "# general packages\n",
    "import time\n",
    "\n",
    "import sklearn as sklearn\n",
    "from ordered_set import OrderedSet\n",
    "from functools import wraps\n",
    "import re\n",
    "\n",
    "from IPython.display import display\n",
    "\n",
    "# tabular data analysis/processing\n",
    "import numpy as np\n",
    "import pandas as pd\n",
    "from pandas import DataFrame\n",
    "from pandas import Series\n",
    "from pandas_profiling import ProfileReport\n",
    "\n",
    "# visualization\n",
    "from IPython.display import display\n",
    "import matplotlib.pyplot as plt\n",
    "%matplotlib inline\n",
    "import seaborn as sb\n",
    "import plotly.graph_objects as go\n",
    "\n",
    "# machine learning\n",
    "from category_encoders import BinaryEncoder\n",
    "from sklearn.model_selection import train_test_split\n",
    "from sklearn.linear_model import LinearRegression\n",
    "from sklearn.linear_model import Ridge\n",
    "from sklearn.preprocessing import StandardScaler\n",
    "from sklearn.preprocessing import MinMaxScaler\n",
    "from sklearn.model_selection import KFold\n",
    "from sklearn.model_selection import RandomizedSearchCV\n",
    "from sklearn.model_selection import GridSearchCV\n",
    "from sklearn.linear_model import Lasso\n",
    "from sklearn.pipeline import Pipeline\n",
    "\n",
    "print('Import is completed.')"
   ],
   "metadata": {
    "collapsed": false,
    "pycharm": {
     "name": "#%%\n"
    }
   }
  },
  {
   "cell_type": "markdown",
   "source": [
    "## Init setup"
   ],
   "metadata": {
    "collapsed": false
   }
  },
  {
   "cell_type": "code",
   "execution_count": 541,
   "outputs": [],
   "source": [
    "# fix random seed\n",
    "SEED = 37\n",
    "\n",
    "# visualization flag. Global turn and off time-consumed visualization.\n",
    "# to iterate different experiments faster when we don't need to visualize everything\n",
    "# better solution would be to mark some cells from evaluation, but didn't find any good workaround..\n",
    "VISUALIZE = False\n",
    "\n",
    "# # number of threads for computations\n",
    "# N_THREADS = max(1, multiprocessing.cpu_count() - 1)\n",
    "\n",
    "# configure visualization aesthetics\n",
    "plt.style.use('default')\n",
    "sb.set_style('dark')\n",
    "\n",
    "# fix requirements\n",
    "!pip freeze > requirements.txt"
   ],
   "metadata": {
    "collapsed": false,
    "pycharm": {
     "name": "#%%\n"
    }
   }
  },
  {
   "cell_type": "markdown",
   "source": [
    "### Constants"
   ],
   "metadata": {
    "collapsed": false
   }
  },
  {
   "cell_type": "code",
   "execution_count": 315,
   "outputs": [],
   "source": [
    "# RARITY_YEAR = 1975"
   ],
   "metadata": {
    "collapsed": false,
    "pycharm": {
     "name": "#%%\n"
    }
   }
  },
  {
   "cell_type": "markdown",
   "source": [
    "## Functions"
   ],
   "metadata": {
    "collapsed": false,
    "pycharm": {
     "name": "#%% md\n"
    }
   }
  },
  {
   "cell_type": "code",
   "execution_count": 316,
   "outputs": [],
   "source": [
    "def exists(var_name:str):\n",
    "    \"\"\"Check if a variable with var_name exists in global scope\"\"\"\n",
    "    return var_name in globals()\n",
    "\n",
    "def print_framed(text: str, frame_width=100):\n",
    "    \"\"\"Print text in frame of asterisks ('*')\"\"\"\n",
    "    text_width = len(text)\n",
    "    gap = 5\n",
    "    edge_width = (frame_width - text_width) // 2 - gap\n",
    "    print('*'*frame_width)\n",
    "    print('*'*edge_width + ' '*gap + text + ' '*gap + '*'*edge_width)\n",
    "    print('*'*frame_width)\n",
    "\n",
    "def correct_name(f_name:str):\n",
    "    \"\"\"Feature name correction\"\"\"\n",
    "    new_name = f_name[0].upper()+f_name[1:]\n",
    "    splitted = new_name.split('_')\n",
    "    if len(splitted)>1:\n",
    "        new_name = splitted[0]+splitted[1][0].upper()+splitted[1][1:]\n",
    "    return new_name\n",
    "\n",
    "def log_transform(arr: np.ndarray):\n",
    "    \"\"\"\n",
    "    Log transformation of the data in specified numpy array\n",
    "    \"\"\"\n",
    "    return np.log(arr+1)\n",
    "\n",
    "def inv_log_transform(arr: np.ndarray):\n",
    "    \"\"\"\n",
    "    Inverse log transformation of the data in specified numpy array\n",
    "    \"\"\"\n",
    "    return np.exp(arr)-1\n",
    "\n",
    "def fillna_mode(df, col):\n",
    "    \"\"\"\n",
    "    Function fills NaN values in column of df with MODE value.\n",
    "    :param col: Column to replace NaN with mode\n",
    "    :param df: Dataframe with specified column\n",
    "    \"\"\"\n",
    "    df.fillna({col : df[col].mode().iloc[0]}, inplace=True)\n",
    "\n",
    "def print_num_col_statistics(col:Series):\n",
    "\n",
    "    print(f'Statistics for {col.name} column:')\n",
    "    col_stat = col.describe()\n",
    "    col_stat['Median'] = col.median()\n",
    "    mode, count = next(col.value_counts(ascending=False).items())\n",
    "    col_stat['Mode/Count'] = f'{mode}/{count}'\n",
    "    col_stat['Skewness'] = col.skew()\n",
    "\n",
    "    q1, q3 = col.quantile([0.25, 0.75])\n",
    "    IQR = q3 - q1\n",
    "    n_outliers = sum(~col.between(q1 - 1.5 * IQR, q3 + 1.5 * IQR))\n",
    "\n",
    "    col_stat['IQR'] = IQR\n",
    "    col_stat['Number of outliers'] = f'{n_outliers} ({n_outliers / col.shape[0]:.1%})'\n",
    "    display(col_stat)\n",
    "\n",
    "# === Visualisation functions ===\n",
    "def visualisation_check(func):\n",
    "    \"\"\"Visualising functions decorator\"\"\"\n",
    "    def func_wrapper(*args, **kwargs):\n",
    "        wraps(func)\n",
    "        if VISUALIZE:\n",
    "            func(*args, **kwargs)\n",
    "        else:\n",
    "            print(f'Visualising function {func.__name__}() was skipped due to false value of visualisation flag VISUALIZE (defined in Constants section).')\n",
    "\n",
    "    return func_wrapper\n",
    "\n",
    "@visualisation_check\n",
    "def vis_analyze_num_col(df:DataFrame,\n",
    "                        col:str,\n",
    "                        target:str=None,\n",
    "                        hist_bins:int=10,\n",
    "                        hist2d_x_bins:int=50,\n",
    "                        hist2d_y_bins:int=3,\n",
    "                        showfliers:bool=True,\n",
    "                        interactive_hist2d:bool=False,\n",
    "                        title_add:str=''):\n",
    "\n",
    "    fig, ax = plt.subplots(1, 2, figsize=(15, 5))\n",
    "    fig.suptitle('Column '+col+' analysis '+title_add)\n",
    "\n",
    "    # histogram\n",
    "    df[col].plot.hist(ax=ax[0], bins=hist_bins)\n",
    "    # boxplot\n",
    "    sb.boxplot(data=df, y=col, ax=ax[1], orient='v', showfliers=showfliers, medianprops={'color':'red'}, showmeans=True)\n",
    "    plt.show()\n",
    "\n",
    "    # plots with target if any\n",
    "    if target:\n",
    "        if not interactive_hist2d:\n",
    "            # # _, ax = plt.subplots(1,1, figsize=(15,7))\n",
    "            # joint_plot = sb.jointplot(data=df, x=col, y=target, ax=ax)\n",
    "            # joint_plot.fig.set_figwidth(15)\n",
    "            # plt.show()\n",
    "\n",
    "            plt.rcParams[\"figure.autolayout\"] = False\n",
    "\n",
    "            jp = sb.jointplot(data=df, x=col, y=target, kind='hist', bins=(hist2d_x_bins,hist2d_y_bins), color='blue')\n",
    "            jp.fig.set_figwidth(15,5)\n",
    "            # jp.ax_joint.cla()\n",
    "            plt.sca(jp.ax_joint)\n",
    "            fig, ax = plt.gcf(), plt.gca()\n",
    "\n",
    "            x_l, x_r = jp.ax_joint.get_xlim()\n",
    "            y_b, y_u = jp.ax_joint.get_ylim()\n",
    "\n",
    "            _,_,_,img = plt.hist2d(data=df, x=col, y=target, cmap='YlOrRd', bins=(hist2d_x_bins,hist2d_y_bins))\n",
    "\n",
    "            plt.xlim([x_l, x_r])\n",
    "            plt.ylim([y_b, y_u])\n",
    "\n",
    "            plt.scatter(data=df, x=col, y=target, s=7, c='blue', alpha=0.5)\n",
    "\n",
    "            # plot bins median line\n",
    "            df_bins = df[[col, target]].copy()\n",
    "            df_bins['Bins'] = pd.cut(x=df_bins[col], bins=hist2d_x_bins)\n",
    "            bin_medians = df_bins.groupby('Bins').median()[target]\n",
    "            bin_medians.index = map(lambda i: (i.left + i.right)/2,bin_medians.index)\n",
    "            bin_medians.plot(style='-s', color='green', ms=5)\n",
    "\n",
    "            plt.legend(labels=[target, col+' bins median'], bbox_to_anchor=(1.02,1.1), loc=\"lower left\", ncol=2)\n",
    "\n",
    "            cbar_ax = fig.add_axes([1, 0.1, .03, .7])\n",
    "            plt.colorbar(mappable=img, cax=cbar_ax)\n",
    "            plt.show()\n",
    "\n",
    "            plt.rcParams[\"figure.autolayout\"] = True\n",
    "\n",
    "        else:\n",
    "            # 2d hist with scatter chart\n",
    "            fig_2 = go.Figure()\n",
    "\n",
    "            fig_2.add_trace(go.Scatter(\n",
    "                x=df[col],\n",
    "                y=df[target],\n",
    "                mode='markers',\n",
    "                showlegend=False,\n",
    "                marker=dict(\n",
    "                    symbol='circle',\n",
    "                    opacity=0.5,\n",
    "                    color='blue',\n",
    "                    size=3,\n",
    "                    # line=dict(width=1),\n",
    "                )\n",
    "            ))\n",
    "            fig_2.add_trace(go.Histogram2d(\n",
    "                x=df[col],\n",
    "                y=df[target],\n",
    "                colorscale='YlOrRd',\n",
    "                # zmax=10,\n",
    "                nbinsx=hist2d_x_bins,\n",
    "                nbinsy=hist2d_y_bins,\n",
    "                # zauto=False,\n",
    "            ))\n",
    "\n",
    "            fig_2.update_layout(\n",
    "                xaxis=dict( ticks='', showgrid=False, zeroline=False, nticks=30 ),\n",
    "                yaxis=dict( ticks='', showgrid=False, zeroline=False, nticks=30 ),\n",
    "                autosize=False,\n",
    "                height=500,\n",
    "                width=1000,\n",
    "                hovermode='closest'\n",
    "            )\n",
    "\n",
    "            fig_2.show()\n",
    "    else: # no target defined - show point plot for num col\n",
    "        plt.figure(figsize=(15,7))\n",
    "        df[col].sort_values().reset_index(drop=True).plot(style='.', ms=5)\n",
    "        df[col].hist(orientation='horizontal', bins=hist_bins, alpha=0.5)\n",
    "        plt.show()\n",
    "\n",
    "@visualisation_check\n",
    "def analyze_num_col(df:DataFrame ,\n",
    "                    col:str,\n",
    "                    target:str=None,\n",
    "                    hist_bins:int=10,\n",
    "                    hist2d_x_bins:int=100,\n",
    "                    hist2d_y_bins:int=3,\n",
    "                    showfliers:bool=True,\n",
    "                    need_log:bool = False,\n",
    "                    interactive_hist2d:bool=False,):\n",
    "    \"\"\"Analyze numeric column with visualization\n",
    "\n",
    "    param: df: DataFrame with column to analyze\n",
    "    param: col: Name of the numeric column to analyze\n",
    "    param: target: Name of the target column in the DataFrame\n",
    "    \"\"\"\n",
    "\n",
    "    vis_analyze_num_col(df, col, target, hist_bins, hist2d_x_bins, hist2d_y_bins,\n",
    "                        showfliers=showfliers,\n",
    "                        interactive_hist2d=interactive_hist2d)\n",
    "    print_num_col_statistics(df[col])\n",
    "\n",
    "    to_corr_analysis = [df[col]]\n",
    "\n",
    "    if need_log:\n",
    "        print()\n",
    "        print(f'Column {col} log transform analysis:')\n",
    "        col_log = col+'_log'\n",
    "        df_log = pd.DataFrame()\n",
    "        df_log[col_log] = df[col].apply(log_transform)\n",
    "        # df_log = pd.DataFrame(col_log_data)\n",
    "        df_log[col]  = df[col]\n",
    "        if target:\n",
    "            df_log[target]  = df[target]\n",
    "\n",
    "        vis_analyze_num_col(df_log, col_log, target, hist_bins, hist2d_x_bins, hist2d_y_bins,\n",
    "                            showfliers=showfliers,\n",
    "                            interactive_hist2d=interactive_hist2d,\n",
    "                            title_add='(Log transformed)')\n",
    "        print_num_col_statistics(df_log[col_log])\n",
    "\n",
    "        to_corr_analysis.append(df_log[col_log])\n",
    "\n",
    "    if target:\n",
    "        to_corr_analysis.append(df[target])\n",
    "\n",
    "    # display corr analysis\n",
    "    display(pd.concat(to_corr_analysis, axis=1).corr())\n",
    "\n",
    "@visualisation_check\n",
    "def show_boxplot(df:DataFrame, qual_col:str, y_col:str, showfliers=True, ordering=None):\n",
    "    \"\"\"\n",
    "    Show boxplots for qualitative value in specified column\n",
    "\n",
    "    :param df: DataFrame\n",
    "    :param qual_col: Column with qualitative values\n",
    "    :param y_col: y variable for boxplot\n",
    "    :param showfliers: parameter for show/hide outliers\n",
    "    :param ordering: Flag of boxplots ordering (by median)\n",
    "    \"\"\"\n",
    "\n",
    "    n_unique = df[qual_col].nunique()\n",
    "    fig, ax = plt.subplots(figsize = (n_unique, 10))\n",
    "\n",
    "    order = None\n",
    "    if ordering:\n",
    "        ordered = df.loc[:,[qual_col, y_col]].groupby([qual_col]).median().sort_values(ascending=False,by=y_col)\n",
    "        order = ordered.index\n",
    "\n",
    "    sb.boxplot(x=qual_col, y=y_col, data=df, ax=ax, showfliers=showfliers, medianprops={'color':'red'}, showmeans=True, order=order)\n",
    "\n",
    "    ax.set_title(f'Boxplot for {qual_col}')\n",
    "    plt.xticks(fontsize=20, rotation=90)\n",
    "    plt.yticks(fontsize=20)\n",
    "    ax.xaxis.label.set_size(30)\n",
    "    ax.yaxis.label.set_size(30)\n",
    "\n",
    "    plt.show()\n",
    "\n",
    "@visualisation_check\n",
    "def show_countplot(df:DataFrame, qual_col:str, vals=None, ordering=None):\n",
    "    \"\"\"\n",
    "    Show countplot for qualitative value in specified column\n",
    "\n",
    "    :param df: DataFrame\n",
    "    :param qual_col: Column with qualitative values\n",
    "    :param ordering: Flag of boxplots ordering (by median)\n",
    "    \"\"\"\n",
    "\n",
    "    data_to_plot = df[df[qual_col].isin(vals)][qual_col] if vals else df[qual_col]\n",
    "\n",
    "    n_unique = data_to_plot.nunique()\n",
    "    fig, ax = plt.subplots(figsize = (n_unique, 10))\n",
    "\n",
    "    order = None\n",
    "    if ordering:\n",
    "        ordered = data_to_plot.value_counts(ascending=False)\n",
    "        order = ordered.index\n",
    "\n",
    "    sb.countplot(x=data_to_plot, order=order)\n",
    "\n",
    "    ax.set_title(f'Countplot for {qual_col}')\n",
    "    plt.xticks(fontsize=20, rotation=90)\n",
    "    plt.yticks(fontsize=20)\n",
    "    ax.xaxis.label.set_size(30)\n",
    "    ax.yaxis.label.set_size(30)\n",
    "\n",
    "    plt.show()\n",
    "\n",
    "def mape(y_pred: np.ndarray, y_true: np.ndarray):\n",
    "    \"\"\"\n",
    "    Calculate the mean absolute percentage error (MAPE).\n",
    "    \"\"\"\n",
    "    return np.mean(np.abs((y_pred-y_true)/y_true))"
   ],
   "metadata": {
    "collapsed": false,
    "pycharm": {
     "name": "#%%\n"
    }
   }
  },
  {
   "cell_type": "code",
   "execution_count": 316,
   "outputs": [],
   "source": [],
   "metadata": {
    "collapsed": false,
    "pycharm": {
     "name": "#%%\n"
    }
   }
  },
  {
   "cell_type": "code",
   "execution_count": 317,
   "outputs": [],
   "source": [
    "# class OneHotEncInfo:\n",
    "#     def __init__(self, feature):\n",
    "#         self.feature = feature\n"
   ],
   "metadata": {
    "collapsed": false,
    "pycharm": {
     "name": "#%%\n"
    }
   }
  },
  {
   "cell_type": "markdown",
   "source": [
    "## Data loading"
   ],
   "metadata": {
    "collapsed": false,
    "pycharm": {
     "name": "#%% md\n"
    }
   }
  },
  {
   "cell_type": "markdown",
   "source": [
    "Load parsed in [separate notebook](https://github.com/PavelKucherenko/sf-ds50-course/blob/main/module_5/Parsing/Parsing.ipynb) train data and provided test project data."
   ],
   "metadata": {
    "collapsed": false,
    "pycharm": {
     "name": "#%% md\n"
    }
   }
  },
  {
   "cell_type": "code",
   "execution_count": 318,
   "outputs": [],
   "source": [
    "TRAIN_DIR = 'Parsing/Data'\n",
    "TEST_DIR = 'Data'"
   ],
   "metadata": {
    "collapsed": false,
    "pycharm": {
     "name": "#%%\n"
    }
   }
  },
  {
   "cell_type": "code",
   "execution_count": 319,
   "outputs": [
    {
     "name": "stdout",
     "output_type": "stream",
     "text": [
      "****************************************************************************************************\n",
      "**************************************     TRAIN DATASET     **************************************\n",
      "****************************************************************************************************\n"
     ]
    },
    {
     "data": {
      "text/plain": "   № bodyType  brand                                            car_url  \\\n0  0  лифтбек  SKODA  https://auto.ru/cars/used/sale/skoda/octavia/1...   \n1  1  лифтбек  SKODA  https://auto.ru/cars/used/sale/skoda/octavia/1...   \n2  2      NaN  SKODA  https://auto.ru/cars/new/group/skoda/karoq/225...   \n3  3      NaN  SKODA  https://auto.ru/cars/new/group/skoda/rapid/217...   \n4  4  лифтбек  SKODA  https://auto.ru/cars/used/sale/skoda/rapid/110...   \n\n        color                                 complectation_dict  \\\n0  коричневый  {'id': '20291328', 'name': 'Laurin&Klement', '...   \n1     красный                                        {'id': '0'}   \n2       белый  {'id': '22687243', 'name': 'Hockey Edition', '...   \n3  коричневый  {'id': '22870340', 'name': 'Hockey Edition', '...   \n4      чёрный                                        {'id': '0'}   \n\n                                         description  engineDisplacement  \\\n0  1 владелец.\\r\\nРодной пробег.\\r\\nПТС оригинал....                 1.8   \n1  Skoda Octavia\\r\\n\\r\\n❕ ПТС ОРИГИНАЛ\\r\\n❕ ДВА В...                 1.8   \n2  В стоимость автомобиля включено дополнительное...                 NaN   \n3  ———————————————————————————\\r\\nФУНКЦИОНАЛЬНОЕ ...                 NaN   \n4  ЛОТ: 01306544\\r\\nЛокация №16\\r\\nФаворит Моторс...                 1.6   \n\n   enginePower                                     equipment_dict  ...  \\\n0        180.0  {'cruise-control': True, 'esp': True, 'adaptiv...  ...   \n1        150.0  {'condition': True, 'mirrors-heat': True, 'ele...  ...   \n2          NaN  {'cruise-control': True, 'asr': True, 'tinted-...  ...   \n3          NaN  {'cruise-control': True, 'asr': True, 'tinted-...  ...   \n4        110.0  {'cruise-control': True, 'glonass': True, 'asr...  ...   \n\n  vehicleTransmission vendor    Владельцы  Владение       ПТС    Привод  \\\n0    роботизированная    NaN   1 владелец       NaN  Оригинал  передний   \n1        механическая    NaN  2 владельца       NaN  Оригинал  передний   \n2                 NaN    NaN          NaN       NaN       NaN       NaN   \n3                 NaN    NaN          NaN       NaN       NaN       NaN   \n4      автоматическая    NaN   1 владелец       NaN  Оригинал  передний   \n\n    Руль           Состояние     Таможня      Price  \n0  Левый  Не требует ремонта  Растаможен  1030000.0  \n1  Левый  Не требует ремонта  Растаможен   400000.0  \n2    NaN                 NaN         NaN  2655000.0  \n3    NaN                 NaN         NaN  1335000.0  \n4  Левый  Не требует ремонта  Растаможен  1820000.0  \n\n[5 rows x 34 columns]",
      "text/html": "<div>\n<style scoped>\n    .dataframe tbody tr th:only-of-type {\n        vertical-align: middle;\n    }\n\n    .dataframe tbody tr th {\n        vertical-align: top;\n    }\n\n    .dataframe thead th {\n        text-align: right;\n    }\n</style>\n<table border=\"1\" class=\"dataframe\">\n  <thead>\n    <tr style=\"text-align: right;\">\n      <th></th>\n      <th>№</th>\n      <th>bodyType</th>\n      <th>brand</th>\n      <th>car_url</th>\n      <th>color</th>\n      <th>complectation_dict</th>\n      <th>description</th>\n      <th>engineDisplacement</th>\n      <th>enginePower</th>\n      <th>equipment_dict</th>\n      <th>...</th>\n      <th>vehicleTransmission</th>\n      <th>vendor</th>\n      <th>Владельцы</th>\n      <th>Владение</th>\n      <th>ПТС</th>\n      <th>Привод</th>\n      <th>Руль</th>\n      <th>Состояние</th>\n      <th>Таможня</th>\n      <th>Price</th>\n    </tr>\n  </thead>\n  <tbody>\n    <tr>\n      <th>0</th>\n      <td>0</td>\n      <td>лифтбек</td>\n      <td>SKODA</td>\n      <td>https://auto.ru/cars/used/sale/skoda/octavia/1...</td>\n      <td>коричневый</td>\n      <td>{'id': '20291328', 'name': 'Laurin&amp;Klement', '...</td>\n      <td>1 владелец.\\r\\nРодной пробег.\\r\\nПТС оригинал....</td>\n      <td>1.8</td>\n      <td>180.0</td>\n      <td>{'cruise-control': True, 'esp': True, 'adaptiv...</td>\n      <td>...</td>\n      <td>роботизированная</td>\n      <td>NaN</td>\n      <td>1 владелец</td>\n      <td>NaN</td>\n      <td>Оригинал</td>\n      <td>передний</td>\n      <td>Левый</td>\n      <td>Не требует ремонта</td>\n      <td>Растаможен</td>\n      <td>1030000.0</td>\n    </tr>\n    <tr>\n      <th>1</th>\n      <td>1</td>\n      <td>лифтбек</td>\n      <td>SKODA</td>\n      <td>https://auto.ru/cars/used/sale/skoda/octavia/1...</td>\n      <td>красный</td>\n      <td>{'id': '0'}</td>\n      <td>Skoda Octavia\\r\\n\\r\\n❕ ПТС ОРИГИНАЛ\\r\\n❕ ДВА В...</td>\n      <td>1.8</td>\n      <td>150.0</td>\n      <td>{'condition': True, 'mirrors-heat': True, 'ele...</td>\n      <td>...</td>\n      <td>механическая</td>\n      <td>NaN</td>\n      <td>2 владельца</td>\n      <td>NaN</td>\n      <td>Оригинал</td>\n      <td>передний</td>\n      <td>Левый</td>\n      <td>Не требует ремонта</td>\n      <td>Растаможен</td>\n      <td>400000.0</td>\n    </tr>\n    <tr>\n      <th>2</th>\n      <td>2</td>\n      <td>NaN</td>\n      <td>SKODA</td>\n      <td>https://auto.ru/cars/new/group/skoda/karoq/225...</td>\n      <td>белый</td>\n      <td>{'id': '22687243', 'name': 'Hockey Edition', '...</td>\n      <td>В стоимость автомобиля включено дополнительное...</td>\n      <td>NaN</td>\n      <td>NaN</td>\n      <td>{'cruise-control': True, 'asr': True, 'tinted-...</td>\n      <td>...</td>\n      <td>NaN</td>\n      <td>NaN</td>\n      <td>NaN</td>\n      <td>NaN</td>\n      <td>NaN</td>\n      <td>NaN</td>\n      <td>NaN</td>\n      <td>NaN</td>\n      <td>NaN</td>\n      <td>2655000.0</td>\n    </tr>\n    <tr>\n      <th>3</th>\n      <td>3</td>\n      <td>NaN</td>\n      <td>SKODA</td>\n      <td>https://auto.ru/cars/new/group/skoda/rapid/217...</td>\n      <td>коричневый</td>\n      <td>{'id': '22870340', 'name': 'Hockey Edition', '...</td>\n      <td>———————————————————————————\\r\\nФУНКЦИОНАЛЬНОЕ ...</td>\n      <td>NaN</td>\n      <td>NaN</td>\n      <td>{'cruise-control': True, 'asr': True, 'tinted-...</td>\n      <td>...</td>\n      <td>NaN</td>\n      <td>NaN</td>\n      <td>NaN</td>\n      <td>NaN</td>\n      <td>NaN</td>\n      <td>NaN</td>\n      <td>NaN</td>\n      <td>NaN</td>\n      <td>NaN</td>\n      <td>1335000.0</td>\n    </tr>\n    <tr>\n      <th>4</th>\n      <td>4</td>\n      <td>лифтбек</td>\n      <td>SKODA</td>\n      <td>https://auto.ru/cars/used/sale/skoda/rapid/110...</td>\n      <td>чёрный</td>\n      <td>{'id': '0'}</td>\n      <td>ЛОТ: 01306544\\r\\nЛокация №16\\r\\nФаворит Моторс...</td>\n      <td>1.6</td>\n      <td>110.0</td>\n      <td>{'cruise-control': True, 'glonass': True, 'asr...</td>\n      <td>...</td>\n      <td>автоматическая</td>\n      <td>NaN</td>\n      <td>1 владелец</td>\n      <td>NaN</td>\n      <td>Оригинал</td>\n      <td>передний</td>\n      <td>Левый</td>\n      <td>Не требует ремонта</td>\n      <td>Растаможен</td>\n      <td>1820000.0</td>\n    </tr>\n  </tbody>\n</table>\n<p>5 rows × 34 columns</p>\n</div>"
     },
     "metadata": {},
     "output_type": "display_data"
    },
    {
     "name": "stdout",
     "output_type": "stream",
     "text": [
      "<class 'pandas.core.frame.DataFrame'>\n",
      "RangeIndex: 42441 entries, 0 to 42440\n",
      "Data columns (total 34 columns):\n",
      " #   Column                Non-Null Count  Dtype  \n",
      "---  ------                --------------  -----  \n",
      " 0   №                     42441 non-null  int64  \n",
      " 1   bodyType              33328 non-null  object \n",
      " 2   brand                 41768 non-null  object \n",
      " 3   car_url               42441 non-null  object \n",
      " 4   color                 41768 non-null  object \n",
      " 5   complectation_dict    38643 non-null  object \n",
      " 6   description           41768 non-null  object \n",
      " 7   engineDisplacement    32637 non-null  float64\n",
      " 8   enginePower           32757 non-null  float64\n",
      " 9   equipment_dict        41685 non-null  object \n",
      " 10  fuelType              32757 non-null  object \n",
      " 11  image                 30738 non-null  object \n",
      " 12  mileage               33328 non-null  float64\n",
      " 13  modelDate             40194 non-null  float64\n",
      " 14  model_info            41685 non-null  object \n",
      " 15  model_name            41685 non-null  object \n",
      " 16  name                  40194 non-null  object \n",
      " 17  numberOfDoors         41685 non-null  float64\n",
      " 18  parsing_unixtime      42441 non-null  int64  \n",
      " 19  priceCurrency         41768 non-null  object \n",
      " 20  productionDate        41768 non-null  float64\n",
      " 21  sell_id               0 non-null      float64\n",
      " 22  super_gen             41685 non-null  object \n",
      " 23  vehicleConfiguration  0 non-null      float64\n",
      " 24  vehicleTransmission   33328 non-null  object \n",
      " 25  vendor                0 non-null      float64\n",
      " 26  Владельцы             33328 non-null  object \n",
      " 27  Владение              6173 non-null   object \n",
      " 28  ПТС                   33328 non-null  object \n",
      " 29  Привод                33328 non-null  object \n",
      " 30  Руль                  33328 non-null  object \n",
      " 31  Состояние             33321 non-null  object \n",
      " 32  Таможня               33317 non-null  object \n",
      " 33  Price                 37790 non-null  float64\n",
      "dtypes: float64(10), int64(2), object(22)\n",
      "memory usage: 7.4+ MB\n"
     ]
    },
    {
     "data": {
      "text/plain": "                  №  engineDisplacement   enginePower       mileage  \\\ncount  42441.000000        32637.000000  32757.000000  3.332800e+04   \nmean   21084.445701            2.381457    193.728547  1.306305e+05   \nstd    12251.038731            0.970799     88.229736  9.348202e+04   \nmin        0.000000            0.700000     45.000000  1.000000e+03   \n25%    10474.000000            1.800000    136.000000  6.000000e+04   \n50%    21084.000000            2.000000    170.000000  1.160000e+05   \n75%    31694.000000            3.000000    240.000000  1.810000e+05   \nmax    42304.000000            6.600000    900.000000  1.090000e+06   \n\n          modelDate  numberOfDoors  parsing_unixtime  productionDate  sell_id  \\\ncount  40194.000000   41685.000000      4.244100e+04    41768.000000      0.0   \nmean    2012.170598       4.651889      1.643820e+09     2014.457695      NaN   \nstd        6.810206       0.578531      1.852711e+04        6.733014      NaN   \nmin     1937.000000       2.000000      1.643814e+09     1948.000000      NaN   \n25%     2009.000000       4.000000      1.643816e+09     2011.000000      NaN   \n50%     2014.000000       5.000000      1.643819e+09     2016.000000      NaN   \n75%     2017.000000       5.000000      1.643821e+09     2020.000000      NaN   \nmax     2021.000000       5.000000      1.644143e+09     2022.000000      NaN   \n\n       vehicleConfiguration  vendor         Price  \ncount                   0.0     0.0  3.779000e+04  \nmean                    NaN     NaN  2.788796e+06  \nstd                     NaN     NaN  2.904376e+06  \nmin                     NaN     NaN  4.000000e+04  \n25%                     NaN     NaN  1.090000e+06  \n50%                     NaN     NaN  1.930000e+06  \n75%                     NaN     NaN  3.460000e+06  \nmax                     NaN     NaN  1.111000e+08  ",
      "text/html": "<div>\n<style scoped>\n    .dataframe tbody tr th:only-of-type {\n        vertical-align: middle;\n    }\n\n    .dataframe tbody tr th {\n        vertical-align: top;\n    }\n\n    .dataframe thead th {\n        text-align: right;\n    }\n</style>\n<table border=\"1\" class=\"dataframe\">\n  <thead>\n    <tr style=\"text-align: right;\">\n      <th></th>\n      <th>№</th>\n      <th>engineDisplacement</th>\n      <th>enginePower</th>\n      <th>mileage</th>\n      <th>modelDate</th>\n      <th>numberOfDoors</th>\n      <th>parsing_unixtime</th>\n      <th>productionDate</th>\n      <th>sell_id</th>\n      <th>vehicleConfiguration</th>\n      <th>vendor</th>\n      <th>Price</th>\n    </tr>\n  </thead>\n  <tbody>\n    <tr>\n      <th>count</th>\n      <td>42441.000000</td>\n      <td>32637.000000</td>\n      <td>32757.000000</td>\n      <td>3.332800e+04</td>\n      <td>40194.000000</td>\n      <td>41685.000000</td>\n      <td>4.244100e+04</td>\n      <td>41768.000000</td>\n      <td>0.0</td>\n      <td>0.0</td>\n      <td>0.0</td>\n      <td>3.779000e+04</td>\n    </tr>\n    <tr>\n      <th>mean</th>\n      <td>21084.445701</td>\n      <td>2.381457</td>\n      <td>193.728547</td>\n      <td>1.306305e+05</td>\n      <td>2012.170598</td>\n      <td>4.651889</td>\n      <td>1.643820e+09</td>\n      <td>2014.457695</td>\n      <td>NaN</td>\n      <td>NaN</td>\n      <td>NaN</td>\n      <td>2.788796e+06</td>\n    </tr>\n    <tr>\n      <th>std</th>\n      <td>12251.038731</td>\n      <td>0.970799</td>\n      <td>88.229736</td>\n      <td>9.348202e+04</td>\n      <td>6.810206</td>\n      <td>0.578531</td>\n      <td>1.852711e+04</td>\n      <td>6.733014</td>\n      <td>NaN</td>\n      <td>NaN</td>\n      <td>NaN</td>\n      <td>2.904376e+06</td>\n    </tr>\n    <tr>\n      <th>min</th>\n      <td>0.000000</td>\n      <td>0.700000</td>\n      <td>45.000000</td>\n      <td>1.000000e+03</td>\n      <td>1937.000000</td>\n      <td>2.000000</td>\n      <td>1.643814e+09</td>\n      <td>1948.000000</td>\n      <td>NaN</td>\n      <td>NaN</td>\n      <td>NaN</td>\n      <td>4.000000e+04</td>\n    </tr>\n    <tr>\n      <th>25%</th>\n      <td>10474.000000</td>\n      <td>1.800000</td>\n      <td>136.000000</td>\n      <td>6.000000e+04</td>\n      <td>2009.000000</td>\n      <td>4.000000</td>\n      <td>1.643816e+09</td>\n      <td>2011.000000</td>\n      <td>NaN</td>\n      <td>NaN</td>\n      <td>NaN</td>\n      <td>1.090000e+06</td>\n    </tr>\n    <tr>\n      <th>50%</th>\n      <td>21084.000000</td>\n      <td>2.000000</td>\n      <td>170.000000</td>\n      <td>1.160000e+05</td>\n      <td>2014.000000</td>\n      <td>5.000000</td>\n      <td>1.643819e+09</td>\n      <td>2016.000000</td>\n      <td>NaN</td>\n      <td>NaN</td>\n      <td>NaN</td>\n      <td>1.930000e+06</td>\n    </tr>\n    <tr>\n      <th>75%</th>\n      <td>31694.000000</td>\n      <td>3.000000</td>\n      <td>240.000000</td>\n      <td>1.810000e+05</td>\n      <td>2017.000000</td>\n      <td>5.000000</td>\n      <td>1.643821e+09</td>\n      <td>2020.000000</td>\n      <td>NaN</td>\n      <td>NaN</td>\n      <td>NaN</td>\n      <td>3.460000e+06</td>\n    </tr>\n    <tr>\n      <th>max</th>\n      <td>42304.000000</td>\n      <td>6.600000</td>\n      <td>900.000000</td>\n      <td>1.090000e+06</td>\n      <td>2021.000000</td>\n      <td>5.000000</td>\n      <td>1.644143e+09</td>\n      <td>2022.000000</td>\n      <td>NaN</td>\n      <td>NaN</td>\n      <td>NaN</td>\n      <td>1.111000e+08</td>\n    </tr>\n  </tbody>\n</table>\n</div>"
     },
     "metadata": {},
     "output_type": "display_data"
    },
    {
     "name": "stdout",
     "output_type": "stream",
     "text": [
      "****************************************************************************************************\n",
      "***************************************     TEST DATASET     ***************************************\n",
      "****************************************************************************************************\n"
     ]
    },
    {
     "data": {
      "text/plain": "  bodyType  brand                                            car_url  \\\n0  лифтбек  SKODA  https://auto.ru/cars/used/sale/skoda/octavia/1...   \n1  лифтбек  SKODA  https://auto.ru/cars/used/sale/skoda/octavia/1...   \n2  лифтбек  SKODA  https://auto.ru/cars/used/sale/skoda/superb/11...   \n3  лифтбек  SKODA  https://auto.ru/cars/used/sale/skoda/octavia/1...   \n4  лифтбек  SKODA  https://auto.ru/cars/used/sale/skoda/octavia/1...   \n\n        color                                 complectation_dict  \\\n0       синий                                                NaN   \n1      чёрный                                                NaN   \n2       серый  {\"id\":\"20026336\",\"name\":\"Ambition\",\"available_...   \n3  коричневый  {\"id\":\"20803582\",\"name\":\"Ambition\",\"available_...   \n4       белый                                                NaN   \n\n                                         description engineDisplacement  \\\n0  Все автомобили, представленные в продаже, прох...            1.2 LTR   \n1  ЛОТ: 01217195\\nАвтопрага Север\\nДанный автомоб...            1.6 LTR   \n2  Все автомобили, представленные в продаже, прох...            1.8 LTR   \n3  КОМПЛЕКТ ЗИМНЕЙ (ЛЕТНЕЙ) РЕЗИНЫ ПО СЕЗОНУ В ПО...            1.6 LTR   \n4  ЛОТ: 01220889\\nАвтопрага Север\\n\\nВы можете по...            1.8 LTR   \n\n  enginePower                                     equipment_dict fuelType  \\\n0     105 N12  {\"engine-proof\":true,\"tinted-glass\":true,\"airb...   бензин   \n1     110 N12  {\"cruise-control\":true,\"asr\":true,\"esp\":true,\"...   бензин   \n2     152 N12  {\"cruise-control\":true,\"tinted-glass\":true,\"es...   бензин   \n3     110 N12  {\"cruise-control\":true,\"roller-blind-for-rear-...   бензин   \n4     152 N12  {\"cruise-control\":true,\"asr\":true,\"esp\":true,\"...   бензин   \n\n   ...     vehicleConfiguration  vehicleTransmission    vendor    Владельцы  \\\n0  ...       LIFTBACK ROBOT 1.2     роботизированная  EUROPEAN  3 или более   \n1  ...  LIFTBACK MECHANICAL 1.6         механическая  EUROPEAN   1 владелец   \n2  ...       LIFTBACK ROBOT 1.8     роботизированная  EUROPEAN   1 владелец   \n3  ...   LIFTBACK AUTOMATIC 1.6       автоматическая  EUROPEAN   1 владелец   \n4  ...   LIFTBACK AUTOMATIC 1.8       автоматическая  EUROPEAN   1 владелец   \n\n  Владение       ПТС    Привод   Руль           Состояние     Таможня  \n0      NaN  Оригинал  передний  Левый  Не требует ремонта  Растаможен  \n1      NaN  Оригинал  передний  Левый  Не требует ремонта  Растаможен  \n2      NaN  Оригинал  передний  Левый  Не требует ремонта  Растаможен  \n3      NaN  Оригинал  передний  Левый  Не требует ремонта  Растаможен  \n4      NaN  Оригинал  передний  Левый  Не требует ремонта  Растаможен  \n\n[5 rows x 32 columns]",
      "text/html": "<div>\n<style scoped>\n    .dataframe tbody tr th:only-of-type {\n        vertical-align: middle;\n    }\n\n    .dataframe tbody tr th {\n        vertical-align: top;\n    }\n\n    .dataframe thead th {\n        text-align: right;\n    }\n</style>\n<table border=\"1\" class=\"dataframe\">\n  <thead>\n    <tr style=\"text-align: right;\">\n      <th></th>\n      <th>bodyType</th>\n      <th>brand</th>\n      <th>car_url</th>\n      <th>color</th>\n      <th>complectation_dict</th>\n      <th>description</th>\n      <th>engineDisplacement</th>\n      <th>enginePower</th>\n      <th>equipment_dict</th>\n      <th>fuelType</th>\n      <th>...</th>\n      <th>vehicleConfiguration</th>\n      <th>vehicleTransmission</th>\n      <th>vendor</th>\n      <th>Владельцы</th>\n      <th>Владение</th>\n      <th>ПТС</th>\n      <th>Привод</th>\n      <th>Руль</th>\n      <th>Состояние</th>\n      <th>Таможня</th>\n    </tr>\n  </thead>\n  <tbody>\n    <tr>\n      <th>0</th>\n      <td>лифтбек</td>\n      <td>SKODA</td>\n      <td>https://auto.ru/cars/used/sale/skoda/octavia/1...</td>\n      <td>синий</td>\n      <td>NaN</td>\n      <td>Все автомобили, представленные в продаже, прох...</td>\n      <td>1.2 LTR</td>\n      <td>105 N12</td>\n      <td>{\"engine-proof\":true,\"tinted-glass\":true,\"airb...</td>\n      <td>бензин</td>\n      <td>...</td>\n      <td>LIFTBACK ROBOT 1.2</td>\n      <td>роботизированная</td>\n      <td>EUROPEAN</td>\n      <td>3 или более</td>\n      <td>NaN</td>\n      <td>Оригинал</td>\n      <td>передний</td>\n      <td>Левый</td>\n      <td>Не требует ремонта</td>\n      <td>Растаможен</td>\n    </tr>\n    <tr>\n      <th>1</th>\n      <td>лифтбек</td>\n      <td>SKODA</td>\n      <td>https://auto.ru/cars/used/sale/skoda/octavia/1...</td>\n      <td>чёрный</td>\n      <td>NaN</td>\n      <td>ЛОТ: 01217195\\nАвтопрага Север\\nДанный автомоб...</td>\n      <td>1.6 LTR</td>\n      <td>110 N12</td>\n      <td>{\"cruise-control\":true,\"asr\":true,\"esp\":true,\"...</td>\n      <td>бензин</td>\n      <td>...</td>\n      <td>LIFTBACK MECHANICAL 1.6</td>\n      <td>механическая</td>\n      <td>EUROPEAN</td>\n      <td>1 владелец</td>\n      <td>NaN</td>\n      <td>Оригинал</td>\n      <td>передний</td>\n      <td>Левый</td>\n      <td>Не требует ремонта</td>\n      <td>Растаможен</td>\n    </tr>\n    <tr>\n      <th>2</th>\n      <td>лифтбек</td>\n      <td>SKODA</td>\n      <td>https://auto.ru/cars/used/sale/skoda/superb/11...</td>\n      <td>серый</td>\n      <td>{\"id\":\"20026336\",\"name\":\"Ambition\",\"available_...</td>\n      <td>Все автомобили, представленные в продаже, прох...</td>\n      <td>1.8 LTR</td>\n      <td>152 N12</td>\n      <td>{\"cruise-control\":true,\"tinted-glass\":true,\"es...</td>\n      <td>бензин</td>\n      <td>...</td>\n      <td>LIFTBACK ROBOT 1.8</td>\n      <td>роботизированная</td>\n      <td>EUROPEAN</td>\n      <td>1 владелец</td>\n      <td>NaN</td>\n      <td>Оригинал</td>\n      <td>передний</td>\n      <td>Левый</td>\n      <td>Не требует ремонта</td>\n      <td>Растаможен</td>\n    </tr>\n    <tr>\n      <th>3</th>\n      <td>лифтбек</td>\n      <td>SKODA</td>\n      <td>https://auto.ru/cars/used/sale/skoda/octavia/1...</td>\n      <td>коричневый</td>\n      <td>{\"id\":\"20803582\",\"name\":\"Ambition\",\"available_...</td>\n      <td>КОМПЛЕКТ ЗИМНЕЙ (ЛЕТНЕЙ) РЕЗИНЫ ПО СЕЗОНУ В ПО...</td>\n      <td>1.6 LTR</td>\n      <td>110 N12</td>\n      <td>{\"cruise-control\":true,\"roller-blind-for-rear-...</td>\n      <td>бензин</td>\n      <td>...</td>\n      <td>LIFTBACK AUTOMATIC 1.6</td>\n      <td>автоматическая</td>\n      <td>EUROPEAN</td>\n      <td>1 владелец</td>\n      <td>NaN</td>\n      <td>Оригинал</td>\n      <td>передний</td>\n      <td>Левый</td>\n      <td>Не требует ремонта</td>\n      <td>Растаможен</td>\n    </tr>\n    <tr>\n      <th>4</th>\n      <td>лифтбек</td>\n      <td>SKODA</td>\n      <td>https://auto.ru/cars/used/sale/skoda/octavia/1...</td>\n      <td>белый</td>\n      <td>NaN</td>\n      <td>ЛОТ: 01220889\\nАвтопрага Север\\n\\nВы можете по...</td>\n      <td>1.8 LTR</td>\n      <td>152 N12</td>\n      <td>{\"cruise-control\":true,\"asr\":true,\"esp\":true,\"...</td>\n      <td>бензин</td>\n      <td>...</td>\n      <td>LIFTBACK AUTOMATIC 1.8</td>\n      <td>автоматическая</td>\n      <td>EUROPEAN</td>\n      <td>1 владелец</td>\n      <td>NaN</td>\n      <td>Оригинал</td>\n      <td>передний</td>\n      <td>Левый</td>\n      <td>Не требует ремонта</td>\n      <td>Растаможен</td>\n    </tr>\n  </tbody>\n</table>\n<p>5 rows × 32 columns</p>\n</div>"
     },
     "metadata": {},
     "output_type": "display_data"
    },
    {
     "name": "stdout",
     "output_type": "stream",
     "text": [
      "<class 'pandas.core.frame.DataFrame'>\n",
      "RangeIndex: 34686 entries, 0 to 34685\n",
      "Data columns (total 32 columns):\n",
      " #   Column                Non-Null Count  Dtype \n",
      "---  ------                --------------  ----- \n",
      " 0   bodyType              34686 non-null  object\n",
      " 1   brand                 34686 non-null  object\n",
      " 2   car_url               34686 non-null  object\n",
      " 3   color                 34686 non-null  object\n",
      " 4   complectation_dict    6418 non-null   object\n",
      " 5   description           34686 non-null  object\n",
      " 6   engineDisplacement    34686 non-null  object\n",
      " 7   enginePower           34686 non-null  object\n",
      " 8   equipment_dict        24690 non-null  object\n",
      " 9   fuelType              34686 non-null  object\n",
      " 10  image                 34686 non-null  object\n",
      " 11  mileage               34686 non-null  int64 \n",
      " 12  modelDate             34686 non-null  int64 \n",
      " 13  model_info            34686 non-null  object\n",
      " 14  model_name            34686 non-null  object\n",
      " 15  name                  34686 non-null  object\n",
      " 16  numberOfDoors         34686 non-null  int64 \n",
      " 17  parsing_unixtime      34686 non-null  int64 \n",
      " 18  priceCurrency         34686 non-null  object\n",
      " 19  productionDate        34686 non-null  int64 \n",
      " 20  sell_id               34686 non-null  int64 \n",
      " 21  super_gen             34686 non-null  object\n",
      " 22  vehicleConfiguration  34686 non-null  object\n",
      " 23  vehicleTransmission   34686 non-null  object\n",
      " 24  vendor                34686 non-null  object\n",
      " 25  Владельцы             34686 non-null  object\n",
      " 26  Владение              11995 non-null  object\n",
      " 27  ПТС                   34685 non-null  object\n",
      " 28  Привод                34686 non-null  object\n",
      " 29  Руль                  34686 non-null  object\n",
      " 30  Состояние             34686 non-null  object\n",
      " 31  Таможня               34686 non-null  object\n",
      "dtypes: int64(6), object(26)\n",
      "memory usage: 5.0+ MB\n"
     ]
    },
    {
     "data": {
      "text/plain": "              mileage     modelDate  numberOfDoors  parsing_unixtime  \\\ncount    34686.000000  34686.000000   34686.000000      3.468600e+04   \nmean    162009.767889   2007.074728       4.450816      1.603287e+09   \nstd     100676.559489      7.415894       0.703040      1.493071e+05   \nmin          1.000000   1904.000000       0.000000      1.603107e+09   \n25%      91153.500000   2004.000000       4.000000      1.603221e+09   \n50%     149779.500000   2008.000000       5.000000      1.603254e+09   \n75%     215000.000000   2012.000000       5.000000      1.603290e+09   \nmax    1000000.000000   2020.000000       5.000000      1.603710e+09   \n\n       productionDate       sell_id  \ncount    34686.000000  3.468600e+04  \nmean      2009.264602  1.098300e+09  \nstd          7.047661  1.911225e+07  \nmin       1904.000000  2.665000e+03  \n25%       2006.000000  1.099049e+09  \n50%       2011.000000  1.100911e+09  \n75%       2014.000000  1.101245e+09  \nmax       2020.000000  1.101375e+09  ",
      "text/html": "<div>\n<style scoped>\n    .dataframe tbody tr th:only-of-type {\n        vertical-align: middle;\n    }\n\n    .dataframe tbody tr th {\n        vertical-align: top;\n    }\n\n    .dataframe thead th {\n        text-align: right;\n    }\n</style>\n<table border=\"1\" class=\"dataframe\">\n  <thead>\n    <tr style=\"text-align: right;\">\n      <th></th>\n      <th>mileage</th>\n      <th>modelDate</th>\n      <th>numberOfDoors</th>\n      <th>parsing_unixtime</th>\n      <th>productionDate</th>\n      <th>sell_id</th>\n    </tr>\n  </thead>\n  <tbody>\n    <tr>\n      <th>count</th>\n      <td>34686.000000</td>\n      <td>34686.000000</td>\n      <td>34686.000000</td>\n      <td>3.468600e+04</td>\n      <td>34686.000000</td>\n      <td>3.468600e+04</td>\n    </tr>\n    <tr>\n      <th>mean</th>\n      <td>162009.767889</td>\n      <td>2007.074728</td>\n      <td>4.450816</td>\n      <td>1.603287e+09</td>\n      <td>2009.264602</td>\n      <td>1.098300e+09</td>\n    </tr>\n    <tr>\n      <th>std</th>\n      <td>100676.559489</td>\n      <td>7.415894</td>\n      <td>0.703040</td>\n      <td>1.493071e+05</td>\n      <td>7.047661</td>\n      <td>1.911225e+07</td>\n    </tr>\n    <tr>\n      <th>min</th>\n      <td>1.000000</td>\n      <td>1904.000000</td>\n      <td>0.000000</td>\n      <td>1.603107e+09</td>\n      <td>1904.000000</td>\n      <td>2.665000e+03</td>\n    </tr>\n    <tr>\n      <th>25%</th>\n      <td>91153.500000</td>\n      <td>2004.000000</td>\n      <td>4.000000</td>\n      <td>1.603221e+09</td>\n      <td>2006.000000</td>\n      <td>1.099049e+09</td>\n    </tr>\n    <tr>\n      <th>50%</th>\n      <td>149779.500000</td>\n      <td>2008.000000</td>\n      <td>5.000000</td>\n      <td>1.603254e+09</td>\n      <td>2011.000000</td>\n      <td>1.100911e+09</td>\n    </tr>\n    <tr>\n      <th>75%</th>\n      <td>215000.000000</td>\n      <td>2012.000000</td>\n      <td>5.000000</td>\n      <td>1.603290e+09</td>\n      <td>2014.000000</td>\n      <td>1.101245e+09</td>\n    </tr>\n    <tr>\n      <th>max</th>\n      <td>1000000.000000</td>\n      <td>2020.000000</td>\n      <td>5.000000</td>\n      <td>1.603710e+09</td>\n      <td>2020.000000</td>\n      <td>1.101375e+09</td>\n    </tr>\n  </tbody>\n</table>\n</div>"
     },
     "metadata": {},
     "output_type": "display_data"
    }
   ],
   "source": [
    "# del df_test_orig, df_train_orig\n",
    "print_framed('TRAIN DATASET')\n",
    "if not exists('df_train_orig'): df_train_orig = pd.read_csv(f'{TRAIN_DIR}/parsed_car_data_all__06_02_2022.csv')\n",
    "# noinspection PyUnboundLocalVariable\n",
    "display(df_train_orig.head(5))\n",
    "df_train_orig.info()\n",
    "display(df_train_orig.describe())\n",
    "\n",
    "print_framed('TEST DATASET')\n",
    "if not exists('df_test_orig'): df_test_orig = pd.read_csv(f'{TEST_DIR}/test.csv')\n",
    "# noinspection PyUnboundLocalVariable\n",
    "display(df_test_orig.head(5))\n",
    "df_test_orig.info()\n",
    "display(df_test_orig.describe())"
   ],
   "metadata": {
    "collapsed": false,
    "pycharm": {
     "name": "#%%\n"
    }
   }
  },
  {
   "cell_type": "markdown",
   "source": [
    "So, after parse stage we have all necessary columns in train set to predict car price based on test data. But we'll look at those data more thoroughly later."
   ],
   "metadata": {
    "collapsed": false,
    "pycharm": {
     "name": "#%% md\n"
    }
   }
  },
  {
   "cell_type": "markdown",
   "source": [
    "## Preliminary data analysis and preprocessing"
   ],
   "metadata": {
    "collapsed": false,
    "pycharm": {
     "name": "#%% md\n"
    }
   }
  },
  {
   "cell_type": "code",
   "execution_count": 320,
   "outputs": [],
   "source": [
    "# create work copy of datasets\n",
    "df_train = df_train_orig.copy()\n",
    "df_test = df_test_orig.copy()"
   ],
   "metadata": {
    "collapsed": false,
    "pycharm": {
     "name": "#%%\n"
    }
   }
  },
  {
   "cell_type": "code",
   "execution_count": 321,
   "outputs": [],
   "source": [
    "# and their combined dict\n",
    "# (without merging them into one dataframe to avoid data leakage in analysis and in model phase)\n",
    "dfs = {'train':df_train, 'test':df_test}"
   ],
   "metadata": {
    "collapsed": false,
    "pycharm": {
     "name": "#%%\n"
    }
   }
  },
  {
   "cell_type": "markdown",
   "source": [
    "Now we have working copy of our dataset and a combined list.\n",
    "NB! For all common actions to be done on BOTH datasets we'll use this list. /Was searching for best practice here and this is my choice for now/"
   ],
   "metadata": {
    "collapsed": false,
    "pycharm": {
     "name": "#%% md\n"
    }
   }
  },
  {
   "cell_type": "markdown",
   "source": [
    "### Data cleaning"
   ],
   "metadata": {
    "collapsed": false,
    "pycharm": {
     "name": "#%% md\n"
    }
   }
  },
  {
   "cell_type": "markdown",
   "source": [
    "There are some unuseful columns in both datasets. Let's analyze them and maybe delete."
   ],
   "metadata": {
    "collapsed": false,
    "pycharm": {
     "name": "#%% md\n"
    }
   }
  },
  {
   "cell_type": "code",
   "execution_count": 322,
   "outputs": [],
   "source": [
    "# run profiling on both sets\n",
    "# ProfileReport(df_train).to_file(output_file='Reports/train_profiling.html')\n",
    "# ProfileReport(df_test).to_file(output_file='Reports/test_profiling.html')"
   ],
   "metadata": {
    "collapsed": false,
    "pycharm": {
     "name": "#%%\n"
    }
   }
  },
  {
   "cell_type": "markdown",
   "source": [
    "Analyzing pandas profiling results and other statistics, there are following columns to DELETE from both datasets:\n",
    "'car_url'               - potentially we could get some additional info from car page but for this case we don't need this \"overhead\"\n",
    "'complectation_dict'    - 81.5% missing in test - too many\n",
    "'equipment_dict'        - 28.8%  missing in test. Theoretically we could take from test set records without this missings and predict via specific model, which was trained with this\n",
    "                        feature (there are only 1.8% missing values in train), but for this study case let's delete this column due to large amount of missing values anyway\n",
    "'image'                 - don't go with CV for now, so don't need this column\n",
    "'model_info'            - have potentially useful information from here in other columns\n",
    "'name'                  - have this information in other columns\n",
    "'priceCurrency'         - rubles everywhere (in test and in train)\n",
    "'sell_id'               - not useful\n",
    "'vehicleConfiguration'  - have this information in other columns\n",
    "'Владение'              - 65.4% misssing in test\n",
    "'Состояние'             - single-valued column in test and in train\n",
    "'Таможня'               - single-valued column in test and in train"
   ],
   "metadata": {
    "collapsed": false,
    "pycharm": {
     "name": "#%% md\n"
    }
   }
  },
  {
   "cell_type": "code",
   "execution_count": 323,
   "outputs": [
    {
     "name": "stdout",
     "output_type": "stream",
     "text": [
      "<class 'pandas.core.frame.DataFrame'>\n",
      "RangeIndex: 42441 entries, 0 to 42440\n",
      "Data columns (total 22 columns):\n",
      " #   Column               Non-Null Count  Dtype  \n",
      "---  ------               --------------  -----  \n",
      " 0   №                    42441 non-null  int64  \n",
      " 1   bodyType             33328 non-null  object \n",
      " 2   brand                41768 non-null  object \n",
      " 3   color                41768 non-null  object \n",
      " 4   description          41768 non-null  object \n",
      " 5   engineDisplacement   32637 non-null  float64\n",
      " 6   enginePower          32757 non-null  float64\n",
      " 7   fuelType             32757 non-null  object \n",
      " 8   mileage              33328 non-null  float64\n",
      " 9   modelDate            40194 non-null  float64\n",
      " 10  model_name           41685 non-null  object \n",
      " 11  numberOfDoors        41685 non-null  float64\n",
      " 12  parsing_unixtime     42441 non-null  int64  \n",
      " 13  productionDate       41768 non-null  float64\n",
      " 14  super_gen            41685 non-null  object \n",
      " 15  vehicleTransmission  33328 non-null  object \n",
      " 16  vendor               0 non-null      float64\n",
      " 17  Владельцы            33328 non-null  object \n",
      " 18  ПТС                  33328 non-null  object \n",
      " 19  Привод               33328 non-null  object \n",
      " 20  Руль                 33328 non-null  object \n",
      " 21  Price                37790 non-null  float64\n",
      "dtypes: float64(8), int64(2), object(12)\n",
      "memory usage: 5.2+ MB\n",
      "<class 'pandas.core.frame.DataFrame'>\n",
      "RangeIndex: 34686 entries, 0 to 34685\n",
      "Data columns (total 20 columns):\n",
      " #   Column               Non-Null Count  Dtype \n",
      "---  ------               --------------  ----- \n",
      " 0   bodyType             34686 non-null  object\n",
      " 1   brand                34686 non-null  object\n",
      " 2   color                34686 non-null  object\n",
      " 3   description          34686 non-null  object\n",
      " 4   engineDisplacement   34686 non-null  object\n",
      " 5   enginePower          34686 non-null  object\n",
      " 6   fuelType             34686 non-null  object\n",
      " 7   mileage              34686 non-null  int64 \n",
      " 8   modelDate            34686 non-null  int64 \n",
      " 9   model_name           34686 non-null  object\n",
      " 10  numberOfDoors        34686 non-null  int64 \n",
      " 11  parsing_unixtime     34686 non-null  int64 \n",
      " 12  productionDate       34686 non-null  int64 \n",
      " 13  super_gen            34686 non-null  object\n",
      " 14  vehicleTransmission  34686 non-null  object\n",
      " 15  vendor               34686 non-null  object\n",
      " 16  Владельцы            34686 non-null  object\n",
      " 17  ПТС                  34685 non-null  object\n",
      " 18  Привод               34686 non-null  object\n",
      " 19  Руль                 34686 non-null  object\n",
      "dtypes: int64(5), object(15)\n",
      "memory usage: 3.3+ MB\n"
     ]
    }
   ],
   "source": [
    "# as a result - cols to be deleted from both sets:\n",
    "cols_to_del = ['car_url',\n",
    "                  'complectation_dict',\n",
    "                  'equipment_dict',\n",
    "                  'image',\n",
    "                  'model_info',\n",
    "                  'name',\n",
    "                  'priceCurrency',\n",
    "                  'sell_id',\n",
    "                  'vehicleConfiguration',\n",
    "                  'Владение',\n",
    "                  'Состояние',\n",
    "                  'Таможня']\n",
    "for df in dfs.values():\n",
    "    df.drop(columns=cols_to_del, inplace=True)\n",
    "    df.info()"
   ],
   "metadata": {
    "collapsed": false,
    "pycharm": {
     "name": "#%%\n"
    }
   }
  },
  {
   "cell_type": "markdown",
   "source": [
    "Ok, it's easier now)"
   ],
   "metadata": {
    "collapsed": false,
    "pycharm": {
     "name": "#%% md\n"
    }
   }
  },
  {
   "cell_type": "code",
   "execution_count": 324,
   "outputs": [],
   "source": [
    "# also delete 'number' column from train\n",
    "df_train.drop(columns='№', inplace=True)"
   ],
   "metadata": {
    "collapsed": false,
    "pycharm": {
     "name": "#%%\n"
    }
   }
  },
  {
   "cell_type": "code",
   "execution_count": 325,
   "outputs": [
    {
     "data": {
      "text/plain": "True"
     },
     "execution_count": 325,
     "metadata": {},
     "output_type": "execute_result"
    }
   ],
   "source": [
    "# and check if the columns are equal and with same order (without last target 'Price' in train)\n",
    "list(df_train.columns[:-1]) == list(df_test.columns)"
   ],
   "metadata": {
    "collapsed": false,
    "pycharm": {
     "name": "#%%\n"
    }
   }
  },
  {
   "cell_type": "markdown",
   "source": [
    "Ok, we have same features in train and in test."
   ],
   "metadata": {
    "collapsed": false,
    "pycharm": {
     "name": "#%% md\n"
    }
   }
  },
  {
   "cell_type": "markdown",
   "source": [
    "We also have some missing values 'bodyType' in train set, let's deal with them."
   ],
   "metadata": {
    "collapsed": false,
    "pycharm": {
     "name": "#%% md\n"
    }
   }
  },
  {
   "cell_type": "code",
   "execution_count": 326,
   "outputs": [
    {
     "data": {
      "text/plain": "(9113, 21)"
     },
     "execution_count": 326,
     "metadata": {},
     "output_type": "execute_result"
    }
   ],
   "source": [
    "df_train[df_train['bodyType'].isna()].shape"
   ],
   "metadata": {
    "collapsed": false,
    "pycharm": {
     "name": "#%%\n"
    }
   }
  },
  {
   "cell_type": "code",
   "execution_count": 327,
   "outputs": [
    {
     "data": {
      "text/plain": "      bodyType       brand       color  \\\n2          NaN       SKODA       белый   \n3          NaN       SKODA  коричневый   \n9          NaN       SKODA       синий   \n18         NaN       SKODA       синий   \n19         NaN       SKODA  коричневый   \n...        ...         ...         ...   \n42300      NaN  MITSUBISHI       белый   \n42302      NaN  MITSUBISHI       белый   \n42318      NaN         NaN         NaN   \n42377      NaN         NaN         NaN   \n42401      NaN         NaN         NaN   \n\n                                             description  engineDisplacement  \\\n2      В стоимость автомобиля включено дополнительное...                 NaN   \n3      ———————————————————————————\\r\\nФУНКЦИОНАЛЬНОЕ ...                 NaN   \n9      ———————————————————————————\\r\\nФУНКЦИОНАЛЬНОЕ ...                 NaN   \n18     В стоимость автомобиля включено дополнительное...                 NaN   \n19     В стоимость автомобиля включено дополнительное...                 NaN   \n...                                                  ...                 ...   \n42300  В честь 30-летия бренда Mitsubishi в России ст...                 NaN   \n42302  Специальные условия на покупку Mitsubishi ASX ...                 NaN   \n42318                                                NaN                 NaN   \n42377                                                NaN                 NaN   \n42401                                                NaN                 NaN   \n\n       enginePower fuelType  mileage  modelDate model_name  ...  \\\n2              NaN      NaN      NaN     2017.0      KAROQ  ...   \n3              NaN      NaN      NaN     2020.0      RAPID  ...   \n9              NaN      NaN      NaN        NaN      RAPID  ...   \n18             NaN      NaN      NaN     2020.0      RAPID  ...   \n19             NaN      NaN      NaN     2020.0      RAPID  ...   \n...            ...      ...      ...        ...        ...  ...   \n42300          NaN      NaN      NaN     2020.0        ASX  ...   \n42302          NaN      NaN      NaN     2020.0        ASX  ...   \n42318          NaN      NaN      NaN        NaN        NaN  ...   \n42377          NaN      NaN      NaN        NaN        NaN  ...   \n42401          NaN      NaN      NaN        NaN        NaN  ...   \n\n       parsing_unixtime  productionDate  \\\n2            1643813748          2022.0   \n3            1643813747          2022.0   \n9            1643813747          2022.0   \n18           1643813748          2022.0   \n19           1643813748          2022.0   \n...                 ...             ...   \n42300        1643823712          2021.0   \n42302        1643823712          2021.0   \n42318        1644142619             NaN   \n42377        1644142632             NaN   \n42401        1644142642             NaN   \n\n                                               super_gen vehicleTransmission  \\\n2      {'gear_type': 'FORWARD_CONTROL', 'engine_type'...                 NaN   \n3      {'gear_type': 'FORWARD_CONTROL', 'engine_type'...                 NaN   \n9      {'gear_type': 'FORWARD_CONTROL', 'engine_type'...                 NaN   \n18     {'gear_type': 'FORWARD_CONTROL', 'engine_type'...                 NaN   \n19     {'gear_type': 'FORWARD_CONTROL', 'engine_type'...                 NaN   \n...                                                  ...                 ...   \n42300  {'gear_type': 'ALL_WHEEL_DRIVE', 'engine_type'...                 NaN   \n42302  {'gear_type': 'FORWARD_CONTROL', 'engine_type'...                 NaN   \n42318                                                NaN                 NaN   \n42377                                                NaN                 NaN   \n42401                                                NaN                 NaN   \n\n      vendor  Владельцы  ПТС Привод Руль      Price  \n2        NaN        NaN  NaN    NaN  NaN  2655000.0  \n3        NaN        NaN  NaN    NaN  NaN  1335000.0  \n9        NaN        NaN  NaN    NaN  NaN        NaN  \n18       NaN        NaN  NaN    NaN  NaN  1815000.0  \n19       NaN        NaN  NaN    NaN  NaN  1535000.0  \n...      ...        ...  ...    ...  ...        ...  \n42300    NaN        NaN  NaN    NaN  NaN  2246000.0  \n42302    NaN        NaN  NaN    NaN  NaN  1600000.0  \n42318    NaN        NaN  NaN    NaN  NaN        NaN  \n42377    NaN        NaN  NaN    NaN  NaN        NaN  \n42401    NaN        NaN  NaN    NaN  NaN        NaN  \n\n[9113 rows x 21 columns]",
      "text/html": "<div>\n<style scoped>\n    .dataframe tbody tr th:only-of-type {\n        vertical-align: middle;\n    }\n\n    .dataframe tbody tr th {\n        vertical-align: top;\n    }\n\n    .dataframe thead th {\n        text-align: right;\n    }\n</style>\n<table border=\"1\" class=\"dataframe\">\n  <thead>\n    <tr style=\"text-align: right;\">\n      <th></th>\n      <th>bodyType</th>\n      <th>brand</th>\n      <th>color</th>\n      <th>description</th>\n      <th>engineDisplacement</th>\n      <th>enginePower</th>\n      <th>fuelType</th>\n      <th>mileage</th>\n      <th>modelDate</th>\n      <th>model_name</th>\n      <th>...</th>\n      <th>parsing_unixtime</th>\n      <th>productionDate</th>\n      <th>super_gen</th>\n      <th>vehicleTransmission</th>\n      <th>vendor</th>\n      <th>Владельцы</th>\n      <th>ПТС</th>\n      <th>Привод</th>\n      <th>Руль</th>\n      <th>Price</th>\n    </tr>\n  </thead>\n  <tbody>\n    <tr>\n      <th>2</th>\n      <td>NaN</td>\n      <td>SKODA</td>\n      <td>белый</td>\n      <td>В стоимость автомобиля включено дополнительное...</td>\n      <td>NaN</td>\n      <td>NaN</td>\n      <td>NaN</td>\n      <td>NaN</td>\n      <td>2017.0</td>\n      <td>KAROQ</td>\n      <td>...</td>\n      <td>1643813748</td>\n      <td>2022.0</td>\n      <td>{'gear_type': 'FORWARD_CONTROL', 'engine_type'...</td>\n      <td>NaN</td>\n      <td>NaN</td>\n      <td>NaN</td>\n      <td>NaN</td>\n      <td>NaN</td>\n      <td>NaN</td>\n      <td>2655000.0</td>\n    </tr>\n    <tr>\n      <th>3</th>\n      <td>NaN</td>\n      <td>SKODA</td>\n      <td>коричневый</td>\n      <td>———————————————————————————\\r\\nФУНКЦИОНАЛЬНОЕ ...</td>\n      <td>NaN</td>\n      <td>NaN</td>\n      <td>NaN</td>\n      <td>NaN</td>\n      <td>2020.0</td>\n      <td>RAPID</td>\n      <td>...</td>\n      <td>1643813747</td>\n      <td>2022.0</td>\n      <td>{'gear_type': 'FORWARD_CONTROL', 'engine_type'...</td>\n      <td>NaN</td>\n      <td>NaN</td>\n      <td>NaN</td>\n      <td>NaN</td>\n      <td>NaN</td>\n      <td>NaN</td>\n      <td>1335000.0</td>\n    </tr>\n    <tr>\n      <th>9</th>\n      <td>NaN</td>\n      <td>SKODA</td>\n      <td>синий</td>\n      <td>———————————————————————————\\r\\nФУНКЦИОНАЛЬНОЕ ...</td>\n      <td>NaN</td>\n      <td>NaN</td>\n      <td>NaN</td>\n      <td>NaN</td>\n      <td>NaN</td>\n      <td>RAPID</td>\n      <td>...</td>\n      <td>1643813747</td>\n      <td>2022.0</td>\n      <td>{'gear_type': 'FORWARD_CONTROL', 'engine_type'...</td>\n      <td>NaN</td>\n      <td>NaN</td>\n      <td>NaN</td>\n      <td>NaN</td>\n      <td>NaN</td>\n      <td>NaN</td>\n      <td>NaN</td>\n    </tr>\n    <tr>\n      <th>18</th>\n      <td>NaN</td>\n      <td>SKODA</td>\n      <td>синий</td>\n      <td>В стоимость автомобиля включено дополнительное...</td>\n      <td>NaN</td>\n      <td>NaN</td>\n      <td>NaN</td>\n      <td>NaN</td>\n      <td>2020.0</td>\n      <td>RAPID</td>\n      <td>...</td>\n      <td>1643813748</td>\n      <td>2022.0</td>\n      <td>{'gear_type': 'FORWARD_CONTROL', 'engine_type'...</td>\n      <td>NaN</td>\n      <td>NaN</td>\n      <td>NaN</td>\n      <td>NaN</td>\n      <td>NaN</td>\n      <td>NaN</td>\n      <td>1815000.0</td>\n    </tr>\n    <tr>\n      <th>19</th>\n      <td>NaN</td>\n      <td>SKODA</td>\n      <td>коричневый</td>\n      <td>В стоимость автомобиля включено дополнительное...</td>\n      <td>NaN</td>\n      <td>NaN</td>\n      <td>NaN</td>\n      <td>NaN</td>\n      <td>2020.0</td>\n      <td>RAPID</td>\n      <td>...</td>\n      <td>1643813748</td>\n      <td>2022.0</td>\n      <td>{'gear_type': 'FORWARD_CONTROL', 'engine_type'...</td>\n      <td>NaN</td>\n      <td>NaN</td>\n      <td>NaN</td>\n      <td>NaN</td>\n      <td>NaN</td>\n      <td>NaN</td>\n      <td>1535000.0</td>\n    </tr>\n    <tr>\n      <th>...</th>\n      <td>...</td>\n      <td>...</td>\n      <td>...</td>\n      <td>...</td>\n      <td>...</td>\n      <td>...</td>\n      <td>...</td>\n      <td>...</td>\n      <td>...</td>\n      <td>...</td>\n      <td>...</td>\n      <td>...</td>\n      <td>...</td>\n      <td>...</td>\n      <td>...</td>\n      <td>...</td>\n      <td>...</td>\n      <td>...</td>\n      <td>...</td>\n      <td>...</td>\n      <td>...</td>\n    </tr>\n    <tr>\n      <th>42300</th>\n      <td>NaN</td>\n      <td>MITSUBISHI</td>\n      <td>белый</td>\n      <td>В честь 30-летия бренда Mitsubishi в России ст...</td>\n      <td>NaN</td>\n      <td>NaN</td>\n      <td>NaN</td>\n      <td>NaN</td>\n      <td>2020.0</td>\n      <td>ASX</td>\n      <td>...</td>\n      <td>1643823712</td>\n      <td>2021.0</td>\n      <td>{'gear_type': 'ALL_WHEEL_DRIVE', 'engine_type'...</td>\n      <td>NaN</td>\n      <td>NaN</td>\n      <td>NaN</td>\n      <td>NaN</td>\n      <td>NaN</td>\n      <td>NaN</td>\n      <td>2246000.0</td>\n    </tr>\n    <tr>\n      <th>42302</th>\n      <td>NaN</td>\n      <td>MITSUBISHI</td>\n      <td>белый</td>\n      <td>Специальные условия на покупку Mitsubishi ASX ...</td>\n      <td>NaN</td>\n      <td>NaN</td>\n      <td>NaN</td>\n      <td>NaN</td>\n      <td>2020.0</td>\n      <td>ASX</td>\n      <td>...</td>\n      <td>1643823712</td>\n      <td>2021.0</td>\n      <td>{'gear_type': 'FORWARD_CONTROL', 'engine_type'...</td>\n      <td>NaN</td>\n      <td>NaN</td>\n      <td>NaN</td>\n      <td>NaN</td>\n      <td>NaN</td>\n      <td>NaN</td>\n      <td>1600000.0</td>\n    </tr>\n    <tr>\n      <th>42318</th>\n      <td>NaN</td>\n      <td>NaN</td>\n      <td>NaN</td>\n      <td>NaN</td>\n      <td>NaN</td>\n      <td>NaN</td>\n      <td>NaN</td>\n      <td>NaN</td>\n      <td>NaN</td>\n      <td>NaN</td>\n      <td>...</td>\n      <td>1644142619</td>\n      <td>NaN</td>\n      <td>NaN</td>\n      <td>NaN</td>\n      <td>NaN</td>\n      <td>NaN</td>\n      <td>NaN</td>\n      <td>NaN</td>\n      <td>NaN</td>\n      <td>NaN</td>\n    </tr>\n    <tr>\n      <th>42377</th>\n      <td>NaN</td>\n      <td>NaN</td>\n      <td>NaN</td>\n      <td>NaN</td>\n      <td>NaN</td>\n      <td>NaN</td>\n      <td>NaN</td>\n      <td>NaN</td>\n      <td>NaN</td>\n      <td>NaN</td>\n      <td>...</td>\n      <td>1644142632</td>\n      <td>NaN</td>\n      <td>NaN</td>\n      <td>NaN</td>\n      <td>NaN</td>\n      <td>NaN</td>\n      <td>NaN</td>\n      <td>NaN</td>\n      <td>NaN</td>\n      <td>NaN</td>\n    </tr>\n    <tr>\n      <th>42401</th>\n      <td>NaN</td>\n      <td>NaN</td>\n      <td>NaN</td>\n      <td>NaN</td>\n      <td>NaN</td>\n      <td>NaN</td>\n      <td>NaN</td>\n      <td>NaN</td>\n      <td>NaN</td>\n      <td>NaN</td>\n      <td>...</td>\n      <td>1644142642</td>\n      <td>NaN</td>\n      <td>NaN</td>\n      <td>NaN</td>\n      <td>NaN</td>\n      <td>NaN</td>\n      <td>NaN</td>\n      <td>NaN</td>\n      <td>NaN</td>\n      <td>NaN</td>\n    </tr>\n  </tbody>\n</table>\n<p>9113 rows × 21 columns</p>\n</div>"
     },
     "execution_count": 327,
     "metadata": {},
     "output_type": "execute_result"
    }
   ],
   "source": [
    "df_train[df_train['bodyType'].isna()]"
   ],
   "metadata": {
    "collapsed": false,
    "pycharm": {
     "name": "#%%\n"
    }
   }
  },
  {
   "cell_type": "code",
   "execution_count": 328,
   "outputs": [
    {
     "name": "stdout",
     "output_type": "stream",
     "text": [
      "0\n",
      "0\n",
      "0\n"
     ]
    }
   ],
   "source": [
    "no_bodyType_mask = df_train['bodyType'].isna()\n",
    "print(sum(no_bodyType_mask ^ df_train[no_bodyType_mask]['fuelType'].isna()))\n",
    "print(sum(no_bodyType_mask ^ df_train[no_bodyType_mask]['mileage'].isna()))\n",
    "print(sum(no_bodyType_mask ^ df_train[no_bodyType_mask]['vehicleTransmission'].isna()))"
   ],
   "metadata": {
    "collapsed": false,
    "pycharm": {
     "name": "#%%\n"
    }
   }
  },
  {
   "cell_type": "markdown",
   "source": [
    "Exactly these rows have a lot of missing values in other important columns - unfortunately not useful. Delete them."
   ],
   "metadata": {
    "collapsed": false,
    "pycharm": {
     "name": "#%% md\n"
    }
   }
  },
  {
   "cell_type": "code",
   "execution_count": 329,
   "outputs": [
    {
     "name": "stdout",
     "output_type": "stream",
     "text": [
      "<class 'pandas.core.frame.DataFrame'>\n",
      "RangeIndex: 33328 entries, 0 to 33327\n",
      "Data columns (total 21 columns):\n",
      " #   Column               Non-Null Count  Dtype  \n",
      "---  ------               --------------  -----  \n",
      " 0   bodyType             33328 non-null  object \n",
      " 1   brand                33328 non-null  object \n",
      " 2   color                33328 non-null  object \n",
      " 3   description          33328 non-null  object \n",
      " 4   engineDisplacement   32637 non-null  float64\n",
      " 5   enginePower          32757 non-null  float64\n",
      " 6   fuelType             32757 non-null  object \n",
      " 7   mileage              33328 non-null  float64\n",
      " 8   modelDate            32858 non-null  float64\n",
      " 9   model_name           33328 non-null  object \n",
      " 10  numberOfDoors        33328 non-null  float64\n",
      " 11  parsing_unixtime     33328 non-null  int64  \n",
      " 12  productionDate       33328 non-null  float64\n",
      " 13  super_gen            33328 non-null  object \n",
      " 14  vehicleTransmission  33328 non-null  object \n",
      " 15  vendor               0 non-null      float64\n",
      " 16  Владельцы            33328 non-null  object \n",
      " 17  ПТС                  33328 non-null  object \n",
      " 18  Привод               33328 non-null  object \n",
      " 19  Руль                 33328 non-null  object \n",
      " 20  Price                30558 non-null  float64\n",
      "dtypes: float64(8), int64(1), object(12)\n",
      "memory usage: 3.8+ MB\n"
     ]
    }
   ],
   "source": [
    "df_train.drop(labels=df_train[df_train['bodyType'].isna()].index, inplace=True)\n",
    "df_train.reset_index(drop=True, inplace=True)\n",
    "df_train.info()"
   ],
   "metadata": {
    "collapsed": false,
    "pycharm": {
     "name": "#%%\n"
    }
   }
  },
  {
   "cell_type": "markdown",
   "source": [
    "Now check and delete missing price rows in train set."
   ],
   "metadata": {
    "collapsed": false
   }
  },
  {
   "cell_type": "code",
   "execution_count": 330,
   "outputs": [
    {
     "data": {
      "text/plain": "(2770, 21)"
     },
     "execution_count": 330,
     "metadata": {},
     "output_type": "execute_result"
    }
   ],
   "source": [
    "df_train[df_train['Price'].isna()].shape"
   ],
   "metadata": {
    "collapsed": false,
    "pycharm": {
     "name": "#%%\n"
    }
   }
  },
  {
   "cell_type": "code",
   "execution_count": 331,
   "outputs": [
    {
     "data": {
      "text/plain": "                bodyType   brand        color  \\\n0                лифтбек   SKODA   коричневый   \n1                лифтбек   SKODA      красный   \n2                лифтбек   SKODA       чёрный   \n3      внедорожник 5 дв.   SKODA   коричневый   \n4                лифтбек   SKODA        белый   \n...                  ...     ...          ...   \n33323      хэтчбек 5 дв.  NISSAN  серебристый   \n33324      хэтчбек 5 дв.  NISSAN        белый   \n33325      хэтчбек 5 дв.  NISSAN      красный   \n33326      хэтчбек 5 дв.  NISSAN       чёрный   \n33327      хэтчбек 5 дв.  NISSAN       чёрный   \n\n                                             description  engineDisplacement  \\\n0      1 владелец.\\r\\nРодной пробег.\\r\\nПТС оригинал....                 1.8   \n1      Skoda Octavia\\r\\n\\r\\n❕ ПТС ОРИГИНАЛ\\r\\n❕ ДВА В...                 1.8   \n2      ЛОТ: 01306544\\r\\nЛокация №16\\r\\nФаворит Моторс...                 1.6   \n3      Продаю автомобиль отца, в идеальном состоянии ...                 1.6   \n4      Автомобиль продается от дилерского центра РРТ ...                 1.4   \n...                                                  ...                 ...   \n33323  Без шума, без дыма, без затратно, безопасно на...                 NaN   \n33324  Авто в Москве.\\r\\nНалог на автомобиль отсутств...                 NaN   \n33325  Автомобиль в хорошем состоянии, недавно из Япо...                 NaN   \n33326  Продаю самый любимый авто за все года владения...                 NaN   \n33327  8 делений, подогревы руля и сидений светлый са...                 NaN   \n\n       enginePower fuelType   mileage  modelDate model_name  ...  \\\n0            180.0   Бензин   98000.0     2013.0    OCTAVIA  ...   \n1            150.0   Бензин  239000.0     2000.0    OCTAVIA  ...   \n2            110.0   Бензин    2000.0     2020.0      RAPID  ...   \n3            110.0   Бензин   16000.0     2017.0      KAROQ  ...   \n4            122.0   Бензин  156000.0     2012.0      RAPID  ...   \n...            ...      ...       ...        ...        ...  ...   \n33323        109.0  электро   52000.0     2010.0       LEAF  ...   \n33324        109.0  электро  109000.0     2010.0       LEAF  ...   \n33325        109.0  электро   24000.0     2010.0       LEAF  ...   \n33326        109.0  электро  101000.0     2010.0       LEAF  ...   \n33327        109.0  электро  105000.0     2010.0       LEAF  ...   \n\n       parsing_unixtime  productionDate  \\\n0            1643813748          2014.0   \n1            1643813748          2008.0   \n2            1643813747          2020.0   \n3            1643813749          2021.0   \n4            1643813748          2017.0   \n...                 ...             ...   \n33323        1644142648          2013.0   \n33324        1644142648          2012.0   \n33325        1644142651          2011.0   \n33326        1644142651          2014.0   \n33327        1644142651          2012.0   \n\n                                               super_gen vehicleTransmission  \\\n0      {'gear_type': 'FORWARD_CONTROL', 'engine_type'...    роботизированная   \n1      {'gear_type': 'FORWARD_CONTROL', 'engine_type'...        механическая   \n2      {'gear_type': 'FORWARD_CONTROL', 'engine_type'...      автоматическая   \n3      {'gear_type': 'FORWARD_CONTROL', 'engine_type'...        механическая   \n4      {'gear_type': 'FORWARD_CONTROL', 'engine_type'...    роботизированная   \n...                                                  ...                 ...   \n33323  {'gear_type': 'FORWARD_CONTROL', 'engine_type'...      автоматическая   \n33324  {'gear_type': 'FORWARD_CONTROL', 'engine_type'...      автоматическая   \n33325  {'gear_type': 'FORWARD_CONTROL', 'engine_type'...      автоматическая   \n33326  {'gear_type': 'FORWARD_CONTROL', 'engine_type'...      автоматическая   \n33327  {'gear_type': 'FORWARD_CONTROL', 'engine_type'...      автоматическая   \n\n      vendor    Владельцы       ПТС    Привод    Руль      Price  \n0        NaN   1 владелец  Оригинал  передний   Левый  1030000.0  \n1        NaN  2 владельца  Оригинал  передний   Левый   400000.0  \n2        NaN   1 владелец  Оригинал  передний   Левый  1820000.0  \n3        NaN   1 владелец  Оригинал  передний   Левый        NaN  \n4        NaN  2 владельца  Оригинал  передний   Левый   730000.0  \n...      ...          ...       ...       ...     ...        ...  \n33323    NaN   1 владелец  Оригинал  передний  Правый   600000.0  \n33324    NaN   1 владелец  Оригинал  передний  Правый   570000.0  \n33325    NaN   1 владелец  Оригинал  передний  Правый   660000.0  \n33326    NaN   1 владелец  Оригинал  передний  Правый   980000.0  \n33327    NaN  2 владельца  Оригинал  передний  Правый   380000.0  \n\n[33328 rows x 21 columns]",
      "text/html": "<div>\n<style scoped>\n    .dataframe tbody tr th:only-of-type {\n        vertical-align: middle;\n    }\n\n    .dataframe tbody tr th {\n        vertical-align: top;\n    }\n\n    .dataframe thead th {\n        text-align: right;\n    }\n</style>\n<table border=\"1\" class=\"dataframe\">\n  <thead>\n    <tr style=\"text-align: right;\">\n      <th></th>\n      <th>bodyType</th>\n      <th>brand</th>\n      <th>color</th>\n      <th>description</th>\n      <th>engineDisplacement</th>\n      <th>enginePower</th>\n      <th>fuelType</th>\n      <th>mileage</th>\n      <th>modelDate</th>\n      <th>model_name</th>\n      <th>...</th>\n      <th>parsing_unixtime</th>\n      <th>productionDate</th>\n      <th>super_gen</th>\n      <th>vehicleTransmission</th>\n      <th>vendor</th>\n      <th>Владельцы</th>\n      <th>ПТС</th>\n      <th>Привод</th>\n      <th>Руль</th>\n      <th>Price</th>\n    </tr>\n  </thead>\n  <tbody>\n    <tr>\n      <th>0</th>\n      <td>лифтбек</td>\n      <td>SKODA</td>\n      <td>коричневый</td>\n      <td>1 владелец.\\r\\nРодной пробег.\\r\\nПТС оригинал....</td>\n      <td>1.8</td>\n      <td>180.0</td>\n      <td>Бензин</td>\n      <td>98000.0</td>\n      <td>2013.0</td>\n      <td>OCTAVIA</td>\n      <td>...</td>\n      <td>1643813748</td>\n      <td>2014.0</td>\n      <td>{'gear_type': 'FORWARD_CONTROL', 'engine_type'...</td>\n      <td>роботизированная</td>\n      <td>NaN</td>\n      <td>1 владелец</td>\n      <td>Оригинал</td>\n      <td>передний</td>\n      <td>Левый</td>\n      <td>1030000.0</td>\n    </tr>\n    <tr>\n      <th>1</th>\n      <td>лифтбек</td>\n      <td>SKODA</td>\n      <td>красный</td>\n      <td>Skoda Octavia\\r\\n\\r\\n❕ ПТС ОРИГИНАЛ\\r\\n❕ ДВА В...</td>\n      <td>1.8</td>\n      <td>150.0</td>\n      <td>Бензин</td>\n      <td>239000.0</td>\n      <td>2000.0</td>\n      <td>OCTAVIA</td>\n      <td>...</td>\n      <td>1643813748</td>\n      <td>2008.0</td>\n      <td>{'gear_type': 'FORWARD_CONTROL', 'engine_type'...</td>\n      <td>механическая</td>\n      <td>NaN</td>\n      <td>2 владельца</td>\n      <td>Оригинал</td>\n      <td>передний</td>\n      <td>Левый</td>\n      <td>400000.0</td>\n    </tr>\n    <tr>\n      <th>2</th>\n      <td>лифтбек</td>\n      <td>SKODA</td>\n      <td>чёрный</td>\n      <td>ЛОТ: 01306544\\r\\nЛокация №16\\r\\nФаворит Моторс...</td>\n      <td>1.6</td>\n      <td>110.0</td>\n      <td>Бензин</td>\n      <td>2000.0</td>\n      <td>2020.0</td>\n      <td>RAPID</td>\n      <td>...</td>\n      <td>1643813747</td>\n      <td>2020.0</td>\n      <td>{'gear_type': 'FORWARD_CONTROL', 'engine_type'...</td>\n      <td>автоматическая</td>\n      <td>NaN</td>\n      <td>1 владелец</td>\n      <td>Оригинал</td>\n      <td>передний</td>\n      <td>Левый</td>\n      <td>1820000.0</td>\n    </tr>\n    <tr>\n      <th>3</th>\n      <td>внедорожник 5 дв.</td>\n      <td>SKODA</td>\n      <td>коричневый</td>\n      <td>Продаю автомобиль отца, в идеальном состоянии ...</td>\n      <td>1.6</td>\n      <td>110.0</td>\n      <td>Бензин</td>\n      <td>16000.0</td>\n      <td>2017.0</td>\n      <td>KAROQ</td>\n      <td>...</td>\n      <td>1643813749</td>\n      <td>2021.0</td>\n      <td>{'gear_type': 'FORWARD_CONTROL', 'engine_type'...</td>\n      <td>механическая</td>\n      <td>NaN</td>\n      <td>1 владелец</td>\n      <td>Оригинал</td>\n      <td>передний</td>\n      <td>Левый</td>\n      <td>NaN</td>\n    </tr>\n    <tr>\n      <th>4</th>\n      <td>лифтбек</td>\n      <td>SKODA</td>\n      <td>белый</td>\n      <td>Автомобиль продается от дилерского центра РРТ ...</td>\n      <td>1.4</td>\n      <td>122.0</td>\n      <td>Бензин</td>\n      <td>156000.0</td>\n      <td>2012.0</td>\n      <td>RAPID</td>\n      <td>...</td>\n      <td>1643813748</td>\n      <td>2017.0</td>\n      <td>{'gear_type': 'FORWARD_CONTROL', 'engine_type'...</td>\n      <td>роботизированная</td>\n      <td>NaN</td>\n      <td>2 владельца</td>\n      <td>Оригинал</td>\n      <td>передний</td>\n      <td>Левый</td>\n      <td>730000.0</td>\n    </tr>\n    <tr>\n      <th>...</th>\n      <td>...</td>\n      <td>...</td>\n      <td>...</td>\n      <td>...</td>\n      <td>...</td>\n      <td>...</td>\n      <td>...</td>\n      <td>...</td>\n      <td>...</td>\n      <td>...</td>\n      <td>...</td>\n      <td>...</td>\n      <td>...</td>\n      <td>...</td>\n      <td>...</td>\n      <td>...</td>\n      <td>...</td>\n      <td>...</td>\n      <td>...</td>\n      <td>...</td>\n      <td>...</td>\n    </tr>\n    <tr>\n      <th>33323</th>\n      <td>хэтчбек 5 дв.</td>\n      <td>NISSAN</td>\n      <td>серебристый</td>\n      <td>Без шума, без дыма, без затратно, безопасно на...</td>\n      <td>NaN</td>\n      <td>109.0</td>\n      <td>электро</td>\n      <td>52000.0</td>\n      <td>2010.0</td>\n      <td>LEAF</td>\n      <td>...</td>\n      <td>1644142648</td>\n      <td>2013.0</td>\n      <td>{'gear_type': 'FORWARD_CONTROL', 'engine_type'...</td>\n      <td>автоматическая</td>\n      <td>NaN</td>\n      <td>1 владелец</td>\n      <td>Оригинал</td>\n      <td>передний</td>\n      <td>Правый</td>\n      <td>600000.0</td>\n    </tr>\n    <tr>\n      <th>33324</th>\n      <td>хэтчбек 5 дв.</td>\n      <td>NISSAN</td>\n      <td>белый</td>\n      <td>Авто в Москве.\\r\\nНалог на автомобиль отсутств...</td>\n      <td>NaN</td>\n      <td>109.0</td>\n      <td>электро</td>\n      <td>109000.0</td>\n      <td>2010.0</td>\n      <td>LEAF</td>\n      <td>...</td>\n      <td>1644142648</td>\n      <td>2012.0</td>\n      <td>{'gear_type': 'FORWARD_CONTROL', 'engine_type'...</td>\n      <td>автоматическая</td>\n      <td>NaN</td>\n      <td>1 владелец</td>\n      <td>Оригинал</td>\n      <td>передний</td>\n      <td>Правый</td>\n      <td>570000.0</td>\n    </tr>\n    <tr>\n      <th>33325</th>\n      <td>хэтчбек 5 дв.</td>\n      <td>NISSAN</td>\n      <td>красный</td>\n      <td>Автомобиль в хорошем состоянии, недавно из Япо...</td>\n      <td>NaN</td>\n      <td>109.0</td>\n      <td>электро</td>\n      <td>24000.0</td>\n      <td>2010.0</td>\n      <td>LEAF</td>\n      <td>...</td>\n      <td>1644142651</td>\n      <td>2011.0</td>\n      <td>{'gear_type': 'FORWARD_CONTROL', 'engine_type'...</td>\n      <td>автоматическая</td>\n      <td>NaN</td>\n      <td>1 владелец</td>\n      <td>Оригинал</td>\n      <td>передний</td>\n      <td>Правый</td>\n      <td>660000.0</td>\n    </tr>\n    <tr>\n      <th>33326</th>\n      <td>хэтчбек 5 дв.</td>\n      <td>NISSAN</td>\n      <td>чёрный</td>\n      <td>Продаю самый любимый авто за все года владения...</td>\n      <td>NaN</td>\n      <td>109.0</td>\n      <td>электро</td>\n      <td>101000.0</td>\n      <td>2010.0</td>\n      <td>LEAF</td>\n      <td>...</td>\n      <td>1644142651</td>\n      <td>2014.0</td>\n      <td>{'gear_type': 'FORWARD_CONTROL', 'engine_type'...</td>\n      <td>автоматическая</td>\n      <td>NaN</td>\n      <td>1 владелец</td>\n      <td>Оригинал</td>\n      <td>передний</td>\n      <td>Правый</td>\n      <td>980000.0</td>\n    </tr>\n    <tr>\n      <th>33327</th>\n      <td>хэтчбек 5 дв.</td>\n      <td>NISSAN</td>\n      <td>чёрный</td>\n      <td>8 делений, подогревы руля и сидений светлый са...</td>\n      <td>NaN</td>\n      <td>109.0</td>\n      <td>электро</td>\n      <td>105000.0</td>\n      <td>2010.0</td>\n      <td>LEAF</td>\n      <td>...</td>\n      <td>1644142651</td>\n      <td>2012.0</td>\n      <td>{'gear_type': 'FORWARD_CONTROL', 'engine_type'...</td>\n      <td>автоматическая</td>\n      <td>NaN</td>\n      <td>2 владельца</td>\n      <td>Оригинал</td>\n      <td>передний</td>\n      <td>Правый</td>\n      <td>380000.0</td>\n    </tr>\n  </tbody>\n</table>\n<p>33328 rows × 21 columns</p>\n</div>"
     },
     "execution_count": 331,
     "metadata": {},
     "output_type": "execute_result"
    }
   ],
   "source": [
    "df_train"
   ],
   "metadata": {
    "collapsed": false,
    "pycharm": {
     "name": "#%%\n"
    }
   }
  },
  {
   "cell_type": "code",
   "execution_count": 332,
   "outputs": [
    {
     "name": "stdout",
     "output_type": "stream",
     "text": [
      "<class 'pandas.core.frame.DataFrame'>\n",
      "RangeIndex: 30558 entries, 0 to 30557\n",
      "Data columns (total 21 columns):\n",
      " #   Column               Non-Null Count  Dtype  \n",
      "---  ------               --------------  -----  \n",
      " 0   bodyType             30558 non-null  object \n",
      " 1   brand                30558 non-null  object \n",
      " 2   color                30558 non-null  object \n",
      " 3   description          30558 non-null  object \n",
      " 4   engineDisplacement   30347 non-null  float64\n",
      " 5   enginePower          30466 non-null  float64\n",
      " 6   fuelType             30466 non-null  object \n",
      " 7   mileage              30558 non-null  float64\n",
      " 8   modelDate            30558 non-null  float64\n",
      " 9   model_name           30558 non-null  object \n",
      " 10  numberOfDoors        30558 non-null  float64\n",
      " 11  parsing_unixtime     30558 non-null  int64  \n",
      " 12  productionDate       30558 non-null  float64\n",
      " 13  super_gen            30558 non-null  object \n",
      " 14  vehicleTransmission  30558 non-null  object \n",
      " 15  vendor               0 non-null      float64\n",
      " 16  Владельцы            30558 non-null  object \n",
      " 17  ПТС                  30558 non-null  object \n",
      " 18  Привод               30558 non-null  object \n",
      " 19  Руль                 30558 non-null  object \n",
      " 20  Price                30558 non-null  float64\n",
      "dtypes: float64(8), int64(1), object(12)\n",
      "memory usage: 3.5+ MB\n"
     ]
    }
   ],
   "source": [
    "df_train.drop(labels=df_train[df_train['Price'].isna()].index, inplace=True)\n",
    "df_train.reset_index(drop=True, inplace=True)\n",
    "df_train.info()"
   ],
   "metadata": {
    "collapsed": false,
    "pycharm": {
     "name": "#%%\n"
    }
   }
  },
  {
   "cell_type": "markdown",
   "source": [
    "Also we have !equal amount! of missing values in 'enginePower' and 'fuelType' cols of train set. Let's see what are they."
   ],
   "metadata": {
    "collapsed": false
   }
  },
  {
   "cell_type": "code",
   "execution_count": 333,
   "outputs": [
    {
     "name": "stdout",
     "output_type": "stream",
     "text": [
      "(92, 21)\n",
      "(92, 21)\n"
     ]
    }
   ],
   "source": [
    "print(df_train[df_train['enginePower'].isna()].shape)\n",
    "print(df_train[df_train['fuelType'].isna()].shape)"
   ],
   "metadata": {
    "collapsed": false,
    "pycharm": {
     "name": "#%%\n"
    }
   }
  },
  {
   "cell_type": "code",
   "execution_count": 334,
   "outputs": [
    {
     "data": {
      "text/plain": "0"
     },
     "execution_count": 334,
     "metadata": {},
     "output_type": "execute_result"
    }
   ],
   "source": [
    "# not so much. Check if they are the same rows\n",
    "sum(df_train['enginePower'].isna() ^ df_train['fuelType'].isna())"
   ],
   "metadata": {
    "collapsed": false,
    "pycharm": {
     "name": "#%%\n"
    }
   }
  },
  {
   "cell_type": "code",
   "execution_count": 335,
   "outputs": [
    {
     "data": {
      "text/plain": "(30466, 21)"
     },
     "execution_count": 335,
     "metadata": {},
     "output_type": "execute_result"
    }
   ],
   "source": [
    "# yes, they are the same rows - delete them due to their small number anyhow\n",
    "df_train.drop(labels=df_train[df_train['enginePower'].isna()].index, inplace=True)\n",
    "df_train.reset_index(drop=True, inplace=True)\n",
    "df_train.shape"
   ],
   "metadata": {
    "collapsed": false,
    "pycharm": {
     "name": "#%%\n"
    }
   }
  },
  {
   "cell_type": "markdown",
   "source": [
    "### Check and process duplicates"
   ],
   "metadata": {
    "collapsed": false,
    "pycharm": {
     "name": "#%% md\n"
    }
   }
  },
  {
   "cell_type": "code",
   "execution_count": 336,
   "outputs": [
    {
     "data": {
      "text/plain": "39"
     },
     "execution_count": 336,
     "metadata": {},
     "output_type": "execute_result"
    }
   ],
   "source": [
    "sum(df_train.duplicated())"
   ],
   "metadata": {
    "collapsed": false,
    "pycharm": {
     "name": "#%%\n"
    }
   }
  },
  {
   "cell_type": "code",
   "execution_count": 337,
   "outputs": [
    {
     "data": {
      "text/plain": "                bodyType       brand       color  \\\n746              лифтбек       SKODA       белый   \n755              лифтбек       SKODA       белый   \n906              лифтбек       SKODA       белый   \n921              лифтбек       SKODA       белый   \n1432             лифтбек       SKODA       белый   \n...                  ...         ...         ...   \n26886              седан  VOLKSWAGEN       белый   \n29187  внедорожник 5 дв.  MITSUBISHI      чёрный   \n29191  внедорожник 5 дв.  MITSUBISHI      чёрный   \n29890  внедорожник 5 дв.  MITSUBISHI  коричневый   \n29900  внедорожник 5 дв.  MITSUBISHI  коричневый   \n\n                                             description  engineDisplacement  \\\n746    ...\\r\\nУникальное предложение на автомобили с ...                 1.0   \n755    ...\\r\\nУникальное предложение на автомобили с ...                 1.0   \n906    АВТОВЕК, являясь официальным дилером LADA, пре...                 1.8   \n921    АВТОВЕК, являясь официальным дилером LADA, пре...                 1.8   \n1432   ✅ ПТС оригинал\\r\\n\\r\\n✅Хорошее техническое сос...                 1.6   \n...                                                  ...                 ...   \n26886  Volkswagen Passat 2012г.в.  нaxодитcя по адреc...                 1.4   \n29187  Безопасность: 11. Обзор: 4. Комфорт: 15. Элеме...                 2.4   \n29191  Безопасность: 11. Обзор: 4. Комфорт: 15. Элеме...                 2.4   \n29890  Автомобиль в отличном состоянии. Бережная эксп...                 1.6   \n29900  Автомобиль в отличном состоянии. Бережная эксп...                 1.6   \n\n       enginePower fuelType   mileage  modelDate    model_name  ...  \\\n746          110.0   Бензин   39000.0     2017.0         RAPID  ...   \n755          110.0   Бензин   39000.0     2017.0         RAPID  ...   \n906          180.0   Бензин   61000.0     2017.0       OCTAVIA  ...   \n921          180.0   Бензин   61000.0     2017.0       OCTAVIA  ...   \n1432          90.0   Бензин   64000.0     2017.0         RAPID  ...   \n...            ...      ...       ...        ...           ...  ...   \n26886        122.0   Бензин  151000.0     2011.0        PASSAT  ...   \n29187        181.0   Дизель   31000.0     2015.0  PAJERO_SPORT  ...   \n29191        181.0   Дизель   31000.0     2015.0  PAJERO_SPORT  ...   \n29890        117.0   Бензин  180000.0     2010.0           ASX  ...   \n29900        117.0   Бензин  180000.0     2010.0           ASX  ...   \n\n       parsing_unixtime  productionDate  \\\n746          1643814001          2019.0   \n755          1643814001          2019.0   \n906          1643814054          2018.0   \n921          1643814054          2018.0   \n1432         1643814235          2017.0   \n...                 ...             ...   \n26886        1643822550          2012.0   \n29187        1643823314          2018.0   \n29191        1643823314          2018.0   \n29890        1643823556          2011.0   \n29900        1643823556          2011.0   \n\n                                               super_gen vehicleTransmission  \\\n746    {'gear_type': 'FORWARD_CONTROL', 'engine_type'...        механическая   \n755    {'gear_type': 'FORWARD_CONTROL', 'engine_type'...        механическая   \n906    {'gear_type': 'FORWARD_CONTROL', 'engine_type'...    роботизированная   \n921    {'gear_type': 'FORWARD_CONTROL', 'engine_type'...    роботизированная   \n1432   {'gear_type': 'FORWARD_CONTROL', 'engine_type'...        механическая   \n...                                                  ...                 ...   \n26886  {'gear_type': 'FORWARD_CONTROL', 'engine_type'...    роботизированная   \n29187  {'gear_type': 'ALL_WHEEL_DRIVE', 'engine_type'...      автоматическая   \n29191  {'gear_type': 'ALL_WHEEL_DRIVE', 'engine_type'...      автоматическая   \n29890  {'gear_type': 'FORWARD_CONTROL', 'engine_type'...        механическая   \n29900  {'gear_type': 'FORWARD_CONTROL', 'engine_type'...        механическая   \n\n      vendor    Владельцы       ПТС    Привод   Руль      Price  \n746      NaN  2 владельца  Оригинал  передний  Левый  1290000.0  \n755      NaN  2 владельца  Оригинал  передний  Левый  1290000.0  \n906      NaN   1 владелец  Оригинал  передний  Левый  1850000.0  \n921      NaN   1 владелец  Оригинал  передний  Левый  1850000.0  \n1432     NaN  3 или более  Оригинал  передний  Левый   920000.0  \n...      ...          ...       ...       ...    ...        ...  \n26886    NaN  3 или более  Оригинал  передний  Левый   790000.0  \n29187    NaN   1 владелец  Оригинал    полный  Левый  2700000.0  \n29191    NaN   1 владелец  Оригинал    полный  Левый  2700000.0  \n29890    NaN  2 владельца  Оригинал  передний  Левый   910000.0  \n29900    NaN  2 владельца  Оригинал  передний  Левый   910000.0  \n\n[78 rows x 21 columns]",
      "text/html": "<div>\n<style scoped>\n    .dataframe tbody tr th:only-of-type {\n        vertical-align: middle;\n    }\n\n    .dataframe tbody tr th {\n        vertical-align: top;\n    }\n\n    .dataframe thead th {\n        text-align: right;\n    }\n</style>\n<table border=\"1\" class=\"dataframe\">\n  <thead>\n    <tr style=\"text-align: right;\">\n      <th></th>\n      <th>bodyType</th>\n      <th>brand</th>\n      <th>color</th>\n      <th>description</th>\n      <th>engineDisplacement</th>\n      <th>enginePower</th>\n      <th>fuelType</th>\n      <th>mileage</th>\n      <th>modelDate</th>\n      <th>model_name</th>\n      <th>...</th>\n      <th>parsing_unixtime</th>\n      <th>productionDate</th>\n      <th>super_gen</th>\n      <th>vehicleTransmission</th>\n      <th>vendor</th>\n      <th>Владельцы</th>\n      <th>ПТС</th>\n      <th>Привод</th>\n      <th>Руль</th>\n      <th>Price</th>\n    </tr>\n  </thead>\n  <tbody>\n    <tr>\n      <th>746</th>\n      <td>лифтбек</td>\n      <td>SKODA</td>\n      <td>белый</td>\n      <td>...\\r\\nУникальное предложение на автомобили с ...</td>\n      <td>1.0</td>\n      <td>110.0</td>\n      <td>Бензин</td>\n      <td>39000.0</td>\n      <td>2017.0</td>\n      <td>RAPID</td>\n      <td>...</td>\n      <td>1643814001</td>\n      <td>2019.0</td>\n      <td>{'gear_type': 'FORWARD_CONTROL', 'engine_type'...</td>\n      <td>механическая</td>\n      <td>NaN</td>\n      <td>2 владельца</td>\n      <td>Оригинал</td>\n      <td>передний</td>\n      <td>Левый</td>\n      <td>1290000.0</td>\n    </tr>\n    <tr>\n      <th>755</th>\n      <td>лифтбек</td>\n      <td>SKODA</td>\n      <td>белый</td>\n      <td>...\\r\\nУникальное предложение на автомобили с ...</td>\n      <td>1.0</td>\n      <td>110.0</td>\n      <td>Бензин</td>\n      <td>39000.0</td>\n      <td>2017.0</td>\n      <td>RAPID</td>\n      <td>...</td>\n      <td>1643814001</td>\n      <td>2019.0</td>\n      <td>{'gear_type': 'FORWARD_CONTROL', 'engine_type'...</td>\n      <td>механическая</td>\n      <td>NaN</td>\n      <td>2 владельца</td>\n      <td>Оригинал</td>\n      <td>передний</td>\n      <td>Левый</td>\n      <td>1290000.0</td>\n    </tr>\n    <tr>\n      <th>906</th>\n      <td>лифтбек</td>\n      <td>SKODA</td>\n      <td>белый</td>\n      <td>АВТОВЕК, являясь официальным дилером LADA, пре...</td>\n      <td>1.8</td>\n      <td>180.0</td>\n      <td>Бензин</td>\n      <td>61000.0</td>\n      <td>2017.0</td>\n      <td>OCTAVIA</td>\n      <td>...</td>\n      <td>1643814054</td>\n      <td>2018.0</td>\n      <td>{'gear_type': 'FORWARD_CONTROL', 'engine_type'...</td>\n      <td>роботизированная</td>\n      <td>NaN</td>\n      <td>1 владелец</td>\n      <td>Оригинал</td>\n      <td>передний</td>\n      <td>Левый</td>\n      <td>1850000.0</td>\n    </tr>\n    <tr>\n      <th>921</th>\n      <td>лифтбек</td>\n      <td>SKODA</td>\n      <td>белый</td>\n      <td>АВТОВЕК, являясь официальным дилером LADA, пре...</td>\n      <td>1.8</td>\n      <td>180.0</td>\n      <td>Бензин</td>\n      <td>61000.0</td>\n      <td>2017.0</td>\n      <td>OCTAVIA</td>\n      <td>...</td>\n      <td>1643814054</td>\n      <td>2018.0</td>\n      <td>{'gear_type': 'FORWARD_CONTROL', 'engine_type'...</td>\n      <td>роботизированная</td>\n      <td>NaN</td>\n      <td>1 владелец</td>\n      <td>Оригинал</td>\n      <td>передний</td>\n      <td>Левый</td>\n      <td>1850000.0</td>\n    </tr>\n    <tr>\n      <th>1432</th>\n      <td>лифтбек</td>\n      <td>SKODA</td>\n      <td>белый</td>\n      <td>✅ ПТС оригинал\\r\\n\\r\\n✅Хорошее техническое сос...</td>\n      <td>1.6</td>\n      <td>90.0</td>\n      <td>Бензин</td>\n      <td>64000.0</td>\n      <td>2017.0</td>\n      <td>RAPID</td>\n      <td>...</td>\n      <td>1643814235</td>\n      <td>2017.0</td>\n      <td>{'gear_type': 'FORWARD_CONTROL', 'engine_type'...</td>\n      <td>механическая</td>\n      <td>NaN</td>\n      <td>3 или более</td>\n      <td>Оригинал</td>\n      <td>передний</td>\n      <td>Левый</td>\n      <td>920000.0</td>\n    </tr>\n    <tr>\n      <th>...</th>\n      <td>...</td>\n      <td>...</td>\n      <td>...</td>\n      <td>...</td>\n      <td>...</td>\n      <td>...</td>\n      <td>...</td>\n      <td>...</td>\n      <td>...</td>\n      <td>...</td>\n      <td>...</td>\n      <td>...</td>\n      <td>...</td>\n      <td>...</td>\n      <td>...</td>\n      <td>...</td>\n      <td>...</td>\n      <td>...</td>\n      <td>...</td>\n      <td>...</td>\n      <td>...</td>\n    </tr>\n    <tr>\n      <th>26886</th>\n      <td>седан</td>\n      <td>VOLKSWAGEN</td>\n      <td>белый</td>\n      <td>Volkswagen Passat 2012г.в.  нaxодитcя по адреc...</td>\n      <td>1.4</td>\n      <td>122.0</td>\n      <td>Бензин</td>\n      <td>151000.0</td>\n      <td>2011.0</td>\n      <td>PASSAT</td>\n      <td>...</td>\n      <td>1643822550</td>\n      <td>2012.0</td>\n      <td>{'gear_type': 'FORWARD_CONTROL', 'engine_type'...</td>\n      <td>роботизированная</td>\n      <td>NaN</td>\n      <td>3 или более</td>\n      <td>Оригинал</td>\n      <td>передний</td>\n      <td>Левый</td>\n      <td>790000.0</td>\n    </tr>\n    <tr>\n      <th>29187</th>\n      <td>внедорожник 5 дв.</td>\n      <td>MITSUBISHI</td>\n      <td>чёрный</td>\n      <td>Безопасность: 11. Обзор: 4. Комфорт: 15. Элеме...</td>\n      <td>2.4</td>\n      <td>181.0</td>\n      <td>Дизель</td>\n      <td>31000.0</td>\n      <td>2015.0</td>\n      <td>PAJERO_SPORT</td>\n      <td>...</td>\n      <td>1643823314</td>\n      <td>2018.0</td>\n      <td>{'gear_type': 'ALL_WHEEL_DRIVE', 'engine_type'...</td>\n      <td>автоматическая</td>\n      <td>NaN</td>\n      <td>1 владелец</td>\n      <td>Оригинал</td>\n      <td>полный</td>\n      <td>Левый</td>\n      <td>2700000.0</td>\n    </tr>\n    <tr>\n      <th>29191</th>\n      <td>внедорожник 5 дв.</td>\n      <td>MITSUBISHI</td>\n      <td>чёрный</td>\n      <td>Безопасность: 11. Обзор: 4. Комфорт: 15. Элеме...</td>\n      <td>2.4</td>\n      <td>181.0</td>\n      <td>Дизель</td>\n      <td>31000.0</td>\n      <td>2015.0</td>\n      <td>PAJERO_SPORT</td>\n      <td>...</td>\n      <td>1643823314</td>\n      <td>2018.0</td>\n      <td>{'gear_type': 'ALL_WHEEL_DRIVE', 'engine_type'...</td>\n      <td>автоматическая</td>\n      <td>NaN</td>\n      <td>1 владелец</td>\n      <td>Оригинал</td>\n      <td>полный</td>\n      <td>Левый</td>\n      <td>2700000.0</td>\n    </tr>\n    <tr>\n      <th>29890</th>\n      <td>внедорожник 5 дв.</td>\n      <td>MITSUBISHI</td>\n      <td>коричневый</td>\n      <td>Автомобиль в отличном состоянии. Бережная эксп...</td>\n      <td>1.6</td>\n      <td>117.0</td>\n      <td>Бензин</td>\n      <td>180000.0</td>\n      <td>2010.0</td>\n      <td>ASX</td>\n      <td>...</td>\n      <td>1643823556</td>\n      <td>2011.0</td>\n      <td>{'gear_type': 'FORWARD_CONTROL', 'engine_type'...</td>\n      <td>механическая</td>\n      <td>NaN</td>\n      <td>2 владельца</td>\n      <td>Оригинал</td>\n      <td>передний</td>\n      <td>Левый</td>\n      <td>910000.0</td>\n    </tr>\n    <tr>\n      <th>29900</th>\n      <td>внедорожник 5 дв.</td>\n      <td>MITSUBISHI</td>\n      <td>коричневый</td>\n      <td>Автомобиль в отличном состоянии. Бережная эксп...</td>\n      <td>1.6</td>\n      <td>117.0</td>\n      <td>Бензин</td>\n      <td>180000.0</td>\n      <td>2010.0</td>\n      <td>ASX</td>\n      <td>...</td>\n      <td>1643823556</td>\n      <td>2011.0</td>\n      <td>{'gear_type': 'FORWARD_CONTROL', 'engine_type'...</td>\n      <td>механическая</td>\n      <td>NaN</td>\n      <td>2 владельца</td>\n      <td>Оригинал</td>\n      <td>передний</td>\n      <td>Левый</td>\n      <td>910000.0</td>\n    </tr>\n  </tbody>\n</table>\n<p>78 rows × 21 columns</p>\n</div>"
     },
     "execution_count": 337,
     "metadata": {},
     "output_type": "execute_result"
    }
   ],
   "source": [
    "# what are they..?\n",
    "df_train[df_train.duplicated(keep=False)]"
   ],
   "metadata": {
    "collapsed": false,
    "pycharm": {
     "name": "#%%\n"
    }
   }
  },
  {
   "cell_type": "code",
   "execution_count": 338,
   "outputs": [
    {
     "data": {
      "text/plain": "(30427, 21)"
     },
     "execution_count": 338,
     "metadata": {},
     "output_type": "execute_result"
    }
   ],
   "source": [
    "# delete duplicates\n",
    "df_train.drop_duplicates(inplace=True)\n",
    "df_train.shape"
   ],
   "metadata": {
    "collapsed": false,
    "pycharm": {
     "name": "#%%\n"
    }
   }
  },
  {
   "cell_type": "code",
   "execution_count": 339,
   "outputs": [
    {
     "data": {
      "text/plain": "0"
     },
     "execution_count": 339,
     "metadata": {},
     "output_type": "execute_result"
    }
   ],
   "source": [
    "sum(df_test.duplicated())"
   ],
   "metadata": {
    "collapsed": false,
    "pycharm": {
     "name": "#%%\n"
    }
   }
  },
  {
   "cell_type": "markdown",
   "source": [
    "No duplicates in test set. Just for information."
   ],
   "metadata": {
    "collapsed": false,
    "pycharm": {
     "name": "#%% md\n"
    }
   }
  },
  {
   "cell_type": "code",
   "execution_count": 340,
   "outputs": [
    {
     "name": "stdout",
     "output_type": "stream",
     "text": [
      "****************************************************************************************************\n",
      "****************************************     TRAIN SET     ****************************************\n",
      "****************************************************************************************************\n",
      "<class 'pandas.core.frame.DataFrame'>\n",
      "Int64Index: 30427 entries, 0 to 30465\n",
      "Data columns (total 21 columns):\n",
      " #   Column               Non-Null Count  Dtype  \n",
      "---  ------               --------------  -----  \n",
      " 0   bodyType             30427 non-null  object \n",
      " 1   brand                30427 non-null  object \n",
      " 2   color                30427 non-null  object \n",
      " 3   description          30427 non-null  object \n",
      " 4   engineDisplacement   30308 non-null  float64\n",
      " 5   enginePower          30427 non-null  float64\n",
      " 6   fuelType             30427 non-null  object \n",
      " 7   mileage              30427 non-null  float64\n",
      " 8   modelDate            30427 non-null  float64\n",
      " 9   model_name           30427 non-null  object \n",
      " 10  numberOfDoors        30427 non-null  float64\n",
      " 11  parsing_unixtime     30427 non-null  int64  \n",
      " 12  productionDate       30427 non-null  float64\n",
      " 13  super_gen            30427 non-null  object \n",
      " 14  vehicleTransmission  30427 non-null  object \n",
      " 15  vendor               0 non-null      float64\n",
      " 16  Владельцы            30427 non-null  object \n",
      " 17  ПТС                  30427 non-null  object \n",
      " 18  Привод               30427 non-null  object \n",
      " 19  Руль                 30427 non-null  object \n",
      " 20  Price                30427 non-null  float64\n",
      "dtypes: float64(8), int64(1), object(12)\n",
      "memory usage: 3.7+ MB\n",
      "****************************************************************************************************\n",
      "*****************************************     TEST SET     *****************************************\n",
      "****************************************************************************************************\n",
      "<class 'pandas.core.frame.DataFrame'>\n",
      "RangeIndex: 34686 entries, 0 to 34685\n",
      "Data columns (total 20 columns):\n",
      " #   Column               Non-Null Count  Dtype \n",
      "---  ------               --------------  ----- \n",
      " 0   bodyType             34686 non-null  object\n",
      " 1   brand                34686 non-null  object\n",
      " 2   color                34686 non-null  object\n",
      " 3   description          34686 non-null  object\n",
      " 4   engineDisplacement   34686 non-null  object\n",
      " 5   enginePower          34686 non-null  object\n",
      " 6   fuelType             34686 non-null  object\n",
      " 7   mileage              34686 non-null  int64 \n",
      " 8   modelDate            34686 non-null  int64 \n",
      " 9   model_name           34686 non-null  object\n",
      " 10  numberOfDoors        34686 non-null  int64 \n",
      " 11  parsing_unixtime     34686 non-null  int64 \n",
      " 12  productionDate       34686 non-null  int64 \n",
      " 13  super_gen            34686 non-null  object\n",
      " 14  vehicleTransmission  34686 non-null  object\n",
      " 15  vendor               34686 non-null  object\n",
      " 16  Владельцы            34686 non-null  object\n",
      " 17  ПТС                  34685 non-null  object\n",
      " 18  Привод               34686 non-null  object\n",
      " 19  Руль                 34686 non-null  object\n",
      "dtypes: int64(5), object(15)\n",
      "memory usage: 3.3+ MB\n"
     ]
    }
   ],
   "source": [
    "print_framed('TRAIN SET')\n",
    "df_train.info()\n",
    "\n",
    "print_framed('TEST SET')\n",
    "df_test.info()"
   ],
   "metadata": {
    "collapsed": false,
    "pycharm": {
     "name": "#%%\n"
    }
   }
  },
  {
   "cell_type": "markdown",
   "source": [
    "So, we have 20 features with 30_427 rows in train (with little missings only in 'engineDisplacement' (electro cars)) and 34_686 in test.\n",
    "Although the size of cleaned train set is not so large it is although not so small, and for future models in this study project we want to use our own parsed train data."
   ],
   "metadata": {
    "collapsed": false,
    "pycharm": {
     "name": "#%% md\n"
    }
   }
  },
  {
   "cell_type": "markdown",
   "source": [
    "## EDA and feature preparation"
   ],
   "metadata": {
    "collapsed": false,
    "pycharm": {
     "name": "#%% md\n"
    }
   }
  },
  {
   "cell_type": "code",
   "execution_count": 341,
   "outputs": [
    {
     "data": {
      "text/plain": "          BodyType  Brand       Color  \\\n0          лифтбек  SKODA  коричневый   \n1          лифтбек  SKODA     красный   \n2          лифтбек  SKODA      чёрный   \n3          лифтбек  SKODA       белый   \n4  универсал 5 дв.  SKODA       серый   \n\n                                         Description  EngineDisplacement  \\\n0  1 владелец.\\r\\nРодной пробег.\\r\\nПТС оригинал....                 1.8   \n1  Skoda Octavia\\r\\n\\r\\n❕ ПТС ОРИГИНАЛ\\r\\n❕ ДВА В...                 1.8   \n2  ЛОТ: 01306544\\r\\nЛокация №16\\r\\nФаворит Моторс...                 1.6   \n3  Автомобиль продается от дилерского центра РРТ ...                 1.4   \n4  Автомобиль представлен официальным дилером GEE...                 1.8   \n\n   EnginePower FuelType   Mileage  ModelDate ModelName  ...  ParsingUnixtime  \\\n0        180.0   Бензин   98000.0     2013.0   OCTAVIA  ...       1643813748   \n1        150.0   Бензин  239000.0     2000.0   OCTAVIA  ...       1643813748   \n2        110.0   Бензин    2000.0     2020.0     RAPID  ...       1643813747   \n3        122.0   Бензин  156000.0     2012.0     RAPID  ...       1643813748   \n4        180.0   Бензин   50000.0     2013.0   OCTAVIA  ...       1643813749   \n\n   ProductionDate                                           SuperGen  \\\n0          2014.0  {'gear_type': 'FORWARD_CONTROL', 'engine_type'...   \n1          2008.0  {'gear_type': 'FORWARD_CONTROL', 'engine_type'...   \n2          2020.0  {'gear_type': 'FORWARD_CONTROL', 'engine_type'...   \n3          2017.0  {'gear_type': 'FORWARD_CONTROL', 'engine_type'...   \n4          2016.0  {'gear_type': 'ALL_WHEEL_DRIVE', 'engine_type'...   \n\n  VehicleTransmission Vendor       Owners       PTS     Drive  Wheel  \\\n0    роботизированная    NaN   1 владелец  Оригинал  передний  Левый   \n1        механическая    NaN  2 владельца  Оригинал  передний  Левый   \n2      автоматическая    NaN   1 владелец  Оригинал  передний  Левый   \n3    роботизированная    NaN  2 владельца  Оригинал  передний  Левый   \n4    роботизированная    NaN   1 владелец  Оригинал    полный  Левый   \n\n       Price  \n0  1030000.0  \n1   400000.0  \n2  1820000.0  \n3   730000.0  \n4  2250000.0  \n\n[5 rows x 21 columns]",
      "text/html": "<div>\n<style scoped>\n    .dataframe tbody tr th:only-of-type {\n        vertical-align: middle;\n    }\n\n    .dataframe tbody tr th {\n        vertical-align: top;\n    }\n\n    .dataframe thead th {\n        text-align: right;\n    }\n</style>\n<table border=\"1\" class=\"dataframe\">\n  <thead>\n    <tr style=\"text-align: right;\">\n      <th></th>\n      <th>BodyType</th>\n      <th>Brand</th>\n      <th>Color</th>\n      <th>Description</th>\n      <th>EngineDisplacement</th>\n      <th>EnginePower</th>\n      <th>FuelType</th>\n      <th>Mileage</th>\n      <th>ModelDate</th>\n      <th>ModelName</th>\n      <th>...</th>\n      <th>ParsingUnixtime</th>\n      <th>ProductionDate</th>\n      <th>SuperGen</th>\n      <th>VehicleTransmission</th>\n      <th>Vendor</th>\n      <th>Owners</th>\n      <th>PTS</th>\n      <th>Drive</th>\n      <th>Wheel</th>\n      <th>Price</th>\n    </tr>\n  </thead>\n  <tbody>\n    <tr>\n      <th>0</th>\n      <td>лифтбек</td>\n      <td>SKODA</td>\n      <td>коричневый</td>\n      <td>1 владелец.\\r\\nРодной пробег.\\r\\nПТС оригинал....</td>\n      <td>1.8</td>\n      <td>180.0</td>\n      <td>Бензин</td>\n      <td>98000.0</td>\n      <td>2013.0</td>\n      <td>OCTAVIA</td>\n      <td>...</td>\n      <td>1643813748</td>\n      <td>2014.0</td>\n      <td>{'gear_type': 'FORWARD_CONTROL', 'engine_type'...</td>\n      <td>роботизированная</td>\n      <td>NaN</td>\n      <td>1 владелец</td>\n      <td>Оригинал</td>\n      <td>передний</td>\n      <td>Левый</td>\n      <td>1030000.0</td>\n    </tr>\n    <tr>\n      <th>1</th>\n      <td>лифтбек</td>\n      <td>SKODA</td>\n      <td>красный</td>\n      <td>Skoda Octavia\\r\\n\\r\\n❕ ПТС ОРИГИНАЛ\\r\\n❕ ДВА В...</td>\n      <td>1.8</td>\n      <td>150.0</td>\n      <td>Бензин</td>\n      <td>239000.0</td>\n      <td>2000.0</td>\n      <td>OCTAVIA</td>\n      <td>...</td>\n      <td>1643813748</td>\n      <td>2008.0</td>\n      <td>{'gear_type': 'FORWARD_CONTROL', 'engine_type'...</td>\n      <td>механическая</td>\n      <td>NaN</td>\n      <td>2 владельца</td>\n      <td>Оригинал</td>\n      <td>передний</td>\n      <td>Левый</td>\n      <td>400000.0</td>\n    </tr>\n    <tr>\n      <th>2</th>\n      <td>лифтбек</td>\n      <td>SKODA</td>\n      <td>чёрный</td>\n      <td>ЛОТ: 01306544\\r\\nЛокация №16\\r\\nФаворит Моторс...</td>\n      <td>1.6</td>\n      <td>110.0</td>\n      <td>Бензин</td>\n      <td>2000.0</td>\n      <td>2020.0</td>\n      <td>RAPID</td>\n      <td>...</td>\n      <td>1643813747</td>\n      <td>2020.0</td>\n      <td>{'gear_type': 'FORWARD_CONTROL', 'engine_type'...</td>\n      <td>автоматическая</td>\n      <td>NaN</td>\n      <td>1 владелец</td>\n      <td>Оригинал</td>\n      <td>передний</td>\n      <td>Левый</td>\n      <td>1820000.0</td>\n    </tr>\n    <tr>\n      <th>3</th>\n      <td>лифтбек</td>\n      <td>SKODA</td>\n      <td>белый</td>\n      <td>Автомобиль продается от дилерского центра РРТ ...</td>\n      <td>1.4</td>\n      <td>122.0</td>\n      <td>Бензин</td>\n      <td>156000.0</td>\n      <td>2012.0</td>\n      <td>RAPID</td>\n      <td>...</td>\n      <td>1643813748</td>\n      <td>2017.0</td>\n      <td>{'gear_type': 'FORWARD_CONTROL', 'engine_type'...</td>\n      <td>роботизированная</td>\n      <td>NaN</td>\n      <td>2 владельца</td>\n      <td>Оригинал</td>\n      <td>передний</td>\n      <td>Левый</td>\n      <td>730000.0</td>\n    </tr>\n    <tr>\n      <th>4</th>\n      <td>универсал 5 дв.</td>\n      <td>SKODA</td>\n      <td>серый</td>\n      <td>Автомобиль представлен официальным дилером GEE...</td>\n      <td>1.8</td>\n      <td>180.0</td>\n      <td>Бензин</td>\n      <td>50000.0</td>\n      <td>2013.0</td>\n      <td>OCTAVIA</td>\n      <td>...</td>\n      <td>1643813749</td>\n      <td>2016.0</td>\n      <td>{'gear_type': 'ALL_WHEEL_DRIVE', 'engine_type'...</td>\n      <td>роботизированная</td>\n      <td>NaN</td>\n      <td>1 владелец</td>\n      <td>Оригинал</td>\n      <td>полный</td>\n      <td>Левый</td>\n      <td>2250000.0</td>\n    </tr>\n  </tbody>\n</table>\n<p>5 rows × 21 columns</p>\n</div>"
     },
     "metadata": {},
     "output_type": "display_data"
    },
    {
     "data": {
      "text/plain": "  BodyType  Brand       Color  \\\n0  лифтбек  SKODA       синий   \n1  лифтбек  SKODA      чёрный   \n2  лифтбек  SKODA       серый   \n3  лифтбек  SKODA  коричневый   \n4  лифтбек  SKODA       белый   \n\n                                         Description EngineDisplacement  \\\n0  Все автомобили, представленные в продаже, прох...            1.2 LTR   \n1  ЛОТ: 01217195\\nАвтопрага Север\\nДанный автомоб...            1.6 LTR   \n2  Все автомобили, представленные в продаже, прох...            1.8 LTR   \n3  КОМПЛЕКТ ЗИМНЕЙ (ЛЕТНЕЙ) РЕЗИНЫ ПО СЕЗОНУ В ПО...            1.6 LTR   \n4  ЛОТ: 01220889\\nАвтопрага Север\\n\\nВы можете по...            1.8 LTR   \n\n  EnginePower FuelType  Mileage  ModelDate ModelName  NumberOfDoors  \\\n0     105 N12   бензин    74000       2013   OCTAVIA              5   \n1     110 N12   бензин    60563       2017   OCTAVIA              5   \n2     152 N12   бензин    88000       2013    SUPERB              5   \n3     110 N12   бензин    95000       2013   OCTAVIA              5   \n4     152 N12   бензин    58536       2008   OCTAVIA              5   \n\n   ParsingUnixtime  ProductionDate  \\\n0       1603226273            2014   \n1       1603226277            2017   \n2       1603226280            2014   \n3       1603226284            2014   \n4       1603226288            2012   \n\n                                            SuperGen VehicleTransmission  \\\n0  {\"id\":\"10373605\",\"displacement\":1197,\"engine_t...    роботизированная   \n1  {\"id\":\"20913311\",\"displacement\":1598,\"engine_t...        механическая   \n2  {\"id\":\"20026323\",\"nameplate\":\"DSG\",\"displaceme...    роботизированная   \n3  {\"id\":\"20105521\",\"displacement\":1598,\"engine_t...      автоматическая   \n4  {\"id\":\"4561004\",\"displacement\":1798,\"engine_ty...      автоматическая   \n\n     Vendor       Owners       PTS     Drive  Wheel  \n0  EUROPEAN  3 или более  Оригинал  передний  Левый  \n1  EUROPEAN   1 владелец  Оригинал  передний  Левый  \n2  EUROPEAN   1 владелец  Оригинал  передний  Левый  \n3  EUROPEAN   1 владелец  Оригинал  передний  Левый  \n4  EUROPEAN   1 владелец  Оригинал  передний  Левый  ",
      "text/html": "<div>\n<style scoped>\n    .dataframe tbody tr th:only-of-type {\n        vertical-align: middle;\n    }\n\n    .dataframe tbody tr th {\n        vertical-align: top;\n    }\n\n    .dataframe thead th {\n        text-align: right;\n    }\n</style>\n<table border=\"1\" class=\"dataframe\">\n  <thead>\n    <tr style=\"text-align: right;\">\n      <th></th>\n      <th>BodyType</th>\n      <th>Brand</th>\n      <th>Color</th>\n      <th>Description</th>\n      <th>EngineDisplacement</th>\n      <th>EnginePower</th>\n      <th>FuelType</th>\n      <th>Mileage</th>\n      <th>ModelDate</th>\n      <th>ModelName</th>\n      <th>NumberOfDoors</th>\n      <th>ParsingUnixtime</th>\n      <th>ProductionDate</th>\n      <th>SuperGen</th>\n      <th>VehicleTransmission</th>\n      <th>Vendor</th>\n      <th>Owners</th>\n      <th>PTS</th>\n      <th>Drive</th>\n      <th>Wheel</th>\n    </tr>\n  </thead>\n  <tbody>\n    <tr>\n      <th>0</th>\n      <td>лифтбек</td>\n      <td>SKODA</td>\n      <td>синий</td>\n      <td>Все автомобили, представленные в продаже, прох...</td>\n      <td>1.2 LTR</td>\n      <td>105 N12</td>\n      <td>бензин</td>\n      <td>74000</td>\n      <td>2013</td>\n      <td>OCTAVIA</td>\n      <td>5</td>\n      <td>1603226273</td>\n      <td>2014</td>\n      <td>{\"id\":\"10373605\",\"displacement\":1197,\"engine_t...</td>\n      <td>роботизированная</td>\n      <td>EUROPEAN</td>\n      <td>3 или более</td>\n      <td>Оригинал</td>\n      <td>передний</td>\n      <td>Левый</td>\n    </tr>\n    <tr>\n      <th>1</th>\n      <td>лифтбек</td>\n      <td>SKODA</td>\n      <td>чёрный</td>\n      <td>ЛОТ: 01217195\\nАвтопрага Север\\nДанный автомоб...</td>\n      <td>1.6 LTR</td>\n      <td>110 N12</td>\n      <td>бензин</td>\n      <td>60563</td>\n      <td>2017</td>\n      <td>OCTAVIA</td>\n      <td>5</td>\n      <td>1603226277</td>\n      <td>2017</td>\n      <td>{\"id\":\"20913311\",\"displacement\":1598,\"engine_t...</td>\n      <td>механическая</td>\n      <td>EUROPEAN</td>\n      <td>1 владелец</td>\n      <td>Оригинал</td>\n      <td>передний</td>\n      <td>Левый</td>\n    </tr>\n    <tr>\n      <th>2</th>\n      <td>лифтбек</td>\n      <td>SKODA</td>\n      <td>серый</td>\n      <td>Все автомобили, представленные в продаже, прох...</td>\n      <td>1.8 LTR</td>\n      <td>152 N12</td>\n      <td>бензин</td>\n      <td>88000</td>\n      <td>2013</td>\n      <td>SUPERB</td>\n      <td>5</td>\n      <td>1603226280</td>\n      <td>2014</td>\n      <td>{\"id\":\"20026323\",\"nameplate\":\"DSG\",\"displaceme...</td>\n      <td>роботизированная</td>\n      <td>EUROPEAN</td>\n      <td>1 владелец</td>\n      <td>Оригинал</td>\n      <td>передний</td>\n      <td>Левый</td>\n    </tr>\n    <tr>\n      <th>3</th>\n      <td>лифтбек</td>\n      <td>SKODA</td>\n      <td>коричневый</td>\n      <td>КОМПЛЕКТ ЗИМНЕЙ (ЛЕТНЕЙ) РЕЗИНЫ ПО СЕЗОНУ В ПО...</td>\n      <td>1.6 LTR</td>\n      <td>110 N12</td>\n      <td>бензин</td>\n      <td>95000</td>\n      <td>2013</td>\n      <td>OCTAVIA</td>\n      <td>5</td>\n      <td>1603226284</td>\n      <td>2014</td>\n      <td>{\"id\":\"20105521\",\"displacement\":1598,\"engine_t...</td>\n      <td>автоматическая</td>\n      <td>EUROPEAN</td>\n      <td>1 владелец</td>\n      <td>Оригинал</td>\n      <td>передний</td>\n      <td>Левый</td>\n    </tr>\n    <tr>\n      <th>4</th>\n      <td>лифтбек</td>\n      <td>SKODA</td>\n      <td>белый</td>\n      <td>ЛОТ: 01220889\\nАвтопрага Север\\n\\nВы можете по...</td>\n      <td>1.8 LTR</td>\n      <td>152 N12</td>\n      <td>бензин</td>\n      <td>58536</td>\n      <td>2008</td>\n      <td>OCTAVIA</td>\n      <td>5</td>\n      <td>1603226288</td>\n      <td>2012</td>\n      <td>{\"id\":\"4561004\",\"displacement\":1798,\"engine_ty...</td>\n      <td>автоматическая</td>\n      <td>EUROPEAN</td>\n      <td>1 владелец</td>\n      <td>Оригинал</td>\n      <td>передний</td>\n      <td>Левый</td>\n    </tr>\n  </tbody>\n</table>\n</div>"
     },
     "metadata": {},
     "output_type": "display_data"
    }
   ],
   "source": [
    "# rename features for more convenience\n",
    "rename_dict = {fn:correct_name(fn) for fn in df_train.columns}\n",
    "rename_dict.update({'Владельцы':'Owners', 'ПТС':'PTS','Привод':'Drive', 'Руль':'Wheel'})\n",
    "\n",
    "for df in dfs.values():\n",
    "    df.rename(columns=rename_dict, inplace=True)\n",
    "    display(df.head())"
   ],
   "metadata": {
    "collapsed": false,
    "pycharm": {
     "name": "#%%\n"
    }
   }
  },
  {
   "cell_type": "code",
   "execution_count": 342,
   "outputs": [
    {
     "name": "stdout",
     "output_type": "stream",
     "text": [
      "20\n"
     ]
    }
   ],
   "source": [
    "# define different types of columns based on previous analysis\n",
    "num_cols = OrderedSet(['EngineDisplacement', 'EnginePower', 'Mileage', 'ModelDate', 'ProductionDate']) # let date cols be numeric for now\n",
    "cat_cols = OrderedSet(['BodyType', 'Brand', 'Color', 'FuelType', 'ModelName', 'NumberOfDoors', 'VehicleTransmission', 'Owners', 'Drive'])\n",
    "bin_cols = OrderedSet(['Vendor', 'PTS', 'Wheel'])\n",
    "qual_cols = cat_cols | bin_cols\n",
    "other_cols = OrderedSet(['ParsingUnixtime', 'Description', 'SuperGen'])\n",
    "print(len(num_cols | cat_cols | bin_cols | other_cols))\n",
    "\n",
    "# And prepare useful cols list\n",
    "# columns to log transform\n",
    "cols_to_log = OrderedSet()\n",
    "# columns to delete\n",
    "cols_to_del = OrderedSet()\n"
   ],
   "metadata": {
    "collapsed": false,
    "pycharm": {
     "name": "#%%\n"
    }
   }
  },
  {
   "cell_type": "code",
   "execution_count": 342,
   "outputs": [],
   "source": [],
   "metadata": {
    "collapsed": false,
    "pycharm": {
     "name": "#%%\n"
    }
   }
  },
  {
   "cell_type": "markdown",
   "source": [
    "### \"Feature-generators\""
   ],
   "metadata": {
    "collapsed": false,
    "pycharm": {
     "name": "#%% md\n"
    }
   }
  },
  {
   "cell_type": "markdown",
   "source": [
    "#### 'SuperGen'"
   ],
   "metadata": {
    "collapsed": false,
    "pycharm": {
     "name": "#%% md\n"
    }
   }
  },
  {
   "cell_type": "markdown",
   "source": [
    "We have only one feature that can easily generate new features (\"feature-generator\") - 'SuperGen'"
   ],
   "metadata": {
    "collapsed": false,
    "pycharm": {
     "name": "#%% md\n"
    }
   }
  },
  {
   "cell_type": "code",
   "execution_count": 342,
   "outputs": [],
   "source": [],
   "metadata": {
    "collapsed": false,
    "pycharm": {
     "name": "#%%\n"
    }
   }
  },
  {
   "cell_type": "code",
   "execution_count": 343,
   "outputs": [
    {
     "data": {
      "text/plain": "\"{'gear_type': 'FORWARD_CONTROL', 'engine_type': 'GASOLINE', 'transmission': 'ROBOT', 'id': '10373615', 'displacement': 1798, 'power': 180, 'power_kvt': 132, 'human_name': '1.8 AMT (180 л.с.)', 'acceleration': 7.4, 'clearance_min': 155, 'fuel_rate': 6.1}\""
     },
     "execution_count": 343,
     "metadata": {},
     "output_type": "execute_result"
    }
   ],
   "source": [
    "df_train['SuperGen'][0]"
   ],
   "metadata": {
    "collapsed": false,
    "pycharm": {
     "name": "#%%\n"
    }
   }
  },
  {
   "cell_type": "code",
   "execution_count": 344,
   "outputs": [
    {
     "data": {
      "text/plain": "'{\"id\":\"10373605\",\"displacement\":1197,\"engine_type\":\"GASOLINE\",\"gear_type\":\"FORWARD_CONTROL\",\"transmission\":\"ROBOT\",\"power\":105,\"power_kvt\":77,\"human_name\":\"1.2 AMT (105 л.с.)\",\"acceleration\":10.5,\"clearance_min\":155,\"fuel_rate\":5}'"
     },
     "execution_count": 344,
     "metadata": {},
     "output_type": "execute_result"
    }
   ],
   "source": [
    "df_test['SuperGen'][0]"
   ],
   "metadata": {
    "collapsed": false,
    "pycharm": {
     "name": "#%%\n"
    }
   }
  },
  {
   "cell_type": "markdown",
   "source": [
    "The most useful new features from SuperGen and potentially not correlated with already existing in other features of train set is probably only 'fuel_rate'. Based on it we can define fuel-effectiveness new features. Feature 'acceleration' would be high correlated with EnginePower and clearence seems to have a little influence on target compared to other \"main\" features. So decide for the this project to take only this feature from SuperGen."
   ],
   "metadata": {
    "collapsed": false,
    "pycharm": {
     "name": "#%% md\n"
    }
   }
  },
  {
   "cell_type": "code",
   "execution_count": 345,
   "outputs": [
    {
     "data": {
      "text/plain": "23853"
     },
     "execution_count": 345,
     "metadata": {},
     "output_type": "execute_result"
    }
   ],
   "source": [
    "fuel_rate_col = df_train['SuperGen'].map(eval).apply(lambda d: d.get('fuel_rate', np.nan))\n",
    "fuel_rate_col.isna().sum()"
   ],
   "metadata": {
    "collapsed": false,
    "pycharm": {
     "name": "#%%\n"
    }
   }
  },
  {
   "cell_type": "markdown",
   "source": [
    "Unfortunately there are too many missing values in 'fuel_rate' - not useful, don't take it."
   ],
   "metadata": {
    "collapsed": false,
    "pycharm": {
     "name": "#%% md\n"
    }
   }
  },
  {
   "cell_type": "markdown",
   "source": [
    "### Numeric features"
   ],
   "metadata": {
    "collapsed": false,
    "pycharm": {
     "name": "#%% md\n"
    }
   }
  },
  {
   "cell_type": "markdown",
   "source": [
    "#### 'EngineDisplacement'"
   ],
   "metadata": {
    "collapsed": false,
    "pycharm": {
     "name": "#%% md\n"
    }
   }
  },
  {
   "cell_type": "code",
   "execution_count": 346,
   "outputs": [
    {
     "data": {
      "text/plain": "2.0 LTR    7391\n1.6 LTR    4973\n3.0 LTR    3915\n1.8 LTR    3349\n2.5 LTR    2477\n2.4 LTR    1745\n3.5 LTR    1710\n1.4 LTR    1635\n1.5 LTR     725\n1.2 LTR     485\n4.4 LTR     447\n2.8 LTR     384\n4.7 LTR     377\n1.3 LTR     365\n5.5 LTR     361\n4.0 LTR     356\n3.2 LTR     348\n4.5 LTR     346\n2.1 LTR     271\n3.7 LTR     242\n2.2 LTR     236\n4.2 LTR     228\n1.9 LTR     221\n2.3 LTR     203\n2.7 LTR     189\n3.6 LTR     183\n5.6 LTR     170\n5.0 LTR     158\n5.7 LTR     135\n2.9 LTR     131\n4.6 LTR     108\n3.1 LTR      88\n4.8 LTR      84\n1.7 LTR      59\n1.0 LTR      57\n3.8 LTR      57\n2.6 LTR      55\n LTR         55\n6.0 LTR      53\n0.7 LTR      53\n3.3 LTR      44\n3.4 LTR      36\n4.1 LTR      35\n4.3 LTR      32\n5.4 LTR      31\n6.2 LTR      28\n5.2 LTR      12\n5.9 LTR      12\n6.3 LTR       8\n5.8 LTR       7\n6.6 LTR       6\n4.9 LTR       4\n1.1 LTR       4\n3.9 LTR       1\n5.3 LTR       1\nName: EngineDisplacement, dtype: int64"
     },
     "metadata": {},
     "output_type": "display_data"
    },
    {
     "data": {
      "text/plain": "2.0    8365\n1.6    3377\n3.0    2903\n3.5    1805\n2.5    1764\n2.4    1630\n1.4    1527\n1.8    1427\n1.5    1270\n1.2     508\n2.2     415\n1.3     408\n5.7     369\n4.0     361\n2.1     342\n5.6     275\n2.7     264\n4.5     253\n2.3     244\n4.6     225\n4.7     222\n4.4     221\n3.7     216\n2.8     211\n3.2     211\n1.9     178\n1.0     150\n5.5     140\n3.3     136\n5.0     135\n2.9     130\n0.7     122\nNaN     119\n4.2      79\n1.7      72\n3.6      66\n4.1      61\n4.3      48\n6.0      40\n3.4      28\n3.8      28\n3.1      14\n2.6      14\n5.4      11\n6.3      11\n5.9       7\n5.2       6\n4.8       5\n6.6       3\n6.2       3\n4.9       3\n1.1       3\n5.8       2\nName: EngineDisplacement, dtype: int64"
     },
     "metadata": {},
     "output_type": "display_data"
    }
   ],
   "source": [
    "display(df_test['EngineDisplacement'].value_counts(dropna=False))\n",
    "display(df_train['EngineDisplacement'].value_counts(dropna=False))"
   ],
   "metadata": {
    "collapsed": false,
    "pycharm": {
     "name": "#%%\n"
    }
   }
  },
  {
   "cell_type": "code",
   "execution_count": 347,
   "outputs": [
    {
     "data": {
      "text/plain": "0.7      53\n1.0      57\n1.1       4\n1.2     485\n1.3     365\n1.4    1635\n1.5     725\n1.6    4973\n1.7      59\n1.8    3349\n1.9     221\n2.0    7391\n2.1     271\n2.2     236\n2.3     203\n2.4    1745\n2.5    2477\n2.6      55\n2.7     189\n2.8     384\n2.9     131\n3.0    3915\n3.1      88\n3.2     348\n3.3      44\n3.4      36\n3.5    1710\n3.6     183\n3.7     242\n3.8      57\n3.9       1\n4.0     356\n4.1      35\n4.2     228\n4.3      32\n4.4     447\n4.5     346\n4.6     108\n4.7     377\n4.8      84\n4.9       4\n5.0     158\n5.2      12\n5.3       1\n5.4      31\n5.5     361\n5.6     170\n5.7     135\n5.8       7\n5.9      12\n6.0      53\n6.2      28\n6.3       8\n6.6       6\nNaN      55\nName: EngineDisplacement, dtype: int64"
     },
     "execution_count": 347,
     "metadata": {},
     "output_type": "execute_result"
    }
   ],
   "source": [
    "# need to correct test data\n",
    "df_test['EngineDisplacement'] = pd.to_numeric(df_test['EngineDisplacement'].apply(lambda s: s.replace(' LTR','')), errors='coerce')\n",
    "df_test['EngineDisplacement'].value_counts(dropna=False).sort_index()"
   ],
   "metadata": {
    "collapsed": false,
    "pycharm": {
     "name": "#%%\n"
    }
   }
  },
  {
   "cell_type": "code",
   "execution_count": 348,
   "outputs": [
    {
     "data": {
      "text/plain": "электро    55\nName: FuelType, dtype: int64"
     },
     "execution_count": 348,
     "metadata": {},
     "output_type": "execute_result"
    }
   ],
   "source": [
    "df_test[df_test['EngineDisplacement'].isna()]['FuelType'].value_counts()"
   ],
   "metadata": {
    "collapsed": false,
    "pycharm": {
     "name": "#%%\n"
    }
   }
  },
  {
   "cell_type": "code",
   "execution_count": 349,
   "outputs": [
    {
     "data": {
      "text/plain": "электро    119\nName: FuelType, dtype: int64"
     },
     "execution_count": 349,
     "metadata": {},
     "output_type": "execute_result"
    }
   ],
   "source": [
    "df_train[df_train['EngineDisplacement'].isna()]['FuelType'].value_counts()"
   ],
   "metadata": {
    "collapsed": false,
    "pycharm": {
     "name": "#%%\n"
    }
   }
  },
  {
   "cell_type": "code",
   "execution_count": 350,
   "outputs": [
    {
     "name": "stdout",
     "output_type": "stream",
     "text": [
      "Test EngineDisplacement range [0.7, 6.6]\n",
      "Train EngineDisplacement range [0.7, 6.6]\n"
     ]
    }
   ],
   "source": [
    "print(f'Test EngineDisplacement range [{min(df_test[\"EngineDisplacement\"])}, {max(df_test[\"EngineDisplacement\"])}]')\n",
    "print(f'Train EngineDisplacement range [{min(df_train[\"EngineDisplacement\"])}, {max(df_train[\"EngineDisplacement\"])}]')"
   ],
   "metadata": {
    "collapsed": false,
    "pycharm": {
     "name": "#%%\n"
    }
   }
  },
  {
   "cell_type": "code",
   "execution_count": 351,
   "outputs": [
    {
     "name": "stdout",
     "output_type": "stream",
     "text": [
      "-1.0     119\n",
      " 0.7     122\n",
      " 1.0     150\n",
      " 1.1       3\n",
      " 1.2     508\n",
      " 1.3     408\n",
      " 1.4    1527\n",
      " 1.5    1270\n",
      " 1.6    3377\n",
      " 1.7      72\n",
      " 1.8    1427\n",
      " 1.9     178\n",
      " 2.0    8365\n",
      " 2.1     342\n",
      " 2.2     415\n",
      " 2.3     244\n",
      " 2.4    1630\n",
      " 2.5    1764\n",
      " 2.6      14\n",
      " 2.7     264\n",
      " 2.8     211\n",
      " 2.9     130\n",
      " 3.0    2903\n",
      " 3.1      14\n",
      " 3.2     211\n",
      " 3.3     136\n",
      " 3.4      28\n",
      " 3.5    1805\n",
      " 3.6      66\n",
      " 3.7     216\n",
      " 3.8      28\n",
      " 4.0     361\n",
      " 4.1      61\n",
      " 4.2      79\n",
      " 4.3      48\n",
      " 4.4     221\n",
      " 4.5     253\n",
      " 4.6     225\n",
      " 4.7     222\n",
      " 4.8       5\n",
      " 4.9       3\n",
      " 5.0     135\n",
      " 5.2       6\n",
      " 5.4      11\n",
      " 5.5     140\n",
      " 5.6     275\n",
      " 5.7     369\n",
      " 5.8       2\n",
      " 5.9       7\n",
      " 6.0      40\n",
      " 6.2       3\n",
      " 6.3      11\n",
      " 6.6       3\n",
      "Name: EngineDisplacement, dtype: int64\n",
      "-1.0      55\n",
      " 0.7      53\n",
      " 1.0      57\n",
      " 1.1       4\n",
      " 1.2     485\n",
      " 1.3     365\n",
      " 1.4    1635\n",
      " 1.5     725\n",
      " 1.6    4973\n",
      " 1.7      59\n",
      " 1.8    3349\n",
      " 1.9     221\n",
      " 2.0    7391\n",
      " 2.1     271\n",
      " 2.2     236\n",
      " 2.3     203\n",
      " 2.4    1745\n",
      " 2.5    2477\n",
      " 2.6      55\n",
      " 2.7     189\n",
      " 2.8     384\n",
      " 2.9     131\n",
      " 3.0    3915\n",
      " 3.1      88\n",
      " 3.2     348\n",
      " 3.3      44\n",
      " 3.4      36\n",
      " 3.5    1710\n",
      " 3.6     183\n",
      " 3.7     242\n",
      " 3.8      57\n",
      " 3.9       1\n",
      " 4.0     356\n",
      " 4.1      35\n",
      " 4.2     228\n",
      " 4.3      32\n",
      " 4.4     447\n",
      " 4.5     346\n",
      " 4.6     108\n",
      " 4.7     377\n",
      " 4.8      84\n",
      " 4.9       4\n",
      " 5.0     158\n",
      " 5.2      12\n",
      " 5.3       1\n",
      " 5.4      31\n",
      " 5.5     361\n",
      " 5.6     170\n",
      " 5.7     135\n",
      " 5.8       7\n",
      " 5.9      12\n",
      " 6.0      53\n",
      " 6.2      28\n",
      " 6.3       8\n",
      " 6.6       6\n",
      "Name: EngineDisplacement, dtype: int64\n"
     ]
    }
   ],
   "source": [
    "# need to fill NaN for electro car EngineDisplacement (for both sets)\n",
    "# fill it with -1 as attempt to indicate for algorithm that there is no EngineDisplacement for electro car..\n",
    "# !Q! for Mentor\n",
    "for df in dfs.values():\n",
    "    df.fillna({'EngineDisplacement':-1}, inplace=True)\n",
    "    print(df['EngineDisplacement'].value_counts(dropna=False).sort_index())"
   ],
   "metadata": {
    "collapsed": false,
    "pycharm": {
     "name": "#%%\n"
    }
   }
  },
  {
   "cell_type": "code",
   "execution_count": 352,
   "outputs": [
    {
     "name": "stdout",
     "output_type": "stream",
     "text": [
      "Visualising function analyze_num_col() was skipped due to false value of visualisation flag VISUALIZE (defined in Constants section).\n"
     ]
    }
   ],
   "source": [
    "# analyze this numeric column for train and test\n",
    "analyze_num_col(df_train, 'EngineDisplacement', 'Price', hist_bins=50, hist2d_y_bins=15)"
   ],
   "metadata": {
    "collapsed": false,
    "pycharm": {
     "name": "#%%\n"
    }
   }
  },
  {
   "cell_type": "code",
   "execution_count": 353,
   "outputs": [
    {
     "name": "stdout",
     "output_type": "stream",
     "text": [
      "Visualising function analyze_num_col() was skipped due to false value of visualisation flag VISUALIZE (defined in Constants section).\n"
     ]
    }
   ],
   "source": [
    "analyze_num_col(df_test, 'EngineDisplacement', hist_bins=50)"
   ],
   "metadata": {
    "collapsed": false,
    "pycharm": {
     "name": "#%%\n"
    }
   }
  },
  {
   "cell_type": "markdown",
   "source": [
    "Conclusion:\n",
    "Not so many outliers, not so far from IQR and values are real - no need to handle them.\n",
    "Skewness is moderate - choose not to use log transformation.\n",
    "Train and test data are very similar for this feature - good for us."
   ],
   "metadata": {
    "collapsed": false,
    "pycharm": {
     "name": "#%% md\n"
    }
   }
  },
  {
   "cell_type": "markdown",
   "source": [
    "#### 'EnginePower'"
   ],
   "metadata": {
    "collapsed": false,
    "pycharm": {
     "name": "#%% md\n"
    }
   }
  },
  {
   "cell_type": "code",
   "execution_count": 354,
   "outputs": [
    {
     "data": {
      "text/plain": "100 N12     88\n101 N12    136\n102 N12    832\n103 N12     79\n104 N12      9\n          ... \n95 N12      72\n96 N12       2\n97 N12      70\n98 N12     569\n99 N12     118\nName: EnginePower, Length: 315, dtype: int64"
     },
     "metadata": {},
     "output_type": "display_data"
    },
    {
     "data": {
      "text/plain": "45.0      9\n46.0      4\n49.0      6\n50.0     11\n52.0      4\n         ..\n639.0     5\n646.0     1\n700.0     3\n843.0     2\n900.0     3\nName: EnginePower, Length: 315, dtype: int64"
     },
     "metadata": {},
     "output_type": "display_data"
    }
   ],
   "source": [
    "display(df_test['EnginePower'].value_counts(dropna=False).sort_index())\n",
    "display(df_train['EnginePower'].value_counts(dropna=False).sort_index())"
   ],
   "metadata": {
    "collapsed": false,
    "pycharm": {
     "name": "#%%\n"
    }
   }
  },
  {
   "cell_type": "code",
   "execution_count": 355,
   "outputs": [
    {
     "data": {
      "text/plain": "0"
     },
     "execution_count": 355,
     "metadata": {},
     "output_type": "execute_result"
    }
   ],
   "source": [
    "# need to correct test data\n",
    "df_test['EnginePower'] = pd.to_numeric(df_test['EnginePower'].apply(lambda s: s.replace(' N12','')), errors='coerce')\n",
    "sum(df_test['EnginePower'].isna())"
   ],
   "metadata": {
    "collapsed": false,
    "pycharm": {
     "name": "#%%\n"
    }
   }
  },
  {
   "cell_type": "markdown",
   "source": [
    "Great - no missing values after correction. Let's analyze this feature."
   ],
   "metadata": {
    "collapsed": false,
    "pycharm": {
     "name": "#%% md\n"
    }
   }
  },
  {
   "cell_type": "code",
   "execution_count": 356,
   "outputs": [
    {
     "name": "stdout",
     "output_type": "stream",
     "text": [
      "Visualising function analyze_num_col() was skipped due to false value of visualisation flag VISUALIZE (defined in Constants section).\n"
     ]
    }
   ],
   "source": [
    "analyze_num_col(df_train, 'EnginePower', 'Price', hist_bins=50, need_log=True, hist2d_y_bins=10)"
   ],
   "metadata": {
    "collapsed": false,
    "pycharm": {
     "name": "#%%\n"
    }
   }
  },
  {
   "cell_type": "code",
   "execution_count": 357,
   "outputs": [
    {
     "data": {
      "text/plain": "0"
     },
     "execution_count": 357,
     "metadata": {},
     "output_type": "execute_result"
    }
   ],
   "source": [
    "# skewness of distribution improved significantly after log transform, but correlation is less for log transformed feature\n",
    "# though try to add to log_transform features instead of source feature\n",
    "cols_to_log.add('EnginePower')"
   ],
   "metadata": {
    "collapsed": false,
    "pycharm": {
     "name": "#%%\n"
    }
   }
  },
  {
   "cell_type": "code",
   "execution_count": 358,
   "outputs": [
    {
     "name": "stdout",
     "output_type": "stream",
     "text": [
      "Visualising function analyze_num_col() was skipped due to false value of visualisation flag VISUALIZE (defined in Constants section).\n"
     ]
    }
   ],
   "source": [
    "# let's see on test\n",
    "analyze_num_col(df_test, 'EnginePower', hist_bins=50)"
   ],
   "metadata": {
    "collapsed": false,
    "pycharm": {
     "name": "#%%\n"
    }
   }
  },
  {
   "cell_type": "markdown",
   "source": [
    "Conclusion:\n",
    "Not so many outliers, not so far from IQR and values are real - no need to handle them.\n",
    "Skewness significantly improved after log transform - choose to use log transformation for this column before learning.\n",
    "Train and test data are similar for this feature."
   ],
   "metadata": {
    "collapsed": false,
    "pycharm": {
     "name": "#%% md\n"
    }
   }
  },
  {
   "cell_type": "markdown",
   "source": [
    "'Mileage'"
   ],
   "metadata": {
    "collapsed": false,
    "pycharm": {
     "name": "#%% md\n"
    }
   }
  },
  {
   "cell_type": "code",
   "execution_count": 359,
   "outputs": [
    {
     "name": "stdout",
     "output_type": "stream",
     "text": [
      "Visualising function analyze_num_col() was skipped due to false value of visualisation flag VISUALIZE (defined in Constants section).\n"
     ]
    }
   ],
   "source": [
    "analyze_num_col(df_train, 'Mileage', 'Price', hist_bins=50, need_log=True, hist2d_y_bins=7)"
   ],
   "metadata": {
    "collapsed": false,
    "pycharm": {
     "name": "#%%\n"
    }
   }
  },
  {
   "cell_type": "code",
   "execution_count": 360,
   "outputs": [
    {
     "name": "stdout",
     "output_type": "stream",
     "text": [
      "Visualising function analyze_num_col() was skipped due to false value of visualisation flag VISUALIZE (defined in Constants section).\n"
     ]
    }
   ],
   "source": [
    "# let's see on test\n",
    "analyze_num_col(df_test, 'Mileage', hist_bins=50)"
   ],
   "metadata": {
    "collapsed": false,
    "pycharm": {
     "name": "#%%\n"
    }
   }
  },
  {
   "cell_type": "markdown",
   "source": [
    "Conclusion:\n",
    "Not so many outliers and values are real - no need to handle them.\n",
    "Distribition is skewed a little (test even less) and log transform not helped much - choose not to use log transformation. BUT we'll see the distribution of mileage per year later.\n",
    "Price (expectedly) gradually decrease  with mileage growing and without any noticeable exceptions.\n",
    "Train and test data are rather similar for this feature, but have some differences in statistics."
   ],
   "metadata": {
    "collapsed": false,
    "pycharm": {
     "name": "#%% md\n"
    }
   }
  },
  {
   "cell_type": "markdown",
   "source": [
    "#### 'ModelDate' and 'ProductionDate'"
   ],
   "metadata": {
    "collapsed": false,
    "pycharm": {
     "name": "#%% md\n"
    }
   }
  },
  {
   "cell_type": "markdown",
   "source": [
    "'ModelDate'"
   ],
   "metadata": {
    "collapsed": false,
    "pycharm": {
     "name": "#%% md\n"
    }
   }
  },
  {
   "cell_type": "code",
   "execution_count": 361,
   "outputs": [
    {
     "data": {
      "text/plain": "1937.0       1\n1958.0       1\n1968.0       2\n1974.0      11\n1975.0       5\n1978.0       3\n1979.0       2\n1980.0       3\n1981.0       1\n1982.0      30\n1983.0      46\n1984.0      11\n1985.0      11\n1986.0      64\n1987.0      44\n1988.0      64\n1989.0      30\n1990.0      67\n1991.0     145\n1992.0      54\n1993.0      98\n1994.0     110\n1995.0     294\n1996.0     163\n1997.0     305\n1998.0     261\n1999.0     260\n2000.0     381\n2001.0     270\n2002.0     503\n2003.0     307\n2004.0     429\n2005.0    1092\n2006.0    1275\n2007.0    1085\n2008.0    1406\n2009.0    1228\n2010.0    1724\n2011.0    1770\n2012.0    2047\n2013.0    2569\n2014.0    2433\n2015.0    2721\n2016.0    1294\n2017.0    2867\n2018.0    1176\n2019.0     772\n2020.0     943\n2021.0      49\nName: ModelDate, dtype: int64"
     },
     "execution_count": 361,
     "metadata": {},
     "output_type": "execute_result"
    }
   ],
   "source": [
    "df_train['ModelDate'].value_counts(dropna=False).sort_index()"
   ],
   "metadata": {
    "collapsed": false,
    "pycharm": {
     "name": "#%%\n"
    }
   }
  },
  {
   "cell_type": "code",
   "execution_count": 362,
   "outputs": [
    {
     "name": "stdout",
     "output_type": "stream",
     "text": [
      "Visualising function vis_analyze_num_col() was skipped due to false value of visualisation flag VISUALIZE (defined in Constants section).\n"
     ]
    }
   ],
   "source": [
    "# there are extreme values in Price column, so will use \"almost all\" quantile for more detailed picture\n",
    "vis_analyze_num_col(df_train[df_train['Price'] < df_train['Price'].quantile(0.99)], 'ModelDate', 'Price', hist_bins=50, hist2d_x_bins=100, hist2d_y_bins=30)"
   ],
   "metadata": {
    "collapsed": false,
    "pycharm": {
     "name": "#%%\n"
    }
   }
  },
  {
   "cell_type": "code",
   "execution_count": 363,
   "outputs": [
    {
     "data": {
      "text/plain": "                Price                    \n               median          mean count\nModelDate                                \n2019.0      5485000.0  6.233459e+06   772\n2020.0      1820000.0  3.205260e+06   943\n2021.0     10160000.0  9.379592e+06    49",
      "text/html": "<div>\n<style scoped>\n    .dataframe tbody tr th:only-of-type {\n        vertical-align: middle;\n    }\n\n    .dataframe tbody tr th {\n        vertical-align: top;\n    }\n\n    .dataframe thead tr th {\n        text-align: left;\n    }\n\n    .dataframe thead tr:last-of-type th {\n        text-align: right;\n    }\n</style>\n<table border=\"1\" class=\"dataframe\">\n  <thead>\n    <tr>\n      <th></th>\n      <th colspan=\"3\" halign=\"left\">Price</th>\n    </tr>\n    <tr>\n      <th></th>\n      <th>median</th>\n      <th>mean</th>\n      <th>count</th>\n    </tr>\n    <tr>\n      <th>ModelDate</th>\n      <th></th>\n      <th></th>\n      <th></th>\n    </tr>\n  </thead>\n  <tbody>\n    <tr>\n      <th>2019.0</th>\n      <td>5485000.0</td>\n      <td>6.233459e+06</td>\n      <td>772</td>\n    </tr>\n    <tr>\n      <th>2020.0</th>\n      <td>1820000.0</td>\n      <td>3.205260e+06</td>\n      <td>943</td>\n    </tr>\n    <tr>\n      <th>2021.0</th>\n      <td>10160000.0</td>\n      <td>9.379592e+06</td>\n      <td>49</td>\n    </tr>\n  </tbody>\n</table>\n</div>"
     },
     "metadata": {},
     "output_type": "display_data"
    },
    {
     "name": "stdout",
     "output_type": "stream",
     "text": [
      "Visualising function analyze_num_col() was skipped due to false value of visualisation flag VISUALIZE (defined in Constants section).\n"
     ]
    }
   ],
   "source": [
    "# we see unexpectedly low average price for cars with model date 2020.. let's look more thouroughly\n",
    "display(df_train[['ModelDate','Price']].groupby('ModelDate').agg({'Price':['median','mean','count']}).iloc[-3:])\n",
    "analyze_num_col(df_train[df_train['ModelDate'] == 2020],'Price')"
   ],
   "metadata": {
    "collapsed": false,
    "pycharm": {
     "name": "#%%\n"
    }
   }
  },
  {
   "cell_type": "code",
   "execution_count": 364,
   "outputs": [],
   "source": [
    "# rally, many cars with relatively low price with 2020 model date.., but only one point and no clear reason - probably the noise"
   ],
   "metadata": {
    "collapsed": false,
    "pycharm": {
     "name": "#%%\n"
    }
   }
  },
  {
   "cell_type": "code",
   "execution_count": 365,
   "outputs": [
    {
     "data": {
      "text/plain": "1904       1\n1934       1\n1936       2\n1937       3\n1938       7\n        ... \n2016     899\n2017    1134\n2018     391\n2019     142\n2020       5\nName: ModelDate, Length: 66, dtype: int64"
     },
     "execution_count": 365,
     "metadata": {},
     "output_type": "execute_result"
    }
   ],
   "source": [
    "# in test\n",
    "df_test['ModelDate'].value_counts(dropna=False).sort_index()"
   ],
   "metadata": {
    "collapsed": false,
    "pycharm": {
     "name": "#%%\n"
    }
   }
  },
  {
   "cell_type": "code",
   "execution_count": 366,
   "outputs": [
    {
     "name": "stdout",
     "output_type": "stream",
     "text": [
      "Visualising function analyze_num_col() was skipped due to false value of visualisation flag VISUALIZE (defined in Constants section).\n"
     ]
    }
   ],
   "source": [
    "analyze_num_col(df_test, 'ModelDate', hist_bins=50)"
   ],
   "metadata": {
    "collapsed": false,
    "pycharm": {
     "name": "#%%\n"
    }
   }
  },
  {
   "cell_type": "markdown",
   "source": [
    "Conclusion:\n",
    "We have noticeable decrease in price for car model date <= 2011 - 10 year old model (psychological barrier?).\n",
    "**PNF(Possible New Feature)** Maybe should add new feature for 10 year and older car model, BUT it's better to judge on production date, besides as we see later this feature is highly correlated with production date and less correlated with price, so will be deleted. UPD: decide to create this feature even despite deletion of this source feature.\n",
    "Also we can see a \"rarity effect\" (however for only several points)\n",
    "**PNF** Maybe it's a reason to create categorical or binary feature for old cars. But again let's see on production date. UPD: decided to create for production date.\n",
    "Train and test histogram are similar, but we have some (very few) points in test for very old cars that we lack in train. Just several values - don’t think that’s gonna be a problem.\n"
   ],
   "metadata": {
    "collapsed": false,
    "pycharm": {
     "name": "#%% md\n"
    }
   }
  },
  {
   "cell_type": "markdown",
   "source": [
    "'ProductionDate'"
   ],
   "metadata": {
    "collapsed": false,
    "pycharm": {
     "name": "#%% md\n"
    }
   }
  },
  {
   "cell_type": "code",
   "execution_count": 367,
   "outputs": [
    {
     "data": {
      "text/plain": "1948.0       1\n1959.0       1\n1968.0       2\n1974.0       1\n1978.0       3\n1981.0       5\n1982.0       2\n1983.0       6\n1984.0      19\n1985.0      22\n1986.0      25\n1987.0      27\n1988.0      34\n1989.0      41\n1990.0      41\n1991.0      61\n1992.0      74\n1993.0      96\n1994.0      85\n1995.0      97\n1996.0     133\n1997.0     194\n1998.0     259\n1999.0     267\n2000.0     267\n2001.0     284\n2002.0     299\n2003.0     350\n2004.0     357\n2005.0     436\n2006.0     614\n2007.0    1110\n2008.0    1450\n2009.0     533\n2010.0    1074\n2011.0    1669\n2012.0    2056\n2013.0    2058\n2014.0    2140\n2015.0    1793\n2016.0    1968\n2017.0    2382\n2018.0    2894\n2019.0    2010\n2020.0    1844\n2021.0    1339\n2022.0       4\nName: ProductionDate, dtype: int64"
     },
     "execution_count": 367,
     "metadata": {},
     "output_type": "execute_result"
    }
   ],
   "source": [
    "df_train['ProductionDate'].value_counts(dropna=False).sort_index()"
   ],
   "metadata": {
    "collapsed": false,
    "pycharm": {
     "name": "#%%\n"
    }
   }
  },
  {
   "cell_type": "code",
   "execution_count": 368,
   "outputs": [
    {
     "name": "stdout",
     "output_type": "stream",
     "text": [
      "Visualising function analyze_num_col() was skipped due to false value of visualisation flag VISUALIZE (defined in Constants section).\n"
     ]
    }
   ],
   "source": [
    "# there are extreme values in Price column, so use quantile for more detailed picture\n",
    "analyze_num_col(df_train[df_train['Price'] < df_train['Price'].quantile(0.98)], 'ProductionDate', 'Price', hist_bins=50, hist2d_y_bins=50)"
   ],
   "metadata": {
    "collapsed": false,
    "pycharm": {
     "name": "#%%\n"
    }
   }
  },
  {
   "cell_type": "markdown",
   "source": [
    "Conclusion:\n",
    "Don't see any clear \"steps\" or drawdowns in price for production date - rather smooth dependency. As expected positively correlated with price.\n",
    "Also see \"rarity effect\".\n",
    "**PNF** So maybe create and try a new feature for really old cars (e.g. for prod date < ~1975, age > 45)."
   ],
   "metadata": {
    "collapsed": false,
    "pycharm": {
     "name": "#%% md\n"
    }
   }
  },
  {
   "cell_type": "markdown",
   "source": [
    "#### Correlation analysis"
   ],
   "metadata": {
    "collapsed": false,
    "pycharm": {
     "name": "#%% md\n"
    }
   }
  },
  {
   "cell_type": "code",
   "execution_count": 369,
   "outputs": [
    {
     "data": {
      "text/plain": "<AxesSubplot:>"
     },
     "execution_count": 369,
     "metadata": {},
     "output_type": "execute_result"
    },
    {
     "data": {
      "text/plain": "<Figure size 640x480 with 2 Axes>",
      "image/png": "[encoded data removed]"
     },
     "metadata": {},
     "output_type": "display_data"
    }
   ],
   "source": [
    "sb.heatmap(df_train[num_cols | {'Price'}].corr(), vmin=-1, vmax=1, annot=True, cmap='coolwarm')"
   ],
   "metadata": {
    "collapsed": false,
    "pycharm": {
     "name": "#%%\n"
    }
   }
  },
  {
   "cell_type": "markdown",
   "source": [
    "We see high correlation for 'EngineDisplacement' and 'EnginePower', and for 'ModelDate' and 'ProductionDate' features. Leave those which have greater correlation with target."
   ],
   "metadata": {
    "collapsed": false,
    "pycharm": {
     "name": "#%% md\n"
    }
   }
  },
  {
   "cell_type": "code",
   "execution_count": 370,
   "outputs": [],
   "source": [
    "cols_to_del |= {'EngineDisplacement', 'ModelDate'}"
   ],
   "metadata": {
    "collapsed": false,
    "pycharm": {
     "name": "#%%\n"
    }
   }
  },
  {
   "cell_type": "markdown",
   "source": [
    "Now let's see on mileage per year distributions:"
   ],
   "metadata": {
    "collapsed": false,
    "pycharm": {
     "name": "#%% md\n"
    }
   }
  },
  {
   "cell_type": "code",
   "execution_count": 371,
   "outputs": [
    {
     "data": {
      "text/plain": "<Figure size 1500x600 with 1 Axes>",
      "image/png": "[encoded data removed]"
     },
     "metadata": {},
     "output_type": "display_data"
    },
    {
     "data": {
      "text/plain": "<Figure size 1500x600 with 1 Axes>",
      "image/png": "[encoded data removed]"
     },
     "metadata": {},
     "output_type": "display_data"
    }
   ],
   "source": [
    "\n",
    "for df in dfs.values():\n",
    "    plt.figure(figsize=(15, 6))\n",
    "    for year in df['ProductionDate'].value_counts().index[:7]:\n",
    "        df[df['ProductionDate'] == year]['Mileage'].hist(bins=50, alpha=0.5)\n"
   ],
   "metadata": {
    "collapsed": false,
    "pycharm": {
     "name": "#%%\n"
    }
   }
  },
  {
   "cell_type": "markdown",
   "source": [
    "Distributions looks rather normal.\n",
    "**PNF** So would be useful to create new feature for mileage per year."
   ],
   "metadata": {
    "collapsed": false,
    "pycharm": {
     "name": "#%% md\n"
    }
   }
  },
  {
   "cell_type": "markdown",
   "source": [
    "### Categorical features"
   ],
   "metadata": {
    "collapsed": false,
    "pycharm": {
     "name": "#%% md\n"
    }
   }
  },
  {
   "cell_type": "markdown",
   "source": [
    "#### 'BodyType'"
   ],
   "metadata": {
    "collapsed": false,
    "pycharm": {
     "name": "#%% md\n"
    }
   }
  },
  {
   "cell_type": "code",
   "execution_count": 372,
   "outputs": [
    {
     "data": {
      "text/plain": "внедорожник 5 дв.          14238\nседан                       9023\nлифтбек                     2424\nхэтчбек 5 дв.               1697\nуниверсал 5 дв.              881\nминивэн                      589\nкомпактвэн                   433\nкупе                         428\nхэтчбек 3 дв.                230\nпикап двойная кабина         226\nвнедорожник 3 дв.             55\nкупе-хардтоп                  53\nкабриолет                     51\nмикровэн                      35\nфургон                        28\nродстер                       24\nседан-хардтоп                  4\nпикап полуторная кабина        3\nседан 2 дв.                    2\nвнедорожник открытый           1\nлимузин                        1\nпикап одинарная кабина         1\nName: BodyType, dtype: int64"
     },
     "metadata": {},
     "output_type": "display_data"
    },
    {
     "name": "stdout",
     "output_type": "stream",
     "text": [
      "nunique = 22\n"
     ]
    },
    {
     "data": {
      "text/plain": "седан                      13147\nвнедорожник 5 дв.          12228\nлифтбек                     2232\nхэтчбек 5 дв.               2124\nуниверсал 5 дв.             1276\nминивэн                      995\nкупе                         824\nкомпактвэн                   489\nхэтчбек 3 дв.                485\nпикап двойная кабина         280\nкупе-хардтоп                 158\nвнедорожник 3 дв.            115\nродстер                       99\nфургон                        97\nкабриолет                     90\nседан-хардтоп                 12\nмикровэн                       7\nседан 2 дв.                    6\nлимузин                        6\nпикап одинарная кабина         5\nпикап полуторная кабина        5\nвнедорожник открытый           3\nтарга                          2\nфастбек                        1\nName: BodyType, dtype: int64"
     },
     "metadata": {},
     "output_type": "display_data"
    },
    {
     "name": "stdout",
     "output_type": "stream",
     "text": [
      "nunique = 24\n"
     ]
    }
   ],
   "source": [
    "display(df_train['BodyType'].value_counts(dropna=False))\n",
    "print('nunique =',df_train['BodyType'].nunique())\n",
    "display(df_test['BodyType'].value_counts(dropna=False))\n",
    "print('nunique =',df_test['BodyType'].nunique())"
   ],
   "metadata": {
    "collapsed": false,
    "pycharm": {
     "name": "#%%\n"
    }
   }
  },
  {
   "cell_type": "code",
   "execution_count": 373,
   "outputs": [
    {
     "data": {
      "text/plain": "False"
     },
     "execution_count": 373,
     "metadata": {},
     "output_type": "execute_result"
    }
   ],
   "source": [
    "# no strange values or missings\n",
    "# check\n",
    "set(df_train['BodyType'].unique()) == set(df_test['BodyType'].unique())"
   ],
   "metadata": {
    "collapsed": false,
    "pycharm": {
     "name": "#%%\n"
    }
   }
  },
  {
   "cell_type": "code",
   "execution_count": 374,
   "outputs": [
    {
     "data": {
      "text/plain": "set()"
     },
     "execution_count": 374,
     "metadata": {},
     "output_type": "execute_result"
    }
   ],
   "source": [
    "# in train, but not in test\n",
    "set(df_train['BodyType'].unique()).difference(set(df_test['BodyType'].unique()))"
   ],
   "metadata": {
    "collapsed": false,
    "pycharm": {
     "name": "#%%\n"
    }
   }
  },
  {
   "cell_type": "code",
   "execution_count": 375,
   "outputs": [
    {
     "data": {
      "text/plain": "{'тарга', 'фастбек'}"
     },
     "execution_count": 375,
     "metadata": {},
     "output_type": "execute_result"
    }
   ],
   "source": [
    "# in test, but not in train\n",
    "set(df_test['BodyType'].unique()).difference(set(df_train['BodyType'].unique()))"
   ],
   "metadata": {
    "collapsed": false,
    "pycharm": {
     "name": "#%%\n"
    }
   }
  },
  {
   "cell_type": "code",
   "execution_count": 376,
   "outputs": [],
   "source": [
    "# so, we have 2 body types in test that are not presented in train\n",
    "# however it's just 3 cars from thousands - not a big deal, but think later what to do based on further analysis"
   ],
   "metadata": {
    "collapsed": false,
    "pycharm": {
     "name": "#%%\n"
    }
   }
  },
  {
   "cell_type": "code",
   "execution_count": 377,
   "outputs": [
    {
     "name": "stdout",
     "output_type": "stream",
     "text": [
      "Visualising function show_countplot() was skipped due to false value of visualisation flag VISUALIZE (defined in Constants section).\n",
      "Visualising function show_countplot() was skipped due to false value of visualisation flag VISUALIZE (defined in Constants section).\n"
     ]
    }
   ],
   "source": [
    "# analyze category balance for train and test\n",
    "show_countplot(df_train, 'BodyType', ordering=True)\n",
    "show_countplot(df_test, 'BodyType', ordering=True)"
   ],
   "metadata": {
    "collapsed": false,
    "pycharm": {
     "name": "#%%\n"
    }
   }
  },
  {
   "cell_type": "code",
   "execution_count": 378,
   "outputs": [
    {
     "name": "stdout",
     "output_type": "stream",
     "text": [
      "Visualising function show_boxplot() was skipped due to false value of visualisation flag VISUALIZE (defined in Constants section).\n"
     ]
    }
   ],
   "source": [
    "# and boxplots for target\n",
    "# there are some extreme values in Price column, so use quantile for boxplots\n",
    "show_boxplot(df_train[df_train['Price'] < df_train['Price'].quantile(0.98)], 'BodyType', 'Price', ordering=True)"
   ],
   "metadata": {
    "collapsed": false,
    "pycharm": {
     "name": "#%%\n"
    }
   }
  },
  {
   "cell_type": "markdown",
   "source": [
    "Conclusion:\n",
    "Class balance is similar for train and test - it's good. Although first 2 positions of BodyType are swapped. And these first 2 positions are highly prevailed in number, but their price boxplots do not stay apart from other classes, so no need to create a new feature for just 2 most popular body types to predict price (as we see in other projects). Also we have noticeably less price for body type 'седан-хардтоп' but there are too small count for train and test - not a very good new feature.\n",
    "In general boxplots for Price showed relatively high variability - could be useful for future model.\n",
    "We lack 2 body types in train compared to test ('тарга' and 'фастбек'). But it's only 3 cars among thousands.\n",
    "**TODO at Preparation Stage (TODO PS)** So we should ignore them in one-hot encoding at data preparation stage for this feature."
   ],
   "metadata": {
    "collapsed": false,
    "pycharm": {
     "name": "#%% md\n"
    }
   }
  },
  {
   "cell_type": "code",
   "execution_count": 379,
   "outputs": [],
   "source": [
    "#"
   ],
   "metadata": {
    "collapsed": false,
    "pycharm": {
     "name": "#%%\n"
    }
   }
  },
  {
   "cell_type": "markdown",
   "source": [
    "#### 'Brand'"
   ],
   "metadata": {
    "collapsed": false,
    "pycharm": {
     "name": "#%% md\n"
    }
   }
  },
  {
   "cell_type": "code",
   "execution_count": 380,
   "outputs": [
    {
     "data": {
      "text/plain": "HONDA         3254\nLEXUS         2904\nAUDI          2707\nNISSAN        2707\nTOYOTA        2703\nSKODA         2701\nVOLKSWAGEN    2677\nBMW           2554\nMITSUBISHI    2476\nMERCEDES      2239\nVOLVO         2164\nINFINITI      1341\nName: Brand, dtype: int64"
     },
     "metadata": {},
     "output_type": "display_data"
    },
    {
     "data": {
      "text/plain": "BMW           4473\nVOLKSWAGEN    4404\nNISSAN        4393\nMERCEDES      4180\nTOYOTA        3913\nAUDI          3421\nMITSUBISHI    2843\nSKODA         2741\nVOLVO         1463\nHONDA         1150\nINFINITI       871\nLEXUS          834\nName: Brand, dtype: int64"
     },
     "metadata": {},
     "output_type": "display_data"
    }
   ],
   "source": [
    "display(df_train['Brand'].value_counts(dropna=False))\n",
    "display(df_test['Brand'].value_counts(dropna=False))"
   ],
   "metadata": {
    "collapsed": false,
    "pycharm": {
     "name": "#%%\n"
    }
   }
  },
  {
   "cell_type": "code",
   "execution_count": 381,
   "outputs": [
    {
     "data": {
      "text/plain": "True"
     },
     "execution_count": 381,
     "metadata": {},
     "output_type": "execute_result"
    }
   ],
   "source": [
    "# check if train and test values are equal\n",
    "set(df_train['Brand'].unique()) == set(df_test['Brand'].unique())"
   ],
   "metadata": {
    "collapsed": false,
    "pycharm": {
     "name": "#%%\n"
    }
   }
  },
  {
   "cell_type": "markdown",
   "source": [
    "Ok. Train and test brands are equal (as we know from parsing too)."
   ],
   "metadata": {
    "collapsed": false,
    "pycharm": {
     "name": "#%% md\n"
    }
   }
  },
  {
   "cell_type": "code",
   "execution_count": 382,
   "outputs": [
    {
     "name": "stdout",
     "output_type": "stream",
     "text": [
      "Visualising function show_countplot() was skipped due to false value of visualisation flag VISUALIZE (defined in Constants section).\n",
      "Visualising function show_countplot() was skipped due to false value of visualisation flag VISUALIZE (defined in Constants section).\n"
     ]
    }
   ],
   "source": [
    "# analyze category balance for train and test\n",
    "show_countplot(df_train, 'Brand', ordering=True)\n",
    "show_countplot(df_test, 'Brand', ordering=True)"
   ],
   "metadata": {
    "collapsed": false,
    "pycharm": {
     "name": "#%%\n"
    }
   }
  },
  {
   "cell_type": "code",
   "execution_count": 383,
   "outputs": [
    {
     "name": "stdout",
     "output_type": "stream",
     "text": [
      "Visualising function show_boxplot() was skipped due to false value of visualisation flag VISUALIZE (defined in Constants section).\n"
     ]
    }
   ],
   "source": [
    "# and boxplots for target\n",
    "# there are some extreme values in Price column, so use quantile for boxplots\n",
    "show_boxplot(df_train[df_train['Price'] < df_train['Price'].quantile(0.98)], 'Brand', 'Price', ordering=True)"
   ],
   "metadata": {
    "collapsed": false,
    "pycharm": {
     "name": "#%%\n"
    }
   }
  },
  {
   "cell_type": "markdown",
   "source": [
    "Conclusion:\n",
    "We have comparable amount of records for different classes and for some of them train has more instances. Should be ok at training.\n",
    "Boxplots for Price showed good variability - also left this feature to train on."
   ],
   "metadata": {
    "collapsed": false,
    "pycharm": {
     "name": "#%% md\n"
    }
   }
  },
  {
   "cell_type": "markdown",
   "source": [
    "#### 'Color'"
   ],
   "metadata": {
    "collapsed": false,
    "pycharm": {
     "name": "#%% md\n"
    }
   }
  },
  {
   "cell_type": "code",
   "execution_count": 384,
   "outputs": [
    {
     "data": {
      "text/plain": "чёрный         8532\nбелый          7395\nсерый          4291\nсеребристый    2798\nсиний          2636\nкоричневый     1527\nкрасный        1303\nбежевый         514\nзелёный         487\nголубой         276\nпурпурный       179\nзолотистый      158\nфиолетовый      120\nоранжевый       105\nжёлтый           93\nрозовый          13\nName: Color, dtype: int64"
     },
     "metadata": {},
     "output_type": "display_data"
    },
    {
     "data": {
      "text/plain": "чёрный         11010\nбелый           6133\nсеребристый     4113\nсерый           3984\nсиний           3289\nкрасный         1531\nкоричневый      1501\nзелёный          952\nбежевый          639\nголубой          457\nзолотистый       266\nпурпурный        254\nфиолетовый       219\nжёлтый           194\nоранжевый        131\nрозовый           13\nName: Color, dtype: int64"
     },
     "metadata": {},
     "output_type": "display_data"
    }
   ],
   "source": [
    "display(df_train['Color'].value_counts(dropna=False))\n",
    "display(df_test['Color'].value_counts(dropna=False))\n"
   ],
   "metadata": {
    "collapsed": false,
    "pycharm": {
     "name": "#%%\n"
    }
   }
  },
  {
   "cell_type": "code",
   "execution_count": 385,
   "outputs": [
    {
     "data": {
      "text/plain": "True"
     },
     "execution_count": 385,
     "metadata": {},
     "output_type": "execute_result"
    }
   ],
   "source": [
    "# check if train and test values are equal\n",
    "set(df_train['Color'].unique()) == set(df_test['Color'].unique())"
   ],
   "metadata": {
    "collapsed": false,
    "pycharm": {
     "name": "#%%\n"
    }
   }
  },
  {
   "cell_type": "markdown",
   "source": [
    "Ok. We have same colors for train and test."
   ],
   "metadata": {
    "collapsed": false,
    "pycharm": {
     "name": "#%% md\n"
    }
   }
  },
  {
   "cell_type": "code",
   "execution_count": 386,
   "outputs": [
    {
     "name": "stdout",
     "output_type": "stream",
     "text": [
      "Visualising function show_countplot() was skipped due to false value of visualisation flag VISUALIZE (defined in Constants section).\n",
      "Visualising function show_countplot() was skipped due to false value of visualisation flag VISUALIZE (defined in Constants section).\n"
     ]
    }
   ],
   "source": [
    "# analyze category balance for train and test\n",
    "show_countplot(df_train, 'Color', ordering=True)\n",
    "show_countplot(df_test, 'Color', ordering=True)"
   ],
   "metadata": {
    "collapsed": false,
    "pycharm": {
     "name": "#%%\n"
    }
   }
  },
  {
   "cell_type": "code",
   "execution_count": 387,
   "outputs": [
    {
     "name": "stdout",
     "output_type": "stream",
     "text": [
      "Visualising function show_boxplot() was skipped due to false value of visualisation flag VISUALIZE (defined in Constants section).\n"
     ]
    }
   ],
   "source": [
    "# and boxplots for target\n",
    "# there are some extreme values in Price column, so use quantile for boxplots\n",
    "show_boxplot(df_train[df_train['Price'] < df_train['Price'].quantile(0.98)], 'Color', 'Price', ordering=True)"
   ],
   "metadata": {
    "collapsed": false,
    "pycharm": {
     "name": "#%%\n"
    }
   }
  },
  {
   "cell_type": "markdown",
   "source": [
    "Conclusion:\n",
    "Color have very similar count distribution for train and test.\n",
    "We have 2 much more popular colors - black and white, and their median prices are in top 3 high price \"cluster\" for color.\n",
    "Also we have 3 rare and noticeably less expansive colors - green and pink.\n",
    "**PNF**  Create new feature for 3 top (expensive) colors and 2 cheap colors.\n",
    "Variability in price is rather good - left this feature to train on."
   ],
   "metadata": {
    "collapsed": false,
    "pycharm": {
     "name": "#%% md\n"
    }
   }
  },
  {
   "cell_type": "markdown",
   "source": [
    "#### 'FuelType'"
   ],
   "metadata": {
    "collapsed": false,
    "pycharm": {
     "name": "#%% md\n"
    }
   }
  },
  {
   "cell_type": "code",
   "execution_count": 388,
   "outputs": [
    {
     "data": {
      "text/plain": "Бензин          21296\nДизель           7431\nГибрид           1271\nоборудование      232\nэлектро           119\nГаз                65\nгибрид             13\nName: FuelType, dtype: int64"
     },
     "metadata": {},
     "output_type": "display_data"
    },
    {
     "data": {
      "text/plain": "бензин     28601\nдизель      5800\nгибрид       223\nэлектро       55\nгаз            7\nName: FuelType, dtype: int64"
     },
     "metadata": {},
     "output_type": "display_data"
    }
   ],
   "source": [
    "display(df_train['FuelType'].value_counts(dropna=False))\n",
    "display(df_test['FuelType'].value_counts(dropna=False))"
   ],
   "metadata": {
    "collapsed": false,
    "pycharm": {
     "name": "#%%\n"
    }
   }
  },
  {
   "cell_type": "code",
   "execution_count": 389,
   "outputs": [
    {
     "data": {
      "text/plain": "array(['бензин', 'дизель', 'газ', 'оборудование', 'гибрид', 'электро'],\n      dtype=object)"
     },
     "execution_count": 389,
     "metadata": {},
     "output_type": "execute_result"
    }
   ],
   "source": [
    "# correct names to be as test\n",
    "df_train['FuelType'] = df_train['FuelType'].apply(str.lower)\n",
    "df_train['FuelType'].unique()"
   ],
   "metadata": {
    "collapsed": false,
    "pycharm": {
     "name": "#%%\n"
    }
   }
  },
  {
   "cell_type": "code",
   "execution_count": 389,
   "outputs": [],
   "source": [],
   "metadata": {
    "collapsed": false,
    "pycharm": {
     "name": "#%%\n"
    }
   }
  },
  {
   "cell_type": "code",
   "execution_count": 390,
   "outputs": [
    {
     "data": {
      "text/plain": "{'оборудование'}"
     },
     "execution_count": 390,
     "metadata": {},
     "output_type": "execute_result"
    }
   ],
   "source": [
    "# We see that train has one more class than test\n",
    "set(df_train['FuelType'].unique()).difference(set(df_test['FuelType'].unique()))"
   ],
   "metadata": {
    "collapsed": false,
    "pycharm": {
     "name": "#%%\n"
    }
   }
  },
  {
   "cell_type": "code",
   "execution_count": 391,
   "outputs": [],
   "source": [
    "# don't need it for training -> delete"
   ],
   "metadata": {
    "collapsed": false,
    "pycharm": {
     "name": "#%%\n"
    }
   }
  },
  {
   "cell_type": "code",
   "execution_count": 392,
   "outputs": [
    {
     "data": {
      "text/plain": "array(['бензин', 'дизель', 'газ', 'гибрид', 'электро'], dtype=object)"
     },
     "execution_count": 392,
     "metadata": {},
     "output_type": "execute_result"
    }
   ],
   "source": [
    "df_train.drop(df_train[df_train['FuelType'] == 'оборудование'].index, inplace=True)\n",
    "df_train['FuelType'].unique()"
   ],
   "metadata": {
    "collapsed": false,
    "pycharm": {
     "name": "#%%\n"
    }
   }
  },
  {
   "cell_type": "code",
   "execution_count": 393,
   "outputs": [
    {
     "data": {
      "text/plain": "True"
     },
     "execution_count": 393,
     "metadata": {},
     "output_type": "execute_result"
    }
   ],
   "source": [
    "# check if train and test values are equal now\n",
    "set(df_train['FuelType'].unique()) == set(df_test['FuelType'].unique())"
   ],
   "metadata": {
    "collapsed": false,
    "pycharm": {
     "name": "#%%\n"
    }
   }
  },
  {
   "cell_type": "code",
   "execution_count": 394,
   "outputs": [
    {
     "name": "stdout",
     "output_type": "stream",
     "text": [
      "Visualising function show_countplot() was skipped due to false value of visualisation flag VISUALIZE (defined in Constants section).\n",
      "Visualising function show_countplot() was skipped due to false value of visualisation flag VISUALIZE (defined in Constants section).\n"
     ]
    }
   ],
   "source": [
    "# analyze category balance for train and test\n",
    "show_countplot(df_train, 'FuelType', ordering=True)\n",
    "show_countplot(df_test, 'FuelType', ordering=True)"
   ],
   "metadata": {
    "collapsed": false,
    "pycharm": {
     "name": "#%%\n"
    }
   }
  },
  {
   "cell_type": "code",
   "execution_count": 395,
   "outputs": [
    {
     "name": "stdout",
     "output_type": "stream",
     "text": [
      "Visualising function show_boxplot() was skipped due to false value of visualisation flag VISUALIZE (defined in Constants section).\n"
     ]
    }
   ],
   "source": [
    "# and boxplots for target\n",
    "# there are some extreme values in Price column, so use quantile for boxplots\n",
    "show_boxplot(df_train[df_train['Price'] < df_train['Price'].quantile(0.98)], 'FuelType', 'Price', ordering=True)"
   ],
   "metadata": {
    "collapsed": false,
    "pycharm": {
     "name": "#%%\n"
    }
   }
  },
  {
   "cell_type": "markdown",
   "source": [
    "Conclusion:\n",
    "FuelType feature have very similar count distribution for train and test.\n",
    "Electro cars is the most expensive, but there are too little of them yet.\n",
    "Variability in price is rather good."
   ],
   "metadata": {
    "collapsed": false,
    "pycharm": {
     "name": "#%% md\n"
    }
   }
  },
  {
   "cell_type": "markdown",
   "source": [
    "#### 'ModelName'"
   ],
   "metadata": {
    "collapsed": false,
    "pycharm": {
     "name": "#%% md\n"
    }
   }
  },
  {
   "cell_type": "code",
   "source": [
    "display(df_train['ModelName'].value_counts(dropna=False))\n",
    "display(df_test['ModelName'].value_counts(dropna=False))"
   ],
   "metadata": {
    "collapsed": false,
    "pycharm": {
     "name": "#%%\n"
    }
   },
   "execution_count": 396,
   "outputs": [
    {
     "data": {
      "text/plain": "OCTAVIA       1049\nRX             996\nPOLO           885\nOUTLANDER      857\nQASHQAI        788\n              ... \nSAFARI           1\nNADIA            1\nDAYZ             1\nJUKE_NISMO       1\nS3               1\nName: ModelName, Length: 467, dtype: int64"
     },
     "metadata": {},
     "output_type": "display_data"
    },
    {
     "data": {
      "text/plain": "OCTAVIA     1418\n5ER         1026\nLANCER       855\nE_KLASSE     809\nPASSAT       782\n            ... \nMR_S           1\nVELLFIRE       1\nVERSO_S        1\nZ3M            1\nPLATZ          1\nName: ModelName, Length: 544, dtype: int64"
     },
     "metadata": {},
     "output_type": "display_data"
    }
   ]
  },
  {
   "cell_type": "code",
   "execution_count": 397,
   "outputs": [
    {
     "data": {
      "text/plain": "<AxesSubplot:>"
     },
     "execution_count": 397,
     "metadata": {},
     "output_type": "execute_result"
    },
    {
     "data": {
      "text/plain": "<Figure size 640x480 with 1 Axes>",
      "image/png": "[encoded data removed]"
     },
     "metadata": {},
     "output_type": "display_data"
    }
   ],
   "source": [
    "df_train['ModelName'].value_counts().hist(bins=100)"
   ],
   "metadata": {
    "collapsed": false,
    "pycharm": {
     "name": "#%%\n"
    }
   }
  },
  {
   "cell_type": "code",
   "execution_count": 398,
   "outputs": [],
   "source": [
    "# TODO compare models train to test"
   ],
   "metadata": {
    "collapsed": false,
    "pycharm": {
     "name": "#%%\n"
    }
   }
  },
  {
   "cell_type": "code",
   "execution_count": 399,
   "outputs": [
    {
     "data": {
      "text/plain": "OCTAVIA               1049\nRX                     996\nPOLO                   885\nOUTLANDER              857\nQASHQAI                788\nRAPID                  731\nTIGUAN                 658\nCAMRY                  650\nCR_V                   603\nACCORD                 603\nX_TRAIL                598\nCIVIC                  588\nXC90                   513\nRAV_4                  491\n5ER                    491\nA4                     473\nA6                     456\nLX                     431\nXC60                   430\n3ER                    418\nLANCER                 410\nE_KLASSE               383\nES                     376\nLAND_CRUISER_PRADO     347\nNX                     340\nQ7                     308\nQ5                     290\nX5                     289\nKODIAQ                 288\nLAND_CRUISER           286\nASX                    267\nFX                     263\nCOROLLA                258\nPASSAT                 256\nS60                    242\nPAJERO                 233\nX3                     233\nC_KLASSE               232\nA3                     231\nX6                     225\nPAJERO_SPORT           212\nYETI                   212\nGS                     212\nJETTA                  211\nTOUAREG                205\nFABIA                  201\nJUKE                   197\nX1                     187\nS_KLASSE               186\nS80                    181\nFIT                    171\nQX70                   171\nQ3                     170\nName: ModelName, dtype: int64"
     },
     "metadata": {},
     "output_type": "display_data"
    },
    {
     "data": {
      "text/plain": "OCTAVIA               1418\n5ER                   1026\nLANCER                 855\nE_KLASSE               809\nPASSAT                 782\nA6                     757\n3ER                    752\nPOLO                   724\nCAMRY                  709\nX5                     675\nX_TRAIL                654\nA4                     626\nQASHQAI                609\nS_KLASSE               549\nOUTLANDER              544\nLAND_CRUISER           514\nALMERA                 502\nTIGUAN                 491\nTOUAREG                469\nCOROLLA                456\nRAV_4                  447\nC_KLASSE               428\nGOLF                   424\nLAND_CRUISER_PRADO     387\nTEANA                  374\nRAPID                  370\n7ER                    343\nM_KLASSE               343\nXC90                   340\nJETTA                  324\nX6                     317\nCIVIC                  316\nPAJERO                 306\nQ7                     302\nFX                     297\nX3                     283\nJUKE                   268\nACCORD                 260\nSUPERB                 248\nS60                    246\nQ5                     246\nFABIA                  245\nYETI                   241\nMURANO                 239\nCR_V                   235\nRX                     235\nGL_KLASSE              233\nA3                     225\n1ER                    218\nPRIMERA                217\nX1                     215\nA5                     211\nA8                     204\nXC60                   195\nPAJERO_SPORT           186\n80                     185\nTRANSPORTER            182\nName: ModelName, dtype: int64"
     },
     "metadata": {},
     "output_type": "display_data"
    }
   ],
   "source": [
    "# too high cardinality and many unique/low values\n",
    "# let's see at least on top part\n",
    "top_part = 0.7\n",
    "model_cumsum_train = df_train['ModelName'].value_counts(normalize=True).cumsum()\n",
    "models_top_train = df_train['ModelName'].value_counts()[model_cumsum_train < top_part]\n",
    "display(models_top_train)\n",
    "\n",
    "model_cumsum_test = df_test['ModelName'].value_counts(normalize=True).cumsum()\n",
    "models_top_test = df_test['ModelName'].value_counts()[model_cumsum_test < top_part]\n",
    "display(models_top_test)"
   ],
   "metadata": {
    "collapsed": false,
    "pycharm": {
     "name": "#%%\n"
    }
   }
  },
  {
   "cell_type": "code",
   "execution_count": 400,
   "outputs": [
    {
     "name": "stdout",
     "output_type": "stream",
     "text": [
      "model_top_train total = 53\n",
      "model_top_test total = 57\n",
      "{'GL_KLASSE', 'A8', 'M_KLASSE', 'SUPERB', 'Q3', 'KODIAQ', '7ER', 'GS', 'ES', 'S80', 'ASX', 'PRIMERA', 'MURANO', 'QX70', 'GOLF', '1ER', '80', 'TRANSPORTER', 'LX', 'ALMERA', 'A5', 'FIT', 'NX', 'TEANA'}\n",
      "model_top_diff  len = 24\n",
      "{'ACCORD', '5ER', 'PAJERO_SPORT', 'TOUAREG', 'RAPID', 'CIVIC', 'X6', 'RX', 'JUKE', 'PAJERO', 'POLO', 'X3', 'QASHQAI', 'Q5', 'XC90', 'CR_V', 'RAV_4', 'CAMRY', 'LAND_CRUISER', 'Q7', 'A6', 'OCTAVIA', 'PASSAT', 'E_KLASSE', 'LANCER', 'A3', 'X1', 'JETTA', 'X_TRAIL', '3ER', 'X5', 'S60', 'FABIA', 'TIGUAN', 'XC60', 'LAND_CRUISER_PRADO', 'C_KLASSE', 'OUTLANDER', 'A4', 'FX', 'COROLLA', 'S_KLASSE', 'YETI'}\n",
      "model_top_common  len = 43\n"
     ]
    }
   ],
   "source": [
    "# so now we have not so many models in selected top part of all presented cars in train and test, let's analyze them\n",
    "print(f'model_top_train total = {len(models_top_train)}')\n",
    "print(f'model_top_test total = {len(models_top_test)}')\n",
    "\n",
    "# compare train and test values\n",
    "models_top_diff = set(models_top_train.index).symmetric_difference(set(models_top_test.index))\n",
    "print(models_top_diff)\n",
    "print(f'model_top_diff  len = {len(models_top_diff)}')\n",
    "\n",
    "models_top_common = set(models_top_train.index).intersection(set(models_top_test.index))\n",
    "print(models_top_common)\n",
    "print(f'model_top_common  len = {len(models_top_common)}')"
   ],
   "metadata": {
    "collapsed": false,
    "pycharm": {
     "name": "#%%\n"
    }
   }
  },
  {
   "cell_type": "code",
   "source": [
    "# analyze category balance for train and test (for common models in top part)\n",
    "show_countplot(df_train[df_train['ModelName'].isin(models_top_common)], 'ModelName', ordering=True)\n",
    "show_countplot(df_test[df_test['ModelName'].isin(models_top_common)], 'ModelName', ordering=True)\n"
   ],
   "metadata": {
    "collapsed": false,
    "pycharm": {
     "name": "#%%\n"
    }
   },
   "execution_count": 401,
   "outputs": [
    {
     "name": "stdout",
     "output_type": "stream",
     "text": [
      "Visualising function show_countplot() was skipped due to false value of visualisation flag VISUALIZE (defined in Constants section).\n",
      "Visualising function show_countplot() was skipped due to false value of visualisation flag VISUALIZE (defined in Constants section).\n"
     ]
    }
   ]
  },
  {
   "cell_type": "code",
   "execution_count": 402,
   "outputs": [
    {
     "name": "stdout",
     "output_type": "stream",
     "text": [
      "Visualising function show_boxplot() was skipped due to false value of visualisation flag VISUALIZE (defined in Constants section).\n"
     ]
    }
   ],
   "source": [
    "# and boxplots for price for the most popular cars\n",
    "# there are some extreme values in Price column, so don't show outliers for this plot\n",
    "show_boxplot(df_train[df_train['ModelName'].isin(models_top_common)],\n",
    "            'ModelName', 'Price', ordering=True, showfliers=False)"
   ],
   "metadata": {
    "collapsed": false,
    "pycharm": {
     "name": "#%%\n"
    }
   }
  },
  {
   "cell_type": "code",
   "execution_count": 403,
   "outputs": [
    {
     "name": "stdout",
     "output_type": "stream",
     "text": [
      "Train models: 467, test models: 544, models in common: 416\n",
      "Number of models only in train:\n",
      "220\n",
      "Number of models only in test:\n",
      "469\n"
     ]
    }
   ],
   "source": [
    "# also let's see on top price part of all common models to define maybe some \"clusters\" of expensive models\n",
    "# all common models\n",
    "models_common = set(df_train['ModelName'].unique()).intersection(set(df_test['ModelName'].unique()))\n",
    "print(f'Train models: {len(df_train[\"ModelName\"].unique())}, test models: {len(df_test[\"ModelName\"].unique())}, models in common: {len(models_common)}')\n",
    "\n",
    "models_only_in_train = set(df_train['ModelName'].unique()) - models_common\n",
    "print('Number of models only in train:')\n",
    "print(df_train[df_train['ModelName'].isin(models_only_in_train)].shape[0])\n",
    "\n",
    "models_only_in_test  = set(df_test['ModelName'].unique()) - models_common\n",
    "print('Number of models only in test:')\n",
    "print(df_test[df_test['ModelName'].isin(models_only_in_test)].shape[0])"
   ],
   "metadata": {
    "collapsed": false,
    "pycharm": {
     "name": "#%%\n"
    }
   }
  },
  {
   "cell_type": "code",
   "execution_count": 404,
   "outputs": [
    {
     "name": "stdout",
     "output_type": "stream",
     "text": [
      "(30195, 21)\n",
      "(29975, 21)\n"
     ]
    }
   ],
   "source": [
    "# we have not so many - 220 records for models that are not in test - delete them\n",
    "print(df_train.shape)\n",
    "df_train.drop(labels=df_train[df_train['ModelName'].isin(models_only_in_train)].index, inplace=True)\n",
    "df_train.reset_index(drop=True, inplace=True)\n",
    "print(df_train.shape)"
   ],
   "metadata": {
    "collapsed": false,
    "pycharm": {
     "name": "#%%\n"
    }
   }
  },
  {
   "cell_type": "code",
   "execution_count": 405,
   "outputs": [
    {
     "data": {
      "text/plain": "<Figure size 640x480 with 1 Axes>",
      "image/png": "[encoded data removed]"
     },
     "metadata": {},
     "output_type": "display_data"
    }
   ],
   "source": [
    "# plot all common models median price\n",
    "model_price_medians = df_train[['ModelName', 'Price']][df_train['ModelName'].isin(models_common)].groupby(['ModelName']).median()\n",
    "model_price_medians['Price'].sort_values().plot(style='.')\n",
    "plt.grid(True)\n",
    "plt.show()"
   ],
   "metadata": {
    "collapsed": false,
    "pycharm": {
     "name": "#%%\n"
    }
   }
  },
  {
   "cell_type": "code",
   "execution_count": 406,
   "outputs": [
    {
     "name": "stdout",
     "output_type": "stream",
     "text": [
      "['8ER', 'AMG_GT', 'E_TRON', 'GLC_KLASSE_AMG', 'G_KLASSE_AMG', 'I8', 'M5', 'Q8', 'R8', 'RS6', 'S8', 'W128', 'X7']\n",
      "13\n"
     ]
    },
    {
     "data": {
      "text/plain": "(251, 21)"
     },
     "execution_count": 406,
     "metadata": {},
     "output_type": "execute_result"
    }
   ],
   "source": [
    "# I would say that for these common models there is a \"cluster\" of expensive model with prices > 7.5 M,\n",
    "# so based on plots above let's define expensive models (from common models set)\n",
    "# as a model with price > 7.5M and NOT too old to become valuable not because of model but because of rarity\n",
    "expensive_models = list(model_price_medians[model_price_medians['Price'] > 7.5*10**6].index.unique())\n",
    "print(expensive_models)\n",
    "print(len(expensive_models))\n",
    "df_train[df_train['ModelName'].isin(expensive_models)].shape"
   ],
   "metadata": {
    "collapsed": false,
    "pycharm": {
     "name": "#%%\n"
    }
   }
  },
  {
   "cell_type": "code",
   "execution_count": 407,
   "outputs": [],
   "source": [
    "# so we have 251 really expensive models"
   ],
   "metadata": {
    "collapsed": false,
    "pycharm": {
     "name": "#%%\n"
    }
   }
  },
  {
   "cell_type": "code",
   "execution_count": 408,
   "outputs": [],
   "source": [
    "# # so based on plots above let's define expensive models (from common models set)\n",
    "# # as a model with price > 5M and NOT too old to become valuable not because of model but because of rarity\n",
    "# expensive_models = df_train[df_train['ModelName'].isin(model_top_common)\n",
    "#                             & (df_train['Price'] > 5*10**6)\n",
    "#                             & (df_train['ProductionDate'] > RARITY_YEAR)]['ModelName']\n",
    "# expensive_models.value_counts()"
   ],
   "metadata": {
    "collapsed": false,
    "pycharm": {
     "name": "#%%\n"
    }
   }
  },
  {
   "cell_type": "markdown",
   "source": [
    "Conclusion:\n",
    "The distribution of cars model is very diverse (~ 500 different models). Meanwhile the most of dataset (70%) can be presented with only ~50 models and get a glance on their price distribution.\n",
    "Train and test set are rather similar (same most popular model too) and models in test are well presented in train - it's good. Models that are only in train were deleted as not useful to predict.\n",
    "It was interesting to compare price dependency for most popular and most expensive car models. Expectedly most popular models are not very expensive.\n",
    "On price median plot for all car models we defined a cluster for most expensive car models (13 models and 251 records). And no distinctive cluster for cheap models.\n",
    "**PNF** Create a new feature for expensive models.\n",
    "\n",
    "Besides it would be useful to define most expensive model for particular brand and for same mileage intervals and create more new features, but let's stop on this for now."
   ],
   "metadata": {
    "collapsed": false,
    "pycharm": {
     "name": "#%% md\n"
    }
   }
  },
  {
   "cell_type": "markdown",
   "source": [],
   "metadata": {
    "collapsed": false
   }
  },
  {
   "cell_type": "markdown",
   "source": [
    "#### 'NumberOfDoors'"
   ],
   "metadata": {
    "collapsed": false,
    "pycharm": {
     "name": "#%% md\n"
    }
   }
  },
  {
   "cell_type": "code",
   "execution_count": 409,
   "outputs": [],
   "source": [
    "df_train['NumberOfDoors'] = df_train['NumberOfDoors'].apply(int)"
   ],
   "metadata": {
    "collapsed": false,
    "pycharm": {
     "name": "#%%\n"
    }
   }
  },
  {
   "cell_type": "code",
   "execution_count": 410,
   "outputs": [
    {
     "data": {
      "text/plain": "5    19750\n4     9389\n2      548\n3      288\nName: NumberOfDoors, dtype: int64"
     },
     "metadata": {},
     "output_type": "display_data"
    },
    {
     "data": {
      "text/plain": "5    18703\n4    14126\n2     1206\n3      650\n0        1\nName: NumberOfDoors, dtype: int64"
     },
     "metadata": {},
     "output_type": "display_data"
    }
   ],
   "source": [
    "display(df_train['NumberOfDoors'].value_counts(dropna=False))\n",
    "display(df_test['NumberOfDoors'].value_counts(dropna=False))"
   ],
   "metadata": {
    "collapsed": false,
    "pycharm": {
     "name": "#%%\n"
    }
   }
  },
  {
   "cell_type": "code",
   "execution_count": 411,
   "outputs": [],
   "source": [
    "# only one difference for only one car (the oldest cabriolet 1904 :) )"
   ],
   "metadata": {
    "collapsed": false,
    "pycharm": {
     "name": "#%%\n"
    }
   }
  },
  {
   "cell_type": "code",
   "execution_count": 412,
   "outputs": [
    {
     "name": "stdout",
     "output_type": "stream",
     "text": [
      "Visualising function show_countplot() was skipped due to false value of visualisation flag VISUALIZE (defined in Constants section).\n",
      "Visualising function show_countplot() was skipped due to false value of visualisation flag VISUALIZE (defined in Constants section).\n"
     ]
    }
   ],
   "source": [
    "# analyze category balance for train and test\n",
    "show_countplot(df_train, 'NumberOfDoors', ordering=True)\n",
    "show_countplot(df_test, 'NumberOfDoors', ordering=True)"
   ],
   "metadata": {
    "collapsed": false,
    "pycharm": {
     "name": "#%%\n"
    }
   }
  },
  {
   "cell_type": "code",
   "execution_count": 413,
   "outputs": [
    {
     "name": "stdout",
     "output_type": "stream",
     "text": [
      "Visualising function show_boxplot() was skipped due to false value of visualisation flag VISUALIZE (defined in Constants section).\n"
     ]
    }
   ],
   "source": [
    "# and boxplots for target\n",
    "# there are some extreme values in Price column, so don't show outliers for this plot\n",
    "show_boxplot(df_train, 'NumberOfDoors', 'Price', ordering=True, showfliers=False)"
   ],
   "metadata": {
    "collapsed": false,
    "pycharm": {
     "name": "#%%\n"
    }
   }
  },
  {
   "cell_type": "markdown",
   "source": [
    "Conclusion:\n",
    "Feature have very similar values balance for train and test.\n",
    "Noticeable difference in price values for every category - should be good for model.\n",
    "Test in contrast to train have a car with 0 number of doors, but it is a single car - not a problem for training.\n",
    "**TODO PS** So we can ignore this category in one-hot encoding for test set at data preparation stage (not include this binary feature column and all other one-hot features will be zero for this car).\n"
   ],
   "metadata": {
    "collapsed": false,
    "pycharm": {
     "name": "#%% md\n"
    }
   }
  },
  {
   "cell_type": "markdown",
   "source": [
    "#### 'VehicleTransmission'"
   ],
   "metadata": {
    "collapsed": false
   }
  },
  {
   "cell_type": "code",
   "execution_count": 413,
   "outputs": [],
   "source": [],
   "metadata": {
    "collapsed": false,
    "pycharm": {
     "name": "#%%\n"
    }
   }
  },
  {
   "cell_type": "code",
   "execution_count": 414,
   "outputs": [
    {
     "data": {
      "text/plain": "автоматическая      14794\nмеханическая         7531\nвариатор             4206\nроботизированная     3444\nName: VehicleTransmission, dtype: int64"
     },
     "metadata": {},
     "output_type": "display_data"
    },
    {
     "data": {
      "text/plain": "автоматическая      19596\nмеханическая         7209\nвариатор             3999\nроботизированная     3882\nName: VehicleTransmission, dtype: int64"
     },
     "metadata": {},
     "output_type": "display_data"
    }
   ],
   "source": [
    "display(df_train['VehicleTransmission'].value_counts(dropna=False))\n",
    "display(df_test['VehicleTransmission'].value_counts(dropna=False))"
   ],
   "metadata": {
    "collapsed": false,
    "pycharm": {
     "name": "#%%\n"
    }
   }
  },
  {
   "cell_type": "code",
   "execution_count": 415,
   "outputs": [
    {
     "data": {
      "text/plain": "True"
     },
     "execution_count": 415,
     "metadata": {},
     "output_type": "execute_result"
    }
   ],
   "source": [
    "# check if train and test values are equal\n",
    "set(df_train['VehicleTransmission'].unique()) == set(df_test['VehicleTransmission'].unique())"
   ],
   "metadata": {
    "collapsed": false,
    "pycharm": {
     "name": "#%%\n"
    }
   }
  },
  {
   "cell_type": "code",
   "execution_count": 416,
   "outputs": [
    {
     "name": "stdout",
     "output_type": "stream",
     "text": [
      "Visualising function show_countplot() was skipped due to false value of visualisation flag VISUALIZE (defined in Constants section).\n",
      "Visualising function show_countplot() was skipped due to false value of visualisation flag VISUALIZE (defined in Constants section).\n"
     ]
    }
   ],
   "source": [
    "# analyze category balance for train and test\n",
    "show_countplot(df_train, 'VehicleTransmission', ordering=True)\n",
    "show_countplot(df_test, 'VehicleTransmission', ordering=True)"
   ],
   "metadata": {
    "collapsed": false,
    "pycharm": {
     "name": "#%%\n"
    }
   }
  },
  {
   "cell_type": "code",
   "execution_count": 417,
   "outputs": [
    {
     "name": "stdout",
     "output_type": "stream",
     "text": [
      "Visualising function show_boxplot() was skipped due to false value of visualisation flag VISUALIZE (defined in Constants section).\n"
     ]
    }
   ],
   "source": [
    "# and boxplots for target\n",
    "# there are some extreme values in Price column, so don't show outliers for this plot\n",
    "show_boxplot(df_train, 'VehicleTransmission', 'Price', ordering=True, showfliers=False)"
   ],
   "metadata": {
    "collapsed": false,
    "pycharm": {
     "name": "#%%\n"
    }
   }
  },
  {
   "cell_type": "markdown",
   "source": [
    "Conclusion:\n",
    "Feature have very similar values balance for train and test.\n",
    "Noticeable difference in price values for every category - should be good for model."
   ],
   "metadata": {
    "collapsed": false,
    "pycharm": {
     "name": "#%% md\n"
    }
   }
  },
  {
   "cell_type": "markdown",
   "source": [
    "#### 'Owners'"
   ],
   "metadata": {
    "collapsed": false
   }
  },
  {
   "cell_type": "code",
   "execution_count": 418,
   "outputs": [
    {
     "data": {
      "text/plain": "1 владелец     11725\n3 или более    10981\n2 владельца     7269\nName: Owners, dtype: int64"
     },
     "metadata": {},
     "output_type": "display_data"
    },
    {
     "data": {
      "text/plain": "3 или более    15957\n1 владелец      9459\n2 владельца     9270\nName: Owners, dtype: int64"
     },
     "metadata": {},
     "output_type": "display_data"
    }
   ],
   "source": [
    "display(df_train['Owners'].value_counts(dropna=False))\n",
    "display(df_test['Owners'].value_counts(dropna=False))"
   ],
   "metadata": {
    "collapsed": false,
    "pycharm": {
     "name": "#%%\n"
    }
   }
  },
  {
   "cell_type": "code",
   "execution_count": 419,
   "outputs": [
    {
     "data": {
      "text/plain": "{'1 владелец', '1\\xa0владелец', '2 владельца', '2\\xa0владельца'}"
     },
     "execution_count": 419,
     "metadata": {},
     "output_type": "execute_result"
    }
   ],
   "source": [
    "# check if train and test values are equal\n",
    "set(df_train['Owners'].unique()).symmetric_difference(set(df_test['Owners'].unique()))"
   ],
   "metadata": {
    "collapsed": false,
    "pycharm": {
     "name": "#%%\n"
    }
   }
  },
  {
   "cell_type": "code",
   "execution_count": 420,
   "outputs": [],
   "source": [
    "# correct test column a bit for similarity with train\n",
    "df_test['Owners'] = df_test['Owners'].apply(lambda text: text.replace(u'\\xa0',' '))"
   ],
   "metadata": {
    "collapsed": false,
    "pycharm": {
     "name": "#%%\n"
    }
   }
  },
  {
   "cell_type": "code",
   "execution_count": 421,
   "outputs": [
    {
     "data": {
      "text/plain": "True"
     },
     "execution_count": 421,
     "metadata": {},
     "output_type": "execute_result"
    }
   ],
   "source": [
    "# check if train and test values are equal now\n",
    "set(df_train['Owners'].unique()) == set(df_test['Owners'].unique())"
   ],
   "metadata": {
    "collapsed": false,
    "pycharm": {
     "name": "#%%\n"
    }
   }
  },
  {
   "cell_type": "code",
   "execution_count": 422,
   "outputs": [
    {
     "name": "stdout",
     "output_type": "stream",
     "text": [
      "Visualising function show_countplot() was skipped due to false value of visualisation flag VISUALIZE (defined in Constants section).\n",
      "Visualising function show_countplot() was skipped due to false value of visualisation flag VISUALIZE (defined in Constants section).\n"
     ]
    }
   ],
   "source": [
    "# analyze category balance for train and test\n",
    "show_countplot(df_train, 'Owners', ordering=True)\n",
    "show_countplot(df_test, 'Owners', ordering=True)"
   ],
   "metadata": {
    "collapsed": false,
    "pycharm": {
     "name": "#%%\n"
    }
   }
  },
  {
   "cell_type": "code",
   "execution_count": 423,
   "outputs": [
    {
     "name": "stdout",
     "output_type": "stream",
     "text": [
      "Visualising function show_boxplot() was skipped due to false value of visualisation flag VISUALIZE (defined in Constants section).\n"
     ]
    }
   ],
   "source": [
    "# and boxplots for target\n",
    "# there are some extreme values in Price column, so don't show outliers for this plot\n",
    "show_boxplot(df_train, 'Owners', 'Price', ordering=True, showfliers=False)"
   ],
   "metadata": {
    "collapsed": false,
    "pycharm": {
     "name": "#%%\n"
    }
   }
  },
  {
   "cell_type": "markdown",
   "source": [
    "Conclusion:\n",
    "Train and test sets are somewhat imbalanced, but difference is not critical.\n",
    "Good price differentiation between categories and not many categories - good for one-hot encoding."
   ],
   "metadata": {
    "collapsed": false,
    "pycharm": {
     "name": "#%% md\n"
    }
   }
  },
  {
   "cell_type": "markdown",
   "source": [
    "#### 'Drive'"
   ],
   "metadata": {
    "collapsed": false,
    "pycharm": {
     "name": "#%% md\n"
    }
   }
  },
  {
   "cell_type": "code",
   "execution_count": 424,
   "outputs": [
    {
     "data": {
      "text/plain": "полный      13923\nпередний    13549\nзадний       2503\nName: Drive, dtype: int64"
     },
     "metadata": {},
     "output_type": "display_data"
    },
    {
     "data": {
      "text/plain": "передний    15565\nполный      15020\nзадний       4101\nName: Drive, dtype: int64"
     },
     "metadata": {},
     "output_type": "display_data"
    }
   ],
   "source": [
    "display(df_train['Drive'].value_counts(dropna=False))\n",
    "display(df_test['Drive'].value_counts(dropna=False))"
   ],
   "metadata": {
    "collapsed": false,
    "pycharm": {
     "name": "#%%\n"
    }
   }
  },
  {
   "cell_type": "code",
   "execution_count": 425,
   "outputs": [
    {
     "data": {
      "text/plain": "True"
     },
     "execution_count": 425,
     "metadata": {},
     "output_type": "execute_result"
    }
   ],
   "source": [
    "# check if train and test values are equal\n",
    "set(df_train['Drive'].unique()) == set(df_test['Drive'].unique())"
   ],
   "metadata": {
    "collapsed": false,
    "pycharm": {
     "name": "#%%\n"
    }
   }
  },
  {
   "cell_type": "code",
   "execution_count": 426,
   "outputs": [
    {
     "name": "stdout",
     "output_type": "stream",
     "text": [
      "Visualising function show_countplot() was skipped due to false value of visualisation flag VISUALIZE (defined in Constants section).\n",
      "Visualising function show_countplot() was skipped due to false value of visualisation flag VISUALIZE (defined in Constants section).\n"
     ]
    }
   ],
   "source": [
    "# analyze category balance for train and test\n",
    "show_countplot(df_train, 'Drive', ordering=True)\n",
    "show_countplot(df_test, 'Drive', ordering=True)"
   ],
   "metadata": {
    "collapsed": false,
    "pycharm": {
     "name": "#%%\n"
    }
   }
  },
  {
   "cell_type": "code",
   "execution_count": 427,
   "outputs": [
    {
     "name": "stdout",
     "output_type": "stream",
     "text": [
      "Visualising function show_boxplot() was skipped due to false value of visualisation flag VISUALIZE (defined in Constants section).\n"
     ]
    }
   ],
   "source": [
    "# and boxplots for target\n",
    "# there are some extreme values in Price column, so don't show outliers\n",
    "show_boxplot(df_train, 'Drive', 'Price', ordering=True, showfliers=False)"
   ],
   "metadata": {
    "collapsed": false,
    "pycharm": {
     "name": "#%%\n"
    }
   }
  },
  {
   "cell_type": "markdown",
   "source": [
    "Conclusion:\n",
    "Train and test balance is very similar.\n",
    "Mean is noticeably greater than median for all 3 categories -> big right skewness in price for this feature.\n",
    "Good price differentiation between categories and not many categories - good for one-hot encoding.\n",
    "Surprisingly (for me) rear-wheel drive turned out to be more expensive."
   ],
   "metadata": {
    "collapsed": false,
    "pycharm": {
     "name": "#%% md\n"
    }
   }
  },
  {
   "cell_type": "markdown",
   "source": [
    "### Binary features"
   ],
   "metadata": {
    "collapsed": false,
    "pycharm": {
     "name": "#%% md\n"
    }
   }
  },
  {
   "cell_type": "markdown",
   "source": [
    "#### 'Vendor'"
   ],
   "metadata": {
    "collapsed": false,
    "pycharm": {
     "name": "#%% md\n"
    }
   }
  },
  {
   "cell_type": "code",
   "execution_count": 428,
   "outputs": [
    {
     "data": {
      "text/plain": "NaN    29975\nName: Vendor, dtype: int64"
     },
     "metadata": {},
     "output_type": "display_data"
    },
    {
     "data": {
      "text/plain": "EUROPEAN    20682\nJAPANESE    14004\nName: Vendor, dtype: int64"
     },
     "metadata": {},
     "output_type": "display_data"
    }
   ],
   "source": [
    "display(df_train['Vendor'].value_counts(dropna=False))\n",
    "display(df_test['Vendor'].value_counts(dropna=False))"
   ],
   "metadata": {
    "collapsed": false,
    "pycharm": {
     "name": "#%%\n"
    }
   }
  },
  {
   "cell_type": "code",
   "execution_count": 429,
   "outputs": [
    {
     "name": "stdout",
     "output_type": "stream",
     "text": [
      "{'AUDI': 'EUROPEAN', 'BMW': 'EUROPEAN', 'HONDA': 'JAPANESE', 'INFINITI': 'JAPANESE', 'LEXUS': 'JAPANESE', 'MERCEDES': 'EUROPEAN', 'MITSUBISHI': 'JAPANESE', 'NISSAN': 'JAPANESE', 'SKODA': 'EUROPEAN', 'TOYOTA': 'JAPANESE', 'VOLKSWAGEN': 'EUROPEAN', 'VOLVO': 'EUROPEAN'}\n"
     ]
    },
    {
     "data": {
      "text/plain": "JAPANESE    15069\nEUROPEAN    14906\nName: Vendor, dtype: int64"
     },
     "execution_count": 429,
     "metadata": {},
     "output_type": "execute_result"
    }
   ],
   "source": [
    "# let's infer this feature for train based on information in test\n",
    "brand_vendor_dict = {k:v for k,v in df_test.groupby(['Brand','Vendor']).count().index}\n",
    "print(brand_vendor_dict)\n",
    "df_train['Vendor'] = df_train['Brand'].map(brand_vendor_dict)\n",
    "df_train['Vendor'].value_counts()"
   ],
   "metadata": {
    "collapsed": false,
    "pycharm": {
     "name": "#%%\n"
    }
   }
  },
  {
   "cell_type": "code",
   "execution_count": 430,
   "outputs": [
    {
     "name": "stdout",
     "output_type": "stream",
     "text": [
      "Visualising function show_countplot() was skipped due to false value of visualisation flag VISUALIZE (defined in Constants section).\n",
      "Visualising function show_countplot() was skipped due to false value of visualisation flag VISUALIZE (defined in Constants section).\n"
     ]
    }
   ],
   "source": [
    "# analyze category balance for train and test\n",
    "show_countplot(df_train, 'Vendor', ordering=True)\n",
    "show_countplot(df_test, 'Vendor', ordering=True)"
   ],
   "metadata": {
    "collapsed": false,
    "pycharm": {
     "name": "#%%\n"
    }
   }
  },
  {
   "cell_type": "code",
   "execution_count": 431,
   "outputs": [
    {
     "name": "stdout",
     "output_type": "stream",
     "text": [
      "Visualising function show_boxplot() was skipped due to false value of visualisation flag VISUALIZE (defined in Constants section).\n"
     ]
    }
   ],
   "source": [
    "# and boxplots for target\n",
    "# there are some extreme values in Price column, so don't show outliers\n",
    "show_boxplot(df_train, 'Vendor', 'Price', ordering=True, showfliers=False)"
   ],
   "metadata": {
    "collapsed": false,
    "pycharm": {
     "name": "#%%\n"
    }
   }
  },
  {
   "cell_type": "markdown",
   "source": [
    "Conclusion:\n",
    "We have some unbalance in train and test, but not critical.\n",
    "See some differences in boxplots. Greater IQR for European cars and Japanese cars are slightly cheaper."
   ],
   "metadata": {
    "collapsed": false,
    "pycharm": {
     "name": "#%% md\n"
    }
   }
  },
  {
   "cell_type": "markdown",
   "source": [
    "#### 'PTS'"
   ],
   "metadata": {
    "collapsed": false,
    "pycharm": {
     "name": "#%% md\n"
    }
   }
  },
  {
   "cell_type": "code",
   "execution_count": 432,
   "outputs": [
    {
     "data": {
      "text/plain": "Оригинал    26348\nДубликат     3627\nName: PTS, dtype: int64"
     },
     "metadata": {},
     "output_type": "display_data"
    },
    {
     "data": {
      "text/plain": "Оригинал    30098\nДубликат     4587\nNaN             1\nName: PTS, dtype: int64"
     },
     "metadata": {},
     "output_type": "display_data"
    }
   ],
   "source": [
    "display(df_train['PTS'].value_counts(dropna=False))\n",
    "display(df_test['PTS'].value_counts(dropna=False))"
   ],
   "metadata": {
    "collapsed": false,
    "pycharm": {
     "name": "#%%\n"
    }
   }
  },
  {
   "cell_type": "code",
   "execution_count": 433,
   "outputs": [
    {
     "data": {
      "text/plain": "10412    https://auto.ru/cars/used/sale/bmw/3er/3350400...\nName: car_url, dtype: object"
     },
     "execution_count": 433,
     "metadata": {},
     "output_type": "execute_result"
    }
   ],
   "source": [
    "# need to fill one NaN for test. Let's see on it\n",
    "df_test_orig[df_test_orig['ПТС'].isna()]['car_url']"
   ],
   "metadata": {
    "collapsed": false,
    "pycharm": {
     "name": "#%%\n"
    }
   }
  },
  {
   "cell_type": "code",
   "execution_count": 434,
   "outputs": [],
   "source": [
    "# nothing special - fill it with mode - 'Оригинал'\n",
    "fillna_mode(df_test, 'PTS')"
   ],
   "metadata": {
    "collapsed": false,
    "pycharm": {
     "name": "#%%\n"
    }
   }
  },
  {
   "cell_type": "code",
   "execution_count": 435,
   "outputs": [
    {
     "data": {
      "text/plain": "True"
     },
     "execution_count": 435,
     "metadata": {},
     "output_type": "execute_result"
    }
   ],
   "source": [
    "# check if train and test values are equal\n",
    "set(df_train['PTS'].unique()) == set(df_test['PTS'].unique())"
   ],
   "metadata": {
    "collapsed": false,
    "pycharm": {
     "name": "#%%\n"
    }
   }
  },
  {
   "cell_type": "code",
   "execution_count": 436,
   "outputs": [
    {
     "name": "stdout",
     "output_type": "stream",
     "text": [
      "Visualising function show_countplot() was skipped due to false value of visualisation flag VISUALIZE (defined in Constants section).\n",
      "Visualising function show_countplot() was skipped due to false value of visualisation flag VISUALIZE (defined in Constants section).\n"
     ]
    }
   ],
   "source": [
    "# analyze category balance for train and test\n",
    "show_countplot(df_train, 'PTS', ordering=True)\n",
    "show_countplot(df_test, 'PTS', ordering=True)"
   ],
   "metadata": {
    "collapsed": false,
    "pycharm": {
     "name": "#%%\n"
    }
   }
  },
  {
   "cell_type": "code",
   "execution_count": 437,
   "outputs": [
    {
     "name": "stdout",
     "output_type": "stream",
     "text": [
      "Visualising function show_boxplot() was skipped due to false value of visualisation flag VISUALIZE (defined in Constants section).\n"
     ]
    }
   ],
   "source": [
    "# and boxplots for target\n",
    "# there are some extreme values in Price column, so don't show outliers\n",
    "show_boxplot(df_train, 'PTS', 'Price', ordering=True, showfliers=False)"
   ],
   "metadata": {
    "collapsed": false,
    "pycharm": {
     "name": "#%%\n"
    }
   }
  },
  {
   "cell_type": "markdown",
   "source": [
    "Conclusion:\n",
    "Train and test balance is very similar.\n",
    "Significant difference in price between values. No one want to pay for weird case of 'Дубликат'. Supposedly good feature for price prediction."
   ],
   "metadata": {
    "collapsed": false,
    "pycharm": {
     "name": "#%% md\n"
    }
   }
  },
  {
   "cell_type": "markdown",
   "source": [
    "#### 'Wheel'"
   ],
   "metadata": {
    "collapsed": false,
    "pycharm": {
     "name": "#%% md\n"
    }
   }
  },
  {
   "cell_type": "code",
   "execution_count": 438,
   "outputs": [
    {
     "data": {
      "text/plain": "Левый     28090\nПравый     1885\nName: Wheel, dtype: int64"
     },
     "metadata": {},
     "output_type": "display_data"
    },
    {
     "data": {
      "text/plain": "Левый     33287\nПравый     1399\nName: Wheel, dtype: int64"
     },
     "metadata": {},
     "output_type": "display_data"
    }
   ],
   "source": [
    "display(df_train['Wheel'].value_counts(dropna=False))\n",
    "display(df_test['Wheel'].value_counts(dropna=False))"
   ],
   "metadata": {
    "collapsed": false,
    "pycharm": {
     "name": "#%%\n"
    }
   }
  },
  {
   "cell_type": "code",
   "execution_count": 439,
   "outputs": [
    {
     "data": {
      "text/plain": "True"
     },
     "execution_count": 439,
     "metadata": {},
     "output_type": "execute_result"
    }
   ],
   "source": [
    "# check if train and test values are equal\n",
    "set(df_train['Wheel'].unique()) == set(df_test['Wheel'].unique())"
   ],
   "metadata": {
    "collapsed": false,
    "pycharm": {
     "name": "#%%\n"
    }
   }
  },
  {
   "cell_type": "code",
   "execution_count": 440,
   "outputs": [
    {
     "name": "stdout",
     "output_type": "stream",
     "text": [
      "Visualising function show_countplot() was skipped due to false value of visualisation flag VISUALIZE (defined in Constants section).\n",
      "Visualising function show_countplot() was skipped due to false value of visualisation flag VISUALIZE (defined in Constants section).\n"
     ]
    }
   ],
   "source": [
    "# analyze category balance for train and test\n",
    "show_countplot(df_train, 'Wheel', ordering=True)\n",
    "show_countplot(df_test, 'Wheel', ordering=True)"
   ],
   "metadata": {
    "collapsed": false,
    "pycharm": {
     "name": "#%%\n"
    }
   }
  },
  {
   "cell_type": "code",
   "execution_count": 441,
   "outputs": [
    {
     "name": "stdout",
     "output_type": "stream",
     "text": [
      "Visualising function show_boxplot() was skipped due to false value of visualisation flag VISUALIZE (defined in Constants section).\n"
     ]
    }
   ],
   "source": [
    "# and boxplots for target\n",
    "# there are some extreme values in Price column, so don't show outliers\n",
    "show_boxplot(df_train, 'Wheel', 'Price', ordering=True, showfliers=False)"
   ],
   "metadata": {
    "collapsed": false,
    "pycharm": {
     "name": "#%%\n"
    }
   }
  },
  {
   "cell_type": "markdown",
   "source": [
    "Conclusion:\n",
    "Train and test balance is similar.\n",
    "Significant difference in price between values. Right-wheel cars much more cheaper and has narrower price IQR. Supposedly good feature for price prediction."
   ],
   "metadata": {
    "collapsed": false,
    "pycharm": {
     "name": "#%% md\n"
    }
   }
  },
  {
   "cell_type": "markdown",
   "source": [
    "### Target feature"
   ],
   "metadata": {
    "collapsed": false,
    "pycharm": {
     "name": "#%% md\n"
    }
   }
  },
  {
   "cell_type": "code",
   "execution_count": 442,
   "outputs": [
    {
     "name": "stdout",
     "output_type": "stream",
     "text": [
      "Visualising function analyze_num_col() was skipped due to false value of visualisation flag VISUALIZE (defined in Constants section).\n"
     ]
    }
   ],
   "source": [
    "analyze_num_col(df_train, 'Price', need_log=True, hist_bins=50)"
   ],
   "metadata": {
    "collapsed": false,
    "pycharm": {
     "name": "#%%\n"
    }
   }
  },
  {
   "cell_type": "code",
   "execution_count": 443,
   "outputs": [
    {
     "name": "stdout",
     "output_type": "stream",
     "text": [
      "Visualising function vis_analyze_num_col() was skipped due to false value of visualisation flag VISUALIZE (defined in Constants section).\n"
     ]
    }
   ],
   "source": [
    "# Price has extreme outlier, let's see on it without them\n",
    "vis_analyze_num_col(df_train[df_train['Price'] < df_train['Price'].quantile(0.99)],'Price', hist_bins=50)"
   ],
   "metadata": {
    "collapsed": false,
    "pycharm": {
     "name": "#%%\n"
    }
   }
  },
  {
   "cell_type": "markdown",
   "source": [
    "We also should consider a parsing time for train and test sets, because our target variable price is changing over time."
   ],
   "metadata": {
    "collapsed": false,
    "pycharm": {
     "name": "#%% md\n"
    }
   }
  },
  {
   "cell_type": "code",
   "execution_count": 444,
   "outputs": [
    {
     "data": {
      "text/plain": "2022-02-02    29876\n2022-02-06       99\nName: ParsingUnixtime, dtype: int64"
     },
     "metadata": {},
     "output_type": "display_data"
    },
    {
     "data": {
      "text/plain": "2020-10-19     6441\n2020-10-20     6813\n2020-10-21    15907\n2020-10-24     2123\n2020-10-25     2944\n2020-10-26      458\nName: ParsingUnixtime, dtype: int64"
     },
     "metadata": {},
     "output_type": "display_data"
    }
   ],
   "source": [
    "for df in dfs.values():\n",
    "    df['ParsingUnixtime'] = pd.to_datetime(df['ParsingUnixtime'], unit='s')\n",
    "    df['ParsingUnixtime'] = pd.to_datetime(df['ParsingUnixtime'].dt.floor('d'))\n",
    "    display(df['ParsingUnixtime'].value_counts().sort_index())"
   ],
   "metadata": {
    "collapsed": false,
    "pycharm": {
     "name": "#%%\n"
    }
   }
  },
  {
   "cell_type": "markdown",
   "source": [
    "Conclusion:\n",
    "Target variable Price distribution is very skewed to less values and has extreme outliers and not so small of them based on IQR (6 %). We don't know if something like this exist in test - maybe their removing before training could improve future results. Makes sense to try (maybe not if log transform).\n",
    "Log transform of target feature seems much more normal (form, skewness near zero), has \"better\" value range, less number (2.3 %) and less values of outliers. Definitely should try log transform for target.\n",
    "\n",
    "Test parsing date is 10.2020 and train parsing date is 02.2022 - 1.33 years diff. So, we should consider price changing during this period of time.\n",
    "Based on information from [this page of autostat.ru](https://www.autostat.ru/infographics/48987/) and some other statistics, let's choose as start point for our experiments with price correction coefficient range [1.3 - 1.7]. But experiments result is the only truth for such a problem."
   ],
   "metadata": {
    "collapsed": false,
    "pycharm": {
     "name": "#%% md\n"
    }
   }
  },
  {
   "cell_type": "code",
   "execution_count": 444,
   "outputs": [],
   "source": [],
   "metadata": {
    "collapsed": false,
    "pycharm": {
     "name": "#%%\n"
    }
   }
  },
  {
   "cell_type": "markdown",
   "source": [
    "## New feature engineering"
   ],
   "metadata": {
    "collapsed": false,
    "pycharm": {
     "name": "#%% md\n"
    }
   }
  },
  {
   "cell_type": "markdown",
   "source": [
    "### Numeric"
   ],
   "metadata": {
    "collapsed": false,
    "pycharm": {
     "name": "#%% md\n"
    }
   }
  },
  {
   "cell_type": "code",
   "execution_count": 445,
   "outputs": [
    {
     "name": "stdout",
     "output_type": "stream",
     "text": [
      "(2988, 21)\n",
      "(2928, 21)\n"
     ]
    }
   ],
   "source": [
    "# let's create feature based on description column\n",
    "# see on most frequent words for expensive and for cheap cars\n",
    "expensive_cars = df_train[df_train['Price'] > df_train['Price'].quantile(0.9)]\n",
    "cheap_cars = df_train[df_train['Price'] < df_train['Price'].quantile(0.1)]\n",
    "print(expensive_cars.shape)\n",
    "print(cheap_cars.shape)"
   ],
   "metadata": {
    "collapsed": false,
    "pycharm": {
     "name": "#%%\n"
    }
   }
  },
  {
   "cell_type": "code",
   "execution_count": 446,
   "outputs": [
    {
     "data": {
      "text/plain": "Система         3020\nсистема         1860\nпробегом        1766\nбезопасности    1610\nсидений         1138\n                ... \nжёсткостью.        1\nэлектронно         1\nпеременной,        1\nride:              1\nпредоставлю        1\nLength: 23690, dtype: int64"
     },
     "execution_count": 446,
     "metadata": {},
     "output_type": "execute_result"
    }
   ],
   "source": [
    "n_1st_words = 200\n",
    "expen_words_freq = expensive_cars['Description'].str.split(expand=True, n=n_1st_words).iloc[:, :n_1st_words].stack().value_counts()\n",
    "expen_words_freq = expen_words_freq[expen_words_freq.index.map(lambda w: True if (len(w) > 3 and 'авто' not in w.lower()) else False)]\n",
    "expen_words_freq"
   ],
   "metadata": {
    "collapsed": false,
    "pycharm": {
     "name": "#%%\n"
    }
   }
  },
  {
   "cell_type": "code",
   "execution_count": 447,
   "outputs": [
    {
     "data": {
      "text/plain": "пробегом        536\nхорошем         531\nесть            515\nработает        465\nМашина          396\n               ... \n12.5.1            1\nпредлагаете       1\nварианты....      1\nвстретиться       1\nнейтральной       1\nLength: 24503, dtype: int64"
     },
     "execution_count": 447,
     "metadata": {},
     "output_type": "execute_result"
    }
   ],
   "source": [
    "cheap_words_freq = cheap_cars['Description'].str.split(expand=True, n=n_1st_words).iloc[:, :n_1st_words].stack().value_counts()\n",
    "cheap_words_freq = cheap_words_freq[cheap_words_freq.index.map(lambda w: True if (len(w) > 3 and 'авто' not in w.lower()) else False)]\n",
    "cheap_words_freq"
   ],
   "metadata": {
    "collapsed": false,
    "pycharm": {
     "name": "#%%\n"
    }
   }
  },
  {
   "cell_type": "code",
   "execution_count": 448,
   "outputs": [
    {
     "data": {
      "text/plain": "пробегом         6988\nМашина           5853\nотличном         5235\nесть             4667\nтолько           4544\n                 ... \nинетом,             1\nплановый            1\nден\"ги!!!           1\nподарок(новая       1\nнеадекватные        1\nLength: 163953, dtype: int64"
     },
     "execution_count": 448,
     "metadata": {},
     "output_type": "execute_result"
    }
   ],
   "source": [
    "test_descr_words = df_test['Description'].str.split(expand=True, n=n_1st_words).iloc[:,:n_1st_words].stack().value_counts()\n",
    "test_descr_words = test_descr_words[test_descr_words.index.map(lambda w: True if (len(w)>3 and 'авто' not in w.lower()) else False)]\n",
    "test_descr_words"
   ],
   "metadata": {
    "collapsed": false,
    "pycharm": {
     "name": "#%%\n"
    }
   }
  },
  {
   "cell_type": "markdown",
   "source": [
    "Considering word frequency tables above and results of car pages analysis we will try to create feature ComplectationRank which indicates expensiveness of car complectation with function below:"
   ],
   "metadata": {
    "collapsed": false,
    "pycharm": {
     "name": "#%% md\n"
    }
   }
  },
  {
   "cell_type": "code",
   "execution_count": 449,
   "outputs": [],
   "source": [
    "def complectation_rank(description:str):\n",
    "    descr = description.lower()\n",
    "    rank = 0\n",
    "    expensive_patterns = ['систем', 'датчик', 'круиз', 'многозонный', 'безопасности пассажир',\n",
    "                          'безопасности боков', 'глонас', 'парктроник', 'камер', r'\\bкож']\n",
    "\n",
    "    for pattern in expensive_patterns:\n",
    "        if re.search(pattern, descr):\n",
    "            rank += 1\n",
    "    return rank"
   ],
   "metadata": {
    "collapsed": false,
    "pycharm": {
     "name": "#%%\n"
    }
   }
  },
  {
   "cell_type": "code",
   "execution_count": 450,
   "outputs": [],
   "source": [
    "# create new numerical features (for train and test)\n",
    "for key, df in dfs.items():\n",
    "    # add ComplectationRank via funciton above\n",
    "    df['ComplectationRank'] = df['Description'].apply(complectation_rank)\n",
    "\n",
    "    # also try words count for Description\n",
    "    df['DescrWordsCount'] = df['Description'].apply(lambda s: len(s.split()))\n",
    "\n",
    "    # age of the car\n",
    "    parsing_date = 2022 if key == 'train' else 2020\n",
    "    df['Age'] = parsing_date - df['ProductionDate']\n",
    "\n",
    "    # mileage per year\n",
    "    df['MileagePerYear'] = df['Mileage'] / df['Age']\n",
    "    df['MileagePerYear'].replace([np.inf, -np.inf], 0, inplace=True)\n",
    "\n",
    "    # count of years for one owner\n",
    "    # well, we have not numeric value '3 и БОЛЕЕ' in Owners that makes this feature somewhat questionable\n",
    "    # but let's experiment with it, perhaps we will see if there is a tendency\n",
    "    df['YearsPerOwner'] = df['Age'] / df['Owners'].apply(lambda s:int(s[0]))\n",
    "\n",
    "# add new numeric columns in separate list\n",
    "new_num_cols = OrderedSet(['ComplectationRank', 'DescrWordsCount', 'Age', 'MileagePerYear', 'YearsPerOwner'])"
   ],
   "metadata": {
    "collapsed": false,
    "pycharm": {
     "name": "#%%\n"
    }
   }
  },
  {
   "cell_type": "code",
   "execution_count": 451,
   "outputs": [
    {
     "name": "stdout",
     "output_type": "stream",
     "text": [
      "****************************************************************************************************\n",
      "************************************     ComplectationRank     ************************************\n",
      "****************************************************************************************************\n",
      "Visualising function analyze_num_col() was skipped due to false value of visualisation flag VISUALIZE (defined in Constants section).\n",
      "****************************************************************************************************\n",
      "*************************************     DescrWordsCount     *************************************\n",
      "****************************************************************************************************\n",
      "Visualising function analyze_num_col() was skipped due to false value of visualisation flag VISUALIZE (defined in Constants section).\n",
      "****************************************************************************************************\n",
      "*******************************************     Age     *******************************************\n",
      "****************************************************************************************************\n",
      "Visualising function analyze_num_col() was skipped due to false value of visualisation flag VISUALIZE (defined in Constants section).\n",
      "****************************************************************************************************\n",
      "**************************************     MileagePerYear     **************************************\n",
      "****************************************************************************************************\n",
      "Visualising function analyze_num_col() was skipped due to false value of visualisation flag VISUALIZE (defined in Constants section).\n",
      "****************************************************************************************************\n",
      "**************************************     YearsPerOwner     **************************************\n",
      "****************************************************************************************************\n",
      "Visualising function analyze_num_col() was skipped due to false value of visualisation flag VISUALIZE (defined in Constants section).\n"
     ]
    }
   ],
   "source": [
    "# analyze new numeric features\n",
    "for col in new_num_cols:\n",
    "    print_framed(col)\n",
    "    analyze_num_col(df_train[df_train['Price'] < df_train['Price'].quantile(0.98)], col, 'Price', need_log=True, hist_bins=50, hist2d_x_bins=40, hist2d_y_bins=30)\n"
   ],
   "metadata": {
    "collapsed": false,
    "pycharm": {
     "name": "#%%\n"
    }
   }
  },
  {
   "cell_type": "code",
   "execution_count": 452,
   "outputs": [
    {
     "data": {
      "text/plain": "<AxesSubplot:>"
     },
     "execution_count": 452,
     "metadata": {},
     "output_type": "execute_result"
    },
    {
     "data": {
      "text/plain": "<Figure size 640x480 with 2 Axes>",
      "image/png": "[encoded data removed]"
     },
     "metadata": {},
     "output_type": "display_data"
    }
   ],
   "source": [
    "# correlation analysis for all numeric features\n",
    "sb.heatmap(df_train[(num_cols | new_num_cols) - cols_to_del | {'Price'}].corr(), vmin=-1, vmax=1, annot=True, cmap='coolwarm')"
   ],
   "metadata": {
    "collapsed": false,
    "pycharm": {
     "name": "#%%\n"
    }
   }
  },
  {
   "cell_type": "markdown",
   "source": [
    "Conclusion:\n",
    "'ComplectationRank'\n",
    "We can see expected correlation with 'DescrWordsCount' feature, but not extreme. And as described earlier there is some correlation with price - visually and by corr coefficient (0.28 for price 0.98 percentile and 0.22 for all records). Leave this feature.\n",
    "Log transofrm seems not to be helpful due to distribution form and corr coefficients comparing to original data. Don't use log transform for this feature.\n",
    "\n",
    "'DescrWordsCount'\n",
    "There is also some visual and numeric correlation with price. Let's leave this feature. Don't use log transform.\n",
    "\n",
    "'Age'\n",
    "We can see strong correlation with ProductionDate and considerable correlation with Mileage. Decide to leave Age feature because of 2 points:\n",
    "1. Age have more relative difference between values compared to ProductionDate\n",
    "2. Age wouldn't have this shift between train and test compared to ProductionDate feature due to their different parsing time. For example for ProductionDate = 2010 for train set all dependencies would be like for 12 years old car, but for test ProductionDate 2010 - it is only 10 years old\n",
    "\n",
    "'MileagePerYear'\n",
    "We can see almost no correlation with price. Maybe just a little positive (surprisingly) from visual analysis of scatter for small number of observations. But let's leave the feature for experiments. No sense to log transform.\n",
    "\n",
    "'YearsPerOwner'\n",
    "We can see some negative (a bit surprisingly) correlation (corr coeff = -0.42 for 0.98 percentile). Cars which belonged to one owner long time cost less. Maybe it is like an indicator of car liquidity. Interesting dependency. We remember that this is rather questionable feature, but let's try it and decide about its usefulness later.\n",
    "Decide to log transform this feature due to greater corr coef for log transformed data."
   ],
   "metadata": {
    "collapsed": false
   }
  },
  {
   "cell_type": "code",
   "execution_count": 453,
   "outputs": [],
   "source": [
    "cols_to_del |= {'ProductionDate'}\n",
    "cols_to_log |= {'YearsPerOwner'}"
   ],
   "metadata": {
    "collapsed": false,
    "pycharm": {
     "name": "#%%\n"
    }
   }
  },
  {
   "cell_type": "markdown",
   "source": [
    "### Qualitative"
   ],
   "metadata": {
    "collapsed": false,
    "pycharm": {
     "name": "#%% md\n"
    }
   }
  },
  {
   "cell_type": "code",
   "execution_count": 454,
   "outputs": [],
   "source": [
    "# create new qualitative features (for train and test)\n",
    "for df in dfs.values():\n",
    "    # car rarity flag\n",
    "    df['Rarity'] = df['Age'].apply(lambda age: 1 if age > 45 else 0)\n",
    "\n",
    "    # 3 top (expensive) colors\n",
    "    df['ExpensiveColor'] = df['Color'].apply(lambda c: 1 if c in ['чёрный','белый','коричневый'] else 0)\n",
    "\n",
    "    # and 3 cheap colors\n",
    "    df['CheapColor'] = df['Color'].apply(lambda c: 1 if c in ['зелёный','розовый'] else 0)\n",
    "\n",
    "    # expensive models - which are in list we defined earlier\n",
    "    df['ExpensiveModel'] = df['ModelName'].apply(lambda n: 1 if n in expensive_models else 0)\n",
    "\n",
    "# add new bin columns in separate list\n",
    "new_bin_cols = OrderedSet(['Rarity', 'ExpensiveColor', 'CheapColor', 'ExpensiveModel'])"
   ],
   "metadata": {
    "collapsed": false,
    "pycharm": {
     "name": "#%%\n"
    }
   }
  },
  {
   "cell_type": "code",
   "execution_count": 455,
   "outputs": [
    {
     "name": "stdout",
     "output_type": "stream",
     "text": [
      "****************************************************************************************************\n",
      "******************************************     Rarity     ******************************************\n",
      "****************************************************************************************************\n",
      "For train:\n",
      "Visualising function show_countplot() was skipped due to false value of visualisation flag VISUALIZE (defined in Constants section).\n",
      "Visualising function show_boxplot() was skipped due to false value of visualisation flag VISUALIZE (defined in Constants section).\n",
      "For test:\n",
      "Visualising function show_countplot() was skipped due to false value of visualisation flag VISUALIZE (defined in Constants section).\n",
      "****************************************************************************************************\n",
      "**************************************     ExpensiveColor     **************************************\n",
      "****************************************************************************************************\n",
      "For train:\n",
      "Visualising function show_countplot() was skipped due to false value of visualisation flag VISUALIZE (defined in Constants section).\n",
      "Visualising function show_boxplot() was skipped due to false value of visualisation flag VISUALIZE (defined in Constants section).\n",
      "For test:\n",
      "Visualising function show_countplot() was skipped due to false value of visualisation flag VISUALIZE (defined in Constants section).\n",
      "****************************************************************************************************\n",
      "****************************************     CheapColor     ****************************************\n",
      "****************************************************************************************************\n",
      "For train:\n",
      "Visualising function show_countplot() was skipped due to false value of visualisation flag VISUALIZE (defined in Constants section).\n",
      "Visualising function show_boxplot() was skipped due to false value of visualisation flag VISUALIZE (defined in Constants section).\n",
      "For test:\n",
      "Visualising function show_countplot() was skipped due to false value of visualisation flag VISUALIZE (defined in Constants section).\n",
      "****************************************************************************************************\n",
      "**************************************     ExpensiveModel     **************************************\n",
      "****************************************************************************************************\n",
      "For train:\n",
      "Visualising function show_countplot() was skipped due to false value of visualisation flag VISUALIZE (defined in Constants section).\n",
      "Visualising function show_boxplot() was skipped due to false value of visualisation flag VISUALIZE (defined in Constants section).\n",
      "For test:\n",
      "Visualising function show_countplot() was skipped due to false value of visualisation flag VISUALIZE (defined in Constants section).\n"
     ]
    }
   ],
   "source": [
    "# let's analyze new features\n",
    "for col in new_bin_cols:\n",
    "    print_framed(col)\n",
    "    print('For train:')\n",
    "    show_countplot(df_train, col, ordering=True)\n",
    "    show_boxplot(df_train, col, 'Price', ordering=True, showfliers=False)\n",
    "    print('For test:')\n",
    "    show_countplot(df_test, col, ordering=True)"
   ],
   "metadata": {
    "collapsed": false,
    "pycharm": {
     "name": "#%%\n"
    }
   }
  },
  {
   "cell_type": "markdown",
   "source": [
    "Most of our new binary features have very small count of records, but all of them as we planned have significant difference in price boxplots, hope this will help."
   ],
   "metadata": {
    "collapsed": false,
    "pycharm": {
     "name": "#%% md\n"
    }
   }
  },
  {
   "cell_type": "markdown",
   "source": [
    "Now we finished with EDA and feature engineering and ready to start feature preparation stage."
   ],
   "metadata": {
    "collapsed": false,
    "pycharm": {
     "name": "#%% md\n"
    }
   }
  },
  {
   "cell_type": "code",
   "execution_count": 456,
   "outputs": [
    {
     "data": {
      "text/plain": "OrderedSet(['EngineDisplacement', 'ModelDate', 'ProductionDate'])"
     },
     "execution_count": 456,
     "metadata": {},
     "output_type": "execute_result"
    }
   ],
   "source": [
    "cols_to_del"
   ],
   "metadata": {
    "collapsed": false,
    "pycharm": {
     "name": "#%%\n"
    }
   }
  },
  {
   "cell_type": "code",
   "execution_count": 457,
   "outputs": [
    {
     "name": "stdout",
     "output_type": "stream",
     "text": [
      "<class 'pandas.core.frame.DataFrame'>\n",
      "RangeIndex: 29975 entries, 0 to 29974\n",
      "Data columns (total 8 columns):\n",
      " #   Column             Non-Null Count  Dtype  \n",
      "---  ------             --------------  -----  \n",
      " 0   EnginePower        29975 non-null  float64\n",
      " 1   Mileage            29975 non-null  float64\n",
      " 2   Price              29975 non-null  float64\n",
      " 3   ComplectationRank  29975 non-null  int64  \n",
      " 4   DescrWordsCount    29975 non-null  int64  \n",
      " 5   Age                29975 non-null  float64\n",
      " 6   MileagePerYear     29975 non-null  float64\n",
      " 7   YearsPerOwner      29975 non-null  float64\n",
      "dtypes: float64(6), int64(2)\n",
      "memory usage: 1.8 MB\n",
      "<class 'pandas.core.frame.DataFrame'>\n",
      "RangeIndex: 34686 entries, 0 to 34685\n",
      "Data columns (total 7 columns):\n",
      " #   Column             Non-Null Count  Dtype  \n",
      "---  ------             --------------  -----  \n",
      " 0   EnginePower        34686 non-null  int64  \n",
      " 1   Mileage            34686 non-null  int64  \n",
      " 2   ComplectationRank  34686 non-null  int64  \n",
      " 3   DescrWordsCount    34686 non-null  int64  \n",
      " 4   Age                34686 non-null  int64  \n",
      " 5   MileagePerYear     34686 non-null  float64\n",
      " 6   YearsPerOwner      34686 non-null  float64\n",
      "dtypes: float64(2), int64(5)\n",
      "memory usage: 1.9 MB\n"
     ]
    }
   ],
   "source": [
    "# add already unnecessary features to deletion\n",
    "cols_to_del |= {'SuperGen', 'ParsingUnixtime', 'Description'}\n",
    "cols_to_del |= qual_cols | new_bin_cols\n",
    "\n",
    "# and delete all unnecessary features\n",
    "for df in dfs.values():\n",
    "    df.drop(columns=cols_to_del, inplace=True)\n",
    "    df.info()\n",
    "\n",
    "# keep cols lists up to date\n",
    "\n",
    "num_cols -= cols_to_del\n",
    "cat_cols -= cols_to_del\n",
    "bin_cols -= cols_to_del\n",
    "qual_cols -= cols_to_del\n",
    "\n",
    "new_num_cols -= cols_to_del\n",
    "new_bin_cols -= cols_to_del\n"
   ],
   "metadata": {
    "collapsed": false,
    "pycharm": {
     "name": "#%%\n"
    }
   }
  },
  {
   "cell_type": "markdown",
   "source": [
    "## Feature preparation and encoding"
   ],
   "metadata": {
    "collapsed": false,
    "pycharm": {
     "name": "#%% md\n"
    }
   }
  },
  {
   "cell_type": "code",
   "execution_count": 458,
   "outputs": [
    {
     "data": {
      "text/plain": "(OrderedSet(['EnginePower', 'Mileage']),\n OrderedSet(),\n OrderedSet(),\n OrderedSet(['EnginePower', 'YearsPerOwner']))"
     },
     "execution_count": 458,
     "metadata": {},
     "output_type": "execute_result"
    }
   ],
   "source": [
    "# So what we have in feature lists\n",
    "num_cols, cat_cols, bin_cols, cols_to_log"
   ],
   "metadata": {
    "collapsed": false,
    "pycharm": {
     "name": "#%%\n"
    }
   }
  },
  {
   "cell_type": "code",
   "execution_count": 459,
   "outputs": [
    {
     "data": {
      "text/plain": "(OrderedSet(['ComplectationRank', 'DescrWordsCount', 'Age', 'MileagePerYear', 'YearsPerOwner']),\n OrderedSet())"
     },
     "execution_count": 459,
     "metadata": {},
     "output_type": "execute_result"
    }
   ],
   "source": [
    "new_num_cols, new_bin_cols"
   ],
   "metadata": {
    "collapsed": false,
    "pycharm": {
     "name": "#%%\n"
    }
   }
  },
  {
   "cell_type": "code",
   "execution_count": 460,
   "outputs": [
    {
     "data": {
      "text/plain": "Series([], dtype: float64)"
     },
     "execution_count": 460,
     "metadata": {},
     "output_type": "execute_result"
    }
   ],
   "source": [
    "df_train[qual_cols].nunique()"
   ],
   "metadata": {
    "collapsed": false,
    "pycharm": {
     "name": "#%%\n"
    }
   }
  },
  {
   "cell_type": "code",
   "execution_count": 461,
   "outputs": [],
   "source": [
    "# there is no clear natural ordering in our categorical features\n",
    "# (it could be owners, but we didn't see monotonic change in price and it's more like category)\n",
    "# (it could be number of doors, but the same argument and it's more like category too)\n",
    "# so no label encoding, all to OneHot for now.\n",
    "# except ModelName feature with too high cardinality - will try binary encoding for it\n",
    "# binary_encoding = {'ModelName'}\n",
    "binary_encoding = {}\n",
    "onehot_encoding = cat_cols - binary_encoding\n",
    "label_encoding = bin_cols\n",
    "\n",
    "# # remember that we should delete some encoded columns for BodyType in test\n",
    "# # because they are absent in train and we can't use our model without this step\n",
    "# onehot_encoding['BodyType'] = {'not in train':['тарга', 'фастбек']}"
   ],
   "metadata": {
    "collapsed": false,
    "pycharm": {
     "name": "#%%\n"
    }
   }
  },
  {
   "cell_type": "code",
   "execution_count": 462,
   "outputs": [],
   "source": [
    "# df_train_enc = df_train.copy()\n",
    "# df_test_enc = df_test.copy()\n",
    "\n",
    "df_train['Train'] = 1\n",
    "df_test['Train'] = 0\n",
    "df_comb = pd.concat([df_train, df_test], ignore_index=True)\n",
    "\n",
    "for col in onehot_encoding:\n",
    "    vals_no_train = set(df_test[col].unique()).difference(set(df_train[col].unique()))\n",
    "\n",
    "    df_comb = pd.get_dummies(df_comb, prefix=[col], columns=[col])\n",
    "\n",
    "    # remove from combined data dummy cols that not in train - have no choice with this train..\n",
    "    df_comb.drop(columns=[col+'_' + str(val) for val in vals_no_train], axis=1, inplace=True)\n",
    "\n",
    "for col in label_encoding:\n",
    "    vals_no_train = set(df_test[col].unique()).difference(set(df_train[col].unique()))\n",
    "    start_idx = 1 if vals_no_train else 0\n",
    "    labels_mapping = {cat:label for label,cat in enumerate(df_comb[col].unique(), start=start_idx)}\n",
    "    labels_mapping.update({cat:0 for cat in vals_no_train})\n",
    "\n",
    "    df_comb[col] = df_comb[col].map(labels_mapping)\n",
    "\n",
    "for col in binary_encoding:\n",
    "    vals_no_train = set(df_test[col].unique()).difference(set(df_train[col].unique()))\n",
    "\n",
    "    df_comb[col] = df_comb[col].apply(lambda v: None if v in vals_no_train else v)\n",
    "    bin_enc = BinaryEncoder(cols=[col])\n",
    "\n",
    "    df_comb = bin_enc.fit_transform(df_comb, handle_missing='value')"
   ],
   "metadata": {
    "collapsed": false,
    "pycharm": {
     "name": "#%%\n"
    }
   }
  },
  {
   "cell_type": "code",
   "execution_count": 463,
   "outputs": [
    {
     "data": {
      "text/plain": "        Mileage      Price  ComplectationRank  DescrWordsCount   Age  \\\n0       98000.0  1030000.0                  2               26   8.0   \n1      239000.0   400000.0                  1              155  14.0   \n2        2000.0  1820000.0                  5              384   2.0   \n3      156000.0   730000.0                  2              207   5.0   \n4       50000.0  2250000.0                  6              427   6.0   \n...         ...        ...                ...              ...   ...   \n64656  115000.0        NaN                  0               60   6.0   \n64657   98000.0        NaN                  0                3   2.0   \n64658  360000.0        NaN                  0                2  23.0   \n64659   90500.0        NaN                  2               75   7.0   \n64660  240000.0        NaN                  0               74  12.0   \n\n       MileagePerYear  Train  EnginePower_log  YearsPerOwner_log  \n0        12250.000000      1         5.198497           2.197225  \n1        17071.428571      1         5.017280           2.079442  \n2         1000.000000      1         4.709530           1.098612  \n3        31200.000000      1         4.812184           1.252763  \n4         8333.333333      1         5.198497           1.945910  \n...               ...    ...              ...                ...  \n64656    19166.666667      0         4.919981           1.098612  \n64657    49000.000000      0         5.252273           1.098612  \n64658    15652.173913      0         5.141664           2.159484  \n64659    12928.571429      0         5.220356           1.504077  \n64660    20000.000000      0         5.463832           1.609438  \n\n[64661 rows x 9 columns]",
      "text/html": "<div>\n<style scoped>\n    .dataframe tbody tr th:only-of-type {\n        vertical-align: middle;\n    }\n\n    .dataframe tbody tr th {\n        vertical-align: top;\n    }\n\n    .dataframe thead th {\n        text-align: right;\n    }\n</style>\n<table border=\"1\" class=\"dataframe\">\n  <thead>\n    <tr style=\"text-align: right;\">\n      <th></th>\n      <th>Mileage</th>\n      <th>Price</th>\n      <th>ComplectationRank</th>\n      <th>DescrWordsCount</th>\n      <th>Age</th>\n      <th>MileagePerYear</th>\n      <th>Train</th>\n      <th>EnginePower_log</th>\n      <th>YearsPerOwner_log</th>\n    </tr>\n  </thead>\n  <tbody>\n    <tr>\n      <th>0</th>\n      <td>98000.0</td>\n      <td>1030000.0</td>\n      <td>2</td>\n      <td>26</td>\n      <td>8.0</td>\n      <td>12250.000000</td>\n      <td>1</td>\n      <td>5.198497</td>\n      <td>2.197225</td>\n    </tr>\n    <tr>\n      <th>1</th>\n      <td>239000.0</td>\n      <td>400000.0</td>\n      <td>1</td>\n      <td>155</td>\n      <td>14.0</td>\n      <td>17071.428571</td>\n      <td>1</td>\n      <td>5.017280</td>\n      <td>2.079442</td>\n    </tr>\n    <tr>\n      <th>2</th>\n      <td>2000.0</td>\n      <td>1820000.0</td>\n      <td>5</td>\n      <td>384</td>\n      <td>2.0</td>\n      <td>1000.000000</td>\n      <td>1</td>\n      <td>4.709530</td>\n      <td>1.098612</td>\n    </tr>\n    <tr>\n      <th>3</th>\n      <td>156000.0</td>\n      <td>730000.0</td>\n      <td>2</td>\n      <td>207</td>\n      <td>5.0</td>\n      <td>31200.000000</td>\n      <td>1</td>\n      <td>4.812184</td>\n      <td>1.252763</td>\n    </tr>\n    <tr>\n      <th>4</th>\n      <td>50000.0</td>\n      <td>2250000.0</td>\n      <td>6</td>\n      <td>427</td>\n      <td>6.0</td>\n      <td>8333.333333</td>\n      <td>1</td>\n      <td>5.198497</td>\n      <td>1.945910</td>\n    </tr>\n    <tr>\n      <th>...</th>\n      <td>...</td>\n      <td>...</td>\n      <td>...</td>\n      <td>...</td>\n      <td>...</td>\n      <td>...</td>\n      <td>...</td>\n      <td>...</td>\n      <td>...</td>\n    </tr>\n    <tr>\n      <th>64656</th>\n      <td>115000.0</td>\n      <td>NaN</td>\n      <td>0</td>\n      <td>60</td>\n      <td>6.0</td>\n      <td>19166.666667</td>\n      <td>0</td>\n      <td>4.919981</td>\n      <td>1.098612</td>\n    </tr>\n    <tr>\n      <th>64657</th>\n      <td>98000.0</td>\n      <td>NaN</td>\n      <td>0</td>\n      <td>3</td>\n      <td>2.0</td>\n      <td>49000.000000</td>\n      <td>0</td>\n      <td>5.252273</td>\n      <td>1.098612</td>\n    </tr>\n    <tr>\n      <th>64658</th>\n      <td>360000.0</td>\n      <td>NaN</td>\n      <td>0</td>\n      <td>2</td>\n      <td>23.0</td>\n      <td>15652.173913</td>\n      <td>0</td>\n      <td>5.141664</td>\n      <td>2.159484</td>\n    </tr>\n    <tr>\n      <th>64659</th>\n      <td>90500.0</td>\n      <td>NaN</td>\n      <td>2</td>\n      <td>75</td>\n      <td>7.0</td>\n      <td>12928.571429</td>\n      <td>0</td>\n      <td>5.220356</td>\n      <td>1.504077</td>\n    </tr>\n    <tr>\n      <th>64660</th>\n      <td>240000.0</td>\n      <td>NaN</td>\n      <td>0</td>\n      <td>74</td>\n      <td>12.0</td>\n      <td>20000.000000</td>\n      <td>0</td>\n      <td>5.463832</td>\n      <td>1.609438</td>\n    </tr>\n  </tbody>\n</table>\n<p>64661 rows × 9 columns</p>\n</div>"
     },
     "execution_count": 463,
     "metadata": {},
     "output_type": "execute_result"
    }
   ],
   "source": [
    "# log transform defined features\n",
    "for col in cols_to_log:\n",
    "    df_comb[f'{col}_log'] = log_transform(df_comb[col])\n",
    "    df_comb.drop(columns=[col], axis=1, inplace=True)\n",
    "\n",
    "df_comb"
   ],
   "metadata": {
    "collapsed": false,
    "pycharm": {
     "name": "#%%\n"
    }
   }
  },
  {
   "cell_type": "markdown",
   "source": [
    "## Learning"
   ],
   "metadata": {
    "collapsed": false,
    "pycharm": {
     "name": "#%% md\n"
    }
   }
  },
  {
   "cell_type": "code",
   "execution_count": 476,
   "outputs": [
    {
     "name": "stdout",
     "output_type": "stream",
     "text": [
      "(29975, 7)\n",
      "(34686, 7)\n",
      "(29975,)\n"
     ]
    }
   ],
   "source": [
    "X = df_comb[df_comb['Train'] == 1].drop(columns=['Price', 'Train']).values\n",
    "X_sub = df_comb[df_comb['Train'] == 0].drop(columns=['Price', 'Train']).values\n",
    "y = df_comb[df_comb['Train'] == 1]['Price']\n",
    "print(X.shape)\n",
    "print(X_sub.shape)\n",
    "print(y.shape)"
   ],
   "metadata": {
    "collapsed": false,
    "pycharm": {
     "name": "#%%\n"
    }
   }
  },
  {
   "cell_type": "code",
   "execution_count": 477,
   "outputs": [
    {
     "name": "stdout",
     "output_type": "stream",
     "text": [
      "(23980, 7)\n",
      "(5995, 7)\n"
     ]
    }
   ],
   "source": [
    "X_train, X_test, y_train, y_test = train_test_split(X, y, test_size=0.2, shuffle=True, random_state=SEED)\n",
    "y_train_log = log_transform(y_train)\n",
    "y_test_log = log_transform(y_test)\n",
    "\n",
    "print(X_train.shape)\n",
    "print(X_test.shape)"
   ],
   "metadata": {
    "collapsed": false,
    "pycharm": {
     "name": "#%%\n"
    }
   }
  },
  {
   "cell_type": "markdown",
   "source": [
    "### Simple model (linear regression)"
   ],
   "metadata": {
    "collapsed": false,
    "pycharm": {
     "name": "#%% md\n"
    }
   }
  },
  {
   "cell_type": "code",
   "execution_count": 607,
   "outputs": [
    {
     "name": "stdout",
     "output_type": "stream",
     "text": [
      "y_mape_log = 0.019020811255474928, y_mape_inv_log = 0.2776060965932397, y_mape = 0.594947808303706\n"
     ]
    }
   ],
   "source": [
    "\n",
    "X_train_cur = X_train\n",
    "# X_train_cur = MinMaxScaler().fit_transform(X_train_cur)\n",
    "\n",
    "# lin_reg = LinearRegression(positive=True)\n",
    "# lin_reg.fit(X_train_cur, y_train_log)\n",
    "# y_pred_log = lin_reg.predict(X_test)\n",
    "\n",
    "\n",
    "reg_pipe = Pipeline([('mms', StandardScaler()),\n",
    "                     ('Lasso', Lasso(max_iter=10_000))])\n",
    "\n",
    "params = [{'Lasso__alpha': np.logspace(-4,9,20)}]\n",
    "\n",
    "reg_model = GridSearchCV(reg_pipe, param_grid=params, scoring='neg_mean_absolute_percentage_error' ,cv=3, n_jobs=-1)\n",
    "\n",
    "reg_model.fit(X_train_cur, y_train)\n",
    "y_pred = reg_model.predict(X_test)\n",
    "\n",
    "reg_model.fit(X_train_cur, y_train_log)\n",
    "y_pred_log = reg_model.predict(X_test)\n",
    "\n",
    "y_mape_log = mape(y_pred_log, y_test_log)\n",
    "y_mape_inv_log = mape(inv_log_transform(y_pred_log), y_test)\n",
    "y_mape = mape(y_pred, y_test)\n",
    "\n",
    "\n",
    "print(f'y_mape_log = {y_mape_log}, y_mape_inv_log = {y_mape_inv_log}, y_mape = {y_mape}')\n"
   ],
   "metadata": {
    "collapsed": false,
    "pycharm": {
     "name": "#%%\n"
    }
   }
  },
  {
   "cell_type": "code",
   "execution_count": 606,
   "outputs": [
    {
     "data": {
      "text/plain": "array([[2.23000000e+05, 1.00000000e+00, 3.00000000e+02, ...,\n        1.17368421e+04, 4.41884061e+00, 1.99243016e+00],\n       [1.00000000e+03, 1.00000000e+00, 1.43000000e+02, ...,\n        1.00000000e+03, 5.16478597e+00, 6.93147181e-01],\n       [3.00000000e+03, 1.00000000e+00, 9.60000000e+01, ...,\n        1.00000000e+03, 5.80211838e+00, 1.38629436e+00],\n       ...,\n       [4.00000000e+03, 0.00000000e+00, 1.80000000e+01, ...,\n        1.33333333e+03, 5.73979291e+00, 1.38629436e+00],\n       [5.79000000e+05, 0.00000000e+00, 1.68000000e+02, ...,\n        3.04736842e+04, 5.46383181e+00, 1.99243016e+00],\n       [1.73000000e+05, 0.00000000e+00, 1.05000000e+02, ...,\n        1.44166667e+04, 4.33073334e+00, 1.60943791e+00]])"
     },
     "execution_count": 606,
     "metadata": {},
     "output_type": "execute_result"
    }
   ],
   "source": [
    "X_train_cur"
   ],
   "metadata": {
    "collapsed": false,
    "pycharm": {
     "name": "#%%\n"
    }
   }
  },
  {
   "cell_type": "code",
   "execution_count": 608,
   "outputs": [
    {
     "data": {
      "text/plain": "array([-0.11686137,  0.01856906,  0.02431637, -0.49724249,  0.0039171 ,\n        0.38018176, -0.00258318])"
     },
     "execution_count": 608,
     "metadata": {},
     "output_type": "execute_result"
    }
   ],
   "source": [
    "reg_model.best_params_\n",
    "reg_model.best_estimator_['Lasso'].coef_"
   ],
   "metadata": {
    "collapsed": false,
    "pycharm": {
     "name": "#%%\n"
    }
   }
  },
  {
   "cell_type": "code",
   "execution_count": 595,
   "outputs": [
    {
     "data": {
      "text/plain": "       EnginePower  Mileage  ComplectationRank  DescrWordsCount  Age  \\\n0              105    74000                  0              145    6   \n1              110    60563                  3              357    3   \n2              152    88000                  0              145    6   \n3              110    95000                  1              238    6   \n4              152    58536                  3              322    8   \n...            ...      ...                ...              ...  ...   \n34681          136   115000                  0               60    6   \n34682          190    98000                  0                3    2   \n34683          170   360000                  0                2   23   \n34684          184    90500                  2               75    7   \n34685          235   240000                  0               74   12   \n\n       MileagePerYear  YearsPerOwner  Train  \n0        12333.333333       2.000000      0  \n1        20187.666667       3.000000      0  \n2        14666.666667       6.000000      0  \n3        15833.333333       6.000000      0  \n4         7317.000000       8.000000      0  \n...               ...            ...    ...  \n34681    19166.666667       2.000000      0  \n34682    49000.000000       2.000000      0  \n34683    15652.173913       7.666667      0  \n34684    12928.571429       3.500000      0  \n34685    20000.000000       4.000000      0  \n\n[34686 rows x 8 columns]",
      "text/html": "<div>\n<style scoped>\n    .dataframe tbody tr th:only-of-type {\n        vertical-align: middle;\n    }\n\n    .dataframe tbody tr th {\n        vertical-align: top;\n    }\n\n    .dataframe thead th {\n        text-align: right;\n    }\n</style>\n<table border=\"1\" class=\"dataframe\">\n  <thead>\n    <tr style=\"text-align: right;\">\n      <th></th>\n      <th>EnginePower</th>\n      <th>Mileage</th>\n      <th>ComplectationRank</th>\n      <th>DescrWordsCount</th>\n      <th>Age</th>\n      <th>MileagePerYear</th>\n      <th>YearsPerOwner</th>\n      <th>Train</th>\n    </tr>\n  </thead>\n  <tbody>\n    <tr>\n      <th>0</th>\n      <td>105</td>\n      <td>74000</td>\n      <td>0</td>\n      <td>145</td>\n      <td>6</td>\n      <td>12333.333333</td>\n      <td>2.000000</td>\n      <td>0</td>\n    </tr>\n    <tr>\n      <th>1</th>\n      <td>110</td>\n      <td>60563</td>\n      <td>3</td>\n      <td>357</td>\n      <td>3</td>\n      <td>20187.666667</td>\n      <td>3.000000</td>\n      <td>0</td>\n    </tr>\n    <tr>\n      <th>2</th>\n      <td>152</td>\n      <td>88000</td>\n      <td>0</td>\n      <td>145</td>\n      <td>6</td>\n      <td>14666.666667</td>\n      <td>6.000000</td>\n      <td>0</td>\n    </tr>\n    <tr>\n      <th>3</th>\n      <td>110</td>\n      <td>95000</td>\n      <td>1</td>\n      <td>238</td>\n      <td>6</td>\n      <td>15833.333333</td>\n      <td>6.000000</td>\n      <td>0</td>\n    </tr>\n    <tr>\n      <th>4</th>\n      <td>152</td>\n      <td>58536</td>\n      <td>3</td>\n      <td>322</td>\n      <td>8</td>\n      <td>7317.000000</td>\n      <td>8.000000</td>\n      <td>0</td>\n    </tr>\n    <tr>\n      <th>...</th>\n      <td>...</td>\n      <td>...</td>\n      <td>...</td>\n      <td>...</td>\n      <td>...</td>\n      <td>...</td>\n      <td>...</td>\n      <td>...</td>\n    </tr>\n    <tr>\n      <th>34681</th>\n      <td>136</td>\n      <td>115000</td>\n      <td>0</td>\n      <td>60</td>\n      <td>6</td>\n      <td>19166.666667</td>\n      <td>2.000000</td>\n      <td>0</td>\n    </tr>\n    <tr>\n      <th>34682</th>\n      <td>190</td>\n      <td>98000</td>\n      <td>0</td>\n      <td>3</td>\n      <td>2</td>\n      <td>49000.000000</td>\n      <td>2.000000</td>\n      <td>0</td>\n    </tr>\n    <tr>\n      <th>34683</th>\n      <td>170</td>\n      <td>360000</td>\n      <td>0</td>\n      <td>2</td>\n      <td>23</td>\n      <td>15652.173913</td>\n      <td>7.666667</td>\n      <td>0</td>\n    </tr>\n    <tr>\n      <th>34684</th>\n      <td>184</td>\n      <td>90500</td>\n      <td>2</td>\n      <td>75</td>\n      <td>7</td>\n      <td>12928.571429</td>\n      <td>3.500000</td>\n      <td>0</td>\n    </tr>\n    <tr>\n      <th>34685</th>\n      <td>235</td>\n      <td>240000</td>\n      <td>0</td>\n      <td>74</td>\n      <td>12</td>\n      <td>20000.000000</td>\n      <td>4.000000</td>\n      <td>0</td>\n    </tr>\n  </tbody>\n</table>\n<p>34686 rows × 8 columns</p>\n</div>"
     },
     "execution_count": 595,
     "metadata": {},
     "output_type": "execute_result"
    }
   ],
   "source": [
    "df_test"
   ],
   "metadata": {
    "collapsed": false,
    "pycharm": {
     "name": "#%%\n"
    }
   }
  },
  {
   "cell_type": "code",
   "execution_count": 561,
   "outputs": [
    {
     "name": "stdout",
     "output_type": "stream",
     "text": [
      "[0.001      0.00215443 0.00464159 0.01       0.02154435 0.04641589\n",
      " 0.1        0.21544347 0.46415888 1.        ]\n"
     ]
    },
    {
     "data": {
      "text/plain": "<Figure size 640x480 with 1 Axes>",
      "image/png": "[encoded data removed]"
     },
     "metadata": {},
     "output_type": "display_data"
    }
   ],
   "source": [
    "space= np.logspace(-3,0 ,10)\n",
    "plt.plot(range(0,10),space, marker='.')\n",
    "print(space)"
   ],
   "metadata": {
    "collapsed": false,
    "pycharm": {
     "name": "#%%\n"
    }
   }
  },
  {
   "cell_type": "code",
   "execution_count": 508,
   "outputs": [
    {
     "data": {
      "text/plain": "4877     0.811286\n2275    -0.060552\n11422    0.014956\n20882   -1.255392\n7182     0.902258\n           ...   \n16371   -0.375141\n17172   -1.045916\n23787   -0.491940\n8282     0.249603\n29718    0.886510\nName: Price, Length: 5995, dtype: float64"
     },
     "execution_count": 508,
     "metadata": {},
     "output_type": "execute_result"
    }
   ],
   "source": [
    "# y_pred_log\n",
    "X_train_cur\n",
    "y_train_log\n",
    "y_pred_log - y_test_log"
   ],
   "metadata": {
    "collapsed": false,
    "pycharm": {
     "name": "#%%\n"
    }
   }
  },
  {
   "cell_type": "code",
   "execution_count": null,
   "outputs": [],
   "source": [
    "# save submission for algorithm\n",
    "y_pred_subm_log = lin_reg.predict(X_sub)\n",
    "y_pred_subm = inv_log_transform(y_pred_subm_log)\n",
    "\n",
    "df_sub = df_test_orig['sell_id'].copy()\n",
    "df_sub['price'] = y_pred_subm"
   ],
   "metadata": {
    "collapsed": false,
    "pycharm": {
     "name": "#%%\n"
    }
   }
  },
  {
   "cell_type": "markdown",
   "source": [
    "# Trials"
   ],
   "metadata": {
    "collapsed": false,
    "pycharm": {
     "name": "#%% md\n"
    }
   }
  },
  {
   "cell_type": "code",
   "execution_count": null,
   "outputs": [],
   "source": [],
   "metadata": {
    "collapsed": false,
    "pycharm": {
     "name": "#%%\n"
    }
   }
  },
  {
   "cell_type": "markdown",
   "source": [
    "\n"
   ],
   "metadata": {
    "collapsed": false,
    "pycharm": {
     "name": "#%% md\n"
    }
   }
  },
  {
   "cell_type": "code",
   "execution_count": null,
   "outputs": [],
   "source": [],
   "metadata": {
    "collapsed": false,
    "pycharm": {
     "name": "#%%\n"
    }
   }
  }
 ],
 "metadata": {
  "kernelspec": {
   "display_name": "Python 3",
   "language": "python",
   "name": "python3"
  },
  "language_info": {
   "codemirror_mode": {
    "name": "ipython",
    "version": 2
   },
   "file_extension": ".py",
   "mimetype": "text/x-python",
   "name": "python",
   "nbconvert_exporter": "python",
   "pygments_lexer": "ipython2",
   "version": "2.7.6"
  }
 },
 "nbformat": 4,
 "nbformat_minor": 0
}