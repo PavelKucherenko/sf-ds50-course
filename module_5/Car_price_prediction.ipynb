{
 "cells": [
  {
   "cell_type": "markdown",
   "metadata": {
    "collapsed": true,
    "pycharm": {
     "name": "#%% md\n"
    }
   },
   "source": [
    "# Car price prediction project (module 5)"
   ]
  },
  {
   "cell_type": "markdown",
   "source": [
    "## Import"
   ],
   "metadata": {
    "collapsed": false,
    "pycharm": {
     "name": "#%% md\n"
    }
   }
  },
  {
   "cell_type": "code",
   "execution_count": 135,
   "outputs": [
    {
     "name": "stdout",
     "output_type": "stream",
     "text": [
      "Import is completed.\n"
     ]
    }
   ],
   "source": [
    "# general packages\n",
    "import time\n",
    "import re\n",
    "\n",
    "import numpy as np\n",
    "from IPython.display import display\n",
    "\n",
    "# tabular data analysis/processing\n",
    "import pandas as pd\n",
    "from pandas_profiling import ProfileReport\n",
    "\n",
    "# visualization\n",
    "\n",
    "print('Import is completed.')"
   ],
   "metadata": {
    "collapsed": false,
    "pycharm": {
     "name": "#%%\n"
    }
   }
  },
  {
   "cell_type": "markdown",
   "source": [
    "## Functions"
   ],
   "metadata": {
    "collapsed": false,
    "pycharm": {
     "name": "#%% md\n"
    }
   }
  },
  {
   "cell_type": "code",
   "execution_count": 136,
   "outputs": [],
   "source": [
    "def exists(var_name:str):\n",
    "    \"\"\"Check if a variable with var_name exists in global scope\"\"\"\n",
    "    return var_name in globals()\n",
    "\n",
    "def print_framed(text: str, frame_width=100):\n",
    "    text_width = len(text)\n",
    "    gap = 5\n",
    "    edge_width = (frame_width - text_width) // 2 - gap\n",
    "    print('*'*frame_width)\n",
    "    print('*'*edge_width + ' '*gap + text + ' '*gap + '*'*edge_width)\n",
    "    print('*'*frame_width)\n",
    "\n"
   ],
   "metadata": {
    "collapsed": false,
    "pycharm": {
     "name": "#%%\n"
    }
   }
  },
  {
   "cell_type": "code",
   "execution_count": 136,
   "outputs": [],
   "source": [],
   "metadata": {
    "collapsed": false,
    "pycharm": {
     "name": "#%%\n"
    }
   }
  },
  {
   "cell_type": "markdown",
   "source": [
    "## Init setup"
   ],
   "metadata": {
    "collapsed": false,
    "pycharm": {
     "name": "#%% md\n"
    }
   }
  },
  {
   "cell_type": "code",
   "execution_count": 137,
   "outputs": [],
   "source": [
    "# fix random seed\n",
    "SEED = 37\n",
    "\n",
    "# # number of threads for computations\n",
    "# N_THREADS = max(1, multiprocessing.cpu_count() - 1)\n",
    "\n",
    "# fix requirements\n",
    "!pip freeze > requirements.txt"
   ],
   "metadata": {
    "collapsed": false,
    "pycharm": {
     "name": "#%%\n"
    }
   }
  },
  {
   "cell_type": "markdown",
   "source": [
    "## Data loading"
   ],
   "metadata": {
    "collapsed": false,
    "pycharm": {
     "name": "#%% md\n"
    }
   }
  },
  {
   "cell_type": "markdown",
   "source": [
    "Load parsed in [separate notebook](https://github.com/PavelKucherenko/sf-ds50-course/blob/main/module_5/Parsing/Parsing.ipynb) train data and provided test project data."
   ],
   "metadata": {
    "collapsed": false,
    "pycharm": {
     "name": "#%% md\n"
    }
   }
  },
  {
   "cell_type": "code",
   "execution_count": 138,
   "outputs": [],
   "source": [
    "TRAIN_DIR = 'Parsing/Data'\n",
    "TEST_DIR = 'Data'"
   ],
   "metadata": {
    "collapsed": false,
    "pycharm": {
     "name": "#%%\n"
    }
   }
  },
  {
   "cell_type": "code",
   "execution_count": 139,
   "outputs": [
    {
     "name": "stdout",
     "output_type": "stream",
     "text": [
      "****************************************************************************************************\n",
      "**************************************     TRAIN DATASET     **************************************\n",
      "****************************************************************************************************\n"
     ]
    },
    {
     "data": {
      "text/plain": "   № bodyType  brand                                            car_url  \\\n0  0  лифтбек  SKODA  https://auto.ru/cars/used/sale/skoda/octavia/1...   \n1  1  лифтбек  SKODA  https://auto.ru/cars/used/sale/skoda/octavia/1...   \n2  2      NaN  SKODA  https://auto.ru/cars/new/group/skoda/karoq/225...   \n3  3      NaN  SKODA  https://auto.ru/cars/new/group/skoda/rapid/217...   \n4  4  лифтбек  SKODA  https://auto.ru/cars/used/sale/skoda/rapid/110...   \n\n        color                                 complectation_dict  \\\n0  коричневый  {'id': '20291328', 'name': 'Laurin&Klement', '...   \n1     красный                                        {'id': '0'}   \n2       белый  {'id': '22687243', 'name': 'Hockey Edition', '...   \n3  коричневый  {'id': '22870340', 'name': 'Hockey Edition', '...   \n4      чёрный                                        {'id': '0'}   \n\n                                         description  engineDisplacement  \\\n0  1 владелец.\\r\\nРодной пробег.\\r\\nПТС оригинал....                 1.8   \n1  Skoda Octavia\\r\\n\\r\\n❕ ПТС ОРИГИНАЛ\\r\\n❕ ДВА В...                 1.8   \n2  В стоимость автомобиля включено дополнительное...                 NaN   \n3  ———————————————————————————\\r\\nФУНКЦИОНАЛЬНОЕ ...                 NaN   \n4  ЛОТ: 01306544\\r\\nЛокация №16\\r\\nФаворит Моторс...                 1.6   \n\n   enginePower                                     equipment_dict  ...  \\\n0        180.0  {'cruise-control': True, 'esp': True, 'adaptiv...  ...   \n1        150.0  {'condition': True, 'mirrors-heat': True, 'ele...  ...   \n2          NaN  {'cruise-control': True, 'asr': True, 'tinted-...  ...   \n3          NaN  {'cruise-control': True, 'asr': True, 'tinted-...  ...   \n4        110.0  {'cruise-control': True, 'glonass': True, 'asr...  ...   \n\n  vehicleTransmission vendor    Владельцы  Владение       ПТС    Привод  \\\n0    роботизированная    NaN   1 владелец       NaN  Оригинал  передний   \n1        механическая    NaN  2 владельца       NaN  Оригинал  передний   \n2                 NaN    NaN          NaN       NaN       NaN       NaN   \n3                 NaN    NaN          NaN       NaN       NaN       NaN   \n4      автоматическая    NaN   1 владелец       NaN  Оригинал  передний   \n\n    Руль           Состояние     Таможня      Price  \n0  Левый  Не требует ремонта  Растаможен  1030000.0  \n1  Левый  Не требует ремонта  Растаможен   400000.0  \n2    NaN                 NaN         NaN  2655000.0  \n3    NaN                 NaN         NaN  1335000.0  \n4  Левый  Не требует ремонта  Растаможен  1820000.0  \n\n[5 rows x 34 columns]",
      "text/html": "<div>\n<style scoped>\n    .dataframe tbody tr th:only-of-type {\n        vertical-align: middle;\n    }\n\n    .dataframe tbody tr th {\n        vertical-align: top;\n    }\n\n    .dataframe thead th {\n        text-align: right;\n    }\n</style>\n<table border=\"1\" class=\"dataframe\">\n  <thead>\n    <tr style=\"text-align: right;\">\n      <th></th>\n      <th>№</th>\n      <th>bodyType</th>\n      <th>brand</th>\n      <th>car_url</th>\n      <th>color</th>\n      <th>complectation_dict</th>\n      <th>description</th>\n      <th>engineDisplacement</th>\n      <th>enginePower</th>\n      <th>equipment_dict</th>\n      <th>...</th>\n      <th>vehicleTransmission</th>\n      <th>vendor</th>\n      <th>Владельцы</th>\n      <th>Владение</th>\n      <th>ПТС</th>\n      <th>Привод</th>\n      <th>Руль</th>\n      <th>Состояние</th>\n      <th>Таможня</th>\n      <th>Price</th>\n    </tr>\n  </thead>\n  <tbody>\n    <tr>\n      <th>0</th>\n      <td>0</td>\n      <td>лифтбек</td>\n      <td>SKODA</td>\n      <td>https://auto.ru/cars/used/sale/skoda/octavia/1...</td>\n      <td>коричневый</td>\n      <td>{'id': '20291328', 'name': 'Laurin&amp;Klement', '...</td>\n      <td>1 владелец.\\r\\nРодной пробег.\\r\\nПТС оригинал....</td>\n      <td>1.8</td>\n      <td>180.0</td>\n      <td>{'cruise-control': True, 'esp': True, 'adaptiv...</td>\n      <td>...</td>\n      <td>роботизированная</td>\n      <td>NaN</td>\n      <td>1 владелец</td>\n      <td>NaN</td>\n      <td>Оригинал</td>\n      <td>передний</td>\n      <td>Левый</td>\n      <td>Не требует ремонта</td>\n      <td>Растаможен</td>\n      <td>1030000.0</td>\n    </tr>\n    <tr>\n      <th>1</th>\n      <td>1</td>\n      <td>лифтбек</td>\n      <td>SKODA</td>\n      <td>https://auto.ru/cars/used/sale/skoda/octavia/1...</td>\n      <td>красный</td>\n      <td>{'id': '0'}</td>\n      <td>Skoda Octavia\\r\\n\\r\\n❕ ПТС ОРИГИНАЛ\\r\\n❕ ДВА В...</td>\n      <td>1.8</td>\n      <td>150.0</td>\n      <td>{'condition': True, 'mirrors-heat': True, 'ele...</td>\n      <td>...</td>\n      <td>механическая</td>\n      <td>NaN</td>\n      <td>2 владельца</td>\n      <td>NaN</td>\n      <td>Оригинал</td>\n      <td>передний</td>\n      <td>Левый</td>\n      <td>Не требует ремонта</td>\n      <td>Растаможен</td>\n      <td>400000.0</td>\n    </tr>\n    <tr>\n      <th>2</th>\n      <td>2</td>\n      <td>NaN</td>\n      <td>SKODA</td>\n      <td>https://auto.ru/cars/new/group/skoda/karoq/225...</td>\n      <td>белый</td>\n      <td>{'id': '22687243', 'name': 'Hockey Edition', '...</td>\n      <td>В стоимость автомобиля включено дополнительное...</td>\n      <td>NaN</td>\n      <td>NaN</td>\n      <td>{'cruise-control': True, 'asr': True, 'tinted-...</td>\n      <td>...</td>\n      <td>NaN</td>\n      <td>NaN</td>\n      <td>NaN</td>\n      <td>NaN</td>\n      <td>NaN</td>\n      <td>NaN</td>\n      <td>NaN</td>\n      <td>NaN</td>\n      <td>NaN</td>\n      <td>2655000.0</td>\n    </tr>\n    <tr>\n      <th>3</th>\n      <td>3</td>\n      <td>NaN</td>\n      <td>SKODA</td>\n      <td>https://auto.ru/cars/new/group/skoda/rapid/217...</td>\n      <td>коричневый</td>\n      <td>{'id': '22870340', 'name': 'Hockey Edition', '...</td>\n      <td>———————————————————————————\\r\\nФУНКЦИОНАЛЬНОЕ ...</td>\n      <td>NaN</td>\n      <td>NaN</td>\n      <td>{'cruise-control': True, 'asr': True, 'tinted-...</td>\n      <td>...</td>\n      <td>NaN</td>\n      <td>NaN</td>\n      <td>NaN</td>\n      <td>NaN</td>\n      <td>NaN</td>\n      <td>NaN</td>\n      <td>NaN</td>\n      <td>NaN</td>\n      <td>NaN</td>\n      <td>1335000.0</td>\n    </tr>\n    <tr>\n      <th>4</th>\n      <td>4</td>\n      <td>лифтбек</td>\n      <td>SKODA</td>\n      <td>https://auto.ru/cars/used/sale/skoda/rapid/110...</td>\n      <td>чёрный</td>\n      <td>{'id': '0'}</td>\n      <td>ЛОТ: 01306544\\r\\nЛокация №16\\r\\nФаворит Моторс...</td>\n      <td>1.6</td>\n      <td>110.0</td>\n      <td>{'cruise-control': True, 'glonass': True, 'asr...</td>\n      <td>...</td>\n      <td>автоматическая</td>\n      <td>NaN</td>\n      <td>1 владелец</td>\n      <td>NaN</td>\n      <td>Оригинал</td>\n      <td>передний</td>\n      <td>Левый</td>\n      <td>Не требует ремонта</td>\n      <td>Растаможен</td>\n      <td>1820000.0</td>\n    </tr>\n  </tbody>\n</table>\n<p>5 rows × 34 columns</p>\n</div>"
     },
     "metadata": {},
     "output_type": "display_data"
    },
    {
     "name": "stdout",
     "output_type": "stream",
     "text": [
      "<class 'pandas.core.frame.DataFrame'>\n",
      "RangeIndex: 42305 entries, 0 to 42304\n",
      "Data columns (total 34 columns):\n",
      " #   Column                Non-Null Count  Dtype  \n",
      "---  ------                --------------  -----  \n",
      " 0   №                     42305 non-null  int64  \n",
      " 1   bodyType              33195 non-null  object \n",
      " 2   brand                 41635 non-null  object \n",
      " 3   car_url               42305 non-null  object \n",
      " 4   color                 41635 non-null  object \n",
      " 5   complectation_dict    38510 non-null  object \n",
      " 6   description           41635 non-null  object \n",
      " 7   engineDisplacement    32624 non-null  float64\n",
      " 8   enginePower           32624 non-null  float64\n",
      " 9   equipment_dict        41552 non-null  object \n",
      " 10  fuelType              32624 non-null  object \n",
      " 11  image                 30612 non-null  object \n",
      " 12  mileage               33195 non-null  float64\n",
      " 13  modelDate             40061 non-null  float64\n",
      " 14  model_info            41552 non-null  object \n",
      " 15  model_name            41552 non-null  object \n",
      " 16  name                  40061 non-null  object \n",
      " 17  numberOfDoors         41552 non-null  float64\n",
      " 18  parsing_unixtime      42305 non-null  int64  \n",
      " 19  priceCurrency         41635 non-null  object \n",
      " 20  productionDate        41635 non-null  float64\n",
      " 21  sell_id               0 non-null      float64\n",
      " 22  super_gen             41552 non-null  object \n",
      " 23  vehicleConfiguration  0 non-null      float64\n",
      " 24  vehicleTransmission   33195 non-null  object \n",
      " 25  vendor                0 non-null      float64\n",
      " 26  Владельцы             33195 non-null  object \n",
      " 27  Владение              6117 non-null   object \n",
      " 28  ПТС                   33195 non-null  object \n",
      " 29  Привод                33195 non-null  object \n",
      " 30  Руль                  33195 non-null  object \n",
      " 31  Состояние             33188 non-null  object \n",
      " 32  Таможня               33184 non-null  object \n",
      " 33  Price                 37658 non-null  float64\n",
      "dtypes: float64(10), int64(2), object(22)\n",
      "memory usage: 11.0+ MB\n"
     ]
    },
    {
     "data": {
      "text/plain": "                  №  engineDisplacement   enginePower       mileage  \\\ncount  42305.000000        32624.000000  32624.000000  3.319500e+04   \nmean   21152.000000            2.382127    193.439554  1.310194e+05   \nstd    12212.545906            0.970412     87.901146  9.343720e+04   \nmin        0.000000            0.700000     45.000000  1.000000e+03   \n25%    10576.000000            1.800000    136.000000  6.100000e+04   \n50%    21152.000000            2.000000    170.000000  1.160000e+05   \n75%    31728.000000            3.000000    240.000000  1.820000e+05   \nmax    42304.000000            6.600000    900.000000  1.090000e+06   \n\n          modelDate  numberOfDoors  parsing_unixtime  productionDate  sell_id  \\\ncount  40061.000000   41552.000000      4.230500e+04    41635.000000      0.0   \nmean    2012.156411       4.650823      1.643819e+09     2014.446019      NaN   \nstd        6.814103       0.579108      2.877574e+03        6.738529      NaN   \nmin     1937.000000       2.000000      1.643814e+09     1948.000000      NaN   \n25%     2009.000000       4.000000      1.643816e+09     2011.000000      NaN   \n50%     2014.000000       5.000000      1.643819e+09     2016.000000      NaN   \n75%     2017.000000       5.000000      1.643821e+09     2020.000000      NaN   \nmax     2021.000000       5.000000      1.643824e+09     2022.000000      NaN   \n\n       vehicleConfiguration  vendor         Price  \ncount                   0.0     0.0  3.765800e+04  \nmean                    NaN     NaN  2.780145e+06  \nstd                     NaN     NaN  2.896566e+06  \nmin                     NaN     NaN  4.000000e+04  \n25%                     NaN     NaN  1.090000e+06  \n50%                     NaN     NaN  1.930000e+06  \n75%                     NaN     NaN  3.450000e+06  \nmax                     NaN     NaN  1.111000e+08  ",
      "text/html": "<div>\n<style scoped>\n    .dataframe tbody tr th:only-of-type {\n        vertical-align: middle;\n    }\n\n    .dataframe tbody tr th {\n        vertical-align: top;\n    }\n\n    .dataframe thead th {\n        text-align: right;\n    }\n</style>\n<table border=\"1\" class=\"dataframe\">\n  <thead>\n    <tr style=\"text-align: right;\">\n      <th></th>\n      <th>№</th>\n      <th>engineDisplacement</th>\n      <th>enginePower</th>\n      <th>mileage</th>\n      <th>modelDate</th>\n      <th>numberOfDoors</th>\n      <th>parsing_unixtime</th>\n      <th>productionDate</th>\n      <th>sell_id</th>\n      <th>vehicleConfiguration</th>\n      <th>vendor</th>\n      <th>Price</th>\n    </tr>\n  </thead>\n  <tbody>\n    <tr>\n      <th>count</th>\n      <td>42305.000000</td>\n      <td>32624.000000</td>\n      <td>32624.000000</td>\n      <td>3.319500e+04</td>\n      <td>40061.000000</td>\n      <td>41552.000000</td>\n      <td>4.230500e+04</td>\n      <td>41635.000000</td>\n      <td>0.0</td>\n      <td>0.0</td>\n      <td>0.0</td>\n      <td>3.765800e+04</td>\n    </tr>\n    <tr>\n      <th>mean</th>\n      <td>21152.000000</td>\n      <td>2.382127</td>\n      <td>193.439554</td>\n      <td>1.310194e+05</td>\n      <td>2012.156411</td>\n      <td>4.650823</td>\n      <td>1.643819e+09</td>\n      <td>2014.446019</td>\n      <td>NaN</td>\n      <td>NaN</td>\n      <td>NaN</td>\n      <td>2.780145e+06</td>\n    </tr>\n    <tr>\n      <th>std</th>\n      <td>12212.545906</td>\n      <td>0.970412</td>\n      <td>87.901146</td>\n      <td>9.343720e+04</td>\n      <td>6.814103</td>\n      <td>0.579108</td>\n      <td>2.877574e+03</td>\n      <td>6.738529</td>\n      <td>NaN</td>\n      <td>NaN</td>\n      <td>NaN</td>\n      <td>2.896566e+06</td>\n    </tr>\n    <tr>\n      <th>min</th>\n      <td>0.000000</td>\n      <td>0.700000</td>\n      <td>45.000000</td>\n      <td>1.000000e+03</td>\n      <td>1937.000000</td>\n      <td>2.000000</td>\n      <td>1.643814e+09</td>\n      <td>1948.000000</td>\n      <td>NaN</td>\n      <td>NaN</td>\n      <td>NaN</td>\n      <td>4.000000e+04</td>\n    </tr>\n    <tr>\n      <th>25%</th>\n      <td>10576.000000</td>\n      <td>1.800000</td>\n      <td>136.000000</td>\n      <td>6.100000e+04</td>\n      <td>2009.000000</td>\n      <td>4.000000</td>\n      <td>1.643816e+09</td>\n      <td>2011.000000</td>\n      <td>NaN</td>\n      <td>NaN</td>\n      <td>NaN</td>\n      <td>1.090000e+06</td>\n    </tr>\n    <tr>\n      <th>50%</th>\n      <td>21152.000000</td>\n      <td>2.000000</td>\n      <td>170.000000</td>\n      <td>1.160000e+05</td>\n      <td>2014.000000</td>\n      <td>5.000000</td>\n      <td>1.643819e+09</td>\n      <td>2016.000000</td>\n      <td>NaN</td>\n      <td>NaN</td>\n      <td>NaN</td>\n      <td>1.930000e+06</td>\n    </tr>\n    <tr>\n      <th>75%</th>\n      <td>31728.000000</td>\n      <td>3.000000</td>\n      <td>240.000000</td>\n      <td>1.820000e+05</td>\n      <td>2017.000000</td>\n      <td>5.000000</td>\n      <td>1.643821e+09</td>\n      <td>2020.000000</td>\n      <td>NaN</td>\n      <td>NaN</td>\n      <td>NaN</td>\n      <td>3.450000e+06</td>\n    </tr>\n    <tr>\n      <th>max</th>\n      <td>42304.000000</td>\n      <td>6.600000</td>\n      <td>900.000000</td>\n      <td>1.090000e+06</td>\n      <td>2021.000000</td>\n      <td>5.000000</td>\n      <td>1.643824e+09</td>\n      <td>2022.000000</td>\n      <td>NaN</td>\n      <td>NaN</td>\n      <td>NaN</td>\n      <td>1.111000e+08</td>\n    </tr>\n  </tbody>\n</table>\n</div>"
     },
     "metadata": {},
     "output_type": "display_data"
    },
    {
     "name": "stdout",
     "output_type": "stream",
     "text": [
      "****************************************************************************************************\n",
      "***************************************     TEST DATASET     ***************************************\n",
      "****************************************************************************************************\n"
     ]
    },
    {
     "data": {
      "text/plain": "  bodyType  brand                                            car_url  \\\n0  лифтбек  SKODA  https://auto.ru/cars/used/sale/skoda/octavia/1...   \n1  лифтбек  SKODA  https://auto.ru/cars/used/sale/skoda/octavia/1...   \n2  лифтбек  SKODA  https://auto.ru/cars/used/sale/skoda/superb/11...   \n3  лифтбек  SKODA  https://auto.ru/cars/used/sale/skoda/octavia/1...   \n4  лифтбек  SKODA  https://auto.ru/cars/used/sale/skoda/octavia/1...   \n\n        color                                 complectation_dict  \\\n0       синий                                                NaN   \n1      чёрный                                                NaN   \n2       серый  {\"id\":\"20026336\",\"name\":\"Ambition\",\"available_...   \n3  коричневый  {\"id\":\"20803582\",\"name\":\"Ambition\",\"available_...   \n4       белый                                                NaN   \n\n                                         description engineDisplacement  \\\n0  Все автомобили, представленные в продаже, прох...            1.2 LTR   \n1  ЛОТ: 01217195\\nАвтопрага Север\\nДанный автомоб...            1.6 LTR   \n2  Все автомобили, представленные в продаже, прох...            1.8 LTR   \n3  КОМПЛЕКТ ЗИМНЕЙ (ЛЕТНЕЙ) РЕЗИНЫ ПО СЕЗОНУ В ПО...            1.6 LTR   \n4  ЛОТ: 01220889\\nАвтопрага Север\\n\\nВы можете по...            1.8 LTR   \n\n  enginePower                                     equipment_dict fuelType  \\\n0     105 N12  {\"engine-proof\":true,\"tinted-glass\":true,\"airb...   бензин   \n1     110 N12  {\"cruise-control\":true,\"asr\":true,\"esp\":true,\"...   бензин   \n2     152 N12  {\"cruise-control\":true,\"tinted-glass\":true,\"es...   бензин   \n3     110 N12  {\"cruise-control\":true,\"roller-blind-for-rear-...   бензин   \n4     152 N12  {\"cruise-control\":true,\"asr\":true,\"esp\":true,\"...   бензин   \n\n   ...     vehicleConfiguration  vehicleTransmission    vendor    Владельцы  \\\n0  ...       LIFTBACK ROBOT 1.2     роботизированная  EUROPEAN  3 или более   \n1  ...  LIFTBACK MECHANICAL 1.6         механическая  EUROPEAN   1 владелец   \n2  ...       LIFTBACK ROBOT 1.8     роботизированная  EUROPEAN   1 владелец   \n3  ...   LIFTBACK AUTOMATIC 1.6       автоматическая  EUROPEAN   1 владелец   \n4  ...   LIFTBACK AUTOMATIC 1.8       автоматическая  EUROPEAN   1 владелец   \n\n  Владение       ПТС    Привод   Руль           Состояние     Таможня  \n0      NaN  Оригинал  передний  Левый  Не требует ремонта  Растаможен  \n1      NaN  Оригинал  передний  Левый  Не требует ремонта  Растаможен  \n2      NaN  Оригинал  передний  Левый  Не требует ремонта  Растаможен  \n3      NaN  Оригинал  передний  Левый  Не требует ремонта  Растаможен  \n4      NaN  Оригинал  передний  Левый  Не требует ремонта  Растаможен  \n\n[5 rows x 32 columns]",
      "text/html": "<div>\n<style scoped>\n    .dataframe tbody tr th:only-of-type {\n        vertical-align: middle;\n    }\n\n    .dataframe tbody tr th {\n        vertical-align: top;\n    }\n\n    .dataframe thead th {\n        text-align: right;\n    }\n</style>\n<table border=\"1\" class=\"dataframe\">\n  <thead>\n    <tr style=\"text-align: right;\">\n      <th></th>\n      <th>bodyType</th>\n      <th>brand</th>\n      <th>car_url</th>\n      <th>color</th>\n      <th>complectation_dict</th>\n      <th>description</th>\n      <th>engineDisplacement</th>\n      <th>enginePower</th>\n      <th>equipment_dict</th>\n      <th>fuelType</th>\n      <th>...</th>\n      <th>vehicleConfiguration</th>\n      <th>vehicleTransmission</th>\n      <th>vendor</th>\n      <th>Владельцы</th>\n      <th>Владение</th>\n      <th>ПТС</th>\n      <th>Привод</th>\n      <th>Руль</th>\n      <th>Состояние</th>\n      <th>Таможня</th>\n    </tr>\n  </thead>\n  <tbody>\n    <tr>\n      <th>0</th>\n      <td>лифтбек</td>\n      <td>SKODA</td>\n      <td>https://auto.ru/cars/used/sale/skoda/octavia/1...</td>\n      <td>синий</td>\n      <td>NaN</td>\n      <td>Все автомобили, представленные в продаже, прох...</td>\n      <td>1.2 LTR</td>\n      <td>105 N12</td>\n      <td>{\"engine-proof\":true,\"tinted-glass\":true,\"airb...</td>\n      <td>бензин</td>\n      <td>...</td>\n      <td>LIFTBACK ROBOT 1.2</td>\n      <td>роботизированная</td>\n      <td>EUROPEAN</td>\n      <td>3 или более</td>\n      <td>NaN</td>\n      <td>Оригинал</td>\n      <td>передний</td>\n      <td>Левый</td>\n      <td>Не требует ремонта</td>\n      <td>Растаможен</td>\n    </tr>\n    <tr>\n      <th>1</th>\n      <td>лифтбек</td>\n      <td>SKODA</td>\n      <td>https://auto.ru/cars/used/sale/skoda/octavia/1...</td>\n      <td>чёрный</td>\n      <td>NaN</td>\n      <td>ЛОТ: 01217195\\nАвтопрага Север\\nДанный автомоб...</td>\n      <td>1.6 LTR</td>\n      <td>110 N12</td>\n      <td>{\"cruise-control\":true,\"asr\":true,\"esp\":true,\"...</td>\n      <td>бензин</td>\n      <td>...</td>\n      <td>LIFTBACK MECHANICAL 1.6</td>\n      <td>механическая</td>\n      <td>EUROPEAN</td>\n      <td>1 владелец</td>\n      <td>NaN</td>\n      <td>Оригинал</td>\n      <td>передний</td>\n      <td>Левый</td>\n      <td>Не требует ремонта</td>\n      <td>Растаможен</td>\n    </tr>\n    <tr>\n      <th>2</th>\n      <td>лифтбек</td>\n      <td>SKODA</td>\n      <td>https://auto.ru/cars/used/sale/skoda/superb/11...</td>\n      <td>серый</td>\n      <td>{\"id\":\"20026336\",\"name\":\"Ambition\",\"available_...</td>\n      <td>Все автомобили, представленные в продаже, прох...</td>\n      <td>1.8 LTR</td>\n      <td>152 N12</td>\n      <td>{\"cruise-control\":true,\"tinted-glass\":true,\"es...</td>\n      <td>бензин</td>\n      <td>...</td>\n      <td>LIFTBACK ROBOT 1.8</td>\n      <td>роботизированная</td>\n      <td>EUROPEAN</td>\n      <td>1 владелец</td>\n      <td>NaN</td>\n      <td>Оригинал</td>\n      <td>передний</td>\n      <td>Левый</td>\n      <td>Не требует ремонта</td>\n      <td>Растаможен</td>\n    </tr>\n    <tr>\n      <th>3</th>\n      <td>лифтбек</td>\n      <td>SKODA</td>\n      <td>https://auto.ru/cars/used/sale/skoda/octavia/1...</td>\n      <td>коричневый</td>\n      <td>{\"id\":\"20803582\",\"name\":\"Ambition\",\"available_...</td>\n      <td>КОМПЛЕКТ ЗИМНЕЙ (ЛЕТНЕЙ) РЕЗИНЫ ПО СЕЗОНУ В ПО...</td>\n      <td>1.6 LTR</td>\n      <td>110 N12</td>\n      <td>{\"cruise-control\":true,\"roller-blind-for-rear-...</td>\n      <td>бензин</td>\n      <td>...</td>\n      <td>LIFTBACK AUTOMATIC 1.6</td>\n      <td>автоматическая</td>\n      <td>EUROPEAN</td>\n      <td>1 владелец</td>\n      <td>NaN</td>\n      <td>Оригинал</td>\n      <td>передний</td>\n      <td>Левый</td>\n      <td>Не требует ремонта</td>\n      <td>Растаможен</td>\n    </tr>\n    <tr>\n      <th>4</th>\n      <td>лифтбек</td>\n      <td>SKODA</td>\n      <td>https://auto.ru/cars/used/sale/skoda/octavia/1...</td>\n      <td>белый</td>\n      <td>NaN</td>\n      <td>ЛОТ: 01220889\\nАвтопрага Север\\n\\nВы можете по...</td>\n      <td>1.8 LTR</td>\n      <td>152 N12</td>\n      <td>{\"cruise-control\":true,\"asr\":true,\"esp\":true,\"...</td>\n      <td>бензин</td>\n      <td>...</td>\n      <td>LIFTBACK AUTOMATIC 1.8</td>\n      <td>автоматическая</td>\n      <td>EUROPEAN</td>\n      <td>1 владелец</td>\n      <td>NaN</td>\n      <td>Оригинал</td>\n      <td>передний</td>\n      <td>Левый</td>\n      <td>Не требует ремонта</td>\n      <td>Растаможен</td>\n    </tr>\n  </tbody>\n</table>\n<p>5 rows × 32 columns</p>\n</div>"
     },
     "metadata": {},
     "output_type": "display_data"
    },
    {
     "name": "stdout",
     "output_type": "stream",
     "text": [
      "<class 'pandas.core.frame.DataFrame'>\n",
      "RangeIndex: 34686 entries, 0 to 34685\n",
      "Data columns (total 32 columns):\n",
      " #   Column                Non-Null Count  Dtype \n",
      "---  ------                --------------  ----- \n",
      " 0   bodyType              34686 non-null  object\n",
      " 1   brand                 34686 non-null  object\n",
      " 2   car_url               34686 non-null  object\n",
      " 3   color                 34686 non-null  object\n",
      " 4   complectation_dict    6418 non-null   object\n",
      " 5   description           34686 non-null  object\n",
      " 6   engineDisplacement    34686 non-null  object\n",
      " 7   enginePower           34686 non-null  object\n",
      " 8   equipment_dict        24690 non-null  object\n",
      " 9   fuelType              34686 non-null  object\n",
      " 10  image                 34686 non-null  object\n",
      " 11  mileage               34686 non-null  int64 \n",
      " 12  modelDate             34686 non-null  int64 \n",
      " 13  model_info            34686 non-null  object\n",
      " 14  model_name            34686 non-null  object\n",
      " 15  name                  34686 non-null  object\n",
      " 16  numberOfDoors         34686 non-null  int64 \n",
      " 17  parsing_unixtime      34686 non-null  int64 \n",
      " 18  priceCurrency         34686 non-null  object\n",
      " 19  productionDate        34686 non-null  int64 \n",
      " 20  sell_id               34686 non-null  int64 \n",
      " 21  super_gen             34686 non-null  object\n",
      " 22  vehicleConfiguration  34686 non-null  object\n",
      " 23  vehicleTransmission   34686 non-null  object\n",
      " 24  vendor                34686 non-null  object\n",
      " 25  Владельцы             34686 non-null  object\n",
      " 26  Владение              11995 non-null  object\n",
      " 27  ПТС                   34685 non-null  object\n",
      " 28  Привод                34686 non-null  object\n",
      " 29  Руль                  34686 non-null  object\n",
      " 30  Состояние             34686 non-null  object\n",
      " 31  Таможня               34686 non-null  object\n",
      "dtypes: int64(6), object(26)\n",
      "memory usage: 8.5+ MB\n"
     ]
    },
    {
     "data": {
      "text/plain": "              mileage     modelDate  numberOfDoors  parsing_unixtime  \\\ncount    34686.000000  34686.000000   34686.000000      3.468600e+04   \nmean    162009.767889   2007.074728       4.450816      1.603287e+09   \nstd     100676.559489      7.415894       0.703040      1.493071e+05   \nmin          1.000000   1904.000000       0.000000      1.603107e+09   \n25%      91153.500000   2004.000000       4.000000      1.603221e+09   \n50%     149779.500000   2008.000000       5.000000      1.603254e+09   \n75%     215000.000000   2012.000000       5.000000      1.603290e+09   \nmax    1000000.000000   2020.000000       5.000000      1.603710e+09   \n\n       productionDate       sell_id  \ncount    34686.000000  3.468600e+04  \nmean      2009.264602  1.098300e+09  \nstd          7.047661  1.911225e+07  \nmin       1904.000000  2.665000e+03  \n25%       2006.000000  1.099049e+09  \n50%       2011.000000  1.100911e+09  \n75%       2014.000000  1.101245e+09  \nmax       2020.000000  1.101375e+09  ",
      "text/html": "<div>\n<style scoped>\n    .dataframe tbody tr th:only-of-type {\n        vertical-align: middle;\n    }\n\n    .dataframe tbody tr th {\n        vertical-align: top;\n    }\n\n    .dataframe thead th {\n        text-align: right;\n    }\n</style>\n<table border=\"1\" class=\"dataframe\">\n  <thead>\n    <tr style=\"text-align: right;\">\n      <th></th>\n      <th>mileage</th>\n      <th>modelDate</th>\n      <th>numberOfDoors</th>\n      <th>parsing_unixtime</th>\n      <th>productionDate</th>\n      <th>sell_id</th>\n    </tr>\n  </thead>\n  <tbody>\n    <tr>\n      <th>count</th>\n      <td>34686.000000</td>\n      <td>34686.000000</td>\n      <td>34686.000000</td>\n      <td>3.468600e+04</td>\n      <td>34686.000000</td>\n      <td>3.468600e+04</td>\n    </tr>\n    <tr>\n      <th>mean</th>\n      <td>162009.767889</td>\n      <td>2007.074728</td>\n      <td>4.450816</td>\n      <td>1.603287e+09</td>\n      <td>2009.264602</td>\n      <td>1.098300e+09</td>\n    </tr>\n    <tr>\n      <th>std</th>\n      <td>100676.559489</td>\n      <td>7.415894</td>\n      <td>0.703040</td>\n      <td>1.493071e+05</td>\n      <td>7.047661</td>\n      <td>1.911225e+07</td>\n    </tr>\n    <tr>\n      <th>min</th>\n      <td>1.000000</td>\n      <td>1904.000000</td>\n      <td>0.000000</td>\n      <td>1.603107e+09</td>\n      <td>1904.000000</td>\n      <td>2.665000e+03</td>\n    </tr>\n    <tr>\n      <th>25%</th>\n      <td>91153.500000</td>\n      <td>2004.000000</td>\n      <td>4.000000</td>\n      <td>1.603221e+09</td>\n      <td>2006.000000</td>\n      <td>1.099049e+09</td>\n    </tr>\n    <tr>\n      <th>50%</th>\n      <td>149779.500000</td>\n      <td>2008.000000</td>\n      <td>5.000000</td>\n      <td>1.603254e+09</td>\n      <td>2011.000000</td>\n      <td>1.100911e+09</td>\n    </tr>\n    <tr>\n      <th>75%</th>\n      <td>215000.000000</td>\n      <td>2012.000000</td>\n      <td>5.000000</td>\n      <td>1.603290e+09</td>\n      <td>2014.000000</td>\n      <td>1.101245e+09</td>\n    </tr>\n    <tr>\n      <th>max</th>\n      <td>1000000.000000</td>\n      <td>2020.000000</td>\n      <td>5.000000</td>\n      <td>1.603710e+09</td>\n      <td>2020.000000</td>\n      <td>1.101375e+09</td>\n    </tr>\n  </tbody>\n</table>\n</div>"
     },
     "metadata": {},
     "output_type": "display_data"
    }
   ],
   "source": [
    "# del df_test_orig, df_train_orig\n",
    "print_framed('TRAIN DATASET')\n",
    "if not exists('df_train_orig'): df_train_orig = pd.read_csv(f'{TRAIN_DIR}/parsed_car_data__17_55__02_02_2022.csv')\n",
    "# noinspection PyUnboundLocalVariable\n",
    "display(df_train_orig.head(5))\n",
    "df_train_orig.info()\n",
    "display(df_train_orig.describe())\n",
    "\n",
    "print_framed('TEST DATASET')\n",
    "if not exists('df_test_orig'): df_test_orig = pd.read_csv(f'{TEST_DIR}/test.csv')\n",
    "# noinspection PyUnboundLocalVariable\n",
    "display(df_test_orig.head(5))\n",
    "df_test_orig.info()\n",
    "display(df_test_orig.describe())"
   ],
   "metadata": {
    "collapsed": false,
    "pycharm": {
     "name": "#%%\n"
    }
   }
  },
  {
   "cell_type": "markdown",
   "source": [
    "Thanks to parse stage we have all necessary columns in train set to predict car price based on test data. But we'll look more thoroughly later on."
   ],
   "metadata": {
    "collapsed": false,
    "pycharm": {
     "name": "#%% md\n"
    }
   }
  },
  {
   "cell_type": "markdown",
   "source": [
    "## Preliminary data analysis and preprocessing"
   ],
   "metadata": {
    "collapsed": false,
    "pycharm": {
     "name": "#%% md\n"
    }
   }
  },
  {
   "cell_type": "code",
   "execution_count": 140,
   "outputs": [],
   "source": [
    "# create work copy of datasets\n",
    "df_train = df_train_orig.copy()\n",
    "df_test = df_test_orig.copy()"
   ],
   "metadata": {
    "collapsed": false,
    "pycharm": {
     "name": "#%%\n"
    }
   }
  },
  {
   "cell_type": "code",
   "execution_count": 141,
   "outputs": [],
   "source": [
    "# and their combined list. Without merging them into one dataframe to avoid data leakage.\n",
    "dfs = [df_train, df_test]"
   ],
   "metadata": {
    "collapsed": false,
    "pycharm": {
     "name": "#%%\n"
    }
   }
  },
  {
   "cell_type": "markdown",
   "source": [
    "Now we have working copy of our dataset and a combined list.\n",
    "NB! For all common actions to be done on BOTH datasets we'll use this list. /Was searching for best practice here and this is my choice for now/"
   ],
   "metadata": {
    "collapsed": false,
    "pycharm": {
     "name": "#%% md\n"
    }
   }
  },
  {
   "cell_type": "markdown",
   "source": [
    "### Data cleaning"
   ],
   "metadata": {
    "collapsed": false,
    "pycharm": {
     "name": "#%% md\n"
    }
   }
  },
  {
   "cell_type": "markdown",
   "source": [
    "There are some unuseful columns in both datasets. Let's just define them and delete."
   ],
   "metadata": {
    "collapsed": false,
    "pycharm": {
     "name": "#%% md\n"
    }
   }
  },
  {
   "cell_type": "code",
   "execution_count": 142,
   "outputs": [
    {
     "data": {
      "text/plain": "Summarize dataset:   0%|          | 0/5 [00:00<?, ?it/s]",
      "application/vnd.jupyter.widget-view+json": {
       "version_major": 2,
       "version_minor": 0,
       "model_id": "b70e5f73ba72423ea9fbaa8dfbe0123d"
      }
     },
     "metadata": {},
     "output_type": "display_data"
    },
    {
     "data": {
      "text/plain": "Generate report structure:   0%|          | 0/1 [00:00<?, ?it/s]",
      "application/vnd.jupyter.widget-view+json": {
       "version_major": 2,
       "version_minor": 0,
       "model_id": "bac0fef493b44cc98388910a86fd3fbf"
      }
     },
     "metadata": {},
     "output_type": "display_data"
    },
    {
     "data": {
      "text/plain": "Render HTML:   0%|          | 0/1 [00:00<?, ?it/s]",
      "application/vnd.jupyter.widget-view+json": {
       "version_major": 2,
       "version_minor": 0,
       "model_id": "1625df8b64034465b6436ae6f295cfd1"
      }
     },
     "metadata": {},
     "output_type": "display_data"
    },
    {
     "data": {
      "text/plain": "Export report to file:   0%|          | 0/1 [00:00<?, ?it/s]",
      "application/vnd.jupyter.widget-view+json": {
       "version_major": 2,
       "version_minor": 0,
       "model_id": "01812357a7964b959fdfb26c1085888c"
      }
     },
     "metadata": {},
     "output_type": "display_data"
    },
    {
     "data": {
      "text/plain": "Summarize dataset:   0%|          | 0/5 [00:00<?, ?it/s]",
      "application/vnd.jupyter.widget-view+json": {
       "version_major": 2,
       "version_minor": 0,
       "model_id": "caeed648e5b449c38ec74d913f53c601"
      }
     },
     "metadata": {},
     "output_type": "display_data"
    },
    {
     "data": {
      "text/plain": "Generate report structure:   0%|          | 0/1 [00:00<?, ?it/s]",
      "application/vnd.jupyter.widget-view+json": {
       "version_major": 2,
       "version_minor": 0,
       "model_id": "461a5a2b78af4488b1feb243bf396a32"
      }
     },
     "metadata": {},
     "output_type": "display_data"
    },
    {
     "data": {
      "text/plain": "Render HTML:   0%|          | 0/1 [00:00<?, ?it/s]",
      "application/vnd.jupyter.widget-view+json": {
       "version_major": 2,
       "version_minor": 0,
       "model_id": "a05de9e9fc7b4dac9b2476217f85f85f"
      }
     },
     "metadata": {},
     "output_type": "display_data"
    },
    {
     "data": {
      "text/plain": "Export report to file:   0%|          | 0/1 [00:00<?, ?it/s]",
      "application/vnd.jupyter.widget-view+json": {
       "version_major": 2,
       "version_minor": 0,
       "model_id": "446b144d99db4f90a179a06eb17fc99e"
      }
     },
     "metadata": {},
     "output_type": "display_data"
    }
   ],
   "source": [
    "# run profiling on both sets\n",
    "# ProfileReport(df_train).to_file(output_file='Reports/train_profiling.html')\n",
    "# ProfileReport(df_test).to_file(output_file='Reports/test_profiling.html')"
   ],
   "metadata": {
    "collapsed": false,
    "pycharm": {
     "name": "#%%\n"
    }
   }
  },
  {
   "cell_type": "code",
   "execution_count": 142,
   "outputs": [],
   "source": [],
   "metadata": {
    "collapsed": false,
    "pycharm": {
     "name": "#%%\n"
    }
   }
  },
  {
   "cell_type": "code",
   "execution_count": 142,
   "outputs": [],
   "source": [],
   "metadata": {
    "collapsed": false,
    "pycharm": {
     "name": "#%%\n"
    }
   }
  },
  {
   "cell_type": "markdown",
   "source": [
    "So, analyzing pandas profiling result, there are following columns to DELETE from both datasets:\n",
    "'car_url'               - potentially we could get some additional info from car page but for this case we don't need this \"overhead\"\n",
    "'complectation_dict'    - 81.5% missing in test - too many\n",
    "'equipment_dict'        - 28.8%  missing in test. Theoretically we could take from test set records without this missings and predict via specific model, which was trained with this\n",
    "                        feature (there are only 1.8% missing values in train), but for this study case let's delete this column due to large amount of missing values anyway\n",
    "'image'                 - don't go with CV for now, so don't need this column\n",
    "'model_info'            - have potentially useful information from here in other columns\n",
    "'name'                  - have this information in other columns\n",
    "'priceCurrency'         - rubles everywhere (in test and in train)\n",
    "'sell_id'               - not useful\n",
    "'vehicleConfiguration'  - have this information in other columns\n",
    "'Владение'              - 65.4% misssing in test\n",
    "'Состояние'             - single-valued column in test and in train\n",
    "'Таможня'               - single-valued column in test and in train"
   ],
   "metadata": {
    "collapsed": false,
    "pycharm": {
     "name": "#%% md\n"
    }
   }
  },
  {
   "cell_type": "code",
   "execution_count": 143,
   "outputs": [
    {
     "name": "stdout",
     "output_type": "stream",
     "text": [
      "<class 'pandas.core.frame.DataFrame'>\n",
      "RangeIndex: 42305 entries, 0 to 42304\n",
      "Data columns (total 22 columns):\n",
      " #   Column               Non-Null Count  Dtype  \n",
      "---  ------               --------------  -----  \n",
      " 0   №                    42305 non-null  int64  \n",
      " 1   bodyType             33195 non-null  object \n",
      " 2   brand                41635 non-null  object \n",
      " 3   color                41635 non-null  object \n",
      " 4   description          41635 non-null  object \n",
      " 5   engineDisplacement   32624 non-null  float64\n",
      " 6   enginePower          32624 non-null  float64\n",
      " 7   fuelType             32624 non-null  object \n",
      " 8   mileage              33195 non-null  float64\n",
      " 9   modelDate            40061 non-null  float64\n",
      " 10  model_name           41552 non-null  object \n",
      " 11  numberOfDoors        41552 non-null  float64\n",
      " 12  parsing_unixtime     42305 non-null  int64  \n",
      " 13  productionDate       41635 non-null  float64\n",
      " 14  super_gen            41552 non-null  object \n",
      " 15  vehicleTransmission  33195 non-null  object \n",
      " 16  vendor               0 non-null      float64\n",
      " 17  Владельцы            33195 non-null  object \n",
      " 18  ПТС                  33195 non-null  object \n",
      " 19  Привод               33195 non-null  object \n",
      " 20  Руль                 33195 non-null  object \n",
      " 21  Price                37658 non-null  float64\n",
      "dtypes: float64(8), int64(2), object(12)\n",
      "memory usage: 7.1+ MB\n",
      "<class 'pandas.core.frame.DataFrame'>\n",
      "RangeIndex: 34686 entries, 0 to 34685\n",
      "Data columns (total 20 columns):\n",
      " #   Column               Non-Null Count  Dtype \n",
      "---  ------               --------------  ----- \n",
      " 0   bodyType             34686 non-null  object\n",
      " 1   brand                34686 non-null  object\n",
      " 2   color                34686 non-null  object\n",
      " 3   description          34686 non-null  object\n",
      " 4   engineDisplacement   34686 non-null  object\n",
      " 5   enginePower          34686 non-null  object\n",
      " 6   fuelType             34686 non-null  object\n",
      " 7   mileage              34686 non-null  int64 \n",
      " 8   modelDate            34686 non-null  int64 \n",
      " 9   model_name           34686 non-null  object\n",
      " 10  numberOfDoors        34686 non-null  int64 \n",
      " 11  parsing_unixtime     34686 non-null  int64 \n",
      " 12  productionDate       34686 non-null  int64 \n",
      " 13  super_gen            34686 non-null  object\n",
      " 14  vehicleTransmission  34686 non-null  object\n",
      " 15  vendor               34686 non-null  object\n",
      " 16  Владельцы            34686 non-null  object\n",
      " 17  ПТС                  34685 non-null  object\n",
      " 18  Привод               34686 non-null  object\n",
      " 19  Руль                 34686 non-null  object\n",
      "dtypes: int64(5), object(15)\n",
      "memory usage: 5.3+ MB\n"
     ]
    }
   ],
   "source": [
    "# as a result - cols to be deleted from both sets:\n",
    "cols_to_delete = ['car_url',\n",
    "                  'complectation_dict',\n",
    "                  'equipment_dict',\n",
    "                  'image',\n",
    "                  'model_info',\n",
    "                  'name',\n",
    "                  'priceCurrency',\n",
    "                  'sell_id',\n",
    "                  'vehicleConfiguration',\n",
    "                  'Владение',\n",
    "                  'Состояние',\n",
    "                  'Таможня']\n",
    "for df in dfs:\n",
    "    df.drop(columns=cols_to_delete, axis=1, inplace=True)\n",
    "    df.info()"
   ],
   "metadata": {
    "collapsed": false,
    "pycharm": {
     "name": "#%%\n"
    }
   }
  },
  {
   "cell_type": "markdown",
   "source": [
    "Ok, it's easier now)"
   ],
   "metadata": {
    "collapsed": false,
    "pycharm": {
     "name": "#%% md\n"
    }
   }
  },
  {
   "cell_type": "code",
   "execution_count": 144,
   "outputs": [],
   "source": [
    "# also delete number column from train\n",
    "df_train.drop(columns=['№'], axis=1, inplace=True)"
   ],
   "metadata": {
    "collapsed": false,
    "pycharm": {
     "name": "#%%\n"
    }
   }
  },
  {
   "cell_type": "code",
   "execution_count": 145,
   "outputs": [
    {
     "data": {
      "text/plain": "True"
     },
     "execution_count": 145,
     "metadata": {},
     "output_type": "execute_result"
    }
   ],
   "source": [
    "# and check if the columns are equal and with same order (without last target 'price' in train)\n",
    "list(df_train.columns[:-1]) == list(df_test.columns)"
   ],
   "metadata": {
    "collapsed": false,
    "pycharm": {
     "name": "#%%\n"
    }
   }
  },
  {
   "cell_type": "markdown",
   "source": [
    "Ok, we have same features in train and in test."
   ],
   "metadata": {
    "collapsed": false,
    "pycharm": {
     "name": "#%% md\n"
    }
   }
  },
  {
   "cell_type": "markdown",
   "source": [
    "Now delete missing price rows in train set."
   ],
   "metadata": {
    "collapsed": false,
    "pycharm": {
     "name": "#%% md\n"
    }
   }
  },
  {
   "cell_type": "code",
   "execution_count": 152,
   "outputs": [
    {
     "data": {
      "text/plain": "(42305, 21)"
     },
     "execution_count": 152,
     "metadata": {},
     "output_type": "execute_result"
    }
   ],
   "source": [
    "df_train.shape"
   ],
   "metadata": {
    "collapsed": false,
    "pycharm": {
     "name": "#%%\n"
    }
   }
  },
  {
   "cell_type": "code",
   "execution_count": 153,
   "outputs": [
    {
     "data": {
      "text/plain": "(4647, 21)"
     },
     "execution_count": 153,
     "metadata": {},
     "output_type": "execute_result"
    }
   ],
   "source": [
    "df_train[df_train['Price'].isna()].shape"
   ],
   "metadata": {
    "collapsed": false,
    "pycharm": {
     "name": "#%%\n"
    }
   }
  },
  {
   "cell_type": "code",
   "execution_count": 154,
   "outputs": [
    {
     "data": {
      "text/plain": "(37658, 21)"
     },
     "execution_count": 154,
     "metadata": {},
     "output_type": "execute_result"
    }
   ],
   "source": [
    "df_train = df_train[~df_train['Price'].isna()]\n",
    "df_train.shape"
   ],
   "metadata": {
    "collapsed": false,
    "pycharm": {
     "name": "#%%\n"
    }
   }
  },
  {
   "cell_type": "markdown",
   "source": [
    "We also have missing bodyType in train set, let's deal with it."
   ],
   "metadata": {
    "collapsed": false,
    "pycharm": {
     "name": "#%% md\n"
    }
   }
  },
  {
   "cell_type": "code",
   "execution_count": 158,
   "outputs": [
    {
     "data": {
      "text/plain": "(7232, 21)"
     },
     "execution_count": 158,
     "metadata": {},
     "output_type": "execute_result"
    }
   ],
   "source": [
    "df_train[df_train['bodyType'].isna()].shape"
   ],
   "metadata": {
    "collapsed": false,
    "pycharm": {
     "name": "#%%\n"
    }
   }
  },
  {
   "cell_type": "code",
   "execution_count": 159,
   "outputs": [
    {
     "data": {
      "text/plain": "      bodyType       brand        color  \\\n2          NaN       SKODA        белый   \n3          NaN       SKODA   коричневый   \n18         NaN       SKODA        синий   \n19         NaN       SKODA   коричневый   \n24         NaN       SKODA  серебристый   \n...        ...         ...          ...   \n42284      NaN  MITSUBISHI        серый   \n42288      NaN  MITSUBISHI        серый   \n42292      NaN  MITSUBISHI    оранжевый   \n42300      NaN  MITSUBISHI        белый   \n42302      NaN  MITSUBISHI        белый   \n\n                                             description  engineDisplacement  \\\n2      В стоимость автомобиля включено дополнительное...                 NaN   \n3      ———————————————————————————\\r\\nФУНКЦИОНАЛЬНОЕ ...                 NaN   \n18     В стоимость автомобиля включено дополнительное...                 NaN   \n19     В стоимость автомобиля включено дополнительное...                 NaN   \n24     В стоимость автомобиля включено дополнительное...                 NaN   \n...                                                  ...                 ...   \n42284  Специальные условия на покупку Mitsubishi ASX ...                 NaN   \n42288  Специальные условия на покупку Mitsubishi ASX ...                 NaN   \n42292  Специальные условия на покупку Mitsubishi ASX ...                 NaN   \n42300  В честь 30-летия бренда Mitsubishi в России ст...                 NaN   \n42302  Специальные условия на покупку Mitsubishi ASX ...                 NaN   \n\n       enginePower fuelType  mileage  modelDate model_name  ...  \\\n2              NaN      NaN      NaN     2017.0      KAROQ  ...   \n3              NaN      NaN      NaN     2020.0      RAPID  ...   \n18             NaN      NaN      NaN     2020.0      RAPID  ...   \n19             NaN      NaN      NaN     2020.0      RAPID  ...   \n24             NaN      NaN      NaN     2020.0      RAPID  ...   \n...            ...      ...      ...        ...        ...  ...   \n42284          NaN      NaN      NaN     2020.0        ASX  ...   \n42288          NaN      NaN      NaN     2020.0        ASX  ...   \n42292          NaN      NaN      NaN     2020.0        ASX  ...   \n42300          NaN      NaN      NaN     2020.0        ASX  ...   \n42302          NaN      NaN      NaN     2020.0        ASX  ...   \n\n       parsing_unixtime  productionDate  \\\n2            1643813748          2022.0   \n3            1643813747          2022.0   \n18           1643813748          2022.0   \n19           1643813748          2022.0   \n24           1643813752          2022.0   \n...                 ...             ...   \n42284        1643823708          2021.0   \n42288        1643823709          2021.0   \n42292        1643823708          2021.0   \n42300        1643823712          2021.0   \n42302        1643823712          2021.0   \n\n                                               super_gen vehicleTransmission  \\\n2      {'gear_type': 'FORWARD_CONTROL', 'engine_type'...                 NaN   \n3      {'gear_type': 'FORWARD_CONTROL', 'engine_type'...                 NaN   \n18     {'gear_type': 'FORWARD_CONTROL', 'engine_type'...                 NaN   \n19     {'gear_type': 'FORWARD_CONTROL', 'engine_type'...                 NaN   \n24     {'gear_type': 'FORWARD_CONTROL', 'engine_type'...                 NaN   \n...                                                  ...                 ...   \n42284  {'gear_type': 'ALL_WHEEL_DRIVE', 'engine_type'...                 NaN   \n42288  {'gear_type': 'FORWARD_CONTROL', 'engine_type'...                 NaN   \n42292  {'gear_type': 'ALL_WHEEL_DRIVE', 'engine_type'...                 NaN   \n42300  {'gear_type': 'ALL_WHEEL_DRIVE', 'engine_type'...                 NaN   \n42302  {'gear_type': 'FORWARD_CONTROL', 'engine_type'...                 NaN   \n\n      vendor  Владельцы  ПТС Привод Руль      Price  \n2        NaN        NaN  NaN    NaN  NaN  2655000.0  \n3        NaN        NaN  NaN    NaN  NaN  1335000.0  \n18       NaN        NaN  NaN    NaN  NaN  1815000.0  \n19       NaN        NaN  NaN    NaN  NaN  1535000.0  \n24       NaN        NaN  NaN    NaN  NaN  1995000.0  \n...      ...        ...  ...    ...  ...        ...  \n42284    NaN        NaN  NaN    NaN  NaN  2105000.0  \n42288    NaN        NaN  NaN    NaN  NaN  1670000.0  \n42292    NaN        NaN  NaN    NaN  NaN  1920000.0  \n42300    NaN        NaN  NaN    NaN  NaN  2246000.0  \n42302    NaN        NaN  NaN    NaN  NaN  1600000.0  \n\n[7232 rows x 21 columns]",
      "text/html": "<div>\n<style scoped>\n    .dataframe tbody tr th:only-of-type {\n        vertical-align: middle;\n    }\n\n    .dataframe tbody tr th {\n        vertical-align: top;\n    }\n\n    .dataframe thead th {\n        text-align: right;\n    }\n</style>\n<table border=\"1\" class=\"dataframe\">\n  <thead>\n    <tr style=\"text-align: right;\">\n      <th></th>\n      <th>bodyType</th>\n      <th>brand</th>\n      <th>color</th>\n      <th>description</th>\n      <th>engineDisplacement</th>\n      <th>enginePower</th>\n      <th>fuelType</th>\n      <th>mileage</th>\n      <th>modelDate</th>\n      <th>model_name</th>\n      <th>...</th>\n      <th>parsing_unixtime</th>\n      <th>productionDate</th>\n      <th>super_gen</th>\n      <th>vehicleTransmission</th>\n      <th>vendor</th>\n      <th>Владельцы</th>\n      <th>ПТС</th>\n      <th>Привод</th>\n      <th>Руль</th>\n      <th>Price</th>\n    </tr>\n  </thead>\n  <tbody>\n    <tr>\n      <th>2</th>\n      <td>NaN</td>\n      <td>SKODA</td>\n      <td>белый</td>\n      <td>В стоимость автомобиля включено дополнительное...</td>\n      <td>NaN</td>\n      <td>NaN</td>\n      <td>NaN</td>\n      <td>NaN</td>\n      <td>2017.0</td>\n      <td>KAROQ</td>\n      <td>...</td>\n      <td>1643813748</td>\n      <td>2022.0</td>\n      <td>{'gear_type': 'FORWARD_CONTROL', 'engine_type'...</td>\n      <td>NaN</td>\n      <td>NaN</td>\n      <td>NaN</td>\n      <td>NaN</td>\n      <td>NaN</td>\n      <td>NaN</td>\n      <td>2655000.0</td>\n    </tr>\n    <tr>\n      <th>3</th>\n      <td>NaN</td>\n      <td>SKODA</td>\n      <td>коричневый</td>\n      <td>———————————————————————————\\r\\nФУНКЦИОНАЛЬНОЕ ...</td>\n      <td>NaN</td>\n      <td>NaN</td>\n      <td>NaN</td>\n      <td>NaN</td>\n      <td>2020.0</td>\n      <td>RAPID</td>\n      <td>...</td>\n      <td>1643813747</td>\n      <td>2022.0</td>\n      <td>{'gear_type': 'FORWARD_CONTROL', 'engine_type'...</td>\n      <td>NaN</td>\n      <td>NaN</td>\n      <td>NaN</td>\n      <td>NaN</td>\n      <td>NaN</td>\n      <td>NaN</td>\n      <td>1335000.0</td>\n    </tr>\n    <tr>\n      <th>18</th>\n      <td>NaN</td>\n      <td>SKODA</td>\n      <td>синий</td>\n      <td>В стоимость автомобиля включено дополнительное...</td>\n      <td>NaN</td>\n      <td>NaN</td>\n      <td>NaN</td>\n      <td>NaN</td>\n      <td>2020.0</td>\n      <td>RAPID</td>\n      <td>...</td>\n      <td>1643813748</td>\n      <td>2022.0</td>\n      <td>{'gear_type': 'FORWARD_CONTROL', 'engine_type'...</td>\n      <td>NaN</td>\n      <td>NaN</td>\n      <td>NaN</td>\n      <td>NaN</td>\n      <td>NaN</td>\n      <td>NaN</td>\n      <td>1815000.0</td>\n    </tr>\n    <tr>\n      <th>19</th>\n      <td>NaN</td>\n      <td>SKODA</td>\n      <td>коричневый</td>\n      <td>В стоимость автомобиля включено дополнительное...</td>\n      <td>NaN</td>\n      <td>NaN</td>\n      <td>NaN</td>\n      <td>NaN</td>\n      <td>2020.0</td>\n      <td>RAPID</td>\n      <td>...</td>\n      <td>1643813748</td>\n      <td>2022.0</td>\n      <td>{'gear_type': 'FORWARD_CONTROL', 'engine_type'...</td>\n      <td>NaN</td>\n      <td>NaN</td>\n      <td>NaN</td>\n      <td>NaN</td>\n      <td>NaN</td>\n      <td>NaN</td>\n      <td>1535000.0</td>\n    </tr>\n    <tr>\n      <th>24</th>\n      <td>NaN</td>\n      <td>SKODA</td>\n      <td>серебристый</td>\n      <td>В стоимость автомобиля включено дополнительное...</td>\n      <td>NaN</td>\n      <td>NaN</td>\n      <td>NaN</td>\n      <td>NaN</td>\n      <td>2020.0</td>\n      <td>RAPID</td>\n      <td>...</td>\n      <td>1643813752</td>\n      <td>2022.0</td>\n      <td>{'gear_type': 'FORWARD_CONTROL', 'engine_type'...</td>\n      <td>NaN</td>\n      <td>NaN</td>\n      <td>NaN</td>\n      <td>NaN</td>\n      <td>NaN</td>\n      <td>NaN</td>\n      <td>1995000.0</td>\n    </tr>\n    <tr>\n      <th>...</th>\n      <td>...</td>\n      <td>...</td>\n      <td>...</td>\n      <td>...</td>\n      <td>...</td>\n      <td>...</td>\n      <td>...</td>\n      <td>...</td>\n      <td>...</td>\n      <td>...</td>\n      <td>...</td>\n      <td>...</td>\n      <td>...</td>\n      <td>...</td>\n      <td>...</td>\n      <td>...</td>\n      <td>...</td>\n      <td>...</td>\n      <td>...</td>\n      <td>...</td>\n      <td>...</td>\n    </tr>\n    <tr>\n      <th>42284</th>\n      <td>NaN</td>\n      <td>MITSUBISHI</td>\n      <td>серый</td>\n      <td>Специальные условия на покупку Mitsubishi ASX ...</td>\n      <td>NaN</td>\n      <td>NaN</td>\n      <td>NaN</td>\n      <td>NaN</td>\n      <td>2020.0</td>\n      <td>ASX</td>\n      <td>...</td>\n      <td>1643823708</td>\n      <td>2021.0</td>\n      <td>{'gear_type': 'ALL_WHEEL_DRIVE', 'engine_type'...</td>\n      <td>NaN</td>\n      <td>NaN</td>\n      <td>NaN</td>\n      <td>NaN</td>\n      <td>NaN</td>\n      <td>NaN</td>\n      <td>2105000.0</td>\n    </tr>\n    <tr>\n      <th>42288</th>\n      <td>NaN</td>\n      <td>MITSUBISHI</td>\n      <td>серый</td>\n      <td>Специальные условия на покупку Mitsubishi ASX ...</td>\n      <td>NaN</td>\n      <td>NaN</td>\n      <td>NaN</td>\n      <td>NaN</td>\n      <td>2020.0</td>\n      <td>ASX</td>\n      <td>...</td>\n      <td>1643823709</td>\n      <td>2021.0</td>\n      <td>{'gear_type': 'FORWARD_CONTROL', 'engine_type'...</td>\n      <td>NaN</td>\n      <td>NaN</td>\n      <td>NaN</td>\n      <td>NaN</td>\n      <td>NaN</td>\n      <td>NaN</td>\n      <td>1670000.0</td>\n    </tr>\n    <tr>\n      <th>42292</th>\n      <td>NaN</td>\n      <td>MITSUBISHI</td>\n      <td>оранжевый</td>\n      <td>Специальные условия на покупку Mitsubishi ASX ...</td>\n      <td>NaN</td>\n      <td>NaN</td>\n      <td>NaN</td>\n      <td>NaN</td>\n      <td>2020.0</td>\n      <td>ASX</td>\n      <td>...</td>\n      <td>1643823708</td>\n      <td>2021.0</td>\n      <td>{'gear_type': 'ALL_WHEEL_DRIVE', 'engine_type'...</td>\n      <td>NaN</td>\n      <td>NaN</td>\n      <td>NaN</td>\n      <td>NaN</td>\n      <td>NaN</td>\n      <td>NaN</td>\n      <td>1920000.0</td>\n    </tr>\n    <tr>\n      <th>42300</th>\n      <td>NaN</td>\n      <td>MITSUBISHI</td>\n      <td>белый</td>\n      <td>В честь 30-летия бренда Mitsubishi в России ст...</td>\n      <td>NaN</td>\n      <td>NaN</td>\n      <td>NaN</td>\n      <td>NaN</td>\n      <td>2020.0</td>\n      <td>ASX</td>\n      <td>...</td>\n      <td>1643823712</td>\n      <td>2021.0</td>\n      <td>{'gear_type': 'ALL_WHEEL_DRIVE', 'engine_type'...</td>\n      <td>NaN</td>\n      <td>NaN</td>\n      <td>NaN</td>\n      <td>NaN</td>\n      <td>NaN</td>\n      <td>NaN</td>\n      <td>2246000.0</td>\n    </tr>\n    <tr>\n      <th>42302</th>\n      <td>NaN</td>\n      <td>MITSUBISHI</td>\n      <td>белый</td>\n      <td>Специальные условия на покупку Mitsubishi ASX ...</td>\n      <td>NaN</td>\n      <td>NaN</td>\n      <td>NaN</td>\n      <td>NaN</td>\n      <td>2020.0</td>\n      <td>ASX</td>\n      <td>...</td>\n      <td>1643823712</td>\n      <td>2021.0</td>\n      <td>{'gear_type': 'FORWARD_CONTROL', 'engine_type'...</td>\n      <td>NaN</td>\n      <td>NaN</td>\n      <td>NaN</td>\n      <td>NaN</td>\n      <td>NaN</td>\n      <td>NaN</td>\n      <td>1600000.0</td>\n    </tr>\n  </tbody>\n</table>\n<p>7232 rows × 21 columns</p>\n</div>"
     },
     "execution_count": 159,
     "metadata": {},
     "output_type": "execute_result"
    }
   ],
   "source": [
    "df_train[df_train['bodyType'].isna()]"
   ],
   "metadata": {
    "collapsed": false,
    "pycharm": {
     "name": "#%%\n"
    }
   }
  },
  {
   "cell_type": "code",
   "execution_count": 160,
   "outputs": [
    {
     "data": {
      "text/plain": "array([2022., 2021., 2020., 2019.])"
     },
     "execution_count": 160,
     "metadata": {},
     "output_type": "execute_result"
    }
   ],
   "source": [
    "df_train[df_train['bodyType'].isna()]['productionDate'].unique()"
   ],
   "metadata": {
    "collapsed": false,
    "pycharm": {
     "name": "#%%\n"
    }
   }
  },
  {
   "cell_type": "code",
   "execution_count": 161,
   "outputs": [
    {
     "data": {
      "text/plain": "array([nan], dtype=object)"
     },
     "execution_count": 161,
     "metadata": {},
     "output_type": "execute_result"
    }
   ],
   "source": [
    "df_train[df_train['bodyType'].isna()]['Владельцы'].unique()"
   ],
   "metadata": {
    "collapsed": false,
    "pycharm": {
     "name": "#%%\n"
    }
   }
  },
  {
   "cell_type": "code",
   "execution_count": 162,
   "outputs": [
    {
     "data": {
      "text/plain": "array(['3 или более', '1\\xa0владелец', '2\\xa0владельца'], dtype=object)"
     },
     "execution_count": 162,
     "metadata": {},
     "output_type": "execute_result"
    }
   ],
   "source": [
    "df_test['Владельцы'].unique()"
   ],
   "metadata": {
    "collapsed": false,
    "pycharm": {
     "name": "#%%\n"
    }
   }
  },
  {
   "cell_type": "markdown",
   "source": [
    "So we can conclude that this records are for new cars, but we have no new cars in our test - delete this rows"
   ],
   "metadata": {
    "collapsed": false,
    "pycharm": {
     "name": "#%% md\n"
    }
   }
  },
  {
   "cell_type": "code",
   "execution_count": 163,
   "outputs": [
    {
     "data": {
      "text/plain": "(30426, 21)"
     },
     "execution_count": 163,
     "metadata": {},
     "output_type": "execute_result"
    }
   ],
   "source": [
    "df_train = df_train[~df_train['bodyType'].isna()]\n",
    "df_train.shape"
   ],
   "metadata": {
    "collapsed": false,
    "pycharm": {
     "name": "#%%\n"
    }
   }
  },
  {
   "cell_type": "markdown",
   "source": [
    "### Check and process duplicates"
   ],
   "metadata": {
    "collapsed": false,
    "pycharm": {
     "name": "#%% md\n"
    }
   }
  },
  {
   "cell_type": "code",
   "execution_count": 164,
   "outputs": [
    {
     "data": {
      "text/plain": "39"
     },
     "execution_count": 164,
     "metadata": {},
     "output_type": "execute_result"
    }
   ],
   "source": [
    "sum(df_train.duplicated())"
   ],
   "metadata": {
    "collapsed": false,
    "pycharm": {
     "name": "#%%\n"
    }
   }
  },
  {
   "cell_type": "code",
   "execution_count": 165,
   "outputs": [
    {
     "data": {
      "text/plain": "                bodyType       brand       color  \\\n1021             лифтбек       SKODA       белый   \n1036             лифтбек       SKODA       белый   \n1240             лифтбек       SKODA       белый   \n1259             лифтбек       SKODA       белый   \n1962             лифтбек       SKODA       белый   \n...                  ...         ...         ...   \n37214              седан  VOLKSWAGEN       белый   \n40571  внедорожник 5 дв.  MITSUBISHI      чёрный   \n40577  внедорожник 5 дв.  MITSUBISHI      чёрный   \n41621  внедорожник 5 дв.  MITSUBISHI  коричневый   \n41638  внедорожник 5 дв.  MITSUBISHI  коричневый   \n\n                                             description  engineDisplacement  \\\n1021   ...\\r\\nУникальное предложение на автомобили с ...                 1.0   \n1036   ...\\r\\nУникальное предложение на автомобили с ...                 1.0   \n1240   АВТОВЕК, являясь официальным дилером LADA, пре...                 1.8   \n1259   АВТОВЕК, являясь официальным дилером LADA, пре...                 1.8   \n1962   ✅ ПТС оригинал\\r\\n\\r\\n✅Хорошее техническое сос...                 1.6   \n...                                                  ...                 ...   \n37214  Volkswagen Passat 2012г.в.  нaxодитcя по адреc...                 1.4   \n40571  Безопасность: 11. Обзор: 4. Комфорт: 15. Элеме...                 2.4   \n40577  Безопасность: 11. Обзор: 4. Комфорт: 15. Элеме...                 2.4   \n41621  Автомобиль в отличном состоянии. Бережная эксп...                 1.6   \n41638  Автомобиль в отличном состоянии. Бережная эксп...                 1.6   \n\n       enginePower fuelType   mileage  modelDate    model_name  ...  \\\n1021         110.0   Бензин   39000.0     2017.0         RAPID  ...   \n1036         110.0   Бензин   39000.0     2017.0         RAPID  ...   \n1240         180.0   Бензин   61000.0     2017.0       OCTAVIA  ...   \n1259         180.0   Бензин   61000.0     2017.0       OCTAVIA  ...   \n1962          90.0   Бензин   64000.0     2017.0         RAPID  ...   \n...            ...      ...       ...        ...           ...  ...   \n37214        122.0   Бензин  151000.0     2011.0        PASSAT  ...   \n40571        181.0   Дизель   31000.0     2015.0  PAJERO_SPORT  ...   \n40577        181.0   Дизель   31000.0     2015.0  PAJERO_SPORT  ...   \n41621        117.0   Бензин  180000.0     2010.0           ASX  ...   \n41638        117.0   Бензин  180000.0     2010.0           ASX  ...   \n\n       parsing_unixtime  productionDate  \\\n1021         1643814001          2019.0   \n1036         1643814001          2019.0   \n1240         1643814054          2018.0   \n1259         1643814054          2018.0   \n1962         1643814235          2017.0   \n...                 ...             ...   \n37214        1643822550          2012.0   \n40571        1643823314          2018.0   \n40577        1643823314          2018.0   \n41621        1643823556          2011.0   \n41638        1643823556          2011.0   \n\n                                               super_gen vehicleTransmission  \\\n1021   {'gear_type': 'FORWARD_CONTROL', 'engine_type'...        механическая   \n1036   {'gear_type': 'FORWARD_CONTROL', 'engine_type'...        механическая   \n1240   {'gear_type': 'FORWARD_CONTROL', 'engine_type'...    роботизированная   \n1259   {'gear_type': 'FORWARD_CONTROL', 'engine_type'...    роботизированная   \n1962   {'gear_type': 'FORWARD_CONTROL', 'engine_type'...        механическая   \n...                                                  ...                 ...   \n37214  {'gear_type': 'FORWARD_CONTROL', 'engine_type'...    роботизированная   \n40571  {'gear_type': 'ALL_WHEEL_DRIVE', 'engine_type'...      автоматическая   \n40577  {'gear_type': 'ALL_WHEEL_DRIVE', 'engine_type'...      автоматическая   \n41621  {'gear_type': 'FORWARD_CONTROL', 'engine_type'...        механическая   \n41638  {'gear_type': 'FORWARD_CONTROL', 'engine_type'...        механическая   \n\n      vendor    Владельцы       ПТС    Привод   Руль      Price  \n1021     NaN  2 владельца  Оригинал  передний  Левый  1290000.0  \n1036     NaN  2 владельца  Оригинал  передний  Левый  1290000.0  \n1240     NaN   1 владелец  Оригинал  передний  Левый  1850000.0  \n1259     NaN   1 владелец  Оригинал  передний  Левый  1850000.0  \n1962     NaN  3 или более  Оригинал  передний  Левый   920000.0  \n...      ...          ...       ...       ...    ...        ...  \n37214    NaN  3 или более  Оригинал  передний  Левый   790000.0  \n40571    NaN   1 владелец  Оригинал    полный  Левый  2700000.0  \n40577    NaN   1 владелец  Оригинал    полный  Левый  2700000.0  \n41621    NaN  2 владельца  Оригинал  передний  Левый   910000.0  \n41638    NaN  2 владельца  Оригинал  передний  Левый   910000.0  \n\n[78 rows x 21 columns]",
      "text/html": "<div>\n<style scoped>\n    .dataframe tbody tr th:only-of-type {\n        vertical-align: middle;\n    }\n\n    .dataframe tbody tr th {\n        vertical-align: top;\n    }\n\n    .dataframe thead th {\n        text-align: right;\n    }\n</style>\n<table border=\"1\" class=\"dataframe\">\n  <thead>\n    <tr style=\"text-align: right;\">\n      <th></th>\n      <th>bodyType</th>\n      <th>brand</th>\n      <th>color</th>\n      <th>description</th>\n      <th>engineDisplacement</th>\n      <th>enginePower</th>\n      <th>fuelType</th>\n      <th>mileage</th>\n      <th>modelDate</th>\n      <th>model_name</th>\n      <th>...</th>\n      <th>parsing_unixtime</th>\n      <th>productionDate</th>\n      <th>super_gen</th>\n      <th>vehicleTransmission</th>\n      <th>vendor</th>\n      <th>Владельцы</th>\n      <th>ПТС</th>\n      <th>Привод</th>\n      <th>Руль</th>\n      <th>Price</th>\n    </tr>\n  </thead>\n  <tbody>\n    <tr>\n      <th>1021</th>\n      <td>лифтбек</td>\n      <td>SKODA</td>\n      <td>белый</td>\n      <td>...\\r\\nУникальное предложение на автомобили с ...</td>\n      <td>1.0</td>\n      <td>110.0</td>\n      <td>Бензин</td>\n      <td>39000.0</td>\n      <td>2017.0</td>\n      <td>RAPID</td>\n      <td>...</td>\n      <td>1643814001</td>\n      <td>2019.0</td>\n      <td>{'gear_type': 'FORWARD_CONTROL', 'engine_type'...</td>\n      <td>механическая</td>\n      <td>NaN</td>\n      <td>2 владельца</td>\n      <td>Оригинал</td>\n      <td>передний</td>\n      <td>Левый</td>\n      <td>1290000.0</td>\n    </tr>\n    <tr>\n      <th>1036</th>\n      <td>лифтбек</td>\n      <td>SKODA</td>\n      <td>белый</td>\n      <td>...\\r\\nУникальное предложение на автомобили с ...</td>\n      <td>1.0</td>\n      <td>110.0</td>\n      <td>Бензин</td>\n      <td>39000.0</td>\n      <td>2017.0</td>\n      <td>RAPID</td>\n      <td>...</td>\n      <td>1643814001</td>\n      <td>2019.0</td>\n      <td>{'gear_type': 'FORWARD_CONTROL', 'engine_type'...</td>\n      <td>механическая</td>\n      <td>NaN</td>\n      <td>2 владельца</td>\n      <td>Оригинал</td>\n      <td>передний</td>\n      <td>Левый</td>\n      <td>1290000.0</td>\n    </tr>\n    <tr>\n      <th>1240</th>\n      <td>лифтбек</td>\n      <td>SKODA</td>\n      <td>белый</td>\n      <td>АВТОВЕК, являясь официальным дилером LADA, пре...</td>\n      <td>1.8</td>\n      <td>180.0</td>\n      <td>Бензин</td>\n      <td>61000.0</td>\n      <td>2017.0</td>\n      <td>OCTAVIA</td>\n      <td>...</td>\n      <td>1643814054</td>\n      <td>2018.0</td>\n      <td>{'gear_type': 'FORWARD_CONTROL', 'engine_type'...</td>\n      <td>роботизированная</td>\n      <td>NaN</td>\n      <td>1 владелец</td>\n      <td>Оригинал</td>\n      <td>передний</td>\n      <td>Левый</td>\n      <td>1850000.0</td>\n    </tr>\n    <tr>\n      <th>1259</th>\n      <td>лифтбек</td>\n      <td>SKODA</td>\n      <td>белый</td>\n      <td>АВТОВЕК, являясь официальным дилером LADA, пре...</td>\n      <td>1.8</td>\n      <td>180.0</td>\n      <td>Бензин</td>\n      <td>61000.0</td>\n      <td>2017.0</td>\n      <td>OCTAVIA</td>\n      <td>...</td>\n      <td>1643814054</td>\n      <td>2018.0</td>\n      <td>{'gear_type': 'FORWARD_CONTROL', 'engine_type'...</td>\n      <td>роботизированная</td>\n      <td>NaN</td>\n      <td>1 владелец</td>\n      <td>Оригинал</td>\n      <td>передний</td>\n      <td>Левый</td>\n      <td>1850000.0</td>\n    </tr>\n    <tr>\n      <th>1962</th>\n      <td>лифтбек</td>\n      <td>SKODA</td>\n      <td>белый</td>\n      <td>✅ ПТС оригинал\\r\\n\\r\\n✅Хорошее техническое сос...</td>\n      <td>1.6</td>\n      <td>90.0</td>\n      <td>Бензин</td>\n      <td>64000.0</td>\n      <td>2017.0</td>\n      <td>RAPID</td>\n      <td>...</td>\n      <td>1643814235</td>\n      <td>2017.0</td>\n      <td>{'gear_type': 'FORWARD_CONTROL', 'engine_type'...</td>\n      <td>механическая</td>\n      <td>NaN</td>\n      <td>3 или более</td>\n      <td>Оригинал</td>\n      <td>передний</td>\n      <td>Левый</td>\n      <td>920000.0</td>\n    </tr>\n    <tr>\n      <th>...</th>\n      <td>...</td>\n      <td>...</td>\n      <td>...</td>\n      <td>...</td>\n      <td>...</td>\n      <td>...</td>\n      <td>...</td>\n      <td>...</td>\n      <td>...</td>\n      <td>...</td>\n      <td>...</td>\n      <td>...</td>\n      <td>...</td>\n      <td>...</td>\n      <td>...</td>\n      <td>...</td>\n      <td>...</td>\n      <td>...</td>\n      <td>...</td>\n      <td>...</td>\n      <td>...</td>\n    </tr>\n    <tr>\n      <th>37214</th>\n      <td>седан</td>\n      <td>VOLKSWAGEN</td>\n      <td>белый</td>\n      <td>Volkswagen Passat 2012г.в.  нaxодитcя по адреc...</td>\n      <td>1.4</td>\n      <td>122.0</td>\n      <td>Бензин</td>\n      <td>151000.0</td>\n      <td>2011.0</td>\n      <td>PASSAT</td>\n      <td>...</td>\n      <td>1643822550</td>\n      <td>2012.0</td>\n      <td>{'gear_type': 'FORWARD_CONTROL', 'engine_type'...</td>\n      <td>роботизированная</td>\n      <td>NaN</td>\n      <td>3 или более</td>\n      <td>Оригинал</td>\n      <td>передний</td>\n      <td>Левый</td>\n      <td>790000.0</td>\n    </tr>\n    <tr>\n      <th>40571</th>\n      <td>внедорожник 5 дв.</td>\n      <td>MITSUBISHI</td>\n      <td>чёрный</td>\n      <td>Безопасность: 11. Обзор: 4. Комфорт: 15. Элеме...</td>\n      <td>2.4</td>\n      <td>181.0</td>\n      <td>Дизель</td>\n      <td>31000.0</td>\n      <td>2015.0</td>\n      <td>PAJERO_SPORT</td>\n      <td>...</td>\n      <td>1643823314</td>\n      <td>2018.0</td>\n      <td>{'gear_type': 'ALL_WHEEL_DRIVE', 'engine_type'...</td>\n      <td>автоматическая</td>\n      <td>NaN</td>\n      <td>1 владелец</td>\n      <td>Оригинал</td>\n      <td>полный</td>\n      <td>Левый</td>\n      <td>2700000.0</td>\n    </tr>\n    <tr>\n      <th>40577</th>\n      <td>внедорожник 5 дв.</td>\n      <td>MITSUBISHI</td>\n      <td>чёрный</td>\n      <td>Безопасность: 11. Обзор: 4. Комфорт: 15. Элеме...</td>\n      <td>2.4</td>\n      <td>181.0</td>\n      <td>Дизель</td>\n      <td>31000.0</td>\n      <td>2015.0</td>\n      <td>PAJERO_SPORT</td>\n      <td>...</td>\n      <td>1643823314</td>\n      <td>2018.0</td>\n      <td>{'gear_type': 'ALL_WHEEL_DRIVE', 'engine_type'...</td>\n      <td>автоматическая</td>\n      <td>NaN</td>\n      <td>1 владелец</td>\n      <td>Оригинал</td>\n      <td>полный</td>\n      <td>Левый</td>\n      <td>2700000.0</td>\n    </tr>\n    <tr>\n      <th>41621</th>\n      <td>внедорожник 5 дв.</td>\n      <td>MITSUBISHI</td>\n      <td>коричневый</td>\n      <td>Автомобиль в отличном состоянии. Бережная эксп...</td>\n      <td>1.6</td>\n      <td>117.0</td>\n      <td>Бензин</td>\n      <td>180000.0</td>\n      <td>2010.0</td>\n      <td>ASX</td>\n      <td>...</td>\n      <td>1643823556</td>\n      <td>2011.0</td>\n      <td>{'gear_type': 'FORWARD_CONTROL', 'engine_type'...</td>\n      <td>механическая</td>\n      <td>NaN</td>\n      <td>2 владельца</td>\n      <td>Оригинал</td>\n      <td>передний</td>\n      <td>Левый</td>\n      <td>910000.0</td>\n    </tr>\n    <tr>\n      <th>41638</th>\n      <td>внедорожник 5 дв.</td>\n      <td>MITSUBISHI</td>\n      <td>коричневый</td>\n      <td>Автомобиль в отличном состоянии. Бережная эксп...</td>\n      <td>1.6</td>\n      <td>117.0</td>\n      <td>Бензин</td>\n      <td>180000.0</td>\n      <td>2010.0</td>\n      <td>ASX</td>\n      <td>...</td>\n      <td>1643823556</td>\n      <td>2011.0</td>\n      <td>{'gear_type': 'FORWARD_CONTROL', 'engine_type'...</td>\n      <td>механическая</td>\n      <td>NaN</td>\n      <td>2 владельца</td>\n      <td>Оригинал</td>\n      <td>передний</td>\n      <td>Левый</td>\n      <td>910000.0</td>\n    </tr>\n  </tbody>\n</table>\n<p>78 rows × 21 columns</p>\n</div>"
     },
     "execution_count": 165,
     "metadata": {},
     "output_type": "execute_result"
    }
   ],
   "source": [
    "# what are they..?\n",
    "df_train[df_train.duplicated(keep=False) & ~df_train['bodyType'].isna()]"
   ],
   "metadata": {
    "collapsed": false,
    "pycharm": {
     "name": "#%%\n"
    }
   }
  },
  {
   "cell_type": "code",
   "execution_count": 167,
   "outputs": [
    {
     "data": {
      "text/plain": "(30387, 21)"
     },
     "execution_count": 167,
     "metadata": {},
     "output_type": "execute_result"
    }
   ],
   "source": [
    "# delete duplicates\n",
    "df_train.drop_duplicates(inplace=True)\n",
    "df_train.shape"
   ],
   "metadata": {
    "collapsed": false,
    "pycharm": {
     "name": "#%%\n"
    }
   }
  },
  {
   "cell_type": "code",
   "execution_count": 166,
   "outputs": [
    {
     "data": {
      "text/plain": "0"
     },
     "execution_count": 166,
     "metadata": {},
     "output_type": "execute_result"
    }
   ],
   "source": [
    "sum(df_test.duplicated())"
   ],
   "metadata": {
    "collapsed": false,
    "pycharm": {
     "name": "#%%\n"
    }
   }
  },
  {
   "cell_type": "code",
   "execution_count": 170,
   "outputs": [
    {
     "name": "stdout",
     "output_type": "stream",
     "text": [
      "****************************************************************************************************\n",
      "****************************************     TRAIN SET     ****************************************\n",
      "****************************************************************************************************\n",
      "<class 'pandas.core.frame.DataFrame'>\n",
      "Int64Index: 30387 entries, 0 to 42304\n",
      "Data columns (total 21 columns):\n",
      " #   Column               Non-Null Count  Dtype  \n",
      "---  ------               --------------  -----  \n",
      " 0   bodyType             30387 non-null  object \n",
      " 1   brand                30387 non-null  object \n",
      " 2   color                30387 non-null  object \n",
      " 3   description          30387 non-null  object \n",
      " 4   engineDisplacement   30295 non-null  float64\n",
      " 5   enginePower          30295 non-null  float64\n",
      " 6   fuelType             30295 non-null  object \n",
      " 7   mileage              30387 non-null  float64\n",
      " 8   modelDate            30387 non-null  float64\n",
      " 9   model_name           30387 non-null  object \n",
      " 10  numberOfDoors        30387 non-null  float64\n",
      " 11  parsing_unixtime     30387 non-null  int64  \n",
      " 12  productionDate       30387 non-null  float64\n",
      " 13  super_gen            30387 non-null  object \n",
      " 14  vehicleTransmission  30387 non-null  object \n",
      " 15  vendor               0 non-null      float64\n",
      " 16  Владельцы            30387 non-null  object \n",
      " 17  ПТС                  30387 non-null  object \n",
      " 18  Привод               30387 non-null  object \n",
      " 19  Руль                 30387 non-null  object \n",
      " 20  Price                30387 non-null  float64\n",
      "dtypes: float64(8), int64(1), object(12)\n",
      "memory usage: 5.1+ MB\n",
      "****************************************************************************************************\n",
      "*****************************************     TEST SET     *****************************************\n",
      "****************************************************************************************************\n",
      "<class 'pandas.core.frame.DataFrame'>\n",
      "RangeIndex: 34686 entries, 0 to 34685\n",
      "Data columns (total 20 columns):\n",
      " #   Column               Non-Null Count  Dtype \n",
      "---  ------               --------------  ----- \n",
      " 0   bodyType             34686 non-null  object\n",
      " 1   brand                34686 non-null  object\n",
      " 2   color                34686 non-null  object\n",
      " 3   description          34686 non-null  object\n",
      " 4   engineDisplacement   34686 non-null  object\n",
      " 5   enginePower          34686 non-null  object\n",
      " 6   fuelType             34686 non-null  object\n",
      " 7   mileage              34686 non-null  int64 \n",
      " 8   modelDate            34686 non-null  int64 \n",
      " 9   model_name           34686 non-null  object\n",
      " 10  numberOfDoors        34686 non-null  int64 \n",
      " 11  parsing_unixtime     34686 non-null  int64 \n",
      " 12  productionDate       34686 non-null  int64 \n",
      " 13  super_gen            34686 non-null  object\n",
      " 14  vehicleTransmission  34686 non-null  object\n",
      " 15  vendor               34686 non-null  object\n",
      " 16  Владельцы            34686 non-null  object\n",
      " 17  ПТС                  34685 non-null  object\n",
      " 18  Привод               34686 non-null  object\n",
      " 19  Руль                 34686 non-null  object\n",
      "dtypes: int64(5), object(15)\n",
      "memory usage: 5.3+ MB\n"
     ]
    }
   ],
   "source": [
    "print_framed('TRAIN SET')\n",
    "df_train.info()\n",
    "\n",
    "print_framed('TEST SET')\n",
    "df_test.info()"
   ],
   "metadata": {
    "collapsed": false,
    "pycharm": {
     "name": "#%%\n"
    }
   }
  },
  {
   "cell_type": "markdown",
   "source": [
    "Although the size of cleaned train is not so large it is although not so small, and for future models in this study project we want to use our own parsed train data."
   ],
   "metadata": {
    "collapsed": false,
    "pycharm": {
     "name": "#%% md\n"
    }
   }
  },
  {
   "cell_type": "markdown",
   "source": [
    "## EDA and existing feature transformation"
   ],
   "metadata": {
    "collapsed": false,
    "pycharm": {
     "name": "#%% md\n"
    }
   }
  },
  {
   "cell_type": "code",
   "execution_count": null,
   "outputs": [],
   "source": [],
   "metadata": {
    "collapsed": false,
    "pycharm": {
     "name": "#%%\n"
    }
   }
  },
  {
   "cell_type": "markdown",
   "source": [
    "## New feature engineering"
   ],
   "metadata": {
    "collapsed": false,
    "pycharm": {
     "name": "#%% md\n"
    }
   }
  },
  {
   "cell_type": "code",
   "execution_count": 187,
   "outputs": [],
   "source": [],
   "metadata": {
    "collapsed": false,
    "pycharm": {
     "name": "#%%\n"
    }
   }
  },
  {
   "cell_type": "code",
   "execution_count": null,
   "outputs": [],
   "source": [
    "\n"
   ],
   "metadata": {
    "collapsed": false,
    "pycharm": {
     "name": "#%%\n",
     "is_executing": true
    }
   }
  },
  {
   "cell_type": "code",
   "execution_count": null,
   "outputs": [],
   "source": [],
   "metadata": {
    "collapsed": false,
    "pycharm": {
     "name": "#%%\n"
    }
   }
  },
  {
   "cell_type": "markdown",
   "source": [
    "# Trials"
   ],
   "metadata": {
    "collapsed": false,
    "pycharm": {
     "name": "#%% md\n"
    }
   }
  },
  {
   "cell_type": "code",
   "execution_count": 192,
   "outputs": [
    {
     "data": {
      "text/plain": "Available line magics:\n%alias  %alias_magic  %autoawait  %autocall  %automagic  %autosave  %bookmark  %cache  %cd  %clear  %cls  %colors  %conda  %config  %connect_info  %copy  %ddir  %debug  %dhist  %dirs  %doctest_mode  %echo  %ed  %edit  %env  %gui  %hist  %history  %killbgscripts  %ldir  %less  %load  %load_ext  %loadpy  %logoff  %logon  %logstart  %logstate  %logstop  %ls  %lsmagic  %macro  %magic  %matplotlib  %mkdir  %more  %notebook  %page  %pastebin  %pdb  %pdef  %pdoc  %pfile  %pinfo  %pinfo2  %pip  %popd  %pprint  %precision  %prun  %psearch  %psource  %pushd  %pwd  %pycat  %pylab  %qtconsole  %quickref  %recall  %rehashx  %reload_ext  %ren  %rep  %rerun  %reset  %reset_selective  %rmdir  %run  %save  %sc  %set_env  %store  %sx  %system  %tb  %time  %timeit  %unalias  %unload_ext  %who  %who_ls  %whos  %xdel  %xmode\n\nAvailable cell magics:\n%%!  %%HTML  %%SVG  %%bash  %%capture  %%cmd  %%debug  %%file  %%html  %%javascript  %%js  %%latex  %%markdown  %%perl  %%prun  %%pypy  %%python  %%python2  %%python3  %%ruby  %%script  %%sh  %%svg  %%sx  %%system  %%time  %%timeit  %%writefile\n\nAutomagic is ON, % prefix IS NOT needed for line magics.",
      "application/json": {
       "line": {
        "automagic": "AutoMagics",
        "autocall": "AutoMagics",
        "alias_magic": "BasicMagics",
        "lsmagic": "BasicMagics",
        "magic": "BasicMagics",
        "page": "BasicMagics",
        "pprint": "BasicMagics",
        "colors": "BasicMagics",
        "xmode": "BasicMagics",
        "quickref": "BasicMagics",
        "doctest_mode": "BasicMagics",
        "gui": "BasicMagics",
        "precision": "BasicMagics",
        "notebook": "BasicMagics",
        "save": "CodeMagics",
        "pastebin": "CodeMagics",
        "loadpy": "CodeMagics",
        "load": "CodeMagics",
        "edit": "KernelMagics",
        "config": "ConfigMagics",
        "prun": "ExecutionMagics",
        "pdb": "ExecutionMagics",
        "debug": "ExecutionMagics",
        "tb": "ExecutionMagics",
        "run": "ExecutionMagics",
        "timeit": "ExecutionMagics",
        "time": "ExecutionMagics",
        "macro": "ExecutionMagics",
        "load_ext": "ExtensionMagics",
        "unload_ext": "ExtensionMagics",
        "reload_ext": "ExtensionMagics",
        "history": "HistoryMagics",
        "recall": "HistoryMagics",
        "rerun": "HistoryMagics",
        "logstart": "LoggingMagics",
        "logstop": "LoggingMagics",
        "logoff": "LoggingMagics",
        "logon": "LoggingMagics",
        "logstate": "LoggingMagics",
        "pinfo": "NamespaceMagics",
        "pinfo2": "NamespaceMagics",
        "pdef": "NamespaceMagics",
        "pdoc": "NamespaceMagics",
        "psource": "NamespaceMagics",
        "pfile": "NamespaceMagics",
        "psearch": "NamespaceMagics",
        "who_ls": "NamespaceMagics",
        "who": "NamespaceMagics",
        "whos": "NamespaceMagics",
        "reset": "NamespaceMagics",
        "reset_selective": "NamespaceMagics",
        "xdel": "NamespaceMagics",
        "alias": "OSMagics",
        "unalias": "OSMagics",
        "rehashx": "OSMagics",
        "pwd": "OSMagics",
        "cd": "OSMagics",
        "env": "OSMagics",
        "set_env": "OSMagics",
        "pushd": "OSMagics",
        "popd": "OSMagics",
        "dirs": "OSMagics",
        "dhist": "OSMagics",
        "sc": "OSMagics",
        "sx": "OSMagics",
        "system": "OSMagics",
        "bookmark": "OSMagics",
        "pycat": "OSMagics",
        "pip": "PackagingMagics",
        "conda": "PackagingMagics",
        "matplotlib": "PylabMagics",
        "pylab": "PylabMagics",
        "killbgscripts": "ScriptMagics",
        "autoawait": "AsyncMagics",
        "ed": "Other",
        "hist": "Other",
        "rep": "Other",
        "clear": "KernelMagics",
        "cls": "KernelMagics",
        "less": "KernelMagics",
        "more": "KernelMagics",
        "connect_info": "KernelMagics",
        "qtconsole": "KernelMagics",
        "autosave": "KernelMagics",
        "ls": "Other",
        "ddir": "Other",
        "ldir": "Other",
        "mkdir": "Other",
        "rmdir": "Other",
        "echo": "Other",
        "ren": "Other",
        "copy": "Other",
        "store": "StoreMagics",
        "cache": "CacheMagic"
       },
       "cell": {
        "js": "DisplayMagics",
        "javascript": "DisplayMagics",
        "latex": "DisplayMagics",
        "svg": "DisplayMagics",
        "html": "DisplayMagics",
        "markdown": "DisplayMagics",
        "prun": "ExecutionMagics",
        "debug": "ExecutionMagics",
        "timeit": "ExecutionMagics",
        "time": "ExecutionMagics",
        "capture": "ExecutionMagics",
        "sx": "OSMagics",
        "system": "OSMagics",
        "!": "OSMagics",
        "writefile": "OSMagics",
        "script": "ScriptMagics",
        "sh": "Other",
        "bash": "Other",
        "perl": "Other",
        "ruby": "Other",
        "python": "Other",
        "python2": "Other",
        "python3": "Other",
        "pypy": "Other",
        "cmd": "Other",
        "SVG": "Other",
        "HTML": "Other",
        "file": "Other"
       }
      }
     },
     "execution_count": 192,
     "metadata": {},
     "output_type": "execute_result"
    }
   ],
   "source": [
    "%lsmagic"
   ],
   "metadata": {
    "collapsed": false,
    "pycharm": {
     "name": "#%%\n"
    }
   }
  },
  {
   "cell_type": "code",
   "execution_count": null,
   "outputs": [],
   "source": [],
   "metadata": {
    "collapsed": false,
    "pycharm": {
     "name": "#%%\n"
    }
   }
  },
  {
   "cell_type": "code",
   "execution_count": 193,
   "outputs": [],
   "source": [
    "# %%timeit -r 10 -n 10\n",
    "# time.sleep(0.1)\n"
   ],
   "metadata": {
    "collapsed": false,
    "pycharm": {
     "name": "#%%\n"
    }
   }
  },
  {
   "cell_type": "code",
   "execution_count": 193,
   "outputs": [],
   "source": [
    "%%script NotExecute --no-raise-error\n",
    "\n",
    "class StopExecution(Exception):\n",
    "    def _render_traceback_(self):\n",
    "        pass\n",
    "\n",
    "raise StopExecution"
   ],
   "metadata": {
    "collapsed": false,
    "pycharm": {
     "name": "#%%\n"
    }
   }
  }
 ],
 "metadata": {
  "kernelspec": {
   "display_name": "Python 3",
   "language": "python",
   "name": "python3"
  },
  "language_info": {
   "codemirror_mode": {
    "name": "ipython",
    "version": 2
   },
   "file_extension": ".py",
   "mimetype": "text/x-python",
   "name": "python",
   "nbconvert_exporter": "python",
   "pygments_lexer": "ipython2",
   "version": "2.7.6"
  }
 },
 "nbformat": 4,
 "nbformat_minor": 0
}