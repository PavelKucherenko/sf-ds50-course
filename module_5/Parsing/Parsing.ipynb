{
 "cells": [
  {
   "cell_type": "markdown",
   "metadata": {
    "collapsed": true,
    "pycharm": {
     "name": "#%% md\n"
    }
   },
   "source": [
    "# Parsing train data from auto.ru for car price prediction"
   ]
  },
  {
   "cell_type": "markdown",
   "source": [
    "## Import"
   ],
   "metadata": {
    "collapsed": false,
    "pycharm": {
     "name": "#%% md\n"
    }
   }
  },
  {
   "cell_type": "code",
   "execution_count": 2,
   "outputs": [
    {
     "name": "stdout",
     "output_type": "stream",
     "text": [
      "Import is completed.\n"
     ]
    }
   ],
   "source": [
    "# import\n",
    "import time\n",
    "from collections.abc import Sequence\n",
    "from math import ceil\n",
    "import pandas as pd\n",
    "\n",
    "import requests\n",
    "from bs4 import BeautifulSoup\n",
    "from selenium import webdriver\n",
    "from selenium.webdriver.firefox.webdriver import WebDriver\n",
    "import asyncio\n",
    "import aiohttp\n",
    "import json\n",
    "import re\n",
    "\n",
    "import pprint as pp\n",
    "from IPython.display import display\n",
    "\n",
    "print('Import is completed.')"
   ],
   "metadata": {
    "collapsed": false,
    "pycharm": {
     "name": "#%%\n"
    }
   }
  },
  {
   "cell_type": "markdown",
   "source": [
    "## Functions"
   ],
   "metadata": {
    "collapsed": false,
    "pycharm": {
     "name": "#%% md\n"
    }
   }
  },
  {
   "cell_type": "code",
   "execution_count": 58,
   "outputs": [],
   "source": [
    "# noinspection PyBroadException\n",
    "def parse_car_data(car_url:str, content, features_to_extract:list):\n",
    "    \"\"\"Parse data from car ad page content trying to be as (reasonably) close to test set as possible.\"\"\"\n",
    "\n",
    "    car_data = {}\n",
    "\n",
    "    car_page = BeautifulSoup(content, 'html.parser')\n",
    "\n",
    "    # 'bodyType'\n",
    "    try: car_data['bodyType'] = car_page.find('li', class_='CardInfoRow CardInfoRow_bodytype').find('a', class_='Link Link_color_black').string\n",
    "    except: pass\n",
    "\n",
    "    # get info from script\n",
    "    try:\n",
    "        # 'brand', 'color', 'description',  'productionDate' and 'priceCurrency'\n",
    "        ld_json_scripts = car_page.find_all('script', type=\"application/ld+json\")\n",
    "        for script in ld_json_scripts:\n",
    "            cur_json = json.loads(script.string)\n",
    "            if cur_json['@type'] == 'https://schema.org/Product':\n",
    "                car_data.update({k:cur_json.get(k,None) for k in ['brand', 'color', 'description', 'productionDate']})\n",
    "                car_data['priceCurrency'] = cur_json['offers']['priceCurrency']\n",
    "                break\n",
    "    except:\n",
    "        pass\n",
    "\n",
    "    # 'car_url'\n",
    "    car_data['car_url'] = car_url\n",
    "\n",
    "    # engine info\n",
    "    try:\n",
    "        engine_texts = car_page.find('li', class_='CardInfoRow CardInfoRow_engine').find_all('span')[-1].text.split('/')\n",
    "        if 'электро' in engine_texts[2].lower():\n",
    "            # 'enginePower'\n",
    "            try: car_data['enginePower'] = engine_texts[0].split()[0]\n",
    "            except: pass\n",
    "        else:\n",
    "            # 'engineDisplacement'\n",
    "            try: car_data['engineDisplacement'] = engine_texts[0].split()[0]\n",
    "            except: pass\n",
    "\n",
    "            # 'enginePower'\n",
    "            try: car_data['enginePower'] = engine_texts[1].split()[0]\n",
    "            except: pass\n",
    "\n",
    "        # 'fuelType'\n",
    "        try: car_data['fuelType'] = engine_texts[-1].strip().lower()\n",
    "        except: pass\n",
    "    except:\n",
    "        pass\n",
    "\n",
    "    # get info from state script\n",
    "    try:\n",
    "        json_script_state = json.loads(car_page.find('script', type=\"application/json\", id='initial-state').string)\n",
    "\n",
    "        # 'complectation_dict'\n",
    "        try: car_data['complectation_dict'] = str(json_script_state['card']['vehicle_info']['complectation'])\n",
    "        except: pass\n",
    "\n",
    "        # 'equipment_dict'\n",
    "        try: car_data['equipment_dict'] = str(json_script_state['card']['vehicle_info']['equipment'])\n",
    "        except: pass\n",
    "\n",
    "        # 'super_gen'\n",
    "        try: car_data['super_gen'] = str(json_script_state['card']['vehicle_info']['tech_param'])\n",
    "        except: pass\n",
    "\n",
    "        # 'modelDate'\n",
    "        try: car_data['modelDate'] = json_script_state['card']['vehicle_info']['super_gen']['year_from']\n",
    "        except: pass\n",
    "\n",
    "        # 'model_info'\n",
    "        try: car_data['model_info'] = str(json_script_state['card']['vehicle_info']['model_info'])\n",
    "        except: pass\n",
    "\n",
    "        # 'model_name' (no sense but let's just add to be more like test set)\n",
    "        try: car_data['model_name'] = json_script_state['card']['vehicle_info']['model_info']['code']\n",
    "        except: pass\n",
    "\n",
    "        # 'name' (no sense but let's just add to be more like test set)\n",
    "        try: car_data['name'] = json_script_state['card']['vehicle_info']['tech_param']['human_name']\n",
    "        except: pass\n",
    "\n",
    "        # 'numberOfDoors'\n",
    "        try: car_data['numberOfDoors'] = json_script_state['card']['vehicle_info']['configuration']['doors_count']\n",
    "        except: pass\n",
    "    except:\n",
    "        pass\n",
    "\n",
    "    # 'image'\n",
    "    try: car_data['image'] = 'https:' + car_page.select('link[as=image]')[0]['href']\n",
    "    except: pass\n",
    "\n",
    "    # 'mileage'\n",
    "    try: car_data['mileage'] = ''.join(re.findall('\\d',car_page.find('li', class_='CardInfoRow CardInfoRow_kmAge').find_all('span')[1].string))\n",
    "    except: pass\n",
    "\n",
    "    # 'parsing_unixtime'\n",
    "    car_data['parsing_unixtime'] = int(time.time())\n",
    "\n",
    "    # 'vehicleTransmission',\n",
    "    try: car_data['vehicleTransmission'] = car_page.find('li', class_='CardInfoRow CardInfoRow_transmission').find_all('span')[1].string\n",
    "    except: pass\n",
    "\n",
    "    # 'Владельцы'\n",
    "    try: car_data['Владельцы'] = car_page.find('li', class_='CardInfoRow CardInfoRow_ownersCount').find_all('span')[1].text.replace(u'\\xa0', u' ')\n",
    "    except: pass\n",
    "\n",
    "    # 'Владение'\n",
    "    try: car_data['Владение'] = car_page.find('li', class_='CardInfoRow CardInfoRow_owningTime').find_all('span')[1].text\n",
    "    except: pass\n",
    "\n",
    "    # 'ПТС'\n",
    "    try: car_data['ПТС'] = car_page.find('li', class_='CardInfoRow CardInfoRow_pts').find_all('span')[1].text\n",
    "    except: pass\n",
    "\n",
    "    # 'Привод'\n",
    "    try: car_data['Привод'] = car_page.find('li', class_='CardInfoRow CardInfoRow_drive').find_all('span')[1].text\n",
    "    except: pass\n",
    "\n",
    "    # 'Руль'\n",
    "    try: car_data['Руль'] = car_page.find('li', class_='CardInfoRow CardInfoRow_wheel').find_all('span')[1].text\n",
    "    except: pass\n",
    "\n",
    "    # 'Состояние'\n",
    "    try: car_data['Состояние'] = car_page.find('li', class_='CardInfoRow CardInfoRow_state').find_all('span')[1].text\n",
    "    except: pass\n",
    "\n",
    "    # 'Таможня'\n",
    "    try: car_data['Таможня'] = car_page.find('li', class_='CardInfoRow CardInfoRow_customs').find_all('span')[1].text\n",
    "    except: pass\n",
    "\n",
    "    # 'sell_id'\n",
    "    # no need for training\n",
    "\n",
    "    # 'vehicleConfiguration'\n",
    "    # all this information is presented in other features - no need for train\n",
    "\n",
    "    # 'vendor'\n",
    "    # not found such info on site, but we can easily infer it later from test set\n",
    "\n",
    "    # add price column\n",
    "    try: car_data['Price'] = ''.join(re.findall('\\d', car_page.find('span', class_='OfferPriceCaption__price').text))\n",
    "    except: pass\n",
    "\n",
    "    # fill not extracted features with None and rearrange output dict keys to follow test set format\n",
    "    output_dict = {}\n",
    "    for feature in features_to_extract+['Price']:\n",
    "        if feature in car_data:\n",
    "            output_dict[feature] = car_data[feature]\n",
    "        else:\n",
    "            output_dict[feature] = None\n",
    "\n",
    "    return output_dict\n",
    "\n",
    "def init_webdriver():\n",
    "    \"\"\"Webdriver initialization function. Configure webdriver to ensure correct car ads parsing.\"\"\"\n",
    "\n",
    "    # disable geolocation\n",
    "    geoDisabled = webdriver.FirefoxOptions()\n",
    "    geoDisabled.set_preference(\"geo.enabled\", False)\n",
    "    geoDisabled.set_preference(\"geo.provider.use_corelocation\", False)\n",
    "    geoDisabled.set_preference(\"geo.prompt.testing\", False)\n",
    "    geoDisabled.set_preference(\"geo.prompt.testing.allow\", False)\n",
    "\n",
    "    return webdriver.Firefox(options=geoDisabled)\n",
    "\n",
    "def parse_car_urls(brand:str, driver:WebDriver):\n",
    "    \"\"\"Collect all car ad urls for specific brand via specific driver.\"\"\"\n",
    "\n",
    "    car_urls = []\n",
    "    try:\n",
    "        # brand_url = f'https://auto.ru/cars/{brand}/all/'\n",
    "        brand_url = f'https://auto.ru/cars/{brand}/used/engine-electro/'\n",
    "        driver.get(brand_url)\n",
    "        brand_page = BeautifulSoup(driver.page_source, 'html.parser')\n",
    "\n",
    "        # get number of pages for brand\n",
    "        num_pages = int(brand_page.find('span', class_='ControlGroup ControlGroup_responsive_no ControlGroup_size_s ListingPagination__pages') \\\n",
    "                                    .find_all('a')[-1].text)\n",
    "\n",
    "        for page_idx in range(1,num_pages+1):\n",
    "\n",
    "            try:\n",
    "                print(f'Brand \\'{brand}\\' (page {page_idx} from {num_pages})', end='\\r', flush=True)\n",
    "                page_url = brand_url + f'?page={page_idx}'\n",
    "                driver.get(page_url)\n",
    "                cur_page = BeautifulSoup(driver.page_source, 'html.parser')\n",
    "                car_links = cur_page.find_all('a', class_='Link ListingItemTitle__link')\n",
    "                car_urls.extend([link['href'] for link in car_links])\n",
    "            except:\n",
    "                pass\n",
    "\n",
    "            time.sleep(1)\n",
    "\n",
    "        print('')\n",
    "    except:\n",
    "        pass\n",
    "\n",
    "    return car_urls"
   ],
   "metadata": {
    "collapsed": false,
    "pycharm": {
     "name": "#%%\n"
    }
   }
  },
  {
   "cell_type": "code",
   "execution_count": 5,
   "outputs": [
    {
     "data": {
      "text/plain": "  bodyType  brand                                            car_url  \\\n0  лифтбек  SKODA  https://auto.ru/cars/used/sale/skoda/octavia/1...   \n1  лифтбек  SKODA  https://auto.ru/cars/used/sale/skoda/octavia/1...   \n2  лифтбек  SKODA  https://auto.ru/cars/used/sale/skoda/superb/11...   \n3  лифтбек  SKODA  https://auto.ru/cars/used/sale/skoda/octavia/1...   \n4  лифтбек  SKODA  https://auto.ru/cars/used/sale/skoda/octavia/1...   \n\n        color                                 complectation_dict  \\\n0       синий                                                NaN   \n1      чёрный                                                NaN   \n2       серый  {\"id\":\"20026336\",\"name\":\"Ambition\",\"available_...   \n3  коричневый  {\"id\":\"20803582\",\"name\":\"Ambition\",\"available_...   \n4       белый                                                NaN   \n\n                                         description engineDisplacement  \\\n0  Все автомобили, представленные в продаже, прох...            1.2 LTR   \n1  ЛОТ: 01217195\\nАвтопрага Север\\nДанный автомоб...            1.6 LTR   \n2  Все автомобили, представленные в продаже, прох...            1.8 LTR   \n3  КОМПЛЕКТ ЗИМНЕЙ (ЛЕТНЕЙ) РЕЗИНЫ ПО СЕЗОНУ В ПО...            1.6 LTR   \n4  ЛОТ: 01220889\\nАвтопрага Север\\n\\nВы можете по...            1.8 LTR   \n\n  enginePower                                     equipment_dict fuelType  \\\n0     105 N12  {\"engine-proof\":true,\"tinted-glass\":true,\"airb...   бензин   \n1     110 N12  {\"cruise-control\":true,\"asr\":true,\"esp\":true,\"...   бензин   \n2     152 N12  {\"cruise-control\":true,\"tinted-glass\":true,\"es...   бензин   \n3     110 N12  {\"cruise-control\":true,\"roller-blind-for-rear-...   бензин   \n4     152 N12  {\"cruise-control\":true,\"asr\":true,\"esp\":true,\"...   бензин   \n\n   ...     vehicleConfiguration  vehicleTransmission    vendor    Владельцы  \\\n0  ...       LIFTBACK ROBOT 1.2     роботизированная  EUROPEAN  3 или более   \n1  ...  LIFTBACK MECHANICAL 1.6         механическая  EUROPEAN   1 владелец   \n2  ...       LIFTBACK ROBOT 1.8     роботизированная  EUROPEAN   1 владелец   \n3  ...   LIFTBACK AUTOMATIC 1.6       автоматическая  EUROPEAN   1 владелец   \n4  ...   LIFTBACK AUTOMATIC 1.8       автоматическая  EUROPEAN   1 владелец   \n\n  Владение       ПТС    Привод   Руль           Состояние     Таможня  \n0      NaN  Оригинал  передний  Левый  Не требует ремонта  Растаможен  \n1      NaN  Оригинал  передний  Левый  Не требует ремонта  Растаможен  \n2      NaN  Оригинал  передний  Левый  Не требует ремонта  Растаможен  \n3      NaN  Оригинал  передний  Левый  Не требует ремонта  Растаможен  \n4      NaN  Оригинал  передний  Левый  Не требует ремонта  Растаможен  \n\n[5 rows x 32 columns]",
      "text/html": "<div>\n<style scoped>\n    .dataframe tbody tr th:only-of-type {\n        vertical-align: middle;\n    }\n\n    .dataframe tbody tr th {\n        vertical-align: top;\n    }\n\n    .dataframe thead th {\n        text-align: right;\n    }\n</style>\n<table border=\"1\" class=\"dataframe\">\n  <thead>\n    <tr style=\"text-align: right;\">\n      <th></th>\n      <th>bodyType</th>\n      <th>brand</th>\n      <th>car_url</th>\n      <th>color</th>\n      <th>complectation_dict</th>\n      <th>description</th>\n      <th>engineDisplacement</th>\n      <th>enginePower</th>\n      <th>equipment_dict</th>\n      <th>fuelType</th>\n      <th>...</th>\n      <th>vehicleConfiguration</th>\n      <th>vehicleTransmission</th>\n      <th>vendor</th>\n      <th>Владельцы</th>\n      <th>Владение</th>\n      <th>ПТС</th>\n      <th>Привод</th>\n      <th>Руль</th>\n      <th>Состояние</th>\n      <th>Таможня</th>\n    </tr>\n  </thead>\n  <tbody>\n    <tr>\n      <th>0</th>\n      <td>лифтбек</td>\n      <td>SKODA</td>\n      <td>https://auto.ru/cars/used/sale/skoda/octavia/1...</td>\n      <td>синий</td>\n      <td>NaN</td>\n      <td>Все автомобили, представленные в продаже, прох...</td>\n      <td>1.2 LTR</td>\n      <td>105 N12</td>\n      <td>{\"engine-proof\":true,\"tinted-glass\":true,\"airb...</td>\n      <td>бензин</td>\n      <td>...</td>\n      <td>LIFTBACK ROBOT 1.2</td>\n      <td>роботизированная</td>\n      <td>EUROPEAN</td>\n      <td>3 или более</td>\n      <td>NaN</td>\n      <td>Оригинал</td>\n      <td>передний</td>\n      <td>Левый</td>\n      <td>Не требует ремонта</td>\n      <td>Растаможен</td>\n    </tr>\n    <tr>\n      <th>1</th>\n      <td>лифтбек</td>\n      <td>SKODA</td>\n      <td>https://auto.ru/cars/used/sale/skoda/octavia/1...</td>\n      <td>чёрный</td>\n      <td>NaN</td>\n      <td>ЛОТ: 01217195\\nАвтопрага Север\\nДанный автомоб...</td>\n      <td>1.6 LTR</td>\n      <td>110 N12</td>\n      <td>{\"cruise-control\":true,\"asr\":true,\"esp\":true,\"...</td>\n      <td>бензин</td>\n      <td>...</td>\n      <td>LIFTBACK MECHANICAL 1.6</td>\n      <td>механическая</td>\n      <td>EUROPEAN</td>\n      <td>1 владелец</td>\n      <td>NaN</td>\n      <td>Оригинал</td>\n      <td>передний</td>\n      <td>Левый</td>\n      <td>Не требует ремонта</td>\n      <td>Растаможен</td>\n    </tr>\n    <tr>\n      <th>2</th>\n      <td>лифтбек</td>\n      <td>SKODA</td>\n      <td>https://auto.ru/cars/used/sale/skoda/superb/11...</td>\n      <td>серый</td>\n      <td>{\"id\":\"20026336\",\"name\":\"Ambition\",\"available_...</td>\n      <td>Все автомобили, представленные в продаже, прох...</td>\n      <td>1.8 LTR</td>\n      <td>152 N12</td>\n      <td>{\"cruise-control\":true,\"tinted-glass\":true,\"es...</td>\n      <td>бензин</td>\n      <td>...</td>\n      <td>LIFTBACK ROBOT 1.8</td>\n      <td>роботизированная</td>\n      <td>EUROPEAN</td>\n      <td>1 владелец</td>\n      <td>NaN</td>\n      <td>Оригинал</td>\n      <td>передний</td>\n      <td>Левый</td>\n      <td>Не требует ремонта</td>\n      <td>Растаможен</td>\n    </tr>\n    <tr>\n      <th>3</th>\n      <td>лифтбек</td>\n      <td>SKODA</td>\n      <td>https://auto.ru/cars/used/sale/skoda/octavia/1...</td>\n      <td>коричневый</td>\n      <td>{\"id\":\"20803582\",\"name\":\"Ambition\",\"available_...</td>\n      <td>КОМПЛЕКТ ЗИМНЕЙ (ЛЕТНЕЙ) РЕЗИНЫ ПО СЕЗОНУ В ПО...</td>\n      <td>1.6 LTR</td>\n      <td>110 N12</td>\n      <td>{\"cruise-control\":true,\"roller-blind-for-rear-...</td>\n      <td>бензин</td>\n      <td>...</td>\n      <td>LIFTBACK AUTOMATIC 1.6</td>\n      <td>автоматическая</td>\n      <td>EUROPEAN</td>\n      <td>1 владелец</td>\n      <td>NaN</td>\n      <td>Оригинал</td>\n      <td>передний</td>\n      <td>Левый</td>\n      <td>Не требует ремонта</td>\n      <td>Растаможен</td>\n    </tr>\n    <tr>\n      <th>4</th>\n      <td>лифтбек</td>\n      <td>SKODA</td>\n      <td>https://auto.ru/cars/used/sale/skoda/octavia/1...</td>\n      <td>белый</td>\n      <td>NaN</td>\n      <td>ЛОТ: 01220889\\nАвтопрага Север\\n\\nВы можете по...</td>\n      <td>1.8 LTR</td>\n      <td>152 N12</td>\n      <td>{\"cruise-control\":true,\"asr\":true,\"esp\":true,\"...</td>\n      <td>бензин</td>\n      <td>...</td>\n      <td>LIFTBACK AUTOMATIC 1.8</td>\n      <td>автоматическая</td>\n      <td>EUROPEAN</td>\n      <td>1 владелец</td>\n      <td>NaN</td>\n      <td>Оригинал</td>\n      <td>передний</td>\n      <td>Левый</td>\n      <td>Не требует ремонта</td>\n      <td>Растаможен</td>\n    </tr>\n  </tbody>\n</table>\n<p>5 rows × 32 columns</p>\n</div>"
     },
     "metadata": {},
     "output_type": "display_data"
    },
    {
     "name": "stdout",
     "output_type": "stream",
     "text": [
      "<class 'pandas.core.frame.DataFrame'>\n",
      "RangeIndex: 34686 entries, 0 to 34685\n",
      "Data columns (total 32 columns):\n",
      " #   Column                Non-Null Count  Dtype \n",
      "---  ------                --------------  ----- \n",
      " 0   bodyType              34686 non-null  object\n",
      " 1   brand                 34686 non-null  object\n",
      " 2   car_url               34686 non-null  object\n",
      " 3   color                 34686 non-null  object\n",
      " 4   complectation_dict    6418 non-null   object\n",
      " 5   description           34686 non-null  object\n",
      " 6   engineDisplacement    34686 non-null  object\n",
      " 7   enginePower           34686 non-null  object\n",
      " 8   equipment_dict        24690 non-null  object\n",
      " 9   fuelType              34686 non-null  object\n",
      " 10  image                 34686 non-null  object\n",
      " 11  mileage               34686 non-null  int64 \n",
      " 12  modelDate             34686 non-null  int64 \n",
      " 13  model_info            34686 non-null  object\n",
      " 14  model_name            34686 non-null  object\n",
      " 15  name                  34686 non-null  object\n",
      " 16  numberOfDoors         34686 non-null  int64 \n",
      " 17  parsing_unixtime      34686 non-null  int64 \n",
      " 18  priceCurrency         34686 non-null  object\n",
      " 19  productionDate        34686 non-null  int64 \n",
      " 20  sell_id               34686 non-null  int64 \n",
      " 21  super_gen             34686 non-null  object\n",
      " 22  vehicleConfiguration  34686 non-null  object\n",
      " 23  vehicleTransmission   34686 non-null  object\n",
      " 24  vendor                34686 non-null  object\n",
      " 25  Владельцы             34686 non-null  object\n",
      " 26  Владение              11995 non-null  object\n",
      " 27  ПТС                   34685 non-null  object\n",
      " 28  Привод                34686 non-null  object\n",
      " 29  Руль                  34686 non-null  object\n",
      " 30  Состояние             34686 non-null  object\n",
      " 31  Таможня               34686 non-null  object\n",
      "dtypes: int64(6), object(26)\n",
      "memory usage: 5.0+ MB\n"
     ]
    },
    {
     "data": {
      "text/plain": "              mileage     modelDate  numberOfDoors  parsing_unixtime  \\\ncount    34686.000000  34686.000000   34686.000000      3.468600e+04   \nmean    162009.767889   2007.074728       4.450816      1.603287e+09   \nstd     100676.559489      7.415894       0.703040      1.493071e+05   \nmin          1.000000   1904.000000       0.000000      1.603107e+09   \n25%      91153.500000   2004.000000       4.000000      1.603221e+09   \n50%     149779.500000   2008.000000       5.000000      1.603254e+09   \n75%     215000.000000   2012.000000       5.000000      1.603290e+09   \nmax    1000000.000000   2020.000000       5.000000      1.603710e+09   \n\n       productionDate       sell_id  \ncount    34686.000000  3.468600e+04  \nmean      2009.264602  1.098300e+09  \nstd          7.047661  1.911225e+07  \nmin       1904.000000  2.665000e+03  \n25%       2006.000000  1.099049e+09  \n50%       2011.000000  1.100911e+09  \n75%       2014.000000  1.101245e+09  \nmax       2020.000000  1.101375e+09  ",
      "text/html": "<div>\n<style scoped>\n    .dataframe tbody tr th:only-of-type {\n        vertical-align: middle;\n    }\n\n    .dataframe tbody tr th {\n        vertical-align: top;\n    }\n\n    .dataframe thead th {\n        text-align: right;\n    }\n</style>\n<table border=\"1\" class=\"dataframe\">\n  <thead>\n    <tr style=\"text-align: right;\">\n      <th></th>\n      <th>mileage</th>\n      <th>modelDate</th>\n      <th>numberOfDoors</th>\n      <th>parsing_unixtime</th>\n      <th>productionDate</th>\n      <th>sell_id</th>\n    </tr>\n  </thead>\n  <tbody>\n    <tr>\n      <th>count</th>\n      <td>34686.000000</td>\n      <td>34686.000000</td>\n      <td>34686.000000</td>\n      <td>3.468600e+04</td>\n      <td>34686.000000</td>\n      <td>3.468600e+04</td>\n    </tr>\n    <tr>\n      <th>mean</th>\n      <td>162009.767889</td>\n      <td>2007.074728</td>\n      <td>4.450816</td>\n      <td>1.603287e+09</td>\n      <td>2009.264602</td>\n      <td>1.098300e+09</td>\n    </tr>\n    <tr>\n      <th>std</th>\n      <td>100676.559489</td>\n      <td>7.415894</td>\n      <td>0.703040</td>\n      <td>1.493071e+05</td>\n      <td>7.047661</td>\n      <td>1.911225e+07</td>\n    </tr>\n    <tr>\n      <th>min</th>\n      <td>1.000000</td>\n      <td>1904.000000</td>\n      <td>0.000000</td>\n      <td>1.603107e+09</td>\n      <td>1904.000000</td>\n      <td>2.665000e+03</td>\n    </tr>\n    <tr>\n      <th>25%</th>\n      <td>91153.500000</td>\n      <td>2004.000000</td>\n      <td>4.000000</td>\n      <td>1.603221e+09</td>\n      <td>2006.000000</td>\n      <td>1.099049e+09</td>\n    </tr>\n    <tr>\n      <th>50%</th>\n      <td>149779.500000</td>\n      <td>2008.000000</td>\n      <td>5.000000</td>\n      <td>1.603254e+09</td>\n      <td>2011.000000</td>\n      <td>1.100911e+09</td>\n    </tr>\n    <tr>\n      <th>75%</th>\n      <td>215000.000000</td>\n      <td>2012.000000</td>\n      <td>5.000000</td>\n      <td>1.603290e+09</td>\n      <td>2014.000000</td>\n      <td>1.101245e+09</td>\n    </tr>\n    <tr>\n      <th>max</th>\n      <td>1000000.000000</td>\n      <td>2020.000000</td>\n      <td>5.000000</td>\n      <td>1.603710e+09</td>\n      <td>2020.000000</td>\n      <td>1.101375e+09</td>\n    </tr>\n  </tbody>\n</table>\n</div>"
     },
     "execution_count": 5,
     "metadata": {},
     "output_type": "execute_result"
    }
   ],
   "source": [
    "# load given test data\n",
    "DATA_DIR = 'Data'\n",
    "df_test = pd.read_csv(f'../{DATA_DIR}/test.csv')\n",
    "display(df_test.head(5))\n",
    "df_test.info()\n",
    "df_test.describe()"
   ],
   "metadata": {
    "collapsed": false,
    "pycharm": {
     "name": "#%%\n"
    }
   }
  },
  {
   "cell_type": "code",
   "execution_count": 4,
   "outputs": [
    {
     "name": "stdout",
     "output_type": "stream",
     "text": [
      "GET url status= 200\n",
      "<!DOCTYPE html>\n",
      "<html data-reactroot=\"\" lang=\"ru\">\n",
      " <head>\n",
      "  <link as=\"script\" href=\"https://auto.ru/_crpd/2W5I8yt76/b2530f-ah6D/GgBdzIYYcCBRKMb4AePeu15H21gDkDZ4uvt444bcqkZoSu3X1jye0fP9ptkU_Lo5gMNeGZtzrJp19-pl9aVQB1uTzczE3XsqgWjC9RgmXPREglbaBlWuLmyu7viXzeqBogZuxpe1md4u_28cBjc98p8NmlyR-ikZ8vFq738mkkUbGMfdSZk-aNWvxbzepts9iQCb0wPTJ-lj5Cb03MnqCSWBIc9QctdXYrgvF809efYRy15VF3KkWn7_5-cx6VrLlI\" nonce=\"53tRKdiuhAG010lXQYee+w==\" rel=\"preload\"/>\n",
      "  <meta charset=\"utf-8\"/>\n",
      "  <meta content=\"IE=edge\" http-equiv .....\n"
     ]
    }
   ],
   "source": [
    "# get html page for navigation\n",
    "url = 'https://auto.ru'\n",
    "response = requests.get(url)\n",
    "print('GET url status=', response.status_code)\n",
    "page = BeautifulSoup(response.text,'html.parser')\n",
    "print(page.prettify()[:500], '.....')"
   ],
   "metadata": {
    "collapsed": false,
    "pycharm": {
     "name": "#%%\n"
    }
   }
  },
  {
   "cell_type": "code",
   "execution_count": 5,
   "outputs": [
    {
     "name": "stdout",
     "output_type": "stream",
     "text": [
      "['https://auto.ru/cars/vaz/all/',\n",
      " 'https://auto.ru/cars/audi/all/',\n",
      " 'https://auto.ru/cars/bmw/all/',\n",
      " 'https://auto.ru/cars/chery/all/',\n",
      " 'https://auto.ru/cars/chevrolet/all/',\n",
      " 'https://auto.ru/cars/citroen/all/',\n",
      " 'https://auto.ru/cars/daewoo/all/',\n",
      " 'https://auto.ru/cars/ford/all/',\n",
      " 'https://auto.ru/cars/geely/all/',\n",
      " 'https://auto.ru/cars/haval/all/',\n",
      " 'https://auto.ru/cars/honda/all/',\n",
      " 'https://auto.ru/cars/hyundai/all/',\n",
      " 'https://auto.ru/cars/infiniti/all/',\n",
      " 'https://auto.ru/cars/kia/all/',\n",
      " 'https://auto.ru/cars/land_rover/all/',\n",
      " 'https://auto.ru/cars/lexus/all/',\n",
      " 'https://auto.ru/cars/mini/all/',\n",
      " 'https://auto.ru/cars/mazda/all/',\n",
      " 'https://auto.ru/cars/mercedes/all/',\n",
      " 'https://auto.ru/cars/mitsubishi/all/',\n",
      " 'https://auto.ru/cars/nissan/all/',\n",
      " 'https://auto.ru/cars/opel/all/',\n",
      " 'https://auto.ru/cars/peugeot/all/',\n",
      " 'https://auto.ru/cars/porsche/all/',\n",
      " 'https://auto.ru/cars/renault/all/',\n",
      " 'https://auto.ru/cars/skoda/all/',\n",
      " 'https://auto.ru/cars/ssang_yong/all/',\n",
      " 'https://auto.ru/cars/subaru/all/',\n",
      " 'https://auto.ru/cars/suzuki/all/',\n",
      " 'https://auto.ru/cars/toyota/all/',\n",
      " 'https://auto.ru/cars/volkswagen/all/',\n",
      " 'https://auto.ru/cars/volvo/all/',\n",
      " 'https://auto.ru/cars/gaz/all/',\n",
      " 'https://auto.ru/cars/uaz/all/']\n"
     ]
    },
    {
     "data": {
      "text/plain": "['vaz',\n 'audi',\n 'bmw',\n 'chery',\n 'chevrolet',\n 'citroen',\n 'daewoo',\n 'ford',\n 'geely',\n 'haval',\n 'honda',\n 'hyundai',\n 'infiniti',\n 'kia',\n 'land_rover',\n 'lexus',\n 'mini',\n 'mazda',\n 'mercedes',\n 'mitsubishi',\n 'nissan',\n 'opel',\n 'peugeot',\n 'porsche',\n 'renault',\n 'skoda',\n 'ssang_yong',\n 'subaru',\n 'suzuki',\n 'toyota',\n 'volkswagen',\n 'volvo',\n 'gaz',\n 'uaz']"
     },
     "execution_count": 5,
     "metadata": {},
     "output_type": "execute_result"
    }
   ],
   "source": [
    "# get all brands presented on site\n",
    "brand_links = page.find_all('a',class_='IndexMarks__item')\n",
    "brand_urls = list(map(lambda a: a['href'], brand_links))\n",
    "pp.pprint(brand_urls)\n",
    "site_brands = [u.split('/')[-3] for u in brand_urls]\n",
    "site_brands"
   ],
   "metadata": {
    "collapsed": false,
    "pycharm": {
     "name": "#%%\n"
    }
   }
  },
  {
   "cell_type": "code",
   "execution_count": 8,
   "outputs": [
    {
     "data": {
      "text/plain": "['skoda',\n 'audi',\n 'honda',\n 'volvo',\n 'bmw',\n 'nissan',\n 'infiniti',\n 'mercedes',\n 'toyota',\n 'lexus',\n 'volkswagen',\n 'mitsubishi']"
     },
     "execution_count": 8,
     "metadata": {},
     "output_type": "execute_result"
    }
   ],
   "source": [
    "# brands in test data\n",
    "brands = [brand.lower() for brand in df_test['brand'].unique()]\n",
    "brands"
   ],
   "metadata": {
    "collapsed": false,
    "pycharm": {
     "name": "#%%\n"
    }
   }
  },
  {
   "cell_type": "code",
   "execution_count": 7,
   "outputs": [
    {
     "data": {
      "text/plain": "True"
     },
     "execution_count": 7,
     "metadata": {},
     "output_type": "execute_result"
    }
   ],
   "source": [
    "# check if we have all needed brands on site\n",
    "brands <= site_brands"
   ],
   "metadata": {
    "collapsed": false,
    "pycharm": {
     "name": "#%%\n"
    }
   }
  },
  {
   "cell_type": "markdown",
   "source": [
    "Great, we have all brands from test set on site.\n",
    "So, get ad urls from site for all brands that are in test set."
   ],
   "metadata": {
    "collapsed": false
   }
  },
  {
   "cell_type": "code",
   "execution_count": 11,
   "outputs": [
    {
     "name": "stderr",
     "output_type": "stream",
     "text": [
      "C:\\Users\\Pavel\\AppData\\Local\\Temp\\ipykernel_21868\\1850489195.py:9: DeprecationWarning: find_element_by_* commands are deprecated. Please use find_element() instead\n",
      "  no_location_button = driver.find_element_by_xpath('//span[@data-decision=\"no\"]')\n"
     ]
    },
    {
     "name": "stdout",
     "output_type": "stream",
     "text": [
      "Processing brand 'skoda':\n",
      "Processing brand 'audi':\n",
      "Brand 'audi' (page 2 from 2)\r\n",
      "Processing brand 'honda':\n",
      "Processing brand 'volvo':\n",
      "Processing brand 'bmw':\n",
      "Brand 'bmw' (page 2 from 2)\r\n",
      "Processing brand 'nissan':\n",
      "Brand 'nissan' (page 7 from 7)\r\n",
      "Processing brand 'infiniti':\n",
      "Processing brand 'mercedes':\n",
      "Processing brand 'toyota':\n",
      "Processing brand 'lexus':\n",
      "Processing brand 'volkswagen':\n",
      "Processing brand 'mitsubishi':\n"
     ]
    }
   ],
   "source": [
    "# prepare webdriver to bypass site parsing protection\n",
    "driver = init_webdriver()\n",
    "\n",
    "try:\n",
    "    driver.get('https://auto.ru/')\n",
    "    time.sleep(1)\n",
    "\n",
    "    # reject geolocation request in order to parse page by page (it is not allowed when you don't do it first..)\n",
    "    no_location_button = driver.find_element_by_xpath('//span[@data-decision=\"no\"]')\n",
    "    no_location_button.click()\n",
    "    time.sleep(3)\n",
    "\n",
    "    # collect car urls for brands using already configured webdriver\n",
    "    urls = []\n",
    "    for brand in brands:\n",
    "        print(f\"Processing brand \\'{brand}\\':\")\n",
    "        urls.extend(parse_car_urls(brand, driver))\n",
    "\n",
    "    # path = f'Data/car_urls__{time.strftime(\"%H_%M__%d_%m_%Y\")}.csv'\n",
    "    path = f'Data/car_electro_urls__{time.strftime(\"%H_%M__%d_%m_%Y\")}.csv'\n",
    "    pd.DataFrame(data=urls, columns=['car_url']).to_csv(path, index=False)\n",
    "\n",
    "    print('Car urls parsing is completed.')\n",
    "    print(f'Parsing results were saved to {path}.')\n",
    "except Exception as e:\n",
    "    print(e)\n",
    "finally:\n",
    "    driver.quit()"
   ],
   "metadata": {
    "collapsed": false,
    "pycharm": {
     "name": "#%%\n"
    }
   }
  },
  {
   "cell_type": "code",
   "execution_count": 20,
   "outputs": [
    {
     "name": "stdout",
     "output_type": "stream",
     "text": [
      "['bodyType',\n",
      " 'brand',\n",
      " 'car_url',\n",
      " 'color',\n",
      " 'complectation_dict',\n",
      " 'description',\n",
      " 'engineDisplacement',\n",
      " 'enginePower',\n",
      " 'equipment_dict',\n",
      " 'fuelType',\n",
      " 'image',\n",
      " 'mileage',\n",
      " 'modelDate',\n",
      " 'model_info',\n",
      " 'model_name',\n",
      " 'name',\n",
      " 'numberOfDoors',\n",
      " 'parsing_unixtime',\n",
      " 'priceCurrency',\n",
      " 'productionDate',\n",
      " 'sell_id',\n",
      " 'super_gen',\n",
      " 'vehicleConfiguration',\n",
      " 'vehicleTransmission',\n",
      " 'vendor',\n",
      " 'Владельцы',\n",
      " 'Владение',\n",
      " 'ПТС',\n",
      " 'Привод',\n",
      " 'Руль',\n",
      " 'Состояние',\n",
      " 'Таможня']\n"
     ]
    }
   ],
   "source": [
    "# let's see what features are in test set\n",
    "test_features = list(df_test.columns)\n",
    "pp.pprint(test_features)"
   ],
   "metadata": {
    "collapsed": false,
    "pycharm": {
     "name": "#%%\n"
    }
   }
  },
  {
   "cell_type": "markdown",
   "source": [
    "Let's parse data from collected car ads urls."
   ],
   "metadata": {
    "collapsed": false,
    "pycharm": {
     "name": "#%% md\n",
     "is_executing": true
    }
   },
   "outputs": []
  },
  {
   "cell_type": "code",
   "execution_count": 55,
   "outputs": [
    {
     "data": {
      "text/plain": "(42305,)"
     },
     "execution_count": 55,
     "metadata": {},
     "output_type": "execute_result"
    }
   ],
   "source": [
    "# load the most recent car ads urls\n",
    "car_urls = pd.read_csv(DATA_DIR+'/car_urls__03_01__31_01_2022.csv')['car_url']\n",
    "car_urls.shape"
   ],
   "metadata": {
    "collapsed": false,
    "pycharm": {
     "name": "#%%\n"
    }
   }
  },
  {
   "cell_type": "code",
   "execution_count": 19,
   "outputs": [
    {
     "data": {
      "text/plain": "(144,)"
     },
     "execution_count": 19,
     "metadata": {},
     "output_type": "execute_result"
    }
   ],
   "source": [
    "# load electro car urls\n",
    "# alas have to do it separately.. because there were no electro car ads in basic parsing results, don't no why..\n",
    "car_electro_urls = pd.read_csv(DATA_DIR+'/car_electro_urls__11_34__06_02_2022.csv')['car_url']\n",
    "car_electro_urls.shape"
   ],
   "metadata": {
    "collapsed": false,
    "pycharm": {
     "name": "#%%\n"
    }
   }
  },
  {
   "cell_type": "code",
   "execution_count": 80,
   "outputs": [],
   "source": [
    "class Batcher:\n",
    "    def __init__(self, src_list:Sequence, batch_size:int):\n",
    "        self.src_list = src_list\n",
    "        self.batch_size = batch_size\n",
    "        self.batch_count = ceil(len(src_list) / batch_size)\n",
    "        self._full_batch_count = len(src_list) // batch_size\n",
    "        self.idx_from = None\n",
    "        self.idx_to = None\n",
    "\n",
    "    # noinspection PyRedundantParentheses\n",
    "    def batches(self):\n",
    "        for b_idx in range(self._full_batch_count):\n",
    "            self.idx_from, self.idx_to = b_idx*self.batch_size, (b_idx + 1)*self.batch_size - 1\n",
    "            yield (b_idx, self.src_list[self.idx_from: self.idx_to])\n",
    "        if self.batch_size * self._full_batch_count < len(self.src_list):\n",
    "            self.idx_from, self.idx_to = self.batch_size * self._full_batch_count, len(self.src_list)-1\n",
    "            yield (self._full_batch_count, self.src_list[self.idx_from: self.idx_to])\n",
    "\n",
    "async def get_car_data_async(task_idx, car_url, session, features_to_extract):\n",
    "    try:\n",
    "        # print(f'Task {task_idx} started.')\n",
    "        # print(f'get_car_data_async(): get url {car_url}')\n",
    "        async with session.get(url=car_url) as response:\n",
    "            content = await response.read()\n",
    "\n",
    "            # print(f'Task {task_idx} completed.')\n",
    "            output_dict = parse_car_data(car_url, content.decode('utf-8'), features_to_extract)\n",
    "\n",
    "    except Exception as e:\n",
    "        print(f\"Unable to get url {car_url} due to {e.__class__} with args={e.args}.\")\n",
    "        # create empty dict\n",
    "        output_dict = dict.fromkeys(features_to_extract)\n",
    "\n",
    "    return output_dict\n",
    "\n",
    "async def process_batch_async(urls, features_to_extract):\n",
    "    async with aiohttp.ClientSession() as session:\n",
    "        ret = await asyncio.gather(*[get_car_data_async(i, url, session, features_to_extract) for i, url in enumerate(urls)])\n",
    "        return ret"
   ],
   "metadata": {
    "collapsed": false,
    "pycharm": {
     "name": "#%%\n"
    }
   }
  },
  {
   "cell_type": "code",
   "execution_count": 81,
   "outputs": [
    {
     "name": "stdout",
     "output_type": "stream",
     "text": [
      "Processing batch 1 from 8. Urls range [1 to 20] from total 144 urls\n",
      "Batch processing time=2.6626741886138916\n",
      "Processing batch 2 from 8. Urls range [21 to 40] from total 144 urls\n",
      "Batch processing time=2.6264407634735107\n",
      "Processing batch 3 from 8. Urls range [41 to 60] from total 144 urls\n",
      "Batch processing time=2.6588096618652344\n",
      "Processing batch 4 from 8. Urls range [61 to 80] from total 144 urls\n",
      "Batch processing time=2.571946620941162\n",
      "Processing batch 5 from 8. Urls range [81 to 100] from total 144 urls\n",
      "Batch processing time=2.5104641914367676\n",
      "Processing batch 6 from 8. Urls range [101 to 120] from total 144 urls\n",
      "Batch processing time=2.6284894943237305\n",
      "Processing batch 7 from 8. Urls range [121 to 140] from total 144 urls\n",
      "Batch processing time=2.4719736576080322\n",
      "Processing batch 8 from 8. Urls range [141 to 144] from total 144 urls\n",
      "Batch processing time=0.9772720336914062\n",
      "Car ads parsing is completed.\n",
      "Parsing results were saved to Data/parsed_car_electro_data__13_16__06_02_2022.csv.\n"
     ]
    }
   ],
   "source": [
    "batcher = Batcher(car_electro_urls, batch_size=20)\n",
    "\n",
    "# path = f'{DATA_DIR}/parsed_car_data__{time.strftime(\"%H_%M__%d_%m_%Y\")}.csv'\n",
    "path = f'{DATA_DIR}/parsed_car_electro_data__{time.strftime(\"%H_%M__%d_%m_%Y\")}.csv'\n",
    "\n",
    "for batch_idx, batch_urls in batcher.batches():\n",
    "    print(f\"Processing batch {batch_idx+1} from {batcher.batch_count}. \"\n",
    "          f\"Urls range [{batcher.idx_from+1} to {batcher.idx_to+1}] from total {len(batcher.src_list)} urls\")\n",
    "    beg_time = time.time()\n",
    "    batch_result = await process_batch_async(batch_urls, test_features)\n",
    "    print(f'Batch processing time={time.time() - beg_time}')\n",
    "    df_batch = pd.DataFrame(batch_result)\n",
    "    df_batch.index += batch_idx * batcher.batch_size\n",
    "\n",
    "    # append batch data to csv file\n",
    "    with open(path,'a+', encoding='utf-8') as file:\n",
    "        file.write(df_batch.to_csv(header=True if batch_idx == 0 else False, index_label='№'))\n",
    "\n",
    "    time.sleep(2)\n",
    "\n",
    "print('Car ads parsing is completed.')\n",
    "print(f'Parsing results were saved to {path}.')"
   ],
   "metadata": {
    "collapsed": false,
    "pycharm": {
     "name": "#%%\n"
    }
   }
  },
  {
   "cell_type": "markdown",
   "source": [
    "Check the amount of useful records in parsed data:"
   ],
   "metadata": {
    "collapsed": false,
    "pycharm": {
     "name": "#%% md\n"
    }
   }
  },
  {
   "cell_type": "code",
   "execution_count": 8,
   "outputs": [
    {
     "name": "stdout",
     "output_type": "stream",
     "text": [
      "<class 'pandas.core.frame.DataFrame'>\n",
      "RangeIndex: 42305 entries, 0 to 42304\n",
      "Data columns (total 34 columns):\n",
      " #   Column                Non-Null Count  Dtype  \n",
      "---  ------                --------------  -----  \n",
      " 0   №                     42305 non-null  int64  \n",
      " 1   bodyType              33195 non-null  object \n",
      " 2   brand                 41635 non-null  object \n",
      " 3   car_url               42305 non-null  object \n",
      " 4   color                 41635 non-null  object \n",
      " 5   complectation_dict    38510 non-null  object \n",
      " 6   description           41635 non-null  object \n",
      " 7   engineDisplacement    32624 non-null  float64\n",
      " 8   enginePower           32624 non-null  float64\n",
      " 9   equipment_dict        41552 non-null  object \n",
      " 10  fuelType              32624 non-null  object \n",
      " 11  image                 30612 non-null  object \n",
      " 12  mileage               33195 non-null  float64\n",
      " 13  modelDate             40061 non-null  float64\n",
      " 14  model_info            41552 non-null  object \n",
      " 15  model_name            41552 non-null  object \n",
      " 16  name                  40061 non-null  object \n",
      " 17  numberOfDoors         41552 non-null  float64\n",
      " 18  parsing_unixtime      42305 non-null  int64  \n",
      " 19  priceCurrency         41635 non-null  object \n",
      " 20  productionDate        41635 non-null  float64\n",
      " 21  sell_id               0 non-null      float64\n",
      " 22  super_gen             41552 non-null  object \n",
      " 23  vehicleConfiguration  0 non-null      float64\n",
      " 24  vehicleTransmission   33195 non-null  object \n",
      " 25  vendor                0 non-null      float64\n",
      " 26  Владельцы             33195 non-null  object \n",
      " 27  Владение              6117 non-null   object \n",
      " 28  ПТС                   33195 non-null  object \n",
      " 29  Привод                33195 non-null  object \n",
      " 30  Руль                  33195 non-null  object \n",
      " 31  Состояние             33188 non-null  object \n",
      " 32  Таможня               33184 non-null  object \n",
      " 33  Price                 37658 non-null  float64\n",
      "dtypes: float64(10), int64(2), object(22)\n",
      "memory usage: 7.4+ MB\n"
     ]
    }
   ],
   "source": [
    "df_parsed = pd.read_csv(f'{DATA_DIR}/parsed_car_data__17_55__02_02_2022.csv')\n",
    "df_parsed.info()"
   ],
   "metadata": {
    "collapsed": false,
    "pycharm": {
     "name": "#%%\n"
    }
   }
  },
  {
   "cell_type": "code",
   "execution_count": 105,
   "outputs": [
    {
     "data": {
      "text/plain": "(30426, 34)"
     },
     "execution_count": 105,
     "metadata": {},
     "output_type": "execute_result"
    }
   ],
   "source": [
    "df_parsed[~df_parsed['bodyType'].isna() & ~df_parsed['Price'].isna()].shape"
   ],
   "metadata": {
    "collapsed": false,
    "pycharm": {
     "name": "#%%\n"
    }
   }
  },
  {
   "cell_type": "markdown",
   "source": [
    "So we have ~30_000 (potentially) useful records for training. It is comparable with test set size (~35_000) - not bad and there is a hope."
   ],
   "metadata": {
    "collapsed": false,
    "pycharm": {
     "name": "#%% md\n"
    }
   }
  },
  {
   "cell_type": "markdown",
   "source": [
    "One more check for sample representativity."
   ],
   "metadata": {
    "collapsed": false,
    "pycharm": {
     "name": "#%% md\n"
    }
   }
  },
  {
   "cell_type": "code",
   "execution_count": 5,
   "outputs": [
    {
     "data": {
      "text/plain": "бензин     28601\nдизель      5800\nгибрид       223\nэлектро       55\nгаз            7\nName: fuelType, dtype: int64"
     },
     "execution_count": 5,
     "metadata": {},
     "output_type": "execute_result"
    }
   ],
   "source": [
    "df_test['fuelType'].value_counts()"
   ],
   "metadata": {
    "collapsed": false,
    "pycharm": {
     "name": "#%%\n"
    }
   }
  },
  {
   "cell_type": "code",
   "execution_count": 24,
   "outputs": [
    {
     "data": {
      "text/plain": "                bodyType       brand  \\\n5241   внедорожник 5 дв.        AUDI   \n7992       хэтчбек 5 дв.         BMW   \n8252       хэтчбек 5 дв.         BMW   \n8350       хэтчбек 5 дв.         BMW   \n8684       хэтчбек 5 дв.         BMW   \n8722       хэтчбек 5 дв.         BMW   \n8917       хэтчбек 5 дв.         BMW   \n10817      хэтчбек 5 дв.         BMW   \n10936      хэтчбек 5 дв.         BMW   \n11043      хэтчбек 5 дв.         BMW   \n11302      хэтчбек 5 дв.      NISSAN   \n11682      хэтчбек 5 дв.      NISSAN   \n11714      хэтчбек 5 дв.      NISSAN   \n11719      хэтчбек 5 дв.      NISSAN   \n11754      хэтчбек 5 дв.      NISSAN   \n11878      хэтчбек 5 дв.      NISSAN   \n11974      хэтчбек 5 дв.      NISSAN   \n12072      хэтчбек 5 дв.      NISSAN   \n12085      хэтчбек 5 дв.      NISSAN   \n12100      хэтчбек 5 дв.      NISSAN   \n12250      хэтчбек 5 дв.      NISSAN   \n12287      хэтчбек 5 дв.      NISSAN   \n12334      хэтчбек 5 дв.      NISSAN   \n12466      хэтчбек 5 дв.      NISSAN   \n12481      хэтчбек 5 дв.      NISSAN   \n12558      хэтчбек 5 дв.      NISSAN   \n12582      хэтчбек 5 дв.      NISSAN   \n12678      хэтчбек 5 дв.      NISSAN   \n12749      хэтчбек 5 дв.      NISSAN   \n12854      хэтчбек 5 дв.      NISSAN   \n12916      хэтчбек 5 дв.      NISSAN   \n12948      хэтчбек 5 дв.      NISSAN   \n12950      хэтчбек 5 дв.      NISSAN   \n13052      хэтчбек 5 дв.      NISSAN   \n13104      хэтчбек 5 дв.      NISSAN   \n13105      хэтчбек 5 дв.      NISSAN   \n13478      хэтчбек 5 дв.      NISSAN   \n13633      хэтчбек 5 дв.      NISSAN   \n13660      хэтчбек 5 дв.      NISSAN   \n13720      хэтчбек 5 дв.      NISSAN   \n13812      хэтчбек 5 дв.      NISSAN   \n13915      хэтчбек 5 дв.      NISSAN   \n13952      хэтчбек 5 дв.      NISSAN   \n13989      хэтчбек 5 дв.      NISSAN   \n14147      хэтчбек 5 дв.      NISSAN   \n14419      хэтчбек 5 дв.      NISSAN   \n23869      хэтчбек 5 дв.  VOLKSWAGEN   \n23948      хэтчбек 5 дв.  VOLKSWAGEN   \n27064      хэтчбек 5 дв.  MITSUBISHI   \n28241      хэтчбек 5 дв.  MITSUBISHI   \n32668      хэтчбек 5 дв.      NISSAN   \n32700      хэтчбек 5 дв.      NISSAN   \n32798      хэтчбек 5 дв.      NISSAN   \n34159      хэтчбек 5 дв.    MERCEDES   \n34504      хэтчбек 5 дв.      NISSAN   \n\n                                                 car_url        color  \\\n5241   https://auto.ru/cars/used/sale/audi/e_tron/110...        белый   \n7992   https://auto.ru/cars/used/sale/bmw/i3/11010431...        синий   \n8252   https://auto.ru/cars/used/sale/bmw/i3/11012780...        серый   \n8350   https://auto.ru/cars/used/sale/bmw/i3/11002716...        белый   \n8684   https://auto.ru/cars/used/sale/bmw/i3/11011745...       чёрный   \n8722   https://auto.ru/cars/used/sale/bmw/i3/11000973...      голубой   \n8917   https://auto.ru/cars/used/sale/bmw/i3/11008715...      бежевый   \n10817  https://auto.ru/cars/used/sale/bmw/i3/11012664...        серый   \n10936  https://auto.ru/cars/used/sale/bmw/i3/10996733...       чёрный   \n11043  https://auto.ru/cars/used/sale/bmw/i3/10993761...        серый   \n11302  https://auto.ru/cars/used/sale/nissan/leaf/110...      голубой   \n11682  https://auto.ru/cars/used/sale/nissan/leaf/110...        белый   \n11714  https://auto.ru/cars/used/sale/nissan/leaf/109...        белый   \n11719  https://auto.ru/cars/used/sale/nissan/leaf/109...        белый   \n11754  https://auto.ru/cars/used/sale/nissan/leaf/110...        белый   \n11878  https://auto.ru/cars/used/sale/nissan/leaf/110...  серебристый   \n11974  https://auto.ru/cars/used/sale/nissan/leaf/108...       чёрный   \n12072  https://auto.ru/cars/used/sale/nissan/leaf/110...       чёрный   \n12085  https://auto.ru/cars/used/sale/nissan/leaf/109...      голубой   \n12100  https://auto.ru/cars/used/sale/nissan/leaf/109...        серый   \n12250  https://auto.ru/cars/used/sale/nissan/leaf/109...        серый   \n12287  https://auto.ru/cars/used/sale/nissan/leaf/109...      голубой   \n12334  https://auto.ru/cars/used/sale/nissan/leaf/110...       чёрный   \n12466  https://auto.ru/cars/used/sale/nissan/leaf/110...       чёрный   \n12481  https://auto.ru/cars/used/sale/nissan/leaf/110...        белый   \n12558  https://auto.ru/cars/used/sale/nissan/leaf/109...  серебристый   \n12582  https://auto.ru/cars/used/sale/nissan/leaf/109...        белый   \n12678  https://auto.ru/cars/used/sale/nissan/leaf/109...       чёрный   \n12749  https://auto.ru/cars/used/sale/nissan/leaf/109...       чёрный   \n12854  https://auto.ru/cars/used/sale/nissan/leaf/109...       чёрный   \n12916  https://auto.ru/cars/used/sale/nissan/leaf/109...       чёрный   \n12948  https://auto.ru/cars/used/sale/nissan/leaf/109...  серебристый   \n12950  https://auto.ru/cars/used/sale/nissan/leaf/109...        белый   \n13052  https://auto.ru/cars/used/sale/nissan/leaf/109...        белый   \n13104  https://auto.ru/cars/used/sale/nissan/leaf/109...        белый   \n13105  https://auto.ru/cars/used/sale/nissan/leaf/108...  серебристый   \n13478  https://auto.ru/cars/used/sale/nissan/leaf/110...      красный   \n13633  https://auto.ru/cars/used/sale/nissan/leaf/100...        синий   \n13660  https://auto.ru/cars/used/sale/nissan/leaf/109...       чёрный   \n13720  https://auto.ru/cars/used/sale/nissan/leaf/109...      красный   \n13812  https://auto.ru/cars/used/sale/nissan/leaf/109...      голубой   \n13915  https://auto.ru/cars/used/sale/nissan/leaf/108...      красный   \n13952  https://auto.ru/cars/used/sale/nissan/leaf/110...        белый   \n13989  https://auto.ru/cars/used/sale/nissan/leaf/109...       чёрный   \n14147  https://auto.ru/cars/used/sale/nissan/leaf/109...        серый   \n14419  https://auto.ru/cars/used/sale/nissan/leaf/109...        серый   \n23869  https://auto.ru/cars/used/sale/volkswagen/golf...       чёрный   \n23948  https://auto.ru/cars/used/sale/volkswagen/golf...        белый   \n27064  https://auto.ru/cars/used/sale/mitsubishi/i_mi...        белый   \n28241  https://auto.ru/cars/used/sale/mitsubishi/i_mi...  серебристый   \n32668  https://auto.ru/cars/used/sale/nissan/leaf/110...       чёрный   \n32700  https://auto.ru/cars/used/sale/nissan/leaf/110...      голубой   \n32798  https://auto.ru/cars/used/sale/nissan/leaf/109...       чёрный   \n34159  https://auto.ru/cars/used/sale/mercedes/b_klas...        белый   \n34504  https://auto.ru/cars/used/sale/nissan/leaf/110...       чёрный   \n\n                                      complectation_dict  \\\n5241                                                 NaN   \n7992                                                 NaN   \n8252                                                 NaN   \n8350   {\"id\":\"21624597\",\"name\":\"i3 120 Ah\",\"available...   \n8684                                                 NaN   \n8722                                                 NaN   \n8917                                                 NaN   \n10817                                                NaN   \n10936                                                NaN   \n11043                                                NaN   \n11302                                                NaN   \n11682                                                NaN   \n11714                                                NaN   \n11719                                                NaN   \n11754                                                NaN   \n11878                                                NaN   \n11974                                                NaN   \n12072                                                NaN   \n12085                                                NaN   \n12100                                                NaN   \n12250                                                NaN   \n12287                                                NaN   \n12334                                                NaN   \n12466                                                NaN   \n12481                                                NaN   \n12558                                                NaN   \n12582                                                NaN   \n12678                                                NaN   \n12749                                                NaN   \n12854                                                NaN   \n12916                                                NaN   \n12948                                                NaN   \n12950                                                NaN   \n13052                                                NaN   \n13104                                                NaN   \n13105                                                NaN   \n13478                                                NaN   \n13633                                                NaN   \n13660                                                NaN   \n13720                                                NaN   \n13812                                                NaN   \n13915                                                NaN   \n13952                                                NaN   \n13989                                                NaN   \n14147                                                NaN   \n14419                                                NaN   \n23869                                                NaN   \n23948                                                NaN   \n27064                                                NaN   \n28241                                                NaN   \n32668                                                NaN   \n32700                                                NaN   \n32798                                                NaN   \n34159                                                NaN   \n34504                                                NaN   \n\n                                             description engineDisplacement  \\\n5241   Audi e-tron Prestige quattro от Moscow Tesla C...                LTR   \n7992   Атомобиль из Германии,без пробега по РФ.\\nНа г...                LTR   \n8252   Пробег 54000 км, запас хода на зарядке 130 км+...                LTR   \n8350   Автомобиль в наличии Москве , с ПТС , производ...                LTR   \n8684   BMW I 3 REX\\nфевраль 2017 года выпуска.\\nПриоб...                LTR   \n8722   \\nПрибыло из Америки в августе 2020 года. Полн...                LTR   \n8917   -Состояние нового автомобиля .\\n-Carfax вся ис...                LTR   \n10817  Продаю BMW I3 +REX .\\n\\nПолноценный электромоб...                LTR   \n10936  Автомобиль BMW i3 (полностью электрический )за...                LTR   \n11043  Состояние нового автомобиля . \\nФото ИМЕННО ЭТ...                LTR   \n11302  Безопасность: 10. Салон: 4. Комфорт: 12. Мульт...                LTR   \n11682  Продаю авто без пробега по РФ.\\nМаксимальная к...                LTR   \n11714  Комплектация G\\nБатарея 40 кВт\\n\\n- PRO- PILOT...                LTR   \n11719  Автомобиль с аукциона! НЕ РЫНОК!!!! (аукционны...                LTR   \n11754  Продаю электромобиль ниссан лиаф 2011г пробег1...                LTR   \n11878  Оригинальный ПТС.  \\nАвто декабрь 2013 года \\n...                LTR   \n11974  Всё работает ,батарея  48 кВт-120км +120км све...                LTR   \n12072  Продаю Nissan Leaf 2012 года выпуска. Данный а...                LTR   \n12085  Электpомобиль Nissan Leаf  из США( северный шт...                LTR   \n12100  Leaf 30x Aero style. 30 квт.ч. 12 палок.\\nконт...                LTR   \n12250  Электромобиль в отличном состоянии,  пробег на...                LTR   \n12287  Продается Ниссан Leaf в полная комплектация(кр...                LTR   \n12334  Продаю своего друга! Очень хорошая машина! Рад...                LTR   \n12466  Аукционный авто, батарея 30 квт., куплен в 201...                LTR   \n12481  АВТОМОБИЛЬ В МОСКВЕ.\\n\\nПривозил под себя, езж...                LTR   \n12558  Продам nissan leaf 2011 года🚗\\nЦена за наличку...                LTR   \n12582  16 модельный год (изг. декабрь 2015) \\nПокупал...                LTR   \n12678  - Я первый собственник, авто завезено в июле 2...                LTR   \n12749  SOH — 87,99\\n\\nОтличная городская машина в иде...                LTR   \n12854  Машина в отличном состоянии. В дтп не была. Оч...                LTR   \n12916  Автомобиль покупал на аукционе. Комплектация G...                LTR   \n12948  Продаю свою шикарную машину, которая радовала ...                LTR   \n12950  Аукционный авто. 3.5 балла. В Москве с августа...                LTR   \n13052  Доброго времени суток. Продаю Nissan Leaf AZEO...                LTR   \n13104  \\n- за данную  цену продают без велюра и матов...                LTR   \n13105  Новая резина. Куплена не в кредит. Не прокурен...                LTR   \n13478  Aze0 30 кВт, SOH 77.5, 10 делений, я 1й владел...                LTR   \n13633  На машине стоит вебасто с термоколом. Управляе...                LTR   \n13660  Отличное состояние. Полная комплектация. Подро...                LTR   \n13720  SOH 70 / 8 делений / отличный авто для города ...                LTR   \n13812  Хозяин, владею два года, богатая комплектация,...                LTR   \n13915  Правый руль.Батарея 30 кВт,Тепловой насос. (До...                LTR   \n13952  Продается электро-автомобиль в хорошем состоян...                LTR   \n13989  Только что привезен напрямую с аукциона в Япон...                LTR   \n14147  Продаю отличного лифа. Сох 69. Соответствует г...                LTR   \n14419  Причина продажи — хочу ZE1. Если сел на электр...                LTR   \n23869  Отличный, немецкий, полностью электрический ав...                LTR   \n23948  Внимание! Только для клиентов AVILON Автомобил...                LTR   \n27064  Авто в идеальном состоянии.\\nНа днях пройдено ...                LTR   \n28241  Добрый день. Самая полная комплектация 16 Кват...                LTR   \n32668  Абсолютно новый автомобиль, богатая комплектац...                LTR   \n32700  Оригинальный аукционный лист.Оценка 4 балла.  ...                LTR   \n32798                            Я хозяин. Вписан в ПТС.                LTR   \n34159  Автомобиль куплен в Германии (европейская верс...                LTR   \n34504          В отличном состоянии вложений не требует.                LTR   \n\n      enginePower                                     equipment_dict fuelType  \\\n5241      408 N12  {\"asr\":true,\"esp\":true,\"usb\":true,\"e-adjustmen...  электро   \n7992      170 N12                                                NaN  электро   \n8252      170 N12        {\"park-assist-f\":true,\"park-assist-r\":true}  электро   \n8350      170 N12  {\"cruise-control\":true,\"asr\":true,\"esp\":true,\"...  электро   \n8684      170 N12  {\"cruise-control\":true,\"glonass\":true,\"navigat...  электро   \n8722      170 N12                                                NaN  электро   \n8917      170 N12                 {\"glonass\":true,\"roof-rails\":true}  электро   \n10817     170 N12                                                NaN  электро   \n10936     170 N12  {\"cruise-control\":true,\"asr\":true,\"tinted-glas...  электро   \n11043     170 N12  {\"glonass\":true,\"airbag-driver\":true,\"aux\":tru...  электро   \n11302     109 N12  {\"asr\":true,\"tinted-glass\":true,\"start-stop-fu...  электро   \n11682     150 N12  {\"tinted-glass\":true,\"esp\":true,\"adaptive-ligh...  электро   \n11714     150 N12  {\"collision-prevention-assist\":true,\"led-light...  электро   \n11719     109 N12                                                NaN  электро   \n11754     109 N12  {\"cruise-control\":true,\"start-button\":true,\"ra...  электро   \n11878     109 N12  {\"asr\":true,\"glonass\":true,\"tinted-glass\":true...  электро   \n11974     109 N12  {\"asr\":true,\"tinted-glass\":true,\"esp\":true,\"ai...  электро   \n12072     109 N12                                                NaN  электро   \n12085     109 N12  {\"cruise-control\":true,\"esp\":true,\"start-stop-...  электро   \n12100     109 N12  {\"tinted-glass\":true,\"esp\":true,\"aux\":true,\"us...  электро   \n12250     109 N12  {\"engine-proof\":true,\"glonass\":true,\"tinted-gl...  электро   \n12287     109 N12  {\"glonass\":true,\"esp\":true,\"aux\":true,\"usb\":tr...  электро   \n12334     109 N12  {\"engine-proof\":true,\"cruise-control\":true,\"ti...  электро   \n12466     109 N12  {\"cruise-control\":true,\"asr\":true,\"tinted-glas...  электро   \n12481     109 N12  {\"cruise-control\":true,\"tinted-glass\":true,\"es...  электро   \n12558     109 N12  {\"cruise-control\":true,\"asr\":true,\"tinted-glas...  электро   \n12582     109 N12  {\"cruise-control\":true,\"asr\":true,\"tinted-glas...  электро   \n12678     109 N12  {\"cruise-control\":true,\"esp\":true,\"airbag-driv...  электро   \n12749     109 N12  {\"engine-proof\":true,\"cruise-control\":true,\"as...  электро   \n12854     109 N12  {\"electro-window-back\":true,\"alloy-wheel-disks...  электро   \n12916     109 N12  {\"cruise-control\":true,\"tinted-glass\":true,\"es...  электро   \n12948     109 N12                                                NaN  электро   \n12950     109 N12  {\"cruise-control\":true,\"asr\":true,\"tinted-glas...  электро   \n13052     109 N12  {\"cruise-control\":true,\"tinted-glass\":true,\"es...  электро   \n13104     109 N12  {\"cruise-control\":true,\"esp\":true,\"adaptive-li...  электро   \n13105     109 N12  {\"cruise-control\":true,\"tinted-glass\":true,\"st...  электро   \n13478     109 N12  {\"cruise-control\":true,\"airbag-driver\":true,\"a...  электро   \n13633     109 N12                                                NaN  электро   \n13660     109 N12  {\"cruise-control\":true,\"tinted-glass\":true,\"es...  электро   \n13720     109 N12  {\"electro-window-back\":true,\"esp\":true,\"start-...  электро   \n13812     109 N12                                                NaN  электро   \n13915     109 N12  {\"cruise-control\":true,\"steel-wheels\":true,\"au...  электро   \n13952     109 N12  {\"electro-window-back\":true,\"cruise-control\":t...  электро   \n13989     109 N12  {\"electro-window-back\":true,\"16-inch-wheels\":t...  электро   \n14147     109 N12  {\"glonass\":true,\"esp\":true,\"start-stop-functio...  электро   \n14419     109 N12  {\"cruise-control\":true,\"asr\":true,\"esp\":true,\"...  электро   \n23869     115 N12  {\"cruise-control\":true,\"asr\":true,\"esp\":true,\"...  электро   \n23948     115 N12  {\"cruise-control\":true,\"engine-proof\":true,\"es...  электро   \n27064      67 N12                                                NaN  электро   \n28241      67 N12                                                NaN  электро   \n32668     150 N12  {\"cruise-control\":true,\"glonass\":true,\"ptf\":tr...  электро   \n32700     109 N12  {\"cruise-control\":true,\"airbag-rear-side\":true...  электро   \n32798     109 N12  {\"tinted-glass\":true,\"esp\":true,\"start-stop-fu...  электро   \n34159     179 N12  {\"cruise-control\":true,\"airbag-driver\":true,\"a...  электро   \n34504     109 N12  {\"alloy-wheel-disks\":true,\"tinted-glass\":true,...  электро   \n\n       ...         vehicleConfiguration  vehicleTransmission    vendor  \\\n5241   ...    ALLROAD_5_DOORS AUTOMATIC       автоматическая  EUROPEAN   \n7992   ...  HATCHBACK_5_DOORS AUTOMATIC       автоматическая  EUROPEAN   \n8252   ...  HATCHBACK_5_DOORS AUTOMATIC       автоматическая  EUROPEAN   \n8350   ...  HATCHBACK_5_DOORS AUTOMATIC       автоматическая  EUROPEAN   \n8684   ...  HATCHBACK_5_DOORS AUTOMATIC       автоматическая  EUROPEAN   \n8722   ...  HATCHBACK_5_DOORS AUTOMATIC       автоматическая  EUROPEAN   \n8917   ...  HATCHBACK_5_DOORS AUTOMATIC       автоматическая  EUROPEAN   \n10817  ...  HATCHBACK_5_DOORS AUTOMATIC       автоматическая  EUROPEAN   \n10936  ...  HATCHBACK_5_DOORS AUTOMATIC       автоматическая  EUROPEAN   \n11043  ...  HATCHBACK_5_DOORS AUTOMATIC       автоматическая  EUROPEAN   \n11302  ...  HATCHBACK_5_DOORS AUTOMATIC       автоматическая  JAPANESE   \n11682  ...  HATCHBACK_5_DOORS AUTOMATIC       автоматическая  JAPANESE   \n11714  ...  HATCHBACK_5_DOORS AUTOMATIC       автоматическая  JAPANESE   \n11719  ...  HATCHBACK_5_DOORS AUTOMATIC       автоматическая  JAPANESE   \n11754  ...  HATCHBACK_5_DOORS AUTOMATIC       автоматическая  JAPANESE   \n11878  ...  HATCHBACK_5_DOORS AUTOMATIC       автоматическая  JAPANESE   \n11974  ...  HATCHBACK_5_DOORS AUTOMATIC       автоматическая  JAPANESE   \n12072  ...  HATCHBACK_5_DOORS AUTOMATIC       автоматическая  JAPANESE   \n12085  ...  HATCHBACK_5_DOORS AUTOMATIC       автоматическая  JAPANESE   \n12100  ...  HATCHBACK_5_DOORS AUTOMATIC       автоматическая  JAPANESE   \n12250  ...  HATCHBACK_5_DOORS AUTOMATIC       автоматическая  JAPANESE   \n12287  ...  HATCHBACK_5_DOORS AUTOMATIC       автоматическая  JAPANESE   \n12334  ...  HATCHBACK_5_DOORS AUTOMATIC       автоматическая  JAPANESE   \n12466  ...  HATCHBACK_5_DOORS AUTOMATIC       автоматическая  JAPANESE   \n12481  ...  HATCHBACK_5_DOORS AUTOMATIC       автоматическая  JAPANESE   \n12558  ...  HATCHBACK_5_DOORS AUTOMATIC       автоматическая  JAPANESE   \n12582  ...  HATCHBACK_5_DOORS AUTOMATIC       автоматическая  JAPANESE   \n12678  ...  HATCHBACK_5_DOORS AUTOMATIC       автоматическая  JAPANESE   \n12749  ...  HATCHBACK_5_DOORS AUTOMATIC       автоматическая  JAPANESE   \n12854  ...  HATCHBACK_5_DOORS AUTOMATIC       автоматическая  JAPANESE   \n12916  ...  HATCHBACK_5_DOORS AUTOMATIC       автоматическая  JAPANESE   \n12948  ...  HATCHBACK_5_DOORS AUTOMATIC       автоматическая  JAPANESE   \n12950  ...  HATCHBACK_5_DOORS AUTOMATIC       автоматическая  JAPANESE   \n13052  ...  HATCHBACK_5_DOORS AUTOMATIC       автоматическая  JAPANESE   \n13104  ...  HATCHBACK_5_DOORS AUTOMATIC       автоматическая  JAPANESE   \n13105  ...  HATCHBACK_5_DOORS AUTOMATIC       автоматическая  JAPANESE   \n13478  ...  HATCHBACK_5_DOORS AUTOMATIC       автоматическая  JAPANESE   \n13633  ...  HATCHBACK_5_DOORS AUTOMATIC       автоматическая  JAPANESE   \n13660  ...  HATCHBACK_5_DOORS AUTOMATIC       автоматическая  JAPANESE   \n13720  ...  HATCHBACK_5_DOORS AUTOMATIC       автоматическая  JAPANESE   \n13812  ...  HATCHBACK_5_DOORS AUTOMATIC       автоматическая  JAPANESE   \n13915  ...  HATCHBACK_5_DOORS AUTOMATIC       автоматическая  JAPANESE   \n13952  ...  HATCHBACK_5_DOORS AUTOMATIC       автоматическая  JAPANESE   \n13989  ...  HATCHBACK_5_DOORS AUTOMATIC       автоматическая  JAPANESE   \n14147  ...  HATCHBACK_5_DOORS AUTOMATIC       автоматическая  JAPANESE   \n14419  ...  HATCHBACK_5_DOORS AUTOMATIC       автоматическая  JAPANESE   \n23869  ...  HATCHBACK_5_DOORS AUTOMATIC       автоматическая  EUROPEAN   \n23948  ...  HATCHBACK_5_DOORS AUTOMATIC       автоматическая  EUROPEAN   \n27064  ...  HATCHBACK_5_DOORS AUTOMATIC       автоматическая  JAPANESE   \n28241  ...  HATCHBACK_5_DOORS AUTOMATIC       автоматическая  JAPANESE   \n32668  ...  HATCHBACK_5_DOORS AUTOMATIC       автоматическая  JAPANESE   \n32700  ...  HATCHBACK_5_DOORS AUTOMATIC       автоматическая  JAPANESE   \n32798  ...  HATCHBACK_5_DOORS AUTOMATIC       автоматическая  JAPANESE   \n34159  ...  HATCHBACK_5_DOORS AUTOMATIC       автоматическая  EUROPEAN   \n34504  ...  HATCHBACK_5_DOORS AUTOMATIC       автоматическая  JAPANESE   \n\n         Владельцы            Владение       ПТС    Привод    Руль  \\\n5241    1 владелец    1 год и 3 месяца  Оригинал    полный   Левый   \n7992    1 владелец                 NaN  Оригинал    задний   Левый   \n8252    1 владелец             1 месяц  Оригинал    задний   Левый   \n8350    1 владелец                 NaN  Оригинал    задний   Левый   \n8684    1 владелец                 NaN  Оригинал    задний   Левый   \n8722    1 владелец                 NaN  Оригинал    задний   Левый   \n8917    1 владелец                 NaN  Оригинал    задний   Левый   \n10817   1 владелец                 NaN  Оригинал    задний   Левый   \n10936   1 владелец                 NaN  Оригинал    задний   Левый   \n11043   1 владелец           8 месяцев  Оригинал    задний   Левый   \n11302  3 или более                 NaN  Оригинал  передний   Левый   \n11682   1 владелец            2 месяца  Оригинал  передний   Левый   \n11714   1 владелец                 NaN  Оригинал  передний  Правый   \n11719   1 владелец           5 месяцев  Оригинал  передний  Правый   \n11754  2 владельца                 NaN  Оригинал  передний  Правый   \n11878   1 владелец                 NaN  Оригинал  передний   Левый   \n11974   1 владелец  3 года и 8 месяцев  Оригинал  передний  Правый   \n12072  3 или более           9 месяцев  Оригинал  передний  Правый   \n12085   1 владелец   1 год и 6 месяцев  Оригинал  передний   Левый   \n12100   1 владелец    1 год и 3 месяца  Оригинал  передний  Правый   \n12250   1 владелец           9 месяцев  Оригинал  передний  Правый   \n12287   1 владелец                 NaN  Оригинал  передний   Левый   \n12334   1 владелец           5 месяцев  Оригинал  передний  Правый   \n12466   1 владелец   2 года и 2 месяца  Оригинал  передний  Правый   \n12481   1 владелец           5 месяцев  Оригинал  передний  Правый   \n12558   1 владелец    1 год и 2 месяца  Оригинал  передний  Правый   \n12582   1 владелец  2 года и 6 месяцев  Оригинал  передний  Правый   \n12678   1 владелец    1 год и 3 месяца  Оригинал  передний  Правый   \n12749   1 владелец     1 год и 1 месяц  Оригинал  передний  Правый   \n12854  2 владельца          11 месяцев  Оригинал  передний  Правый   \n12916   1 владелец                 NaN  Оригинал  передний  Правый   \n12948  2 владельца                 NaN  Оригинал  передний  Правый   \n12950   1 владелец                 NaN  Оригинал  передний  Правый   \n13052   1 владелец   3 года и 4 месяца  Оригинал  передний  Правый   \n13104   1 владелец               1 год  Оригинал  передний  Правый   \n13105   1 владелец   2 года и 4 месяца  Оригинал  передний  Правый   \n13478   1 владелец            4 месяца  Оригинал  передний  Правый   \n13633  2 владельца  5 лет и 10 месяцев  Оригинал  передний   Левый   \n13660   1 владелец    1 год и 3 месяца  Оригинал  передний  Правый   \n13720   1 владелец                 NaN  Оригинал  передний  Правый   \n13812   1 владелец                 NaN  Оригинал  передний  Правый   \n13915   1 владелец   2 года и 4 месяца  Оригинал  передний  Правый   \n13952   1 владелец          11 месяцев  Оригинал  передний  Правый   \n13989   1 владелец          11 месяцев  Оригинал  передний  Правый   \n14147  2 владельца                 NaN  Оригинал  передний  Правый   \n14419  2 владельца     1 год и 1 месяц  Оригинал  передний  Правый   \n23869   1 владелец                 NaN  Оригинал  передний   Левый   \n23948   1 владелец                 NaN  Оригинал  передний   Левый   \n27064  2 владельца              4 года  Оригинал    задний   Левый   \n28241  2 владельца                 NaN  Оригинал    задний  Правый   \n32668   1 владелец  1 год и 10 месяцев  Оригинал  передний   Левый   \n32700   1 владелец           5 месяцев  Оригинал  передний  Правый   \n32798   1 владелец                 NaN  Оригинал  передний  Правый   \n34159  2 владельца          10 месяцев  Оригинал  передний   Левый   \n34504  2 владельца    2 года и 1 месяц  Оригинал  передний  Правый   \n\n                Состояние     Таможня  \n5241   Не требует ремонта  Растаможен  \n7992   Не требует ремонта  Растаможен  \n8252   Не требует ремонта  Растаможен  \n8350   Не требует ремонта  Растаможен  \n8684   Не требует ремонта  Растаможен  \n8722   Не требует ремонта  Растаможен  \n8917   Не требует ремонта  Растаможен  \n10817  Не требует ремонта  Растаможен  \n10936  Не требует ремонта  Растаможен  \n11043  Не требует ремонта  Растаможен  \n11302  Не требует ремонта  Растаможен  \n11682  Не требует ремонта  Растаможен  \n11714  Не требует ремонта  Растаможен  \n11719  Не требует ремонта  Растаможен  \n11754  Не требует ремонта  Растаможен  \n11878  Не требует ремонта  Растаможен  \n11974  Не требует ремонта  Растаможен  \n12072  Не требует ремонта  Растаможен  \n12085  Не требует ремонта  Растаможен  \n12100  Не требует ремонта  Растаможен  \n12250  Не требует ремонта  Растаможен  \n12287  Не требует ремонта  Растаможен  \n12334  Не требует ремонта  Растаможен  \n12466  Не требует ремонта  Растаможен  \n12481  Не требует ремонта  Растаможен  \n12558  Не требует ремонта  Растаможен  \n12582  Не требует ремонта  Растаможен  \n12678  Не требует ремонта  Растаможен  \n12749  Не требует ремонта  Растаможен  \n12854  Не требует ремонта  Растаможен  \n12916  Не требует ремонта  Растаможен  \n12948  Не требует ремонта  Растаможен  \n12950  Не требует ремонта  Растаможен  \n13052  Не требует ремонта  Растаможен  \n13104  Не требует ремонта  Растаможен  \n13105  Не требует ремонта  Растаможен  \n13478  Не требует ремонта  Растаможен  \n13633  Не требует ремонта  Растаможен  \n13660  Не требует ремонта  Растаможен  \n13720  Не требует ремонта  Растаможен  \n13812  Не требует ремонта  Растаможен  \n13915  Не требует ремонта  Растаможен  \n13952  Не требует ремонта  Растаможен  \n13989  Не требует ремонта  Растаможен  \n14147  Не требует ремонта  Растаможен  \n14419  Не требует ремонта  Растаможен  \n23869  Не требует ремонта  Растаможен  \n23948  Не требует ремонта  Растаможен  \n27064  Не требует ремонта  Растаможен  \n28241  Не требует ремонта  Растаможен  \n32668  Не требует ремонта  Растаможен  \n32700  Не требует ремонта  Растаможен  \n32798  Не требует ремонта  Растаможен  \n34159  Не требует ремонта  Растаможен  \n34504  Не требует ремонта  Растаможен  \n\n[55 rows x 32 columns]",
      "text/html": "<div>\n<style scoped>\n    .dataframe tbody tr th:only-of-type {\n        vertical-align: middle;\n    }\n\n    .dataframe tbody tr th {\n        vertical-align: top;\n    }\n\n    .dataframe thead th {\n        text-align: right;\n    }\n</style>\n<table border=\"1\" class=\"dataframe\">\n  <thead>\n    <tr style=\"text-align: right;\">\n      <th></th>\n      <th>bodyType</th>\n      <th>brand</th>\n      <th>car_url</th>\n      <th>color</th>\n      <th>complectation_dict</th>\n      <th>description</th>\n      <th>engineDisplacement</th>\n      <th>enginePower</th>\n      <th>equipment_dict</th>\n      <th>fuelType</th>\n      <th>...</th>\n      <th>vehicleConfiguration</th>\n      <th>vehicleTransmission</th>\n      <th>vendor</th>\n      <th>Владельцы</th>\n      <th>Владение</th>\n      <th>ПТС</th>\n      <th>Привод</th>\n      <th>Руль</th>\n      <th>Состояние</th>\n      <th>Таможня</th>\n    </tr>\n  </thead>\n  <tbody>\n    <tr>\n      <th>5241</th>\n      <td>внедорожник 5 дв.</td>\n      <td>AUDI</td>\n      <td>https://auto.ru/cars/used/sale/audi/e_tron/110...</td>\n      <td>белый</td>\n      <td>NaN</td>\n      <td>Audi e-tron Prestige quattro от Moscow Tesla C...</td>\n      <td>LTR</td>\n      <td>408 N12</td>\n      <td>{\"asr\":true,\"esp\":true,\"usb\":true,\"e-adjustmen...</td>\n      <td>электро</td>\n      <td>...</td>\n      <td>ALLROAD_5_DOORS AUTOMATIC</td>\n      <td>автоматическая</td>\n      <td>EUROPEAN</td>\n      <td>1 владелец</td>\n      <td>1 год и 3 месяца</td>\n      <td>Оригинал</td>\n      <td>полный</td>\n      <td>Левый</td>\n      <td>Не требует ремонта</td>\n      <td>Растаможен</td>\n    </tr>\n    <tr>\n      <th>7992</th>\n      <td>хэтчбек 5 дв.</td>\n      <td>BMW</td>\n      <td>https://auto.ru/cars/used/sale/bmw/i3/11010431...</td>\n      <td>синий</td>\n      <td>NaN</td>\n      <td>Атомобиль из Германии,без пробега по РФ.\\nНа г...</td>\n      <td>LTR</td>\n      <td>170 N12</td>\n      <td>NaN</td>\n      <td>электро</td>\n      <td>...</td>\n      <td>HATCHBACK_5_DOORS AUTOMATIC</td>\n      <td>автоматическая</td>\n      <td>EUROPEAN</td>\n      <td>1 владелец</td>\n      <td>NaN</td>\n      <td>Оригинал</td>\n      <td>задний</td>\n      <td>Левый</td>\n      <td>Не требует ремонта</td>\n      <td>Растаможен</td>\n    </tr>\n    <tr>\n      <th>8252</th>\n      <td>хэтчбек 5 дв.</td>\n      <td>BMW</td>\n      <td>https://auto.ru/cars/used/sale/bmw/i3/11012780...</td>\n      <td>серый</td>\n      <td>NaN</td>\n      <td>Пробег 54000 км, запас хода на зарядке 130 км+...</td>\n      <td>LTR</td>\n      <td>170 N12</td>\n      <td>{\"park-assist-f\":true,\"park-assist-r\":true}</td>\n      <td>электро</td>\n      <td>...</td>\n      <td>HATCHBACK_5_DOORS AUTOMATIC</td>\n      <td>автоматическая</td>\n      <td>EUROPEAN</td>\n      <td>1 владелец</td>\n      <td>1 месяц</td>\n      <td>Оригинал</td>\n      <td>задний</td>\n      <td>Левый</td>\n      <td>Не требует ремонта</td>\n      <td>Растаможен</td>\n    </tr>\n    <tr>\n      <th>8350</th>\n      <td>хэтчбек 5 дв.</td>\n      <td>BMW</td>\n      <td>https://auto.ru/cars/used/sale/bmw/i3/11002716...</td>\n      <td>белый</td>\n      <td>{\"id\":\"21624597\",\"name\":\"i3 120 Ah\",\"available...</td>\n      <td>Автомобиль в наличии Москве , с ПТС , производ...</td>\n      <td>LTR</td>\n      <td>170 N12</td>\n      <td>{\"cruise-control\":true,\"asr\":true,\"esp\":true,\"...</td>\n      <td>электро</td>\n      <td>...</td>\n      <td>HATCHBACK_5_DOORS AUTOMATIC</td>\n      <td>автоматическая</td>\n      <td>EUROPEAN</td>\n      <td>1 владелец</td>\n      <td>NaN</td>\n      <td>Оригинал</td>\n      <td>задний</td>\n      <td>Левый</td>\n      <td>Не требует ремонта</td>\n      <td>Растаможен</td>\n    </tr>\n    <tr>\n      <th>8684</th>\n      <td>хэтчбек 5 дв.</td>\n      <td>BMW</td>\n      <td>https://auto.ru/cars/used/sale/bmw/i3/11011745...</td>\n      <td>чёрный</td>\n      <td>NaN</td>\n      <td>BMW I 3 REX\\nфевраль 2017 года выпуска.\\nПриоб...</td>\n      <td>LTR</td>\n      <td>170 N12</td>\n      <td>{\"cruise-control\":true,\"glonass\":true,\"navigat...</td>\n      <td>электро</td>\n      <td>...</td>\n      <td>HATCHBACK_5_DOORS AUTOMATIC</td>\n      <td>автоматическая</td>\n      <td>EUROPEAN</td>\n      <td>1 владелец</td>\n      <td>NaN</td>\n      <td>Оригинал</td>\n      <td>задний</td>\n      <td>Левый</td>\n      <td>Не требует ремонта</td>\n      <td>Растаможен</td>\n    </tr>\n    <tr>\n      <th>8722</th>\n      <td>хэтчбек 5 дв.</td>\n      <td>BMW</td>\n      <td>https://auto.ru/cars/used/sale/bmw/i3/11000973...</td>\n      <td>голубой</td>\n      <td>NaN</td>\n      <td>\\nПрибыло из Америки в августе 2020 года. Полн...</td>\n      <td>LTR</td>\n      <td>170 N12</td>\n      <td>NaN</td>\n      <td>электро</td>\n      <td>...</td>\n      <td>HATCHBACK_5_DOORS AUTOMATIC</td>\n      <td>автоматическая</td>\n      <td>EUROPEAN</td>\n      <td>1 владелец</td>\n      <td>NaN</td>\n      <td>Оригинал</td>\n      <td>задний</td>\n      <td>Левый</td>\n      <td>Не требует ремонта</td>\n      <td>Растаможен</td>\n    </tr>\n    <tr>\n      <th>8917</th>\n      <td>хэтчбек 5 дв.</td>\n      <td>BMW</td>\n      <td>https://auto.ru/cars/used/sale/bmw/i3/11008715...</td>\n      <td>бежевый</td>\n      <td>NaN</td>\n      <td>-Состояние нового автомобиля .\\n-Carfax вся ис...</td>\n      <td>LTR</td>\n      <td>170 N12</td>\n      <td>{\"glonass\":true,\"roof-rails\":true}</td>\n      <td>электро</td>\n      <td>...</td>\n      <td>HATCHBACK_5_DOORS AUTOMATIC</td>\n      <td>автоматическая</td>\n      <td>EUROPEAN</td>\n      <td>1 владелец</td>\n      <td>NaN</td>\n      <td>Оригинал</td>\n      <td>задний</td>\n      <td>Левый</td>\n      <td>Не требует ремонта</td>\n      <td>Растаможен</td>\n    </tr>\n    <tr>\n      <th>10817</th>\n      <td>хэтчбек 5 дв.</td>\n      <td>BMW</td>\n      <td>https://auto.ru/cars/used/sale/bmw/i3/11012664...</td>\n      <td>серый</td>\n      <td>NaN</td>\n      <td>Продаю BMW I3 +REX .\\n\\nПолноценный электромоб...</td>\n      <td>LTR</td>\n      <td>170 N12</td>\n      <td>NaN</td>\n      <td>электро</td>\n      <td>...</td>\n      <td>HATCHBACK_5_DOORS AUTOMATIC</td>\n      <td>автоматическая</td>\n      <td>EUROPEAN</td>\n      <td>1 владелец</td>\n      <td>NaN</td>\n      <td>Оригинал</td>\n      <td>задний</td>\n      <td>Левый</td>\n      <td>Не требует ремонта</td>\n      <td>Растаможен</td>\n    </tr>\n    <tr>\n      <th>10936</th>\n      <td>хэтчбек 5 дв.</td>\n      <td>BMW</td>\n      <td>https://auto.ru/cars/used/sale/bmw/i3/10996733...</td>\n      <td>чёрный</td>\n      <td>NaN</td>\n      <td>Автомобиль BMW i3 (полностью электрический )за...</td>\n      <td>LTR</td>\n      <td>170 N12</td>\n      <td>{\"cruise-control\":true,\"asr\":true,\"tinted-glas...</td>\n      <td>электро</td>\n      <td>...</td>\n      <td>HATCHBACK_5_DOORS AUTOMATIC</td>\n      <td>автоматическая</td>\n      <td>EUROPEAN</td>\n      <td>1 владелец</td>\n      <td>NaN</td>\n      <td>Оригинал</td>\n      <td>задний</td>\n      <td>Левый</td>\n      <td>Не требует ремонта</td>\n      <td>Растаможен</td>\n    </tr>\n    <tr>\n      <th>11043</th>\n      <td>хэтчбек 5 дв.</td>\n      <td>BMW</td>\n      <td>https://auto.ru/cars/used/sale/bmw/i3/10993761...</td>\n      <td>серый</td>\n      <td>NaN</td>\n      <td>Состояние нового автомобиля . \\nФото ИМЕННО ЭТ...</td>\n      <td>LTR</td>\n      <td>170 N12</td>\n      <td>{\"glonass\":true,\"airbag-driver\":true,\"aux\":tru...</td>\n      <td>электро</td>\n      <td>...</td>\n      <td>HATCHBACK_5_DOORS AUTOMATIC</td>\n      <td>автоматическая</td>\n      <td>EUROPEAN</td>\n      <td>1 владелец</td>\n      <td>8 месяцев</td>\n      <td>Оригинал</td>\n      <td>задний</td>\n      <td>Левый</td>\n      <td>Не требует ремонта</td>\n      <td>Растаможен</td>\n    </tr>\n    <tr>\n      <th>11302</th>\n      <td>хэтчбек 5 дв.</td>\n      <td>NISSAN</td>\n      <td>https://auto.ru/cars/used/sale/nissan/leaf/110...</td>\n      <td>голубой</td>\n      <td>NaN</td>\n      <td>Безопасность: 10. Салон: 4. Комфорт: 12. Мульт...</td>\n      <td>LTR</td>\n      <td>109 N12</td>\n      <td>{\"asr\":true,\"tinted-glass\":true,\"start-stop-fu...</td>\n      <td>электро</td>\n      <td>...</td>\n      <td>HATCHBACK_5_DOORS AUTOMATIC</td>\n      <td>автоматическая</td>\n      <td>JAPANESE</td>\n      <td>3 или более</td>\n      <td>NaN</td>\n      <td>Оригинал</td>\n      <td>передний</td>\n      <td>Левый</td>\n      <td>Не требует ремонта</td>\n      <td>Растаможен</td>\n    </tr>\n    <tr>\n      <th>11682</th>\n      <td>хэтчбек 5 дв.</td>\n      <td>NISSAN</td>\n      <td>https://auto.ru/cars/used/sale/nissan/leaf/110...</td>\n      <td>белый</td>\n      <td>NaN</td>\n      <td>Продаю авто без пробега по РФ.\\nМаксимальная к...</td>\n      <td>LTR</td>\n      <td>150 N12</td>\n      <td>{\"tinted-glass\":true,\"esp\":true,\"adaptive-ligh...</td>\n      <td>электро</td>\n      <td>...</td>\n      <td>HATCHBACK_5_DOORS AUTOMATIC</td>\n      <td>автоматическая</td>\n      <td>JAPANESE</td>\n      <td>1 владелец</td>\n      <td>2 месяца</td>\n      <td>Оригинал</td>\n      <td>передний</td>\n      <td>Левый</td>\n      <td>Не требует ремонта</td>\n      <td>Растаможен</td>\n    </tr>\n    <tr>\n      <th>11714</th>\n      <td>хэтчбек 5 дв.</td>\n      <td>NISSAN</td>\n      <td>https://auto.ru/cars/used/sale/nissan/leaf/109...</td>\n      <td>белый</td>\n      <td>NaN</td>\n      <td>Комплектация G\\nБатарея 40 кВт\\n\\n- PRO- PILOT...</td>\n      <td>LTR</td>\n      <td>150 N12</td>\n      <td>{\"collision-prevention-assist\":true,\"led-light...</td>\n      <td>электро</td>\n      <td>...</td>\n      <td>HATCHBACK_5_DOORS AUTOMATIC</td>\n      <td>автоматическая</td>\n      <td>JAPANESE</td>\n      <td>1 владелец</td>\n      <td>NaN</td>\n      <td>Оригинал</td>\n      <td>передний</td>\n      <td>Правый</td>\n      <td>Не требует ремонта</td>\n      <td>Растаможен</td>\n    </tr>\n    <tr>\n      <th>11719</th>\n      <td>хэтчбек 5 дв.</td>\n      <td>NISSAN</td>\n      <td>https://auto.ru/cars/used/sale/nissan/leaf/109...</td>\n      <td>белый</td>\n      <td>NaN</td>\n      <td>Автомобиль с аукциона! НЕ РЫНОК!!!! (аукционны...</td>\n      <td>LTR</td>\n      <td>109 N12</td>\n      <td>NaN</td>\n      <td>электро</td>\n      <td>...</td>\n      <td>HATCHBACK_5_DOORS AUTOMATIC</td>\n      <td>автоматическая</td>\n      <td>JAPANESE</td>\n      <td>1 владелец</td>\n      <td>5 месяцев</td>\n      <td>Оригинал</td>\n      <td>передний</td>\n      <td>Правый</td>\n      <td>Не требует ремонта</td>\n      <td>Растаможен</td>\n    </tr>\n    <tr>\n      <th>11754</th>\n      <td>хэтчбек 5 дв.</td>\n      <td>NISSAN</td>\n      <td>https://auto.ru/cars/used/sale/nissan/leaf/110...</td>\n      <td>белый</td>\n      <td>NaN</td>\n      <td>Продаю электромобиль ниссан лиаф 2011г пробег1...</td>\n      <td>LTR</td>\n      <td>109 N12</td>\n      <td>{\"cruise-control\":true,\"start-button\":true,\"ra...</td>\n      <td>электро</td>\n      <td>...</td>\n      <td>HATCHBACK_5_DOORS AUTOMATIC</td>\n      <td>автоматическая</td>\n      <td>JAPANESE</td>\n      <td>2 владельца</td>\n      <td>NaN</td>\n      <td>Оригинал</td>\n      <td>передний</td>\n      <td>Правый</td>\n      <td>Не требует ремонта</td>\n      <td>Растаможен</td>\n    </tr>\n    <tr>\n      <th>11878</th>\n      <td>хэтчбек 5 дв.</td>\n      <td>NISSAN</td>\n      <td>https://auto.ru/cars/used/sale/nissan/leaf/110...</td>\n      <td>серебристый</td>\n      <td>NaN</td>\n      <td>Оригинальный ПТС.  \\nАвто декабрь 2013 года \\n...</td>\n      <td>LTR</td>\n      <td>109 N12</td>\n      <td>{\"asr\":true,\"glonass\":true,\"tinted-glass\":true...</td>\n      <td>электро</td>\n      <td>...</td>\n      <td>HATCHBACK_5_DOORS AUTOMATIC</td>\n      <td>автоматическая</td>\n      <td>JAPANESE</td>\n      <td>1 владелец</td>\n      <td>NaN</td>\n      <td>Оригинал</td>\n      <td>передний</td>\n      <td>Левый</td>\n      <td>Не требует ремонта</td>\n      <td>Растаможен</td>\n    </tr>\n    <tr>\n      <th>11974</th>\n      <td>хэтчбек 5 дв.</td>\n      <td>NISSAN</td>\n      <td>https://auto.ru/cars/used/sale/nissan/leaf/108...</td>\n      <td>чёрный</td>\n      <td>NaN</td>\n      <td>Всё работает ,батарея  48 кВт-120км +120км све...</td>\n      <td>LTR</td>\n      <td>109 N12</td>\n      <td>{\"asr\":true,\"tinted-glass\":true,\"esp\":true,\"ai...</td>\n      <td>электро</td>\n      <td>...</td>\n      <td>HATCHBACK_5_DOORS AUTOMATIC</td>\n      <td>автоматическая</td>\n      <td>JAPANESE</td>\n      <td>1 владелец</td>\n      <td>3 года и 8 месяцев</td>\n      <td>Оригинал</td>\n      <td>передний</td>\n      <td>Правый</td>\n      <td>Не требует ремонта</td>\n      <td>Растаможен</td>\n    </tr>\n    <tr>\n      <th>12072</th>\n      <td>хэтчбек 5 дв.</td>\n      <td>NISSAN</td>\n      <td>https://auto.ru/cars/used/sale/nissan/leaf/110...</td>\n      <td>чёрный</td>\n      <td>NaN</td>\n      <td>Продаю Nissan Leaf 2012 года выпуска. Данный а...</td>\n      <td>LTR</td>\n      <td>109 N12</td>\n      <td>NaN</td>\n      <td>электро</td>\n      <td>...</td>\n      <td>HATCHBACK_5_DOORS AUTOMATIC</td>\n      <td>автоматическая</td>\n      <td>JAPANESE</td>\n      <td>3 или более</td>\n      <td>9 месяцев</td>\n      <td>Оригинал</td>\n      <td>передний</td>\n      <td>Правый</td>\n      <td>Не требует ремонта</td>\n      <td>Растаможен</td>\n    </tr>\n    <tr>\n      <th>12085</th>\n      <td>хэтчбек 5 дв.</td>\n      <td>NISSAN</td>\n      <td>https://auto.ru/cars/used/sale/nissan/leaf/109...</td>\n      <td>голубой</td>\n      <td>NaN</td>\n      <td>Электpомобиль Nissan Leаf  из США( северный шт...</td>\n      <td>LTR</td>\n      <td>109 N12</td>\n      <td>{\"cruise-control\":true,\"esp\":true,\"start-stop-...</td>\n      <td>электро</td>\n      <td>...</td>\n      <td>HATCHBACK_5_DOORS AUTOMATIC</td>\n      <td>автоматическая</td>\n      <td>JAPANESE</td>\n      <td>1 владелец</td>\n      <td>1 год и 6 месяцев</td>\n      <td>Оригинал</td>\n      <td>передний</td>\n      <td>Левый</td>\n      <td>Не требует ремонта</td>\n      <td>Растаможен</td>\n    </tr>\n    <tr>\n      <th>12100</th>\n      <td>хэтчбек 5 дв.</td>\n      <td>NISSAN</td>\n      <td>https://auto.ru/cars/used/sale/nissan/leaf/109...</td>\n      <td>серый</td>\n      <td>NaN</td>\n      <td>Leaf 30x Aero style. 30 квт.ч. 12 палок.\\nконт...</td>\n      <td>LTR</td>\n      <td>109 N12</td>\n      <td>{\"tinted-glass\":true,\"esp\":true,\"aux\":true,\"us...</td>\n      <td>электро</td>\n      <td>...</td>\n      <td>HATCHBACK_5_DOORS AUTOMATIC</td>\n      <td>автоматическая</td>\n      <td>JAPANESE</td>\n      <td>1 владелец</td>\n      <td>1 год и 3 месяца</td>\n      <td>Оригинал</td>\n      <td>передний</td>\n      <td>Правый</td>\n      <td>Не требует ремонта</td>\n      <td>Растаможен</td>\n    </tr>\n    <tr>\n      <th>12250</th>\n      <td>хэтчбек 5 дв.</td>\n      <td>NISSAN</td>\n      <td>https://auto.ru/cars/used/sale/nissan/leaf/109...</td>\n      <td>серый</td>\n      <td>NaN</td>\n      <td>Электромобиль в отличном состоянии,  пробег на...</td>\n      <td>LTR</td>\n      <td>109 N12</td>\n      <td>{\"engine-proof\":true,\"glonass\":true,\"tinted-gl...</td>\n      <td>электро</td>\n      <td>...</td>\n      <td>HATCHBACK_5_DOORS AUTOMATIC</td>\n      <td>автоматическая</td>\n      <td>JAPANESE</td>\n      <td>1 владелец</td>\n      <td>9 месяцев</td>\n      <td>Оригинал</td>\n      <td>передний</td>\n      <td>Правый</td>\n      <td>Не требует ремонта</td>\n      <td>Растаможен</td>\n    </tr>\n    <tr>\n      <th>12287</th>\n      <td>хэтчбек 5 дв.</td>\n      <td>NISSAN</td>\n      <td>https://auto.ru/cars/used/sale/nissan/leaf/109...</td>\n      <td>голубой</td>\n      <td>NaN</td>\n      <td>Продается Ниссан Leaf в полная комплектация(кр...</td>\n      <td>LTR</td>\n      <td>109 N12</td>\n      <td>{\"glonass\":true,\"esp\":true,\"aux\":true,\"usb\":tr...</td>\n      <td>электро</td>\n      <td>...</td>\n      <td>HATCHBACK_5_DOORS AUTOMATIC</td>\n      <td>автоматическая</td>\n      <td>JAPANESE</td>\n      <td>1 владелец</td>\n      <td>NaN</td>\n      <td>Оригинал</td>\n      <td>передний</td>\n      <td>Левый</td>\n      <td>Не требует ремонта</td>\n      <td>Растаможен</td>\n    </tr>\n    <tr>\n      <th>12334</th>\n      <td>хэтчбек 5 дв.</td>\n      <td>NISSAN</td>\n      <td>https://auto.ru/cars/used/sale/nissan/leaf/110...</td>\n      <td>чёрный</td>\n      <td>NaN</td>\n      <td>Продаю своего друга! Очень хорошая машина! Рад...</td>\n      <td>LTR</td>\n      <td>109 N12</td>\n      <td>{\"engine-proof\":true,\"cruise-control\":true,\"ti...</td>\n      <td>электро</td>\n      <td>...</td>\n      <td>HATCHBACK_5_DOORS AUTOMATIC</td>\n      <td>автоматическая</td>\n      <td>JAPANESE</td>\n      <td>1 владелец</td>\n      <td>5 месяцев</td>\n      <td>Оригинал</td>\n      <td>передний</td>\n      <td>Правый</td>\n      <td>Не требует ремонта</td>\n      <td>Растаможен</td>\n    </tr>\n    <tr>\n      <th>12466</th>\n      <td>хэтчбек 5 дв.</td>\n      <td>NISSAN</td>\n      <td>https://auto.ru/cars/used/sale/nissan/leaf/110...</td>\n      <td>чёрный</td>\n      <td>NaN</td>\n      <td>Аукционный авто, батарея 30 квт., куплен в 201...</td>\n      <td>LTR</td>\n      <td>109 N12</td>\n      <td>{\"cruise-control\":true,\"asr\":true,\"tinted-glas...</td>\n      <td>электро</td>\n      <td>...</td>\n      <td>HATCHBACK_5_DOORS AUTOMATIC</td>\n      <td>автоматическая</td>\n      <td>JAPANESE</td>\n      <td>1 владелец</td>\n      <td>2 года и 2 месяца</td>\n      <td>Оригинал</td>\n      <td>передний</td>\n      <td>Правый</td>\n      <td>Не требует ремонта</td>\n      <td>Растаможен</td>\n    </tr>\n    <tr>\n      <th>12481</th>\n      <td>хэтчбек 5 дв.</td>\n      <td>NISSAN</td>\n      <td>https://auto.ru/cars/used/sale/nissan/leaf/110...</td>\n      <td>белый</td>\n      <td>NaN</td>\n      <td>АВТОМОБИЛЬ В МОСКВЕ.\\n\\nПривозил под себя, езж...</td>\n      <td>LTR</td>\n      <td>109 N12</td>\n      <td>{\"cruise-control\":true,\"tinted-glass\":true,\"es...</td>\n      <td>электро</td>\n      <td>...</td>\n      <td>HATCHBACK_5_DOORS AUTOMATIC</td>\n      <td>автоматическая</td>\n      <td>JAPANESE</td>\n      <td>1 владелец</td>\n      <td>5 месяцев</td>\n      <td>Оригинал</td>\n      <td>передний</td>\n      <td>Правый</td>\n      <td>Не требует ремонта</td>\n      <td>Растаможен</td>\n    </tr>\n    <tr>\n      <th>12558</th>\n      <td>хэтчбек 5 дв.</td>\n      <td>NISSAN</td>\n      <td>https://auto.ru/cars/used/sale/nissan/leaf/109...</td>\n      <td>серебристый</td>\n      <td>NaN</td>\n      <td>Продам nissan leaf 2011 года🚗\\nЦена за наличку...</td>\n      <td>LTR</td>\n      <td>109 N12</td>\n      <td>{\"cruise-control\":true,\"asr\":true,\"tinted-glas...</td>\n      <td>электро</td>\n      <td>...</td>\n      <td>HATCHBACK_5_DOORS AUTOMATIC</td>\n      <td>автоматическая</td>\n      <td>JAPANESE</td>\n      <td>1 владелец</td>\n      <td>1 год и 2 месяца</td>\n      <td>Оригинал</td>\n      <td>передний</td>\n      <td>Правый</td>\n      <td>Не требует ремонта</td>\n      <td>Растаможен</td>\n    </tr>\n    <tr>\n      <th>12582</th>\n      <td>хэтчбек 5 дв.</td>\n      <td>NISSAN</td>\n      <td>https://auto.ru/cars/used/sale/nissan/leaf/109...</td>\n      <td>белый</td>\n      <td>NaN</td>\n      <td>16 модельный год (изг. декабрь 2015) \\nПокупал...</td>\n      <td>LTR</td>\n      <td>109 N12</td>\n      <td>{\"cruise-control\":true,\"asr\":true,\"tinted-glas...</td>\n      <td>электро</td>\n      <td>...</td>\n      <td>HATCHBACK_5_DOORS AUTOMATIC</td>\n      <td>автоматическая</td>\n      <td>JAPANESE</td>\n      <td>1 владелец</td>\n      <td>2 года и 6 месяцев</td>\n      <td>Оригинал</td>\n      <td>передний</td>\n      <td>Правый</td>\n      <td>Не требует ремонта</td>\n      <td>Растаможен</td>\n    </tr>\n    <tr>\n      <th>12678</th>\n      <td>хэтчбек 5 дв.</td>\n      <td>NISSAN</td>\n      <td>https://auto.ru/cars/used/sale/nissan/leaf/109...</td>\n      <td>чёрный</td>\n      <td>NaN</td>\n      <td>- Я первый собственник, авто завезено в июле 2...</td>\n      <td>LTR</td>\n      <td>109 N12</td>\n      <td>{\"cruise-control\":true,\"esp\":true,\"airbag-driv...</td>\n      <td>электро</td>\n      <td>...</td>\n      <td>HATCHBACK_5_DOORS AUTOMATIC</td>\n      <td>автоматическая</td>\n      <td>JAPANESE</td>\n      <td>1 владелец</td>\n      <td>1 год и 3 месяца</td>\n      <td>Оригинал</td>\n      <td>передний</td>\n      <td>Правый</td>\n      <td>Не требует ремонта</td>\n      <td>Растаможен</td>\n    </tr>\n    <tr>\n      <th>12749</th>\n      <td>хэтчбек 5 дв.</td>\n      <td>NISSAN</td>\n      <td>https://auto.ru/cars/used/sale/nissan/leaf/109...</td>\n      <td>чёрный</td>\n      <td>NaN</td>\n      <td>SOH — 87,99\\n\\nОтличная городская машина в иде...</td>\n      <td>LTR</td>\n      <td>109 N12</td>\n      <td>{\"engine-proof\":true,\"cruise-control\":true,\"as...</td>\n      <td>электро</td>\n      <td>...</td>\n      <td>HATCHBACK_5_DOORS AUTOMATIC</td>\n      <td>автоматическая</td>\n      <td>JAPANESE</td>\n      <td>1 владелец</td>\n      <td>1 год и 1 месяц</td>\n      <td>Оригинал</td>\n      <td>передний</td>\n      <td>Правый</td>\n      <td>Не требует ремонта</td>\n      <td>Растаможен</td>\n    </tr>\n    <tr>\n      <th>12854</th>\n      <td>хэтчбек 5 дв.</td>\n      <td>NISSAN</td>\n      <td>https://auto.ru/cars/used/sale/nissan/leaf/109...</td>\n      <td>чёрный</td>\n      <td>NaN</td>\n      <td>Машина в отличном состоянии. В дтп не была. Оч...</td>\n      <td>LTR</td>\n      <td>109 N12</td>\n      <td>{\"electro-window-back\":true,\"alloy-wheel-disks...</td>\n      <td>электро</td>\n      <td>...</td>\n      <td>HATCHBACK_5_DOORS AUTOMATIC</td>\n      <td>автоматическая</td>\n      <td>JAPANESE</td>\n      <td>2 владельца</td>\n      <td>11 месяцев</td>\n      <td>Оригинал</td>\n      <td>передний</td>\n      <td>Правый</td>\n      <td>Не требует ремонта</td>\n      <td>Растаможен</td>\n    </tr>\n    <tr>\n      <th>12916</th>\n      <td>хэтчбек 5 дв.</td>\n      <td>NISSAN</td>\n      <td>https://auto.ru/cars/used/sale/nissan/leaf/109...</td>\n      <td>чёрный</td>\n      <td>NaN</td>\n      <td>Автомобиль покупал на аукционе. Комплектация G...</td>\n      <td>LTR</td>\n      <td>109 N12</td>\n      <td>{\"cruise-control\":true,\"tinted-glass\":true,\"es...</td>\n      <td>электро</td>\n      <td>...</td>\n      <td>HATCHBACK_5_DOORS AUTOMATIC</td>\n      <td>автоматическая</td>\n      <td>JAPANESE</td>\n      <td>1 владелец</td>\n      <td>NaN</td>\n      <td>Оригинал</td>\n      <td>передний</td>\n      <td>Правый</td>\n      <td>Не требует ремонта</td>\n      <td>Растаможен</td>\n    </tr>\n    <tr>\n      <th>12948</th>\n      <td>хэтчбек 5 дв.</td>\n      <td>NISSAN</td>\n      <td>https://auto.ru/cars/used/sale/nissan/leaf/109...</td>\n      <td>серебристый</td>\n      <td>NaN</td>\n      <td>Продаю свою шикарную машину, которая радовала ...</td>\n      <td>LTR</td>\n      <td>109 N12</td>\n      <td>NaN</td>\n      <td>электро</td>\n      <td>...</td>\n      <td>HATCHBACK_5_DOORS AUTOMATIC</td>\n      <td>автоматическая</td>\n      <td>JAPANESE</td>\n      <td>2 владельца</td>\n      <td>NaN</td>\n      <td>Оригинал</td>\n      <td>передний</td>\n      <td>Правый</td>\n      <td>Не требует ремонта</td>\n      <td>Растаможен</td>\n    </tr>\n    <tr>\n      <th>12950</th>\n      <td>хэтчбек 5 дв.</td>\n      <td>NISSAN</td>\n      <td>https://auto.ru/cars/used/sale/nissan/leaf/109...</td>\n      <td>белый</td>\n      <td>NaN</td>\n      <td>Аукционный авто. 3.5 балла. В Москве с августа...</td>\n      <td>LTR</td>\n      <td>109 N12</td>\n      <td>{\"cruise-control\":true,\"asr\":true,\"tinted-glas...</td>\n      <td>электро</td>\n      <td>...</td>\n      <td>HATCHBACK_5_DOORS AUTOMATIC</td>\n      <td>автоматическая</td>\n      <td>JAPANESE</td>\n      <td>1 владелец</td>\n      <td>NaN</td>\n      <td>Оригинал</td>\n      <td>передний</td>\n      <td>Правый</td>\n      <td>Не требует ремонта</td>\n      <td>Растаможен</td>\n    </tr>\n    <tr>\n      <th>13052</th>\n      <td>хэтчбек 5 дв.</td>\n      <td>NISSAN</td>\n      <td>https://auto.ru/cars/used/sale/nissan/leaf/109...</td>\n      <td>белый</td>\n      <td>NaN</td>\n      <td>Доброго времени суток. Продаю Nissan Leaf AZEO...</td>\n      <td>LTR</td>\n      <td>109 N12</td>\n      <td>{\"cruise-control\":true,\"tinted-glass\":true,\"es...</td>\n      <td>электро</td>\n      <td>...</td>\n      <td>HATCHBACK_5_DOORS AUTOMATIC</td>\n      <td>автоматическая</td>\n      <td>JAPANESE</td>\n      <td>1 владелец</td>\n      <td>3 года и 4 месяца</td>\n      <td>Оригинал</td>\n      <td>передний</td>\n      <td>Правый</td>\n      <td>Не требует ремонта</td>\n      <td>Растаможен</td>\n    </tr>\n    <tr>\n      <th>13104</th>\n      <td>хэтчбек 5 дв.</td>\n      <td>NISSAN</td>\n      <td>https://auto.ru/cars/used/sale/nissan/leaf/109...</td>\n      <td>белый</td>\n      <td>NaN</td>\n      <td>\\n- за данную  цену продают без велюра и матов...</td>\n      <td>LTR</td>\n      <td>109 N12</td>\n      <td>{\"cruise-control\":true,\"esp\":true,\"adaptive-li...</td>\n      <td>электро</td>\n      <td>...</td>\n      <td>HATCHBACK_5_DOORS AUTOMATIC</td>\n      <td>автоматическая</td>\n      <td>JAPANESE</td>\n      <td>1 владелец</td>\n      <td>1 год</td>\n      <td>Оригинал</td>\n      <td>передний</td>\n      <td>Правый</td>\n      <td>Не требует ремонта</td>\n      <td>Растаможен</td>\n    </tr>\n    <tr>\n      <th>13105</th>\n      <td>хэтчбек 5 дв.</td>\n      <td>NISSAN</td>\n      <td>https://auto.ru/cars/used/sale/nissan/leaf/108...</td>\n      <td>серебристый</td>\n      <td>NaN</td>\n      <td>Новая резина. Куплена не в кредит. Не прокурен...</td>\n      <td>LTR</td>\n      <td>109 N12</td>\n      <td>{\"cruise-control\":true,\"tinted-glass\":true,\"st...</td>\n      <td>электро</td>\n      <td>...</td>\n      <td>HATCHBACK_5_DOORS AUTOMATIC</td>\n      <td>автоматическая</td>\n      <td>JAPANESE</td>\n      <td>1 владелец</td>\n      <td>2 года и 4 месяца</td>\n      <td>Оригинал</td>\n      <td>передний</td>\n      <td>Правый</td>\n      <td>Не требует ремонта</td>\n      <td>Растаможен</td>\n    </tr>\n    <tr>\n      <th>13478</th>\n      <td>хэтчбек 5 дв.</td>\n      <td>NISSAN</td>\n      <td>https://auto.ru/cars/used/sale/nissan/leaf/110...</td>\n      <td>красный</td>\n      <td>NaN</td>\n      <td>Aze0 30 кВт, SOH 77.5, 10 делений, я 1й владел...</td>\n      <td>LTR</td>\n      <td>109 N12</td>\n      <td>{\"cruise-control\":true,\"airbag-driver\":true,\"a...</td>\n      <td>электро</td>\n      <td>...</td>\n      <td>HATCHBACK_5_DOORS AUTOMATIC</td>\n      <td>автоматическая</td>\n      <td>JAPANESE</td>\n      <td>1 владелец</td>\n      <td>4 месяца</td>\n      <td>Оригинал</td>\n      <td>передний</td>\n      <td>Правый</td>\n      <td>Не требует ремонта</td>\n      <td>Растаможен</td>\n    </tr>\n    <tr>\n      <th>13633</th>\n      <td>хэтчбек 5 дв.</td>\n      <td>NISSAN</td>\n      <td>https://auto.ru/cars/used/sale/nissan/leaf/100...</td>\n      <td>синий</td>\n      <td>NaN</td>\n      <td>На машине стоит вебасто с термоколом. Управляе...</td>\n      <td>LTR</td>\n      <td>109 N12</td>\n      <td>NaN</td>\n      <td>электро</td>\n      <td>...</td>\n      <td>HATCHBACK_5_DOORS AUTOMATIC</td>\n      <td>автоматическая</td>\n      <td>JAPANESE</td>\n      <td>2 владельца</td>\n      <td>5 лет и 10 месяцев</td>\n      <td>Оригинал</td>\n      <td>передний</td>\n      <td>Левый</td>\n      <td>Не требует ремонта</td>\n      <td>Растаможен</td>\n    </tr>\n    <tr>\n      <th>13660</th>\n      <td>хэтчбек 5 дв.</td>\n      <td>NISSAN</td>\n      <td>https://auto.ru/cars/used/sale/nissan/leaf/109...</td>\n      <td>чёрный</td>\n      <td>NaN</td>\n      <td>Отличное состояние. Полная комплектация. Подро...</td>\n      <td>LTR</td>\n      <td>109 N12</td>\n      <td>{\"cruise-control\":true,\"tinted-glass\":true,\"es...</td>\n      <td>электро</td>\n      <td>...</td>\n      <td>HATCHBACK_5_DOORS AUTOMATIC</td>\n      <td>автоматическая</td>\n      <td>JAPANESE</td>\n      <td>1 владелец</td>\n      <td>1 год и 3 месяца</td>\n      <td>Оригинал</td>\n      <td>передний</td>\n      <td>Правый</td>\n      <td>Не требует ремонта</td>\n      <td>Растаможен</td>\n    </tr>\n    <tr>\n      <th>13720</th>\n      <td>хэтчбек 5 дв.</td>\n      <td>NISSAN</td>\n      <td>https://auto.ru/cars/used/sale/nissan/leaf/109...</td>\n      <td>красный</td>\n      <td>NaN</td>\n      <td>SOH 70 / 8 делений / отличный авто для города ...</td>\n      <td>LTR</td>\n      <td>109 N12</td>\n      <td>{\"electro-window-back\":true,\"esp\":true,\"start-...</td>\n      <td>электро</td>\n      <td>...</td>\n      <td>HATCHBACK_5_DOORS AUTOMATIC</td>\n      <td>автоматическая</td>\n      <td>JAPANESE</td>\n      <td>1 владелец</td>\n      <td>NaN</td>\n      <td>Оригинал</td>\n      <td>передний</td>\n      <td>Правый</td>\n      <td>Не требует ремонта</td>\n      <td>Растаможен</td>\n    </tr>\n    <tr>\n      <th>13812</th>\n      <td>хэтчбек 5 дв.</td>\n      <td>NISSAN</td>\n      <td>https://auto.ru/cars/used/sale/nissan/leaf/109...</td>\n      <td>голубой</td>\n      <td>NaN</td>\n      <td>Хозяин, владею два года, богатая комплектация,...</td>\n      <td>LTR</td>\n      <td>109 N12</td>\n      <td>NaN</td>\n      <td>электро</td>\n      <td>...</td>\n      <td>HATCHBACK_5_DOORS AUTOMATIC</td>\n      <td>автоматическая</td>\n      <td>JAPANESE</td>\n      <td>1 владелец</td>\n      <td>NaN</td>\n      <td>Оригинал</td>\n      <td>передний</td>\n      <td>Правый</td>\n      <td>Не требует ремонта</td>\n      <td>Растаможен</td>\n    </tr>\n    <tr>\n      <th>13915</th>\n      <td>хэтчбек 5 дв.</td>\n      <td>NISSAN</td>\n      <td>https://auto.ru/cars/used/sale/nissan/leaf/108...</td>\n      <td>красный</td>\n      <td>NaN</td>\n      <td>Правый руль.Батарея 30 кВт,Тепловой насос. (До...</td>\n      <td>LTR</td>\n      <td>109 N12</td>\n      <td>{\"cruise-control\":true,\"steel-wheels\":true,\"au...</td>\n      <td>электро</td>\n      <td>...</td>\n      <td>HATCHBACK_5_DOORS AUTOMATIC</td>\n      <td>автоматическая</td>\n      <td>JAPANESE</td>\n      <td>1 владелец</td>\n      <td>2 года и 4 месяца</td>\n      <td>Оригинал</td>\n      <td>передний</td>\n      <td>Правый</td>\n      <td>Не требует ремонта</td>\n      <td>Растаможен</td>\n    </tr>\n    <tr>\n      <th>13952</th>\n      <td>хэтчбек 5 дв.</td>\n      <td>NISSAN</td>\n      <td>https://auto.ru/cars/used/sale/nissan/leaf/110...</td>\n      <td>белый</td>\n      <td>NaN</td>\n      <td>Продается электро-автомобиль в хорошем состоян...</td>\n      <td>LTR</td>\n      <td>109 N12</td>\n      <td>{\"electro-window-back\":true,\"cruise-control\":t...</td>\n      <td>электро</td>\n      <td>...</td>\n      <td>HATCHBACK_5_DOORS AUTOMATIC</td>\n      <td>автоматическая</td>\n      <td>JAPANESE</td>\n      <td>1 владелец</td>\n      <td>11 месяцев</td>\n      <td>Оригинал</td>\n      <td>передний</td>\n      <td>Правый</td>\n      <td>Не требует ремонта</td>\n      <td>Растаможен</td>\n    </tr>\n    <tr>\n      <th>13989</th>\n      <td>хэтчбек 5 дв.</td>\n      <td>NISSAN</td>\n      <td>https://auto.ru/cars/used/sale/nissan/leaf/109...</td>\n      <td>чёрный</td>\n      <td>NaN</td>\n      <td>Только что привезен напрямую с аукциона в Япон...</td>\n      <td>LTR</td>\n      <td>109 N12</td>\n      <td>{\"electro-window-back\":true,\"16-inch-wheels\":t...</td>\n      <td>электро</td>\n      <td>...</td>\n      <td>HATCHBACK_5_DOORS AUTOMATIC</td>\n      <td>автоматическая</td>\n      <td>JAPANESE</td>\n      <td>1 владелец</td>\n      <td>11 месяцев</td>\n      <td>Оригинал</td>\n      <td>передний</td>\n      <td>Правый</td>\n      <td>Не требует ремонта</td>\n      <td>Растаможен</td>\n    </tr>\n    <tr>\n      <th>14147</th>\n      <td>хэтчбек 5 дв.</td>\n      <td>NISSAN</td>\n      <td>https://auto.ru/cars/used/sale/nissan/leaf/109...</td>\n      <td>серый</td>\n      <td>NaN</td>\n      <td>Продаю отличного лифа. Сох 69. Соответствует г...</td>\n      <td>LTR</td>\n      <td>109 N12</td>\n      <td>{\"glonass\":true,\"esp\":true,\"start-stop-functio...</td>\n      <td>электро</td>\n      <td>...</td>\n      <td>HATCHBACK_5_DOORS AUTOMATIC</td>\n      <td>автоматическая</td>\n      <td>JAPANESE</td>\n      <td>2 владельца</td>\n      <td>NaN</td>\n      <td>Оригинал</td>\n      <td>передний</td>\n      <td>Правый</td>\n      <td>Не требует ремонта</td>\n      <td>Растаможен</td>\n    </tr>\n    <tr>\n      <th>14419</th>\n      <td>хэтчбек 5 дв.</td>\n      <td>NISSAN</td>\n      <td>https://auto.ru/cars/used/sale/nissan/leaf/109...</td>\n      <td>серый</td>\n      <td>NaN</td>\n      <td>Причина продажи — хочу ZE1. Если сел на электр...</td>\n      <td>LTR</td>\n      <td>109 N12</td>\n      <td>{\"cruise-control\":true,\"asr\":true,\"esp\":true,\"...</td>\n      <td>электро</td>\n      <td>...</td>\n      <td>HATCHBACK_5_DOORS AUTOMATIC</td>\n      <td>автоматическая</td>\n      <td>JAPANESE</td>\n      <td>2 владельца</td>\n      <td>1 год и 1 месяц</td>\n      <td>Оригинал</td>\n      <td>передний</td>\n      <td>Правый</td>\n      <td>Не требует ремонта</td>\n      <td>Растаможен</td>\n    </tr>\n    <tr>\n      <th>23869</th>\n      <td>хэтчбек 5 дв.</td>\n      <td>VOLKSWAGEN</td>\n      <td>https://auto.ru/cars/used/sale/volkswagen/golf...</td>\n      <td>чёрный</td>\n      <td>NaN</td>\n      <td>Отличный, немецкий, полностью электрический ав...</td>\n      <td>LTR</td>\n      <td>115 N12</td>\n      <td>{\"cruise-control\":true,\"asr\":true,\"esp\":true,\"...</td>\n      <td>электро</td>\n      <td>...</td>\n      <td>HATCHBACK_5_DOORS AUTOMATIC</td>\n      <td>автоматическая</td>\n      <td>EUROPEAN</td>\n      <td>1 владелец</td>\n      <td>NaN</td>\n      <td>Оригинал</td>\n      <td>передний</td>\n      <td>Левый</td>\n      <td>Не требует ремонта</td>\n      <td>Растаможен</td>\n    </tr>\n    <tr>\n      <th>23948</th>\n      <td>хэтчбек 5 дв.</td>\n      <td>VOLKSWAGEN</td>\n      <td>https://auto.ru/cars/used/sale/volkswagen/golf...</td>\n      <td>белый</td>\n      <td>NaN</td>\n      <td>Внимание! Только для клиентов AVILON Автомобил...</td>\n      <td>LTR</td>\n      <td>115 N12</td>\n      <td>{\"cruise-control\":true,\"engine-proof\":true,\"es...</td>\n      <td>электро</td>\n      <td>...</td>\n      <td>HATCHBACK_5_DOORS AUTOMATIC</td>\n      <td>автоматическая</td>\n      <td>EUROPEAN</td>\n      <td>1 владелец</td>\n      <td>NaN</td>\n      <td>Оригинал</td>\n      <td>передний</td>\n      <td>Левый</td>\n      <td>Не требует ремонта</td>\n      <td>Растаможен</td>\n    </tr>\n    <tr>\n      <th>27064</th>\n      <td>хэтчбек 5 дв.</td>\n      <td>MITSUBISHI</td>\n      <td>https://auto.ru/cars/used/sale/mitsubishi/i_mi...</td>\n      <td>белый</td>\n      <td>NaN</td>\n      <td>Авто в идеальном состоянии.\\nНа днях пройдено ...</td>\n      <td>LTR</td>\n      <td>67 N12</td>\n      <td>NaN</td>\n      <td>электро</td>\n      <td>...</td>\n      <td>HATCHBACK_5_DOORS AUTOMATIC</td>\n      <td>автоматическая</td>\n      <td>JAPANESE</td>\n      <td>2 владельца</td>\n      <td>4 года</td>\n      <td>Оригинал</td>\n      <td>задний</td>\n      <td>Левый</td>\n      <td>Не требует ремонта</td>\n      <td>Растаможен</td>\n    </tr>\n    <tr>\n      <th>28241</th>\n      <td>хэтчбек 5 дв.</td>\n      <td>MITSUBISHI</td>\n      <td>https://auto.ru/cars/used/sale/mitsubishi/i_mi...</td>\n      <td>серебристый</td>\n      <td>NaN</td>\n      <td>Добрый день. Самая полная комплектация 16 Кват...</td>\n      <td>LTR</td>\n      <td>67 N12</td>\n      <td>NaN</td>\n      <td>электро</td>\n      <td>...</td>\n      <td>HATCHBACK_5_DOORS AUTOMATIC</td>\n      <td>автоматическая</td>\n      <td>JAPANESE</td>\n      <td>2 владельца</td>\n      <td>NaN</td>\n      <td>Оригинал</td>\n      <td>задний</td>\n      <td>Правый</td>\n      <td>Не требует ремонта</td>\n      <td>Растаможен</td>\n    </tr>\n    <tr>\n      <th>32668</th>\n      <td>хэтчбек 5 дв.</td>\n      <td>NISSAN</td>\n      <td>https://auto.ru/cars/used/sale/nissan/leaf/110...</td>\n      <td>чёрный</td>\n      <td>NaN</td>\n      <td>Абсолютно новый автомобиль, богатая комплектац...</td>\n      <td>LTR</td>\n      <td>150 N12</td>\n      <td>{\"cruise-control\":true,\"glonass\":true,\"ptf\":tr...</td>\n      <td>электро</td>\n      <td>...</td>\n      <td>HATCHBACK_5_DOORS AUTOMATIC</td>\n      <td>автоматическая</td>\n      <td>JAPANESE</td>\n      <td>1 владелец</td>\n      <td>1 год и 10 месяцев</td>\n      <td>Оригинал</td>\n      <td>передний</td>\n      <td>Левый</td>\n      <td>Не требует ремонта</td>\n      <td>Растаможен</td>\n    </tr>\n    <tr>\n      <th>32700</th>\n      <td>хэтчбек 5 дв.</td>\n      <td>NISSAN</td>\n      <td>https://auto.ru/cars/used/sale/nissan/leaf/110...</td>\n      <td>голубой</td>\n      <td>NaN</td>\n      <td>Оригинальный аукционный лист.Оценка 4 балла.  ...</td>\n      <td>LTR</td>\n      <td>109 N12</td>\n      <td>{\"cruise-control\":true,\"airbag-rear-side\":true...</td>\n      <td>электро</td>\n      <td>...</td>\n      <td>HATCHBACK_5_DOORS AUTOMATIC</td>\n      <td>автоматическая</td>\n      <td>JAPANESE</td>\n      <td>1 владелец</td>\n      <td>5 месяцев</td>\n      <td>Оригинал</td>\n      <td>передний</td>\n      <td>Правый</td>\n      <td>Не требует ремонта</td>\n      <td>Растаможен</td>\n    </tr>\n    <tr>\n      <th>32798</th>\n      <td>хэтчбек 5 дв.</td>\n      <td>NISSAN</td>\n      <td>https://auto.ru/cars/used/sale/nissan/leaf/109...</td>\n      <td>чёрный</td>\n      <td>NaN</td>\n      <td>Я хозяин. Вписан в ПТС.</td>\n      <td>LTR</td>\n      <td>109 N12</td>\n      <td>{\"tinted-glass\":true,\"esp\":true,\"start-stop-fu...</td>\n      <td>электро</td>\n      <td>...</td>\n      <td>HATCHBACK_5_DOORS AUTOMATIC</td>\n      <td>автоматическая</td>\n      <td>JAPANESE</td>\n      <td>1 владелец</td>\n      <td>NaN</td>\n      <td>Оригинал</td>\n      <td>передний</td>\n      <td>Правый</td>\n      <td>Не требует ремонта</td>\n      <td>Растаможен</td>\n    </tr>\n    <tr>\n      <th>34159</th>\n      <td>хэтчбек 5 дв.</td>\n      <td>MERCEDES</td>\n      <td>https://auto.ru/cars/used/sale/mercedes/b_klas...</td>\n      <td>белый</td>\n      <td>NaN</td>\n      <td>Автомобиль куплен в Германии (европейская верс...</td>\n      <td>LTR</td>\n      <td>179 N12</td>\n      <td>{\"cruise-control\":true,\"airbag-driver\":true,\"a...</td>\n      <td>электро</td>\n      <td>...</td>\n      <td>HATCHBACK_5_DOORS AUTOMATIC</td>\n      <td>автоматическая</td>\n      <td>EUROPEAN</td>\n      <td>2 владельца</td>\n      <td>10 месяцев</td>\n      <td>Оригинал</td>\n      <td>передний</td>\n      <td>Левый</td>\n      <td>Не требует ремонта</td>\n      <td>Растаможен</td>\n    </tr>\n    <tr>\n      <th>34504</th>\n      <td>хэтчбек 5 дв.</td>\n      <td>NISSAN</td>\n      <td>https://auto.ru/cars/used/sale/nissan/leaf/110...</td>\n      <td>чёрный</td>\n      <td>NaN</td>\n      <td>В отличном состоянии вложений не требует.</td>\n      <td>LTR</td>\n      <td>109 N12</td>\n      <td>{\"alloy-wheel-disks\":true,\"tinted-glass\":true,...</td>\n      <td>электро</td>\n      <td>...</td>\n      <td>HATCHBACK_5_DOORS AUTOMATIC</td>\n      <td>автоматическая</td>\n      <td>JAPANESE</td>\n      <td>2 владельца</td>\n      <td>2 года и 1 месяц</td>\n      <td>Оригинал</td>\n      <td>передний</td>\n      <td>Правый</td>\n      <td>Не требует ремонта</td>\n      <td>Растаможен</td>\n    </tr>\n  </tbody>\n</table>\n<p>55 rows × 32 columns</p>\n</div>"
     },
     "execution_count": 24,
     "metadata": {},
     "output_type": "execute_result"
    }
   ],
   "source": [
    "df_test[df_test['fuelType']=='электро']"
   ],
   "metadata": {
    "collapsed": false,
    "pycharm": {
     "name": "#%%\n"
    }
   }
  },
  {
   "cell_type": "code",
   "execution_count": 3,
   "outputs": [
    {
     "data": {
      "text/plain": "Бензин          22927\nДизель           8004\nГибрид           1376\nоборудование      251\nГаз                66\nName: fuelType, dtype: int64"
     },
     "execution_count": 3,
     "metadata": {},
     "output_type": "execute_result"
    }
   ],
   "source": [
    "df_parsed['fuelType'].value_counts()"
   ],
   "metadata": {
    "collapsed": false,
    "pycharm": {
     "name": "#%%\n"
    }
   }
  },
  {
   "cell_type": "markdown",
   "source": [
    "Unfortunately we have no electro car here, but we have a little of them in test set. We'll parse them again and add to combined train set."
   ],
   "metadata": {
    "collapsed": false,
    "pycharm": {
     "name": "#%% md\n"
    }
   }
  },
  {
   "cell_type": "code",
   "execution_count": 13,
   "outputs": [
    {
     "data": {
      "text/plain": "   №           bodyType brand  \\\n0  0  внедорожник 5 дв.  AUDI   \n1  1  внедорожник 5 дв.  AUDI   \n2  2  внедорожник 5 дв.  AUDI   \n3  3  внедорожник 5 дв.  AUDI   \n4  4  внедорожник 5 дв.  AUDI   \n\n                                             car_url   color  \\\n0  https://auto.ru/cars/used/sale/audi/e_tron_spo...   белый   \n1  https://auto.ru/cars/used/sale/audi/q4/1106535...   серый   \n2  https://auto.ru/cars/used/sale/audi/e_tron_s_s...   синий   \n3  https://auto.ru/cars/used/sale/audi/e_tron/111...  чёрный   \n4  https://auto.ru/cars/used/sale/audi/e_tron_spo...  чёрный   \n\n                                  complectation_dict  \\\n0  {'id': '22760877', 'name': 'Sport 55 quattro',...   \n1                                        {'id': '0'}   \n2  {'id': '23050466', 'name': 'Quattro', 'availab...   \n3  {'id': '22291462', 'name': 'Design 55 quattro'...   \n4  {'id': '22760308', 'name': '55 quattro', 'avai...   \n\n                                         description  engineDisplacement  \\\n0  Будь одним из первых обладателей электрической...                 NaN   \n1  Самый новый и самый топовый E-TRON Q4 !!!\\r\\nТ...                 NaN   \n2  Новый авто из Германии, полностью растаможен, ...                 NaN   \n3  Автомобиль приобретен и обслуживался у официал...                 NaN   \n4  Автомобиль продается компанией Автопремьер-Соч...                 NaN   \n\n   enginePower                                     equipment_dict  ...  \\\n0        408.0  {'cruise-control': True, 'asr': True, 'esp': T...  ...   \n1        170.0  {'usb': True, 'aux': True, 'projection-display...  ...   \n2        503.0  {'sport-seats': True, 'e-adjustment-wheel': Tr...  ...   \n3        408.0  {'e-adjustment-wheel': True, 'multi-wheel': Tr...  ...   \n4        408.0  {'cruise-control': True, 'asr': True, 'esp': T...  ...   \n\n  vehicleTransmission vendor   Владельцы  Владение       ПТС  Привод   Руль  \\\n0      автоматическая    NaN  1 владелец       NaN  Оригинал  полный  Левый   \n1      автоматическая    NaN  1 владелец  2 месяца  Оригинал  задний  Левый   \n2      автоматическая    NaN  1 владелец       NaN  Оригинал  полный  Левый   \n3      автоматическая    NaN  1 владелец       NaN  Оригинал  полный  Левый   \n4      автоматическая    NaN  1 владелец       NaN  Оригинал  полный  Левый   \n\n            Состояние     Таможня       Price  \n0  Не требует ремонта  Растаможен   8860000.0  \n1  Не требует ремонта  Растаможен   8170000.0  \n2  Не требует ремонта  Растаможен  11430000.0  \n3  Не требует ремонта  Растаможен  10780000.0  \n4  Не требует ремонта  Растаможен   8310000.0  \n\n[5 rows x 34 columns]",
      "text/html": "<div>\n<style scoped>\n    .dataframe tbody tr th:only-of-type {\n        vertical-align: middle;\n    }\n\n    .dataframe tbody tr th {\n        vertical-align: top;\n    }\n\n    .dataframe thead th {\n        text-align: right;\n    }\n</style>\n<table border=\"1\" class=\"dataframe\">\n  <thead>\n    <tr style=\"text-align: right;\">\n      <th></th>\n      <th>№</th>\n      <th>bodyType</th>\n      <th>brand</th>\n      <th>car_url</th>\n      <th>color</th>\n      <th>complectation_dict</th>\n      <th>description</th>\n      <th>engineDisplacement</th>\n      <th>enginePower</th>\n      <th>equipment_dict</th>\n      <th>...</th>\n      <th>vehicleTransmission</th>\n      <th>vendor</th>\n      <th>Владельцы</th>\n      <th>Владение</th>\n      <th>ПТС</th>\n      <th>Привод</th>\n      <th>Руль</th>\n      <th>Состояние</th>\n      <th>Таможня</th>\n      <th>Price</th>\n    </tr>\n  </thead>\n  <tbody>\n    <tr>\n      <th>0</th>\n      <td>0</td>\n      <td>внедорожник 5 дв.</td>\n      <td>AUDI</td>\n      <td>https://auto.ru/cars/used/sale/audi/e_tron_spo...</td>\n      <td>белый</td>\n      <td>{'id': '22760877', 'name': 'Sport 55 quattro',...</td>\n      <td>Будь одним из первых обладателей электрической...</td>\n      <td>NaN</td>\n      <td>408.0</td>\n      <td>{'cruise-control': True, 'asr': True, 'esp': T...</td>\n      <td>...</td>\n      <td>автоматическая</td>\n      <td>NaN</td>\n      <td>1 владелец</td>\n      <td>NaN</td>\n      <td>Оригинал</td>\n      <td>полный</td>\n      <td>Левый</td>\n      <td>Не требует ремонта</td>\n      <td>Растаможен</td>\n      <td>8860000.0</td>\n    </tr>\n    <tr>\n      <th>1</th>\n      <td>1</td>\n      <td>внедорожник 5 дв.</td>\n      <td>AUDI</td>\n      <td>https://auto.ru/cars/used/sale/audi/q4/1106535...</td>\n      <td>серый</td>\n      <td>{'id': '0'}</td>\n      <td>Самый новый и самый топовый E-TRON Q4 !!!\\r\\nТ...</td>\n      <td>NaN</td>\n      <td>170.0</td>\n      <td>{'usb': True, 'aux': True, 'projection-display...</td>\n      <td>...</td>\n      <td>автоматическая</td>\n      <td>NaN</td>\n      <td>1 владелец</td>\n      <td>2 месяца</td>\n      <td>Оригинал</td>\n      <td>задний</td>\n      <td>Левый</td>\n      <td>Не требует ремонта</td>\n      <td>Растаможен</td>\n      <td>8170000.0</td>\n    </tr>\n    <tr>\n      <th>2</th>\n      <td>2</td>\n      <td>внедорожник 5 дв.</td>\n      <td>AUDI</td>\n      <td>https://auto.ru/cars/used/sale/audi/e_tron_s_s...</td>\n      <td>синий</td>\n      <td>{'id': '23050466', 'name': 'Quattro', 'availab...</td>\n      <td>Новый авто из Германии, полностью растаможен, ...</td>\n      <td>NaN</td>\n      <td>503.0</td>\n      <td>{'sport-seats': True, 'e-adjustment-wheel': Tr...</td>\n      <td>...</td>\n      <td>автоматическая</td>\n      <td>NaN</td>\n      <td>1 владелец</td>\n      <td>NaN</td>\n      <td>Оригинал</td>\n      <td>полный</td>\n      <td>Левый</td>\n      <td>Не требует ремонта</td>\n      <td>Растаможен</td>\n      <td>11430000.0</td>\n    </tr>\n    <tr>\n      <th>3</th>\n      <td>3</td>\n      <td>внедорожник 5 дв.</td>\n      <td>AUDI</td>\n      <td>https://auto.ru/cars/used/sale/audi/e_tron/111...</td>\n      <td>чёрный</td>\n      <td>{'id': '22291462', 'name': 'Design 55 quattro'...</td>\n      <td>Автомобиль приобретен и обслуживался у официал...</td>\n      <td>NaN</td>\n      <td>408.0</td>\n      <td>{'e-adjustment-wheel': True, 'multi-wheel': Tr...</td>\n      <td>...</td>\n      <td>автоматическая</td>\n      <td>NaN</td>\n      <td>1 владелец</td>\n      <td>NaN</td>\n      <td>Оригинал</td>\n      <td>полный</td>\n      <td>Левый</td>\n      <td>Не требует ремонта</td>\n      <td>Растаможен</td>\n      <td>10780000.0</td>\n    </tr>\n    <tr>\n      <th>4</th>\n      <td>4</td>\n      <td>внедорожник 5 дв.</td>\n      <td>AUDI</td>\n      <td>https://auto.ru/cars/used/sale/audi/e_tron_spo...</td>\n      <td>чёрный</td>\n      <td>{'id': '22760308', 'name': '55 quattro', 'avai...</td>\n      <td>Автомобиль продается компанией Автопремьер-Соч...</td>\n      <td>NaN</td>\n      <td>408.0</td>\n      <td>{'cruise-control': True, 'asr': True, 'esp': T...</td>\n      <td>...</td>\n      <td>автоматическая</td>\n      <td>NaN</td>\n      <td>1 владелец</td>\n      <td>NaN</td>\n      <td>Оригинал</td>\n      <td>полный</td>\n      <td>Левый</td>\n      <td>Не требует ремонта</td>\n      <td>Растаможен</td>\n      <td>8310000.0</td>\n    </tr>\n  </tbody>\n</table>\n<p>5 rows × 34 columns</p>\n</div>"
     },
     "metadata": {},
     "output_type": "display_data"
    },
    {
     "name": "stdout",
     "output_type": "stream",
     "text": [
      "<class 'pandas.core.frame.DataFrame'>\n",
      "RangeIndex: 136 entries, 0 to 135\n",
      "Data columns (total 34 columns):\n",
      " #   Column                Non-Null Count  Dtype  \n",
      "---  ------                --------------  -----  \n",
      " 0   №                     136 non-null    int64  \n",
      " 1   bodyType              133 non-null    object \n",
      " 2   brand                 133 non-null    object \n",
      " 3   car_url               136 non-null    object \n",
      " 4   color                 133 non-null    object \n",
      " 5   complectation_dict    133 non-null    object \n",
      " 6   description           133 non-null    object \n",
      " 7   engineDisplacement    13 non-null     float64\n",
      " 8   enginePower           133 non-null    float64\n",
      " 9   equipment_dict        133 non-null    object \n",
      " 10  fuelType              133 non-null    object \n",
      " 11  image                 126 non-null    object \n",
      " 12  mileage               133 non-null    float64\n",
      " 13  modelDate             133 non-null    float64\n",
      " 14  model_info            133 non-null    object \n",
      " 15  model_name            133 non-null    object \n",
      " 16  name                  133 non-null    object \n",
      " 17  numberOfDoors         133 non-null    float64\n",
      " 18  parsing_unixtime      136 non-null    int64  \n",
      " 19  priceCurrency         133 non-null    object \n",
      " 20  productionDate        133 non-null    float64\n",
      " 21  sell_id               0 non-null      float64\n",
      " 22  super_gen             133 non-null    object \n",
      " 23  vehicleConfiguration  0 non-null      float64\n",
      " 24  vehicleTransmission   133 non-null    object \n",
      " 25  vendor                0 non-null      float64\n",
      " 26  Владельцы             133 non-null    object \n",
      " 27  Владение              56 non-null     object \n",
      " 28  ПТС                   133 non-null    object \n",
      " 29  Привод                133 non-null    object \n",
      " 30  Руль                  133 non-null    object \n",
      " 31  Состояние             133 non-null    object \n",
      " 32  Таможня               133 non-null    object \n",
      " 33  Price                 132 non-null    float64\n",
      "dtypes: float64(10), int64(2), object(22)\n",
      "memory usage: 24.5+ KB\n"
     ]
    },
    {
     "data": {
      "text/plain": "(136, 34)"
     },
     "execution_count": 13,
     "metadata": {},
     "output_type": "execute_result"
    }
   ],
   "source": [
    "df_parsed_electro = pd.read_csv(f'{DATA_DIR}/parsed_car_electro_data__13_16__06_02_2022.csv')\n",
    "display(df_parsed_electro.head())\n",
    "df_parsed_electro.info()\n",
    "df_parsed_electro.shape"
   ],
   "metadata": {
    "collapsed": false,
    "pycharm": {
     "name": "#%%\n"
    }
   }
  },
  {
   "cell_type": "code",
   "execution_count": 15,
   "outputs": [],
   "source": [
    "# combine parsed data for non-electro and electro cars\n",
    "df_parsed.append(df_parsed_electro, ignore_index=True).to_csv(f'{DATA_DIR}/parsed_car_data_all__06_02_2022.csv',index=False)"
   ],
   "metadata": {
    "collapsed": false,
    "pycharm": {
     "name": "#%%\n"
    }
   }
  },
  {
   "cell_type": "code",
   "execution_count": 17,
   "outputs": [
    {
     "name": "stdout",
     "output_type": "stream",
     "text": [
      "<class 'pandas.core.frame.DataFrame'>\n",
      "RangeIndex: 42441 entries, 0 to 42440\n",
      "Data columns (total 34 columns):\n",
      " #   Column                Non-Null Count  Dtype  \n",
      "---  ------                --------------  -----  \n",
      " 0   №                     42441 non-null  int64  \n",
      " 1   bodyType              33328 non-null  object \n",
      " 2   brand                 41768 non-null  object \n",
      " 3   car_url               42441 non-null  object \n",
      " 4   color                 41768 non-null  object \n",
      " 5   complectation_dict    38643 non-null  object \n",
      " 6   description           41768 non-null  object \n",
      " 7   engineDisplacement    32637 non-null  float64\n",
      " 8   enginePower           32757 non-null  float64\n",
      " 9   equipment_dict        41685 non-null  object \n",
      " 10  fuelType              32757 non-null  object \n",
      " 11  image                 30738 non-null  object \n",
      " 12  mileage               33328 non-null  float64\n",
      " 13  modelDate             40194 non-null  float64\n",
      " 14  model_info            41685 non-null  object \n",
      " 15  model_name            41685 non-null  object \n",
      " 16  name                  40194 non-null  object \n",
      " 17  numberOfDoors         41685 non-null  float64\n",
      " 18  parsing_unixtime      42441 non-null  int64  \n",
      " 19  priceCurrency         41768 non-null  object \n",
      " 20  productionDate        41768 non-null  float64\n",
      " 21  sell_id               0 non-null      float64\n",
      " 22  super_gen             41685 non-null  object \n",
      " 23  vehicleConfiguration  0 non-null      float64\n",
      " 24  vehicleTransmission   33328 non-null  object \n",
      " 25  vendor                0 non-null      float64\n",
      " 26  Владельцы             33328 non-null  object \n",
      " 27  Владение              6173 non-null   object \n",
      " 28  ПТС                   33328 non-null  object \n",
      " 29  Привод                33328 non-null  object \n",
      " 30  Руль                  33328 non-null  object \n",
      " 31  Состояние             33321 non-null  object \n",
      " 32  Таможня               33317 non-null  object \n",
      " 33  Price                 37790 non-null  float64\n",
      "dtypes: float64(10), int64(2), object(22)\n",
      "memory usage: 7.4+ MB\n"
     ]
    }
   ],
   "source": [
    "df_parsed_all = pd.read_csv(f'{DATA_DIR}/parsed_car_data_all__06_02_2022.csv')\n",
    "df_parsed_all.info()"
   ],
   "metadata": {
    "collapsed": false,
    "pycharm": {
     "name": "#%%\n"
    }
   }
  },
  {
   "cell_type": "markdown",
   "source": [
    "## Trials"
   ],
   "metadata": {
    "collapsed": false,
    "pycharm": {
     "name": "#%% md\n"
    }
   }
  },
  {
   "cell_type": "code",
   "execution_count": null,
   "outputs": [],
   "source": [],
   "metadata": {
    "collapsed": false,
    "pycharm": {
     "name": "#%%\n"
    }
   }
  }
 ],
 "metadata": {
  "kernelspec": {
   "display_name": "Python 3",
   "language": "python",
   "name": "python3"
  },
  "language_info": {
   "codemirror_mode": {
    "name": "ipython",
    "version": 2
   },
   "file_extension": ".py",
   "mimetype": "text/x-python",
   "name": "python",
   "nbconvert_exporter": "python",
   "pygments_lexer": "ipython2",
   "version": "2.7.6"
  }
 },
 "nbformat": 4,
 "nbformat_minor": 0
}