{
 "cells": [
  {
   "cell_type": "markdown",
   "metadata": {
    "collapsed": true,
    "pycharm": {
     "name": "#%% md\n"
    }
   },
   "source": [
    "# Parsing train data from auto.ru for car price prediction"
   ]
  },
  {
   "cell_type": "markdown",
   "source": [
    "## Import"
   ],
   "metadata": {
    "collapsed": false,
    "pycharm": {
     "name": "#%% md\n"
    }
   }
  },
  {
   "cell_type": "code",
   "execution_count": 1,
   "outputs": [
    {
     "name": "stdout",
     "output_type": "stream",
     "text": [
      "Import is completed.\n"
     ]
    }
   ],
   "source": [
    "# import\n",
    "import time\n",
    "from collections.abc import Iterable\n",
    "from collections.abc import Sequence\n",
    "\n",
    "import pandas as pd\n",
    "import numpy as np\n",
    "\n",
    "import requests\n",
    "from bs4 import BeautifulSoup\n",
    "from selenium import webdriver\n",
    "from selenium.webdriver.firefox.webdriver import WebDriver\n",
    "import asyncio\n",
    "import aiohttp\n",
    "import json\n",
    "import re\n",
    "\n",
    "import pprint as pp\n",
    "from IPython.display import display\n",
    "\n",
    "print('Import is completed.')"
   ],
   "metadata": {
    "collapsed": false,
    "pycharm": {
     "name": "#%%\n"
    }
   }
  },
  {
   "cell_type": "markdown",
   "source": [
    "## Functions"
   ],
   "metadata": {
    "collapsed": false,
    "pycharm": {
     "name": "#%% md\n"
    }
   }
  },
  {
   "cell_type": "code",
   "execution_count": 74,
   "outputs": [],
   "source": [
    "def copy_dict_values(dict_src: dict, dict_dst: dict, keys: Iterable, default_val = None):\n",
    "    \"\"\"Copy values for specified keys from one dictionary to another (with default value if necessary).\n",
    "\n",
    "    :param dict_src: Source dictionary\n",
    "    :param dict_dst: Destination dictionary\n",
    "    :param keys: List or any iterable of keys we want to copy between dicts\n",
    "    :param default_val: Default value for missing key\n",
    "    :return: None\n",
    "    \"\"\"\n",
    "    for key in keys:\n",
    "        dict_dst[key] = dict_src.get(key, default_val)\n",
    "\n",
    "\n",
    "# noinspection PyBroadException\n",
    "def parse_car_data(car_url:str, content, features_to_extract:Iterable):\n",
    "    \"\"\"Parse data from car ad page content trying to be as (reasonably) close to test set as possible.\"\"\"\n",
    "\n",
    "    car_data = {}\n",
    "\n",
    "    car_page = BeautifulSoup(content, 'html.parser')\n",
    "\n",
    "    # 'bodyType'\n",
    "    try: car_data['bodyType'] = car_page.find('li', class_='CardInfoRow CardInfoRow_bodytype').find('a', class_='Link Link_color_black').string\n",
    "    except: pass\n",
    "\n",
    "    # get info from script\n",
    "    try:\n",
    "        # 'brand', 'color', 'description',  'productionDate' and 'priceCurrency'\n",
    "        ld_json_scripts = car_page.find_all('script', type=\"application/ld+json\")\n",
    "        for script in ld_json_scripts:\n",
    "            cur_json = json.loads(script.string)\n",
    "            if cur_json['@type'] == 'https://schema.org/Product':\n",
    "                copy_dict_values(cur_json, car_data, ['brand', 'color', 'description', 'productionDate'], default_val=None)\n",
    "                car_data['priceCurrency'] = cur_json['offers']['priceCurrency']\n",
    "                break\n",
    "    except:\n",
    "        pass\n",
    "\n",
    "    # 'car_url'\n",
    "    car_data['car_url'] = car_url\n",
    "\n",
    "    # engine info\n",
    "    try:\n",
    "        engine_texts = car_page.find('li', class_='CardInfoRow CardInfoRow_engine').find('div').text.split()\n",
    "\n",
    "        # 'engineDisplacement'\n",
    "        try: car_data['engineDisplacement'] = engine_texts[0]\n",
    "        except: pass\n",
    "\n",
    "        # 'enginePower'\n",
    "        try: car_data['enginePower'] = engine_texts[3]\n",
    "        except: pass\n",
    "\n",
    "        # 'fuelType'\n",
    "        try: car_data['fuelType'] = engine_texts[-1]\n",
    "        except: pass\n",
    "    except:\n",
    "        pass\n",
    "\n",
    "    # get info from state script\n",
    "    try:\n",
    "        json_script_state = json.loads(car_page.find('script', type=\"application/json\", id='initial-state').string)\n",
    "\n",
    "        # 'complectation_dict'\n",
    "        try: car_data['complectation_dict'] = str(json_script_state['card']['vehicle_info']['complectation'])\n",
    "        except: pass\n",
    "\n",
    "        # 'equipment_dict'\n",
    "        try: car_data['equipment_dict'] = str(json_script_state['card']['vehicle_info']['equipment'])\n",
    "        except: pass\n",
    "\n",
    "        # 'super_gen'\n",
    "        try: car_data['super_gen'] = str(json_script_state['card']['vehicle_info']['tech_param'])\n",
    "        except: pass\n",
    "\n",
    "        # 'modelDate'\n",
    "        try: car_data['modelDate'] = json_script_state['card']['vehicle_info']['super_gen']['year_from']\n",
    "        except: pass\n",
    "\n",
    "        # 'model_info'\n",
    "        try: car_data['model_info'] = str(json_script_state['card']['vehicle_info']['model_info'])\n",
    "        except: pass\n",
    "\n",
    "        # 'model_name' (no sense but let's just add to be more like test set)\n",
    "        try: car_data['model_name'] = json_script_state['card']['vehicle_info']['model_info']['code']\n",
    "        except: pass\n",
    "\n",
    "        # 'name' (no sense but let's just add to be more like test set)\n",
    "        try: car_data['name'] = json_script_state['card']['vehicle_info']['tech_param']['human_name']\n",
    "        except: pass\n",
    "\n",
    "        # 'numberOfDoors'\n",
    "        try: car_data['numberOfDoors'] = json_script_state['card']['vehicle_info']['configuration']['doors_count']\n",
    "        except: pass\n",
    "    except:\n",
    "        pass\n",
    "\n",
    "    # 'image'\n",
    "    try: car_data['image'] = 'https:' + car_page.select('link[as=image]')[0]['href']\n",
    "    except: pass\n",
    "\n",
    "    # 'mileage'\n",
    "    try: car_data['mileage'] = ''.join(re.findall('\\d',car_page.find('li', class_='CardInfoRow CardInfoRow_kmAge').find_all('span')[1].string))\n",
    "    except: pass\n",
    "\n",
    "    # 'parsing_unixtime'\n",
    "    car_data['parsing_unixtime'] = int(time.time())\n",
    "\n",
    "    # 'vehicleTransmission',\n",
    "    try: car_data['vehicleTransmission'] = car_page.find('li', class_='CardInfoRow CardInfoRow_transmission').find_all('span')[1].string\n",
    "    except: pass\n",
    "\n",
    "    # 'Владельцы'\n",
    "    try: car_data['Владельцы'] = car_page.find('li', class_='CardInfoRow CardInfoRow_ownersCount').find_all('span')[1].text.replace(u'\\xa0', u' ')\n",
    "    except: pass\n",
    "\n",
    "    # 'Владение'\n",
    "    try: car_data['Владение'] = car_page.find('li', class_='CardInfoRow CardInfoRow_owningTime').find_all('span')[1].text\n",
    "    except: pass\n",
    "\n",
    "    # 'ПТС'\n",
    "    try: car_data['ПТС'] = car_page.find('li', class_='CardInfoRow CardInfoRow_pts').find_all('span')[1].text\n",
    "    except: pass\n",
    "\n",
    "    # 'Привод'\n",
    "    try: car_data['Привод'] = car_page.find('li', class_='CardInfoRow CardInfoRow_drive').find_all('span')[1].text\n",
    "    except: pass\n",
    "\n",
    "    # 'Руль'\n",
    "    try: car_data['Руль'] = car_page.find('li', class_='CardInfoRow CardInfoRow_wheel').find_all('span')[1].text\n",
    "    except: pass\n",
    "\n",
    "    # 'Состояние'\n",
    "    try: car_data['Состояние'] = car_page.find('li', class_='CardInfoRow CardInfoRow_state').find_all('span')[1].text\n",
    "    except: pass\n",
    "\n",
    "    # 'Таможня'\n",
    "    try: car_data['Таможня'] = car_page.find('li', class_='CardInfoRow CardInfoRow_customs').find_all('span')[1].text\n",
    "    except: pass\n",
    "\n",
    "    # 'sell_id'\n",
    "    # no need for training\n",
    "\n",
    "    # 'vehicleConfiguration'\n",
    "    # all this information is presented in other features - no need for train\n",
    "\n",
    "    # 'vendor'\n",
    "    # not found such info on site, but we can easily infer it later from test set\n",
    "\n",
    "    # add price column\n",
    "    try: car_data['Price'] = ''.join(re.findall('\\d', car_page.find('span', class_='OfferPriceCaption__price').text))\n",
    "    except: pass\n",
    "\n",
    "    # fill not extracted features with None and rearrange output dict keys to follow test set format\n",
    "    output_dict = {}\n",
    "    for feature in features_to_extract+['Price']:\n",
    "        if feature in car_data:\n",
    "            output_dict[feature] = car_data[feature]\n",
    "        else:\n",
    "            output_dict[feature] = None\n",
    "\n",
    "    return output_dict\n",
    "\n",
    "def init_webdriver():\n",
    "    \"\"\"Webdriver initialization function. Configure webdriver to ensure correct car ads parsing.\"\"\"\n",
    "\n",
    "    # disable geolocation\n",
    "    geoDisabled = webdriver.FirefoxOptions()\n",
    "    geoDisabled.set_preference(\"geo.enabled\", False)\n",
    "    geoDisabled.set_preference(\"geo.provider.use_corelocation\", False)\n",
    "    geoDisabled.set_preference(\"geo.prompt.testing\", False)\n",
    "    geoDisabled.set_preference(\"geo.prompt.testing.allow\", False)\n",
    "\n",
    "    return webdriver.Firefox(options=geoDisabled)\n",
    "\n",
    "def parse_car_urls(brand:str, driver:WebDriver):\n",
    "    \"\"\"Collect all car ad urls for specific brand via specific driver.\"\"\"\n",
    "\n",
    "    brand_url = f'https://auto.ru/cars/{brand}/all/'\n",
    "    driver.get(brand_url)\n",
    "    brand_page = BeautifulSoup(driver.page_source, 'html.parser')\n",
    "\n",
    "    # get number of pages for brand\n",
    "    num_pages = int(brand_page.find('span', class_='ControlGroup ControlGroup_responsive_no ControlGroup_size_s ListingPagination__pages') \\\n",
    "                                .find_all('a')[-1].text)\n",
    "    car_urls = []\n",
    "    for page_idx in range(1,num_pages+1):\n",
    "        print(f'Brand \\'{brand}\\' (page {page_idx} from {num_pages})', end='\\r', flush=True)\n",
    "        page_url = brand_url + f'?page={page_idx}'\n",
    "        driver.get(page_url)\n",
    "        cur_page = BeautifulSoup(driver.page_source, 'html.parser')\n",
    "        car_links = cur_page.find_all('a', class_='Link ListingItemTitle__link')\n",
    "        car_urls.extend([link['href'] for link in car_links])\n",
    "\n",
    "        time.sleep(1)\n",
    "\n",
    "    print('')\n",
    "\n",
    "    return car_urls"
   ],
   "metadata": {
    "collapsed": false,
    "pycharm": {
     "name": "#%%\n"
    }
   }
  },
  {
   "cell_type": "code",
   "execution_count": 3,
   "outputs": [
    {
     "data": {
      "text/plain": "  bodyType  brand                                            car_url  \\\n0  лифтбек  SKODA  https://auto.ru/cars/used/sale/skoda/octavia/1...   \n1  лифтбек  SKODA  https://auto.ru/cars/used/sale/skoda/octavia/1...   \n2  лифтбек  SKODA  https://auto.ru/cars/used/sale/skoda/superb/11...   \n3  лифтбек  SKODA  https://auto.ru/cars/used/sale/skoda/octavia/1...   \n4  лифтбек  SKODA  https://auto.ru/cars/used/sale/skoda/octavia/1...   \n\n        color                                 complectation_dict  \\\n0       синий                                                NaN   \n1      чёрный                                                NaN   \n2       серый  {\"id\":\"20026336\",\"name\":\"Ambition\",\"available_...   \n3  коричневый  {\"id\":\"20803582\",\"name\":\"Ambition\",\"available_...   \n4       белый                                                NaN   \n\n                                         description engineDisplacement  \\\n0  Все автомобили, представленные в продаже, прох...            1.2 LTR   \n1  ЛОТ: 01217195\\nАвтопрага Север\\nДанный автомоб...            1.6 LTR   \n2  Все автомобили, представленные в продаже, прох...            1.8 LTR   \n3  КОМПЛЕКТ ЗИМНЕЙ (ЛЕТНЕЙ) РЕЗИНЫ ПО СЕЗОНУ В ПО...            1.6 LTR   \n4  ЛОТ: 01220889\\nАвтопрага Север\\n\\nВы можете по...            1.8 LTR   \n\n  enginePower                                     equipment_dict fuelType  \\\n0     105 N12  {\"engine-proof\":true,\"tinted-glass\":true,\"airb...   бензин   \n1     110 N12  {\"cruise-control\":true,\"asr\":true,\"esp\":true,\"...   бензин   \n2     152 N12  {\"cruise-control\":true,\"tinted-glass\":true,\"es...   бензин   \n3     110 N12  {\"cruise-control\":true,\"roller-blind-for-rear-...   бензин   \n4     152 N12  {\"cruise-control\":true,\"asr\":true,\"esp\":true,\"...   бензин   \n\n   ...     vehicleConfiguration  vehicleTransmission    vendor    Владельцы  \\\n0  ...       LIFTBACK ROBOT 1.2     роботизированная  EUROPEAN  3 или более   \n1  ...  LIFTBACK MECHANICAL 1.6         механическая  EUROPEAN   1 владелец   \n2  ...       LIFTBACK ROBOT 1.8     роботизированная  EUROPEAN   1 владелец   \n3  ...   LIFTBACK AUTOMATIC 1.6       автоматическая  EUROPEAN   1 владелец   \n4  ...   LIFTBACK AUTOMATIC 1.8       автоматическая  EUROPEAN   1 владелец   \n\n  Владение       ПТС    Привод   Руль           Состояние     Таможня  \n0      NaN  Оригинал  передний  Левый  Не требует ремонта  Растаможен  \n1      NaN  Оригинал  передний  Левый  Не требует ремонта  Растаможен  \n2      NaN  Оригинал  передний  Левый  Не требует ремонта  Растаможен  \n3      NaN  Оригинал  передний  Левый  Не требует ремонта  Растаможен  \n4      NaN  Оригинал  передний  Левый  Не требует ремонта  Растаможен  \n\n[5 rows x 32 columns]",
      "text/html": "<div>\n<style scoped>\n    .dataframe tbody tr th:only-of-type {\n        vertical-align: middle;\n    }\n\n    .dataframe tbody tr th {\n        vertical-align: top;\n    }\n\n    .dataframe thead th {\n        text-align: right;\n    }\n</style>\n<table border=\"1\" class=\"dataframe\">\n  <thead>\n    <tr style=\"text-align: right;\">\n      <th></th>\n      <th>bodyType</th>\n      <th>brand</th>\n      <th>car_url</th>\n      <th>color</th>\n      <th>complectation_dict</th>\n      <th>description</th>\n      <th>engineDisplacement</th>\n      <th>enginePower</th>\n      <th>equipment_dict</th>\n      <th>fuelType</th>\n      <th>...</th>\n      <th>vehicleConfiguration</th>\n      <th>vehicleTransmission</th>\n      <th>vendor</th>\n      <th>Владельцы</th>\n      <th>Владение</th>\n      <th>ПТС</th>\n      <th>Привод</th>\n      <th>Руль</th>\n      <th>Состояние</th>\n      <th>Таможня</th>\n    </tr>\n  </thead>\n  <tbody>\n    <tr>\n      <th>0</th>\n      <td>лифтбек</td>\n      <td>SKODA</td>\n      <td>https://auto.ru/cars/used/sale/skoda/octavia/1...</td>\n      <td>синий</td>\n      <td>NaN</td>\n      <td>Все автомобили, представленные в продаже, прох...</td>\n      <td>1.2 LTR</td>\n      <td>105 N12</td>\n      <td>{\"engine-proof\":true,\"tinted-glass\":true,\"airb...</td>\n      <td>бензин</td>\n      <td>...</td>\n      <td>LIFTBACK ROBOT 1.2</td>\n      <td>роботизированная</td>\n      <td>EUROPEAN</td>\n      <td>3 или более</td>\n      <td>NaN</td>\n      <td>Оригинал</td>\n      <td>передний</td>\n      <td>Левый</td>\n      <td>Не требует ремонта</td>\n      <td>Растаможен</td>\n    </tr>\n    <tr>\n      <th>1</th>\n      <td>лифтбек</td>\n      <td>SKODA</td>\n      <td>https://auto.ru/cars/used/sale/skoda/octavia/1...</td>\n      <td>чёрный</td>\n      <td>NaN</td>\n      <td>ЛОТ: 01217195\\nАвтопрага Север\\nДанный автомоб...</td>\n      <td>1.6 LTR</td>\n      <td>110 N12</td>\n      <td>{\"cruise-control\":true,\"asr\":true,\"esp\":true,\"...</td>\n      <td>бензин</td>\n      <td>...</td>\n      <td>LIFTBACK MECHANICAL 1.6</td>\n      <td>механическая</td>\n      <td>EUROPEAN</td>\n      <td>1 владелец</td>\n      <td>NaN</td>\n      <td>Оригинал</td>\n      <td>передний</td>\n      <td>Левый</td>\n      <td>Не требует ремонта</td>\n      <td>Растаможен</td>\n    </tr>\n    <tr>\n      <th>2</th>\n      <td>лифтбек</td>\n      <td>SKODA</td>\n      <td>https://auto.ru/cars/used/sale/skoda/superb/11...</td>\n      <td>серый</td>\n      <td>{\"id\":\"20026336\",\"name\":\"Ambition\",\"available_...</td>\n      <td>Все автомобили, представленные в продаже, прох...</td>\n      <td>1.8 LTR</td>\n      <td>152 N12</td>\n      <td>{\"cruise-control\":true,\"tinted-glass\":true,\"es...</td>\n      <td>бензин</td>\n      <td>...</td>\n      <td>LIFTBACK ROBOT 1.8</td>\n      <td>роботизированная</td>\n      <td>EUROPEAN</td>\n      <td>1 владелец</td>\n      <td>NaN</td>\n      <td>Оригинал</td>\n      <td>передний</td>\n      <td>Левый</td>\n      <td>Не требует ремонта</td>\n      <td>Растаможен</td>\n    </tr>\n    <tr>\n      <th>3</th>\n      <td>лифтбек</td>\n      <td>SKODA</td>\n      <td>https://auto.ru/cars/used/sale/skoda/octavia/1...</td>\n      <td>коричневый</td>\n      <td>{\"id\":\"20803582\",\"name\":\"Ambition\",\"available_...</td>\n      <td>КОМПЛЕКТ ЗИМНЕЙ (ЛЕТНЕЙ) РЕЗИНЫ ПО СЕЗОНУ В ПО...</td>\n      <td>1.6 LTR</td>\n      <td>110 N12</td>\n      <td>{\"cruise-control\":true,\"roller-blind-for-rear-...</td>\n      <td>бензин</td>\n      <td>...</td>\n      <td>LIFTBACK AUTOMATIC 1.6</td>\n      <td>автоматическая</td>\n      <td>EUROPEAN</td>\n      <td>1 владелец</td>\n      <td>NaN</td>\n      <td>Оригинал</td>\n      <td>передний</td>\n      <td>Левый</td>\n      <td>Не требует ремонта</td>\n      <td>Растаможен</td>\n    </tr>\n    <tr>\n      <th>4</th>\n      <td>лифтбек</td>\n      <td>SKODA</td>\n      <td>https://auto.ru/cars/used/sale/skoda/octavia/1...</td>\n      <td>белый</td>\n      <td>NaN</td>\n      <td>ЛОТ: 01220889\\nАвтопрага Север\\n\\nВы можете по...</td>\n      <td>1.8 LTR</td>\n      <td>152 N12</td>\n      <td>{\"cruise-control\":true,\"asr\":true,\"esp\":true,\"...</td>\n      <td>бензин</td>\n      <td>...</td>\n      <td>LIFTBACK AUTOMATIC 1.8</td>\n      <td>автоматическая</td>\n      <td>EUROPEAN</td>\n      <td>1 владелец</td>\n      <td>NaN</td>\n      <td>Оригинал</td>\n      <td>передний</td>\n      <td>Левый</td>\n      <td>Не требует ремонта</td>\n      <td>Растаможен</td>\n    </tr>\n  </tbody>\n</table>\n<p>5 rows × 32 columns</p>\n</div>"
     },
     "metadata": {},
     "output_type": "display_data"
    },
    {
     "name": "stdout",
     "output_type": "stream",
     "text": [
      "<class 'pandas.core.frame.DataFrame'>\n",
      "RangeIndex: 34686 entries, 0 to 34685\n",
      "Data columns (total 32 columns):\n",
      " #   Column                Non-Null Count  Dtype \n",
      "---  ------                --------------  ----- \n",
      " 0   bodyType              34686 non-null  object\n",
      " 1   brand                 34686 non-null  object\n",
      " 2   car_url               34686 non-null  object\n",
      " 3   color                 34686 non-null  object\n",
      " 4   complectation_dict    6418 non-null   object\n",
      " 5   description           34686 non-null  object\n",
      " 6   engineDisplacement    34686 non-null  object\n",
      " 7   enginePower           34686 non-null  object\n",
      " 8   equipment_dict        24690 non-null  object\n",
      " 9   fuelType              34686 non-null  object\n",
      " 10  image                 34686 non-null  object\n",
      " 11  mileage               34686 non-null  int64 \n",
      " 12  modelDate             34686 non-null  int64 \n",
      " 13  model_info            34686 non-null  object\n",
      " 14  model_name            34686 non-null  object\n",
      " 15  name                  34686 non-null  object\n",
      " 16  numberOfDoors         34686 non-null  int64 \n",
      " 17  parsing_unixtime      34686 non-null  int64 \n",
      " 18  priceCurrency         34686 non-null  object\n",
      " 19  productionDate        34686 non-null  int64 \n",
      " 20  sell_id               34686 non-null  int64 \n",
      " 21  super_gen             34686 non-null  object\n",
      " 22  vehicleConfiguration  34686 non-null  object\n",
      " 23  vehicleTransmission   34686 non-null  object\n",
      " 24  vendor                34686 non-null  object\n",
      " 25  Владельцы             34686 non-null  object\n",
      " 26  Владение              11995 non-null  object\n",
      " 27  ПТС                   34685 non-null  object\n",
      " 28  Привод                34686 non-null  object\n",
      " 29  Руль                  34686 non-null  object\n",
      " 30  Состояние             34686 non-null  object\n",
      " 31  Таможня               34686 non-null  object\n",
      "dtypes: int64(6), object(26)\n",
      "memory usage: 8.5+ MB\n"
     ]
    },
    {
     "data": {
      "text/plain": "              mileage     modelDate  numberOfDoors  parsing_unixtime  \\\ncount    34686.000000  34686.000000   34686.000000      3.468600e+04   \nmean    162009.767889   2007.074728       4.450816      1.603287e+09   \nstd     100676.559489      7.415894       0.703040      1.493071e+05   \nmin          1.000000   1904.000000       0.000000      1.603107e+09   \n25%      91153.500000   2004.000000       4.000000      1.603221e+09   \n50%     149779.500000   2008.000000       5.000000      1.603254e+09   \n75%     215000.000000   2012.000000       5.000000      1.603290e+09   \nmax    1000000.000000   2020.000000       5.000000      1.603710e+09   \n\n       productionDate       sell_id  \ncount    34686.000000  3.468600e+04  \nmean      2009.264602  1.098300e+09  \nstd          7.047661  1.911225e+07  \nmin       1904.000000  2.665000e+03  \n25%       2006.000000  1.099049e+09  \n50%       2011.000000  1.100911e+09  \n75%       2014.000000  1.101245e+09  \nmax       2020.000000  1.101375e+09  ",
      "text/html": "<div>\n<style scoped>\n    .dataframe tbody tr th:only-of-type {\n        vertical-align: middle;\n    }\n\n    .dataframe tbody tr th {\n        vertical-align: top;\n    }\n\n    .dataframe thead th {\n        text-align: right;\n    }\n</style>\n<table border=\"1\" class=\"dataframe\">\n  <thead>\n    <tr style=\"text-align: right;\">\n      <th></th>\n      <th>mileage</th>\n      <th>modelDate</th>\n      <th>numberOfDoors</th>\n      <th>parsing_unixtime</th>\n      <th>productionDate</th>\n      <th>sell_id</th>\n    </tr>\n  </thead>\n  <tbody>\n    <tr>\n      <th>count</th>\n      <td>34686.000000</td>\n      <td>34686.000000</td>\n      <td>34686.000000</td>\n      <td>3.468600e+04</td>\n      <td>34686.000000</td>\n      <td>3.468600e+04</td>\n    </tr>\n    <tr>\n      <th>mean</th>\n      <td>162009.767889</td>\n      <td>2007.074728</td>\n      <td>4.450816</td>\n      <td>1.603287e+09</td>\n      <td>2009.264602</td>\n      <td>1.098300e+09</td>\n    </tr>\n    <tr>\n      <th>std</th>\n      <td>100676.559489</td>\n      <td>7.415894</td>\n      <td>0.703040</td>\n      <td>1.493071e+05</td>\n      <td>7.047661</td>\n      <td>1.911225e+07</td>\n    </tr>\n    <tr>\n      <th>min</th>\n      <td>1.000000</td>\n      <td>1904.000000</td>\n      <td>0.000000</td>\n      <td>1.603107e+09</td>\n      <td>1904.000000</td>\n      <td>2.665000e+03</td>\n    </tr>\n    <tr>\n      <th>25%</th>\n      <td>91153.500000</td>\n      <td>2004.000000</td>\n      <td>4.000000</td>\n      <td>1.603221e+09</td>\n      <td>2006.000000</td>\n      <td>1.099049e+09</td>\n    </tr>\n    <tr>\n      <th>50%</th>\n      <td>149779.500000</td>\n      <td>2008.000000</td>\n      <td>5.000000</td>\n      <td>1.603254e+09</td>\n      <td>2011.000000</td>\n      <td>1.100911e+09</td>\n    </tr>\n    <tr>\n      <th>75%</th>\n      <td>215000.000000</td>\n      <td>2012.000000</td>\n      <td>5.000000</td>\n      <td>1.603290e+09</td>\n      <td>2014.000000</td>\n      <td>1.101245e+09</td>\n    </tr>\n    <tr>\n      <th>max</th>\n      <td>1000000.000000</td>\n      <td>2020.000000</td>\n      <td>5.000000</td>\n      <td>1.603710e+09</td>\n      <td>2020.000000</td>\n      <td>1.101375e+09</td>\n    </tr>\n  </tbody>\n</table>\n</div>"
     },
     "execution_count": 3,
     "metadata": {},
     "output_type": "execute_result"
    }
   ],
   "source": [
    "# load given test data\n",
    "DATA_DIR = 'Data'\n",
    "df_test = pd.read_csv(f'../{DATA_DIR}/test.csv')\n",
    "display(df_test.head(5))\n",
    "df_test.info()\n",
    "df_test.describe()"
   ],
   "metadata": {
    "collapsed": false,
    "pycharm": {
     "name": "#%%\n"
    }
   }
  },
  {
   "cell_type": "code",
   "execution_count": 4,
   "outputs": [
    {
     "name": "stdout",
     "output_type": "stream",
     "text": [
      "GET url status= 200\n",
      "<!DOCTYPE html>\n",
      "<html data-reactroot=\"\" lang=\"ru\">\n",
      " <head>\n",
      "  <link as=\"script\" href=\"https://auto.ru/_crpd/2W5I8yt76/b2530f-ah6D/GgBdzIYYcCBRKMb4AePeu15H21gDkDZ4uvt444bcqkZoSu3X1jye0fP9ptkU_Lo5gMNeGZtzrJp19-pl9aVQB1uTzczE3XsqgWjC9RgmXPREglbaBlWuLmyu7viXzeqBogZuxpe1md4u_28cBjc98p8NmlyR-ikZ8vFq738mkkUbGMfdSZk-aNWvxbzepts9iQCb0wPTJ-lj5Cb03MnqCSWBIc9QctdXYrgvF809efYRy15VF3KkWn7_5-cx6VrLlI\" nonce=\"53tRKdiuhAG010lXQYee+w==\" rel=\"preload\"/>\n",
      "  <meta charset=\"utf-8\"/>\n",
      "  <meta content=\"IE=edge\" http-equiv .....\n"
     ]
    }
   ],
   "source": [
    "# get html page for navigation\n",
    "url = 'https://auto.ru'\n",
    "response = requests.get(url)\n",
    "print('GET url status=', response.status_code)\n",
    "page = BeautifulSoup(response.text,'html.parser')\n",
    "print(page.prettify()[:500], '.....')"
   ],
   "metadata": {
    "collapsed": false,
    "pycharm": {
     "name": "#%%\n"
    }
   }
  },
  {
   "cell_type": "code",
   "execution_count": 5,
   "outputs": [
    {
     "name": "stdout",
     "output_type": "stream",
     "text": [
      "['https://auto.ru/cars/vaz/all/',\n",
      " 'https://auto.ru/cars/audi/all/',\n",
      " 'https://auto.ru/cars/bmw/all/',\n",
      " 'https://auto.ru/cars/chery/all/',\n",
      " 'https://auto.ru/cars/chevrolet/all/',\n",
      " 'https://auto.ru/cars/citroen/all/',\n",
      " 'https://auto.ru/cars/daewoo/all/',\n",
      " 'https://auto.ru/cars/ford/all/',\n",
      " 'https://auto.ru/cars/geely/all/',\n",
      " 'https://auto.ru/cars/haval/all/',\n",
      " 'https://auto.ru/cars/honda/all/',\n",
      " 'https://auto.ru/cars/hyundai/all/',\n",
      " 'https://auto.ru/cars/infiniti/all/',\n",
      " 'https://auto.ru/cars/kia/all/',\n",
      " 'https://auto.ru/cars/land_rover/all/',\n",
      " 'https://auto.ru/cars/lexus/all/',\n",
      " 'https://auto.ru/cars/mini/all/',\n",
      " 'https://auto.ru/cars/mazda/all/',\n",
      " 'https://auto.ru/cars/mercedes/all/',\n",
      " 'https://auto.ru/cars/mitsubishi/all/',\n",
      " 'https://auto.ru/cars/nissan/all/',\n",
      " 'https://auto.ru/cars/opel/all/',\n",
      " 'https://auto.ru/cars/peugeot/all/',\n",
      " 'https://auto.ru/cars/porsche/all/',\n",
      " 'https://auto.ru/cars/renault/all/',\n",
      " 'https://auto.ru/cars/skoda/all/',\n",
      " 'https://auto.ru/cars/ssang_yong/all/',\n",
      " 'https://auto.ru/cars/subaru/all/',\n",
      " 'https://auto.ru/cars/suzuki/all/',\n",
      " 'https://auto.ru/cars/toyota/all/',\n",
      " 'https://auto.ru/cars/volkswagen/all/',\n",
      " 'https://auto.ru/cars/volvo/all/',\n",
      " 'https://auto.ru/cars/gaz/all/',\n",
      " 'https://auto.ru/cars/uaz/all/']\n"
     ]
    },
    {
     "data": {
      "text/plain": "['vaz',\n 'audi',\n 'bmw',\n 'chery',\n 'chevrolet',\n 'citroen',\n 'daewoo',\n 'ford',\n 'geely',\n 'haval',\n 'honda',\n 'hyundai',\n 'infiniti',\n 'kia',\n 'land_rover',\n 'lexus',\n 'mini',\n 'mazda',\n 'mercedes',\n 'mitsubishi',\n 'nissan',\n 'opel',\n 'peugeot',\n 'porsche',\n 'renault',\n 'skoda',\n 'ssang_yong',\n 'subaru',\n 'suzuki',\n 'toyota',\n 'volkswagen',\n 'volvo',\n 'gaz',\n 'uaz']"
     },
     "execution_count": 5,
     "metadata": {},
     "output_type": "execute_result"
    }
   ],
   "source": [
    "# get all brands presented on site\n",
    "brand_links = page.find_all('a',class_='IndexMarks__item')\n",
    "brand_urls = list(map(lambda a: a['href'], brand_links))\n",
    "pp.pprint(brand_urls)\n",
    "site_brands = [u.split('/')[-3] for u in brand_urls]\n",
    "site_brands"
   ],
   "metadata": {
    "collapsed": false,
    "pycharm": {
     "name": "#%%\n"
    }
   }
  },
  {
   "cell_type": "code",
   "execution_count": 6,
   "outputs": [
    {
     "data": {
      "text/plain": "['skoda',\n 'audi',\n 'honda',\n 'volvo',\n 'bmw',\n 'nissan',\n 'infiniti',\n 'mercedes',\n 'toyota',\n 'lexus',\n 'volkswagen',\n 'mitsubishi']"
     },
     "execution_count": 6,
     "metadata": {},
     "output_type": "execute_result"
    }
   ],
   "source": [
    "# brands in test data\n",
    "brands = [brand.lower() for brand in df_test['brand'].unique()]\n",
    "brands"
   ],
   "metadata": {
    "collapsed": false,
    "pycharm": {
     "name": "#%%\n"
    }
   }
  },
  {
   "cell_type": "code",
   "execution_count": 7,
   "outputs": [
    {
     "data": {
      "text/plain": "True"
     },
     "execution_count": 7,
     "metadata": {},
     "output_type": "execute_result"
    }
   ],
   "source": [
    "# check if we have all needed brands on site\n",
    "brands <= site_brands"
   ],
   "metadata": {
    "collapsed": false,
    "pycharm": {
     "name": "#%%\n"
    }
   }
  },
  {
   "cell_type": "markdown",
   "source": [
    "Great, we have all brands from test set on site.\n",
    "So, get ad urls from site for all brands that are in test set."
   ],
   "metadata": {
    "collapsed": false
   }
  },
  {
   "cell_type": "code",
   "execution_count": 8,
   "outputs": [
    {
     "ename": "WebDriverException",
     "evalue": "Message: 'geckodriver' executable needs to be in PATH. \n",
     "output_type": "error",
     "traceback": [
      "\u001B[1;31m---------------------------------------------------------------------------\u001B[0m",
      "\u001B[1;31mFileNotFoundError\u001B[0m                         Traceback (most recent call last)",
      "\u001B[1;32mc:\\python\\virtenv\\parsing\\lib\\site-packages\\selenium\\webdriver\\common\\service.py\u001B[0m in \u001B[0;36mstart\u001B[1;34m(self)\u001B[0m\n\u001B[0;32m     75\u001B[0m                                             \u001B[0mstdin\u001B[0m\u001B[1;33m=\u001B[0m\u001B[0mPIPE\u001B[0m\u001B[1;33m,\u001B[0m\u001B[1;33m\u001B[0m\u001B[1;33m\u001B[0m\u001B[0m\n\u001B[1;32m---> 76\u001B[1;33m                                             creationflags=self.creationflags)\n\u001B[0m\u001B[0;32m     77\u001B[0m         \u001B[1;32mexcept\u001B[0m \u001B[0mTypeError\u001B[0m\u001B[1;33m:\u001B[0m\u001B[1;33m\u001B[0m\u001B[1;33m\u001B[0m\u001B[0m\n",
      "\u001B[1;32mC:\\Program Files\\python\\python_3_7_9\\lib\\subprocess.py\u001B[0m in \u001B[0;36m__init__\u001B[1;34m(self, args, bufsize, executable, stdin, stdout, stderr, preexec_fn, close_fds, shell, cwd, env, universal_newlines, startupinfo, creationflags, restore_signals, start_new_session, pass_fds, encoding, errors, text)\u001B[0m\n\u001B[0;32m    799\u001B[0m                                 \u001B[0merrread\u001B[0m\u001B[1;33m,\u001B[0m \u001B[0merrwrite\u001B[0m\u001B[1;33m,\u001B[0m\u001B[1;33m\u001B[0m\u001B[1;33m\u001B[0m\u001B[0m\n\u001B[1;32m--> 800\u001B[1;33m                                 restore_signals, start_new_session)\n\u001B[0m\u001B[0;32m    801\u001B[0m         \u001B[1;32mexcept\u001B[0m\u001B[1;33m:\u001B[0m\u001B[1;33m\u001B[0m\u001B[1;33m\u001B[0m\u001B[0m\n",
      "\u001B[1;32mC:\\Program Files\\python\\python_3_7_9\\lib\\subprocess.py\u001B[0m in \u001B[0;36m_execute_child\u001B[1;34m(self, args, executable, preexec_fn, close_fds, pass_fds, cwd, env, startupinfo, creationflags, shell, p2cread, p2cwrite, c2pread, c2pwrite, errread, errwrite, unused_restore_signals, unused_start_new_session)\u001B[0m\n\u001B[0;32m   1206\u001B[0m                                          \u001B[0mos\u001B[0m\u001B[1;33m.\u001B[0m\u001B[0mfspath\u001B[0m\u001B[1;33m(\u001B[0m\u001B[0mcwd\u001B[0m\u001B[1;33m)\u001B[0m \u001B[1;32mif\u001B[0m \u001B[0mcwd\u001B[0m \u001B[1;32mis\u001B[0m \u001B[1;32mnot\u001B[0m \u001B[1;32mNone\u001B[0m \u001B[1;32melse\u001B[0m \u001B[1;32mNone\u001B[0m\u001B[1;33m,\u001B[0m\u001B[1;33m\u001B[0m\u001B[1;33m\u001B[0m\u001B[0m\n\u001B[1;32m-> 1207\u001B[1;33m                                          startupinfo)\n\u001B[0m\u001B[0;32m   1208\u001B[0m             \u001B[1;32mfinally\u001B[0m\u001B[1;33m:\u001B[0m\u001B[1;33m\u001B[0m\u001B[1;33m\u001B[0m\u001B[0m\n",
      "\u001B[1;31mFileNotFoundError\u001B[0m: [WinError 2] Не удается найти указанный файл",
      "\nDuring handling of the above exception, another exception occurred:\n",
      "\u001B[1;31mWebDriverException\u001B[0m                        Traceback (most recent call last)",
      "\u001B[1;32m~\\AppData\\Local\\Temp\\ipykernel_4556\\2230439132.py\u001B[0m in \u001B[0;36m<module>\u001B[1;34m\u001B[0m\n\u001B[0;32m      1\u001B[0m \u001B[1;31m# prepare webdriver to bypass site parsing protection\u001B[0m\u001B[1;33m\u001B[0m\u001B[1;33m\u001B[0m\u001B[1;33m\u001B[0m\u001B[0m\n\u001B[1;32m----> 2\u001B[1;33m \u001B[0mdriver\u001B[0m \u001B[1;33m=\u001B[0m \u001B[0minit_webdriver\u001B[0m\u001B[1;33m(\u001B[0m\u001B[1;33m)\u001B[0m\u001B[1;33m\u001B[0m\u001B[1;33m\u001B[0m\u001B[0m\n\u001B[0m\u001B[0;32m      3\u001B[0m \u001B[1;33m\u001B[0m\u001B[0m\n\u001B[0;32m      4\u001B[0m \u001B[1;32mtry\u001B[0m\u001B[1;33m:\u001B[0m\u001B[1;33m\u001B[0m\u001B[1;33m\u001B[0m\u001B[0m\n\u001B[0;32m      5\u001B[0m     \u001B[0mdriver\u001B[0m\u001B[1;33m.\u001B[0m\u001B[0mget\u001B[0m\u001B[1;33m(\u001B[0m\u001B[1;34m'https://auto.ru/'\u001B[0m\u001B[1;33m)\u001B[0m\u001B[1;33m\u001B[0m\u001B[1;33m\u001B[0m\u001B[0m\n",
      "\u001B[1;32m~\\AppData\\Local\\Temp\\ipykernel_4556\\2737400943.py\u001B[0m in \u001B[0;36minit_webdriver\u001B[1;34m()\u001B[0m\n\u001B[0;32m    168\u001B[0m     \u001B[0mgeoDisabled\u001B[0m\u001B[1;33m.\u001B[0m\u001B[0mset_preference\u001B[0m\u001B[1;33m(\u001B[0m\u001B[1;34m\"geo.prompt.testing.allow\"\u001B[0m\u001B[1;33m,\u001B[0m \u001B[1;32mFalse\u001B[0m\u001B[1;33m)\u001B[0m\u001B[1;33m\u001B[0m\u001B[1;33m\u001B[0m\u001B[0m\n\u001B[0;32m    169\u001B[0m \u001B[1;33m\u001B[0m\u001B[0m\n\u001B[1;32m--> 170\u001B[1;33m     \u001B[1;32mreturn\u001B[0m \u001B[0mwebdriver\u001B[0m\u001B[1;33m.\u001B[0m\u001B[0mFirefox\u001B[0m\u001B[1;33m(\u001B[0m\u001B[0moptions\u001B[0m\u001B[1;33m=\u001B[0m\u001B[0mgeoDisabled\u001B[0m\u001B[1;33m)\u001B[0m\u001B[1;33m\u001B[0m\u001B[1;33m\u001B[0m\u001B[0m\n\u001B[0m\u001B[0;32m    171\u001B[0m \u001B[1;33m\u001B[0m\u001B[0m\n\u001B[0;32m    172\u001B[0m \u001B[1;32mdef\u001B[0m \u001B[0mparse_car_urls\u001B[0m\u001B[1;33m(\u001B[0m\u001B[0mbrand\u001B[0m\u001B[1;33m:\u001B[0m\u001B[0mstr\u001B[0m\u001B[1;33m,\u001B[0m \u001B[0mdriver\u001B[0m\u001B[1;33m:\u001B[0m\u001B[0mWebDriver\u001B[0m\u001B[1;33m)\u001B[0m\u001B[1;33m:\u001B[0m\u001B[1;33m\u001B[0m\u001B[1;33m\u001B[0m\u001B[0m\n",
      "\u001B[1;32mc:\\python\\virtenv\\parsing\\lib\\site-packages\\selenium\\webdriver\\firefox\\webdriver.py\u001B[0m in \u001B[0;36m__init__\u001B[1;34m(self, firefox_profile, firefox_binary, capabilities, proxy, executable_path, options, service_log_path, service_args, service, desired_capabilities, log_path, keep_alive)\u001B[0m\n\u001B[0;32m    172\u001B[0m                 \u001B[0mservice_args\u001B[0m\u001B[1;33m=\u001B[0m\u001B[0mservice_args\u001B[0m\u001B[1;33m,\u001B[0m\u001B[1;33m\u001B[0m\u001B[1;33m\u001B[0m\u001B[0m\n\u001B[0;32m    173\u001B[0m                 log_path=service_log_path)\n\u001B[1;32m--> 174\u001B[1;33m         \u001B[0mself\u001B[0m\u001B[1;33m.\u001B[0m\u001B[0mservice\u001B[0m\u001B[1;33m.\u001B[0m\u001B[0mstart\u001B[0m\u001B[1;33m(\u001B[0m\u001B[1;33m)\u001B[0m\u001B[1;33m\u001B[0m\u001B[1;33m\u001B[0m\u001B[0m\n\u001B[0m\u001B[0;32m    175\u001B[0m \u001B[1;33m\u001B[0m\u001B[0m\n\u001B[0;32m    176\u001B[0m         executor = FirefoxRemoteConnection(\n",
      "\u001B[1;32mc:\\python\\virtenv\\parsing\\lib\\site-packages\\selenium\\webdriver\\common\\service.py\u001B[0m in \u001B[0;36mstart\u001B[1;34m(self)\u001B[0m\n\u001B[0;32m     81\u001B[0m                 raise WebDriverException(\n\u001B[0;32m     82\u001B[0m                     \"'%s' executable needs to be in PATH. %s\" % (\n\u001B[1;32m---> 83\u001B[1;33m                         os.path.basename(self.path), self.start_error_message)\n\u001B[0m\u001B[0;32m     84\u001B[0m                 )\n\u001B[0;32m     85\u001B[0m             \u001B[1;32melif\u001B[0m \u001B[0merr\u001B[0m\u001B[1;33m.\u001B[0m\u001B[0merrno\u001B[0m \u001B[1;33m==\u001B[0m \u001B[0merrno\u001B[0m\u001B[1;33m.\u001B[0m\u001B[0mEACCES\u001B[0m\u001B[1;33m:\u001B[0m\u001B[1;33m\u001B[0m\u001B[1;33m\u001B[0m\u001B[0m\n",
      "\u001B[1;31mWebDriverException\u001B[0m: Message: 'geckodriver' executable needs to be in PATH. \n"
     ]
    }
   ],
   "source": [
    "# prepare webdriver to bypass site parsing protection\n",
    "driver = init_webdriver()\n",
    "\n",
    "try:\n",
    "    driver.get('https://auto.ru/')\n",
    "    time.sleep(1)\n",
    "\n",
    "    # reject geolocation request in order to parse page by page (it is now allowed when you don't do it first..)\n",
    "    no_location_button = driver.find_element_by_xpath('//span[@data-decision=\"no\"]')\n",
    "    no_location_button.click()\n",
    "    time.sleep(3)\n",
    "\n",
    "    # collect car urls for brands using already configured webdriver\n",
    "    urls = []\n",
    "    for brand in brands:\n",
    "        print(f\"Processing brand \\'{brand}\\':\")\n",
    "        urls.extend(parse_car_urls(brand, driver))\n",
    "\n",
    "    path = f'Data/car_urls__{time.strftime(\"%H_%M__%d_%m_%Y\")}.csv'\n",
    "    pd.DataFrame(data=urls, columns=['car_url']).to_csv(path, index=False)\n",
    "except Exception as e:\n",
    "    print(e)\n",
    "finally:\n",
    "    driver.quit()"
   ],
   "metadata": {
    "collapsed": false,
    "pycharm": {
     "name": "#%%\n"
    }
   }
  },
  {
   "cell_type": "code",
   "execution_count": 9,
   "outputs": [
    {
     "name": "stdout",
     "output_type": "stream",
     "text": [
      "['bodyType',\n",
      " 'brand',\n",
      " 'car_url',\n",
      " 'color',\n",
      " 'complectation_dict',\n",
      " 'description',\n",
      " 'engineDisplacement',\n",
      " 'enginePower',\n",
      " 'equipment_dict',\n",
      " 'fuelType',\n",
      " 'image',\n",
      " 'mileage',\n",
      " 'modelDate',\n",
      " 'model_info',\n",
      " 'model_name',\n",
      " 'name',\n",
      " 'numberOfDoors',\n",
      " 'parsing_unixtime',\n",
      " 'priceCurrency',\n",
      " 'productionDate',\n",
      " 'sell_id',\n",
      " 'super_gen',\n",
      " 'vehicleConfiguration',\n",
      " 'vehicleTransmission',\n",
      " 'vendor',\n",
      " 'Владельцы',\n",
      " 'Владение',\n",
      " 'ПТС',\n",
      " 'Привод',\n",
      " 'Руль',\n",
      " 'Состояние',\n",
      " 'Таможня']\n"
     ]
    }
   ],
   "source": [
    "# let's see what features are in test set\n",
    "test_features = list(df_test.columns)\n",
    "pp.pprint(test_features)"
   ],
   "metadata": {
    "collapsed": false,
    "pycharm": {
     "name": "#%%\n"
    }
   }
  },
  {
   "cell_type": "markdown",
   "source": [
    "Let's parse data from collected car ads urls."
   ],
   "metadata": {
    "collapsed": false,
    "pycharm": {
     "name": "#%% md\n",
     "is_executing": true
    }
   },
   "outputs": []
  },
  {
   "cell_type": "code",
   "execution_count": 10,
   "outputs": [
    {
     "data": {
      "text/plain": "(42305,)"
     },
     "execution_count": 10,
     "metadata": {},
     "output_type": "execute_result"
    }
   ],
   "source": [
    "# load the most recent car ads urls\n",
    "car_urls = pd.read_csv(DATA_DIR+'/car_urls__03_01__31_01_2022.csv')['car_url']\n",
    "car_urls.shape"
   ],
   "metadata": {
    "collapsed": false,
    "pycharm": {
     "name": "#%%\n"
    }
   }
  },
  {
   "cell_type": "code",
   "execution_count": 60,
   "outputs": [],
   "source": [
    "class Batcher:\n",
    "    def __init__(self, src_list:Sequence, batch_size:int):\n",
    "        self.src_list = src_list\n",
    "        self.batch_size = batch_size\n",
    "        self.batch_count = len(src_list) // batch_size\n",
    "        self.idx_from = None\n",
    "        self.idx_to = None\n",
    "\n",
    "    # noinspection PyRedundantParentheses\n",
    "    def batches(self):\n",
    "        for i in range(self.batch_count):\n",
    "            self.idx_from, self.idx_to = i*self.batch_size, (i+1)*self.batch_size\n",
    "            yield (i, self.src_list[self.idx_from : self.idx_to])\n",
    "        if self.batch_size * self.batch_count < len(self.src_list):\n",
    "            yield (self.batch_count, self.src_list[self.batch_size * self.batch_count:])\n",
    "\n",
    "async def get_car_data_async(task_idx, car_url, session, features_to_extract):\n",
    "    output_dict = {}\n",
    "    try:\n",
    "        # print(f'Task {task_idx} started.')\n",
    "        # print(f'get_car_data_async(): get url {car_url}')\n",
    "        async with session.get(url=car_url) as response:\n",
    "            content = await response.read()\n",
    "\n",
    "            # print(f'Task {task_idx} completed.')\n",
    "            output_dict = parse_car_data(car_url, content.decode('utf-8'), features_to_extract)\n",
    "\n",
    "    except Exception as e:\n",
    "        print(f\"Unable to get url {car_url} due to {e.__class__} with args={e.args}.\")\n",
    "        # create empty dict\n",
    "        output_dict = dict.fromkeys(features_to_extract)\n",
    "\n",
    "    return output_dict\n",
    "\n",
    "async def process_batch_async(batch_idx, urls, features_to_extract):\n",
    "    async with aiohttp.ClientSession() as session:\n",
    "        ret = await asyncio.gather(*[get_car_data_async(i, url, session, features_to_extract) for i, url in enumerate(urls)])\n",
    "        return ret"
   ],
   "metadata": {
    "collapsed": false,
    "pycharm": {
     "name": "#%%\n"
    }
   }
  },
  {
   "cell_type": "code",
   "execution_count": null,
   "outputs": [
    {
     "name": "stdout",
     "output_type": "stream",
     "text": [
      "Processing batch 1 from 2115. Urls range [0 to 20] from total 42305 urls\n",
      "Batch processing time=3.065669536590576\n",
      "Processing batch 2 from 2115. Urls range [20 to 40] from total 42305 urls\n",
      "Batch processing time=2.6502039432525635\n",
      "Processing batch 3 from 2115. Urls range [40 to 60] from total 42305 urls\n",
      "Batch processing time=2.8231492042541504\n",
      "Processing batch 4 from 2115. Urls range [60 to 80] from total 42305 urls\n",
      "Batch processing time=2.670682430267334\n",
      "Processing batch 5 from 2115. Urls range [80 to 100] from total 42305 urls\n",
      "Batch processing time=3.1598105430603027\n",
      "Processing batch 6 from 2115. Urls range [100 to 120] from total 42305 urls\n",
      "Batch processing time=3.0490760803222656\n",
      "Processing batch 7 from 2115. Urls range [120 to 140] from total 42305 urls\n",
      "Batch processing time=3.7558765411376953\n",
      "Processing batch 8 from 2115. Urls range [140 to 160] from total 42305 urls\n",
      "Batch processing time=2.8475890159606934\n",
      "Processing batch 9 from 2115. Urls range [160 to 180] from total 42305 urls\n",
      "Batch processing time=2.9995274543762207\n",
      "Processing batch 10 from 2115. Urls range [180 to 200] from total 42305 urls\n",
      "Batch processing time=3.056246280670166\n",
      "Processing batch 11 from 2115. Urls range [200 to 220] from total 42305 urls\n",
      "Batch processing time=3.0654802322387695\n",
      "Processing batch 12 from 2115. Urls range [220 to 240] from total 42305 urls\n",
      "Batch processing time=2.824981927871704\n",
      "Processing batch 13 from 2115. Urls range [240 to 260] from total 42305 urls\n",
      "Batch processing time=2.6243269443511963\n",
      "Processing batch 14 from 2115. Urls range [260 to 280] from total 42305 urls\n",
      "Batch processing time=2.3560245037078857\n",
      "Processing batch 15 from 2115. Urls range [280 to 300] from total 42305 urls\n",
      "Batch processing time=2.9270262718200684\n",
      "Processing batch 16 from 2115. Urls range [300 to 320] from total 42305 urls\n",
      "Batch processing time=2.831986904144287\n",
      "Processing batch 17 from 2115. Urls range [320 to 340] from total 42305 urls\n",
      "Batch processing time=2.747164726257324\n",
      "Processing batch 18 from 2115. Urls range [340 to 360] from total 42305 urls\n",
      "Batch processing time=2.8740642070770264\n",
      "Processing batch 19 from 2115. Urls range [360 to 380] from total 42305 urls\n",
      "Batch processing time=2.8280107975006104\n",
      "Processing batch 20 from 2115. Urls range [380 to 400] from total 42305 urls\n",
      "Batch processing time=2.6678905487060547\n",
      "Processing batch 21 from 2115. Urls range [400 to 420] from total 42305 urls\n",
      "Batch processing time=2.711970090866089\n",
      "Processing batch 22 from 2115. Urls range [420 to 440] from total 42305 urls\n",
      "Batch processing time=2.529362201690674\n",
      "Processing batch 23 from 2115. Urls range [440 to 460] from total 42305 urls\n",
      "Batch processing time=3.55116605758667\n",
      "Processing batch 24 from 2115. Urls range [460 to 480] from total 42305 urls\n",
      "Batch processing time=2.996588706970215\n",
      "Processing batch 25 from 2115. Urls range [480 to 500] from total 42305 urls\n",
      "Batch processing time=3.390873432159424\n",
      "Processing batch 26 from 2115. Urls range [500 to 520] from total 42305 urls\n",
      "Batch processing time=3.1361143589019775\n",
      "Processing batch 27 from 2115. Urls range [520 to 540] from total 42305 urls\n",
      "Batch processing time=3.464637517929077\n",
      "Processing batch 28 from 2115. Urls range [540 to 560] from total 42305 urls\n",
      "Batch processing time=3.591231107711792\n",
      "Processing batch 29 from 2115. Urls range [560 to 580] from total 42305 urls\n",
      "Batch processing time=3.121598243713379\n",
      "Processing batch 30 from 2115. Urls range [580 to 600] from total 42305 urls\n",
      "Batch processing time=2.7379229068756104\n",
      "Processing batch 31 from 2115. Urls range [600 to 620] from total 42305 urls\n",
      "Batch processing time=3.6599531173706055\n",
      "Processing batch 32 from 2115. Urls range [620 to 640] from total 42305 urls\n",
      "Batch processing time=2.826063394546509\n",
      "Processing batch 33 from 2115. Urls range [640 to 660] from total 42305 urls\n",
      "Batch processing time=2.881382703781128\n",
      "Processing batch 34 from 2115. Urls range [660 to 680] from total 42305 urls\n",
      "Batch processing time=2.7727108001708984\n",
      "Processing batch 35 from 2115. Urls range [680 to 700] from total 42305 urls\n",
      "Batch processing time=2.9937548637390137\n",
      "Processing batch 36 from 2115. Urls range [700 to 720] from total 42305 urls\n",
      "Batch processing time=2.9191174507141113\n",
      "Processing batch 37 from 2115. Urls range [720 to 740] from total 42305 urls\n",
      "Batch processing time=3.4253344535827637\n",
      "Processing batch 38 from 2115. Urls range [740 to 760] from total 42305 urls\n",
      "Batch processing time=2.4924967288970947\n",
      "Processing batch 39 from 2115. Urls range [760 to 780] from total 42305 urls\n",
      "Batch processing time=2.7468676567077637\n",
      "Processing batch 40 from 2115. Urls range [780 to 800] from total 42305 urls\n",
      "Batch processing time=3.19132924079895\n",
      "Processing batch 41 from 2115. Urls range [800 to 820] from total 42305 urls\n",
      "Batch processing time=3.0888712406158447\n",
      "Processing batch 42 from 2115. Urls range [820 to 840] from total 42305 urls\n",
      "Batch processing time=3.045058250427246\n",
      "Processing batch 43 from 2115. Urls range [840 to 860] from total 42305 urls\n",
      "Batch processing time=2.854335308074951\n",
      "Processing batch 44 from 2115. Urls range [860 to 880] from total 42305 urls\n",
      "Batch processing time=2.9468235969543457\n",
      "Processing batch 45 from 2115. Urls range [880 to 900] from total 42305 urls\n",
      "Batch processing time=2.7871410846710205\n",
      "Processing batch 46 from 2115. Urls range [900 to 920] from total 42305 urls\n",
      "Batch processing time=2.915557622909546\n",
      "Processing batch 47 from 2115. Urls range [920 to 940] from total 42305 urls\n",
      "Batch processing time=2.86728572845459\n",
      "Processing batch 48 from 2115. Urls range [940 to 960] from total 42305 urls\n",
      "Batch processing time=3.1769447326660156\n",
      "Processing batch 49 from 2115. Urls range [960 to 980] from total 42305 urls\n",
      "Batch processing time=2.811610698699951\n",
      "Processing batch 50 from 2115. Urls range [980 to 1000] from total 42305 urls\n",
      "Batch processing time=2.791369676589966\n",
      "Processing batch 51 from 2115. Urls range [1000 to 1020] from total 42305 urls\n",
      "Batch processing time=3.021988868713379\n",
      "Processing batch 52 from 2115. Urls range [1020 to 1040] from total 42305 urls\n",
      "Batch processing time=2.693096399307251\n",
      "Processing batch 53 from 2115. Urls range [1040 to 1060] from total 42305 urls\n",
      "Batch processing time=2.834411144256592\n",
      "Processing batch 54 from 2115. Urls range [1060 to 1080] from total 42305 urls\n",
      "Batch processing time=3.050943374633789\n",
      "Processing batch 55 from 2115. Urls range [1080 to 1100] from total 42305 urls\n",
      "Batch processing time=2.448911190032959\n",
      "Processing batch 56 from 2115. Urls range [1100 to 1120] from total 42305 urls\n",
      "Batch processing time=2.5415329933166504\n",
      "Processing batch 57 from 2115. Urls range [1120 to 1140] from total 42305 urls\n",
      "Batch processing time=2.692262649536133\n",
      "Processing batch 58 from 2115. Urls range [1140 to 1160] from total 42305 urls\n",
      "Batch processing time=2.4602742195129395\n",
      "Processing batch 59 from 2115. Urls range [1160 to 1180] from total 42305 urls\n",
      "Batch processing time=2.780306100845337\n",
      "Processing batch 60 from 2115. Urls range [1180 to 1200] from total 42305 urls\n",
      "Batch processing time=2.7988295555114746\n",
      "Processing batch 61 from 2115. Urls range [1200 to 1220] from total 42305 urls\n",
      "Batch processing time=2.7073235511779785\n",
      "Processing batch 62 from 2115. Urls range [1220 to 1240] from total 42305 urls\n",
      "Batch processing time=3.737464666366577\n",
      "Processing batch 63 from 2115. Urls range [1240 to 1260] from total 42305 urls\n",
      "Batch processing time=2.819537878036499\n",
      "Processing batch 64 from 2115. Urls range [1260 to 1280] from total 42305 urls\n",
      "Batch processing time=3.3582377433776855\n",
      "Processing batch 65 from 2115. Urls range [1280 to 1300] from total 42305 urls\n",
      "Batch processing time=2.9736976623535156\n",
      "Processing batch 66 from 2115. Urls range [1300 to 1320] from total 42305 urls\n",
      "Batch processing time=3.0376975536346436\n",
      "Processing batch 67 from 2115. Urls range [1320 to 1340] from total 42305 urls\n",
      "Batch processing time=2.8630905151367188\n",
      "Processing batch 68 from 2115. Urls range [1340 to 1360] from total 42305 urls\n",
      "Batch processing time=2.754235029220581\n",
      "Processing batch 69 from 2115. Urls range [1360 to 1380] from total 42305 urls\n",
      "Batch processing time=2.79337739944458\n",
      "Processing batch 70 from 2115. Urls range [1380 to 1400] from total 42305 urls\n",
      "Batch processing time=2.634845733642578\n",
      "Processing batch 71 from 2115. Urls range [1400 to 1420] from total 42305 urls\n",
      "Batch processing time=3.288109302520752\n",
      "Processing batch 72 from 2115. Urls range [1420 to 1440] from total 42305 urls\n",
      "Batch processing time=3.447610855102539\n",
      "Processing batch 73 from 2115. Urls range [1440 to 1460] from total 42305 urls\n",
      "Batch processing time=2.9973487854003906\n",
      "Processing batch 74 from 2115. Urls range [1460 to 1480] from total 42305 urls\n",
      "Batch processing time=2.701380729675293\n",
      "Processing batch 75 from 2115. Urls range [1480 to 1500] from total 42305 urls\n",
      "Batch processing time=5.0365190505981445\n",
      "Processing batch 76 from 2115. Urls range [1500 to 1520] from total 42305 urls\n",
      "Batch processing time=2.606684923171997\n",
      "Processing batch 77 from 2115. Urls range [1520 to 1540] from total 42305 urls\n",
      "Batch processing time=2.7354750633239746\n",
      "Processing batch 78 from 2115. Urls range [1540 to 1560] from total 42305 urls\n",
      "Batch processing time=2.5679244995117188\n",
      "Processing batch 79 from 2115. Urls range [1560 to 1580] from total 42305 urls\n",
      "Batch processing time=2.905565023422241\n",
      "Processing batch 80 from 2115. Urls range [1580 to 1600] from total 42305 urls\n",
      "Batch processing time=2.899306535720825\n",
      "Processing batch 81 from 2115. Urls range [1600 to 1620] from total 42305 urls\n",
      "Batch processing time=2.696845293045044\n",
      "Processing batch 82 from 2115. Urls range [1620 to 1640] from total 42305 urls\n",
      "Batch processing time=3.0266377925872803\n",
      "Processing batch 83 from 2115. Urls range [1640 to 1660] from total 42305 urls\n",
      "Batch processing time=2.8705341815948486\n",
      "Processing batch 84 from 2115. Urls range [1660 to 1680] from total 42305 urls\n",
      "Batch processing time=3.1423797607421875\n",
      "Processing batch 85 from 2115. Urls range [1680 to 1700] from total 42305 urls\n",
      "Batch processing time=2.6698997020721436\n",
      "Processing batch 86 from 2115. Urls range [1700 to 1720] from total 42305 urls\n",
      "Batch processing time=3.3191721439361572\n",
      "Processing batch 87 from 2115. Urls range [1720 to 1740] from total 42305 urls\n",
      "Batch processing time=3.5928475856781006\n",
      "Processing batch 88 from 2115. Urls range [1740 to 1760] from total 42305 urls\n",
      "Batch processing time=2.6708743572235107\n",
      "Processing batch 89 from 2115. Urls range [1760 to 1780] from total 42305 urls\n",
      "Batch processing time=2.9817733764648438\n",
      "Processing batch 90 from 2115. Urls range [1780 to 1800] from total 42305 urls\n",
      "Batch processing time=2.8346846103668213\n",
      "Processing batch 91 from 2115. Urls range [1800 to 1820] from total 42305 urls\n",
      "Batch processing time=2.884498357772827\n",
      "Processing batch 92 from 2115. Urls range [1820 to 1840] from total 42305 urls\n",
      "Batch processing time=2.9835305213928223\n",
      "Processing batch 93 from 2115. Urls range [1840 to 1860] from total 42305 urls\n",
      "Batch processing time=2.694730043411255\n",
      "Processing batch 94 from 2115. Urls range [1860 to 1880] from total 42305 urls\n",
      "Batch processing time=3.1300699710845947\n",
      "Processing batch 95 from 2115. Urls range [1880 to 1900] from total 42305 urls\n",
      "Batch processing time=2.907848834991455\n",
      "Processing batch 96 from 2115. Urls range [1900 to 1920] from total 42305 urls\n",
      "Batch processing time=2.656245231628418\n",
      "Processing batch 97 from 2115. Urls range [1920 to 1940] from total 42305 urls\n",
      "Batch processing time=2.7790939807891846\n",
      "Processing batch 98 from 2115. Urls range [1940 to 1960] from total 42305 urls\n",
      "Batch processing time=3.2006924152374268\n",
      "Processing batch 99 from 2115. Urls range [1960 to 1980] from total 42305 urls\n",
      "Batch processing time=3.246790885925293\n",
      "Processing batch 100 from 2115. Urls range [1980 to 2000] from total 42305 urls\n",
      "Batch processing time=2.8010871410369873\n",
      "Processing batch 101 from 2115. Urls range [2000 to 2020] from total 42305 urls\n",
      "Batch processing time=3.0164947509765625\n",
      "Processing batch 102 from 2115. Urls range [2020 to 2040] from total 42305 urls\n",
      "Batch processing time=3.3763539791107178\n",
      "Processing batch 103 from 2115. Urls range [2040 to 2060] from total 42305 urls\n",
      "Batch processing time=2.9705777168273926\n",
      "Processing batch 104 from 2115. Urls range [2060 to 2080] from total 42305 urls\n",
      "Batch processing time=2.605633020401001\n",
      "Processing batch 105 from 2115. Urls range [2080 to 2100] from total 42305 urls\n",
      "Batch processing time=2.4315552711486816\n",
      "Processing batch 106 from 2115. Urls range [2100 to 2120] from total 42305 urls\n",
      "Batch processing time=2.965611219406128\n",
      "Processing batch 107 from 2115. Urls range [2120 to 2140] from total 42305 urls\n",
      "Batch processing time=2.805896759033203\n",
      "Processing batch 108 from 2115. Urls range [2140 to 2160] from total 42305 urls\n",
      "Batch processing time=2.7113592624664307\n",
      "Processing batch 109 from 2115. Urls range [2160 to 2180] from total 42305 urls\n",
      "Batch processing time=2.693559408187866\n",
      "Processing batch 110 from 2115. Urls range [2180 to 2200] from total 42305 urls\n",
      "Batch processing time=2.9518051147460938\n",
      "Processing batch 111 from 2115. Urls range [2200 to 2220] from total 42305 urls\n",
      "Batch processing time=2.898473024368286\n",
      "Processing batch 112 from 2115. Urls range [2220 to 2240] from total 42305 urls\n",
      "Batch processing time=3.090471029281616\n",
      "Processing batch 113 from 2115. Urls range [2240 to 2260] from total 42305 urls\n",
      "Batch processing time=2.697230815887451\n",
      "Processing batch 114 from 2115. Urls range [2260 to 2280] from total 42305 urls\n",
      "Batch processing time=2.9063711166381836\n",
      "Processing batch 115 from 2115. Urls range [2280 to 2300] from total 42305 urls\n"
     ]
    }
   ],
   "source": [
    "batcher = Batcher(car_urls, batch_size=20)\n",
    "\n",
    "path = f'{DATA_DIR}/parsed_car_data__{time.strftime(\"%H_%M__%d_%m_%Y\")}.csv'\n",
    "\n",
    "for batch_idx, batch_urls in batcher.batches():\n",
    "    print(f\"Processing batch {batch_idx+1} from {batcher.batch_count}. Urls range [{batcher.idx_from} to {batcher.idx_to}] from total {car_urls.shape[0]} urls\")\n",
    "    beg_time = time.time()\n",
    "    batch_result = await process_batch_async(batch_idx, batch_urls, test_features)\n",
    "    print(f'Batch processing time={time.time() - beg_time}')\n",
    "    df_batch = pd.DataFrame(batch_result)\n",
    "    df_batch.index += batch_idx * batcher.batch_size\n",
    "\n",
    "    # append batch data to csv file\n",
    "    with open(path,'a+', encoding='utf-8') as file:\n",
    "        file.write(df_batch.to_csv(header=True if batch_idx == 0 else False, index_label='№'))\n",
    "\n",
    "    time.sleep(2)\n",
    "\n",
    "print('Car parsing is completed.')"
   ],
   "metadata": {
    "collapsed": false,
    "pycharm": {
     "name": "#%%\n",
     "is_executing": true
    }
   }
  },
  {
   "cell_type": "markdown",
   "source": [
    "## Trials"
   ],
   "metadata": {
    "collapsed": false,
    "pycharm": {
     "name": "#%% md\n"
    }
   }
  },
  {
   "cell_type": "code",
   "execution_count": 82,
   "outputs": [
    {
     "data": {
      "text/plain": "       №           bodyType  brand  \\\n0      0            лифтбек  SKODA   \n1      1                NaN  SKODA   \n2      2                NaN  SKODA   \n3      3            лифтбек  SKODA   \n4      4  внедорожник 5 дв.  SKODA   \n..   ...                ...    ...   \n295  295                NaN  SKODA   \n296  296            лифтбек  SKODA   \n297  297  внедорожник 5 дв.  SKODA   \n298  298            лифтбек  SKODA   \n299  299                NaN  SKODA   \n\n                                               car_url        color  \\\n0    https://auto.ru/cars/used/sale/skoda/octavia/1...      красный   \n1    https://auto.ru/cars/new/group/skoda/karoq/225...        белый   \n2    https://auto.ru/cars/new/group/skoda/rapid/217...   коричневый   \n3    https://auto.ru/cars/used/sale/skoda/rapid/110...       чёрный   \n4    https://auto.ru/cars/used/sale/skoda/karoq/110...   коричневый   \n..                                                 ...          ...   \n295  https://auto.ru/cars/new/group/skoda/rapid/217...  серебристый   \n296  https://auto.ru/cars/used/sale/skoda/octavia/1...        белый   \n297  https://auto.ru/cars/used/sale/skoda/karoq/110...       чёрный   \n298  https://auto.ru/cars/used/sale/skoda/rapid/110...        синий   \n299  https://auto.ru/cars/new/group/skoda/rapid/217...  серебристый   \n\n                                    complectation_dict  \\\n0                                          {'id': '0'}   \n1    {'id': '22687243', 'name': 'Hockey Edition', '...   \n2    {'id': '22870340', 'name': 'Hockey Edition', '...   \n3                                          {'id': '0'}   \n4                                                  NaN   \n..                                                 ...   \n295  {'id': '22128624', 'name': 'Ambition', 'availa...   \n296                                        {'id': '0'}   \n297                                        {'id': '0'}   \n298  {'id': '21032385', 'name': 'Style', 'available...   \n299  {'id': '22128624', 'name': 'Ambition', 'availa...   \n\n                                           description  engineDisplacement  \\\n0    Skoda Octavia\\r\\n\\r\\n❕ ПТС ОРИГИНАЛ\\r\\n❕ ДВА В...                 1.8   \n1    В стоимость автомобиля включено дополнительное...                 NaN   \n2    ———————————————————————————\\r\\nФУНКЦИОНАЛЬНОЕ ...                 NaN   \n3    ЛОТ: 01306544\\r\\nЛокация №16\\r\\nФаворит Моторс...                 1.6   \n4    Продаю автомобиль отца, в идеальном состоянии ...                 1.6   \n..                                                 ...                 ...   \n295  ЛОТ: 01285069\\r\\n\\r\\nСкидка на автомобиль\\r\\n-...                 NaN   \n296  ЛОТ: 01292897\\r\\nЛокация №4\\r\\nFAVORIT MOTORS ...                 1.4   \n297  ЛОТ: 01305017\\r\\nЛокация №16\\r\\nФаворит Моторс...                 1.0   \n298  Автомобиль был куплен новым у официального дил...                 1.4   \n299  ЛОТ: 01285061\\r\\n\\r\\nСкидка на автомобиль\\r\\n-...                 NaN   \n\n     enginePower                                     equipment_dict  ...  \\\n0          150.0  {'condition': True, 'mirrors-heat': True, 'ele...  ...   \n1            NaN  {'cruise-control': True, 'asr': True, 'tinted-...  ...   \n2            NaN  {'cruise-control': True, 'asr': True, 'tinted-...  ...   \n3          110.0  {'cruise-control': True, 'glonass': True, 'asr...  ...   \n4          110.0                                    {'alarm': True}  ...   \n..           ...                                                ...  ...   \n295          NaN  {'cruise-control': True, 'glonass': True, 'esp...  ...   \n296        140.0  {'tinted-glass': True, 'airbag-driver': True, ...  ...   \n297        115.0  {'cruise-control': True, 'asr': True, 'tinted-...  ...   \n298        125.0  {'cruise-control': True, 'tinted-glass': True,...  ...   \n299          NaN  {'cruise-control': True, 'glonass': True, 'esp...  ...   \n\n    vehicleTransmission vendor    Владельцы  Владение       ПТС    Привод  \\\n0          механическая    NaN  2 владельца       NaN  Оригинал  передний   \n1                   NaN    NaN          NaN       NaN       NaN       NaN   \n2                   NaN    NaN          NaN       NaN       NaN       NaN   \n3        автоматическая    NaN   1 владелец       NaN  Оригинал  передний   \n4          механическая    NaN   1 владелец       NaN  Оригинал  передний   \n..                  ...    ...          ...       ...       ...       ...   \n295                 NaN    NaN          NaN       NaN       NaN       NaN   \n296    роботизированная    NaN  3 или более       NaN  Оригинал  передний   \n297        механическая    NaN   1 владелец       NaN  Оригинал  передний   \n298    роботизированная    NaN   1 владелец       NaN  Оригинал  передний   \n299                 NaN    NaN          NaN       NaN       NaN       NaN   \n\n      Руль           Состояние     Таможня      Price  \n0    Левый  Не требует ремонта  Растаможен   400000.0  \n1      NaN                 NaN         NaN  2655000.0  \n2      NaN                 NaN         NaN  1335000.0  \n3    Левый  Не требует ремонта  Растаможен  1820000.0  \n4    Левый  Не требует ремонта  Растаможен        NaN  \n..     ...                 ...         ...        ...  \n295    NaN                 NaN         NaN        NaN  \n296  Левый  Не требует ремонта  Растаможен        NaN  \n297  Левый  Не требует ремонта  Растаможен  2970000.0  \n298  Левый  Не требует ремонта  Растаможен  1630000.0  \n299    NaN                 NaN         NaN        NaN  \n\n[300 rows x 34 columns]",
      "text/html": "<div>\n<style scoped>\n    .dataframe tbody tr th:only-of-type {\n        vertical-align: middle;\n    }\n\n    .dataframe tbody tr th {\n        vertical-align: top;\n    }\n\n    .dataframe thead th {\n        text-align: right;\n    }\n</style>\n<table border=\"1\" class=\"dataframe\">\n  <thead>\n    <tr style=\"text-align: right;\">\n      <th></th>\n      <th>№</th>\n      <th>bodyType</th>\n      <th>brand</th>\n      <th>car_url</th>\n      <th>color</th>\n      <th>complectation_dict</th>\n      <th>description</th>\n      <th>engineDisplacement</th>\n      <th>enginePower</th>\n      <th>equipment_dict</th>\n      <th>...</th>\n      <th>vehicleTransmission</th>\n      <th>vendor</th>\n      <th>Владельцы</th>\n      <th>Владение</th>\n      <th>ПТС</th>\n      <th>Привод</th>\n      <th>Руль</th>\n      <th>Состояние</th>\n      <th>Таможня</th>\n      <th>Price</th>\n    </tr>\n  </thead>\n  <tbody>\n    <tr>\n      <th>0</th>\n      <td>0</td>\n      <td>лифтбек</td>\n      <td>SKODA</td>\n      <td>https://auto.ru/cars/used/sale/skoda/octavia/1...</td>\n      <td>красный</td>\n      <td>{'id': '0'}</td>\n      <td>Skoda Octavia\\r\\n\\r\\n❕ ПТС ОРИГИНАЛ\\r\\n❕ ДВА В...</td>\n      <td>1.8</td>\n      <td>150.0</td>\n      <td>{'condition': True, 'mirrors-heat': True, 'ele...</td>\n      <td>...</td>\n      <td>механическая</td>\n      <td>NaN</td>\n      <td>2 владельца</td>\n      <td>NaN</td>\n      <td>Оригинал</td>\n      <td>передний</td>\n      <td>Левый</td>\n      <td>Не требует ремонта</td>\n      <td>Растаможен</td>\n      <td>400000.0</td>\n    </tr>\n    <tr>\n      <th>1</th>\n      <td>1</td>\n      <td>NaN</td>\n      <td>SKODA</td>\n      <td>https://auto.ru/cars/new/group/skoda/karoq/225...</td>\n      <td>белый</td>\n      <td>{'id': '22687243', 'name': 'Hockey Edition', '...</td>\n      <td>В стоимость автомобиля включено дополнительное...</td>\n      <td>NaN</td>\n      <td>NaN</td>\n      <td>{'cruise-control': True, 'asr': True, 'tinted-...</td>\n      <td>...</td>\n      <td>NaN</td>\n      <td>NaN</td>\n      <td>NaN</td>\n      <td>NaN</td>\n      <td>NaN</td>\n      <td>NaN</td>\n      <td>NaN</td>\n      <td>NaN</td>\n      <td>NaN</td>\n      <td>2655000.0</td>\n    </tr>\n    <tr>\n      <th>2</th>\n      <td>2</td>\n      <td>NaN</td>\n      <td>SKODA</td>\n      <td>https://auto.ru/cars/new/group/skoda/rapid/217...</td>\n      <td>коричневый</td>\n      <td>{'id': '22870340', 'name': 'Hockey Edition', '...</td>\n      <td>———————————————————————————\\r\\nФУНКЦИОНАЛЬНОЕ ...</td>\n      <td>NaN</td>\n      <td>NaN</td>\n      <td>{'cruise-control': True, 'asr': True, 'tinted-...</td>\n      <td>...</td>\n      <td>NaN</td>\n      <td>NaN</td>\n      <td>NaN</td>\n      <td>NaN</td>\n      <td>NaN</td>\n      <td>NaN</td>\n      <td>NaN</td>\n      <td>NaN</td>\n      <td>NaN</td>\n      <td>1335000.0</td>\n    </tr>\n    <tr>\n      <th>3</th>\n      <td>3</td>\n      <td>лифтбек</td>\n      <td>SKODA</td>\n      <td>https://auto.ru/cars/used/sale/skoda/rapid/110...</td>\n      <td>чёрный</td>\n      <td>{'id': '0'}</td>\n      <td>ЛОТ: 01306544\\r\\nЛокация №16\\r\\nФаворит Моторс...</td>\n      <td>1.6</td>\n      <td>110.0</td>\n      <td>{'cruise-control': True, 'glonass': True, 'asr...</td>\n      <td>...</td>\n      <td>автоматическая</td>\n      <td>NaN</td>\n      <td>1 владелец</td>\n      <td>NaN</td>\n      <td>Оригинал</td>\n      <td>передний</td>\n      <td>Левый</td>\n      <td>Не требует ремонта</td>\n      <td>Растаможен</td>\n      <td>1820000.0</td>\n    </tr>\n    <tr>\n      <th>4</th>\n      <td>4</td>\n      <td>внедорожник 5 дв.</td>\n      <td>SKODA</td>\n      <td>https://auto.ru/cars/used/sale/skoda/karoq/110...</td>\n      <td>коричневый</td>\n      <td>NaN</td>\n      <td>Продаю автомобиль отца, в идеальном состоянии ...</td>\n      <td>1.6</td>\n      <td>110.0</td>\n      <td>{'alarm': True}</td>\n      <td>...</td>\n      <td>механическая</td>\n      <td>NaN</td>\n      <td>1 владелец</td>\n      <td>NaN</td>\n      <td>Оригинал</td>\n      <td>передний</td>\n      <td>Левый</td>\n      <td>Не требует ремонта</td>\n      <td>Растаможен</td>\n      <td>NaN</td>\n    </tr>\n    <tr>\n      <th>...</th>\n      <td>...</td>\n      <td>...</td>\n      <td>...</td>\n      <td>...</td>\n      <td>...</td>\n      <td>...</td>\n      <td>...</td>\n      <td>...</td>\n      <td>...</td>\n      <td>...</td>\n      <td>...</td>\n      <td>...</td>\n      <td>...</td>\n      <td>...</td>\n      <td>...</td>\n      <td>...</td>\n      <td>...</td>\n      <td>...</td>\n      <td>...</td>\n      <td>...</td>\n      <td>...</td>\n    </tr>\n    <tr>\n      <th>295</th>\n      <td>295</td>\n      <td>NaN</td>\n      <td>SKODA</td>\n      <td>https://auto.ru/cars/new/group/skoda/rapid/217...</td>\n      <td>серебристый</td>\n      <td>{'id': '22128624', 'name': 'Ambition', 'availa...</td>\n      <td>ЛОТ: 01285069\\r\\n\\r\\nСкидка на автомобиль\\r\\n-...</td>\n      <td>NaN</td>\n      <td>NaN</td>\n      <td>{'cruise-control': True, 'glonass': True, 'esp...</td>\n      <td>...</td>\n      <td>NaN</td>\n      <td>NaN</td>\n      <td>NaN</td>\n      <td>NaN</td>\n      <td>NaN</td>\n      <td>NaN</td>\n      <td>NaN</td>\n      <td>NaN</td>\n      <td>NaN</td>\n      <td>NaN</td>\n    </tr>\n    <tr>\n      <th>296</th>\n      <td>296</td>\n      <td>лифтбек</td>\n      <td>SKODA</td>\n      <td>https://auto.ru/cars/used/sale/skoda/octavia/1...</td>\n      <td>белый</td>\n      <td>{'id': '0'}</td>\n      <td>ЛОТ: 01292897\\r\\nЛокация №4\\r\\nFAVORIT MOTORS ...</td>\n      <td>1.4</td>\n      <td>140.0</td>\n      <td>{'tinted-glass': True, 'airbag-driver': True, ...</td>\n      <td>...</td>\n      <td>роботизированная</td>\n      <td>NaN</td>\n      <td>3 или более</td>\n      <td>NaN</td>\n      <td>Оригинал</td>\n      <td>передний</td>\n      <td>Левый</td>\n      <td>Не требует ремонта</td>\n      <td>Растаможен</td>\n      <td>NaN</td>\n    </tr>\n    <tr>\n      <th>297</th>\n      <td>297</td>\n      <td>внедорожник 5 дв.</td>\n      <td>SKODA</td>\n      <td>https://auto.ru/cars/used/sale/skoda/karoq/110...</td>\n      <td>чёрный</td>\n      <td>{'id': '0'}</td>\n      <td>ЛОТ: 01305017\\r\\nЛокация №16\\r\\nФаворит Моторс...</td>\n      <td>1.0</td>\n      <td>115.0</td>\n      <td>{'cruise-control': True, 'asr': True, 'tinted-...</td>\n      <td>...</td>\n      <td>механическая</td>\n      <td>NaN</td>\n      <td>1 владелец</td>\n      <td>NaN</td>\n      <td>Оригинал</td>\n      <td>передний</td>\n      <td>Левый</td>\n      <td>Не требует ремонта</td>\n      <td>Растаможен</td>\n      <td>2970000.0</td>\n    </tr>\n    <tr>\n      <th>298</th>\n      <td>298</td>\n      <td>лифтбек</td>\n      <td>SKODA</td>\n      <td>https://auto.ru/cars/used/sale/skoda/rapid/110...</td>\n      <td>синий</td>\n      <td>{'id': '21032385', 'name': 'Style', 'available...</td>\n      <td>Автомобиль был куплен новым у официального дил...</td>\n      <td>1.4</td>\n      <td>125.0</td>\n      <td>{'cruise-control': True, 'tinted-glass': True,...</td>\n      <td>...</td>\n      <td>роботизированная</td>\n      <td>NaN</td>\n      <td>1 владелец</td>\n      <td>NaN</td>\n      <td>Оригинал</td>\n      <td>передний</td>\n      <td>Левый</td>\n      <td>Не требует ремонта</td>\n      <td>Растаможен</td>\n      <td>1630000.0</td>\n    </tr>\n    <tr>\n      <th>299</th>\n      <td>299</td>\n      <td>NaN</td>\n      <td>SKODA</td>\n      <td>https://auto.ru/cars/new/group/skoda/rapid/217...</td>\n      <td>серебристый</td>\n      <td>{'id': '22128624', 'name': 'Ambition', 'availa...</td>\n      <td>ЛОТ: 01285061\\r\\n\\r\\nСкидка на автомобиль\\r\\n-...</td>\n      <td>NaN</td>\n      <td>NaN</td>\n      <td>{'cruise-control': True, 'glonass': True, 'esp...</td>\n      <td>...</td>\n      <td>NaN</td>\n      <td>NaN</td>\n      <td>NaN</td>\n      <td>NaN</td>\n      <td>NaN</td>\n      <td>NaN</td>\n      <td>NaN</td>\n      <td>NaN</td>\n      <td>NaN</td>\n      <td>NaN</td>\n    </tr>\n  </tbody>\n</table>\n<p>300 rows × 34 columns</p>\n</div>"
     },
     "execution_count": 82,
     "metadata": {},
     "output_type": "execute_result"
    }
   ],
   "source": [
    "pd.read_csv('Data/parsed_car_data__17_37__02_02_2022.csv')"
   ],
   "metadata": {
    "collapsed": false,
    "pycharm": {
     "name": "#%%\n"
    }
   }
  },
  {
   "cell_type": "code",
   "execution_count": 69,
   "outputs": [
    {
     "data": {
      "text/plain": "'2655000'"
     },
     "execution_count": 69,
     "metadata": {},
     "output_type": "execute_result"
    }
   ],
   "source": [
    "resp = requests.get('https://auto.ru/cars/new/group/skoda/karoq/22535699/22687243/1106682611-cf692f2d/')\n",
    "car_page = BeautifulSoup(resp.content.decode('utf-8'), 'html.parser')\n",
    "\n",
    "''.join(re.findall('\\d', car_page.find('span', class_='OfferPriceCaption__price').text))"
   ],
   "metadata": {
    "collapsed": false,
    "pycharm": {
     "name": "#%%\n"
    }
   }
  },
  {
   "cell_type": "code",
   "execution_count": 73,
   "outputs": [
    {
     "data": {
      "text/plain": "[1, 2, 4, 5]"
     },
     "execution_count": 73,
     "metadata": {},
     "output_type": "execute_result"
    }
   ],
   "source": [
    "[1,2] + [4,5]"
   ],
   "metadata": {
    "collapsed": false,
    "pycharm": {
     "name": "#%%\n"
    }
   }
  },
  {
   "cell_type": "code",
   "execution_count": null,
   "outputs": [],
   "source": [],
   "metadata": {
    "collapsed": false,
    "pycharm": {
     "name": "#%%\n"
    }
   }
  }
 ],
 "metadata": {
  "kernelspec": {
   "display_name": "Python 3",
   "language": "python",
   "name": "python3"
  },
  "language_info": {
   "codemirror_mode": {
    "name": "ipython",
    "version": 2
   },
   "file_extension": ".py",
   "mimetype": "text/x-python",
   "name": "python",
   "nbconvert_exporter": "python",
   "pygments_lexer": "ipython2",
   "version": "2.7.6"
  }
 },
 "nbformat": 4,
 "nbformat_minor": 0
}