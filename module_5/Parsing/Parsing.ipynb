{
 "cells": [
  {
   "cell_type": "markdown",
   "metadata": {
    "collapsed": true,
    "pycharm": {
     "name": "#%% md\n"
    }
   },
   "source": [
    "# Parsing train data from auto.ru for car price prediction"
   ]
  },
  {
   "cell_type": "markdown",
   "source": [
    "## Import"
   ],
   "metadata": {
    "collapsed": false,
    "pycharm": {
     "name": "#%% md\n"
    }
   }
  },
  {
   "cell_type": "code",
   "execution_count": 1,
   "outputs": [
    {
     "name": "stdout",
     "output_type": "stream",
     "text": [
      "Import is completed.\n"
     ]
    }
   ],
   "source": [
    "# import\n",
    "import time\n",
    "from collections.abc import Iterable\n",
    "from collections.abc import Sequence\n",
    "\n",
    "import pandas as pd\n",
    "\n",
    "import requests\n",
    "from bs4 import BeautifulSoup\n",
    "from selenium import webdriver\n",
    "from selenium.webdriver.firefox.webdriver import WebDriver\n",
    "import asyncio\n",
    "import aiohttp\n",
    "import json\n",
    "import re\n",
    "\n",
    "import pprint as pp\n",
    "from IPython.display import display\n",
    "\n",
    "print('Import is completed.')"
   ],
   "metadata": {
    "collapsed": false,
    "pycharm": {
     "name": "#%%\n"
    }
   }
  },
  {
   "cell_type": "markdown",
   "source": [
    "## Functions"
   ],
   "metadata": {
    "collapsed": false,
    "pycharm": {
     "name": "#%% md\n"
    }
   }
  },
  {
   "cell_type": "code",
   "execution_count": 102,
   "outputs": [],
   "source": [
    "# noinspection PyBroadException\n",
    "def parse_car_data(car_url:str, content, features_to_extract:list):\n",
    "    \"\"\"Parse data from car ad page content trying to be as (reasonably) close to test set as possible.\"\"\"\n",
    "\n",
    "    car_data = {}\n",
    "\n",
    "    car_page = BeautifulSoup(content, 'html.parser')\n",
    "\n",
    "    # 'bodyType'\n",
    "    try: car_data['bodyType'] = car_page.find('li', class_='CardInfoRow CardInfoRow_bodytype').find('a', class_='Link Link_color_black').string\n",
    "    except: pass\n",
    "\n",
    "    # get info from script\n",
    "    try:\n",
    "        # 'brand', 'color', 'description',  'productionDate' and 'priceCurrency'\n",
    "        ld_json_scripts = car_page.find_all('script', type=\"application/ld+json\")\n",
    "        for script in ld_json_scripts:\n",
    "            cur_json = json.loads(script.string)\n",
    "            if cur_json['@type'] == 'https://schema.org/Product':\n",
    "                car_data.update({k:cur_json.get(k,None) for k in ['brand', 'color', 'description', 'productionDate']})\n",
    "                car_data['priceCurrency'] = cur_json['offers']['priceCurrency']\n",
    "                break\n",
    "    except:\n",
    "        pass\n",
    "\n",
    "    # 'car_url'\n",
    "    car_data['car_url'] = car_url\n",
    "\n",
    "    # engine info\n",
    "    try:\n",
    "        engine_texts = car_page.find('li', class_='CardInfoRow CardInfoRow_engine').find('div').text.split()\n",
    "\n",
    "        # 'engineDisplacement'\n",
    "        try: car_data['engineDisplacement'] = engine_texts[0]\n",
    "        except: pass\n",
    "\n",
    "        # 'enginePower'\n",
    "        try: car_data['enginePower'] = engine_texts[3]\n",
    "        except: pass\n",
    "\n",
    "        # 'fuelType'\n",
    "        try: car_data['fuelType'] = engine_texts[-1]\n",
    "        except: pass\n",
    "    except:\n",
    "        pass\n",
    "\n",
    "    # get info from state script\n",
    "    try:\n",
    "        json_script_state = json.loads(car_page.find('script', type=\"application/json\", id='initial-state').string)\n",
    "\n",
    "        # 'complectation_dict'\n",
    "        try: car_data['complectation_dict'] = str(json_script_state['card']['vehicle_info']['complectation'])\n",
    "        except: pass\n",
    "\n",
    "        # 'equipment_dict'\n",
    "        try: car_data['equipment_dict'] = str(json_script_state['card']['vehicle_info']['equipment'])\n",
    "        except: pass\n",
    "\n",
    "        # 'super_gen'\n",
    "        try: car_data['super_gen'] = str(json_script_state['card']['vehicle_info']['tech_param'])\n",
    "        except: pass\n",
    "\n",
    "        # 'modelDate'\n",
    "        try: car_data['modelDate'] = json_script_state['card']['vehicle_info']['super_gen']['year_from']\n",
    "        except: pass\n",
    "\n",
    "        # 'model_info'\n",
    "        try: car_data['model_info'] = str(json_script_state['card']['vehicle_info']['model_info'])\n",
    "        except: pass\n",
    "\n",
    "        # 'model_name' (no sense but let's just add to be more like test set)\n",
    "        try: car_data['model_name'] = json_script_state['card']['vehicle_info']['model_info']['code']\n",
    "        except: pass\n",
    "\n",
    "        # 'name' (no sense but let's just add to be more like test set)\n",
    "        try: car_data['name'] = json_script_state['card']['vehicle_info']['tech_param']['human_name']\n",
    "        except: pass\n",
    "\n",
    "        # 'numberOfDoors'\n",
    "        try: car_data['numberOfDoors'] = json_script_state['card']['vehicle_info']['configuration']['doors_count']\n",
    "        except: pass\n",
    "    except:\n",
    "        pass\n",
    "\n",
    "    # 'image'\n",
    "    try: car_data['image'] = 'https:' + car_page.select('link[as=image]')[0]['href']\n",
    "    except: pass\n",
    "\n",
    "    # 'mileage'\n",
    "    try: car_data['mileage'] = ''.join(re.findall('\\d',car_page.find('li', class_='CardInfoRow CardInfoRow_kmAge').find_all('span')[1].string))\n",
    "    except: pass\n",
    "\n",
    "    # 'parsing_unixtime'\n",
    "    car_data['parsing_unixtime'] = int(time.time())\n",
    "\n",
    "    # 'vehicleTransmission',\n",
    "    try: car_data['vehicleTransmission'] = car_page.find('li', class_='CardInfoRow CardInfoRow_transmission').find_all('span')[1].string\n",
    "    except: pass\n",
    "\n",
    "    # 'Владельцы'\n",
    "    try: car_data['Владельцы'] = car_page.find('li', class_='CardInfoRow CardInfoRow_ownersCount').find_all('span')[1].text.replace(u'\\xa0', u' ')\n",
    "    except: pass\n",
    "\n",
    "    # 'Владение'\n",
    "    try: car_data['Владение'] = car_page.find('li', class_='CardInfoRow CardInfoRow_owningTime').find_all('span')[1].text\n",
    "    except: pass\n",
    "\n",
    "    # 'ПТС'\n",
    "    try: car_data['ПТС'] = car_page.find('li', class_='CardInfoRow CardInfoRow_pts').find_all('span')[1].text\n",
    "    except: pass\n",
    "\n",
    "    # 'Привод'\n",
    "    try: car_data['Привод'] = car_page.find('li', class_='CardInfoRow CardInfoRow_drive').find_all('span')[1].text\n",
    "    except: pass\n",
    "\n",
    "    # 'Руль'\n",
    "    try: car_data['Руль'] = car_page.find('li', class_='CardInfoRow CardInfoRow_wheel').find_all('span')[1].text\n",
    "    except: pass\n",
    "\n",
    "    # 'Состояние'\n",
    "    try: car_data['Состояние'] = car_page.find('li', class_='CardInfoRow CardInfoRow_state').find_all('span')[1].text\n",
    "    except: pass\n",
    "\n",
    "    # 'Таможня'\n",
    "    try: car_data['Таможня'] = car_page.find('li', class_='CardInfoRow CardInfoRow_customs').find_all('span')[1].text\n",
    "    except: pass\n",
    "\n",
    "    # 'sell_id'\n",
    "    # no need for training\n",
    "\n",
    "    # 'vehicleConfiguration'\n",
    "    # all this information is presented in other features - no need for train\n",
    "\n",
    "    # 'vendor'\n",
    "    # not found such info on site, but we can easily infer it later from test set\n",
    "\n",
    "    # add price column\n",
    "    try: car_data['Price'] = ''.join(re.findall('\\d', car_page.find('span', class_='OfferPriceCaption__price').text))\n",
    "    except: pass\n",
    "\n",
    "    # fill not extracted features with None and rearrange output dict keys to follow test set format\n",
    "    output_dict = {}\n",
    "    for feature in features_to_extract+['Price']:\n",
    "        if feature in car_data:\n",
    "            output_dict[feature] = car_data[feature]\n",
    "        else:\n",
    "            output_dict[feature] = None\n",
    "\n",
    "    return output_dict\n",
    "\n",
    "def init_webdriver():\n",
    "    \"\"\"Webdriver initialization function. Configure webdriver to ensure correct car ads parsing.\"\"\"\n",
    "\n",
    "    # disable geolocation\n",
    "    geoDisabled = webdriver.FirefoxOptions()\n",
    "    geoDisabled.set_preference(\"geo.enabled\", False)\n",
    "    geoDisabled.set_preference(\"geo.provider.use_corelocation\", False)\n",
    "    geoDisabled.set_preference(\"geo.prompt.testing\", False)\n",
    "    geoDisabled.set_preference(\"geo.prompt.testing.allow\", False)\n",
    "\n",
    "    return webdriver.Firefox(options=geoDisabled)\n",
    "\n",
    "def parse_car_urls(brand:str, driver:WebDriver):\n",
    "    \"\"\"Collect all car ad urls for specific brand via specific driver.\"\"\"\n",
    "\n",
    "    brand_url = f'https://auto.ru/cars/{brand}/all/'\n",
    "    driver.get(brand_url)\n",
    "    brand_page = BeautifulSoup(driver.page_source, 'html.parser')\n",
    "\n",
    "    # get number of pages for brand\n",
    "    num_pages = int(brand_page.find('span', class_='ControlGroup ControlGroup_responsive_no ControlGroup_size_s ListingPagination__pages') \\\n",
    "                                .find_all('a')[-1].text)\n",
    "    car_urls = []\n",
    "    for page_idx in range(1,num_pages+1):\n",
    "        print(f'Brand \\'{brand}\\' (page {page_idx} from {num_pages})', end='\\r', flush=True)\n",
    "        page_url = brand_url + f'?page={page_idx}'\n",
    "        driver.get(page_url)\n",
    "        cur_page = BeautifulSoup(driver.page_source, 'html.parser')\n",
    "        car_links = cur_page.find_all('a', class_='Link ListingItemTitle__link')\n",
    "        car_urls.extend([link['href'] for link in car_links])\n",
    "\n",
    "        time.sleep(1)\n",
    "\n",
    "    print('')\n",
    "\n",
    "    return car_urls"
   ],
   "metadata": {
    "collapsed": false,
    "pycharm": {
     "name": "#%%\n"
    }
   }
  },
  {
   "cell_type": "code",
   "execution_count": 3,
   "outputs": [
    {
     "data": {
      "text/plain": "  bodyType  brand                                            car_url  \\\n0  лифтбек  SKODA  https://auto.ru/cars/used/sale/skoda/octavia/1...   \n1  лифтбек  SKODA  https://auto.ru/cars/used/sale/skoda/octavia/1...   \n2  лифтбек  SKODA  https://auto.ru/cars/used/sale/skoda/superb/11...   \n3  лифтбек  SKODA  https://auto.ru/cars/used/sale/skoda/octavia/1...   \n4  лифтбек  SKODA  https://auto.ru/cars/used/sale/skoda/octavia/1...   \n\n        color                                 complectation_dict  \\\n0       синий                                                NaN   \n1      чёрный                                                NaN   \n2       серый  {\"id\":\"20026336\",\"name\":\"Ambition\",\"available_...   \n3  коричневый  {\"id\":\"20803582\",\"name\":\"Ambition\",\"available_...   \n4       белый                                                NaN   \n\n                                         description engineDisplacement  \\\n0  Все автомобили, представленные в продаже, прох...            1.2 LTR   \n1  ЛОТ: 01217195\\nАвтопрага Север\\nДанный автомоб...            1.6 LTR   \n2  Все автомобили, представленные в продаже, прох...            1.8 LTR   \n3  КОМПЛЕКТ ЗИМНЕЙ (ЛЕТНЕЙ) РЕЗИНЫ ПО СЕЗОНУ В ПО...            1.6 LTR   \n4  ЛОТ: 01220889\\nАвтопрага Север\\n\\nВы можете по...            1.8 LTR   \n\n  enginePower                                     equipment_dict fuelType  \\\n0     105 N12  {\"engine-proof\":true,\"tinted-glass\":true,\"airb...   бензин   \n1     110 N12  {\"cruise-control\":true,\"asr\":true,\"esp\":true,\"...   бензин   \n2     152 N12  {\"cruise-control\":true,\"tinted-glass\":true,\"es...   бензин   \n3     110 N12  {\"cruise-control\":true,\"roller-blind-for-rear-...   бензин   \n4     152 N12  {\"cruise-control\":true,\"asr\":true,\"esp\":true,\"...   бензин   \n\n   ...     vehicleConfiguration  vehicleTransmission    vendor    Владельцы  \\\n0  ...       LIFTBACK ROBOT 1.2     роботизированная  EUROPEAN  3 или более   \n1  ...  LIFTBACK MECHANICAL 1.6         механическая  EUROPEAN   1 владелец   \n2  ...       LIFTBACK ROBOT 1.8     роботизированная  EUROPEAN   1 владелец   \n3  ...   LIFTBACK AUTOMATIC 1.6       автоматическая  EUROPEAN   1 владелец   \n4  ...   LIFTBACK AUTOMATIC 1.8       автоматическая  EUROPEAN   1 владелец   \n\n  Владение       ПТС    Привод   Руль           Состояние     Таможня  \n0      NaN  Оригинал  передний  Левый  Не требует ремонта  Растаможен  \n1      NaN  Оригинал  передний  Левый  Не требует ремонта  Растаможен  \n2      NaN  Оригинал  передний  Левый  Не требует ремонта  Растаможен  \n3      NaN  Оригинал  передний  Левый  Не требует ремонта  Растаможен  \n4      NaN  Оригинал  передний  Левый  Не требует ремонта  Растаможен  \n\n[5 rows x 32 columns]",
      "text/html": "<div>\n<style scoped>\n    .dataframe tbody tr th:only-of-type {\n        vertical-align: middle;\n    }\n\n    .dataframe tbody tr th {\n        vertical-align: top;\n    }\n\n    .dataframe thead th {\n        text-align: right;\n    }\n</style>\n<table border=\"1\" class=\"dataframe\">\n  <thead>\n    <tr style=\"text-align: right;\">\n      <th></th>\n      <th>bodyType</th>\n      <th>brand</th>\n      <th>car_url</th>\n      <th>color</th>\n      <th>complectation_dict</th>\n      <th>description</th>\n      <th>engineDisplacement</th>\n      <th>enginePower</th>\n      <th>equipment_dict</th>\n      <th>fuelType</th>\n      <th>...</th>\n      <th>vehicleConfiguration</th>\n      <th>vehicleTransmission</th>\n      <th>vendor</th>\n      <th>Владельцы</th>\n      <th>Владение</th>\n      <th>ПТС</th>\n      <th>Привод</th>\n      <th>Руль</th>\n      <th>Состояние</th>\n      <th>Таможня</th>\n    </tr>\n  </thead>\n  <tbody>\n    <tr>\n      <th>0</th>\n      <td>лифтбек</td>\n      <td>SKODA</td>\n      <td>https://auto.ru/cars/used/sale/skoda/octavia/1...</td>\n      <td>синий</td>\n      <td>NaN</td>\n      <td>Все автомобили, представленные в продаже, прох...</td>\n      <td>1.2 LTR</td>\n      <td>105 N12</td>\n      <td>{\"engine-proof\":true,\"tinted-glass\":true,\"airb...</td>\n      <td>бензин</td>\n      <td>...</td>\n      <td>LIFTBACK ROBOT 1.2</td>\n      <td>роботизированная</td>\n      <td>EUROPEAN</td>\n      <td>3 или более</td>\n      <td>NaN</td>\n      <td>Оригинал</td>\n      <td>передний</td>\n      <td>Левый</td>\n      <td>Не требует ремонта</td>\n      <td>Растаможен</td>\n    </tr>\n    <tr>\n      <th>1</th>\n      <td>лифтбек</td>\n      <td>SKODA</td>\n      <td>https://auto.ru/cars/used/sale/skoda/octavia/1...</td>\n      <td>чёрный</td>\n      <td>NaN</td>\n      <td>ЛОТ: 01217195\\nАвтопрага Север\\nДанный автомоб...</td>\n      <td>1.6 LTR</td>\n      <td>110 N12</td>\n      <td>{\"cruise-control\":true,\"asr\":true,\"esp\":true,\"...</td>\n      <td>бензин</td>\n      <td>...</td>\n      <td>LIFTBACK MECHANICAL 1.6</td>\n      <td>механическая</td>\n      <td>EUROPEAN</td>\n      <td>1 владелец</td>\n      <td>NaN</td>\n      <td>Оригинал</td>\n      <td>передний</td>\n      <td>Левый</td>\n      <td>Не требует ремонта</td>\n      <td>Растаможен</td>\n    </tr>\n    <tr>\n      <th>2</th>\n      <td>лифтбек</td>\n      <td>SKODA</td>\n      <td>https://auto.ru/cars/used/sale/skoda/superb/11...</td>\n      <td>серый</td>\n      <td>{\"id\":\"20026336\",\"name\":\"Ambition\",\"available_...</td>\n      <td>Все автомобили, представленные в продаже, прох...</td>\n      <td>1.8 LTR</td>\n      <td>152 N12</td>\n      <td>{\"cruise-control\":true,\"tinted-glass\":true,\"es...</td>\n      <td>бензин</td>\n      <td>...</td>\n      <td>LIFTBACK ROBOT 1.8</td>\n      <td>роботизированная</td>\n      <td>EUROPEAN</td>\n      <td>1 владелец</td>\n      <td>NaN</td>\n      <td>Оригинал</td>\n      <td>передний</td>\n      <td>Левый</td>\n      <td>Не требует ремонта</td>\n      <td>Растаможен</td>\n    </tr>\n    <tr>\n      <th>3</th>\n      <td>лифтбек</td>\n      <td>SKODA</td>\n      <td>https://auto.ru/cars/used/sale/skoda/octavia/1...</td>\n      <td>коричневый</td>\n      <td>{\"id\":\"20803582\",\"name\":\"Ambition\",\"available_...</td>\n      <td>КОМПЛЕКТ ЗИМНЕЙ (ЛЕТНЕЙ) РЕЗИНЫ ПО СЕЗОНУ В ПО...</td>\n      <td>1.6 LTR</td>\n      <td>110 N12</td>\n      <td>{\"cruise-control\":true,\"roller-blind-for-rear-...</td>\n      <td>бензин</td>\n      <td>...</td>\n      <td>LIFTBACK AUTOMATIC 1.6</td>\n      <td>автоматическая</td>\n      <td>EUROPEAN</td>\n      <td>1 владелец</td>\n      <td>NaN</td>\n      <td>Оригинал</td>\n      <td>передний</td>\n      <td>Левый</td>\n      <td>Не требует ремонта</td>\n      <td>Растаможен</td>\n    </tr>\n    <tr>\n      <th>4</th>\n      <td>лифтбек</td>\n      <td>SKODA</td>\n      <td>https://auto.ru/cars/used/sale/skoda/octavia/1...</td>\n      <td>белый</td>\n      <td>NaN</td>\n      <td>ЛОТ: 01220889\\nАвтопрага Север\\n\\nВы можете по...</td>\n      <td>1.8 LTR</td>\n      <td>152 N12</td>\n      <td>{\"cruise-control\":true,\"asr\":true,\"esp\":true,\"...</td>\n      <td>бензин</td>\n      <td>...</td>\n      <td>LIFTBACK AUTOMATIC 1.8</td>\n      <td>автоматическая</td>\n      <td>EUROPEAN</td>\n      <td>1 владелец</td>\n      <td>NaN</td>\n      <td>Оригинал</td>\n      <td>передний</td>\n      <td>Левый</td>\n      <td>Не требует ремонта</td>\n      <td>Растаможен</td>\n    </tr>\n  </tbody>\n</table>\n<p>5 rows × 32 columns</p>\n</div>"
     },
     "metadata": {},
     "output_type": "display_data"
    },
    {
     "name": "stdout",
     "output_type": "stream",
     "text": [
      "<class 'pandas.core.frame.DataFrame'>\n",
      "RangeIndex: 34686 entries, 0 to 34685\n",
      "Data columns (total 32 columns):\n",
      " #   Column                Non-Null Count  Dtype \n",
      "---  ------                --------------  ----- \n",
      " 0   bodyType              34686 non-null  object\n",
      " 1   brand                 34686 non-null  object\n",
      " 2   car_url               34686 non-null  object\n",
      " 3   color                 34686 non-null  object\n",
      " 4   complectation_dict    6418 non-null   object\n",
      " 5   description           34686 non-null  object\n",
      " 6   engineDisplacement    34686 non-null  object\n",
      " 7   enginePower           34686 non-null  object\n",
      " 8   equipment_dict        24690 non-null  object\n",
      " 9   fuelType              34686 non-null  object\n",
      " 10  image                 34686 non-null  object\n",
      " 11  mileage               34686 non-null  int64 \n",
      " 12  modelDate             34686 non-null  int64 \n",
      " 13  model_info            34686 non-null  object\n",
      " 14  model_name            34686 non-null  object\n",
      " 15  name                  34686 non-null  object\n",
      " 16  numberOfDoors         34686 non-null  int64 \n",
      " 17  parsing_unixtime      34686 non-null  int64 \n",
      " 18  priceCurrency         34686 non-null  object\n",
      " 19  productionDate        34686 non-null  int64 \n",
      " 20  sell_id               34686 non-null  int64 \n",
      " 21  super_gen             34686 non-null  object\n",
      " 22  vehicleConfiguration  34686 non-null  object\n",
      " 23  vehicleTransmission   34686 non-null  object\n",
      " 24  vendor                34686 non-null  object\n",
      " 25  Владельцы             34686 non-null  object\n",
      " 26  Владение              11995 non-null  object\n",
      " 27  ПТС                   34685 non-null  object\n",
      " 28  Привод                34686 non-null  object\n",
      " 29  Руль                  34686 non-null  object\n",
      " 30  Состояние             34686 non-null  object\n",
      " 31  Таможня               34686 non-null  object\n",
      "dtypes: int64(6), object(26)\n",
      "memory usage: 8.5+ MB\n"
     ]
    },
    {
     "data": {
      "text/plain": "              mileage     modelDate  numberOfDoors  parsing_unixtime  \\\ncount    34686.000000  34686.000000   34686.000000      3.468600e+04   \nmean    162009.767889   2007.074728       4.450816      1.603287e+09   \nstd     100676.559489      7.415894       0.703040      1.493071e+05   \nmin          1.000000   1904.000000       0.000000      1.603107e+09   \n25%      91153.500000   2004.000000       4.000000      1.603221e+09   \n50%     149779.500000   2008.000000       5.000000      1.603254e+09   \n75%     215000.000000   2012.000000       5.000000      1.603290e+09   \nmax    1000000.000000   2020.000000       5.000000      1.603710e+09   \n\n       productionDate       sell_id  \ncount    34686.000000  3.468600e+04  \nmean      2009.264602  1.098300e+09  \nstd          7.047661  1.911225e+07  \nmin       1904.000000  2.665000e+03  \n25%       2006.000000  1.099049e+09  \n50%       2011.000000  1.100911e+09  \n75%       2014.000000  1.101245e+09  \nmax       2020.000000  1.101375e+09  ",
      "text/html": "<div>\n<style scoped>\n    .dataframe tbody tr th:only-of-type {\n        vertical-align: middle;\n    }\n\n    .dataframe tbody tr th {\n        vertical-align: top;\n    }\n\n    .dataframe thead th {\n        text-align: right;\n    }\n</style>\n<table border=\"1\" class=\"dataframe\">\n  <thead>\n    <tr style=\"text-align: right;\">\n      <th></th>\n      <th>mileage</th>\n      <th>modelDate</th>\n      <th>numberOfDoors</th>\n      <th>parsing_unixtime</th>\n      <th>productionDate</th>\n      <th>sell_id</th>\n    </tr>\n  </thead>\n  <tbody>\n    <tr>\n      <th>count</th>\n      <td>34686.000000</td>\n      <td>34686.000000</td>\n      <td>34686.000000</td>\n      <td>3.468600e+04</td>\n      <td>34686.000000</td>\n      <td>3.468600e+04</td>\n    </tr>\n    <tr>\n      <th>mean</th>\n      <td>162009.767889</td>\n      <td>2007.074728</td>\n      <td>4.450816</td>\n      <td>1.603287e+09</td>\n      <td>2009.264602</td>\n      <td>1.098300e+09</td>\n    </tr>\n    <tr>\n      <th>std</th>\n      <td>100676.559489</td>\n      <td>7.415894</td>\n      <td>0.703040</td>\n      <td>1.493071e+05</td>\n      <td>7.047661</td>\n      <td>1.911225e+07</td>\n    </tr>\n    <tr>\n      <th>min</th>\n      <td>1.000000</td>\n      <td>1904.000000</td>\n      <td>0.000000</td>\n      <td>1.603107e+09</td>\n      <td>1904.000000</td>\n      <td>2.665000e+03</td>\n    </tr>\n    <tr>\n      <th>25%</th>\n      <td>91153.500000</td>\n      <td>2004.000000</td>\n      <td>4.000000</td>\n      <td>1.603221e+09</td>\n      <td>2006.000000</td>\n      <td>1.099049e+09</td>\n    </tr>\n    <tr>\n      <th>50%</th>\n      <td>149779.500000</td>\n      <td>2008.000000</td>\n      <td>5.000000</td>\n      <td>1.603254e+09</td>\n      <td>2011.000000</td>\n      <td>1.100911e+09</td>\n    </tr>\n    <tr>\n      <th>75%</th>\n      <td>215000.000000</td>\n      <td>2012.000000</td>\n      <td>5.000000</td>\n      <td>1.603290e+09</td>\n      <td>2014.000000</td>\n      <td>1.101245e+09</td>\n    </tr>\n    <tr>\n      <th>max</th>\n      <td>1000000.000000</td>\n      <td>2020.000000</td>\n      <td>5.000000</td>\n      <td>1.603710e+09</td>\n      <td>2020.000000</td>\n      <td>1.101375e+09</td>\n    </tr>\n  </tbody>\n</table>\n</div>"
     },
     "execution_count": 3,
     "metadata": {},
     "output_type": "execute_result"
    }
   ],
   "source": [
    "# load given test data\n",
    "DATA_DIR = 'Data'\n",
    "df_test = pd.read_csv(f'../{DATA_DIR}/test.csv')\n",
    "display(df_test.head(5))\n",
    "df_test.info()\n",
    "df_test.describe()"
   ],
   "metadata": {
    "collapsed": false,
    "pycharm": {
     "name": "#%%\n"
    }
   }
  },
  {
   "cell_type": "code",
   "execution_count": 4,
   "outputs": [
    {
     "name": "stdout",
     "output_type": "stream",
     "text": [
      "GET url status= 200\n",
      "<!DOCTYPE html>\n",
      "<html data-reactroot=\"\" lang=\"ru\">\n",
      " <head>\n",
      "  <link as=\"script\" href=\"https://auto.ru/_crpd/2W5I8yt76/b2530f-ah6D/GgBdzIYYcCBRKMb4AePeu15H21gDkDZ4uvt444bcqkZoSu3X1jye0fP9ptkU_Lo5gMNeGZtzrJp19-pl9aVQB1uTzczE3XsqgWjC9RgmXPREglbaBlWuLmyu7viXzeqBogZuxpe1md4u_28cBjc98p8NmlyR-ikZ8vFq738mkkUbGMfdSZk-aNWvxbzepts9iQCb0wPTJ-lj5Cb03MnqCSWBIc9QctdXYrgvF809efYRy15VF3KkWn7_5-cx6VrLlI\" nonce=\"53tRKdiuhAG010lXQYee+w==\" rel=\"preload\"/>\n",
      "  <meta charset=\"utf-8\"/>\n",
      "  <meta content=\"IE=edge\" http-equiv .....\n"
     ]
    }
   ],
   "source": [
    "# get html page for navigation\n",
    "url = 'https://auto.ru'\n",
    "response = requests.get(url)\n",
    "print('GET url status=', response.status_code)\n",
    "page = BeautifulSoup(response.text,'html.parser')\n",
    "print(page.prettify()[:500], '.....')"
   ],
   "metadata": {
    "collapsed": false,
    "pycharm": {
     "name": "#%%\n"
    }
   }
  },
  {
   "cell_type": "code",
   "execution_count": 5,
   "outputs": [
    {
     "name": "stdout",
     "output_type": "stream",
     "text": [
      "['https://auto.ru/cars/vaz/all/',\n",
      " 'https://auto.ru/cars/audi/all/',\n",
      " 'https://auto.ru/cars/bmw/all/',\n",
      " 'https://auto.ru/cars/chery/all/',\n",
      " 'https://auto.ru/cars/chevrolet/all/',\n",
      " 'https://auto.ru/cars/citroen/all/',\n",
      " 'https://auto.ru/cars/daewoo/all/',\n",
      " 'https://auto.ru/cars/ford/all/',\n",
      " 'https://auto.ru/cars/geely/all/',\n",
      " 'https://auto.ru/cars/haval/all/',\n",
      " 'https://auto.ru/cars/honda/all/',\n",
      " 'https://auto.ru/cars/hyundai/all/',\n",
      " 'https://auto.ru/cars/infiniti/all/',\n",
      " 'https://auto.ru/cars/kia/all/',\n",
      " 'https://auto.ru/cars/land_rover/all/',\n",
      " 'https://auto.ru/cars/lexus/all/',\n",
      " 'https://auto.ru/cars/mini/all/',\n",
      " 'https://auto.ru/cars/mazda/all/',\n",
      " 'https://auto.ru/cars/mercedes/all/',\n",
      " 'https://auto.ru/cars/mitsubishi/all/',\n",
      " 'https://auto.ru/cars/nissan/all/',\n",
      " 'https://auto.ru/cars/opel/all/',\n",
      " 'https://auto.ru/cars/peugeot/all/',\n",
      " 'https://auto.ru/cars/porsche/all/',\n",
      " 'https://auto.ru/cars/renault/all/',\n",
      " 'https://auto.ru/cars/skoda/all/',\n",
      " 'https://auto.ru/cars/ssang_yong/all/',\n",
      " 'https://auto.ru/cars/subaru/all/',\n",
      " 'https://auto.ru/cars/suzuki/all/',\n",
      " 'https://auto.ru/cars/toyota/all/',\n",
      " 'https://auto.ru/cars/volkswagen/all/',\n",
      " 'https://auto.ru/cars/volvo/all/',\n",
      " 'https://auto.ru/cars/gaz/all/',\n",
      " 'https://auto.ru/cars/uaz/all/']\n"
     ]
    },
    {
     "data": {
      "text/plain": "['vaz',\n 'audi',\n 'bmw',\n 'chery',\n 'chevrolet',\n 'citroen',\n 'daewoo',\n 'ford',\n 'geely',\n 'haval',\n 'honda',\n 'hyundai',\n 'infiniti',\n 'kia',\n 'land_rover',\n 'lexus',\n 'mini',\n 'mazda',\n 'mercedes',\n 'mitsubishi',\n 'nissan',\n 'opel',\n 'peugeot',\n 'porsche',\n 'renault',\n 'skoda',\n 'ssang_yong',\n 'subaru',\n 'suzuki',\n 'toyota',\n 'volkswagen',\n 'volvo',\n 'gaz',\n 'uaz']"
     },
     "execution_count": 5,
     "metadata": {},
     "output_type": "execute_result"
    }
   ],
   "source": [
    "# get all brands presented on site\n",
    "brand_links = page.find_all('a',class_='IndexMarks__item')\n",
    "brand_urls = list(map(lambda a: a['href'], brand_links))\n",
    "pp.pprint(brand_urls)\n",
    "site_brands = [u.split('/')[-3] for u in brand_urls]\n",
    "site_brands"
   ],
   "metadata": {
    "collapsed": false,
    "pycharm": {
     "name": "#%%\n"
    }
   }
  },
  {
   "cell_type": "code",
   "execution_count": 6,
   "outputs": [
    {
     "data": {
      "text/plain": "['skoda',\n 'audi',\n 'honda',\n 'volvo',\n 'bmw',\n 'nissan',\n 'infiniti',\n 'mercedes',\n 'toyota',\n 'lexus',\n 'volkswagen',\n 'mitsubishi']"
     },
     "execution_count": 6,
     "metadata": {},
     "output_type": "execute_result"
    }
   ],
   "source": [
    "# brands in test data\n",
    "brands = [brand.lower() for brand in df_test['brand'].unique()]\n",
    "brands"
   ],
   "metadata": {
    "collapsed": false,
    "pycharm": {
     "name": "#%%\n"
    }
   }
  },
  {
   "cell_type": "code",
   "execution_count": 7,
   "outputs": [
    {
     "data": {
      "text/plain": "True"
     },
     "execution_count": 7,
     "metadata": {},
     "output_type": "execute_result"
    }
   ],
   "source": [
    "# check if we have all needed brands on site\n",
    "brands <= site_brands"
   ],
   "metadata": {
    "collapsed": false,
    "pycharm": {
     "name": "#%%\n"
    }
   }
  },
  {
   "cell_type": "markdown",
   "source": [
    "Great, we have all brands from test set on site.\n",
    "So, get ad urls from site for all brands that are in test set."
   ],
   "metadata": {
    "collapsed": false
   }
  },
  {
   "cell_type": "code",
   "execution_count": null,
   "outputs": [],
   "source": [
    "# prepare webdriver to bypass site parsing protection\n",
    "driver = init_webdriver()\n",
    "\n",
    "try:\n",
    "    driver.get('https://auto.ru/')\n",
    "    time.sleep(1)\n",
    "\n",
    "    # reject geolocation request in order to parse page by page (it is now allowed when you don't do it first..)\n",
    "    no_location_button = driver.find_element_by_xpath('//span[@data-decision=\"no\"]')\n",
    "    no_location_button.click()\n",
    "    time.sleep(3)\n",
    "\n",
    "    # collect car urls for brands using already configured webdriver\n",
    "    urls = []\n",
    "    for brand in brands:\n",
    "        print(f\"Processing brand \\'{brand}\\':\")\n",
    "        urls.extend(parse_car_urls(brand, driver))\n",
    "\n",
    "    path = f'Data/car_urls__{time.strftime(\"%H_%M__%d_%m_%Y\")}.csv'\n",
    "    pd.DataFrame(data=urls, columns=['car_url']).to_csv(path, index=False)\n",
    "except Exception as e:\n",
    "    print(e)\n",
    "finally:\n",
    "    driver.quit()"
   ],
   "metadata": {
    "collapsed": false,
    "pycharm": {
     "name": "#%%\n",
     "is_executing": true
    }
   }
  },
  {
   "cell_type": "code",
   "execution_count": 9,
   "outputs": [
    {
     "name": "stdout",
     "output_type": "stream",
     "text": [
      "['bodyType',\n",
      " 'brand',\n",
      " 'car_url',\n",
      " 'color',\n",
      " 'complectation_dict',\n",
      " 'description',\n",
      " 'engineDisplacement',\n",
      " 'enginePower',\n",
      " 'equipment_dict',\n",
      " 'fuelType',\n",
      " 'image',\n",
      " 'mileage',\n",
      " 'modelDate',\n",
      " 'model_info',\n",
      " 'model_name',\n",
      " 'name',\n",
      " 'numberOfDoors',\n",
      " 'parsing_unixtime',\n",
      " 'priceCurrency',\n",
      " 'productionDate',\n",
      " 'sell_id',\n",
      " 'super_gen',\n",
      " 'vehicleConfiguration',\n",
      " 'vehicleTransmission',\n",
      " 'vendor',\n",
      " 'Владельцы',\n",
      " 'Владение',\n",
      " 'ПТС',\n",
      " 'Привод',\n",
      " 'Руль',\n",
      " 'Состояние',\n",
      " 'Таможня']\n"
     ]
    }
   ],
   "source": [
    "# let's see what features are in test set\n",
    "test_features = list(df_test.columns)\n",
    "pp.pprint(test_features)"
   ],
   "metadata": {
    "collapsed": false,
    "pycharm": {
     "name": "#%%\n"
    }
   }
  },
  {
   "cell_type": "markdown",
   "source": [
    "Let's parse data from collected car ads urls."
   ],
   "metadata": {
    "collapsed": false,
    "pycharm": {
     "name": "#%% md\n",
     "is_executing": true
    }
   },
   "outputs": []
  },
  {
   "cell_type": "code",
   "execution_count": 10,
   "outputs": [
    {
     "data": {
      "text/plain": "(42305,)"
     },
     "execution_count": 10,
     "metadata": {},
     "output_type": "execute_result"
    }
   ],
   "source": [
    "# load the most recent car ads urls\n",
    "car_urls = pd.read_csv(DATA_DIR+'/car_urls__03_01__31_01_2022.csv')['car_url']\n",
    "car_urls.shape"
   ],
   "metadata": {
    "collapsed": false,
    "pycharm": {
     "name": "#%%\n"
    }
   }
  },
  {
   "cell_type": "code",
   "execution_count": 60,
   "outputs": [],
   "source": [
    "class Batcher:\n",
    "    def __init__(self, src_list:Sequence, batch_size:int):\n",
    "        self.src_list = src_list\n",
    "        self.batch_size = batch_size\n",
    "        self.batch_count = len(src_list) // batch_size\n",
    "        self.idx_from = None\n",
    "        self.idx_to = None\n",
    "\n",
    "    # noinspection PyRedundantParentheses\n",
    "    def batches(self):\n",
    "        for i in range(self.batch_count):\n",
    "            self.idx_from, self.idx_to = i*self.batch_size, (i+1)*self.batch_size\n",
    "            yield (i, self.src_list[self.idx_from : self.idx_to])\n",
    "        if self.batch_size * self.batch_count < len(self.src_list):\n",
    "            yield (self.batch_count, self.src_list[self.batch_size * self.batch_count:])\n",
    "\n",
    "async def get_car_data_async(task_idx, car_url, session, features_to_extract):\n",
    "    try:\n",
    "        # print(f'Task {task_idx} started.')\n",
    "        # print(f'get_car_data_async(): get url {car_url}')\n",
    "        async with session.get(url=car_url) as response:\n",
    "            content = await response.read()\n",
    "\n",
    "            # print(f'Task {task_idx} completed.')\n",
    "            output_dict = parse_car_data(car_url, content.decode('utf-8'), features_to_extract)\n",
    "\n",
    "    except Exception as e:\n",
    "        print(f\"Unable to get url {car_url} due to {e.__class__} with args={e.args}.\")\n",
    "        # create empty dict\n",
    "        output_dict = dict.fromkeys(features_to_extract)\n",
    "\n",
    "    return output_dict\n",
    "\n",
    "async def process_batch_async(urls, features_to_extract):\n",
    "    async with aiohttp.ClientSession() as session:\n",
    "        ret = await asyncio.gather(*[get_car_data_async(i, url, session, features_to_extract) for i, url in enumerate(urls)])\n",
    "        return ret"
   ],
   "metadata": {
    "collapsed": false,
    "pycharm": {
     "name": "#%%\n"
    }
   }
  },
  {
   "cell_type": "code",
   "execution_count": 103,
   "outputs": [
    {
     "name": "stdout",
     "output_type": "stream",
     "text": [
      "Processing batch 1 from 2. Urls range [0 to 5] from total 42305 urls\n",
      "Batch processing time=19.832295179367065\n",
      "Processing batch 2 from 2. Urls range [5 to 10] from total 42305 urls\n",
      "Batch processing time=2.6998751163482666\n",
      "Car parsing is completed.\n"
     ]
    }
   ],
   "source": [
    "batcher = Batcher(car_urls[:10], batch_size=5)\n",
    "\n",
    "path = f'{DATA_DIR}/parsed_car_data__{time.strftime(\"%H_%M__%d_%m_%Y\")}.csv'\n",
    "\n",
    "for batch_idx, batch_urls in batcher.batches():\n",
    "    print(f\"Processing batch {batch_idx+1} from {batcher.batch_count}. Urls range [{batcher.idx_from} to {batcher.idx_to}] from total {car_urls.shape[0]} urls\")\n",
    "    beg_time = time.time()\n",
    "    batch_result = await process_batch_async(batch_urls, test_features)\n",
    "    print(f'Batch processing time={time.time() - beg_time}')\n",
    "    df_batch = pd.DataFrame(batch_result)\n",
    "    df_batch.index += batch_idx * batcher.batch_size\n",
    "\n",
    "    # append batch data to csv file\n",
    "    with open(path,'a+', encoding='utf-8') as file:\n",
    "        file.write(df_batch.to_csv(header=True if batch_idx == 0 else False, index_label='№'))\n",
    "\n",
    "    time.sleep(2)\n",
    "\n",
    "print('Car parsing is completed.')"
   ],
   "metadata": {
    "collapsed": false,
    "pycharm": {
     "name": "#%%\n"
    }
   }
  },
  {
   "cell_type": "markdown",
   "source": [
    "Check the amount of useful records in parsed data:"
   ],
   "metadata": {
    "collapsed": false,
    "pycharm": {
     "name": "#%% md\n"
    }
   }
  },
  {
   "cell_type": "code",
   "execution_count": 104,
   "outputs": [
    {
     "name": "stdout",
     "output_type": "stream",
     "text": [
      "<class 'pandas.core.frame.DataFrame'>\n",
      "RangeIndex: 42305 entries, 0 to 42304\n",
      "Data columns (total 34 columns):\n",
      " #   Column                Non-Null Count  Dtype  \n",
      "---  ------                --------------  -----  \n",
      " 0   №                     42305 non-null  int64  \n",
      " 1   bodyType              33195 non-null  object \n",
      " 2   brand                 41635 non-null  object \n",
      " 3   car_url               42305 non-null  object \n",
      " 4   color                 41635 non-null  object \n",
      " 5   complectation_dict    38510 non-null  object \n",
      " 6   description           41635 non-null  object \n",
      " 7   engineDisplacement    32624 non-null  float64\n",
      " 8   enginePower           32624 non-null  float64\n",
      " 9   equipment_dict        41552 non-null  object \n",
      " 10  fuelType              32624 non-null  object \n",
      " 11  image                 30612 non-null  object \n",
      " 12  mileage               33195 non-null  float64\n",
      " 13  modelDate             40061 non-null  float64\n",
      " 14  model_info            41552 non-null  object \n",
      " 15  model_name            41552 non-null  object \n",
      " 16  name                  40061 non-null  object \n",
      " 17  numberOfDoors         41552 non-null  float64\n",
      " 18  parsing_unixtime      42305 non-null  int64  \n",
      " 19  priceCurrency         41635 non-null  object \n",
      " 20  productionDate        41635 non-null  float64\n",
      " 21  sell_id               0 non-null      float64\n",
      " 22  super_gen             41552 non-null  object \n",
      " 23  vehicleConfiguration  0 non-null      float64\n",
      " 24  vehicleTransmission   33195 non-null  object \n",
      " 25  vendor                0 non-null      float64\n",
      " 26  Владельцы             33195 non-null  object \n",
      " 27  Владение              6117 non-null   object \n",
      " 28  ПТС                   33195 non-null  object \n",
      " 29  Привод                33195 non-null  object \n",
      " 30  Руль                  33195 non-null  object \n",
      " 31  Состояние             33188 non-null  object \n",
      " 32  Таможня               33184 non-null  object \n",
      " 33  Price                 37658 non-null  float64\n",
      "dtypes: float64(10), int64(2), object(22)\n",
      "memory usage: 11.0+ MB\n"
     ]
    }
   ],
   "source": [
    "df_parsed = pd.read_csv('Data/parsed_car_data__17_55__02_02_2022.csv')\n",
    "df_parsed.info()"
   ],
   "metadata": {
    "collapsed": false,
    "pycharm": {
     "name": "#%%\n"
    }
   }
  },
  {
   "cell_type": "code",
   "execution_count": 105,
   "outputs": [
    {
     "data": {
      "text/plain": "(30426, 34)"
     },
     "execution_count": 105,
     "metadata": {},
     "output_type": "execute_result"
    }
   ],
   "source": [
    "df_parsed[~df_parsed['bodyType'].isna() & ~df_parsed['Price'].isna()].shape"
   ],
   "metadata": {
    "collapsed": false,
    "pycharm": {
     "name": "#%%\n"
    }
   }
  },
  {
   "cell_type": "markdown",
   "source": [
    "So we have ~30_000 (potentially) useful records for training. It is comparable with test set size (~35_000) - not bad and there is a hope."
   ],
   "metadata": {
    "collapsed": false,
    "pycharm": {
     "name": "#%% md\n"
    }
   }
  },
  {
   "cell_type": "markdown",
   "source": [
    "## Trials"
   ],
   "metadata": {
    "collapsed": false,
    "pycharm": {
     "name": "#%% md\n"
    }
   }
  },
  {
   "cell_type": "code",
   "execution_count": 86,
   "outputs": [
    {
     "data": {
      "text/plain": "'2655000'"
     },
     "execution_count": 86,
     "metadata": {},
     "output_type": "execute_result"
    }
   ],
   "source": [
    "resp = requests.get('https://auto.ru/cars/new/group/skoda/karoq/22535699/22687243/1106682611-cf692f2d/')\n",
    "car_page = BeautifulSoup(resp.content.decode('utf-8'), 'html.parser')\n",
    "\n",
    "''.join(re.findall('\\d', car_page.find('span', class_='OfferPriceCaption__price').text))"
   ],
   "metadata": {
    "collapsed": false,
    "pycharm": {
     "name": "#%%\n"
    }
   }
  },
  {
   "cell_type": "code",
   "execution_count": null,
   "outputs": [],
   "source": [],
   "metadata": {
    "collapsed": false,
    "pycharm": {
     "name": "#%%\n"
    }
   }
  }
 ],
 "metadata": {
  "kernelspec": {
   "display_name": "Python 3",
   "language": "python",
   "name": "python3"
  },
  "language_info": {
   "codemirror_mode": {
    "name": "ipython",
    "version": 2
   },
   "file_extension": ".py",
   "mimetype": "text/x-python",
   "name": "python",
   "nbconvert_exporter": "python",
   "pygments_lexer": "ipython2",
   "version": "2.7.6"
  }
 },
 "nbformat": 4,
 "nbformat_minor": 0
}